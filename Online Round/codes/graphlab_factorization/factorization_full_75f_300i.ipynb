{
 "cells": [
  {
   "cell_type": "markdown",
   "metadata": {},
   "source": [
    "# 1. LOADING"
   ]
  },
  {
   "cell_type": "code",
   "execution_count": 1,
   "metadata": {
    "collapsed": false,
    "scrolled": true
   },
   "outputs": [],
   "source": [
    "# import packages\n",
    "import pandas as pd\n",
    "import graphlab as gl\n",
    "from sklearn import metrics\n",
    "from scipy import stats"
   ]
  },
  {
   "cell_type": "code",
   "execution_count": 2,
   "metadata": {
    "collapsed": false,
    "scrolled": true
   },
   "outputs": [
    {
     "data": {
      "text/plain": [
       "(2339529, 61)"
      ]
     },
     "execution_count": 2,
     "metadata": {},
     "output_type": "execute_result"
    }
   ],
   "source": [
    "# load the data\n",
    "path = \"/Users/Kozodoi/Documents/Competitions/DSG_2017/\"\n",
    "data = pd.read_csv(path + \"data/data_full.csv\")\n",
    "data.shape"
   ]
  },
  {
   "cell_type": "code",
   "execution_count": 3,
   "metadata": {
    "collapsed": false
   },
   "outputs": [
    {
     "data": {
      "text/plain": [
       "Index([u'user_id', u'context_type', u'media_id', u'artist_id', u'genre_id',\n",
       "       u'album_id', u'platform_name', u'platform_family', u'media_duration',\n",
       "       u'listen_type', u'user_gender', u'user_age', u'is_listened',\n",
       "       u'sample_id', u'dataset', u'row_index', u'song_rank', u'song_bpm',\n",
       "       u'song_position', u'song_lyrics_explicit', u'song_gain', u'album_fans',\n",
       "       u'favorite_artist', u'favorite_album', u'radio_selecter', u'session_id',\n",
       "       u'time_lag_lag1', u'time_lag_lag2', u'song_session_position',\n",
       "       u'first_flow', u'time_diff_release_listen', u'hour_of_day', u'weekday',\n",
       "       u'release_year', u'is_listened_lag1', u'is_listened_lag2',\n",
       "       u'user_skip_ratio_last3', u'user_skip_ratio_last5',\n",
       "       u'user_skip_ratio_last10', u'context_type_same_as_lag',\n",
       "       u'genre_equal_last_song', u'artist_equal_last_song',\n",
       "       u'album_equal_last_song', u'genre_plays', u'genre_skips',\n",
       "       u'artist_plays', u'artist_skips', u'album_plays', u'album_skips',\n",
       "       u'song_plays', u'song_skips', u'user_ratio_flow', u'user_ratio_full',\n",
       "       u'genre_ratio', u'artist_ratio', u'song_ratio', u'context_ratio',\n",
       "       u'user_genre_ratio', u'user_artist_ratio', u'user_song_ratio',\n",
       "       u'user_context_ratio'],\n",
       "      dtype='object')"
      ]
     },
     "execution_count": 3,
     "metadata": {},
     "output_type": "execute_result"
    }
   ],
   "source": [
    "# print variable names\n",
    "#data.columns"
   ]
  },
  {
   "cell_type": "markdown",
   "metadata": {},
   "source": [
    "# 2. DATA PREPARATION"
   ]
  },
  {
   "cell_type": "code",
   "execution_count": 4,
   "metadata": {
    "collapsed": false
   },
   "outputs": [],
   "source": [
    "# converting factors to strings\n",
    "data[\"user_id\"]   = data.user_id.astype(str)\n",
    "data[\"media_id\"]  = data.media_id.astype(str)\n",
    "data[\"album_id\"]  = data.album_id.astype(str)\n",
    "data[\"artist_id\"] = data.artist_id.astype(str)\n",
    "data[\"genre_id\"]  = data.genre_id.astype(str)\n",
    "data[\"context_type\"]    = data.context_type.astype(str)\n",
    "data[\"listen_type\"]     = data.listen_type.astype(str)\n",
    "data[\"first_flow\"]      = data.first_flow.astype(str)\n",
    "data[\"platform_name\"]   = data.platform_name.astype(str)\n",
    "data[\"platform_family\"] = data.platform_family.astype(str)\n",
    "data[\"user_gender\"]  = data.user_gender.astype(str)\n",
    "data[\"release_year\"] = data.release_year.astype(str)\n",
    "data[\"hour_of_day\"]  = data.hour_of_day.astype(str)\n",
    "data[\"weekday\"]      = data.weekday.astype(str)\n",
    "data[\"favorite_artist\"] = data.favorite_artist.astype(str)\n",
    "data[\"favorite_album\"]  = data.favorite_album.astype(str)\n",
    "data[\"song_lyrics_explicit\"]  = data.song_lyrics_explicit.astype(str)"
   ]
  },
  {
   "cell_type": "code",
   "execution_count": 5,
   "metadata": {
    "collapsed": false,
    "scrolled": true
   },
   "outputs": [
    {
     "name": "stdout",
     "output_type": "stream",
     "text": [
      "train: (2279790, 61)\n",
      "test: (39821, 61)\n",
      "known: (2319611, 61)\n",
      "unknown: (19918, 61)\n"
     ]
    }
   ],
   "source": [
    "# data partitioning\n",
    "tr = data.query(\"dataset == 'train'\")\n",
    "ts = data.query(\"dataset == 'test'\")\n",
    "kn = data.query(\"dataset != 'unknown'\")\n",
    "un = data.query(\"dataset == 'unknown'\")\n",
    "\n",
    "# print data sizes\n",
    "print(\"train: \"   + str(tr.shape))\n",
    "print(\"test: \"    + str(ts.shape))\n",
    "print(\"known: \"   + str(kn.shape))\n",
    "print(\"unknown: \" + str(un.shape))"
   ]
  },
  {
   "cell_type": "code",
   "execution_count": 6,
   "metadata": {
    "collapsed": false,
    "scrolled": true
   },
   "outputs": [
    {
     "name": "stdout",
     "output_type": "stream",
     "text": [
      "This non-commercial license of GraphLab Create for academic use is assigned to kozodoin@hu-berlin.de and will expire on May 12, 2018.\n"
     ]
    },
    {
     "name": "stderr",
     "output_type": "stream",
     "text": [
      "[INFO] graphlab.cython.cy_server: GraphLab Create v2.1 started. Logging: /tmp/graphlab_server_1495358225.log\n"
     ]
    }
   ],
   "source": [
    "# data sets with user-media interactions\n",
    "tr_listen = gl.SFrame(tr[[\"media_id\", \"user_id\", \"is_listened\", \"context_type\", \"platform_name\"]])\n",
    "ts_listen = gl.SFrame(ts[[\"media_id\", \"user_id\", \"is_listened\", \"context_type\", \"platform_name\"]])\n",
    "kn_listen = gl.SFrame(kn[[\"media_id\", \"user_id\", \"is_listened\", \"context_type\", \"platform_name\"]])\n",
    "un_listen = gl.SFrame(un[[\"media_id\", \"user_id\", \"is_listened\", \"context_type\", \"platform_name\"]])"
   ]
  },
  {
   "cell_type": "code",
   "execution_count": 7,
   "metadata": {
    "collapsed": false
   },
   "outputs": [],
   "source": [
    "# additional user-level and media-level data\n",
    "user_data = data.groupby([\"user_id\"]).head(1)\n",
    "song_data = data.groupby([\"media_id\"]).head(1)\n",
    "\n",
    "# clearing the memory\n",
    "data = \"Null\"\n",
    "tr   = \"Null\"\n",
    "kn   = \"Null\"\n",
    "\n",
    "# converting data sets\n",
    "user_data = gl.SFrame(user_data[[\"user_id\", \"user_gender\", \"user_age\", \"user_ratio_flow\", \"user_ratio_full\"]])\n",
    "song_data = gl.SFrame(song_data[[\"media_id\", \"genre_id\", \"artist_id\", \"release_year\", \"media_duration\"]])"
   ]
  },
  {
   "cell_type": "markdown",
   "metadata": {},
   "source": [
    "# 3. MODELING"
   ]
  },
  {
   "cell_type": "code",
   "execution_count": 10,
   "metadata": {
    "collapsed": true
   },
   "outputs": [],
   "source": [
    "# model parameters\n",
    "n_factors = 75\n",
    "m_epochs = 300\n",
    "regular = 1e-5"
   ]
  },
  {
   "cell_type": "markdown",
   "metadata": {},
   "source": [
    "## 3.1. TRAINING-VALIDATION"
   ]
  },
  {
   "cell_type": "code",
   "execution_count": 9,
   "metadata": {
    "collapsed": false
   },
   "outputs": [
    {
     "data": {
      "text/html": [
       "<pre>Recsys training: model = factorization_recommender</pre>"
      ],
      "text/plain": [
       "Recsys training: model = factorization_recommender"
      ]
     },
     "metadata": {},
     "output_type": "display_data"
    },
    {
     "data": {
      "text/html": [
       "<pre>Preparing data set.</pre>"
      ],
      "text/plain": [
       "Preparing data set."
      ]
     },
     "metadata": {},
     "output_type": "display_data"
    },
    {
     "data": {
      "text/html": [
       "<pre>    Data has 2279790 observations with 13250 users and 79311 items.</pre>"
      ],
      "text/plain": [
       "    Data has 2279790 observations with 13250 users and 79311 items."
      ]
     },
     "metadata": {},
     "output_type": "display_data"
    },
    {
     "data": {
      "text/html": [
       "<pre>    Data prepared in: 6.50472s</pre>"
      ],
      "text/plain": [
       "    Data prepared in: 6.50472s"
      ]
     },
     "metadata": {},
     "output_type": "display_data"
    },
    {
     "data": {
      "text/html": [
       "<pre>Training factorization_recommender for recommendations.</pre>"
      ],
      "text/plain": [
       "Training factorization_recommender for recommendations."
      ]
     },
     "metadata": {},
     "output_type": "display_data"
    },
    {
     "data": {
      "text/html": [
       "<pre>+--------------------------------+--------------------------------------------------+----------+</pre>"
      ],
      "text/plain": [
       "+--------------------------------+--------------------------------------------------+----------+"
      ]
     },
     "metadata": {},
     "output_type": "display_data"
    },
    {
     "data": {
      "text/html": [
       "<pre>| Parameter                      | Description                                      | Value    |</pre>"
      ],
      "text/plain": [
       "| Parameter                      | Description                                      | Value    |"
      ]
     },
     "metadata": {},
     "output_type": "display_data"
    },
    {
     "data": {
      "text/html": [
       "<pre>+--------------------------------+--------------------------------------------------+----------+</pre>"
      ],
      "text/plain": [
       "+--------------------------------+--------------------------------------------------+----------+"
      ]
     },
     "metadata": {},
     "output_type": "display_data"
    },
    {
     "data": {
      "text/html": [
       "<pre>| num_factors                    | Factor Dimension                                 | 50       |</pre>"
      ],
      "text/plain": [
       "| num_factors                    | Factor Dimension                                 | 50       |"
      ]
     },
     "metadata": {},
     "output_type": "display_data"
    },
    {
     "data": {
      "text/html": [
       "<pre>| regularization                 | L2 Regularization on Factors                     | 1e-05    |</pre>"
      ],
      "text/plain": [
       "| regularization                 | L2 Regularization on Factors                     | 1e-05    |"
      ]
     },
     "metadata": {},
     "output_type": "display_data"
    },
    {
     "data": {
      "text/html": [
       "<pre>| solver                         | Solver used for training                         | adagrad  |</pre>"
      ],
      "text/plain": [
       "| solver                         | Solver used for training                         | adagrad  |"
      ]
     },
     "metadata": {},
     "output_type": "display_data"
    },
    {
     "data": {
      "text/html": [
       "<pre>| linear_regularization          | L2 Regularization on Linear Coefficients         | 1e-10    |</pre>"
      ],
      "text/plain": [
       "| linear_regularization          | L2 Regularization on Linear Coefficients         | 1e-10    |"
      ]
     },
     "metadata": {},
     "output_type": "display_data"
    },
    {
     "data": {
      "text/html": [
       "<pre>| binary_target                  | Assume Binary Targets                            | True     |</pre>"
      ],
      "text/plain": [
       "| binary_target                  | Assume Binary Targets                            | True     |"
      ]
     },
     "metadata": {},
     "output_type": "display_data"
    },
    {
     "data": {
      "text/html": [
       "<pre>| side_data_factorization        | Assign Factors for Side Data                     | True     |</pre>"
      ],
      "text/plain": [
       "| side_data_factorization        | Assign Factors for Side Data                     | True     |"
      ]
     },
     "metadata": {},
     "output_type": "display_data"
    },
    {
     "data": {
      "text/html": [
       "<pre>| max_iterations                 | Maximum Number of Iterations                     | 300      |</pre>"
      ],
      "text/plain": [
       "| max_iterations                 | Maximum Number of Iterations                     | 300      |"
      ]
     },
     "metadata": {},
     "output_type": "display_data"
    },
    {
     "data": {
      "text/html": [
       "<pre>+--------------------------------+--------------------------------------------------+----------+</pre>"
      ],
      "text/plain": [
       "+--------------------------------+--------------------------------------------------+----------+"
      ]
     },
     "metadata": {},
     "output_type": "display_data"
    },
    {
     "data": {
      "text/html": [
       "<pre>  Optimizing model using SGD; tuning step size.</pre>"
      ],
      "text/plain": [
       "  Optimizing model using SGD; tuning step size."
      ]
     },
     "metadata": {},
     "output_type": "display_data"
    },
    {
     "data": {
      "text/html": [
       "<pre>  Using 284973 / 2279790 points for tuning the step size.</pre>"
      ],
      "text/plain": [
       "  Using 284973 / 2279790 points for tuning the step size."
      ]
     },
     "metadata": {},
     "output_type": "display_data"
    },
    {
     "data": {
      "text/html": [
       "<pre>+---------+-------------------+------------------------------------------+</pre>"
      ],
      "text/plain": [
       "+---------+-------------------+------------------------------------------+"
      ]
     },
     "metadata": {},
     "output_type": "display_data"
    },
    {
     "data": {
      "text/html": [
       "<pre>| Attempt | Initial Step Size | Estimated Objective Value                |</pre>"
      ],
      "text/plain": [
       "| Attempt | Initial Step Size | Estimated Objective Value                |"
      ]
     },
     "metadata": {},
     "output_type": "display_data"
    },
    {
     "data": {
      "text/html": [
       "<pre>+---------+-------------------+------------------------------------------+</pre>"
      ],
      "text/plain": [
       "+---------+-------------------+------------------------------------------+"
      ]
     },
     "metadata": {},
     "output_type": "display_data"
    },
    {
     "data": {
      "text/html": [
       "<pre>| 0       | 2.77778           | Not Viable                               |</pre>"
      ],
      "text/plain": [
       "| 0       | 2.77778           | Not Viable                               |"
      ]
     },
     "metadata": {},
     "output_type": "display_data"
    },
    {
     "data": {
      "text/html": [
       "<pre>| 1       | 0.694444          | Not Viable                               |</pre>"
      ],
      "text/plain": [
       "| 1       | 0.694444          | Not Viable                               |"
      ]
     },
     "metadata": {},
     "output_type": "display_data"
    },
    {
     "data": {
      "text/html": [
       "<pre>| 2       | 0.173611          | 0.620619                                 |</pre>"
      ],
      "text/plain": [
       "| 2       | 0.173611          | 0.620619                                 |"
      ]
     },
     "metadata": {},
     "output_type": "display_data"
    },
    {
     "data": {
      "text/html": [
       "<pre>| 3       | 0.0868056         | 0.53251                                  |</pre>"
      ],
      "text/plain": [
       "| 3       | 0.0868056         | 0.53251                                  |"
      ]
     },
     "metadata": {},
     "output_type": "display_data"
    },
    {
     "data": {
      "text/html": [
       "<pre>| 4       | 0.0434028         | 0.455212                                 |</pre>"
      ],
      "text/plain": [
       "| 4       | 0.0434028         | 0.455212                                 |"
      ]
     },
     "metadata": {},
     "output_type": "display_data"
    },
    {
     "data": {
      "text/html": [
       "<pre>| 5       | 0.0217014         | 0.420611                                 |</pre>"
      ],
      "text/plain": [
       "| 5       | 0.0217014         | 0.420611                                 |"
      ]
     },
     "metadata": {},
     "output_type": "display_data"
    },
    {
     "data": {
      "text/html": [
       "<pre>| 6       | 0.0108507         | 0.438246                                 |</pre>"
      ],
      "text/plain": [
       "| 6       | 0.0108507         | 0.438246                                 |"
      ]
     },
     "metadata": {},
     "output_type": "display_data"
    },
    {
     "data": {
      "text/html": [
       "<pre>| 7       | 0.00542535        | 0.455685                                 |</pre>"
      ],
      "text/plain": [
       "| 7       | 0.00542535        | 0.455685                                 |"
      ]
     },
     "metadata": {},
     "output_type": "display_data"
    },
    {
     "data": {
      "text/html": [
       "<pre>| 8       | 0.00271267        | 0.472286                                 |</pre>"
      ],
      "text/plain": [
       "| 8       | 0.00271267        | 0.472286                                 |"
      ]
     },
     "metadata": {},
     "output_type": "display_data"
    },
    {
     "data": {
      "text/html": [
       "<pre>+---------+-------------------+------------------------------------------+</pre>"
      ],
      "text/plain": [
       "+---------+-------------------+------------------------------------------+"
      ]
     },
     "metadata": {},
     "output_type": "display_data"
    },
    {
     "data": {
      "text/html": [
       "<pre>| Final   | 0.0217014         | 0.420611                                 |</pre>"
      ],
      "text/plain": [
       "| Final   | 0.0217014         | 0.420611                                 |"
      ]
     },
     "metadata": {},
     "output_type": "display_data"
    },
    {
     "data": {
      "text/html": [
       "<pre>+---------+-------------------+------------------------------------------+</pre>"
      ],
      "text/plain": [
       "+---------+-------------------+------------------------------------------+"
      ]
     },
     "metadata": {},
     "output_type": "display_data"
    },
    {
     "data": {
      "text/html": [
       "<pre>Starting Optimization.</pre>"
      ],
      "text/plain": [
       "Starting Optimization."
      ]
     },
     "metadata": {},
     "output_type": "display_data"
    },
    {
     "data": {
      "text/html": [
       "<pre>+---------+--------------+-------------------+-----------------------------------+-------------+</pre>"
      ],
      "text/plain": [
       "+---------+--------------+-------------------+-----------------------------------+-------------+"
      ]
     },
     "metadata": {},
     "output_type": "display_data"
    },
    {
     "data": {
      "text/html": [
       "<pre>| Iter.   | Elapsed Time | Approx. Objective | Approx. Training Predictive Error | Step Size   |</pre>"
      ],
      "text/plain": [
       "| Iter.   | Elapsed Time | Approx. Objective | Approx. Training Predictive Error | Step Size   |"
      ]
     },
     "metadata": {},
     "output_type": "display_data"
    },
    {
     "data": {
      "text/html": [
       "<pre>+---------+--------------+-------------------+-----------------------------------+-------------+</pre>"
      ],
      "text/plain": [
       "+---------+--------------+-------------------+-----------------------------------+-------------+"
      ]
     },
     "metadata": {},
     "output_type": "display_data"
    },
    {
     "data": {
      "text/html": [
       "<pre>| Initial | 98us         | 0.677434          | 0.677434                          |             |</pre>"
      ],
      "text/plain": [
       "| Initial | 98us         | 0.677434          | 0.677434                          |             |"
      ]
     },
     "metadata": {},
     "output_type": "display_data"
    },
    {
     "data": {
      "text/html": [
       "<pre>+---------+--------------+-------------------+-----------------------------------+-------------+</pre>"
      ],
      "text/plain": [
       "+---------+--------------+-------------------+-----------------------------------+-------------+"
      ]
     },
     "metadata": {},
     "output_type": "display_data"
    },
    {
     "data": {
      "text/html": [
       "<pre>| 1       | 14.15s       | 0.527541          | 0.463157                          | 0.0217014   |</pre>"
      ],
      "text/plain": [
       "| 1       | 14.15s       | 0.527541          | 0.463157                          | 0.0217014   |"
      ]
     },
     "metadata": {},
     "output_type": "display_data"
    },
    {
     "data": {
      "text/html": [
       "<pre>| 2       | 28.01s       | 0.492049          | 0.440858                          | 0.0217014   |</pre>"
      ],
      "text/plain": [
       "| 2       | 28.01s       | 0.492049          | 0.440858                          | 0.0217014   |"
      ]
     },
     "metadata": {},
     "output_type": "display_data"
    },
    {
     "data": {
      "text/html": [
       "<pre>| 3       | 41.20s       | 0.481259          | 0.433514                          | 0.0217014   |</pre>"
      ],
      "text/plain": [
       "| 3       | 41.20s       | 0.481259          | 0.433514                          | 0.0217014   |"
      ]
     },
     "metadata": {},
     "output_type": "display_data"
    },
    {
     "data": {
      "text/html": [
       "<pre>| 4       | 54.44s       | 0.474811          | 0.428396                          | 0.0217014   |</pre>"
      ],
      "text/plain": [
       "| 4       | 54.44s       | 0.474811          | 0.428396                          | 0.0217014   |"
      ]
     },
     "metadata": {},
     "output_type": "display_data"
    },
    {
     "data": {
      "text/html": [
       "<pre>| 5       | 1m 7s        | 0.470463          | 0.424699                          | 0.0217014   |</pre>"
      ],
      "text/plain": [
       "| 5       | 1m 7s        | 0.470463          | 0.424699                          | 0.0217014   |"
      ]
     },
     "metadata": {},
     "output_type": "display_data"
    },
    {
     "data": {
      "text/html": [
       "<pre>| 6       | 1m 21s       | 0.467028          | 0.421669                          | 0.0217014   |</pre>"
      ],
      "text/plain": [
       "| 6       | 1m 21s       | 0.467028          | 0.421669                          | 0.0217014   |"
      ]
     },
     "metadata": {},
     "output_type": "display_data"
    },
    {
     "data": {
      "text/html": [
       "<pre>| 7       | 1m 34s       | 0.464334          | 0.419259                          | 0.0217014   |</pre>"
      ],
      "text/plain": [
       "| 7       | 1m 34s       | 0.464334          | 0.419259                          | 0.0217014   |"
      ]
     },
     "metadata": {},
     "output_type": "display_data"
    },
    {
     "data": {
      "text/html": [
       "<pre>| 8       | 1m 47s       | 0.461978          | 0.417179                          | 0.0217014   |</pre>"
      ],
      "text/plain": [
       "| 8       | 1m 47s       | 0.461978          | 0.417179                          | 0.0217014   |"
      ]
     },
     "metadata": {},
     "output_type": "display_data"
    },
    {
     "data": {
      "text/html": [
       "<pre>| 9       | 2m 0s        | 0.460085          | 0.41552                           | 0.0217014   |</pre>"
      ],
      "text/plain": [
       "| 9       | 2m 0s        | 0.460085          | 0.41552                           | 0.0217014   |"
      ]
     },
     "metadata": {},
     "output_type": "display_data"
    },
    {
     "data": {
      "text/html": [
       "<pre>| 10      | 2m 13s       | 0.458406          | 0.414053                          | 0.0217014   |</pre>"
      ],
      "text/plain": [
       "| 10      | 2m 13s       | 0.458406          | 0.414053                          | 0.0217014   |"
      ]
     },
     "metadata": {},
     "output_type": "display_data"
    },
    {
     "data": {
      "text/html": [
       "<pre>| 11      | 2m 27s       | 0.456888          | 0.412747                          | 0.0217014   |</pre>"
      ],
      "text/plain": [
       "| 11      | 2m 27s       | 0.456888          | 0.412747                          | 0.0217014   |"
      ]
     },
     "metadata": {},
     "output_type": "display_data"
    },
    {
     "data": {
      "text/html": [
       "<pre>| 12      | 2m 40s       | 0.455505          | 0.41158                           | 0.0217014   |</pre>"
      ],
      "text/plain": [
       "| 12      | 2m 40s       | 0.455505          | 0.41158                           | 0.0217014   |"
      ]
     },
     "metadata": {},
     "output_type": "display_data"
    },
    {
     "data": {
      "text/html": [
       "<pre>| 13      | 2m 54s       | 0.454359          | 0.410627                          | 0.0217014   |</pre>"
      ],
      "text/plain": [
       "| 13      | 2m 54s       | 0.454359          | 0.410627                          | 0.0217014   |"
      ]
     },
     "metadata": {},
     "output_type": "display_data"
    },
    {
     "data": {
      "text/html": [
       "<pre>| 14      | 3m 7s        | 0.453238          | 0.409703                          | 0.0217014   |</pre>"
      ],
      "text/plain": [
       "| 14      | 3m 7s        | 0.453238          | 0.409703                          | 0.0217014   |"
      ]
     },
     "metadata": {},
     "output_type": "display_data"
    },
    {
     "data": {
      "text/html": [
       "<pre>| 15      | 3m 20s       | 0.452218          | 0.408871                          | 0.0217014   |</pre>"
      ],
      "text/plain": [
       "| 15      | 3m 20s       | 0.452218          | 0.408871                          | 0.0217014   |"
      ]
     },
     "metadata": {},
     "output_type": "display_data"
    },
    {
     "data": {
      "text/html": [
       "<pre>| 16      | 3m 34s       | 0.451246          | 0.408077                          | 0.0217014   |</pre>"
      ],
      "text/plain": [
       "| 16      | 3m 34s       | 0.451246          | 0.408077                          | 0.0217014   |"
      ]
     },
     "metadata": {},
     "output_type": "display_data"
    },
    {
     "data": {
      "text/html": [
       "<pre>| 17      | 3m 47s       | 0.450391          | 0.407393                          | 0.0217014   |</pre>"
      ],
      "text/plain": [
       "| 17      | 3m 47s       | 0.450391          | 0.407393                          | 0.0217014   |"
      ]
     },
     "metadata": {},
     "output_type": "display_data"
    },
    {
     "data": {
      "text/html": [
       "<pre>| 18      | 4m 0s        | 0.449556          | 0.406722                          | 0.0217014   |</pre>"
      ],
      "text/plain": [
       "| 18      | 4m 0s        | 0.449556          | 0.406722                          | 0.0217014   |"
      ]
     },
     "metadata": {},
     "output_type": "display_data"
    },
    {
     "data": {
      "text/html": [
       "<pre>| 19      | 4m 13s       | 0.448797          | 0.406117                          | 0.0217014   |</pre>"
      ],
      "text/plain": [
       "| 19      | 4m 13s       | 0.448797          | 0.406117                          | 0.0217014   |"
      ]
     },
     "metadata": {},
     "output_type": "display_data"
    },
    {
     "data": {
      "text/html": [
       "<pre>| 20      | 4m 26s       | 0.448062          | 0.405531                          | 0.0217014   |</pre>"
      ],
      "text/plain": [
       "| 20      | 4m 26s       | 0.448062          | 0.405531                          | 0.0217014   |"
      ]
     },
     "metadata": {},
     "output_type": "display_data"
    },
    {
     "data": {
      "text/html": [
       "<pre>| 21      | 4m 39s       | 0.447398          | 0.405003                          | 0.0217014   |</pre>"
      ],
      "text/plain": [
       "| 21      | 4m 39s       | 0.447398          | 0.405003                          | 0.0217014   |"
      ]
     },
     "metadata": {},
     "output_type": "display_data"
    },
    {
     "data": {
      "text/html": [
       "<pre>| 22      | 4m 53s       | 0.446688          | 0.404429                          | 0.0217014   |</pre>"
      ],
      "text/plain": [
       "| 22      | 4m 53s       | 0.446688          | 0.404429                          | 0.0217014   |"
      ]
     },
     "metadata": {},
     "output_type": "display_data"
    },
    {
     "data": {
      "text/html": [
       "<pre>| 23      | 5m 6s        | 0.446083          | 0.403949                          | 0.0217014   |</pre>"
      ],
      "text/plain": [
       "| 23      | 5m 6s        | 0.446083          | 0.403949                          | 0.0217014   |"
      ]
     },
     "metadata": {},
     "output_type": "display_data"
    },
    {
     "data": {
      "text/html": [
       "<pre>| 24      | 5m 19s       | 0.445498          | 0.403482                          | 0.0217014   |</pre>"
      ],
      "text/plain": [
       "| 24      | 5m 19s       | 0.445498          | 0.403482                          | 0.0217014   |"
      ]
     },
     "metadata": {},
     "output_type": "display_data"
    },
    {
     "data": {
      "text/html": [
       "<pre>| 25      | 5m 32s       | 0.444961          | 0.403056                          | 0.0217014   |</pre>"
      ],
      "text/plain": [
       "| 25      | 5m 32s       | 0.444961          | 0.403056                          | 0.0217014   |"
      ]
     },
     "metadata": {},
     "output_type": "display_data"
    },
    {
     "data": {
      "text/html": [
       "<pre>| 26      | 5m 45s       | 0.444423          | 0.402621                          | 0.0217014   |</pre>"
      ],
      "text/plain": [
       "| 26      | 5m 45s       | 0.444423          | 0.402621                          | 0.0217014   |"
      ]
     },
     "metadata": {},
     "output_type": "display_data"
    },
    {
     "data": {
      "text/html": [
       "<pre>| 27      | 5m 58s       | 0.443885          | 0.402184                          | 0.0217014   |</pre>"
      ],
      "text/plain": [
       "| 27      | 5m 58s       | 0.443885          | 0.402184                          | 0.0217014   |"
      ]
     },
     "metadata": {},
     "output_type": "display_data"
    },
    {
     "data": {
      "text/html": [
       "<pre>| 28      | 6m 11s       | 0.443429          | 0.401809                          | 0.0217014   |</pre>"
      ],
      "text/plain": [
       "| 28      | 6m 11s       | 0.443429          | 0.401809                          | 0.0217014   |"
      ]
     },
     "metadata": {},
     "output_type": "display_data"
    },
    {
     "data": {
      "text/html": [
       "<pre>| 29      | 6m 24s       | 0.442961          | 0.401425                          | 0.0217014   |</pre>"
      ],
      "text/plain": [
       "| 29      | 6m 24s       | 0.442961          | 0.401425                          | 0.0217014   |"
      ]
     },
     "metadata": {},
     "output_type": "display_data"
    },
    {
     "data": {
      "text/html": [
       "<pre>| 30      | 6m 37s       | 0.442489          | 0.401032                          | 0.0217014   |</pre>"
      ],
      "text/plain": [
       "| 30      | 6m 37s       | 0.442489          | 0.401032                          | 0.0217014   |"
      ]
     },
     "metadata": {},
     "output_type": "display_data"
    },
    {
     "data": {
      "text/html": [
       "<pre>| 31      | 6m 49s       | 0.442104          | 0.400718                          | 0.0217014   |</pre>"
      ],
      "text/plain": [
       "| 31      | 6m 49s       | 0.442104          | 0.400718                          | 0.0217014   |"
      ]
     },
     "metadata": {},
     "output_type": "display_data"
    },
    {
     "data": {
      "text/html": [
       "<pre>| 32      | 7m 3s        | 0.441683          | 0.400357                          | 0.0217014   |</pre>"
      ],
      "text/plain": [
       "| 32      | 7m 3s        | 0.441683          | 0.400357                          | 0.0217014   |"
      ]
     },
     "metadata": {},
     "output_type": "display_data"
    },
    {
     "data": {
      "text/html": [
       "<pre>| 33      | 7m 15s       | 0.44125           | 0.399983                          | 0.0217014   |</pre>"
      ],
      "text/plain": [
       "| 33      | 7m 15s       | 0.44125           | 0.399983                          | 0.0217014   |"
      ]
     },
     "metadata": {},
     "output_type": "display_data"
    },
    {
     "data": {
      "text/html": [
       "<pre>| 34      | 7m 29s       | 0.440887          | 0.399674                          | 0.0217014   |</pre>"
      ],
      "text/plain": [
       "| 34      | 7m 29s       | 0.440887          | 0.399674                          | 0.0217014   |"
      ]
     },
     "metadata": {},
     "output_type": "display_data"
    },
    {
     "data": {
      "text/html": [
       "<pre>| 35      | 7m 43s       | 0.44049           | 0.39933                           | 0.0217014   |</pre>"
      ],
      "text/plain": [
       "| 35      | 7m 43s       | 0.44049           | 0.39933                           | 0.0217014   |"
      ]
     },
     "metadata": {},
     "output_type": "display_data"
    },
    {
     "data": {
      "text/html": [
       "<pre>| 36      | 7m 56s       | 0.440117          | 0.399004                          | 0.0217014   |</pre>"
      ],
      "text/plain": [
       "| 36      | 7m 56s       | 0.440117          | 0.399004                          | 0.0217014   |"
      ]
     },
     "metadata": {},
     "output_type": "display_data"
    },
    {
     "data": {
      "text/html": [
       "<pre>| 37      | 8m 8s        | 0.439773          | 0.398704                          | 0.0217014   |</pre>"
      ],
      "text/plain": [
       "| 37      | 8m 8s        | 0.439773          | 0.398704                          | 0.0217014   |"
      ]
     },
     "metadata": {},
     "output_type": "display_data"
    },
    {
     "data": {
      "text/html": [
       "<pre>| 38      | 8m 22s       | 0.439428          | 0.398402                          | 0.0217014   |</pre>"
      ],
      "text/plain": [
       "| 38      | 8m 22s       | 0.439428          | 0.398402                          | 0.0217014   |"
      ]
     },
     "metadata": {},
     "output_type": "display_data"
    },
    {
     "data": {
      "text/html": [
       "<pre>| 39      | 8m 35s       | 0.439135          | 0.398142                          | 0.0217014   |</pre>"
      ],
      "text/plain": [
       "| 39      | 8m 35s       | 0.439135          | 0.398142                          | 0.0217014   |"
      ]
     },
     "metadata": {},
     "output_type": "display_data"
    },
    {
     "data": {
      "text/html": [
       "<pre>| 40      | 8m 48s       | 0.43878           | 0.397817                          | 0.0217014   |</pre>"
      ],
      "text/plain": [
       "| 40      | 8m 48s       | 0.43878           | 0.397817                          | 0.0217014   |"
      ]
     },
     "metadata": {},
     "output_type": "display_data"
    },
    {
     "data": {
      "text/html": [
       "<pre>| 41      | 9m 1s        | 0.43845           | 0.397519                          | 0.0217014   |</pre>"
      ],
      "text/plain": [
       "| 41      | 9m 1s        | 0.43845           | 0.397519                          | 0.0217014   |"
      ]
     },
     "metadata": {},
     "output_type": "display_data"
    },
    {
     "data": {
      "text/html": [
       "<pre>| 42      | 9m 14s       | 0.438144          | 0.397241                          | 0.0217014   |</pre>"
      ],
      "text/plain": [
       "| 42      | 9m 14s       | 0.438144          | 0.397241                          | 0.0217014   |"
      ]
     },
     "metadata": {},
     "output_type": "display_data"
    },
    {
     "data": {
      "text/html": [
       "<pre>| 43      | 9m 26s       | 0.43787           | 0.396989                          | 0.0217014   |</pre>"
      ],
      "text/plain": [
       "| 43      | 9m 26s       | 0.43787           | 0.396989                          | 0.0217014   |"
      ]
     },
     "metadata": {},
     "output_type": "display_data"
    },
    {
     "data": {
      "text/html": [
       "<pre>| 44      | 9m 40s       | 0.437571          | 0.396709                          | 0.0217014   |</pre>"
      ],
      "text/plain": [
       "| 44      | 9m 40s       | 0.437571          | 0.396709                          | 0.0217014   |"
      ]
     },
     "metadata": {},
     "output_type": "display_data"
    },
    {
     "data": {
      "text/html": [
       "<pre>| 45      | 9m 52s       | 0.437296          | 0.39645                           | 0.0217014   |</pre>"
      ],
      "text/plain": [
       "| 45      | 9m 52s       | 0.437296          | 0.39645                           | 0.0217014   |"
      ]
     },
     "metadata": {},
     "output_type": "display_data"
    },
    {
     "data": {
      "text/html": [
       "<pre>| 46      | 10m 6s       | 0.437044          | 0.396212                          | 0.0217014   |</pre>"
      ],
      "text/plain": [
       "| 46      | 10m 6s       | 0.437044          | 0.396212                          | 0.0217014   |"
      ]
     },
     "metadata": {},
     "output_type": "display_data"
    },
    {
     "data": {
      "text/html": [
       "<pre>| 47      | 10m 18s      | 0.436762          | 0.395941                          | 0.0217014   |</pre>"
      ],
      "text/plain": [
       "| 47      | 10m 18s      | 0.436762          | 0.395941                          | 0.0217014   |"
      ]
     },
     "metadata": {},
     "output_type": "display_data"
    },
    {
     "data": {
      "text/html": [
       "<pre>| 48      | 10m 32s      | 0.436513          | 0.395699                          | 0.0217014   |</pre>"
      ],
      "text/plain": [
       "| 48      | 10m 32s      | 0.436513          | 0.395699                          | 0.0217014   |"
      ]
     },
     "metadata": {},
     "output_type": "display_data"
    },
    {
     "data": {
      "text/html": [
       "<pre>| 49      | 10m 45s      | 0.436273          | 0.395463                          | 0.0217014   |</pre>"
      ],
      "text/plain": [
       "| 49      | 10m 45s      | 0.436273          | 0.395463                          | 0.0217014   |"
      ]
     },
     "metadata": {},
     "output_type": "display_data"
    },
    {
     "data": {
      "text/html": [
       "<pre>| 50      | 10m 58s      | 0.436021          | 0.395211                          | 0.0217014   |</pre>"
      ],
      "text/plain": [
       "| 50      | 10m 58s      | 0.436021          | 0.395211                          | 0.0217014   |"
      ]
     },
     "metadata": {},
     "output_type": "display_data"
    },
    {
     "data": {
      "text/html": [
       "<pre>| 51      | 11m 11s      | 0.43577           | 0.394965                          | 0.0217014   |</pre>"
      ],
      "text/plain": [
       "| 51      | 11m 11s      | 0.43577           | 0.394965                          | 0.0217014   |"
      ]
     },
     "metadata": {},
     "output_type": "display_data"
    },
    {
     "data": {
      "text/html": [
       "<pre>| 52      | 11m 24s      | 0.435503          | 0.394699                          | 0.0217014   |</pre>"
      ],
      "text/plain": [
       "| 52      | 11m 24s      | 0.435503          | 0.394699                          | 0.0217014   |"
      ]
     },
     "metadata": {},
     "output_type": "display_data"
    },
    {
     "data": {
      "text/html": [
       "<pre>| 53      | 11m 37s      | 0.435289          | 0.394487                          | 0.0217014   |</pre>"
      ],
      "text/plain": [
       "| 53      | 11m 37s      | 0.435289          | 0.394487                          | 0.0217014   |"
      ]
     },
     "metadata": {},
     "output_type": "display_data"
    },
    {
     "data": {
      "text/html": [
       "<pre>| 54      | 11m 51s      | 0.435077          | 0.394268                          | 0.0217014   |</pre>"
      ],
      "text/plain": [
       "| 54      | 11m 51s      | 0.435077          | 0.394268                          | 0.0217014   |"
      ]
     },
     "metadata": {},
     "output_type": "display_data"
    },
    {
     "data": {
      "text/html": [
       "<pre>| 55      | 12m 6s       | 0.434877          | 0.394064                          | 0.0217014   |</pre>"
      ],
      "text/plain": [
       "| 55      | 12m 6s       | 0.434877          | 0.394064                          | 0.0217014   |"
      ]
     },
     "metadata": {},
     "output_type": "display_data"
    },
    {
     "data": {
      "text/html": [
       "<pre>| 56      | 12m 19s      | 0.434667          | 0.393844                          | 0.0217014   |</pre>"
      ],
      "text/plain": [
       "| 56      | 12m 19s      | 0.434667          | 0.393844                          | 0.0217014   |"
      ]
     },
     "metadata": {},
     "output_type": "display_data"
    },
    {
     "data": {
      "text/html": [
       "<pre>| 57      | 12m 33s      | 0.434446          | 0.393615                          | 0.0217014   |</pre>"
      ],
      "text/plain": [
       "| 57      | 12m 33s      | 0.434446          | 0.393615                          | 0.0217014   |"
      ]
     },
     "metadata": {},
     "output_type": "display_data"
    },
    {
     "data": {
      "text/html": [
       "<pre>| 58      | 12m 45s      | 0.434246          | 0.393402                          | 0.0217014   |</pre>"
      ],
      "text/plain": [
       "| 58      | 12m 45s      | 0.434246          | 0.393402                          | 0.0217014   |"
      ]
     },
     "metadata": {},
     "output_type": "display_data"
    },
    {
     "data": {
      "text/html": [
       "<pre>| 59      | 12m 58s      | 0.434058          | 0.393204                          | 0.0217014   |</pre>"
      ],
      "text/plain": [
       "| 59      | 12m 58s      | 0.434058          | 0.393204                          | 0.0217014   |"
      ]
     },
     "metadata": {},
     "output_type": "display_data"
    },
    {
     "data": {
      "text/html": [
       "<pre>| 60      | 13m 12s      | 0.433868          | 0.393                             | 0.0217014   |</pre>"
      ],
      "text/plain": [
       "| 60      | 13m 12s      | 0.433868          | 0.393                             | 0.0217014   |"
      ]
     },
     "metadata": {},
     "output_type": "display_data"
    },
    {
     "data": {
      "text/html": [
       "<pre>| 61      | 13m 25s      | 0.433652          | 0.39277                           | 0.0217014   |</pre>"
      ],
      "text/plain": [
       "| 61      | 13m 25s      | 0.433652          | 0.39277                           | 0.0217014   |"
      ]
     },
     "metadata": {},
     "output_type": "display_data"
    },
    {
     "data": {
      "text/html": [
       "<pre>| 62      | 13m 37s      | 0.433469          | 0.392568                          | 0.0217014   |</pre>"
      ],
      "text/plain": [
       "| 62      | 13m 37s      | 0.433469          | 0.392568                          | 0.0217014   |"
      ]
     },
     "metadata": {},
     "output_type": "display_data"
    },
    {
     "data": {
      "text/html": [
       "<pre>| 63      | 13m 51s      | 0.433289          | 0.392371                          | 0.0217014   |</pre>"
      ],
      "text/plain": [
       "| 63      | 13m 51s      | 0.433289          | 0.392371                          | 0.0217014   |"
      ]
     },
     "metadata": {},
     "output_type": "display_data"
    },
    {
     "data": {
      "text/html": [
       "<pre>| 64      | 14m 5s       | 0.433106          | 0.392167                          | 0.0217014   |</pre>"
      ],
      "text/plain": [
       "| 64      | 14m 5s       | 0.433106          | 0.392167                          | 0.0217014   |"
      ]
     },
     "metadata": {},
     "output_type": "display_data"
    },
    {
     "data": {
      "text/html": [
       "<pre>| 65      | 14m 18s      | 0.432911          | 0.391954                          | 0.0217014   |</pre>"
      ],
      "text/plain": [
       "| 65      | 14m 18s      | 0.432911          | 0.391954                          | 0.0217014   |"
      ]
     },
     "metadata": {},
     "output_type": "display_data"
    },
    {
     "data": {
      "text/html": [
       "<pre>| 66      | 14m 32s      | 0.432726          | 0.391748                          | 0.0217014   |</pre>"
      ],
      "text/plain": [
       "| 66      | 14m 32s      | 0.432726          | 0.391748                          | 0.0217014   |"
      ]
     },
     "metadata": {},
     "output_type": "display_data"
    },
    {
     "data": {
      "text/html": [
       "<pre>| 67      | 14m 44s      | 0.432556          | 0.391557                          | 0.0217014   |</pre>"
      ],
      "text/plain": [
       "| 67      | 14m 44s      | 0.432556          | 0.391557                          | 0.0217014   |"
      ]
     },
     "metadata": {},
     "output_type": "display_data"
    },
    {
     "data": {
      "text/html": [
       "<pre>| 68      | 14m 57s      | 0.432394          | 0.391372                          | 0.0217014   |</pre>"
      ],
      "text/plain": [
       "| 68      | 14m 57s      | 0.432394          | 0.391372                          | 0.0217014   |"
      ]
     },
     "metadata": {},
     "output_type": "display_data"
    },
    {
     "data": {
      "text/html": [
       "<pre>| 69      | 15m 10s      | 0.432226          | 0.391178                          | 0.0217014   |</pre>"
      ],
      "text/plain": [
       "| 69      | 15m 10s      | 0.432226          | 0.391178                          | 0.0217014   |"
      ]
     },
     "metadata": {},
     "output_type": "display_data"
    },
    {
     "data": {
      "text/html": [
       "<pre>| 70      | 15m 24s      | 0.432084          | 0.391011                          | 0.0217014   |</pre>"
      ],
      "text/plain": [
       "| 70      | 15m 24s      | 0.432084          | 0.391011                          | 0.0217014   |"
      ]
     },
     "metadata": {},
     "output_type": "display_data"
    },
    {
     "data": {
      "text/html": [
       "<pre>| 71      | 15m 36s      | 0.431921          | 0.390821                          | 0.0217014   |</pre>"
      ],
      "text/plain": [
       "| 71      | 15m 36s      | 0.431921          | 0.390821                          | 0.0217014   |"
      ]
     },
     "metadata": {},
     "output_type": "display_data"
    },
    {
     "data": {
      "text/html": [
       "<pre>| 72      | 15m 50s      | 0.431741          | 0.390615                          | 0.0217014   |</pre>"
      ],
      "text/plain": [
       "| 72      | 15m 50s      | 0.431741          | 0.390615                          | 0.0217014   |"
      ]
     },
     "metadata": {},
     "output_type": "display_data"
    },
    {
     "data": {
      "text/html": [
       "<pre>| 73      | 16m 4s       | 0.431611          | 0.390456                          | 0.0217014   |</pre>"
      ],
      "text/plain": [
       "| 73      | 16m 4s       | 0.431611          | 0.390456                          | 0.0217014   |"
      ]
     },
     "metadata": {},
     "output_type": "display_data"
    },
    {
     "data": {
      "text/html": [
       "<pre>| 74      | 16m 18s      | 0.431443          | 0.390259                          | 0.0217014   |</pre>"
      ],
      "text/plain": [
       "| 74      | 16m 18s      | 0.431443          | 0.390259                          | 0.0217014   |"
      ]
     },
     "metadata": {},
     "output_type": "display_data"
    },
    {
     "data": {
      "text/html": [
       "<pre>| 75      | 16m 31s      | 0.431309          | 0.390098                          | 0.0217014   |</pre>"
      ],
      "text/plain": [
       "| 75      | 16m 31s      | 0.431309          | 0.390098                          | 0.0217014   |"
      ]
     },
     "metadata": {},
     "output_type": "display_data"
    },
    {
     "data": {
      "text/html": [
       "<pre>| 76      | 16m 44s      | 0.431163          | 0.389922                          | 0.0217014   |</pre>"
      ],
      "text/plain": [
       "| 76      | 16m 44s      | 0.431163          | 0.389922                          | 0.0217014   |"
      ]
     },
     "metadata": {},
     "output_type": "display_data"
    },
    {
     "data": {
      "text/html": [
       "<pre>| 77      | 16m 57s      | 0.431009          | 0.389736                          | 0.0217014   |</pre>"
      ],
      "text/plain": [
       "| 77      | 16m 57s      | 0.431009          | 0.389736                          | 0.0217014   |"
      ]
     },
     "metadata": {},
     "output_type": "display_data"
    },
    {
     "data": {
      "text/html": [
       "<pre>| 78      | 17m 11s      | 0.430844          | 0.38954                           | 0.0217014   |</pre>"
      ],
      "text/plain": [
       "| 78      | 17m 11s      | 0.430844          | 0.38954                           | 0.0217014   |"
      ]
     },
     "metadata": {},
     "output_type": "display_data"
    },
    {
     "data": {
      "text/html": [
       "<pre>| 79      | 17m 24s      | 0.430734          | 0.389401                          | 0.0217014   |</pre>"
      ],
      "text/plain": [
       "| 79      | 17m 24s      | 0.430734          | 0.389401                          | 0.0217014   |"
      ]
     },
     "metadata": {},
     "output_type": "display_data"
    },
    {
     "data": {
      "text/html": [
       "<pre>| 80      | 17m 38s      | 0.430569          | 0.389202                          | 0.0217014   |</pre>"
      ],
      "text/plain": [
       "| 80      | 17m 38s      | 0.430569          | 0.389202                          | 0.0217014   |"
      ]
     },
     "metadata": {},
     "output_type": "display_data"
    },
    {
     "data": {
      "text/html": [
       "<pre>| 81      | 17m 54s      | 0.430459          | 0.389056                          | 0.0217014   |</pre>"
      ],
      "text/plain": [
       "| 81      | 17m 54s      | 0.430459          | 0.389056                          | 0.0217014   |"
      ]
     },
     "metadata": {},
     "output_type": "display_data"
    },
    {
     "data": {
      "text/html": [
       "<pre>| 82      | 18m 10s      | 0.430312          | 0.388879                          | 0.0217014   |</pre>"
      ],
      "text/plain": [
       "| 82      | 18m 10s      | 0.430312          | 0.388879                          | 0.0217014   |"
      ]
     },
     "metadata": {},
     "output_type": "display_data"
    },
    {
     "data": {
      "text/html": [
       "<pre>| 83      | 18m 27s      | 0.4302            | 0.38873                           | 0.0217014   |</pre>"
      ],
      "text/plain": [
       "| 83      | 18m 27s      | 0.4302            | 0.38873                           | 0.0217014   |"
      ]
     },
     "metadata": {},
     "output_type": "display_data"
    },
    {
     "data": {
      "text/html": [
       "<pre>| 84      | 18m 43s      | 0.430024          | 0.388518                          | 0.0217014   |</pre>"
      ],
      "text/plain": [
       "| 84      | 18m 43s      | 0.430024          | 0.388518                          | 0.0217014   |"
      ]
     },
     "metadata": {},
     "output_type": "display_data"
    },
    {
     "data": {
      "text/html": [
       "<pre>| 85      | 18m 57s      | 0.429895          | 0.388356                          | 0.0217014   |</pre>"
      ],
      "text/plain": [
       "| 85      | 18m 57s      | 0.429895          | 0.388356                          | 0.0217014   |"
      ]
     },
     "metadata": {},
     "output_type": "display_data"
    },
    {
     "data": {
      "text/html": [
       "<pre>| 86      | 19m 13s      | 0.429783          | 0.388211                          | 0.0217014   |</pre>"
      ],
      "text/plain": [
       "| 86      | 19m 13s      | 0.429783          | 0.388211                          | 0.0217014   |"
      ]
     },
     "metadata": {},
     "output_type": "display_data"
    },
    {
     "data": {
      "text/html": [
       "<pre>| 87      | 19m 30s      | 0.42966           | 0.388049                          | 0.0217014   |</pre>"
      ],
      "text/plain": [
       "| 87      | 19m 30s      | 0.42966           | 0.388049                          | 0.0217014   |"
      ]
     },
     "metadata": {},
     "output_type": "display_data"
    },
    {
     "data": {
      "text/html": [
       "<pre>| 88      | 19m 45s      | 0.429542          | 0.387896                          | 0.0217014   |</pre>"
      ],
      "text/plain": [
       "| 88      | 19m 45s      | 0.429542          | 0.387896                          | 0.0217014   |"
      ]
     },
     "metadata": {},
     "output_type": "display_data"
    },
    {
     "data": {
      "text/html": [
       "<pre>| 89      | 20m 0s       | 0.429444          | 0.387761                          | 0.0217014   |</pre>"
      ],
      "text/plain": [
       "| 89      | 20m 0s       | 0.429444          | 0.387761                          | 0.0217014   |"
      ]
     },
     "metadata": {},
     "output_type": "display_data"
    },
    {
     "data": {
      "text/html": [
       "<pre>| 90      | 20m 16s      | 0.429279          | 0.387558                          | 0.0217014   |</pre>"
      ],
      "text/plain": [
       "| 90      | 20m 16s      | 0.429279          | 0.387558                          | 0.0217014   |"
      ]
     },
     "metadata": {},
     "output_type": "display_data"
    },
    {
     "data": {
      "text/html": [
       "<pre>| 91      | 20m 31s      | 0.429194          | 0.387434                          | 0.0217014   |</pre>"
      ],
      "text/plain": [
       "| 91      | 20m 31s      | 0.429194          | 0.387434                          | 0.0217014   |"
      ]
     },
     "metadata": {},
     "output_type": "display_data"
    },
    {
     "data": {
      "text/html": [
       "<pre>| 92      | 20m 48s      | 0.429098          | 0.387299                          | 0.0217014   |</pre>"
      ],
      "text/plain": [
       "| 92      | 20m 48s      | 0.429098          | 0.387299                          | 0.0217014   |"
      ]
     },
     "metadata": {},
     "output_type": "display_data"
    },
    {
     "data": {
      "text/html": [
       "<pre>| 93      | 21m 4s       | 0.428973          | 0.387134                          | 0.0217014   |</pre>"
      ],
      "text/plain": [
       "| 93      | 21m 4s       | 0.428973          | 0.387134                          | 0.0217014   |"
      ]
     },
     "metadata": {},
     "output_type": "display_data"
    },
    {
     "data": {
      "text/html": [
       "<pre>| 94      | 21m 19s      | 0.428863          | 0.386985                          | 0.0217014   |</pre>"
      ],
      "text/plain": [
       "| 94      | 21m 19s      | 0.428863          | 0.386985                          | 0.0217014   |"
      ]
     },
     "metadata": {},
     "output_type": "display_data"
    },
    {
     "data": {
      "text/html": [
       "<pre>| 95      | 21m 34s      | 0.42876           | 0.386844                          | 0.0217014   |</pre>"
      ],
      "text/plain": [
       "| 95      | 21m 34s      | 0.42876           | 0.386844                          | 0.0217014   |"
      ]
     },
     "metadata": {},
     "output_type": "display_data"
    },
    {
     "data": {
      "text/html": [
       "<pre>| 96      | 21m 48s      | 0.428629          | 0.38667                           | 0.0217014   |</pre>"
      ],
      "text/plain": [
       "| 96      | 21m 48s      | 0.428629          | 0.38667                           | 0.0217014   |"
      ]
     },
     "metadata": {},
     "output_type": "display_data"
    },
    {
     "data": {
      "text/html": [
       "<pre>| 97      | 22m 1s       | 0.42851           | 0.38651                           | 0.0217014   |</pre>"
      ],
      "text/plain": [
       "| 97      | 22m 1s       | 0.42851           | 0.38651                           | 0.0217014   |"
      ]
     },
     "metadata": {},
     "output_type": "display_data"
    },
    {
     "data": {
      "text/html": [
       "<pre>| 98      | 22m 14s      | 0.428399          | 0.386361                          | 0.0217014   |</pre>"
      ],
      "text/plain": [
       "| 98      | 22m 14s      | 0.428399          | 0.386361                          | 0.0217014   |"
      ]
     },
     "metadata": {},
     "output_type": "display_data"
    },
    {
     "data": {
      "text/html": [
       "<pre>| 99      | 22m 28s      | 0.428275          | 0.386195                          | 0.0217014   |</pre>"
      ],
      "text/plain": [
       "| 99      | 22m 28s      | 0.428275          | 0.386195                          | 0.0217014   |"
      ]
     },
     "metadata": {},
     "output_type": "display_data"
    },
    {
     "data": {
      "text/html": [
       "<pre>| 100     | 22m 41s      | 0.428169          | 0.386049                          | 0.0217014   |</pre>"
      ],
      "text/plain": [
       "| 100     | 22m 41s      | 0.428169          | 0.386049                          | 0.0217014   |"
      ]
     },
     "metadata": {},
     "output_type": "display_data"
    },
    {
     "data": {
      "text/html": [
       "<pre>| 101     | 22m 56s      | 0.428101          | 0.385936                          | 0.0217014   |</pre>"
      ],
      "text/plain": [
       "| 101     | 22m 56s      | 0.428101          | 0.385936                          | 0.0217014   |"
      ]
     },
     "metadata": {},
     "output_type": "display_data"
    },
    {
     "data": {
      "text/html": [
       "<pre>| 102     | 23m 11s      | 0.427971          | 0.385761                          | 0.0217014   |</pre>"
      ],
      "text/plain": [
       "| 102     | 23m 11s      | 0.427971          | 0.385761                          | 0.0217014   |"
      ]
     },
     "metadata": {},
     "output_type": "display_data"
    },
    {
     "data": {
      "text/html": [
       "<pre>| 103     | 23m 26s      | 0.42787           | 0.385619                          | 0.0217014   |</pre>"
      ],
      "text/plain": [
       "| 103     | 23m 26s      | 0.42787           | 0.385619                          | 0.0217014   |"
      ]
     },
     "metadata": {},
     "output_type": "display_data"
    },
    {
     "data": {
      "text/html": [
       "<pre>| 104     | 23m 41s      | 0.427772          | 0.385474                          | 0.0217014   |</pre>"
      ],
      "text/plain": [
       "| 104     | 23m 41s      | 0.427772          | 0.385474                          | 0.0217014   |"
      ]
     },
     "metadata": {},
     "output_type": "display_data"
    },
    {
     "data": {
      "text/html": [
       "<pre>| 105     | 23m 57s      | 0.42769           | 0.385352                          | 0.0217014   |</pre>"
      ],
      "text/plain": [
       "| 105     | 23m 57s      | 0.42769           | 0.385352                          | 0.0217014   |"
      ]
     },
     "metadata": {},
     "output_type": "display_data"
    },
    {
     "data": {
      "text/html": [
       "<pre>| 106     | 24m 11s      | 0.427586          | 0.385202                          | 0.0217014   |</pre>"
      ],
      "text/plain": [
       "| 106     | 24m 11s      | 0.427586          | 0.385202                          | 0.0217014   |"
      ]
     },
     "metadata": {},
     "output_type": "display_data"
    },
    {
     "data": {
      "text/html": [
       "<pre>| 107     | 24m 26s      | 0.427508          | 0.38508                           | 0.0217014   |</pre>"
      ],
      "text/plain": [
       "| 107     | 24m 26s      | 0.427508          | 0.38508                           | 0.0217014   |"
      ]
     },
     "metadata": {},
     "output_type": "display_data"
    },
    {
     "data": {
      "text/html": [
       "<pre>| 108     | 24m 40s      | 0.427417          | 0.384947                          | 0.0217014   |</pre>"
      ],
      "text/plain": [
       "| 108     | 24m 40s      | 0.427417          | 0.384947                          | 0.0217014   |"
      ]
     },
     "metadata": {},
     "output_type": "display_data"
    },
    {
     "data": {
      "text/html": [
       "<pre>| 109     | 24m 56s      | 0.427295          | 0.384782                          | 0.0217014   |</pre>"
      ],
      "text/plain": [
       "| 109     | 24m 56s      | 0.427295          | 0.384782                          | 0.0217014   |"
      ]
     },
     "metadata": {},
     "output_type": "display_data"
    },
    {
     "data": {
      "text/html": [
       "<pre>| 110     | 25m 11s      | 0.427206          | 0.384648                          | 0.0217014   |</pre>"
      ],
      "text/plain": [
       "| 110     | 25m 11s      | 0.427206          | 0.384648                          | 0.0217014   |"
      ]
     },
     "metadata": {},
     "output_type": "display_data"
    },
    {
     "data": {
      "text/html": [
       "<pre>| 111     | 25m 27s      | 0.42712           | 0.384517                          | 0.0217014   |</pre>"
      ],
      "text/plain": [
       "| 111     | 25m 27s      | 0.42712           | 0.384517                          | 0.0217014   |"
      ]
     },
     "metadata": {},
     "output_type": "display_data"
    },
    {
     "data": {
      "text/html": [
       "<pre>| 112     | 25m 43s      | 0.427016          | 0.384365                          | 0.0217014   |</pre>"
      ],
      "text/plain": [
       "| 112     | 25m 43s      | 0.427016          | 0.384365                          | 0.0217014   |"
      ]
     },
     "metadata": {},
     "output_type": "display_data"
    },
    {
     "data": {
      "text/html": [
       "<pre>| 113     | 25m 57s      | 0.426931          | 0.384237                          | 0.0217014   |</pre>"
      ],
      "text/plain": [
       "| 113     | 25m 57s      | 0.426931          | 0.384237                          | 0.0217014   |"
      ]
     },
     "metadata": {},
     "output_type": "display_data"
    },
    {
     "data": {
      "text/html": [
       "<pre>| 114     | 26m 11s      | 0.426812          | 0.384073                          | 0.0217014   |</pre>"
      ],
      "text/plain": [
       "| 114     | 26m 11s      | 0.426812          | 0.384073                          | 0.0217014   |"
      ]
     },
     "metadata": {},
     "output_type": "display_data"
    },
    {
     "data": {
      "text/html": [
       "<pre>| 115     | 26m 24s      | 0.426728          | 0.383946                          | 0.0217014   |</pre>"
      ],
      "text/plain": [
       "| 115     | 26m 24s      | 0.426728          | 0.383946                          | 0.0217014   |"
      ]
     },
     "metadata": {},
     "output_type": "display_data"
    },
    {
     "data": {
      "text/html": [
       "<pre>| 116     | 26m 37s      | 0.426647          | 0.383817                          | 0.0217014   |</pre>"
      ],
      "text/plain": [
       "| 116     | 26m 37s      | 0.426647          | 0.383817                          | 0.0217014   |"
      ]
     },
     "metadata": {},
     "output_type": "display_data"
    },
    {
     "data": {
      "text/html": [
       "<pre>| 117     | 26m 51s      | 0.426577          | 0.383702                          | 0.0217014   |</pre>"
      ],
      "text/plain": [
       "| 117     | 26m 51s      | 0.426577          | 0.383702                          | 0.0217014   |"
      ]
     },
     "metadata": {},
     "output_type": "display_data"
    },
    {
     "data": {
      "text/html": [
       "<pre>| 118     | 27m 5s       | 0.426478          | 0.383557                          | 0.0217014   |</pre>"
      ],
      "text/plain": [
       "| 118     | 27m 5s       | 0.426478          | 0.383557                          | 0.0217014   |"
      ]
     },
     "metadata": {},
     "output_type": "display_data"
    },
    {
     "data": {
      "text/html": [
       "<pre>| 119     | 27m 18s      | 0.426395          | 0.38343                           | 0.0217014   |</pre>"
      ],
      "text/plain": [
       "| 119     | 27m 18s      | 0.426395          | 0.38343                           | 0.0217014   |"
      ]
     },
     "metadata": {},
     "output_type": "display_data"
    },
    {
     "data": {
      "text/html": [
       "<pre>| 120     | 27m 31s      | 0.426304          | 0.383291                          | 0.0217014   |</pre>"
      ],
      "text/plain": [
       "| 120     | 27m 31s      | 0.426304          | 0.383291                          | 0.0217014   |"
      ]
     },
     "metadata": {},
     "output_type": "display_data"
    },
    {
     "data": {
      "text/html": [
       "<pre>| 121     | 27m 45s      | 0.426233          | 0.383171                          | 0.0217014   |</pre>"
      ],
      "text/plain": [
       "| 121     | 27m 45s      | 0.426233          | 0.383171                          | 0.0217014   |"
      ]
     },
     "metadata": {},
     "output_type": "display_data"
    },
    {
     "data": {
      "text/html": [
       "<pre>| 122     | 28m 0s       | 0.426125          | 0.383017                          | 0.0217014   |</pre>"
      ],
      "text/plain": [
       "| 122     | 28m 0s       | 0.426125          | 0.383017                          | 0.0217014   |"
      ]
     },
     "metadata": {},
     "output_type": "display_data"
    },
    {
     "data": {
      "text/html": [
       "<pre>| 123     | 28m 14s      | 0.426072          | 0.382916                          | 0.0217014   |</pre>"
      ],
      "text/plain": [
       "| 123     | 28m 14s      | 0.426072          | 0.382916                          | 0.0217014   |"
      ]
     },
     "metadata": {},
     "output_type": "display_data"
    },
    {
     "data": {
      "text/html": [
       "<pre>| 124     | 28m 27s      | 0.425977          | 0.382776                          | 0.0217014   |</pre>"
      ],
      "text/plain": [
       "| 124     | 28m 27s      | 0.425977          | 0.382776                          | 0.0217014   |"
      ]
     },
     "metadata": {},
     "output_type": "display_data"
    },
    {
     "data": {
      "text/html": [
       "<pre>| 125     | 28m 40s      | 0.4259            | 0.382652                          | 0.0217014   |</pre>"
      ],
      "text/plain": [
       "| 125     | 28m 40s      | 0.4259            | 0.382652                          | 0.0217014   |"
      ]
     },
     "metadata": {},
     "output_type": "display_data"
    },
    {
     "data": {
      "text/html": [
       "<pre>| 126     | 28m 55s      | 0.425842          | 0.382545                          | 0.0217014   |</pre>"
      ],
      "text/plain": [
       "| 126     | 28m 55s      | 0.425842          | 0.382545                          | 0.0217014   |"
      ]
     },
     "metadata": {},
     "output_type": "display_data"
    },
    {
     "data": {
      "text/html": [
       "<pre>| 127     | 29m 12s      | 0.425747          | 0.382406                          | 0.0217014   |</pre>"
      ],
      "text/plain": [
       "| 127     | 29m 12s      | 0.425747          | 0.382406                          | 0.0217014   |"
      ]
     },
     "metadata": {},
     "output_type": "display_data"
    },
    {
     "data": {
      "text/html": [
       "<pre>| 128     | 29m 32s      | 0.425675          | 0.382285                          | 0.0217014   |</pre>"
      ],
      "text/plain": [
       "| 128     | 29m 32s      | 0.425675          | 0.382285                          | 0.0217014   |"
      ]
     },
     "metadata": {},
     "output_type": "display_data"
    },
    {
     "data": {
      "text/html": [
       "<pre>| 129     | 29m 49s      | 0.425578          | 0.382143                          | 0.0217014   |</pre>"
      ],
      "text/plain": [
       "| 129     | 29m 49s      | 0.425578          | 0.382143                          | 0.0217014   |"
      ]
     },
     "metadata": {},
     "output_type": "display_data"
    },
    {
     "data": {
      "text/html": [
       "<pre>| 130     | 30m 5s       | 0.425507          | 0.382025                          | 0.0217014   |</pre>"
      ],
      "text/plain": [
       "| 130     | 30m 5s       | 0.425507          | 0.382025                          | 0.0217014   |"
      ]
     },
     "metadata": {},
     "output_type": "display_data"
    },
    {
     "data": {
      "text/html": [
       "<pre>| 131     | 30m 23s      | 0.425425          | 0.381894                          | 0.0217014   |</pre>"
      ],
      "text/plain": [
       "| 131     | 30m 23s      | 0.425425          | 0.381894                          | 0.0217014   |"
      ]
     },
     "metadata": {},
     "output_type": "display_data"
    },
    {
     "data": {
      "text/html": [
       "<pre>| 132     | 30m 41s      | 0.42534           | 0.381758                          | 0.0217014   |</pre>"
      ],
      "text/plain": [
       "| 132     | 30m 41s      | 0.42534           | 0.381758                          | 0.0217014   |"
      ]
     },
     "metadata": {},
     "output_type": "display_data"
    },
    {
     "data": {
      "text/html": [
       "<pre>| 133     | 30m 57s      | 0.42526           | 0.38163                           | 0.0217014   |</pre>"
      ],
      "text/plain": [
       "| 133     | 30m 57s      | 0.42526           | 0.38163                           | 0.0217014   |"
      ]
     },
     "metadata": {},
     "output_type": "display_data"
    },
    {
     "data": {
      "text/html": [
       "<pre>| 134     | 31m 14s      | 0.425224          | 0.381548                          | 0.0217014   |</pre>"
      ],
      "text/plain": [
       "| 134     | 31m 14s      | 0.425224          | 0.381548                          | 0.0217014   |"
      ]
     },
     "metadata": {},
     "output_type": "display_data"
    },
    {
     "data": {
      "text/html": [
       "<pre>| 135     | 31m 31s      | 0.425119          | 0.381397                          | 0.0217014   |</pre>"
      ],
      "text/plain": [
       "| 135     | 31m 31s      | 0.425119          | 0.381397                          | 0.0217014   |"
      ]
     },
     "metadata": {},
     "output_type": "display_data"
    },
    {
     "data": {
      "text/html": [
       "<pre>| 136     | 31m 50s      | 0.425049          | 0.381278                          | 0.0217014   |</pre>"
      ],
      "text/plain": [
       "| 136     | 31m 50s      | 0.425049          | 0.381278                          | 0.0217014   |"
      ]
     },
     "metadata": {},
     "output_type": "display_data"
    },
    {
     "data": {
      "text/html": [
       "<pre>| 137     | 32m 6s       | 0.42494           | 0.381121                          | 0.0217014   |</pre>"
      ],
      "text/plain": [
       "| 137     | 32m 6s       | 0.42494           | 0.381121                          | 0.0217014   |"
      ]
     },
     "metadata": {},
     "output_type": "display_data"
    },
    {
     "data": {
      "text/html": [
       "<pre>| 138     | 32m 22s      | 0.424892          | 0.381026                          | 0.0217014   |</pre>"
      ],
      "text/plain": [
       "| 138     | 32m 22s      | 0.424892          | 0.381026                          | 0.0217014   |"
      ]
     },
     "metadata": {},
     "output_type": "display_data"
    },
    {
     "data": {
      "text/html": [
       "<pre>| 139     | 32m 39s      | 0.42484           | 0.380924                          | 0.0217014   |</pre>"
      ],
      "text/plain": [
       "| 139     | 32m 39s      | 0.42484           | 0.380924                          | 0.0217014   |"
      ]
     },
     "metadata": {},
     "output_type": "display_data"
    },
    {
     "data": {
      "text/html": [
       "<pre>| 140     | 32m 55s      | 0.424746          | 0.380783                          | 0.0217014   |</pre>"
      ],
      "text/plain": [
       "| 140     | 32m 55s      | 0.424746          | 0.380783                          | 0.0217014   |"
      ]
     },
     "metadata": {},
     "output_type": "display_data"
    },
    {
     "data": {
      "text/html": [
       "<pre>| 141     | 33m 12s      | 0.42469           | 0.380678                          | 0.0217014   |</pre>"
      ],
      "text/plain": [
       "| 141     | 33m 12s      | 0.42469           | 0.380678                          | 0.0217014   |"
      ]
     },
     "metadata": {},
     "output_type": "display_data"
    },
    {
     "data": {
      "text/html": [
       "<pre>| 142     | 33m 29s      | 0.424629          | 0.380566                          | 0.0217014   |</pre>"
      ],
      "text/plain": [
       "| 142     | 33m 29s      | 0.424629          | 0.380566                          | 0.0217014   |"
      ]
     },
     "metadata": {},
     "output_type": "display_data"
    },
    {
     "data": {
      "text/html": [
       "<pre>| 143     | 33m 46s      | 0.424524          | 0.380413                          | 0.0217014   |</pre>"
      ],
      "text/plain": [
       "| 143     | 33m 46s      | 0.424524          | 0.380413                          | 0.0217014   |"
      ]
     },
     "metadata": {},
     "output_type": "display_data"
    },
    {
     "data": {
      "text/html": [
       "<pre>| 144     | 34m 2s       | 0.424504          | 0.380344                          | 0.0217014   |</pre>"
      ],
      "text/plain": [
       "| 144     | 34m 2s       | 0.424504          | 0.380344                          | 0.0217014   |"
      ]
     },
     "metadata": {},
     "output_type": "display_data"
    },
    {
     "data": {
      "text/html": [
       "<pre>| 145     | 34m 15s      | 0.42443           | 0.38022                           | 0.0217014   |</pre>"
      ],
      "text/plain": [
       "| 145     | 34m 15s      | 0.42443           | 0.38022                           | 0.0217014   |"
      ]
     },
     "metadata": {},
     "output_type": "display_data"
    },
    {
     "data": {
      "text/html": [
       "<pre>| 146     | 34m 30s      | 0.424352          | 0.380093                          | 0.0217014   |</pre>"
      ],
      "text/plain": [
       "| 146     | 34m 30s      | 0.424352          | 0.380093                          | 0.0217014   |"
      ]
     },
     "metadata": {},
     "output_type": "display_data"
    },
    {
     "data": {
      "text/html": [
       "<pre>| 147     | 34m 47s      | 0.424296          | 0.379987                          | 0.0217014   |</pre>"
      ],
      "text/plain": [
       "| 147     | 34m 47s      | 0.424296          | 0.379987                          | 0.0217014   |"
      ]
     },
     "metadata": {},
     "output_type": "display_data"
    },
    {
     "data": {
      "text/html": [
       "<pre>| 148     | 35m 5s       | 0.424235          | 0.379881                          | 0.0217014   |</pre>"
      ],
      "text/plain": [
       "| 148     | 35m 5s       | 0.424235          | 0.379881                          | 0.0217014   |"
      ]
     },
     "metadata": {},
     "output_type": "display_data"
    },
    {
     "data": {
      "text/html": [
       "<pre>| 149     | 35m 23s      | 0.42416           | 0.379757                          | 0.0217014   |</pre>"
      ],
      "text/plain": [
       "| 149     | 35m 23s      | 0.42416           | 0.379757                          | 0.0217014   |"
      ]
     },
     "metadata": {},
     "output_type": "display_data"
    },
    {
     "data": {
      "text/html": [
       "<pre>| 150     | 35m 38s      | 0.424099          | 0.379647                          | 0.0217014   |</pre>"
      ],
      "text/plain": [
       "| 150     | 35m 38s      | 0.424099          | 0.379647                          | 0.0217014   |"
      ]
     },
     "metadata": {},
     "output_type": "display_data"
    },
    {
     "data": {
      "text/html": [
       "<pre>| 151     | 35m 52s      | 0.424026          | 0.379525                          | 0.0217014   |</pre>"
      ],
      "text/plain": [
       "| 151     | 35m 52s      | 0.424026          | 0.379525                          | 0.0217014   |"
      ]
     },
     "metadata": {},
     "output_type": "display_data"
    },
    {
     "data": {
      "text/html": [
       "<pre>| 152     | 36m 5s       | 0.423959          | 0.379412                          | 0.0217014   |</pre>"
      ],
      "text/plain": [
       "| 152     | 36m 5s       | 0.423959          | 0.379412                          | 0.0217014   |"
      ]
     },
     "metadata": {},
     "output_type": "display_data"
    },
    {
     "data": {
      "text/html": [
       "<pre>| 153     | 36m 19s      | 0.423881          | 0.379287                          | 0.0217014   |</pre>"
      ],
      "text/plain": [
       "| 153     | 36m 19s      | 0.423881          | 0.379287                          | 0.0217014   |"
      ]
     },
     "metadata": {},
     "output_type": "display_data"
    },
    {
     "data": {
      "text/html": [
       "<pre>| 154     | 36m 33s      | 0.423825          | 0.379182                          | 0.0217014   |</pre>"
      ],
      "text/plain": [
       "| 154     | 36m 33s      | 0.423825          | 0.379182                          | 0.0217014   |"
      ]
     },
     "metadata": {},
     "output_type": "display_data"
    },
    {
     "data": {
      "text/html": [
       "<pre>| 155     | 36m 48s      | 0.423734          | 0.379042                          | 0.0217014   |</pre>"
      ],
      "text/plain": [
       "| 155     | 36m 48s      | 0.423734          | 0.379042                          | 0.0217014   |"
      ]
     },
     "metadata": {},
     "output_type": "display_data"
    },
    {
     "data": {
      "text/html": [
       "<pre>| 156     | 37m 9s       | 0.423699          | 0.378959                          | 0.0217014   |</pre>"
      ],
      "text/plain": [
       "| 156     | 37m 9s       | 0.423699          | 0.378959                          | 0.0217014   |"
      ]
     },
     "metadata": {},
     "output_type": "display_data"
    },
    {
     "data": {
      "text/html": [
       "<pre>| 157     | 37m 40s      | 0.423641          | 0.378852                          | 0.0217014   |</pre>"
      ],
      "text/plain": [
       "| 157     | 37m 40s      | 0.423641          | 0.378852                          | 0.0217014   |"
      ]
     },
     "metadata": {},
     "output_type": "display_data"
    },
    {
     "data": {
      "text/html": [
       "<pre>| 158     | 38m 10s      | 0.423554          | 0.37872                           | 0.0217014   |</pre>"
      ],
      "text/plain": [
       "| 158     | 38m 10s      | 0.423554          | 0.37872                           | 0.0217014   |"
      ]
     },
     "metadata": {},
     "output_type": "display_data"
    },
    {
     "data": {
      "text/html": [
       "<pre>| 159     | 38m 26s      | 0.423496          | 0.378613                          | 0.0217014   |</pre>"
      ],
      "text/plain": [
       "| 159     | 38m 26s      | 0.423496          | 0.378613                          | 0.0217014   |"
      ]
     },
     "metadata": {},
     "output_type": "display_data"
    },
    {
     "data": {
      "text/html": [
       "<pre>| 160     | 38m 42s      | 0.423454          | 0.378521                          | 0.0217014   |</pre>"
      ],
      "text/plain": [
       "| 160     | 38m 42s      | 0.423454          | 0.378521                          | 0.0217014   |"
      ]
     },
     "metadata": {},
     "output_type": "display_data"
    },
    {
     "data": {
      "text/html": [
       "<pre>| 161     | 38m 58s      | 0.423384          | 0.378404                          | 0.0217014   |</pre>"
      ],
      "text/plain": [
       "| 161     | 38m 58s      | 0.423384          | 0.378404                          | 0.0217014   |"
      ]
     },
     "metadata": {},
     "output_type": "display_data"
    },
    {
     "data": {
      "text/html": [
       "<pre>| 162     | 39m 13s      | 0.423311          | 0.378283                          | 0.0217014   |</pre>"
      ],
      "text/plain": [
       "| 162     | 39m 13s      | 0.423311          | 0.378283                          | 0.0217014   |"
      ]
     },
     "metadata": {},
     "output_type": "display_data"
    },
    {
     "data": {
      "text/html": [
       "<pre>| 163     | 39m 30s      | 0.423272          | 0.378195                          | 0.0217014   |</pre>"
      ],
      "text/plain": [
       "| 163     | 39m 30s      | 0.423272          | 0.378195                          | 0.0217014   |"
      ]
     },
     "metadata": {},
     "output_type": "display_data"
    },
    {
     "data": {
      "text/html": [
       "<pre>| 164     | 39m 48s      | 0.42321           | 0.378084                          | 0.0217014   |</pre>"
      ],
      "text/plain": [
       "| 164     | 39m 48s      | 0.42321           | 0.378084                          | 0.0217014   |"
      ]
     },
     "metadata": {},
     "output_type": "display_data"
    },
    {
     "data": {
      "text/html": [
       "<pre>| 165     | 40m 6s       | 0.423149          | 0.377976                          | 0.0217014   |</pre>"
      ],
      "text/plain": [
       "| 165     | 40m 6s       | 0.423149          | 0.377976                          | 0.0217014   |"
      ]
     },
     "metadata": {},
     "output_type": "display_data"
    },
    {
     "data": {
      "text/html": [
       "<pre>| 166     | 40m 25s      | 0.423114          | 0.377893                          | 0.0217014   |</pre>"
      ],
      "text/plain": [
       "| 166     | 40m 25s      | 0.423114          | 0.377893                          | 0.0217014   |"
      ]
     },
     "metadata": {},
     "output_type": "display_data"
    },
    {
     "data": {
      "text/html": [
       "<pre>| 167     | 40m 43s      | 0.423042          | 0.377772                          | 0.0217014   |</pre>"
      ],
      "text/plain": [
       "| 167     | 40m 43s      | 0.423042          | 0.377772                          | 0.0217014   |"
      ]
     },
     "metadata": {},
     "output_type": "display_data"
    },
    {
     "data": {
      "text/html": [
       "<pre>| 168     | 41m 1s       | 0.422993          | 0.377675                          | 0.0217014   |</pre>"
      ],
      "text/plain": [
       "| 168     | 41m 1s       | 0.422993          | 0.377675                          | 0.0217014   |"
      ]
     },
     "metadata": {},
     "output_type": "display_data"
    },
    {
     "data": {
      "text/html": [
       "<pre>| 169     | 41m 18s      | 0.422934          | 0.377567                          | 0.0217014   |</pre>"
      ],
      "text/plain": [
       "| 169     | 41m 18s      | 0.422934          | 0.377567                          | 0.0217014   |"
      ]
     },
     "metadata": {},
     "output_type": "display_data"
    },
    {
     "data": {
      "text/html": [
       "<pre>| 170     | 41m 34s      | 0.422866          | 0.377451                          | 0.0217014   |</pre>"
      ],
      "text/plain": [
       "| 170     | 41m 34s      | 0.422866          | 0.377451                          | 0.0217014   |"
      ]
     },
     "metadata": {},
     "output_type": "display_data"
    },
    {
     "data": {
      "text/html": [
       "<pre>| 171     | 41m 52s      | 0.422821          | 0.377356                          | 0.0217014   |</pre>"
      ],
      "text/plain": [
       "| 171     | 41m 52s      | 0.422821          | 0.377356                          | 0.0217014   |"
      ]
     },
     "metadata": {},
     "output_type": "display_data"
    },
    {
     "data": {
      "text/html": [
       "<pre>| 172     | 42m 8s       | 0.42273           | 0.377216                          | 0.0217014   |</pre>"
      ],
      "text/plain": [
       "| 172     | 42m 8s       | 0.42273           | 0.377216                          | 0.0217014   |"
      ]
     },
     "metadata": {},
     "output_type": "display_data"
    },
    {
     "data": {
      "text/html": [
       "<pre>| 173     | 42m 22s      | 0.422706          | 0.377146                          | 0.0217014   |</pre>"
      ],
      "text/plain": [
       "| 173     | 42m 22s      | 0.422706          | 0.377146                          | 0.0217014   |"
      ]
     },
     "metadata": {},
     "output_type": "display_data"
    },
    {
     "data": {
      "text/html": [
       "<pre>| 174     | 42m 35s      | 0.422608          | 0.377001                          | 0.0217014   |</pre>"
      ],
      "text/plain": [
       "| 174     | 42m 35s      | 0.422608          | 0.377001                          | 0.0217014   |"
      ]
     },
     "metadata": {},
     "output_type": "display_data"
    },
    {
     "data": {
      "text/html": [
       "<pre>| 175     | 42m 49s      | 0.422582          | 0.376925                          | 0.0217014   |</pre>"
      ],
      "text/plain": [
       "| 175     | 42m 49s      | 0.422582          | 0.376925                          | 0.0217014   |"
      ]
     },
     "metadata": {},
     "output_type": "display_data"
    },
    {
     "data": {
      "text/html": [
       "<pre>| 176     | 43m 3s       | 0.422533          | 0.376831                          | 0.0217014   |</pre>"
      ],
      "text/plain": [
       "| 176     | 43m 3s       | 0.422533          | 0.376831                          | 0.0217014   |"
      ]
     },
     "metadata": {},
     "output_type": "display_data"
    },
    {
     "data": {
      "text/html": [
       "<pre>| 177     | 43m 17s      | 0.422456          | 0.376704                          | 0.0217014   |</pre>"
      ],
      "text/plain": [
       "| 177     | 43m 17s      | 0.422456          | 0.376704                          | 0.0217014   |"
      ]
     },
     "metadata": {},
     "output_type": "display_data"
    },
    {
     "data": {
      "text/html": [
       "<pre>| 178     | 43m 30s      | 0.422417          | 0.376616                          | 0.0217014   |</pre>"
      ],
      "text/plain": [
       "| 178     | 43m 30s      | 0.422417          | 0.376616                          | 0.0217014   |"
      ]
     },
     "metadata": {},
     "output_type": "display_data"
    },
    {
     "data": {
      "text/html": [
       "<pre>| 179     | 43m 44s      | 0.422354          | 0.376505                          | 0.0217014   |</pre>"
      ],
      "text/plain": [
       "| 179     | 43m 44s      | 0.422354          | 0.376505                          | 0.0217014   |"
      ]
     },
     "metadata": {},
     "output_type": "display_data"
    },
    {
     "data": {
      "text/html": [
       "<pre>| 180     | 43m 58s      | 0.422281          | 0.376385                          | 0.0217014   |</pre>"
      ],
      "text/plain": [
       "| 180     | 43m 58s      | 0.422281          | 0.376385                          | 0.0217014   |"
      ]
     },
     "metadata": {},
     "output_type": "display_data"
    },
    {
     "data": {
      "text/html": [
       "<pre>| 181     | 44m 20s      | 0.422271          | 0.376328                          | 0.0217014   |</pre>"
      ],
      "text/plain": [
       "| 181     | 44m 20s      | 0.422271          | 0.376328                          | 0.0217014   |"
      ]
     },
     "metadata": {},
     "output_type": "display_data"
    },
    {
     "data": {
      "text/html": [
       "<pre>| 182     | 44m 50s      | 0.422192          | 0.376202                          | 0.0217014   |</pre>"
      ],
      "text/plain": [
       "| 182     | 44m 50s      | 0.422192          | 0.376202                          | 0.0217014   |"
      ]
     },
     "metadata": {},
     "output_type": "display_data"
    },
    {
     "data": {
      "text/html": [
       "<pre>| 183     | 45m 16s      | 0.422149          | 0.376112                          | 0.0217014   |</pre>"
      ],
      "text/plain": [
       "| 183     | 45m 16s      | 0.422149          | 0.376112                          | 0.0217014   |"
      ]
     },
     "metadata": {},
     "output_type": "display_data"
    },
    {
     "data": {
      "text/html": [
       "<pre>| 184     | 45m 41s      | 0.422089          | 0.376003                          | 0.0217014   |</pre>"
      ],
      "text/plain": [
       "| 184     | 45m 41s      | 0.422089          | 0.376003                          | 0.0217014   |"
      ]
     },
     "metadata": {},
     "output_type": "display_data"
    },
    {
     "data": {
      "text/html": [
       "<pre>| 185     | 46m 5s       | 0.422061          | 0.375927                          | 0.0217014   |</pre>"
      ],
      "text/plain": [
       "| 185     | 46m 5s       | 0.422061          | 0.375927                          | 0.0217014   |"
      ]
     },
     "metadata": {},
     "output_type": "display_data"
    },
    {
     "data": {
      "text/html": [
       "<pre>| 186     | 46m 30s      | 0.421986          | 0.375805                          | 0.0217014   |</pre>"
      ],
      "text/plain": [
       "| 186     | 46m 30s      | 0.421986          | 0.375805                          | 0.0217014   |"
      ]
     },
     "metadata": {},
     "output_type": "display_data"
    },
    {
     "data": {
      "text/html": [
       "<pre>| 187     | 46m 47s      | 0.421929          | 0.375698                          | 0.0217014   |</pre>"
      ],
      "text/plain": [
       "| 187     | 46m 47s      | 0.421929          | 0.375698                          | 0.0217014   |"
      ]
     },
     "metadata": {},
     "output_type": "display_data"
    },
    {
     "data": {
      "text/html": [
       "<pre>| 188     | 47m 0s       | 0.421892          | 0.375612                          | 0.0217014   |</pre>"
      ],
      "text/plain": [
       "| 188     | 47m 0s       | 0.421892          | 0.375612                          | 0.0217014   |"
      ]
     },
     "metadata": {},
     "output_type": "display_data"
    },
    {
     "data": {
      "text/html": [
       "<pre>| 189     | 47m 13s      | 0.421824          | 0.375498                          | 0.0217014   |</pre>"
      ],
      "text/plain": [
       "| 189     | 47m 13s      | 0.421824          | 0.375498                          | 0.0217014   |"
      ]
     },
     "metadata": {},
     "output_type": "display_data"
    },
    {
     "data": {
      "text/html": [
       "<pre>| 190     | 47m 26s      | 0.421799          | 0.375427                          | 0.0217014   |</pre>"
      ],
      "text/plain": [
       "| 190     | 47m 26s      | 0.421799          | 0.375427                          | 0.0217014   |"
      ]
     },
     "metadata": {},
     "output_type": "display_data"
    },
    {
     "data": {
      "text/html": [
       "<pre>| 191     | 47m 39s      | 0.421734          | 0.375314                          | 0.0217014   |</pre>"
      ],
      "text/plain": [
       "| 191     | 47m 39s      | 0.421734          | 0.375314                          | 0.0217014   |"
      ]
     },
     "metadata": {},
     "output_type": "display_data"
    },
    {
     "data": {
      "text/html": [
       "<pre>| 192     | 47m 54s      | 0.42166           | 0.375194                          | 0.0217014   |</pre>"
      ],
      "text/plain": [
       "| 192     | 47m 54s      | 0.42166           | 0.375194                          | 0.0217014   |"
      ]
     },
     "metadata": {},
     "output_type": "display_data"
    },
    {
     "data": {
      "text/html": [
       "<pre>| 193     | 48m 10s      | 0.421628          | 0.375113                          | 0.0217014   |</pre>"
      ],
      "text/plain": [
       "| 193     | 48m 10s      | 0.421628          | 0.375113                          | 0.0217014   |"
      ]
     },
     "metadata": {},
     "output_type": "display_data"
    },
    {
     "data": {
      "text/html": [
       "<pre>| 194     | 48m 26s      | 0.421622          | 0.375061                          | 0.0217014   |</pre>"
      ],
      "text/plain": [
       "| 194     | 48m 26s      | 0.421622          | 0.375061                          | 0.0217014   |"
      ]
     },
     "metadata": {},
     "output_type": "display_data"
    },
    {
     "data": {
      "text/html": [
       "<pre>| 195     | 48m 38s      | 0.421551          | 0.374943                          | 0.0217014   |</pre>"
      ],
      "text/plain": [
       "| 195     | 48m 38s      | 0.421551          | 0.374943                          | 0.0217014   |"
      ]
     },
     "metadata": {},
     "output_type": "display_data"
    },
    {
     "data": {
      "text/html": [
       "<pre>| 196     | 48m 52s      | 0.4215            | 0.374844                          | 0.0217014   |</pre>"
      ],
      "text/plain": [
       "| 196     | 48m 52s      | 0.4215            | 0.374844                          | 0.0217014   |"
      ]
     },
     "metadata": {},
     "output_type": "display_data"
    },
    {
     "data": {
      "text/html": [
       "<pre>| 197     | 49m 5s       | 0.421468          | 0.374766                          | 0.0217014   |</pre>"
      ],
      "text/plain": [
       "| 197     | 49m 5s       | 0.421468          | 0.374766                          | 0.0217014   |"
      ]
     },
     "metadata": {},
     "output_type": "display_data"
    },
    {
     "data": {
      "text/html": [
       "<pre>| 198     | 49m 21s      | 0.421394          | 0.374646                          | 0.0217014   |</pre>"
      ],
      "text/plain": [
       "| 198     | 49m 21s      | 0.421394          | 0.374646                          | 0.0217014   |"
      ]
     },
     "metadata": {},
     "output_type": "display_data"
    },
    {
     "data": {
      "text/html": [
       "<pre>| 199     | 49m 38s      | 0.421375          | 0.374581                          | 0.0217014   |</pre>"
      ],
      "text/plain": [
       "| 199     | 49m 38s      | 0.421375          | 0.374581                          | 0.0217014   |"
      ]
     },
     "metadata": {},
     "output_type": "display_data"
    },
    {
     "data": {
      "text/html": [
       "<pre>| 200     | 49m 54s      | 0.421316          | 0.374476                          | 0.0217014   |</pre>"
      ],
      "text/plain": [
       "| 200     | 49m 54s      | 0.421316          | 0.374476                          | 0.0217014   |"
      ]
     },
     "metadata": {},
     "output_type": "display_data"
    },
    {
     "data": {
      "text/html": [
       "<pre>| 201     | 50m 10s      | 0.421258          | 0.374368                          | 0.0217014   |</pre>"
      ],
      "text/plain": [
       "| 201     | 50m 10s      | 0.421258          | 0.374368                          | 0.0217014   |"
      ]
     },
     "metadata": {},
     "output_type": "display_data"
    },
    {
     "data": {
      "text/html": [
       "<pre>| 202     | 50m 23s      | 0.421239          | 0.3743                            | 0.0217014   |</pre>"
      ],
      "text/plain": [
       "| 202     | 50m 23s      | 0.421239          | 0.3743                            | 0.0217014   |"
      ]
     },
     "metadata": {},
     "output_type": "display_data"
    },
    {
     "data": {
      "text/html": [
       "<pre>| 203     | 50m 37s      | 0.421197          | 0.374209                          | 0.0217014   |</pre>"
      ],
      "text/plain": [
       "| 203     | 50m 37s      | 0.421197          | 0.374209                          | 0.0217014   |"
      ]
     },
     "metadata": {},
     "output_type": "display_data"
    },
    {
     "data": {
      "text/html": [
       "<pre>| 204     | 50m 52s      | 0.421156          | 0.374122                          | 0.0217014   |</pre>"
      ],
      "text/plain": [
       "| 204     | 50m 52s      | 0.421156          | 0.374122                          | 0.0217014   |"
      ]
     },
     "metadata": {},
     "output_type": "display_data"
    },
    {
     "data": {
      "text/html": [
       "<pre>| 205     | 51m 8s       | 0.421097          | 0.374015                          | 0.0217014   |</pre>"
      ],
      "text/plain": [
       "| 205     | 51m 8s       | 0.421097          | 0.374015                          | 0.0217014   |"
      ]
     },
     "metadata": {},
     "output_type": "display_data"
    },
    {
     "data": {
      "text/html": [
       "<pre>| 206     | 51m 25s      | 0.421051          | 0.373923                          | 0.0217014   |</pre>"
      ],
      "text/plain": [
       "| 206     | 51m 25s      | 0.421051          | 0.373923                          | 0.0217014   |"
      ]
     },
     "metadata": {},
     "output_type": "display_data"
    },
    {
     "data": {
      "text/html": [
       "<pre>| 207     | 51m 44s      | 0.420989          | 0.373815                          | 0.0217014   |</pre>"
      ],
      "text/plain": [
       "| 207     | 51m 44s      | 0.420989          | 0.373815                          | 0.0217014   |"
      ]
     },
     "metadata": {},
     "output_type": "display_data"
    },
    {
     "data": {
      "text/html": [
       "<pre>| 208     | 52m 2s       | 0.420961          | 0.373739                          | 0.0217014   |</pre>"
      ],
      "text/plain": [
       "| 208     | 52m 2s       | 0.420961          | 0.373739                          | 0.0217014   |"
      ]
     },
     "metadata": {},
     "output_type": "display_data"
    },
    {
     "data": {
      "text/html": [
       "<pre>| 209     | 52m 20s      | 0.420923          | 0.373653                          | 0.0217014   |</pre>"
      ],
      "text/plain": [
       "| 209     | 52m 20s      | 0.420923          | 0.373653                          | 0.0217014   |"
      ]
     },
     "metadata": {},
     "output_type": "display_data"
    },
    {
     "data": {
      "text/html": [
       "<pre>| 210     | 52m 37s      | 0.42089           | 0.373571                          | 0.0217014   |</pre>"
      ],
      "text/plain": [
       "| 210     | 52m 37s      | 0.42089           | 0.373571                          | 0.0217014   |"
      ]
     },
     "metadata": {},
     "output_type": "display_data"
    },
    {
     "data": {
      "text/html": [
       "<pre>| 211     | 52m 53s      | 0.42083           | 0.373464                          | 0.0217014   |</pre>"
      ],
      "text/plain": [
       "| 211     | 52m 53s      | 0.42083           | 0.373464                          | 0.0217014   |"
      ]
     },
     "metadata": {},
     "output_type": "display_data"
    },
    {
     "data": {
      "text/html": [
       "<pre>| 212     | 53m 11s      | 0.420781          | 0.373369                          | 0.0217014   |</pre>"
      ],
      "text/plain": [
       "| 212     | 53m 11s      | 0.420781          | 0.373369                          | 0.0217014   |"
      ]
     },
     "metadata": {},
     "output_type": "display_data"
    },
    {
     "data": {
      "text/html": [
       "<pre>| 213     | 53m 28s      | 0.420768          | 0.37331                           | 0.0217014   |</pre>"
      ],
      "text/plain": [
       "| 213     | 53m 28s      | 0.420768          | 0.37331                           | 0.0217014   |"
      ]
     },
     "metadata": {},
     "output_type": "display_data"
    },
    {
     "data": {
      "text/html": [
       "<pre>| 214     | 53m 46s      | 0.420701          | 0.373198                          | 0.0217014   |</pre>"
      ],
      "text/plain": [
       "| 214     | 53m 46s      | 0.420701          | 0.373198                          | 0.0217014   |"
      ]
     },
     "metadata": {},
     "output_type": "display_data"
    },
    {
     "data": {
      "text/html": [
       "<pre>| 215     | 54m 5s       | 0.420685          | 0.373135                          | 0.0217014   |</pre>"
      ],
      "text/plain": [
       "| 215     | 54m 5s       | 0.420685          | 0.373135                          | 0.0217014   |"
      ]
     },
     "metadata": {},
     "output_type": "display_data"
    },
    {
     "data": {
      "text/html": [
       "<pre>| 216     | 54m 33s      | 0.42063           | 0.373032                          | 0.0217014   |</pre>"
      ],
      "text/plain": [
       "| 216     | 54m 33s      | 0.42063           | 0.373032                          | 0.0217014   |"
      ]
     },
     "metadata": {},
     "output_type": "display_data"
    },
    {
     "data": {
      "text/html": [
       "<pre>| 217     | 54m 59s      | 0.420569          | 0.372925                          | 0.0217014   |</pre>"
      ],
      "text/plain": [
       "| 217     | 54m 59s      | 0.420569          | 0.372925                          | 0.0217014   |"
      ]
     },
     "metadata": {},
     "output_type": "display_data"
    },
    {
     "data": {
      "text/html": [
       "<pre>| 218     | 55m 22s      | 0.420561          | 0.372869                          | 0.0217014   |</pre>"
      ],
      "text/plain": [
       "| 218     | 55m 22s      | 0.420561          | 0.372869                          | 0.0217014   |"
      ]
     },
     "metadata": {},
     "output_type": "display_data"
    },
    {
     "data": {
      "text/html": [
       "<pre>| 219     | 55m 48s      | 0.420491          | 0.372752                          | 0.0217014   |</pre>"
      ],
      "text/plain": [
       "| 219     | 55m 48s      | 0.420491          | 0.372752                          | 0.0217014   |"
      ]
     },
     "metadata": {},
     "output_type": "display_data"
    },
    {
     "data": {
      "text/html": [
       "<pre>| 220     | 56m 11s      | 0.420465          | 0.37268                           | 0.0217014   |</pre>"
      ],
      "text/plain": [
       "| 220     | 56m 11s      | 0.420465          | 0.37268                           | 0.0217014   |"
      ]
     },
     "metadata": {},
     "output_type": "display_data"
    },
    {
     "data": {
      "text/html": [
       "<pre>| 221     | 56m 35s      | 0.420419          | 0.372588                          | 0.0217014   |</pre>"
      ],
      "text/plain": [
       "| 221     | 56m 35s      | 0.420419          | 0.372588                          | 0.0217014   |"
      ]
     },
     "metadata": {},
     "output_type": "display_data"
    },
    {
     "data": {
      "text/html": [
       "<pre>| 222     | 56m 51s      | 0.420394          | 0.372514                          | 0.0217014   |</pre>"
      ],
      "text/plain": [
       "| 222     | 56m 51s      | 0.420394          | 0.372514                          | 0.0217014   |"
      ]
     },
     "metadata": {},
     "output_type": "display_data"
    },
    {
     "data": {
      "text/html": [
       "<pre>| 223     | 57m 5s       | 0.420367          | 0.37244                           | 0.0217014   |</pre>"
      ],
      "text/plain": [
       "| 223     | 57m 5s       | 0.420367          | 0.37244                           | 0.0217014   |"
      ]
     },
     "metadata": {},
     "output_type": "display_data"
    },
    {
     "data": {
      "text/html": [
       "<pre>| 224     | 57m 20s      | 0.42035           | 0.372374                          | 0.0217014   |</pre>"
      ],
      "text/plain": [
       "| 224     | 57m 20s      | 0.42035           | 0.372374                          | 0.0217014   |"
      ]
     },
     "metadata": {},
     "output_type": "display_data"
    },
    {
     "data": {
      "text/html": [
       "<pre>| 225     | 57m 37s      | 0.420301          | 0.372277                          | 0.0217014   |</pre>"
      ],
      "text/plain": [
       "| 225     | 57m 37s      | 0.420301          | 0.372277                          | 0.0217014   |"
      ]
     },
     "metadata": {},
     "output_type": "display_data"
    },
    {
     "data": {
      "text/html": [
       "<pre>| 226     | 57m 55s      | 0.420268          | 0.372197                          | 0.0217014   |</pre>"
      ],
      "text/plain": [
       "| 226     | 57m 55s      | 0.420268          | 0.372197                          | 0.0217014   |"
      ]
     },
     "metadata": {},
     "output_type": "display_data"
    },
    {
     "data": {
      "text/html": [
       "<pre>| 227     | 58m 10s      | 0.420217          | 0.3721                            | 0.0217014   |</pre>"
      ],
      "text/plain": [
       "| 227     | 58m 10s      | 0.420217          | 0.3721                            | 0.0217014   |"
      ]
     },
     "metadata": {},
     "output_type": "display_data"
    },
    {
     "data": {
      "text/html": [
       "<pre>| 228     | 58m 23s      | 0.420192          | 0.372031                          | 0.0217014   |</pre>"
      ],
      "text/plain": [
       "| 228     | 58m 23s      | 0.420192          | 0.372031                          | 0.0217014   |"
      ]
     },
     "metadata": {},
     "output_type": "display_data"
    },
    {
     "data": {
      "text/html": [
       "<pre>| 229     | 58m 36s      | 0.420163          | 0.371954                          | 0.0217014   |</pre>"
      ],
      "text/plain": [
       "| 229     | 58m 36s      | 0.420163          | 0.371954                          | 0.0217014   |"
      ]
     },
     "metadata": {},
     "output_type": "display_data"
    },
    {
     "data": {
      "text/html": [
       "<pre>| 230     | 58m 51s      | 0.420127          | 0.371871                          | 0.0217014   |</pre>"
      ],
      "text/plain": [
       "| 230     | 58m 51s      | 0.420127          | 0.371871                          | 0.0217014   |"
      ]
     },
     "metadata": {},
     "output_type": "display_data"
    },
    {
     "data": {
      "text/html": [
       "<pre>| 231     | 59m 8s       | 0.42006           | 0.371757                          | 0.0217014   |</pre>"
      ],
      "text/plain": [
       "| 231     | 59m 8s       | 0.42006           | 0.371757                          | 0.0217014   |"
      ]
     },
     "metadata": {},
     "output_type": "display_data"
    },
    {
     "data": {
      "text/html": [
       "<pre>| 232     | 59m 25s      | 0.42001           | 0.37166                           | 0.0217014   |</pre>"
      ],
      "text/plain": [
       "| 232     | 59m 25s      | 0.42001           | 0.37166                           | 0.0217014   |"
      ]
     },
     "metadata": {},
     "output_type": "display_data"
    },
    {
     "data": {
      "text/html": [
       "<pre>| 233     | 59m 42s      | 0.419971          | 0.371576                          | 0.0217014   |</pre>"
      ],
      "text/plain": [
       "| 233     | 59m 42s      | 0.419971          | 0.371576                          | 0.0217014   |"
      ]
     },
     "metadata": {},
     "output_type": "display_data"
    },
    {
     "data": {
      "text/html": [
       "<pre>| 234     | 59m 56s      | 0.419961          | 0.371521                          | 0.0217014   |</pre>"
      ],
      "text/plain": [
       "| 234     | 59m 56s      | 0.419961          | 0.371521                          | 0.0217014   |"
      ]
     },
     "metadata": {},
     "output_type": "display_data"
    },
    {
     "data": {
      "text/html": [
       "<pre>| 235     | 1h 0m        | 0.41991           | 0.371427                          | 0.0217014   |</pre>"
      ],
      "text/plain": [
       "| 235     | 1h 0m        | 0.41991           | 0.371427                          | 0.0217014   |"
      ]
     },
     "metadata": {},
     "output_type": "display_data"
    },
    {
     "data": {
      "text/html": [
       "<pre>| 236     | 1h 0m        | 0.419879          | 0.371348                          | 0.0217014   |</pre>"
      ],
      "text/plain": [
       "| 236     | 1h 0m        | 0.419879          | 0.371348                          | 0.0217014   |"
      ]
     },
     "metadata": {},
     "output_type": "display_data"
    },
    {
     "data": {
      "text/html": [
       "<pre>| 237     | 1h 0m        | 0.41985           | 0.371273                          | 0.0217014   |</pre>"
      ],
      "text/plain": [
       "| 237     | 1h 0m        | 0.41985           | 0.371273                          | 0.0217014   |"
      ]
     },
     "metadata": {},
     "output_type": "display_data"
    },
    {
     "data": {
      "text/html": [
       "<pre>| 238     | 1h 1m        | 0.419834          | 0.371212                          | 0.0217014   |</pre>"
      ],
      "text/plain": [
       "| 238     | 1h 1m        | 0.419834          | 0.371212                          | 0.0217014   |"
      ]
     },
     "metadata": {},
     "output_type": "display_data"
    },
    {
     "data": {
      "text/html": [
       "<pre>| 239     | 1h 1m        | 0.419769          | 0.371102                          | 0.0217014   |</pre>"
      ],
      "text/plain": [
       "| 239     | 1h 1m        | 0.419769          | 0.371102                          | 0.0217014   |"
      ]
     },
     "metadata": {},
     "output_type": "display_data"
    },
    {
     "data": {
      "text/html": [
       "<pre>| 240     | 1h 1m        | 0.419762          | 0.371048                          | 0.0217014   |</pre>"
      ],
      "text/plain": [
       "| 240     | 1h 1m        | 0.419762          | 0.371048                          | 0.0217014   |"
      ]
     },
     "metadata": {},
     "output_type": "display_data"
    },
    {
     "data": {
      "text/html": [
       "<pre>| 241     | 1h 1m        | 0.419702          | 0.370946                          | 0.0217014   |</pre>"
      ],
      "text/plain": [
       "| 241     | 1h 1m        | 0.419702          | 0.370946                          | 0.0217014   |"
      ]
     },
     "metadata": {},
     "output_type": "display_data"
    },
    {
     "data": {
      "text/html": [
       "<pre>| 242     | 1h 2m        | 0.419671          | 0.37087                           | 0.0217014   |</pre>"
      ],
      "text/plain": [
       "| 242     | 1h 2m        | 0.419671          | 0.37087                           | 0.0217014   |"
      ]
     },
     "metadata": {},
     "output_type": "display_data"
    },
    {
     "data": {
      "text/html": [
       "<pre>| 243     | 1h 2m        | 0.41964           | 0.370794                          | 0.0217014   |</pre>"
      ],
      "text/plain": [
       "| 243     | 1h 2m        | 0.41964           | 0.370794                          | 0.0217014   |"
      ]
     },
     "metadata": {},
     "output_type": "display_data"
    },
    {
     "data": {
      "text/html": [
       "<pre>| 244     | 1h 2m        | 0.419598          | 0.370705                          | 0.0217014   |</pre>"
      ],
      "text/plain": [
       "| 244     | 1h 2m        | 0.419598          | 0.370705                          | 0.0217014   |"
      ]
     },
     "metadata": {},
     "output_type": "display_data"
    },
    {
     "data": {
      "text/html": [
       "<pre>| 245     | 1h 3m        | 0.419575          | 0.370636                          | 0.0217014   |</pre>"
      ],
      "text/plain": [
       "| 245     | 1h 3m        | 0.419575          | 0.370636                          | 0.0217014   |"
      ]
     },
     "metadata": {},
     "output_type": "display_data"
    },
    {
     "data": {
      "text/html": [
       "<pre>| 246     | 1h 3m        | 0.419522          | 0.370539                          | 0.0217014   |</pre>"
      ],
      "text/plain": [
       "| 246     | 1h 3m        | 0.419522          | 0.370539                          | 0.0217014   |"
      ]
     },
     "metadata": {},
     "output_type": "display_data"
    },
    {
     "data": {
      "text/html": [
       "<pre>| 247     | 1h 3m        | 0.419513          | 0.370487                          | 0.0217014   |</pre>"
      ],
      "text/plain": [
       "| 247     | 1h 3m        | 0.419513          | 0.370487                          | 0.0217014   |"
      ]
     },
     "metadata": {},
     "output_type": "display_data"
    },
    {
     "data": {
      "text/html": [
       "<pre>| 248     | 1h 3m        | 0.419495          | 0.370427                          | 0.0217014   |</pre>"
      ],
      "text/plain": [
       "| 248     | 1h 3m        | 0.419495          | 0.370427                          | 0.0217014   |"
      ]
     },
     "metadata": {},
     "output_type": "display_data"
    },
    {
     "data": {
      "text/html": [
       "<pre>| 249     | 1h 4m        | 0.419431          | 0.370316                          | 0.0217014   |</pre>"
      ],
      "text/plain": [
       "| 249     | 1h 4m        | 0.419431          | 0.370316                          | 0.0217014   |"
      ]
     },
     "metadata": {},
     "output_type": "display_data"
    },
    {
     "data": {
      "text/html": [
       "<pre>| 250     | 1h 4m        | 0.419419          | 0.370258                          | 0.0217014   |</pre>"
      ],
      "text/plain": [
       "| 250     | 1h 4m        | 0.419419          | 0.370258                          | 0.0217014   |"
      ]
     },
     "metadata": {},
     "output_type": "display_data"
    },
    {
     "data": {
      "text/html": [
       "<pre>| 251     | 1h 4m        | 0.419353          | 0.370147                          | 0.0217014   |</pre>"
      ],
      "text/plain": [
       "| 251     | 1h 4m        | 0.419353          | 0.370147                          | 0.0217014   |"
      ]
     },
     "metadata": {},
     "output_type": "display_data"
    },
    {
     "data": {
      "text/html": [
       "<pre>| 252     | 1h 5m        | 0.419352          | 0.370102                          | 0.0217014   |</pre>"
      ],
      "text/plain": [
       "| 252     | 1h 5m        | 0.419352          | 0.370102                          | 0.0217014   |"
      ]
     },
     "metadata": {},
     "output_type": "display_data"
    },
    {
     "data": {
      "text/html": [
       "<pre>| 253     | 1h 5m        | 0.419309          | 0.370015                          | 0.0217014   |</pre>"
      ],
      "text/plain": [
       "| 253     | 1h 5m        | 0.419309          | 0.370015                          | 0.0217014   |"
      ]
     },
     "metadata": {},
     "output_type": "display_data"
    },
    {
     "data": {
      "text/html": [
       "<pre>| 254     | 1h 5m        | 0.419297          | 0.36996                           | 0.0217014   |</pre>"
      ],
      "text/plain": [
       "| 254     | 1h 5m        | 0.419297          | 0.36996                           | 0.0217014   |"
      ]
     },
     "metadata": {},
     "output_type": "display_data"
    },
    {
     "data": {
      "text/html": [
       "<pre>| 255     | 1h 5m        | 0.419224          | 0.369844                          | 0.0217014   |</pre>"
      ],
      "text/plain": [
       "| 255     | 1h 5m        | 0.419224          | 0.369844                          | 0.0217014   |"
      ]
     },
     "metadata": {},
     "output_type": "display_data"
    },
    {
     "data": {
      "text/html": [
       "<pre>| 256     | 1h 6m        | 0.419199          | 0.369775                          | 0.0217014   |</pre>"
      ],
      "text/plain": [
       "| 256     | 1h 6m        | 0.419199          | 0.369775                          | 0.0217014   |"
      ]
     },
     "metadata": {},
     "output_type": "display_data"
    },
    {
     "data": {
      "text/html": [
       "<pre>| 257     | 1h 6m        | 0.419182          | 0.369714                          | 0.0217014   |</pre>"
      ],
      "text/plain": [
       "| 257     | 1h 6m        | 0.419182          | 0.369714                          | 0.0217014   |"
      ]
     },
     "metadata": {},
     "output_type": "display_data"
    },
    {
     "data": {
      "text/html": [
       "<pre>| 258     | 1h 6m        | 0.419117          | 0.369606                          | 0.0217014   |</pre>"
      ],
      "text/plain": [
       "| 258     | 1h 6m        | 0.419117          | 0.369606                          | 0.0217014   |"
      ]
     },
     "metadata": {},
     "output_type": "display_data"
    },
    {
     "data": {
      "text/html": [
       "<pre>| 259     | 1h 7m        | 0.419087          | 0.369533                          | 0.0217014   |</pre>"
      ],
      "text/plain": [
       "| 259     | 1h 7m        | 0.419087          | 0.369533                          | 0.0217014   |"
      ]
     },
     "metadata": {},
     "output_type": "display_data"
    },
    {
     "data": {
      "text/html": [
       "<pre>| 260     | 1h 7m        | 0.419072          | 0.369475                          | 0.0217014   |</pre>"
      ],
      "text/plain": [
       "| 260     | 1h 7m        | 0.419072          | 0.369475                          | 0.0217014   |"
      ]
     },
     "metadata": {},
     "output_type": "display_data"
    },
    {
     "data": {
      "text/html": [
       "<pre>| 261     | 1h 7m        | 0.419074          | 0.369433                          | 0.0217014   |</pre>"
      ],
      "text/plain": [
       "| 261     | 1h 7m        | 0.419074          | 0.369433                          | 0.0217014   |"
      ]
     },
     "metadata": {},
     "output_type": "display_data"
    },
    {
     "data": {
      "text/html": [
       "<pre>| 262     | 1h 8m        | 0.419026          | 0.36934                           | 0.0217014   |</pre>"
      ],
      "text/plain": [
       "| 262     | 1h 8m        | 0.419026          | 0.36934                           | 0.0217014   |"
      ]
     },
     "metadata": {},
     "output_type": "display_data"
    },
    {
     "data": {
      "text/html": [
       "<pre>| 263     | 1h 8m        | 0.418987          | 0.369258                          | 0.0217014   |</pre>"
      ],
      "text/plain": [
       "| 263     | 1h 8m        | 0.418987          | 0.369258                          | 0.0217014   |"
      ]
     },
     "metadata": {},
     "output_type": "display_data"
    },
    {
     "data": {
      "text/html": [
       "<pre>| 264     | 1h 8m        | 0.418988          | 0.369214                          | 0.0217014   |</pre>"
      ],
      "text/plain": [
       "| 264     | 1h 8m        | 0.418988          | 0.369214                          | 0.0217014   |"
      ]
     },
     "metadata": {},
     "output_type": "display_data"
    },
    {
     "data": {
      "text/html": [
       "<pre>| 265     | 1h 9m        | 0.418929          | 0.369111                          | 0.0217014   |</pre>"
      ],
      "text/plain": [
       "| 265     | 1h 9m        | 0.418929          | 0.369111                          | 0.0217014   |"
      ]
     },
     "metadata": {},
     "output_type": "display_data"
    },
    {
     "data": {
      "text/html": [
       "<pre>| 266     | 1h 9m        | 0.418902          | 0.369044                          | 0.0217014   |</pre>"
      ],
      "text/plain": [
       "| 266     | 1h 9m        | 0.418902          | 0.369044                          | 0.0217014   |"
      ]
     },
     "metadata": {},
     "output_type": "display_data"
    },
    {
     "data": {
      "text/html": [
       "<pre>| 267     | 1h 9m        | 0.418883          | 0.36898                           | 0.0217014   |</pre>"
      ],
      "text/plain": [
       "| 267     | 1h 9m        | 0.418883          | 0.36898                           | 0.0217014   |"
      ]
     },
     "metadata": {},
     "output_type": "display_data"
    },
    {
     "data": {
      "text/html": [
       "<pre>| 268     | 1h 9m        | 0.418815          | 0.368872                          | 0.0217014   |</pre>"
      ],
      "text/plain": [
       "| 268     | 1h 9m        | 0.418815          | 0.368872                          | 0.0217014   |"
      ]
     },
     "metadata": {},
     "output_type": "display_data"
    },
    {
     "data": {
      "text/html": [
       "<pre>| 269     | 1h 10m       | 0.418821          | 0.368834                          | 0.0217014   |</pre>"
      ],
      "text/plain": [
       "| 269     | 1h 10m       | 0.418821          | 0.368834                          | 0.0217014   |"
      ]
     },
     "metadata": {},
     "output_type": "display_data"
    },
    {
     "data": {
      "text/html": [
       "<pre>| 270     | 1h 10m       | 0.418785          | 0.368755                          | 0.0217014   |</pre>"
      ],
      "text/plain": [
       "| 270     | 1h 10m       | 0.418785          | 0.368755                          | 0.0217014   |"
      ]
     },
     "metadata": {},
     "output_type": "display_data"
    },
    {
     "data": {
      "text/html": [
       "<pre>| 271     | 1h 11m       | 0.418773          | 0.368699                          | 0.0217014   |</pre>"
      ],
      "text/plain": [
       "| 271     | 1h 11m       | 0.418773          | 0.368699                          | 0.0217014   |"
      ]
     },
     "metadata": {},
     "output_type": "display_data"
    },
    {
     "data": {
      "text/html": [
       "<pre>| 272     | 1h 11m       | 0.418724          | 0.368607                          | 0.0217014   |</pre>"
      ],
      "text/plain": [
       "| 272     | 1h 11m       | 0.418724          | 0.368607                          | 0.0217014   |"
      ]
     },
     "metadata": {},
     "output_type": "display_data"
    },
    {
     "data": {
      "text/html": [
       "<pre>| 273     | 1h 11m       | 0.418698          | 0.36854                           | 0.0217014   |</pre>"
      ],
      "text/plain": [
       "| 273     | 1h 11m       | 0.418698          | 0.36854                           | 0.0217014   |"
      ]
     },
     "metadata": {},
     "output_type": "display_data"
    },
    {
     "data": {
      "text/html": [
       "<pre>| 274     | 1h 11m       | 0.418684          | 0.368483                          | 0.0217014   |</pre>"
      ],
      "text/plain": [
       "| 274     | 1h 11m       | 0.418684          | 0.368483                          | 0.0217014   |"
      ]
     },
     "metadata": {},
     "output_type": "display_data"
    },
    {
     "data": {
      "text/html": [
       "<pre>| 275     | 1h 12m       | 0.418648          | 0.368403                          | 0.0217014   |</pre>"
      ],
      "text/plain": [
       "| 275     | 1h 12m       | 0.418648          | 0.368403                          | 0.0217014   |"
      ]
     },
     "metadata": {},
     "output_type": "display_data"
    },
    {
     "data": {
      "text/html": [
       "<pre>| 276     | 1h 12m       | 0.418601          | 0.36831                           | 0.0217014   |</pre>"
      ],
      "text/plain": [
       "| 276     | 1h 12m       | 0.418601          | 0.36831                           | 0.0217014   |"
      ]
     },
     "metadata": {},
     "output_type": "display_data"
    },
    {
     "data": {
      "text/html": [
       "<pre>| 277     | 1h 13m       | 0.41862           | 0.368286                          | 0.0217014   |</pre>"
      ],
      "text/plain": [
       "| 277     | 1h 13m       | 0.41862           | 0.368286                          | 0.0217014   |"
      ]
     },
     "metadata": {},
     "output_type": "display_data"
    },
    {
     "data": {
      "text/html": [
       "<pre>| 278     | 1h 13m       | 0.418546          | 0.36817                           | 0.0217014   |</pre>"
      ],
      "text/plain": [
       "| 278     | 1h 13m       | 0.418546          | 0.36817                           | 0.0217014   |"
      ]
     },
     "metadata": {},
     "output_type": "display_data"
    },
    {
     "data": {
      "text/html": [
       "<pre>| 279     | 1h 14m       | 0.418546          | 0.368127                          | 0.0217014   |</pre>"
      ],
      "text/plain": [
       "| 279     | 1h 14m       | 0.418546          | 0.368127                          | 0.0217014   |"
      ]
     },
     "metadata": {},
     "output_type": "display_data"
    },
    {
     "data": {
      "text/html": [
       "<pre>| 280     | 1h 14m       | 0.418514          | 0.368055                          | 0.0217014   |</pre>"
      ],
      "text/plain": [
       "| 280     | 1h 14m       | 0.418514          | 0.368055                          | 0.0217014   |"
      ]
     },
     "metadata": {},
     "output_type": "display_data"
    },
    {
     "data": {
      "text/html": [
       "<pre>| 281     | 1h 15m       | 0.418515          | 0.368012                          | 0.0217014   |</pre>"
      ],
      "text/plain": [
       "| 281     | 1h 15m       | 0.418515          | 0.368012                          | 0.0217014   |"
      ]
     },
     "metadata": {},
     "output_type": "display_data"
    },
    {
     "data": {
      "text/html": [
       "<pre>| 282     | 1h 16m       | 0.418464          | 0.367919                          | 0.0217014   |</pre>"
      ],
      "text/plain": [
       "| 282     | 1h 16m       | 0.418464          | 0.367919                          | 0.0217014   |"
      ]
     },
     "metadata": {},
     "output_type": "display_data"
    },
    {
     "data": {
      "text/html": [
       "<pre>| 283     | 1h 16m       | 0.418443          | 0.367857                          | 0.0217014   |</pre>"
      ],
      "text/plain": [
       "| 283     | 1h 16m       | 0.418443          | 0.367857                          | 0.0217014   |"
      ]
     },
     "metadata": {},
     "output_type": "display_data"
    },
    {
     "data": {
      "text/html": [
       "<pre>| 284     | 1h 17m       | 0.418403          | 0.367773                          | 0.0217014   |</pre>"
      ],
      "text/plain": [
       "| 284     | 1h 17m       | 0.418403          | 0.367773                          | 0.0217014   |"
      ]
     },
     "metadata": {},
     "output_type": "display_data"
    },
    {
     "data": {
      "text/html": [
       "<pre>| 285     | 1h 17m       | 0.418351          | 0.367681                          | 0.0217014   |</pre>"
      ],
      "text/plain": [
       "| 285     | 1h 17m       | 0.418351          | 0.367681                          | 0.0217014   |"
      ]
     },
     "metadata": {},
     "output_type": "display_data"
    },
    {
     "data": {
      "text/html": [
       "<pre>| 286     | 1h 18m       | 0.41836           | 0.367648                          | 0.0217014   |</pre>"
      ],
      "text/plain": [
       "| 286     | 1h 18m       | 0.41836           | 0.367648                          | 0.0217014   |"
      ]
     },
     "metadata": {},
     "output_type": "display_data"
    },
    {
     "data": {
      "text/html": [
       "<pre>| 287     | 1h 18m       | 0.418319          | 0.367563                          | 0.0217014   |</pre>"
      ],
      "text/plain": [
       "| 287     | 1h 18m       | 0.418319          | 0.367563                          | 0.0217014   |"
      ]
     },
     "metadata": {},
     "output_type": "display_data"
    },
    {
     "data": {
      "text/html": [
       "<pre>| 288     | 1h 19m       | 0.418304          | 0.367507                          | 0.0217014   |</pre>"
      ],
      "text/plain": [
       "| 288     | 1h 19m       | 0.418304          | 0.367507                          | 0.0217014   |"
      ]
     },
     "metadata": {},
     "output_type": "display_data"
    },
    {
     "data": {
      "text/html": [
       "<pre>| 289     | 1h 19m       | 0.418247          | 0.367409                          | 0.0217014   |</pre>"
      ],
      "text/plain": [
       "| 289     | 1h 19m       | 0.418247          | 0.367409                          | 0.0217014   |"
      ]
     },
     "metadata": {},
     "output_type": "display_data"
    },
    {
     "data": {
      "text/html": [
       "<pre>| 290     | 1h 20m       | 0.418252          | 0.367373                          | 0.0217014   |</pre>"
      ],
      "text/plain": [
       "| 290     | 1h 20m       | 0.418252          | 0.367373                          | 0.0217014   |"
      ]
     },
     "metadata": {},
     "output_type": "display_data"
    },
    {
     "data": {
      "text/html": [
       "<pre>| 291     | 1h 20m       | 0.418195          | 0.367277                          | 0.0217014   |</pre>"
      ],
      "text/plain": [
       "| 291     | 1h 20m       | 0.418195          | 0.367277                          | 0.0217014   |"
      ]
     },
     "metadata": {},
     "output_type": "display_data"
    },
    {
     "data": {
      "text/html": [
       "<pre>| 292     | 1h 21m       | 0.418168          | 0.367211                          | 0.0217014   |</pre>"
      ],
      "text/plain": [
       "| 292     | 1h 21m       | 0.418168          | 0.367211                          | 0.0217014   |"
      ]
     },
     "metadata": {},
     "output_type": "display_data"
    },
    {
     "data": {
      "text/html": [
       "<pre>| 293     | 1h 21m       | 0.418155          | 0.367157                          | 0.0217014   |</pre>"
      ],
      "text/plain": [
       "| 293     | 1h 21m       | 0.418155          | 0.367157                          | 0.0217014   |"
      ]
     },
     "metadata": {},
     "output_type": "display_data"
    },
    {
     "data": {
      "text/html": [
       "<pre>| 294     | 1h 22m       | 0.418154          | 0.367115                          | 0.0217014   |</pre>"
      ],
      "text/plain": [
       "| 294     | 1h 22m       | 0.418154          | 0.367115                          | 0.0217014   |"
      ]
     },
     "metadata": {},
     "output_type": "display_data"
    },
    {
     "data": {
      "text/html": [
       "<pre>| 295     | 1h 22m       | 0.418069          | 0.366991                          | 0.0217014   |</pre>"
      ],
      "text/plain": [
       "| 295     | 1h 22m       | 0.418069          | 0.366991                          | 0.0217014   |"
      ]
     },
     "metadata": {},
     "output_type": "display_data"
    },
    {
     "data": {
      "text/html": [
       "<pre>| 296     | 1h 23m       | 0.41808           | 0.36696                           | 0.0217014   |</pre>"
      ],
      "text/plain": [
       "| 296     | 1h 23m       | 0.41808           | 0.36696                           | 0.0217014   |"
      ]
     },
     "metadata": {},
     "output_type": "display_data"
    },
    {
     "data": {
      "text/html": [
       "<pre>| 297     | 1h 23m       | 0.418058          | 0.366898                          | 0.0217014   |</pre>"
      ],
      "text/plain": [
       "| 297     | 1h 23m       | 0.418058          | 0.366898                          | 0.0217014   |"
      ]
     },
     "metadata": {},
     "output_type": "display_data"
    },
    {
     "data": {
      "text/html": [
       "<pre>| 298     | 1h 24m       | 0.418008          | 0.366809                          | 0.0217014   |</pre>"
      ],
      "text/plain": [
       "| 298     | 1h 24m       | 0.418008          | 0.366809                          | 0.0217014   |"
      ]
     },
     "metadata": {},
     "output_type": "display_data"
    },
    {
     "data": {
      "text/html": [
       "<pre>| 299     | 1h 24m       | 0.418011          | 0.366769                          | 0.0217014   |</pre>"
      ],
      "text/plain": [
       "| 299     | 1h 24m       | 0.418011          | 0.366769                          | 0.0217014   |"
      ]
     },
     "metadata": {},
     "output_type": "display_data"
    },
    {
     "data": {
      "text/html": [
       "<pre>| 300     | 1h 25m       | 0.417977          | 0.366693                          | 0.0217014   |</pre>"
      ],
      "text/plain": [
       "| 300     | 1h 25m       | 0.417977          | 0.366693                          | 0.0217014   |"
      ]
     },
     "metadata": {},
     "output_type": "display_data"
    },
    {
     "data": {
      "text/html": [
       "<pre>+---------+--------------+-------------------+-----------------------------------+-------------+</pre>"
      ],
      "text/plain": [
       "+---------+--------------+-------------------+-----------------------------------+-------------+"
      ]
     },
     "metadata": {},
     "output_type": "display_data"
    },
    {
     "data": {
      "text/html": [
       "<pre>Optimization Complete: Maximum number of passes through the data reached.</pre>"
      ],
      "text/plain": [
       "Optimization Complete: Maximum number of passes through the data reached."
      ]
     },
     "metadata": {},
     "output_type": "display_data"
    },
    {
     "data": {
      "text/html": [
       "<pre>Computing final objective value and training Predictive Error.</pre>"
      ],
      "text/plain": [
       "Computing final objective value and training Predictive Error."
      ]
     },
     "metadata": {},
     "output_type": "display_data"
    },
    {
     "data": {
      "text/html": [
       "<pre>       Final objective value: 0.415795</pre>"
      ],
      "text/plain": [
       "       Final objective value: 0.415795"
      ]
     },
     "metadata": {},
     "output_type": "display_data"
    },
    {
     "data": {
      "text/html": [
       "<pre>       Final training Predictive Error: 0.364511</pre>"
      ],
      "text/plain": [
       "       Final training Predictive Error: 0.364511"
      ]
     },
     "metadata": {},
     "output_type": "display_data"
    }
   ],
   "source": [
    "# training the model\n",
    "model = gl.recommender.factorization_recommender.create(tr_listen, \n",
    "                                                        binary_target = True, \n",
    "                                                        num_factors = n_factors,\n",
    "                                                        user_id = \"user_id\", \n",
    "                                                        item_id = \"media_id\", \n",
    "                                                        target  = \"is_listened\",\n",
    "                                                        user_data = user_data, \n",
    "                                                        item_data = song_data,\n",
    "                                                        max_iterations = m_epochs,\n",
    "                                                        regularization = regular)"
   ]
  },
  {
   "cell_type": "code",
   "execution_count": 10,
   "metadata": {
    "collapsed": false,
    "scrolled": true
   },
   "outputs": [
    {
     "data": {
      "text/html": [
       "<div>\n",
       "<style>\n",
       "    .dataframe thead tr:only-child th {\n",
       "        text-align: right;\n",
       "    }\n",
       "\n",
       "    .dataframe thead th {\n",
       "        text-align: left;\n",
       "    }\n",
       "\n",
       "    .dataframe tbody tr th {\n",
       "        vertical-align: top;\n",
       "    }\n",
       "</style>\n",
       "<table border=\"1\" class=\"dataframe\">\n",
       "  <thead>\n",
       "    <tr style=\"text-align: right;\">\n",
       "      <th></th>\n",
       "      <th>row_index</th>\n",
       "      <th>is_listened</th>\n",
       "    </tr>\n",
       "  </thead>\n",
       "  <tbody>\n",
       "    <tr>\n",
       "      <th>2166</th>\n",
       "      <td>6060544</td>\n",
       "      <td>0.998505</td>\n",
       "    </tr>\n",
       "    <tr>\n",
       "      <th>2167</th>\n",
       "      <td>3968455</td>\n",
       "      <td>0.986834</td>\n",
       "    </tr>\n",
       "    <tr>\n",
       "      <th>2239</th>\n",
       "      <td>5584470</td>\n",
       "      <td>0.996072</td>\n",
       "    </tr>\n",
       "  </tbody>\n",
       "</table>\n",
       "</div>"
      ],
      "text/plain": [
       "      row_index  is_listened\n",
       "2166    6060544     0.998505\n",
       "2167    3968455     0.986834\n",
       "2239    5584470     0.996072"
      ]
     },
     "execution_count": 10,
     "metadata": {},
     "output_type": "execute_result"
    }
   ],
   "source": [
    "# forecasting\n",
    "pred = pd.DataFrame()\n",
    "pred[\"row_index\"] = ts.row_index\n",
    "pred[\"is_listened\"] = model.predict(ts_listen)\n",
    "pred.head(3)"
   ]
  },
  {
   "cell_type": "code",
   "execution_count": 11,
   "metadata": {
    "collapsed": false,
    "scrolled": true
   },
   "outputs": [
    {
     "data": {
      "text/plain": [
       "0.72562471348959556"
      ]
     },
     "execution_count": 11,
     "metadata": {},
     "output_type": "execute_result"
    }
   ],
   "source": [
    "# computing AUC\n",
    "metrics.roc_auc_score(ts.is_listened, pred[\"is_listened\"])"
   ]
  },
  {
   "cell_type": "code",
   "execution_count": 12,
   "metadata": {
    "collapsed": true,
    "scrolled": true
   },
   "outputs": [],
   "source": [
    "# saving prediction vector\n",
    "pred.to_csv(path + \"pred_valid/factorization_full_75f_300i.csv\", index = False)"
   ]
  },
  {
   "cell_type": "code",
   "execution_count": 8,
   "metadata": {
    "collapsed": true
   },
   "outputs": [],
   "source": [
    "# clearing the memory\n",
    "tr_listen = \"Null\"\n",
    "ts_listen = \"Null\"\n",
    "ts = \"Null\""
   ]
  },
  {
   "cell_type": "markdown",
   "metadata": {},
   "source": [
    "## 3.2. KNOWN-UNKNOWN"
   ]
  },
  {
   "cell_type": "code",
   "execution_count": null,
   "metadata": {
    "collapsed": false
   },
   "outputs": [
    {
     "data": {
      "text/html": [
       "<pre>Recsys training: model = factorization_recommender</pre>"
      ],
      "text/plain": [
       "Recsys training: model = factorization_recommender"
      ]
     },
     "metadata": {},
     "output_type": "display_data"
    },
    {
     "data": {
      "text/html": [
       "<pre>Preparing data set.</pre>"
      ],
      "text/plain": [
       "Preparing data set."
      ]
     },
     "metadata": {},
     "output_type": "display_data"
    },
    {
     "data": {
      "text/html": [
       "<pre>    Data has 2319611 observations with 13250 users and 79311 items.</pre>"
      ],
      "text/plain": [
       "    Data has 2319611 observations with 13250 users and 79311 items."
      ]
     },
     "metadata": {},
     "output_type": "display_data"
    },
    {
     "data": {
      "text/html": [
       "<pre>    Data prepared in: 6.37214s</pre>"
      ],
      "text/plain": [
       "    Data prepared in: 6.37214s"
      ]
     },
     "metadata": {},
     "output_type": "display_data"
    },
    {
     "data": {
      "text/html": [
       "<pre>Training factorization_recommender for recommendations.</pre>"
      ],
      "text/plain": [
       "Training factorization_recommender for recommendations."
      ]
     },
     "metadata": {},
     "output_type": "display_data"
    },
    {
     "data": {
      "text/html": [
       "<pre>+--------------------------------+--------------------------------------------------+----------+</pre>"
      ],
      "text/plain": [
       "+--------------------------------+--------------------------------------------------+----------+"
      ]
     },
     "metadata": {},
     "output_type": "display_data"
    },
    {
     "data": {
      "text/html": [
       "<pre>| Parameter                      | Description                                      | Value    |</pre>"
      ],
      "text/plain": [
       "| Parameter                      | Description                                      | Value    |"
      ]
     },
     "metadata": {},
     "output_type": "display_data"
    },
    {
     "data": {
      "text/html": [
       "<pre>+--------------------------------+--------------------------------------------------+----------+</pre>"
      ],
      "text/plain": [
       "+--------------------------------+--------------------------------------------------+----------+"
      ]
     },
     "metadata": {},
     "output_type": "display_data"
    },
    {
     "data": {
      "text/html": [
       "<pre>| num_factors                    | Factor Dimension                                 | 50       |</pre>"
      ],
      "text/plain": [
       "| num_factors                    | Factor Dimension                                 | 50       |"
      ]
     },
     "metadata": {},
     "output_type": "display_data"
    },
    {
     "data": {
      "text/html": [
       "<pre>| regularization                 | L2 Regularization on Factors                     | 1e-05    |</pre>"
      ],
      "text/plain": [
       "| regularization                 | L2 Regularization on Factors                     | 1e-05    |"
      ]
     },
     "metadata": {},
     "output_type": "display_data"
    },
    {
     "data": {
      "text/html": [
       "<pre>| solver                         | Solver used for training                         | adagrad  |</pre>"
      ],
      "text/plain": [
       "| solver                         | Solver used for training                         | adagrad  |"
      ]
     },
     "metadata": {},
     "output_type": "display_data"
    },
    {
     "data": {
      "text/html": [
       "<pre>| linear_regularization          | L2 Regularization on Linear Coefficients         | 1e-10    |</pre>"
      ],
      "text/plain": [
       "| linear_regularization          | L2 Regularization on Linear Coefficients         | 1e-10    |"
      ]
     },
     "metadata": {},
     "output_type": "display_data"
    },
    {
     "data": {
      "text/html": [
       "<pre>| binary_target                  | Assume Binary Targets                            | True     |</pre>"
      ],
      "text/plain": [
       "| binary_target                  | Assume Binary Targets                            | True     |"
      ]
     },
     "metadata": {},
     "output_type": "display_data"
    },
    {
     "data": {
      "text/html": [
       "<pre>| side_data_factorization        | Assign Factors for Side Data                     | True     |</pre>"
      ],
      "text/plain": [
       "| side_data_factorization        | Assign Factors for Side Data                     | True     |"
      ]
     },
     "metadata": {},
     "output_type": "display_data"
    },
    {
     "data": {
      "text/html": [
       "<pre>| max_iterations                 | Maximum Number of Iterations                     | 300      |</pre>"
      ],
      "text/plain": [
       "| max_iterations                 | Maximum Number of Iterations                     | 300      |"
      ]
     },
     "metadata": {},
     "output_type": "display_data"
    },
    {
     "data": {
      "text/html": [
       "<pre>+--------------------------------+--------------------------------------------------+----------+</pre>"
      ],
      "text/plain": [
       "+--------------------------------+--------------------------------------------------+----------+"
      ]
     },
     "metadata": {},
     "output_type": "display_data"
    },
    {
     "data": {
      "text/html": [
       "<pre>  Optimizing model using SGD; tuning step size.</pre>"
      ],
      "text/plain": [
       "  Optimizing model using SGD; tuning step size."
      ]
     },
     "metadata": {},
     "output_type": "display_data"
    },
    {
     "data": {
      "text/html": [
       "<pre>  Using 289951 / 2319611 points for tuning the step size.</pre>"
      ],
      "text/plain": [
       "  Using 289951 / 2319611 points for tuning the step size."
      ]
     },
     "metadata": {},
     "output_type": "display_data"
    },
    {
     "data": {
      "text/html": [
       "<pre>+---------+-------------------+------------------------------------------+</pre>"
      ],
      "text/plain": [
       "+---------+-------------------+------------------------------------------+"
      ]
     },
     "metadata": {},
     "output_type": "display_data"
    },
    {
     "data": {
      "text/html": [
       "<pre>| Attempt | Initial Step Size | Estimated Objective Value                |</pre>"
      ],
      "text/plain": [
       "| Attempt | Initial Step Size | Estimated Objective Value                |"
      ]
     },
     "metadata": {},
     "output_type": "display_data"
    },
    {
     "data": {
      "text/html": [
       "<pre>+---------+-------------------+------------------------------------------+</pre>"
      ],
      "text/plain": [
       "+---------+-------------------+------------------------------------------+"
      ]
     },
     "metadata": {},
     "output_type": "display_data"
    },
    {
     "data": {
      "text/html": [
       "<pre>| 0       | 2.63158           | Not Viable                               |</pre>"
      ],
      "text/plain": [
       "| 0       | 2.63158           | Not Viable                               |"
      ]
     },
     "metadata": {},
     "output_type": "display_data"
    },
    {
     "data": {
      "text/html": [
       "<pre>| 1       | 0.657895          | Not Viable                               |</pre>"
      ],
      "text/plain": [
       "| 1       | 0.657895          | Not Viable                               |"
      ]
     },
     "metadata": {},
     "output_type": "display_data"
    },
    {
     "data": {
      "text/html": [
       "<pre>| 2       | 0.164474          | 0.61746                                  |</pre>"
      ],
      "text/plain": [
       "| 2       | 0.164474          | 0.61746                                  |"
      ]
     },
     "metadata": {},
     "output_type": "display_data"
    },
    {
     "data": {
      "text/html": [
       "<pre>| 3       | 0.0822368         | 0.530624                                 |</pre>"
      ],
      "text/plain": [
       "| 3       | 0.0822368         | 0.530624                                 |"
      ]
     },
     "metadata": {},
     "output_type": "display_data"
    },
    {
     "data": {
      "text/html": [
       "<pre>| 4       | 0.0411184         | 0.452029                                 |</pre>"
      ],
      "text/plain": [
       "| 4       | 0.0411184         | 0.452029                                 |"
      ]
     },
     "metadata": {},
     "output_type": "display_data"
    },
    {
     "data": {
      "text/html": [
       "<pre>| 5       | 0.0205592         | 0.432241                                 |</pre>"
      ],
      "text/plain": [
       "| 5       | 0.0205592         | 0.432241                                 |"
      ]
     },
     "metadata": {},
     "output_type": "display_data"
    },
    {
     "data": {
      "text/html": [
       "<pre>| 6       | 0.0102796         | 0.44751                                  |</pre>"
      ],
      "text/plain": [
       "| 6       | 0.0102796         | 0.44751                                  |"
      ]
     },
     "metadata": {},
     "output_type": "display_data"
    },
    {
     "data": {
      "text/html": [
       "<pre>| 7       | 0.0051398         | 0.456688                                 |</pre>"
      ],
      "text/plain": [
       "| 7       | 0.0051398         | 0.456688                                 |"
      ]
     },
     "metadata": {},
     "output_type": "display_data"
    },
    {
     "data": {
      "text/html": [
       "<pre>| 8       | 0.0025699         | 0.478704                                 |</pre>"
      ],
      "text/plain": [
       "| 8       | 0.0025699         | 0.478704                                 |"
      ]
     },
     "metadata": {},
     "output_type": "display_data"
    },
    {
     "data": {
      "text/html": [
       "<pre>+---------+-------------------+------------------------------------------+</pre>"
      ],
      "text/plain": [
       "+---------+-------------------+------------------------------------------+"
      ]
     },
     "metadata": {},
     "output_type": "display_data"
    },
    {
     "data": {
      "text/html": [
       "<pre>| Final   | 0.0205592         | 0.432241                                 |</pre>"
      ],
      "text/plain": [
       "| Final   | 0.0205592         | 0.432241                                 |"
      ]
     },
     "metadata": {},
     "output_type": "display_data"
    },
    {
     "data": {
      "text/html": [
       "<pre>+---------+-------------------+------------------------------------------+</pre>"
      ],
      "text/plain": [
       "+---------+-------------------+------------------------------------------+"
      ]
     },
     "metadata": {},
     "output_type": "display_data"
    },
    {
     "data": {
      "text/html": [
       "<pre>Starting Optimization.</pre>"
      ],
      "text/plain": [
       "Starting Optimization."
      ]
     },
     "metadata": {},
     "output_type": "display_data"
    },
    {
     "data": {
      "text/html": [
       "<pre>+---------+--------------+-------------------+-----------------------------------+-------------+</pre>"
      ],
      "text/plain": [
       "+---------+--------------+-------------------+-----------------------------------+-------------+"
      ]
     },
     "metadata": {},
     "output_type": "display_data"
    },
    {
     "data": {
      "text/html": [
       "<pre>| Iter.   | Elapsed Time | Approx. Objective | Approx. Training Predictive Error | Step Size   |</pre>"
      ],
      "text/plain": [
       "| Iter.   | Elapsed Time | Approx. Objective | Approx. Training Predictive Error | Step Size   |"
      ]
     },
     "metadata": {},
     "output_type": "display_data"
    },
    {
     "data": {
      "text/html": [
       "<pre>+---------+--------------+-------------------+-----------------------------------+-------------+</pre>"
      ],
      "text/plain": [
       "+---------+--------------+-------------------+-----------------------------------+-------------+"
      ]
     },
     "metadata": {},
     "output_type": "display_data"
    },
    {
     "data": {
      "text/html": [
       "<pre>| Initial | 145us        | 0.67732           | 0.67732                           |             |</pre>"
      ],
      "text/plain": [
       "| Initial | 145us        | 0.67732           | 0.67732                           |             |"
      ]
     },
     "metadata": {},
     "output_type": "display_data"
    },
    {
     "data": {
      "text/html": [
       "<pre>+---------+--------------+-------------------+-----------------------------------+-------------+</pre>"
      ],
      "text/plain": [
       "+---------+--------------+-------------------+-----------------------------------+-------------+"
      ]
     },
     "metadata": {},
     "output_type": "display_data"
    },
    {
     "data": {
      "text/html": [
       "<pre>| 1       | 25.42s       | 0.523766          | 0.464543                          | 0.0205592   |</pre>"
      ],
      "text/plain": [
       "| 1       | 25.42s       | 0.523766          | 0.464543                          | 0.0205592   |"
      ]
     },
     "metadata": {},
     "output_type": "display_data"
    },
    {
     "data": {
      "text/html": [
       "<pre>| 2       | 48.84s       | 0.49183           | 0.443077                          | 0.0205592   |</pre>"
      ],
      "text/plain": [
       "| 2       | 48.84s       | 0.49183           | 0.443077                          | 0.0205592   |"
      ]
     },
     "metadata": {},
     "output_type": "display_data"
    },
    {
     "data": {
      "text/html": [
       "<pre>| 3       | 1m 6s        | 0.482086          | 0.43556                           | 0.0205592   |</pre>"
      ],
      "text/plain": [
       "| 3       | 1m 6s        | 0.482086          | 0.43556                           | 0.0205592   |"
      ]
     },
     "metadata": {},
     "output_type": "display_data"
    },
    {
     "data": {
      "text/html": [
       "<pre>| 4       | 1m 21s       | 0.47619           | 0.43038                           | 0.0205592   |</pre>"
      ],
      "text/plain": [
       "| 4       | 1m 21s       | 0.47619           | 0.43038                           | 0.0205592   |"
      ]
     },
     "metadata": {},
     "output_type": "display_data"
    },
    {
     "data": {
      "text/html": [
       "<pre>| 5       | 1m 42s       | 0.471918          | 0.426406                          | 0.0205592   |</pre>"
      ],
      "text/plain": [
       "| 5       | 1m 42s       | 0.471918          | 0.426406                          | 0.0205592   |"
      ]
     },
     "metadata": {},
     "output_type": "display_data"
    },
    {
     "data": {
      "text/html": [
       "<pre>| 6       | 2m 7s        | 0.46864           | 0.423299                          | 0.0205592   |</pre>"
      ],
      "text/plain": [
       "| 6       | 2m 7s        | 0.46864           | 0.423299                          | 0.0205592   |"
      ]
     },
     "metadata": {},
     "output_type": "display_data"
    },
    {
     "data": {
      "text/html": [
       "<pre>| 7       | 2m 34s       | 0.46602           | 0.420821                          | 0.0205592   |</pre>"
      ],
      "text/plain": [
       "| 7       | 2m 34s       | 0.46602           | 0.420821                          | 0.0205592   |"
      ]
     },
     "metadata": {},
     "output_type": "display_data"
    },
    {
     "data": {
      "text/html": [
       "<pre>| 8       | 2m 59s       | 0.46384           | 0.418777                          | 0.0205592   |</pre>"
      ],
      "text/plain": [
       "| 8       | 2m 59s       | 0.46384           | 0.418777                          | 0.0205592   |"
      ]
     },
     "metadata": {},
     "output_type": "display_data"
    },
    {
     "data": {
      "text/html": [
       "<pre>| 9       | 3m 24s       | 0.461885          | 0.416988                          | 0.0205592   |</pre>"
      ],
      "text/plain": [
       "| 9       | 3m 24s       | 0.461885          | 0.416988                          | 0.0205592   |"
      ]
     },
     "metadata": {},
     "output_type": "display_data"
    },
    {
     "data": {
      "text/html": [
       "<pre>| 10      | 3m 50s       | 0.460249          | 0.415521                          | 0.0205592   |</pre>"
      ],
      "text/plain": [
       "| 10      | 3m 50s       | 0.460249          | 0.415521                          | 0.0205592   |"
      ]
     },
     "metadata": {},
     "output_type": "display_data"
    },
    {
     "data": {
      "text/html": [
       "<pre>| 11      | 4m 16s       | 0.458771          | 0.414216                          | 0.0205592   |</pre>"
      ],
      "text/plain": [
       "| 11      | 4m 16s       | 0.458771          | 0.414216                          | 0.0205592   |"
      ]
     },
     "metadata": {},
     "output_type": "display_data"
    },
    {
     "data": {
      "text/html": [
       "<pre>| 12      | 4m 41s       | 0.457506          | 0.413116                          | 0.0205592   |</pre>"
      ],
      "text/plain": [
       "| 12      | 4m 41s       | 0.457506          | 0.413116                          | 0.0205592   |"
      ]
     },
     "metadata": {},
     "output_type": "display_data"
    },
    {
     "data": {
      "text/html": [
       "<pre>| 13      | 5m 3s        | 0.456282          | 0.412066                          | 0.0205592   |</pre>"
      ],
      "text/plain": [
       "| 13      | 5m 3s        | 0.456282          | 0.412066                          | 0.0205592   |"
      ]
     },
     "metadata": {},
     "output_type": "display_data"
    },
    {
     "data": {
      "text/html": [
       "<pre>| 14      | 5m 17s       | 0.455221          | 0.411179                          | 0.0205592   |</pre>"
      ],
      "text/plain": [
       "| 14      | 5m 17s       | 0.455221          | 0.411179                          | 0.0205592   |"
      ]
     },
     "metadata": {},
     "output_type": "display_data"
    },
    {
     "data": {
      "text/html": [
       "<pre>| 15      | 5m 31s       | 0.454187          | 0.410316                          | 0.0205592   |</pre>"
      ],
      "text/plain": [
       "| 15      | 5m 31s       | 0.454187          | 0.410316                          | 0.0205592   |"
      ]
     },
     "metadata": {},
     "output_type": "display_data"
    },
    {
     "data": {
      "text/html": [
       "<pre>| 16      | 5m 46s       | 0.453269          | 0.409564                          | 0.0205592   |</pre>"
      ],
      "text/plain": [
       "| 16      | 5m 46s       | 0.453269          | 0.409564                          | 0.0205592   |"
      ]
     },
     "metadata": {},
     "output_type": "display_data"
    },
    {
     "data": {
      "text/html": [
       "<pre>| 17      | 6m 0s        | 0.452373          | 0.408831                          | 0.0205592   |</pre>"
      ],
      "text/plain": [
       "| 17      | 6m 0s        | 0.452373          | 0.408831                          | 0.0205592   |"
      ]
     },
     "metadata": {},
     "output_type": "display_data"
    },
    {
     "data": {
      "text/html": [
       "<pre>| 18      | 6m 15s       | 0.451581          | 0.408197                          | 0.0205592   |</pre>"
      ],
      "text/plain": [
       "| 18      | 6m 15s       | 0.451581          | 0.408197                          | 0.0205592   |"
      ]
     },
     "metadata": {},
     "output_type": "display_data"
    },
    {
     "data": {
      "text/html": [
       "<pre>| 19      | 6m 33s       | 0.450809          | 0.407579                          | 0.0205592   |</pre>"
      ],
      "text/plain": [
       "| 19      | 6m 33s       | 0.450809          | 0.407579                          | 0.0205592   |"
      ]
     },
     "metadata": {},
     "output_type": "display_data"
    },
    {
     "data": {
      "text/html": [
       "<pre>| 20      | 7m 0s        | 0.450088          | 0.407003                          | 0.0205592   |</pre>"
      ],
      "text/plain": [
       "| 20      | 7m 0s        | 0.450088          | 0.407003                          | 0.0205592   |"
      ]
     },
     "metadata": {},
     "output_type": "display_data"
    },
    {
     "data": {
      "text/html": [
       "<pre>| 21      | 7m 29s       | 0.449377          | 0.40643                           | 0.0205592   |</pre>"
      ],
      "text/plain": [
       "| 21      | 7m 29s       | 0.449377          | 0.40643                           | 0.0205592   |"
      ]
     },
     "metadata": {},
     "output_type": "display_data"
    },
    {
     "data": {
      "text/html": [
       "<pre>| 22      | 7m 55s       | 0.448733          | 0.405923                          | 0.0205592   |</pre>"
      ],
      "text/plain": [
       "| 22      | 7m 55s       | 0.448733          | 0.405923                          | 0.0205592   |"
      ]
     },
     "metadata": {},
     "output_type": "display_data"
    },
    {
     "data": {
      "text/html": [
       "<pre>| 23      | 8m 22s       | 0.448143          | 0.40546                           | 0.0205592   |</pre>"
      ],
      "text/plain": [
       "| 23      | 8m 22s       | 0.448143          | 0.40546                           | 0.0205592   |"
      ]
     },
     "metadata": {},
     "output_type": "display_data"
    },
    {
     "data": {
      "text/html": [
       "<pre>| 24      | 8m 48s       | 0.447504          | 0.404943                          | 0.0205592   |</pre>"
      ],
      "text/plain": [
       "| 24      | 8m 48s       | 0.447504          | 0.404943                          | 0.0205592   |"
      ]
     },
     "metadata": {},
     "output_type": "display_data"
    },
    {
     "data": {
      "text/html": [
       "<pre>| 25      | 9m 9s        | 0.446954          | 0.404507                          | 0.0205592   |</pre>"
      ],
      "text/plain": [
       "| 25      | 9m 9s        | 0.446954          | 0.404507                          | 0.0205592   |"
      ]
     },
     "metadata": {},
     "output_type": "display_data"
    },
    {
     "data": {
      "text/html": [
       "<pre>| 26      | 9m 23s       | 0.446449          | 0.404111                          | 0.0205592   |</pre>"
      ],
      "text/plain": [
       "| 26      | 9m 23s       | 0.446449          | 0.404111                          | 0.0205592   |"
      ]
     },
     "metadata": {},
     "output_type": "display_data"
    },
    {
     "data": {
      "text/html": [
       "<pre>| 27      | 9m 37s       | 0.445904          | 0.403669                          | 0.0205592   |</pre>"
      ],
      "text/plain": [
       "| 27      | 9m 37s       | 0.445904          | 0.403669                          | 0.0205592   |"
      ]
     },
     "metadata": {},
     "output_type": "display_data"
    },
    {
     "data": {
      "text/html": [
       "<pre>| 28      | 9m 51s       | 0.445401          | 0.403266                          | 0.0205592   |</pre>"
      ],
      "text/plain": [
       "| 28      | 9m 51s       | 0.445401          | 0.403266                          | 0.0205592   |"
      ]
     },
     "metadata": {},
     "output_type": "display_data"
    },
    {
     "data": {
      "text/html": [
       "<pre>| 29      | 10m 5s       | 0.444921          | 0.402877                          | 0.0205592   |</pre>"
      ],
      "text/plain": [
       "| 29      | 10m 5s       | 0.444921          | 0.402877                          | 0.0205592   |"
      ]
     },
     "metadata": {},
     "output_type": "display_data"
    },
    {
     "data": {
      "text/html": [
       "<pre>| 30      | 10m 19s      | 0.444489          | 0.402532                          | 0.0205592   |</pre>"
      ],
      "text/plain": [
       "| 30      | 10m 19s      | 0.444489          | 0.402532                          | 0.0205592   |"
      ]
     },
     "metadata": {},
     "output_type": "display_data"
    },
    {
     "data": {
      "text/html": [
       "<pre>| 31      | 10m 33s      | 0.444023          | 0.40215                           | 0.0205592   |</pre>"
      ],
      "text/plain": [
       "| 31      | 10m 33s      | 0.444023          | 0.40215                           | 0.0205592   |"
      ]
     },
     "metadata": {},
     "output_type": "display_data"
    },
    {
     "data": {
      "text/html": [
       "<pre>| 32      | 10m 48s      | 0.443588          | 0.401795                          | 0.0205592   |</pre>"
      ],
      "text/plain": [
       "| 32      | 10m 48s      | 0.443588          | 0.401795                          | 0.0205592   |"
      ]
     },
     "metadata": {},
     "output_type": "display_data"
    },
    {
     "data": {
      "text/html": [
       "<pre>| 33      | 11m 2s       | 0.443186          | 0.401463                          | 0.0205592   |</pre>"
      ],
      "text/plain": [
       "| 33      | 11m 2s       | 0.443186          | 0.401463                          | 0.0205592   |"
      ]
     },
     "metadata": {},
     "output_type": "display_data"
    },
    {
     "data": {
      "text/html": [
       "<pre>| 34      | 11m 15s      | 0.442777          | 0.401123                          | 0.0205592   |</pre>"
      ],
      "text/plain": [
       "| 34      | 11m 15s      | 0.442777          | 0.401123                          | 0.0205592   |"
      ]
     },
     "metadata": {},
     "output_type": "display_data"
    },
    {
     "data": {
      "text/html": [
       "<pre>| 35      | 11m 31s      | 0.442345          | 0.400752                          | 0.0205592   |</pre>"
      ],
      "text/plain": [
       "| 35      | 11m 31s      | 0.442345          | 0.400752                          | 0.0205592   |"
      ]
     },
     "metadata": {},
     "output_type": "display_data"
    },
    {
     "data": {
      "text/html": [
       "<pre>| 36      | 11m 47s      | 0.441994          | 0.400461                          | 0.0205592   |</pre>"
      ],
      "text/plain": [
       "| 36      | 11m 47s      | 0.441994          | 0.400461                          | 0.0205592   |"
      ]
     },
     "metadata": {},
     "output_type": "display_data"
    },
    {
     "data": {
      "text/html": [
       "<pre>| 37      | 12m 3s       | 0.44162           | 0.40014                           | 0.0205592   |</pre>"
      ],
      "text/plain": [
       "| 37      | 12m 3s       | 0.44162           | 0.40014                           | 0.0205592   |"
      ]
     },
     "metadata": {},
     "output_type": "display_data"
    },
    {
     "data": {
      "text/html": [
       "<pre>| 38      | 12m 19s      | 0.441279          | 0.399847                          | 0.0205592   |</pre>"
      ],
      "text/plain": [
       "| 38      | 12m 19s      | 0.441279          | 0.399847                          | 0.0205592   |"
      ]
     },
     "metadata": {},
     "output_type": "display_data"
    },
    {
     "data": {
      "text/html": [
       "<pre>| 39      | 12m 34s      | 0.440908          | 0.399526                          | 0.0205592   |</pre>"
      ],
      "text/plain": [
       "| 39      | 12m 34s      | 0.440908          | 0.399526                          | 0.0205592   |"
      ]
     },
     "metadata": {},
     "output_type": "display_data"
    },
    {
     "data": {
      "text/html": [
       "<pre>| 40      | 12m 51s      | 0.440606          | 0.39927                           | 0.0205592   |</pre>"
      ],
      "text/plain": [
       "| 40      | 12m 51s      | 0.440606          | 0.39927                           | 0.0205592   |"
      ]
     },
     "metadata": {},
     "output_type": "display_data"
    },
    {
     "data": {
      "text/html": [
       "<pre>| 41      | 13m 19s      | 0.44026           | 0.398964                          | 0.0205592   |</pre>"
      ],
      "text/plain": [
       "| 41      | 13m 19s      | 0.44026           | 0.398964                          | 0.0205592   |"
      ]
     },
     "metadata": {},
     "output_type": "display_data"
    },
    {
     "data": {
      "text/html": [
       "<pre>| 42      | 13m 46s      | 0.439972          | 0.398714                          | 0.0205592   |</pre>"
      ],
      "text/plain": [
       "| 42      | 13m 46s      | 0.439972          | 0.398714                          | 0.0205592   |"
      ]
     },
     "metadata": {},
     "output_type": "display_data"
    },
    {
     "data": {
      "text/html": [
       "<pre>| 43      | 14m 11s      | 0.439633          | 0.39841                           | 0.0205592   |</pre>"
      ],
      "text/plain": [
       "| 43      | 14m 11s      | 0.439633          | 0.39841                           | 0.0205592   |"
      ]
     },
     "metadata": {},
     "output_type": "display_data"
    },
    {
     "data": {
      "text/html": [
       "<pre>| 44      | 14m 40s      | 0.439321          | 0.398132                          | 0.0205592   |</pre>"
      ],
      "text/plain": [
       "| 44      | 14m 40s      | 0.439321          | 0.398132                          | 0.0205592   |"
      ]
     },
     "metadata": {},
     "output_type": "display_data"
    },
    {
     "data": {
      "text/html": [
       "<pre>| 45      | 15m 4s       | 0.439052          | 0.397884                          | 0.0205592   |</pre>"
      ],
      "text/plain": [
       "| 45      | 15m 4s       | 0.439052          | 0.397884                          | 0.0205592   |"
      ]
     },
     "metadata": {},
     "output_type": "display_data"
    },
    {
     "data": {
      "text/html": [
       "<pre>| 46      | 15m 27s      | 0.438774          | 0.397634                          | 0.0205592   |</pre>"
      ],
      "text/plain": [
       "| 46      | 15m 27s      | 0.438774          | 0.397634                          | 0.0205592   |"
      ]
     },
     "metadata": {},
     "output_type": "display_data"
    },
    {
     "data": {
      "text/html": [
       "<pre>| 47      | 15m 44s      | 0.438487          | 0.397368                          | 0.0205592   |</pre>"
      ],
      "text/plain": [
       "| 47      | 15m 44s      | 0.438487          | 0.397368                          | 0.0205592   |"
      ]
     },
     "metadata": {},
     "output_type": "display_data"
    },
    {
     "data": {
      "text/html": [
       "<pre>| 48      | 15m 58s      | 0.438213          | 0.397113                          | 0.0205592   |</pre>"
      ],
      "text/plain": [
       "| 48      | 15m 58s      | 0.438213          | 0.397113                          | 0.0205592   |"
      ]
     },
     "metadata": {},
     "output_type": "display_data"
    },
    {
     "data": {
      "text/html": [
       "<pre>| 49      | 16m 14s      | 0.437934          | 0.396853                          | 0.0205592   |</pre>"
      ],
      "text/plain": [
       "| 49      | 16m 14s      | 0.437934          | 0.396853                          | 0.0205592   |"
      ]
     },
     "metadata": {},
     "output_type": "display_data"
    },
    {
     "data": {
      "text/html": [
       "<pre>| 50      | 16m 29s      | 0.437694          | 0.396626                          | 0.0205592   |</pre>"
      ],
      "text/plain": [
       "| 50      | 16m 29s      | 0.437694          | 0.396626                          | 0.0205592   |"
      ]
     },
     "metadata": {},
     "output_type": "display_data"
    },
    {
     "data": {
      "text/html": [
       "<pre>| 51      | 16m 43s      | 0.43742           | 0.396368                          | 0.0205592   |</pre>"
      ],
      "text/plain": [
       "| 51      | 16m 43s      | 0.43742           | 0.396368                          | 0.0205592   |"
      ]
     },
     "metadata": {},
     "output_type": "display_data"
    },
    {
     "data": {
      "text/html": [
       "<pre>| 52      | 16m 57s      | 0.437171          | 0.396128                          | 0.0205592   |</pre>"
      ],
      "text/plain": [
       "| 52      | 16m 57s      | 0.437171          | 0.396128                          | 0.0205592   |"
      ]
     },
     "metadata": {},
     "output_type": "display_data"
    },
    {
     "data": {
      "text/html": [
       "<pre>| 53      | 17m 12s      | 0.436912          | 0.395879                          | 0.0205592   |</pre>"
      ],
      "text/plain": [
       "| 53      | 17m 12s      | 0.436912          | 0.395879                          | 0.0205592   |"
      ]
     },
     "metadata": {},
     "output_type": "display_data"
    },
    {
     "data": {
      "text/html": [
       "<pre>| 54      | 17m 28s      | 0.436686          | 0.395659                          | 0.0205592   |</pre>"
      ],
      "text/plain": [
       "| 54      | 17m 28s      | 0.436686          | 0.395659                          | 0.0205592   |"
      ]
     },
     "metadata": {},
     "output_type": "display_data"
    },
    {
     "data": {
      "text/html": [
       "<pre>| 55      | 17m 42s      | 0.436437          | 0.395416                          | 0.0205592   |</pre>"
      ],
      "text/plain": [
       "| 55      | 17m 42s      | 0.436437          | 0.395416                          | 0.0205592   |"
      ]
     },
     "metadata": {},
     "output_type": "display_data"
    },
    {
     "data": {
      "text/html": [
       "<pre>| 56      | 18m 2s       | 0.436219          | 0.3952                            | 0.0205592   |</pre>"
      ],
      "text/plain": [
       "| 56      | 18m 2s       | 0.436219          | 0.3952                            | 0.0205592   |"
      ]
     },
     "metadata": {},
     "output_type": "display_data"
    },
    {
     "data": {
      "text/html": [
       "<pre>| 57      | 18m 31s      | 0.435959          | 0.394941                          | 0.0205592   |</pre>"
      ],
      "text/plain": [
       "| 57      | 18m 31s      | 0.435959          | 0.394941                          | 0.0205592   |"
      ]
     },
     "metadata": {},
     "output_type": "display_data"
    },
    {
     "data": {
      "text/html": [
       "<pre>| 58      | 18m 58s      | 0.435756          | 0.394738                          | 0.0205592   |</pre>"
      ],
      "text/plain": [
       "| 58      | 18m 58s      | 0.435756          | 0.394738                          | 0.0205592   |"
      ]
     },
     "metadata": {},
     "output_type": "display_data"
    },
    {
     "data": {
      "text/html": [
       "<pre>| 59      | 19m 23s      | 0.435562          | 0.39454                           | 0.0205592   |</pre>"
      ],
      "text/plain": [
       "| 59      | 19m 23s      | 0.435562          | 0.39454                           | 0.0205592   |"
      ]
     },
     "metadata": {},
     "output_type": "display_data"
    },
    {
     "data": {
      "text/html": [
       "<pre>| 60      | 19m 49s      | 0.435337          | 0.394312                          | 0.0205592   |</pre>"
      ],
      "text/plain": [
       "| 60      | 19m 49s      | 0.435337          | 0.394312                          | 0.0205592   |"
      ]
     },
     "metadata": {},
     "output_type": "display_data"
    },
    {
     "data": {
      "text/html": [
       "<pre>| 61      | 20m 16s      | 0.435087          | 0.394058                          | 0.0205592   |</pre>"
      ],
      "text/plain": [
       "| 61      | 20m 16s      | 0.435087          | 0.394058                          | 0.0205592   |"
      ]
     },
     "metadata": {},
     "output_type": "display_data"
    },
    {
     "data": {
      "text/html": [
       "<pre>| 62      | 20m 33s      | 0.434939          | 0.393904                          | 0.0205592   |</pre>"
      ],
      "text/plain": [
       "| 62      | 20m 33s      | 0.434939          | 0.393904                          | 0.0205592   |"
      ]
     },
     "metadata": {},
     "output_type": "display_data"
    },
    {
     "data": {
      "text/html": [
       "<pre>| 63      | 20m 50s      | 0.434729          | 0.393683                          | 0.0205592   |</pre>"
      ],
      "text/plain": [
       "| 63      | 20m 50s      | 0.434729          | 0.393683                          | 0.0205592   |"
      ]
     },
     "metadata": {},
     "output_type": "display_data"
    },
    {
     "data": {
      "text/html": [
       "<pre>| 64      | 21m 5s       | 0.434515          | 0.393461                          | 0.0205592   |</pre>"
      ],
      "text/plain": [
       "| 64      | 21m 5s       | 0.434515          | 0.393461                          | 0.0205592   |"
      ]
     },
     "metadata": {},
     "output_type": "display_data"
    },
    {
     "data": {
      "text/html": [
       "<pre>| 65      | 21m 20s      | 0.434345          | 0.393281                          | 0.0205592   |</pre>"
      ],
      "text/plain": [
       "| 65      | 21m 20s      | 0.434345          | 0.393281                          | 0.0205592   |"
      ]
     },
     "metadata": {},
     "output_type": "display_data"
    },
    {
     "data": {
      "text/html": [
       "<pre>| 66      | 21m 40s      | 0.434153          | 0.393075                          | 0.0205592   |</pre>"
      ],
      "text/plain": [
       "| 66      | 21m 40s      | 0.434153          | 0.393075                          | 0.0205592   |"
      ]
     },
     "metadata": {},
     "output_type": "display_data"
    },
    {
     "data": {
      "text/html": [
       "<pre>| 67      | 22m 8s       | 0.433928          | 0.392838                          | 0.0205592   |</pre>"
      ],
      "text/plain": [
       "| 67      | 22m 8s       | 0.433928          | 0.392838                          | 0.0205592   |"
      ]
     },
     "metadata": {},
     "output_type": "display_data"
    },
    {
     "data": {
      "text/html": [
       "<pre>| 68      | 22m 35s      | 0.433793          | 0.392686                          | 0.0205592   |</pre>"
      ],
      "text/plain": [
       "| 68      | 22m 35s      | 0.433793          | 0.392686                          | 0.0205592   |"
      ]
     },
     "metadata": {},
     "output_type": "display_data"
    },
    {
     "data": {
      "text/html": [
       "<pre>| 69      | 22m 59s      | 0.433565          | 0.392443                          | 0.0205592   |</pre>"
      ],
      "text/plain": [
       "| 69      | 22m 59s      | 0.433565          | 0.392443                          | 0.0205592   |"
      ]
     },
     "metadata": {},
     "output_type": "display_data"
    },
    {
     "data": {
      "text/html": [
       "<pre>| 70      | 23m 25s      | 0.433385          | 0.392247                          | 0.0205592   |</pre>"
      ],
      "text/plain": [
       "| 70      | 23m 25s      | 0.433385          | 0.392247                          | 0.0205592   |"
      ]
     },
     "metadata": {},
     "output_type": "display_data"
    },
    {
     "data": {
      "text/html": [
       "<pre>| 71      | 23m 52s      | 0.433228          | 0.392074                          | 0.0205592   |</pre>"
      ],
      "text/plain": [
       "| 71      | 23m 52s      | 0.433228          | 0.392074                          | 0.0205592   |"
      ]
     },
     "metadata": {},
     "output_type": "display_data"
    },
    {
     "data": {
      "text/html": [
       "<pre>| 72      | 24m 18s      | 0.43303           | 0.391857                          | 0.0205592   |</pre>"
      ],
      "text/plain": [
       "| 72      | 24m 18s      | 0.43303           | 0.391857                          | 0.0205592   |"
      ]
     },
     "metadata": {},
     "output_type": "display_data"
    },
    {
     "data": {
      "text/html": [
       "<pre>| 73      | 24m 38s      | 0.43289           | 0.391696                          | 0.0205592   |</pre>"
      ],
      "text/plain": [
       "| 73      | 24m 38s      | 0.43289           | 0.391696                          | 0.0205592   |"
      ]
     },
     "metadata": {},
     "output_type": "display_data"
    },
    {
     "data": {
      "text/html": [
       "<pre>| 74      | 24m 59s      | 0.432687          | 0.391473                          | 0.0205592   |</pre>"
      ],
      "text/plain": [
       "| 74      | 24m 59s      | 0.432687          | 0.391473                          | 0.0205592   |"
      ]
     },
     "metadata": {},
     "output_type": "display_data"
    },
    {
     "data": {
      "text/html": [
       "<pre>| 75      | 25m 13s      | 0.432521          | 0.391286                          | 0.0205592   |</pre>"
      ],
      "text/plain": [
       "| 75      | 25m 13s      | 0.432521          | 0.391286                          | 0.0205592   |"
      ]
     },
     "metadata": {},
     "output_type": "display_data"
    },
    {
     "data": {
      "text/html": [
       "<pre>| 76      | 25m 27s      | 0.432348          | 0.391091                          | 0.0205592   |</pre>"
      ],
      "text/plain": [
       "| 76      | 25m 27s      | 0.432348          | 0.391091                          | 0.0205592   |"
      ]
     },
     "metadata": {},
     "output_type": "display_data"
    },
    {
     "data": {
      "text/html": [
       "<pre>| 77      | 25m 41s      | 0.43222           | 0.390938                          | 0.0205592   |</pre>"
      ],
      "text/plain": [
       "| 77      | 25m 41s      | 0.43222           | 0.390938                          | 0.0205592   |"
      ]
     },
     "metadata": {},
     "output_type": "display_data"
    },
    {
     "data": {
      "text/html": [
       "<pre>| 78      | 25m 55s      | 0.43204           | 0.390735                          | 0.0205592   |</pre>"
      ],
      "text/plain": [
       "| 78      | 25m 55s      | 0.43204           | 0.390735                          | 0.0205592   |"
      ]
     },
     "metadata": {},
     "output_type": "display_data"
    },
    {
     "data": {
      "text/html": [
       "<pre>| 79      | 26m 10s      | 0.431895          | 0.390565                          | 0.0205592   |</pre>"
      ],
      "text/plain": [
       "| 79      | 26m 10s      | 0.431895          | 0.390565                          | 0.0205592   |"
      ]
     },
     "metadata": {},
     "output_type": "display_data"
    },
    {
     "data": {
      "text/html": [
       "<pre>| 80      | 26m 24s      | 0.431739          | 0.390383                          | 0.0205592   |</pre>"
      ],
      "text/plain": [
       "| 80      | 26m 24s      | 0.431739          | 0.390383                          | 0.0205592   |"
      ]
     },
     "metadata": {},
     "output_type": "display_data"
    },
    {
     "data": {
      "text/html": [
       "<pre>| 81      | 26m 38s      | 0.431589          | 0.390209                          | 0.0205592   |</pre>"
      ],
      "text/plain": [
       "| 81      | 26m 38s      | 0.431589          | 0.390209                          | 0.0205592   |"
      ]
     },
     "metadata": {},
     "output_type": "display_data"
    },
    {
     "data": {
      "text/html": [
       "<pre>| 82      | 26m 53s      | 0.431449          | 0.39004                           | 0.0205592   |</pre>"
      ],
      "text/plain": [
       "| 82      | 26m 53s      | 0.431449          | 0.39004                           | 0.0205592   |"
      ]
     },
     "metadata": {},
     "output_type": "display_data"
    },
    {
     "data": {
      "text/html": [
       "<pre>| 83      | 27m 7s       | 0.431293          | 0.389857                          | 0.0205592   |</pre>"
      ],
      "text/plain": [
       "| 83      | 27m 7s       | 0.431293          | 0.389857                          | 0.0205592   |"
      ]
     },
     "metadata": {},
     "output_type": "display_data"
    },
    {
     "data": {
      "text/html": [
       "<pre>| 84      | 27m 23s      | 0.431138          | 0.389672                          | 0.0205592   |</pre>"
      ],
      "text/plain": [
       "| 84      | 27m 23s      | 0.431138          | 0.389672                          | 0.0205592   |"
      ]
     },
     "metadata": {},
     "output_type": "display_data"
    },
    {
     "data": {
      "text/html": [
       "<pre>| 85      | 27m 46s      | 0.431025          | 0.389528                          | 0.0205592   |</pre>"
      ],
      "text/plain": [
       "| 85      | 27m 46s      | 0.431025          | 0.389528                          | 0.0205592   |"
      ]
     },
     "metadata": {},
     "output_type": "display_data"
    },
    {
     "data": {
      "text/html": [
       "<pre>| 86      | 28m 15s      | 0.43089           | 0.389368                          | 0.0205592   |</pre>"
      ],
      "text/plain": [
       "| 86      | 28m 15s      | 0.43089           | 0.389368                          | 0.0205592   |"
      ]
     },
     "metadata": {},
     "output_type": "display_data"
    },
    {
     "data": {
      "text/html": [
       "<pre>| 87      | 28m 40s      | 0.430714          | 0.389159                          | 0.0205592   |</pre>"
      ],
      "text/plain": [
       "| 87      | 28m 40s      | 0.430714          | 0.389159                          | 0.0205592   |"
      ]
     },
     "metadata": {},
     "output_type": "display_data"
    },
    {
     "data": {
      "text/html": [
       "<pre>| 88      | 29m 7s       | 0.430552          | 0.388969                          | 0.0205592   |</pre>"
      ],
      "text/plain": [
       "| 88      | 29m 7s       | 0.430552          | 0.388969                          | 0.0205592   |"
      ]
     },
     "metadata": {},
     "output_type": "display_data"
    },
    {
     "data": {
      "text/html": [
       "<pre>| 89      | 29m 31s      | 0.430457          | 0.388841                          | 0.0205592   |</pre>"
      ],
      "text/plain": [
       "| 89      | 29m 31s      | 0.430457          | 0.388841                          | 0.0205592   |"
      ]
     },
     "metadata": {},
     "output_type": "display_data"
    },
    {
     "data": {
      "text/html": [
       "<pre>| 90      | 29m 57s      | 0.430298          | 0.388652                          | 0.0205592   |</pre>"
      ],
      "text/plain": [
       "| 90      | 29m 57s      | 0.430298          | 0.388652                          | 0.0205592   |"
      ]
     },
     "metadata": {},
     "output_type": "display_data"
    },
    {
     "data": {
      "text/html": [
       "<pre>| 91      | 30m 24s      | 0.430174          | 0.388497                          | 0.0205592   |</pre>"
      ],
      "text/plain": [
       "| 91      | 30m 24s      | 0.430174          | 0.388497                          | 0.0205592   |"
      ]
     },
     "metadata": {},
     "output_type": "display_data"
    },
    {
     "data": {
      "text/html": [
       "<pre>| 92      | 30m 48s      | 0.430038          | 0.388329                          | 0.0205592   |</pre>"
      ],
      "text/plain": [
       "| 92      | 30m 48s      | 0.430038          | 0.388329                          | 0.0205592   |"
      ]
     },
     "metadata": {},
     "output_type": "display_data"
    },
    {
     "data": {
      "text/html": [
       "<pre>| 93      | 31m 12s      | 0.429901          | 0.38816                           | 0.0205592   |</pre>"
      ],
      "text/plain": [
       "| 93      | 31m 12s      | 0.429901          | 0.38816                           | 0.0205592   |"
      ]
     },
     "metadata": {},
     "output_type": "display_data"
    },
    {
     "data": {
      "text/html": [
       "<pre>| 94      | 31m 32s      | 0.429786          | 0.388012                          | 0.0205592   |</pre>"
      ],
      "text/plain": [
       "| 94      | 31m 32s      | 0.429786          | 0.388012                          | 0.0205592   |"
      ]
     },
     "metadata": {},
     "output_type": "display_data"
    },
    {
     "data": {
      "text/html": [
       "<pre>| 95      | 31m 57s      | 0.429643          | 0.387836                          | 0.0205592   |</pre>"
      ],
      "text/plain": [
       "| 95      | 31m 57s      | 0.429643          | 0.387836                          | 0.0205592   |"
      ]
     },
     "metadata": {},
     "output_type": "display_data"
    },
    {
     "data": {
      "text/html": [
       "<pre>| 96      | 32m 21s      | 0.429503          | 0.387662                          | 0.0205592   |</pre>"
      ],
      "text/plain": [
       "| 96      | 32m 21s      | 0.429503          | 0.387662                          | 0.0205592   |"
      ]
     },
     "metadata": {},
     "output_type": "display_data"
    },
    {
     "data": {
      "text/html": [
       "<pre>| 97      | 32m 43s      | 0.429385          | 0.387509                          | 0.0205592   |</pre>"
      ],
      "text/plain": [
       "| 97      | 32m 43s      | 0.429385          | 0.387509                          | 0.0205592   |"
      ]
     },
     "metadata": {},
     "output_type": "display_data"
    },
    {
     "data": {
      "text/html": [
       "<pre>| 98      | 33m 1s       | 0.429267          | 0.387353                          | 0.0205592   |</pre>"
      ],
      "text/plain": [
       "| 98      | 33m 1s       | 0.429267          | 0.387353                          | 0.0205592   |"
      ]
     },
     "metadata": {},
     "output_type": "display_data"
    },
    {
     "data": {
      "text/html": [
       "<pre>| 99      | 33m 18s      | 0.429162          | 0.387213                          | 0.0205592   |</pre>"
      ],
      "text/plain": [
       "| 99      | 33m 18s      | 0.429162          | 0.387213                          | 0.0205592   |"
      ]
     },
     "metadata": {},
     "output_type": "display_data"
    },
    {
     "data": {
      "text/html": [
       "<pre>| 100     | 33m 38s      | 0.429014          | 0.387032                          | 0.0205592   |</pre>"
      ],
      "text/plain": [
       "| 100     | 33m 38s      | 0.429014          | 0.387032                          | 0.0205592   |"
      ]
     },
     "metadata": {},
     "output_type": "display_data"
    },
    {
     "data": {
      "text/html": [
       "<pre>| 101     | 34m 6s       | 0.42888           | 0.386865                          | 0.0205592   |</pre>"
      ],
      "text/plain": [
       "| 101     | 34m 6s       | 0.42888           | 0.386865                          | 0.0205592   |"
      ]
     },
     "metadata": {},
     "output_type": "display_data"
    },
    {
     "data": {
      "text/html": [
       "<pre>| 102     | 34m 32s      | 0.428772          | 0.38672                           | 0.0205592   |</pre>"
      ],
      "text/plain": [
       "| 102     | 34m 32s      | 0.428772          | 0.38672                           | 0.0205592   |"
      ]
     },
     "metadata": {},
     "output_type": "display_data"
    },
    {
     "data": {
      "text/html": [
       "<pre>| 103     | 34m 59s      | 0.428668          | 0.386576                          | 0.0205592   |</pre>"
      ],
      "text/plain": [
       "| 103     | 34m 59s      | 0.428668          | 0.386576                          | 0.0205592   |"
      ]
     },
     "metadata": {},
     "output_type": "display_data"
    },
    {
     "data": {
      "text/html": [
       "<pre>| 104     | 35m 26s      | 0.428573          | 0.386445                          | 0.0205592   |</pre>"
      ],
      "text/plain": [
       "| 104     | 35m 26s      | 0.428573          | 0.386445                          | 0.0205592   |"
      ]
     },
     "metadata": {},
     "output_type": "display_data"
    },
    {
     "data": {
      "text/html": [
       "<pre>| 105     | 35m 53s      | 0.428439          | 0.386274                          | 0.0205592   |</pre>"
      ],
      "text/plain": [
       "| 105     | 35m 53s      | 0.428439          | 0.386274                          | 0.0205592   |"
      ]
     },
     "metadata": {},
     "output_type": "display_data"
    },
    {
     "data": {
      "text/html": [
       "<pre>| 106     | 36m 18s      | 0.428335          | 0.386132                          | 0.0205592   |</pre>"
      ],
      "text/plain": [
       "| 106     | 36m 18s      | 0.428335          | 0.386132                          | 0.0205592   |"
      ]
     },
     "metadata": {},
     "output_type": "display_data"
    },
    {
     "data": {
      "text/html": [
       "<pre>| 107     | 36m 45s      | 0.428223          | 0.385981                          | 0.0205592   |</pre>"
      ],
      "text/plain": [
       "| 107     | 36m 45s      | 0.428223          | 0.385981                          | 0.0205592   |"
      ]
     },
     "metadata": {},
     "output_type": "display_data"
    },
    {
     "data": {
      "text/html": [
       "<pre>| 108     | 37m 10s      | 0.428118          | 0.385838                          | 0.0205592   |</pre>"
      ],
      "text/plain": [
       "| 108     | 37m 10s      | 0.428118          | 0.385838                          | 0.0205592   |"
      ]
     },
     "metadata": {},
     "output_type": "display_data"
    },
    {
     "data": {
      "text/html": [
       "<pre>| 109     | 37m 34s      | 0.428004          | 0.385686                          | 0.0205592   |</pre>"
      ],
      "text/plain": [
       "| 109     | 37m 34s      | 0.428004          | 0.385686                          | 0.0205592   |"
      ]
     },
     "metadata": {},
     "output_type": "display_data"
    },
    {
     "data": {
      "text/html": [
       "<pre>| 110     | 38m 0s       | 0.427915          | 0.385556                          | 0.0205592   |</pre>"
      ],
      "text/plain": [
       "| 110     | 38m 0s       | 0.427915          | 0.385556                          | 0.0205592   |"
      ]
     },
     "metadata": {},
     "output_type": "display_data"
    },
    {
     "data": {
      "text/html": [
       "<pre>| 111     | 38m 25s      | 0.42777           | 0.385371                          | 0.0205592   |</pre>"
      ],
      "text/plain": [
       "| 111     | 38m 25s      | 0.42777           | 0.385371                          | 0.0205592   |"
      ]
     },
     "metadata": {},
     "output_type": "display_data"
    },
    {
     "data": {
      "text/html": [
       "<pre>| 112     | 38m 51s      | 0.427683          | 0.385245                          | 0.0205592   |</pre>"
      ],
      "text/plain": [
       "| 112     | 38m 51s      | 0.427683          | 0.385245                          | 0.0205592   |"
      ]
     },
     "metadata": {},
     "output_type": "display_data"
    },
    {
     "data": {
      "text/html": [
       "<pre>| 113     | 39m 15s      | 0.427587          | 0.38511                           | 0.0205592   |</pre>"
      ],
      "text/plain": [
       "| 113     | 39m 15s      | 0.427587          | 0.38511                           | 0.0205592   |"
      ]
     },
     "metadata": {},
     "output_type": "display_data"
    },
    {
     "data": {
      "text/html": [
       "<pre>| 114     | 39m 29s      | 0.427462          | 0.384944                          | 0.0205592   |</pre>"
      ],
      "text/plain": [
       "| 114     | 39m 29s      | 0.427462          | 0.384944                          | 0.0205592   |"
      ]
     },
     "metadata": {},
     "output_type": "display_data"
    },
    {
     "data": {
      "text/html": [
       "<pre>| 115     | 39m 43s      | 0.427382          | 0.384821                          | 0.0205592   |</pre>"
      ],
      "text/plain": [
       "| 115     | 39m 43s      | 0.427382          | 0.384821                          | 0.0205592   |"
      ]
     },
     "metadata": {},
     "output_type": "display_data"
    },
    {
     "data": {
      "text/html": [
       "<pre>| 116     | 39m 58s      | 0.427294          | 0.384694                          | 0.0205592   |</pre>"
      ],
      "text/plain": [
       "| 116     | 39m 58s      | 0.427294          | 0.384694                          | 0.0205592   |"
      ]
     },
     "metadata": {},
     "output_type": "display_data"
    },
    {
     "data": {
      "text/html": [
       "<pre>| 117     | 40m 13s      | 0.427164          | 0.384525                          | 0.0205592   |</pre>"
      ],
      "text/plain": [
       "| 117     | 40m 13s      | 0.427164          | 0.384525                          | 0.0205592   |"
      ]
     },
     "metadata": {},
     "output_type": "display_data"
    },
    {
     "data": {
      "text/html": [
       "<pre>| 118     | 40m 34s      | 0.427072          | 0.384392                          | 0.0205592   |</pre>"
      ],
      "text/plain": [
       "| 118     | 40m 34s      | 0.427072          | 0.384392                          | 0.0205592   |"
      ]
     },
     "metadata": {},
     "output_type": "display_data"
    },
    {
     "data": {
      "text/html": [
       "<pre>| 119     | 40m 56s      | 0.426996          | 0.384273                          | 0.0205592   |</pre>"
      ],
      "text/plain": [
       "| 119     | 40m 56s      | 0.426996          | 0.384273                          | 0.0205592   |"
      ]
     },
     "metadata": {},
     "output_type": "display_data"
    },
    {
     "data": {
      "text/html": [
       "<pre>| 120     | 41m 19s      | 0.426872          | 0.38411                           | 0.0205592   |</pre>"
      ],
      "text/plain": [
       "| 120     | 41m 19s      | 0.426872          | 0.38411                           | 0.0205592   |"
      ]
     },
     "metadata": {},
     "output_type": "display_data"
    },
    {
     "data": {
      "text/html": [
       "<pre>| 121     | 41m 45s      | 0.426785          | 0.383983                          | 0.0205592   |</pre>"
      ],
      "text/plain": [
       "| 121     | 41m 45s      | 0.426785          | 0.383983                          | 0.0205592   |"
      ]
     },
     "metadata": {},
     "output_type": "display_data"
    },
    {
     "data": {
      "text/html": [
       "<pre>| 122     | 42m 7s       | 0.426678          | 0.383831                          | 0.0205592   |</pre>"
      ],
      "text/plain": [
       "| 122     | 42m 7s       | 0.426678          | 0.383831                          | 0.0205592   |"
      ]
     },
     "metadata": {},
     "output_type": "display_data"
    },
    {
     "data": {
      "text/html": [
       "<pre>| 123     | 42m 29s      | 0.42661           | 0.383721                          | 0.0205592   |</pre>"
      ],
      "text/plain": [
       "| 123     | 42m 29s      | 0.42661           | 0.383721                          | 0.0205592   |"
      ]
     },
     "metadata": {},
     "output_type": "display_data"
    },
    {
     "data": {
      "text/html": [
       "<pre>| 124     | 42m 52s      | 0.426506          | 0.383576                          | 0.0205592   |</pre>"
      ],
      "text/plain": [
       "| 124     | 42m 52s      | 0.426506          | 0.383576                          | 0.0205592   |"
      ]
     },
     "metadata": {},
     "output_type": "display_data"
    },
    {
     "data": {
      "text/html": [
       "<pre>| 125     | 43m 15s      | 0.426429          | 0.383458                          | 0.0205592   |</pre>"
      ],
      "text/plain": [
       "| 125     | 43m 15s      | 0.426429          | 0.383458                          | 0.0205592   |"
      ]
     },
     "metadata": {},
     "output_type": "display_data"
    },
    {
     "data": {
      "text/html": [
       "<pre>| 126     | 43m 42s      | 0.426318          | 0.383303                          | 0.0205592   |</pre>"
      ],
      "text/plain": [
       "| 126     | 43m 42s      | 0.426318          | 0.383303                          | 0.0205592   |"
      ]
     },
     "metadata": {},
     "output_type": "display_data"
    },
    {
     "data": {
      "text/html": [
       "<pre>| 127     | 44m 2s       | 0.426256          | 0.383197                          | 0.0205592   |</pre>"
      ],
      "text/plain": [
       "| 127     | 44m 2s       | 0.426256          | 0.383197                          | 0.0205592   |"
      ]
     },
     "metadata": {},
     "output_type": "display_data"
    },
    {
     "data": {
      "text/html": [
       "<pre>| 128     | 44m 18s      | 0.426145          | 0.383043                          | 0.0205592   |</pre>"
      ],
      "text/plain": [
       "| 128     | 44m 18s      | 0.426145          | 0.383043                          | 0.0205592   |"
      ]
     },
     "metadata": {},
     "output_type": "display_data"
    },
    {
     "data": {
      "text/html": [
       "<pre>| 129     | 44m 32s      | 0.426062          | 0.382919                          | 0.0205592   |</pre>"
      ],
      "text/plain": [
       "| 129     | 44m 32s      | 0.426062          | 0.382919                          | 0.0205592   |"
      ]
     },
     "metadata": {},
     "output_type": "display_data"
    },
    {
     "data": {
      "text/html": [
       "<pre>| 130     | 44m 47s      | 0.425987          | 0.382799                          | 0.0205592   |</pre>"
      ],
      "text/plain": [
       "| 130     | 44m 47s      | 0.425987          | 0.382799                          | 0.0205592   |"
      ]
     },
     "metadata": {},
     "output_type": "display_data"
    },
    {
     "data": {
      "text/html": [
       "<pre>| 131     | 45m 1s       | 0.4259            | 0.382667                          | 0.0205592   |</pre>"
      ],
      "text/plain": [
       "| 131     | 45m 1s       | 0.4259            | 0.382667                          | 0.0205592   |"
      ]
     },
     "metadata": {},
     "output_type": "display_data"
    },
    {
     "data": {
      "text/html": [
       "<pre>| 132     | 45m 16s      | 0.425823          | 0.382547                          | 0.0205592   |</pre>"
      ],
      "text/plain": [
       "| 132     | 45m 16s      | 0.425823          | 0.382547                          | 0.0205592   |"
      ]
     },
     "metadata": {},
     "output_type": "display_data"
    },
    {
     "data": {
      "text/html": [
       "<pre>| 133     | 45m 30s      | 0.425738          | 0.382421                          | 0.0205592   |</pre>"
      ],
      "text/plain": [
       "| 133     | 45m 30s      | 0.425738          | 0.382421                          | 0.0205592   |"
      ]
     },
     "metadata": {},
     "output_type": "display_data"
    },
    {
     "data": {
      "text/html": [
       "<pre>| 134     | 45m 45s      | 0.425678          | 0.382316                          | 0.0205592   |</pre>"
      ],
      "text/plain": [
       "| 134     | 45m 45s      | 0.425678          | 0.382316                          | 0.0205592   |"
      ]
     },
     "metadata": {},
     "output_type": "display_data"
    },
    {
     "data": {
      "text/html": [
       "<pre>| 135     | 46m 0s       | 0.425578          | 0.382172                          | 0.0205592   |</pre>"
      ],
      "text/plain": [
       "| 135     | 46m 0s       | 0.425578          | 0.382172                          | 0.0205592   |"
      ]
     },
     "metadata": {},
     "output_type": "display_data"
    },
    {
     "data": {
      "text/html": [
       "<pre>| 136     | 46m 16s      | 0.425484          | 0.382035                          | 0.0205592   |</pre>"
      ],
      "text/plain": [
       "| 136     | 46m 16s      | 0.425484          | 0.382035                          | 0.0205592   |"
      ]
     },
     "metadata": {},
     "output_type": "display_data"
    },
    {
     "data": {
      "text/html": [
       "<pre>| 137     | 46m 32s      | 0.425414          | 0.38192                           | 0.0205592   |</pre>"
      ],
      "text/plain": [
       "| 137     | 46m 32s      | 0.425414          | 0.38192                           | 0.0205592   |"
      ]
     },
     "metadata": {},
     "output_type": "display_data"
    },
    {
     "data": {
      "text/html": [
       "<pre>| 138     | 46m 50s      | 0.425333          | 0.381795                          | 0.0205592   |</pre>"
      ],
      "text/plain": [
       "| 138     | 46m 50s      | 0.425333          | 0.381795                          | 0.0205592   |"
      ]
     },
     "metadata": {},
     "output_type": "display_data"
    },
    {
     "data": {
      "text/html": [
       "<pre>| 139     | 47m 5s       | 0.425295          | 0.381713                          | 0.0205592   |</pre>"
      ],
      "text/plain": [
       "| 139     | 47m 5s       | 0.425295          | 0.381713                          | 0.0205592   |"
      ]
     },
     "metadata": {},
     "output_type": "display_data"
    },
    {
     "data": {
      "text/html": [
       "<pre>| 140     | 47m 24s      | 0.425197          | 0.381571                          | 0.0205592   |</pre>"
      ],
      "text/plain": [
       "| 140     | 47m 24s      | 0.425197          | 0.381571                          | 0.0205592   |"
      ]
     },
     "metadata": {},
     "output_type": "display_data"
    },
    {
     "data": {
      "text/html": [
       "<pre>| 141     | 47m 42s      | 0.425099          | 0.38143                           | 0.0205592   |</pre>"
      ],
      "text/plain": [
       "| 141     | 47m 42s      | 0.425099          | 0.38143                           | 0.0205592   |"
      ]
     },
     "metadata": {},
     "output_type": "display_data"
    },
    {
     "data": {
      "text/html": [
       "<pre>| 142     | 48m 0s       | 0.425009          | 0.381294                          | 0.0205592   |</pre>"
      ],
      "text/plain": [
       "| 142     | 48m 0s       | 0.425009          | 0.381294                          | 0.0205592   |"
      ]
     },
     "metadata": {},
     "output_type": "display_data"
    },
    {
     "data": {
      "text/html": [
       "<pre>| 143     | 48m 18s      | 0.424965          | 0.381206                          | 0.0205592   |</pre>"
      ],
      "text/plain": [
       "| 143     | 48m 18s      | 0.424965          | 0.381206                          | 0.0205592   |"
      ]
     },
     "metadata": {},
     "output_type": "display_data"
    },
    {
     "data": {
      "text/html": [
       "<pre>| 144     | 48m 36s      | 0.424909          | 0.381104                          | 0.0205592   |</pre>"
      ],
      "text/plain": [
       "| 144     | 48m 36s      | 0.424909          | 0.381104                          | 0.0205592   |"
      ]
     },
     "metadata": {},
     "output_type": "display_data"
    },
    {
     "data": {
      "text/html": [
       "<pre>| 145     | 48m 57s      | 0.424835          | 0.380983                          | 0.0205592   |</pre>"
      ],
      "text/plain": [
       "| 145     | 48m 57s      | 0.424835          | 0.380983                          | 0.0205592   |"
      ]
     },
     "metadata": {},
     "output_type": "display_data"
    },
    {
     "data": {
      "text/html": [
       "<pre>| 146     | 49m 17s      | 0.42475           | 0.380854                          | 0.0205592   |</pre>"
      ],
      "text/plain": [
       "| 146     | 49m 17s      | 0.42475           | 0.380854                          | 0.0205592   |"
      ]
     },
     "metadata": {},
     "output_type": "display_data"
    },
    {
     "data": {
      "text/html": [
       "<pre>| 147     | 49m 36s      | 0.424704          | 0.380763                          | 0.0205592   |</pre>"
      ],
      "text/plain": [
       "| 147     | 49m 36s      | 0.424704          | 0.380763                          | 0.0205592   |"
      ]
     },
     "metadata": {},
     "output_type": "display_data"
    },
    {
     "data": {
      "text/html": [
       "<pre>| 148     | 49m 57s      | 0.424624          | 0.380636                          | 0.0205592   |</pre>"
      ],
      "text/plain": [
       "| 148     | 49m 57s      | 0.424624          | 0.380636                          | 0.0205592   |"
      ]
     },
     "metadata": {},
     "output_type": "display_data"
    },
    {
     "data": {
      "text/html": [
       "<pre>| 149     | 50m 18s      | 0.424535          | 0.380502                          | 0.0205592   |</pre>"
      ],
      "text/plain": [
       "| 149     | 50m 18s      | 0.424535          | 0.380502                          | 0.0205592   |"
      ]
     },
     "metadata": {},
     "output_type": "display_data"
    },
    {
     "data": {
      "text/html": [
       "<pre>| 150     | 50m 50s      | 0.424465          | 0.380387                          | 0.0205592   |</pre>"
      ],
      "text/plain": [
       "| 150     | 50m 50s      | 0.424465          | 0.380387                          | 0.0205592   |"
      ]
     },
     "metadata": {},
     "output_type": "display_data"
    },
    {
     "data": {
      "text/html": [
       "<pre>| 151     | 51m 16s      | 0.424441          | 0.380316                          | 0.0205592   |</pre>"
      ],
      "text/plain": [
       "| 151     | 51m 16s      | 0.424441          | 0.380316                          | 0.0205592   |"
      ]
     },
     "metadata": {},
     "output_type": "display_data"
    },
    {
     "data": {
      "text/html": [
       "<pre>| 152     | 51m 43s      | 0.424349          | 0.380179                          | 0.0205592   |</pre>"
      ],
      "text/plain": [
       "| 152     | 51m 43s      | 0.424349          | 0.380179                          | 0.0205592   |"
      ]
     },
     "metadata": {},
     "output_type": "display_data"
    },
    {
     "data": {
      "text/html": [
       "<pre>| 153     | 52m 10s      | 0.424292          | 0.380075                          | 0.0205592   |</pre>"
      ],
      "text/plain": [
       "| 153     | 52m 10s      | 0.424292          | 0.380075                          | 0.0205592   |"
      ]
     },
     "metadata": {},
     "output_type": "display_data"
    },
    {
     "data": {
      "text/html": [
       "<pre>| 154     | 52m 30s      | 0.424213          | 0.379951                          | 0.0205592   |</pre>"
      ],
      "text/plain": [
       "| 154     | 52m 30s      | 0.424213          | 0.379951                          | 0.0205592   |"
      ]
     },
     "metadata": {},
     "output_type": "display_data"
    },
    {
     "data": {
      "text/html": [
       "<pre>| 155     | 52m 47s      | 0.424156          | 0.379846                          | 0.0205592   |</pre>"
      ],
      "text/plain": [
       "| 155     | 52m 47s      | 0.424156          | 0.379846                          | 0.0205592   |"
      ]
     },
     "metadata": {},
     "output_type": "display_data"
    },
    {
     "data": {
      "text/html": [
       "<pre>| 156     | 53m 6s       | 0.424079          | 0.379724                          | 0.0205592   |</pre>"
      ],
      "text/plain": [
       "| 156     | 53m 6s       | 0.424079          | 0.379724                          | 0.0205592   |"
      ]
     },
     "metadata": {},
     "output_type": "display_data"
    },
    {
     "data": {
      "text/html": [
       "<pre>| 157     | 53m 36s      | 0.424016          | 0.379615                          | 0.0205592   |</pre>"
      ],
      "text/plain": [
       "| 157     | 53m 36s      | 0.424016          | 0.379615                          | 0.0205592   |"
      ]
     },
     "metadata": {},
     "output_type": "display_data"
    },
    {
     "data": {
      "text/html": [
       "<pre>| 158     | 54m 2s       | 0.423957          | 0.379511                          | 0.0205592   |</pre>"
      ],
      "text/plain": [
       "| 158     | 54m 2s       | 0.423957          | 0.379511                          | 0.0205592   |"
      ]
     },
     "metadata": {},
     "output_type": "display_data"
    },
    {
     "data": {
      "text/html": [
       "<pre>| 159     | 54m 29s      | 0.423915          | 0.379422                          | 0.0205592   |</pre>"
      ],
      "text/plain": [
       "| 159     | 54m 29s      | 0.423915          | 0.379422                          | 0.0205592   |"
      ]
     },
     "metadata": {},
     "output_type": "display_data"
    },
    {
     "data": {
      "text/html": [
       "<pre>| 160     | 54m 54s      | 0.423837          | 0.379297                          | 0.0205592   |</pre>"
      ],
      "text/plain": [
       "| 160     | 54m 54s      | 0.423837          | 0.379297                          | 0.0205592   |"
      ]
     },
     "metadata": {},
     "output_type": "display_data"
    },
    {
     "data": {
      "text/html": [
       "<pre>| 161     | 55m 21s      | 0.4238            | 0.379211                          | 0.0205592   |</pre>"
      ],
      "text/plain": [
       "| 161     | 55m 21s      | 0.4238            | 0.379211                          | 0.0205592   |"
      ]
     },
     "metadata": {},
     "output_type": "display_data"
    },
    {
     "data": {
      "text/html": [
       "<pre>| 162     | 55m 47s      | 0.423744          | 0.379106                          | 0.0205592   |</pre>"
      ],
      "text/plain": [
       "| 162     | 55m 47s      | 0.423744          | 0.379106                          | 0.0205592   |"
      ]
     },
     "metadata": {},
     "output_type": "display_data"
    },
    {
     "data": {
      "text/html": [
       "<pre>| 163     | 56m 12s      | 0.423725          | 0.379041                          | 0.0205592   |</pre>"
      ],
      "text/plain": [
       "| 163     | 56m 12s      | 0.423725          | 0.379041                          | 0.0205592   |"
      ]
     },
     "metadata": {},
     "output_type": "display_data"
    },
    {
     "data": {
      "text/html": [
       "<pre>| 164     | 56m 39s      | 0.423652          | 0.378921                          | 0.0205592   |</pre>"
      ],
      "text/plain": [
       "| 164     | 56m 39s      | 0.423652          | 0.378921                          | 0.0205592   |"
      ]
     },
     "metadata": {},
     "output_type": "display_data"
    },
    {
     "data": {
      "text/html": [
       "<pre>| 165     | 56m 55s      | 0.423589          | 0.378808                          | 0.0205592   |</pre>"
      ],
      "text/plain": [
       "| 165     | 56m 55s      | 0.423589          | 0.378808                          | 0.0205592   |"
      ]
     },
     "metadata": {},
     "output_type": "display_data"
    },
    {
     "data": {
      "text/html": [
       "<pre>| 166     | 57m 8s       | 0.423553          | 0.378725                          | 0.0205592   |</pre>"
      ],
      "text/plain": [
       "| 166     | 57m 8s       | 0.423553          | 0.378725                          | 0.0205592   |"
      ]
     },
     "metadata": {},
     "output_type": "display_data"
    },
    {
     "data": {
      "text/html": [
       "<pre>| 167     | 57m 23s      | 0.423527          | 0.378648                          | 0.0205592   |</pre>"
      ],
      "text/plain": [
       "| 167     | 57m 23s      | 0.423527          | 0.378648                          | 0.0205592   |"
      ]
     },
     "metadata": {},
     "output_type": "display_data"
    },
    {
     "data": {
      "text/html": [
       "<pre>| 168     | 57m 38s      | 0.4235            | 0.378571                          | 0.0205592   |</pre>"
      ],
      "text/plain": [
       "| 168     | 57m 38s      | 0.4235            | 0.378571                          | 0.0205592   |"
      ]
     },
     "metadata": {},
     "output_type": "display_data"
    },
    {
     "data": {
      "text/html": [
       "<pre>| 169     | 57m 59s      | 0.423457          | 0.378478                          | 0.0205592   |</pre>"
      ],
      "text/plain": [
       "| 169     | 57m 59s      | 0.423457          | 0.378478                          | 0.0205592   |"
      ]
     },
     "metadata": {},
     "output_type": "display_data"
    },
    {
     "data": {
      "text/html": [
       "<pre>| 170     | 58m 22s      | 0.423465          | 0.378436                          | 0.0205592   |</pre>"
      ],
      "text/plain": [
       "| 170     | 58m 22s      | 0.423465          | 0.378436                          | 0.0205592   |"
      ]
     },
     "metadata": {},
     "output_type": "display_data"
    },
    {
     "data": {
      "text/html": [
       "<pre>| 171     | 58m 46s      | 0.423441          | 0.37836                           | 0.0205592   |</pre>"
      ],
      "text/plain": [
       "| 171     | 58m 46s      | 0.423441          | 0.37836                           | 0.0205592   |"
      ]
     },
     "metadata": {},
     "output_type": "display_data"
    },
    {
     "data": {
      "text/html": [
       "<pre>| 172     | 59m 6s       | 0.423399          | 0.378265                          | 0.0205592   |</pre>"
      ],
      "text/plain": [
       "| 172     | 59m 6s       | 0.423399          | 0.378265                          | 0.0205592   |"
      ]
     },
     "metadata": {},
     "output_type": "display_data"
    },
    {
     "data": {
      "text/html": [
       "<pre>| 173     | 59m 20s      | 0.42347           | 0.37828                           | 0.0205592   |</pre>"
      ],
      "text/plain": [
       "| 173     | 59m 20s      | 0.42347           | 0.37828                           | 0.0205592   |"
      ]
     },
     "metadata": {},
     "output_type": "display_data"
    },
    {
     "data": {
      "text/html": [
       "<pre>| 174     | 59m 35s      | 0.423509          | 0.378263                          | 0.0205592   |</pre>"
      ],
      "text/plain": [
       "| 174     | 59m 35s      | 0.423509          | 0.378263                          | 0.0205592   |"
      ]
     },
     "metadata": {},
     "output_type": "display_data"
    },
    {
     "data": {
      "text/html": [
       "<pre>| 175     | 59m 51s      | 0.423523          | 0.378223                          | 0.0205592   |</pre>"
      ],
      "text/plain": [
       "| 175     | 59m 51s      | 0.423523          | 0.378223                          | 0.0205592   |"
      ]
     },
     "metadata": {},
     "output_type": "display_data"
    },
    {
     "data": {
      "text/html": [
       "<pre>| 176     | 1h 0m        | 0.42354           | 0.378186                          | 0.0205592   |</pre>"
      ],
      "text/plain": [
       "| 176     | 1h 0m        | 0.42354           | 0.378186                          | 0.0205592   |"
      ]
     },
     "metadata": {},
     "output_type": "display_data"
    },
    {
     "data": {
      "text/html": [
       "<pre>| 177     | 1h 0m        | 0.423585          | 0.378176                          | 0.0205592   |</pre>"
      ],
      "text/plain": [
       "| 177     | 1h 0m        | 0.423585          | 0.378176                          | 0.0205592   |"
      ]
     },
     "metadata": {},
     "output_type": "display_data"
    },
    {
     "data": {
      "text/html": [
       "<pre>| 178     | 1h 1m        | 0.423614          | 0.378147                          | 0.0205592   |</pre>"
      ],
      "text/plain": [
       "| 178     | 1h 1m        | 0.423614          | 0.378147                          | 0.0205592   |"
      ]
     },
     "metadata": {},
     "output_type": "display_data"
    },
    {
     "data": {
      "text/html": [
       "<pre>| 179     | 1h 1m        | 0.423684          | 0.378158                          | 0.0205592   |</pre>"
      ],
      "text/plain": [
       "| 179     | 1h 1m        | 0.423684          | 0.378158                          | 0.0205592   |"
      ]
     },
     "metadata": {},
     "output_type": "display_data"
    },
    {
     "data": {
      "text/html": [
       "<pre>| 180     | 1h 2m        | 0.423723          | 0.378136                          | 0.0205592   |</pre>"
      ],
      "text/plain": [
       "| 180     | 1h 2m        | 0.423723          | 0.378136                          | 0.0205592   |"
      ]
     },
     "metadata": {},
     "output_type": "display_data"
    },
    {
     "data": {
      "text/html": [
       "<pre>| 181     | 1h 2m        | 0.42374           | 0.378099                          | 0.0205592   |</pre>"
      ],
      "text/plain": [
       "| 181     | 1h 2m        | 0.42374           | 0.378099                          | 0.0205592   |"
      ]
     },
     "metadata": {},
     "output_type": "display_data"
    },
    {
     "data": {
      "text/html": [
       "<pre>| 182     | 1h 2m        | 0.42381           | 0.378113                          | 0.0205592   |</pre>"
      ],
      "text/plain": [
       "| 182     | 1h 2m        | 0.42381           | 0.378113                          | 0.0205592   |"
      ]
     },
     "metadata": {},
     "output_type": "display_data"
    },
    {
     "data": {
      "text/html": [
       "<pre>| 183     | 1h 3m        | 0.423802          | 0.37805                           | 0.0205592   |</pre>"
      ],
      "text/plain": [
       "| 183     | 1h 3m        | 0.423802          | 0.37805                           | 0.0205592   |"
      ]
     },
     "metadata": {},
     "output_type": "display_data"
    },
    {
     "data": {
      "text/html": [
       "<pre>| 184     | 1h 3m        | 0.423824          | 0.378016                          | 0.0205592   |</pre>"
      ],
      "text/plain": [
       "| 184     | 1h 3m        | 0.423824          | 0.378016                          | 0.0205592   |"
      ]
     },
     "metadata": {},
     "output_type": "display_data"
    },
    {
     "data": {
      "text/html": [
       "<pre>| 185     | 1h 4m        | 0.423835          | 0.377973                          | 0.0205592   |</pre>"
      ],
      "text/plain": [
       "| 185     | 1h 4m        | 0.423835          | 0.377973                          | 0.0205592   |"
      ]
     },
     "metadata": {},
     "output_type": "display_data"
    },
    {
     "data": {
      "text/html": [
       "<pre>| 186     | 1h 4m        | 0.423796          | 0.37788                           | 0.0205592   |</pre>"
      ],
      "text/plain": [
       "| 186     | 1h 4m        | 0.423796          | 0.37788                           | 0.0205592   |"
      ]
     },
     "metadata": {},
     "output_type": "display_data"
    },
    {
     "data": {
      "text/html": [
       "<pre>| 187     | 1h 4m        | 0.423743          | 0.377776                          | 0.0205592   |</pre>"
      ],
      "text/plain": [
       "| 187     | 1h 4m        | 0.423743          | 0.377776                          | 0.0205592   |"
      ]
     },
     "metadata": {},
     "output_type": "display_data"
    },
    {
     "data": {
      "text/html": [
       "<pre>| 188     | 1h 5m        | 0.423701          | 0.377683                          | 0.0205592   |</pre>"
      ],
      "text/plain": [
       "| 188     | 1h 5m        | 0.423701          | 0.377683                          | 0.0205592   |"
      ]
     },
     "metadata": {},
     "output_type": "display_data"
    },
    {
     "data": {
      "text/html": [
       "<pre>| 189     | 1h 5m        | 0.423632          | 0.377563                          | 0.0205592   |</pre>"
      ],
      "text/plain": [
       "| 189     | 1h 5m        | 0.423632          | 0.377563                          | 0.0205592   |"
      ]
     },
     "metadata": {},
     "output_type": "display_data"
    },
    {
     "data": {
      "text/html": [
       "<pre>| 190     | 1h 5m        | 0.423561          | 0.377442                          | 0.0205592   |</pre>"
      ],
      "text/plain": [
       "| 190     | 1h 5m        | 0.423561          | 0.377442                          | 0.0205592   |"
      ]
     },
     "metadata": {},
     "output_type": "display_data"
    },
    {
     "data": {
      "text/html": [
       "<pre>| 191     | 1h 6m        | 0.42349           | 0.377323                          | 0.0205592   |</pre>"
      ],
      "text/plain": [
       "| 191     | 1h 6m        | 0.42349           | 0.377323                          | 0.0205592   |"
      ]
     },
     "metadata": {},
     "output_type": "display_data"
    },
    {
     "data": {
      "text/html": [
       "<pre>| 192     | 1h 6m        | 0.423429          | 0.377215                          | 0.0205592   |</pre>"
      ],
      "text/plain": [
       "| 192     | 1h 6m        | 0.423429          | 0.377215                          | 0.0205592   |"
      ]
     },
     "metadata": {},
     "output_type": "display_data"
    },
    {
     "data": {
      "text/html": [
       "<pre>| 193     | 1h 6m        | 0.423298          | 0.377038                          | 0.0205592   |</pre>"
      ],
      "text/plain": [
       "| 193     | 1h 6m        | 0.423298          | 0.377038                          | 0.0205592   |"
      ]
     },
     "metadata": {},
     "output_type": "display_data"
    },
    {
     "data": {
      "text/html": [
       "<pre>| 194     | 1h 7m        | 0.423276          | 0.376972                          | 0.0205592   |</pre>"
      ],
      "text/plain": [
       "| 194     | 1h 7m        | 0.423276          | 0.376972                          | 0.0205592   |"
      ]
     },
     "metadata": {},
     "output_type": "display_data"
    },
    {
     "data": {
      "text/html": [
       "<pre>| 195     | 1h 7m        | 0.423193          | 0.376844                          | 0.0205592   |</pre>"
      ],
      "text/plain": [
       "| 195     | 1h 7m        | 0.423193          | 0.376844                          | 0.0205592   |"
      ]
     },
     "metadata": {},
     "output_type": "display_data"
    },
    {
     "data": {
      "text/html": [
       "<pre>| 196     | 1h 7m        | 0.423113          | 0.376719                          | 0.0205592   |</pre>"
      ],
      "text/plain": [
       "| 196     | 1h 7m        | 0.423113          | 0.376719                          | 0.0205592   |"
      ]
     },
     "metadata": {},
     "output_type": "display_data"
    },
    {
     "data": {
      "text/html": [
       "<pre>| 197     | 1h 8m        | 0.423003          | 0.376564                          | 0.0205592   |</pre>"
      ],
      "text/plain": [
       "| 197     | 1h 8m        | 0.423003          | 0.376564                          | 0.0205592   |"
      ]
     },
     "metadata": {},
     "output_type": "display_data"
    },
    {
     "data": {
      "text/html": [
       "<pre>| 198     | 1h 8m        | 0.42297           | 0.376489                          | 0.0205592   |</pre>"
      ],
      "text/plain": [
       "| 198     | 1h 8m        | 0.42297           | 0.376489                          | 0.0205592   |"
      ]
     },
     "metadata": {},
     "output_type": "display_data"
    }
   ],
   "source": [
    "# training the model\n",
    "model = gl.recommender.factorization_recommender.create(kn_listen, \n",
    "                                                        binary_target = True, \n",
    "                                                        num_factors = n_factors,\n",
    "                                                        user_id = \"user_id\", \n",
    "                                                        item_id = \"media_id\", \n",
    "                                                        target  = \"is_listened\",\n",
    "                                                        user_data = user_data, \n",
    "                                                        item_data = song_data,\n",
    "                                                        max_iterations = m_epochs,\n",
    "                                                        regularization = regular)"
   ]
  },
  {
   "cell_type": "code",
   "execution_count": null,
   "metadata": {
    "collapsed": false,
    "scrolled": true
   },
   "outputs": [],
   "source": [
    "# forecasting\n",
    "pred = pd.DataFrame()\n",
    "pred[\"sample_id\"] = un.sample_id.astype(int)\n",
    "pred[\"is_listened\"] = model.predict(un_listen)\n",
    "pred = pred.sort_values(\"sample_id\")\n",
    "pred.head(3)"
   ]
  },
  {
   "cell_type": "code",
   "execution_count": null,
   "metadata": {
    "collapsed": true,
    "scrolled": true
   },
   "outputs": [],
   "source": [
    "# saving prediction vector\n",
    "pred.to_csv(path + \"pred_unknown/factorization_full_75f_300i.csv\", index = False)"
   ]
  },
  {
   "cell_type": "code",
   "execution_count": null,
   "metadata": {
    "collapsed": true
   },
   "outputs": [],
   "source": []
  }
 ],
 "metadata": {
  "anaconda-cloud": {},
  "kernelspec": {
   "display_name": "Python 2",
   "language": "python",
   "name": "python2"
  },
  "language_info": {
   "codemirror_mode": {
    "name": "ipython",
    "version": 2
   },
   "file_extension": ".py",
   "mimetype": "text/x-python",
   "name": "python",
   "nbconvert_exporter": "python",
   "pygments_lexer": "ipython2",
   "version": "2.7.11"
  }
 },
 "nbformat": 4,
 "nbformat_minor": 1
}
