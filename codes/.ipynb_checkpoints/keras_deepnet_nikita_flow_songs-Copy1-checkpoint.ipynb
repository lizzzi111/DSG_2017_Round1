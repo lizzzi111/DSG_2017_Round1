{
 "cells": [
  {
   "cell_type": "code",
   "execution_count": 2,
   "metadata": {
    "collapsed": true
   },
   "outputs": [
    {
     "name": "stdout",
     "output_type": "stream",
     "text": [
      "Collecting rpy2\n",
      "  Downloading rpy2-2.8.5.tar.gz (184kB)\n",
      "\u001b[K    100% |████████████████████████████████| 184kB 518kB/s \n",
      "\u001b[?25hRequirement already satisfied: six in /anaconda/lib/python3.5/site-packages (from rpy2)\n",
      "Building wheels for collected packages: rpy2\n",
      "  Running setup.py bdist_wheel for rpy2 ... \u001b[?25l-\b \b\\\b \b|\b \b/\b \b-\b \b\\\b \b|\b \b/\b \b-\b \b\\\b \b|\b \b/\b \b-\b \b\\\b \b|\b \b/\b \b-\b \b\\\b \b|\b \b/\b \b-\b \b\\\b \b|\b \b/\b \b-\b \b\\\b \b|\b \bdone\n",
      "\u001b[?25h  Stored in directory: /Users/Kozodoi/Library/Caches/pip/wheels/23/9e/ee/0e5f6a00aafef9935d40ebf7657278220139f0101321e30d07\n",
      "Successfully built rpy2\n",
      "Installing collected packages: rpy2\n",
      "Successfully installed rpy2-2.8.5\n"
     ]
    }
   ],
   "source": [
    "# libraries\n",
    "#!pip install rpy2\n",
    "#!pip install pandas\n",
    "#!pip install keras"
   ]
  },
  {
   "cell_type": "code",
   "execution_count": 2,
   "metadata": {
    "collapsed": false
   },
   "outputs": [
    {
     "name": "stderr",
     "output_type": "stream",
     "text": [
      "Using TensorFlow backend.\n"
     ]
    }
   ],
   "source": [
    "# libraries\n",
    "import rpy2.robjects as robjects\n",
    "import pandas as pd\n",
    "import keras\n",
    "from keras.layers import Input, Dense, Embedding, concatenate, Flatten, Dropout\n",
    "from keras.layers.normalization import BatchNormalization\n",
    "from keras.models import Model\n",
    "from keras.regularizers import l2\n",
    "from keras.optimizers import Adam"
   ]
  },
  {
   "cell_type": "code",
   "execution_count": 3,
   "metadata": {
    "collapsed": false
   },
   "outputs": [],
   "source": [
    "# load the data\n",
    "path = \"/Users/Kozodoi/Documents/Competitions/DSG_2017/\"\n",
    "known   = pd.read_csv(path + \"data/train.csv\")\n",
    "unknown = pd.read_csv(path + \"data/test.csv\")"
   ]
  },
  {
   "cell_type": "code",
   "execution_count": 4,
   "metadata": {
    "collapsed": false
   },
   "outputs": [
    {
     "data": {
      "text/plain": [
       "(2319611, 15)"
      ]
     },
     "execution_count": 4,
     "metadata": {},
     "output_type": "execute_result"
    }
   ],
   "source": [
    "# keep only Flow songs\n",
    "known = known.query(\"listen_type == 1\")\n",
    "known.shape"
   ]
  },
  {
   "cell_type": "code",
   "execution_count": 5,
   "metadata": {
    "collapsed": false
   },
   "outputs": [],
   "source": [
    "# Prepare the data\n",
    "# Create a placeholder for the IDs new in the test data\n",
    "newUsers   = list(unknown.user_id[~unknown.user_id.isin(known.user_id)])       + list(known.user_id.value_counts().keys()[known.user_id.value_counts()     == 1])\n",
    "newSongs   = list(unknown.media_id[~unknown.media_id.isin(known.media_id)])    + list(known.media_id.value_counts().keys()[known.media_id.value_counts()   == 1])[-1000:]\n",
    "newArtists = list(unknown.artist_id[~unknown.artist_id.isin(known.artist_id)]) + list(known.artist_id.value_counts().keys()[known.artist_id.value_counts() == 1])[-1000:]\n",
    "newGenres  = list(unknown.genre_id[~unknown.genre_id.isin(known.genre_id)])    + list(known.genre_id.value_counts().keys()[known.genre_id.value_counts()   == 1])[-1000:]\n",
    "\n",
    "# In particular, assign IDs from 0 to N for users and songs\n",
    "# Use enumerate() to create a list of the new and original IDs\n",
    "users   = list(enumerate([i for i in known.user_id.unique()   if i not in newUsers]))\n",
    "songs   = list(enumerate([i for i in known.media_id.unique()  if i not in newSongs]))\n",
    "artists = list(enumerate([i for i in known.artist_id.unique() if i not in newArtists]))\n",
    "genres  = list(enumerate([i for i in known.genre_id.unique()  if i not in newGenres]))\n",
    "\n",
    "# Create a dictionary with old IDs to new IDs\n",
    "userid2idx   = {o:i for i,o in users}\n",
    "songid2idx   = {o:i for i,o in songs}\n",
    "artistid2idx = {o:i for i,o in artists}\n",
    "genreid2idx  = {o:i for i,o in genres}\n",
    "\n",
    "# Update with new/rare entries\n",
    "userid2idx.update({o:(max(userid2idx.values())+1)     for o in newUsers})\n",
    "songid2idx.update({o:(max(songid2idx.values())+1)     for o in newSongs})\n",
    "artistid2idx.update({o:(max(artistid2idx.values())+1) for o in newArtists})\n",
    "genreid2idx.update({o:(max(genreid2idx.values())+1)   for o in newGenres})\n",
    "\n",
    "# Create id variable with the new IDs\n",
    "known['userIdx']   = known.user_id.apply(lambda x:       userid2idx[x])\n",
    "known['songIdx']   = known.media_id.apply(lambda x:      songid2idx[x])\n",
    "known['artistIdx'] = known.artist_id.apply(lambda x:     artistid2idx[x])\n",
    "known['genreIdx']  = known.genre_id.apply(lambda x:      genreid2idx[x])\n",
    "unknown['userIdx']   = unknown.user_id.apply(lambda x:   userid2idx[x])\n",
    "unknown['songIdx']   = unknown.media_id.apply(lambda x:  songid2idx[x])\n",
    "unknown['artistIdx'] = unknown.artist_id.apply(lambda x: artistid2idx[x])\n",
    "unknown['genreIdx']  = unknown.genre_id.apply(lambda x:  genreid2idx[x])"
   ]
  },
  {
   "cell_type": "code",
   "execution_count": 6,
   "metadata": {
    "collapsed": false
   },
   "outputs": [],
   "source": [
    "# partition train/test data\n",
    "ts = known.groupby([\"userIdx\"]).tail(5)\n",
    "tr = known.groupby([\"userIdx\"], group_keys=False).apply(lambda x: x[:-5])\n",
    "\n",
    "# move songs that appear only in ts to tr\n",
    "strayObs = ts.songIdx.isin(tr.songIdx) & ts.userIdx.isin(tr.userIdx) & ts.artistIdx.isin(tr.artistIdx) & ts.genreIdx.isin(tr.genreIdx)\n",
    "tr = tr.append(ts[~strayObs])\n",
    "ts = ts[strayObs]"
   ]
  },
  {
   "cell_type": "code",
   "execution_count": 12,
   "metadata": {
    "collapsed": false
   },
   "outputs": [],
   "source": [
    "# create an input layer with one row of IDs\n",
    "user_in   = Input(shape = (1,), dtype='int64', name = \"user_in\")\n",
    "song_in   = Input(shape = (1,), dtype='int64', name = \"song_in\")\n",
    "artist_in = Input(shape = (1,), dtype='int64', name = \"artist_in\")\n",
    "genre_in  = Input(shape = (1,), dtype='int64', name = \"genre_in\")\n",
    "\n",
    "# Create an embedding assigning k latent factors to each ID\n",
    "# These will be optimized\n",
    "# A regulariztaion is added to avoid very large weights\n",
    "n_users   = tr.userIdx.nunique()\n",
    "n_songs   = tr.songIdx.nunique()\n",
    "n_artists = tr.artistIdx.nunique()\n",
    "n_genres  = tr.genreIdx.nunique()\n",
    "u = Embedding(n_users,   50, input_length=1, embeddings_regularizer=l2(1e-5))(user_in)\n",
    "s = Embedding(n_songs,   50, input_length=1, embeddings_regularizer=l2(1e-5))(song_in)\n",
    "a = Embedding(n_artists, 20, input_length=1, embeddings_regularizer=l2(1e-5))(artist_in)\n",
    "g = Embedding(n_genres,  20, input_length=1, embeddings_regularizer=l2(1e-5))(genre_in)\n",
    "\n",
    "# Specify what to do with the layers\n",
    "# We want to multiply them into a 'rating' matrix\n",
    "x = concatenate([u, s, a, g])\n",
    "x = Flatten()(x)\n",
    "x = Dense(128, activation='relu')(x)\n",
    "x = Dropout(0.5)(x)\n",
    "x = BatchNormalization()(x)\n",
    "#x = Dropout(0.5)(Dense(128, activation='relu')(x))\n",
    "#x = BatchNormalization()(x)\n",
    "x = Dense(64, activation='relu')(x) \n",
    "x = Dropout(0.5)(x)\n",
    "x = Dense(1, activation = \"sigmoid\")(x)\n",
    "#x = merge([x, ub], mode = 'sum')\n",
    "#x = merge([x, sb], mode = 'sum') # Can this be included in the line above?\n",
    "\n",
    "# Then we specify the model that we want to use\n",
    "model = Model([user_in, song_in, artist_in, genre_in], x) # \n",
    "model.compile(Adam(0.001), loss=\"binary_crossentropy\", metrics = ['accuracy'])"
   ]
  },
  {
   "cell_type": "code",
   "execution_count": null,
   "metadata": {
    "collapsed": false
   },
   "outputs": [
    {
     "name": "stdout",
     "output_type": "stream",
     "text": [
      "Train on 2259802 samples, validate on 59809 samples\n",
      "Epoch 1/10\n",
      " 135594/2259802 [>.............................] - ETA: 81s - loss: 0.8499 - acc: 0.5101"
     ]
    }
   ],
   "source": [
    "# run the estimations\n",
    "model.fit([tr.userIdx, tr.songIdx, tr.artistIdx, tr.genreIdx], tr.is_listened,  #\n",
    "validation_data = ([ts.userIdx, ts.songIdx, ts.artistIdx, ts.genreIdx], ts.is_listened),\n",
    "batch_size = 22599, epochs = 10)"
   ]
  },
  {
   "cell_type": "code",
   "execution_count": 1,
   "metadata": {
    "collapsed": false
   },
   "outputs": [
    {
     "ename": "NameError",
     "evalue": "name 'pd' is not defined",
     "output_type": "error",
     "traceback": [
      "\u001b[0;31m---------------------------------------------------------------------------\u001b[0m",
      "\u001b[0;31mNameError\u001b[0m                                 Traceback (most recent call last)",
      "\u001b[0;32m<ipython-input-1-85ace2e87362>\u001b[0m in \u001b[0;36m<module>\u001b[0;34m()\u001b[0m\n\u001b[1;32m      1\u001b[0m \u001b[0;31m# predict on unlabelled set\u001b[0m\u001b[0;34m\u001b[0m\u001b[0;34m\u001b[0m\u001b[0m\n\u001b[0;32m----> 2\u001b[0;31m \u001b[0mpred\u001b[0m \u001b[0;34m=\u001b[0m \u001b[0mpd\u001b[0m\u001b[0;34m.\u001b[0m\u001b[0mDataFrame\u001b[0m\u001b[0;34m(\u001b[0m\u001b[0;34m)\u001b[0m\u001b[0;34m\u001b[0m\u001b[0m\n\u001b[0m\u001b[1;32m      3\u001b[0m \u001b[0mpred\u001b[0m\u001b[0;34m[\u001b[0m\u001b[0;34m\"sample_id\"\u001b[0m\u001b[0;34m]\u001b[0m \u001b[0;34m=\u001b[0m \u001b[0munknown\u001b[0m\u001b[0;34m.\u001b[0m\u001b[0msample_id\u001b[0m\u001b[0;34m\u001b[0m\u001b[0m\n\u001b[1;32m      4\u001b[0m \u001b[0mpred\u001b[0m\u001b[0;34m[\u001b[0m\u001b[0;34m\"is_listened\"\u001b[0m\u001b[0;34m]\u001b[0m \u001b[0;34m=\u001b[0m \u001b[0mmodel\u001b[0m\u001b[0;34m.\u001b[0m\u001b[0mpredict\u001b[0m\u001b[0;34m(\u001b[0m\u001b[0;34m[\u001b[0m\u001b[0munknown\u001b[0m\u001b[0;34m.\u001b[0m\u001b[0muserIdx\u001b[0m\u001b[0;34m,\u001b[0m \u001b[0munknown\u001b[0m\u001b[0;34m.\u001b[0m\u001b[0msongIdx\u001b[0m\u001b[0;34m,\u001b[0m \u001b[0munknown\u001b[0m\u001b[0;34m.\u001b[0m\u001b[0martistIdx\u001b[0m\u001b[0;34m,\u001b[0m \u001b[0munknown\u001b[0m\u001b[0;34m.\u001b[0m\u001b[0mgenreIdx\u001b[0m\u001b[0;34m]\u001b[0m\u001b[0;34m)\u001b[0m\u001b[0;34m\u001b[0m\u001b[0m\n\u001b[1;32m      5\u001b[0m \u001b[0mpred\u001b[0m\u001b[0;34m.\u001b[0m\u001b[0mhead\u001b[0m\u001b[0;34m(\u001b[0m\u001b[0;36m5\u001b[0m\u001b[0;34m)\u001b[0m\u001b[0;34m\u001b[0m\u001b[0m\n",
      "\u001b[0;31mNameError\u001b[0m: name 'pd' is not defined"
     ]
    }
   ],
   "source": [
    "# predict on unlabelled set\n",
    "pred = pd.DataFrame()\n",
    "pred[\"sample_id\"] = unknown.sample_id\n",
    "pred[\"is_listened\"] = model.predict([unknown.userIdx, unknown.songIdx, unknown.artistIdx, unknown.genreIdx])\n",
    "pred.head(5)"
   ]
  },
  {
   "cell_type": "code",
   "execution_count": 41,
   "metadata": {
    "collapsed": false
   },
   "outputs": [],
   "source": [
    "# saving submission\n",
    "pred.to_csv(path + \"submissions/deep_128_64_flow.csv\", index = False)"
   ]
  },
  {
   "cell_type": "code",
   "execution_count": null,
   "metadata": {
    "collapsed": true
   },
   "outputs": [],
   "source": []
  }
 ],
 "metadata": {
  "anaconda-cloud": {},
  "kernelspec": {
   "display_name": "Python [default]",
   "language": "python",
   "name": "python3"
  },
  "language_info": {
   "codemirror_mode": {
    "name": "ipython",
    "version": 3
   },
   "file_extension": ".py",
   "mimetype": "text/x-python",
   "name": "python",
   "nbconvert_exporter": "python",
   "pygments_lexer": "ipython3",
   "version": "3.5.2"
  }
 },
 "nbformat": 4,
 "nbformat_minor": 1
}
