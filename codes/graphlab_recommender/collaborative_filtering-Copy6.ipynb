{
 "cells": [
  {
   "cell_type": "markdown",
   "metadata": {},
   "source": [
    "# 1. LOADING"
   ]
  },
  {
   "cell_type": "code",
   "execution_count": 1,
   "metadata": {
    "collapsed": false,
    "scrolled": true
   },
   "outputs": [],
   "source": [
    "# import packages\n",
    "import pandas as pd\n",
    "import graphlab as gl\n",
    "from sklearn import metrics\n",
    "from scipy import stats"
   ]
  },
  {
   "cell_type": "code",
   "execution_count": 2,
   "metadata": {
    "collapsed": false,
    "scrolled": true
   },
   "outputs": [
    {
     "data": {
      "text/plain": [
       "(7578752, 64)"
      ]
     },
     "execution_count": 2,
     "metadata": {},
     "output_type": "execute_result"
    }
   ],
   "source": [
    "# load the data\n",
    "path = \"/Users/Kozodoi/Documents/Competitions/DSG_2017/\"\n",
    "data = pd.read_csv(path + \"data/data_full.csv\")\n",
    "data.shape"
   ]
  },
  {
   "cell_type": "code",
   "execution_count": 3,
   "metadata": {
    "collapsed": false
   },
   "outputs": [
    {
     "data": {
      "text/plain": [
       "Index([u'user_id', u'context_type', u'media_id', u'artist_id', u'genre_id',\n",
       "       u'album_id', u'ts_listen', u'release_date', u'platform_name',\n",
       "       u'platform_family', u'media_duration', u'listen_type', u'user_gender',\n",
       "       u'user_age', u'is_listened', u'sample_id', u'dataset', u'row_index',\n",
       "       u'song_rank', u'song_bpm', u'song_position', u'song_lyrics_explicit',\n",
       "       u'song_gain', u'album_fans', u'favorite_artist', u'favorite_album',\n",
       "       u'radio_selecter', u'time_lag', u'session_id', u'time_lag_lag1',\n",
       "       u'time_lag_lag2', u'song_session_position', u'first_flow',\n",
       "       u'time_diff_release_listen', u'hour_of_day', u'weekday',\n",
       "       u'release_year', u'is_listened_lag1', u'is_listened_lag2',\n",
       "       u'user_skip_ratio_last3', u'user_skip_ratio_last5',\n",
       "       u'user_skip_ratio_last10', u'context_type_same_as_lag',\n",
       "       u'genre_equal_last_song', u'artist_equal_last_song',\n",
       "       u'album_equal_last_song', u'genre_plays', u'genre_skips',\n",
       "       u'artist_plays', u'artist_skips', u'album_plays', u'album_skips',\n",
       "       u'song_plays', u'song_skips', u'user_ratio_flow', u'user_ratio_full',\n",
       "       u'genre_ratio', u'artist_ratio', u'song_ratio', u'context_ratio',\n",
       "       u'user_genre_ratio', u'user_artist_ratio', u'user_song_ratio',\n",
       "       u'user_context_ratio'],\n",
       "      dtype='object')"
      ]
     },
     "execution_count": 3,
     "metadata": {},
     "output_type": "execute_result"
    }
   ],
   "source": [
    "# print variable names\n",
    "data.columns"
   ]
  },
  {
   "cell_type": "markdown",
   "metadata": {},
   "source": [
    "# 2. DATA PREPARATION"
   ]
  },
  {
   "cell_type": "code",
   "execution_count": 4,
   "metadata": {
    "collapsed": false
   },
   "outputs": [],
   "source": [
    "# converting factors to strings\n",
    "data[\"user_id\"]   = data.user_id.astype(str)\n",
    "data[\"media_id\"]  = data.media_id.astype(str)\n",
    "data[\"album_id\"]  = data.album_id.astype(str)\n",
    "data[\"artist_id\"] = data.artist_id.astype(str)\n",
    "data[\"genre_id\"]  = data.genre_id.astype(str)\n",
    "data[\"context_type\"]    = data.context_type.astype(str)\n",
    "data[\"listen_type\"]     = data.listen_type.astype(str)\n",
    "data[\"first_flow\"]      = data.first_flow.astype(str)\n",
    "data[\"platform_name\"]   = data.platform_name.astype(str)\n",
    "data[\"platform_family\"] = data.platform_family.astype(str)\n",
    "data[\"user_gender\"]  = data.user_gender.astype(str)\n",
    "data[\"release_year\"] = data.release_year.astype(str)\n",
    "data[\"hour_of_day\"]  = data.hour_of_day.astype(str)\n",
    "data[\"weekday\"]      = data.weekday.astype(str)\n",
    "data[\"favorite_artist\"] = data.favorite_artist.astype(str)\n",
    "data[\"favorite_album\"]  = data.favorite_album.astype(str)\n",
    "data[\"song_lyrics_explicit\"]  = data.song_lyrics_explicit.astype(str)"
   ]
  },
  {
   "cell_type": "code",
   "execution_count": 5,
   "metadata": {
    "collapsed": false,
    "scrolled": true
   },
   "outputs": [
    {
     "name": "stdout",
     "output_type": "stream",
     "text": [
      "train: (7519013, 64)\n",
      "test: (39821, 64)\n",
      "known: (7558834, 64)\n",
      "unknown: (19918, 64)\n"
     ]
    }
   ],
   "source": [
    "# data partitioning\n",
    "tr = data.query(\"dataset == 'train'\")\n",
    "ts = data.query(\"dataset == 'test'\")\n",
    "kn = data.query(\"dataset != 'unknown'\")\n",
    "un = data.query(\"dataset == 'unknown'\")\n",
    "\n",
    "# print data sizes\n",
    "print(\"train: \"   + str(tr.shape))\n",
    "print(\"test: \"    + str(ts.shape))\n",
    "print(\"known: \"   + str(kn.shape))\n",
    "print(\"unknown: \" + str(un.shape))"
   ]
  },
  {
   "cell_type": "code",
   "execution_count": 6,
   "metadata": {
    "collapsed": false,
    "scrolled": true
   },
   "outputs": [
    {
     "name": "stdout",
     "output_type": "stream",
     "text": [
      "This non-commercial license of GraphLab Create for academic use is assigned to kozodoin@hu-berlin.de and will expire on May 12, 2018.\n"
     ]
    },
    {
     "name": "stderr",
     "output_type": "stream",
     "text": [
      "[INFO] graphlab.cython.cy_server: GraphLab Create v2.1 started. Logging: /tmp/graphlab_server_1495317684.log\n"
     ]
    }
   ],
   "source": [
    "# data sets with user-media interactions\n",
    "tr_listen = gl.SFrame(tr[[\"media_id\", \"user_id\", \"is_listened\", \"listen_type\",\n",
    "                          \"context_type\", \"platform_name\", \"favorite_artist\", \"favorite_album\"]])\n",
    "ts_listen = gl.SFrame(ts[[\"media_id\", \"user_id\", \"is_listened\", \"listen_type\",\n",
    "                          \"context_type\", \"platform_name\", \"favorite_artist\", \"favorite_album\"]])\n",
    "kn_listen = gl.SFrame(kn[[\"media_id\", \"user_id\", \"is_listened\", \"listen_type\",\n",
    "                          \"context_type\", \"platform_name\", \"favorite_artist\", \"favorite_album\"]])\n",
    "un_listen = gl.SFrame(un[[\"media_id\", \"user_id\", \"is_listened\", \"listen_type\",\n",
    "                          \"context_type\", \"platform_name\", \"favorite_artist\", \"favorite_album\"]])"
   ]
  },
  {
   "cell_type": "code",
   "execution_count": 7,
   "metadata": {
    "collapsed": false
   },
   "outputs": [],
   "source": [
    "# additional user-level and media-level data\n",
    "user_data = data.groupby([\"user_id\"]).head(1)\n",
    "song_data = data.groupby([\"media_id\"]).head(1)\n",
    "\n",
    "# clearing the memory\n",
    "data = \"Null\"\n",
    "tr   = \"Null\"\n",
    "kn   = \"Null\"\n",
    "\n",
    "# converting data sets\n",
    "user_data = gl.SFrame(user_data[[\"user_id\", \"user_gender\", \"user_age\", \n",
    "                                 \"user_ratio_flow\", \"user_ratio_full\"]])\n",
    "song_data = gl.SFrame(song_data[[\"media_id\", \"genre_id\", \n",
    "                                 \"release_year\", \"media_duration\", \n",
    "                                 \"song_bpm\", \"song_rank\", \"album_fans\"]])"
   ]
  },
  {
   "cell_type": "markdown",
   "metadata": {},
   "source": [
    "# 3. MODELING"
   ]
  },
  {
   "cell_type": "code",
   "execution_count": null,
   "metadata": {
    "collapsed": true
   },
   "outputs": [],
   "source": [
    "# model parameters\n",
    "n_factors = 50\n",
    "m_epochs = 300\n",
    "regular = 1e-5"
   ]
  },
  {
   "cell_type": "markdown",
   "metadata": {},
   "source": [
    "## 3.1. TRAINING-VALIDATION"
   ]
  },
  {
   "cell_type": "code",
   "execution_count": null,
   "metadata": {
    "collapsed": false
   },
   "outputs": [
    {
     "data": {
      "text/html": [
       "<pre>Recsys training: model = factorization_recommender</pre>"
      ],
      "text/plain": [
       "Recsys training: model = factorization_recommender"
      ]
     },
     "metadata": {},
     "output_type": "display_data"
    },
    {
     "data": {
      "text/html": [
       "<pre>Preparing data set.</pre>"
      ],
      "text/plain": [
       "Preparing data set."
      ]
     },
     "metadata": {},
     "output_type": "display_data"
    },
    {
     "data": {
      "text/html": [
       "<pre>    Data has 7519013 observations with 19918 users and 453310 items.</pre>"
      ],
      "text/plain": [
       "    Data has 7519013 observations with 19918 users and 453310 items."
      ]
     },
     "metadata": {},
     "output_type": "display_data"
    },
    {
     "data": {
      "text/html": [
       "<pre>    Data prepared in: 20.2413s</pre>"
      ],
      "text/plain": [
       "    Data prepared in: 20.2413s"
      ]
     },
     "metadata": {},
     "output_type": "display_data"
    },
    {
     "data": {
      "text/html": [
       "<pre>Training factorization_recommender for recommendations.</pre>"
      ],
      "text/plain": [
       "Training factorization_recommender for recommendations."
      ]
     },
     "metadata": {},
     "output_type": "display_data"
    },
    {
     "data": {
      "text/html": [
       "<pre>+--------------------------------+--------------------------------------------------+----------+</pre>"
      ],
      "text/plain": [
       "+--------------------------------+--------------------------------------------------+----------+"
      ]
     },
     "metadata": {},
     "output_type": "display_data"
    },
    {
     "data": {
      "text/html": [
       "<pre>| Parameter                      | Description                                      | Value    |</pre>"
      ],
      "text/plain": [
       "| Parameter                      | Description                                      | Value    |"
      ]
     },
     "metadata": {},
     "output_type": "display_data"
    },
    {
     "data": {
      "text/html": [
       "<pre>+--------------------------------+--------------------------------------------------+----------+</pre>"
      ],
      "text/plain": [
       "+--------------------------------+--------------------------------------------------+----------+"
      ]
     },
     "metadata": {},
     "output_type": "display_data"
    },
    {
     "data": {
      "text/html": [
       "<pre>| num_factors                    | Factor Dimension                                 | 50       |</pre>"
      ],
      "text/plain": [
       "| num_factors                    | Factor Dimension                                 | 50       |"
      ]
     },
     "metadata": {},
     "output_type": "display_data"
    },
    {
     "data": {
      "text/html": [
       "<pre>| regularization                 | L2 Regularization on Factors                     | 1e-05    |</pre>"
      ],
      "text/plain": [
       "| regularization                 | L2 Regularization on Factors                     | 1e-05    |"
      ]
     },
     "metadata": {},
     "output_type": "display_data"
    },
    {
     "data": {
      "text/html": [
       "<pre>| solver                         | Solver used for training                         | adagrad  |</pre>"
      ],
      "text/plain": [
       "| solver                         | Solver used for training                         | adagrad  |"
      ]
     },
     "metadata": {},
     "output_type": "display_data"
    },
    {
     "data": {
      "text/html": [
       "<pre>| linear_regularization          | L2 Regularization on Linear Coefficients         | 1e-10    |</pre>"
      ],
      "text/plain": [
       "| linear_regularization          | L2 Regularization on Linear Coefficients         | 1e-10    |"
      ]
     },
     "metadata": {},
     "output_type": "display_data"
    },
    {
     "data": {
      "text/html": [
       "<pre>| binary_target                  | Assume Binary Targets                            | True     |</pre>"
      ],
      "text/plain": [
       "| binary_target                  | Assume Binary Targets                            | True     |"
      ]
     },
     "metadata": {},
     "output_type": "display_data"
    },
    {
     "data": {
      "text/html": [
       "<pre>| side_data_factorization        | Assign Factors for Side Data                     | True     |</pre>"
      ],
      "text/plain": [
       "| side_data_factorization        | Assign Factors for Side Data                     | True     |"
      ]
     },
     "metadata": {},
     "output_type": "display_data"
    },
    {
     "data": {
      "text/html": [
       "<pre>| max_iterations                 | Maximum Number of Iterations                     | 300      |</pre>"
      ],
      "text/plain": [
       "| max_iterations                 | Maximum Number of Iterations                     | 300      |"
      ]
     },
     "metadata": {},
     "output_type": "display_data"
    },
    {
     "data": {
      "text/html": [
       "<pre>+--------------------------------+--------------------------------------------------+----------+</pre>"
      ],
      "text/plain": [
       "+--------------------------------+--------------------------------------------------+----------+"
      ]
     },
     "metadata": {},
     "output_type": "display_data"
    },
    {
     "data": {
      "text/html": [
       "<pre>  Optimizing model using SGD; tuning step size.</pre>"
      ],
      "text/plain": [
       "  Optimizing model using SGD; tuning step size."
      ]
     },
     "metadata": {},
     "output_type": "display_data"
    },
    {
     "data": {
      "text/html": [
       "<pre>  Using 939876 / 7519013 points for tuning the step size.</pre>"
      ],
      "text/plain": [
       "  Using 939876 / 7519013 points for tuning the step size."
      ]
     },
     "metadata": {},
     "output_type": "display_data"
    },
    {
     "data": {
      "text/html": [
       "<pre>+---------+-------------------+------------------------------------------+</pre>"
      ],
      "text/plain": [
       "+---------+-------------------+------------------------------------------+"
      ]
     },
     "metadata": {},
     "output_type": "display_data"
    },
    {
     "data": {
      "text/html": [
       "<pre>| Attempt | Initial Step Size | Estimated Objective Value                |</pre>"
      ],
      "text/plain": [
       "| Attempt | Initial Step Size | Estimated Objective Value                |"
      ]
     },
     "metadata": {},
     "output_type": "display_data"
    },
    {
     "data": {
      "text/html": [
       "<pre>+---------+-------------------+------------------------------------------+</pre>"
      ],
      "text/plain": [
       "+---------+-------------------+------------------------------------------+"
      ]
     },
     "metadata": {},
     "output_type": "display_data"
    },
    {
     "data": {
      "text/html": [
       "<pre>| 0       | 0.979947          | 0.446434                                 |</pre>"
      ],
      "text/plain": [
       "| 0       | 0.979947          | 0.446434                                 |"
      ]
     },
     "metadata": {},
     "output_type": "display_data"
    },
    {
     "data": {
      "text/html": [
       "<pre>| 1       | 0.489974          | 0.46618                                  |</pre>"
      ],
      "text/plain": [
       "| 1       | 0.489974          | 0.46618                                  |"
      ]
     },
     "metadata": {},
     "output_type": "display_data"
    },
    {
     "data": {
      "text/html": [
       "<pre>| 2       | 0.244987          | 0.482554                                 |</pre>"
      ],
      "text/plain": [
       "| 2       | 0.244987          | 0.482554                                 |"
      ]
     },
     "metadata": {},
     "output_type": "display_data"
    },
    {
     "data": {
      "text/html": [
       "<pre>| 3       | 0.122493          | 0.522961                                 |</pre>"
      ],
      "text/plain": [
       "| 3       | 0.122493          | 0.522961                                 |"
      ]
     },
     "metadata": {},
     "output_type": "display_data"
    },
    {
     "data": {
      "text/html": [
       "<pre>+---------+-------------------+------------------------------------------+</pre>"
      ],
      "text/plain": [
       "+---------+-------------------+------------------------------------------+"
      ]
     },
     "metadata": {},
     "output_type": "display_data"
    },
    {
     "data": {
      "text/html": [
       "<pre>| Final   | 0.979947          | 0.446434                                 |</pre>"
      ],
      "text/plain": [
       "| Final   | 0.979947          | 0.446434                                 |"
      ]
     },
     "metadata": {},
     "output_type": "display_data"
    },
    {
     "data": {
      "text/html": [
       "<pre>+---------+-------------------+------------------------------------------+</pre>"
      ],
      "text/plain": [
       "+---------+-------------------+------------------------------------------+"
      ]
     },
     "metadata": {},
     "output_type": "display_data"
    },
    {
     "data": {
      "text/html": [
       "<pre>Starting Optimization.</pre>"
      ],
      "text/plain": [
       "Starting Optimization."
      ]
     },
     "metadata": {},
     "output_type": "display_data"
    },
    {
     "data": {
      "text/html": [
       "<pre>+---------+--------------+-------------------+-----------------------------------+-------------+</pre>"
      ],
      "text/plain": [
       "+---------+--------------+-------------------+-----------------------------------+-------------+"
      ]
     },
     "metadata": {},
     "output_type": "display_data"
    },
    {
     "data": {
      "text/html": [
       "<pre>| Iter.   | Elapsed Time | Approx. Objective | Approx. Training Predictive Error | Step Size   |</pre>"
      ],
      "text/plain": [
       "| Iter.   | Elapsed Time | Approx. Objective | Approx. Training Predictive Error | Step Size   |"
      ]
     },
     "metadata": {},
     "output_type": "display_data"
    },
    {
     "data": {
      "text/html": [
       "<pre>+---------+--------------+-------------------+-----------------------------------+-------------+</pre>"
      ],
      "text/plain": [
       "+---------+--------------+-------------------+-----------------------------------+-------------+"
      ]
     },
     "metadata": {},
     "output_type": "display_data"
    },
    {
     "data": {
      "text/html": [
       "<pre>| Initial | 87us         | 0.624379          | 0.624379                          |             |</pre>"
      ],
      "text/plain": [
       "| Initial | 87us         | 0.624379          | 0.624379                          |             |"
      ]
     },
     "metadata": {},
     "output_type": "display_data"
    },
    {
     "data": {
      "text/html": [
       "<pre>+---------+--------------+-------------------+-----------------------------------+-------------+</pre>"
      ],
      "text/plain": [
       "+---------+--------------+-------------------+-----------------------------------+-------------+"
      ]
     },
     "metadata": {},
     "output_type": "display_data"
    },
    {
     "data": {
      "text/html": [
       "<pre>| 9       | 6m 51s       | 0.473776          | 0.449551                          | 0.489974    |</pre>"
      ],
      "text/plain": [
       "| 9       | 6m 51s       | 0.473776          | 0.449551                          | 0.489974    |"
      ]
     },
     "metadata": {},
     "output_type": "display_data"
    },
    {
     "data": {
      "text/html": [
       "<pre>| 10      | 7m 29s       | 0.472404          | 0.449317                          | 0.489974    |</pre>"
      ],
      "text/plain": [
       "| 10      | 7m 29s       | 0.472404          | 0.449317                          | 0.489974    |"
      ]
     },
     "metadata": {},
     "output_type": "display_data"
    },
    {
     "data": {
      "text/html": [
       "<pre>| 11      | 8m 7s        | 0.470496          | 0.449217                          | 0.489974    |</pre>"
      ],
      "text/plain": [
       "| 11      | 8m 7s        | 0.470496          | 0.449217                          | 0.489974    |"
      ]
     },
     "metadata": {},
     "output_type": "display_data"
    },
    {
     "data": {
      "text/html": [
       "<pre>| 12      | 8m 46s       | 0.469328          | 0.448706                          | 0.489974    |</pre>"
      ],
      "text/plain": [
       "| 12      | 8m 46s       | 0.469328          | 0.448706                          | 0.489974    |"
      ]
     },
     "metadata": {},
     "output_type": "display_data"
    },
    {
     "data": {
      "text/html": [
       "<pre>| 13      | 9m 26s       | 0.468544          | 0.448368                          | 0.489974    |</pre>"
      ],
      "text/plain": [
       "| 13      | 9m 26s       | 0.468544          | 0.448368                          | 0.489974    |"
      ]
     },
     "metadata": {},
     "output_type": "display_data"
    },
    {
     "data": {
      "text/html": [
       "<pre>| 14      | 10m 6s       | 0.468745          | 0.448327                          | 0.489974    |</pre>"
      ],
      "text/plain": [
       "| 14      | 10m 6s       | 0.468745          | 0.448327                          | 0.489974    |"
      ]
     },
     "metadata": {},
     "output_type": "display_data"
    },
    {
     "data": {
      "text/html": [
       "<pre>| 15      | 10m 45s      | 0.467632          | 0.448003                          | 0.489974    |</pre>"
      ],
      "text/plain": [
       "| 15      | 10m 45s      | 0.467632          | 0.448003                          | 0.489974    |"
      ]
     },
     "metadata": {},
     "output_type": "display_data"
    },
    {
     "data": {
      "text/html": [
       "<pre>| 16      | 11m 23s      | 0.467177          | 0.448321                          | 0.489974    |</pre>"
      ],
      "text/plain": [
       "| 16      | 11m 23s      | 0.467177          | 0.448321                          | 0.489974    |"
      ]
     },
     "metadata": {},
     "output_type": "display_data"
    },
    {
     "data": {
      "text/html": [
       "<pre>| 17      | 12m 2s       | 0.46672           | 0.447966                          | 0.489974    |</pre>"
      ],
      "text/plain": [
       "| 17      | 12m 2s       | 0.46672           | 0.447966                          | 0.489974    |"
      ]
     },
     "metadata": {},
     "output_type": "display_data"
    },
    {
     "data": {
      "text/html": [
       "<pre>| 18      | 12m 40s      | 0.467065          | 0.44821                           | 0.489974    |</pre>"
      ],
      "text/plain": [
       "| 18      | 12m 40s      | 0.467065          | 0.44821                           | 0.489974    |"
      ]
     },
     "metadata": {},
     "output_type": "display_data"
    },
    {
     "data": {
      "text/html": [
       "<pre>| 19      | 13m 19s      | 0.465324          | 0.44761                           | 0.489974    |</pre>"
      ],
      "text/plain": [
       "| 19      | 13m 19s      | 0.465324          | 0.44761                           | 0.489974    |"
      ]
     },
     "metadata": {},
     "output_type": "display_data"
    },
    {
     "data": {
      "text/html": [
       "<pre>| 20      | 13m 57s      | 0.464329          | 0.447649                          | 0.489974    |</pre>"
      ],
      "text/plain": [
       "| 20      | 13m 57s      | 0.464329          | 0.447649                          | 0.489974    |"
      ]
     },
     "metadata": {},
     "output_type": "display_data"
    },
    {
     "data": {
      "text/html": [
       "<pre>| 21      | 14m 35s      | 0.464543          | 0.447417                          | 0.489974    |</pre>"
      ],
      "text/plain": [
       "| 21      | 14m 35s      | 0.464543          | 0.447417                          | 0.489974    |"
      ]
     },
     "metadata": {},
     "output_type": "display_data"
    },
    {
     "data": {
      "text/html": [
       "<pre>| 22      | 15m 13s      | 0.464745          | 0.447679                          | 0.489974    |</pre>"
      ],
      "text/plain": [
       "| 22      | 15m 13s      | 0.464745          | 0.447679                          | 0.489974    |"
      ]
     },
     "metadata": {},
     "output_type": "display_data"
    },
    {
     "data": {
      "text/html": [
       "<pre>| 23      | 15m 51s      | 0.465124          | 0.447506                          | 0.489974    |</pre>"
      ],
      "text/plain": [
       "| 23      | 15m 51s      | 0.465124          | 0.447506                          | 0.489974    |"
      ]
     },
     "metadata": {},
     "output_type": "display_data"
    },
    {
     "data": {
      "text/html": [
       "<pre>| 24      | 16m 31s      | 0.464424          | 0.447328                          | 0.489974    |</pre>"
      ],
      "text/plain": [
       "| 24      | 16m 31s      | 0.464424          | 0.447328                          | 0.489974    |"
      ]
     },
     "metadata": {},
     "output_type": "display_data"
    },
    {
     "data": {
      "text/html": [
       "<pre>| 25      | 17m 9s       | 0.463756          | 0.447104                          | 0.489974    |</pre>"
      ],
      "text/plain": [
       "| 25      | 17m 9s       | 0.463756          | 0.447104                          | 0.489974    |"
      ]
     },
     "metadata": {},
     "output_type": "display_data"
    },
    {
     "data": {
      "text/html": [
       "<pre>| 26      | 17m 49s      | 0.46319           | 0.446981                          | 0.489974    |</pre>"
      ],
      "text/plain": [
       "| 26      | 17m 49s      | 0.46319           | 0.446981                          | 0.489974    |"
      ]
     },
     "metadata": {},
     "output_type": "display_data"
    },
    {
     "data": {
      "text/html": [
       "<pre>| 27      | 18m 27s      | 0.463227          | 0.446842                          | 0.489974    |</pre>"
      ],
      "text/plain": [
       "| 27      | 18m 27s      | 0.463227          | 0.446842                          | 0.489974    |"
      ]
     },
     "metadata": {},
     "output_type": "display_data"
    },
    {
     "data": {
      "text/html": [
       "<pre>| 28      | 19m 6s       | 0.463508          | 0.446878                          | 0.489974    |</pre>"
      ],
      "text/plain": [
       "| 28      | 19m 6s       | 0.463508          | 0.446878                          | 0.489974    |"
      ]
     },
     "metadata": {},
     "output_type": "display_data"
    },
    {
     "data": {
      "text/html": [
       "<pre>| 29      | 19m 44s      | 0.463262          | 0.447149                          | 0.489974    |</pre>"
      ],
      "text/plain": [
       "| 29      | 19m 44s      | 0.463262          | 0.447149                          | 0.489974    |"
      ]
     },
     "metadata": {},
     "output_type": "display_data"
    },
    {
     "data": {
      "text/html": [
       "<pre>| 30      | 20m 23s      | 0.462487          | 0.446385                          | 0.489974    |</pre>"
      ],
      "text/plain": [
       "| 30      | 20m 23s      | 0.462487          | 0.446385                          | 0.489974    |"
      ]
     },
     "metadata": {},
     "output_type": "display_data"
    },
    {
     "data": {
      "text/html": [
       "<pre>| 31      | 21m 3s       | 0.462995          | 0.446396                          | 0.489974    |</pre>"
      ],
      "text/plain": [
       "| 31      | 21m 3s       | 0.462995          | 0.446396                          | 0.489974    |"
      ]
     },
     "metadata": {},
     "output_type": "display_data"
    },
    {
     "data": {
      "text/html": [
       "<pre>| 32      | 21m 43s      | 0.462564          | 0.446834                          | 0.489974    |</pre>"
      ],
      "text/plain": [
       "| 32      | 21m 43s      | 0.462564          | 0.446834                          | 0.489974    |"
      ]
     },
     "metadata": {},
     "output_type": "display_data"
    },
    {
     "data": {
      "text/html": [
       "<pre>| 33      | 22m 21s      | 0.462512          | 0.446195                          | 0.489974    |</pre>"
      ],
      "text/plain": [
       "| 33      | 22m 21s      | 0.462512          | 0.446195                          | 0.489974    |"
      ]
     },
     "metadata": {},
     "output_type": "display_data"
    },
    {
     "data": {
      "text/html": [
       "<pre>| 34      | 23m 2s       | 0.461651          | 0.446116                          | 0.489974    |</pre>"
      ],
      "text/plain": [
       "| 34      | 23m 2s       | 0.461651          | 0.446116                          | 0.489974    |"
      ]
     },
     "metadata": {},
     "output_type": "display_data"
    },
    {
     "data": {
      "text/html": [
       "<pre>| 35      | 23m 41s      | 0.461656          | 0.446446                          | 0.489974    |</pre>"
      ],
      "text/plain": [
       "| 35      | 23m 41s      | 0.461656          | 0.446446                          | 0.489974    |"
      ]
     },
     "metadata": {},
     "output_type": "display_data"
    },
    {
     "data": {
      "text/html": [
       "<pre>| 36      | 24m 20s      | 0.461619          | 0.445937                          | 0.489974    |</pre>"
      ],
      "text/plain": [
       "| 36      | 24m 20s      | 0.461619          | 0.445937                          | 0.489974    |"
      ]
     },
     "metadata": {},
     "output_type": "display_data"
    },
    {
     "data": {
      "text/html": [
       "<pre>| 37      | 24m 58s      | 0.46186           | 0.446364                          | 0.489974    |</pre>"
      ],
      "text/plain": [
       "| 37      | 24m 58s      | 0.46186           | 0.446364                          | 0.489974    |"
      ]
     },
     "metadata": {},
     "output_type": "display_data"
    },
    {
     "data": {
      "text/html": [
       "<pre>| 38      | 25m 35s      | 0.460814          | 0.445927                          | 0.489974    |</pre>"
      ],
      "text/plain": [
       "| 38      | 25m 35s      | 0.460814          | 0.445927                          | 0.489974    |"
      ]
     },
     "metadata": {},
     "output_type": "display_data"
    },
    {
     "data": {
      "text/html": [
       "<pre>| 39      | 26m 14s      | 0.46259           | 0.446555                          | 0.489974    |</pre>"
      ],
      "text/plain": [
       "| 39      | 26m 14s      | 0.46259           | 0.446555                          | 0.489974    |"
      ]
     },
     "metadata": {},
     "output_type": "display_data"
    },
    {
     "data": {
      "text/html": [
       "<pre>| 40      | 26m 52s      | 0.462444          | 0.446743                          | 0.489974    |</pre>"
      ],
      "text/plain": [
       "| 40      | 26m 52s      | 0.462444          | 0.446743                          | 0.489974    |"
      ]
     },
     "metadata": {},
     "output_type": "display_data"
    },
    {
     "data": {
      "text/html": [
       "<pre>| 41      | 27m 31s      | 0.461304          | 0.446352                          | 0.489974    |</pre>"
      ],
      "text/plain": [
       "| 41      | 27m 31s      | 0.461304          | 0.446352                          | 0.489974    |"
      ]
     },
     "metadata": {},
     "output_type": "display_data"
    },
    {
     "data": {
      "text/html": [
       "<pre>| 42      | 28m 8s       | 0.460387          | 0.445635                          | 0.489974    |</pre>"
      ],
      "text/plain": [
       "| 42      | 28m 8s       | 0.460387          | 0.445635                          | 0.489974    |"
      ]
     },
     "metadata": {},
     "output_type": "display_data"
    },
    {
     "data": {
      "text/html": [
       "<pre>| 43      | 28m 46s      | 0.461878          | 0.44573                           | 0.489974    |</pre>"
      ],
      "text/plain": [
       "| 43      | 28m 46s      | 0.461878          | 0.44573                           | 0.489974    |"
      ]
     },
     "metadata": {},
     "output_type": "display_data"
    },
    {
     "data": {
      "text/html": [
       "<pre>| 44      | 29m 25s      | 0.459624          | 0.445586                          | 0.489974    |</pre>"
      ],
      "text/plain": [
       "| 44      | 29m 25s      | 0.459624          | 0.445586                          | 0.489974    |"
      ]
     },
     "metadata": {},
     "output_type": "display_data"
    },
    {
     "data": {
      "text/html": [
       "<pre>| 45      | 30m 2s       | 0.460474          | 0.445908                          | 0.489974    |</pre>"
      ],
      "text/plain": [
       "| 45      | 30m 2s       | 0.460474          | 0.445908                          | 0.489974    |"
      ]
     },
     "metadata": {},
     "output_type": "display_data"
    },
    {
     "data": {
      "text/html": [
       "<pre>| 46      | 30m 41s      | 0.461475          | 0.445786                          | 0.489974    |</pre>"
      ],
      "text/plain": [
       "| 46      | 30m 41s      | 0.461475          | 0.445786                          | 0.489974    |"
      ]
     },
     "metadata": {},
     "output_type": "display_data"
    },
    {
     "data": {
      "text/html": [
       "<pre>| 47      | 31m 20s      | 0.460106          | 0.445471                          | 0.489974    |</pre>"
      ],
      "text/plain": [
       "| 47      | 31m 20s      | 0.460106          | 0.445471                          | 0.489974    |"
      ]
     },
     "metadata": {},
     "output_type": "display_data"
    },
    {
     "data": {
      "text/html": [
       "<pre>| 48      | 31m 58s      | 0.460621          | 0.445873                          | 0.489974    |</pre>"
      ],
      "text/plain": [
       "| 48      | 31m 58s      | 0.460621          | 0.445873                          | 0.489974    |"
      ]
     },
     "metadata": {},
     "output_type": "display_data"
    },
    {
     "data": {
      "text/html": [
       "<pre>| 49      | 32m 36s      | 0.460807          | 0.445879                          | 0.489974    |</pre>"
      ],
      "text/plain": [
       "| 49      | 32m 36s      | 0.460807          | 0.445879                          | 0.489974    |"
      ]
     },
     "metadata": {},
     "output_type": "display_data"
    },
    {
     "data": {
      "text/html": [
       "<pre>| 50      | 33m 15s      | 0.460721          | 0.445779                          | 0.489974    |</pre>"
      ],
      "text/plain": [
       "| 50      | 33m 15s      | 0.460721          | 0.445779                          | 0.489974    |"
      ]
     },
     "metadata": {},
     "output_type": "display_data"
    },
    {
     "data": {
      "text/html": [
       "<pre>| 51      | 33m 53s      | 0.460874          | 0.445587                          | 0.489974    |</pre>"
      ],
      "text/plain": [
       "| 51      | 33m 53s      | 0.460874          | 0.445587                          | 0.489974    |"
      ]
     },
     "metadata": {},
     "output_type": "display_data"
    },
    {
     "data": {
      "text/html": [
       "<pre>| 52      | 34m 32s      | 0.459924          | 0.445178                          | 0.489974    |</pre>"
      ],
      "text/plain": [
       "| 52      | 34m 32s      | 0.459924          | 0.445178                          | 0.489974    |"
      ]
     },
     "metadata": {},
     "output_type": "display_data"
    },
    {
     "data": {
      "text/html": [
       "<pre>| 53      | 35m 10s      | 0.46069           | 0.445551                          | 0.489974    |</pre>"
      ],
      "text/plain": [
       "| 53      | 35m 10s      | 0.46069           | 0.445551                          | 0.489974    |"
      ]
     },
     "metadata": {},
     "output_type": "display_data"
    },
    {
     "data": {
      "text/html": [
       "<pre>| 54      | 35m 47s      | 0.46058           | 0.445343                          | 0.489974    |</pre>"
      ],
      "text/plain": [
       "| 54      | 35m 47s      | 0.46058           | 0.445343                          | 0.489974    |"
      ]
     },
     "metadata": {},
     "output_type": "display_data"
    },
    {
     "data": {
      "text/html": [
       "<pre>| 55      | 36m 26s      | 0.460461          | 0.445466                          | 0.489974    |</pre>"
      ],
      "text/plain": [
       "| 55      | 36m 26s      | 0.460461          | 0.445466                          | 0.489974    |"
      ]
     },
     "metadata": {},
     "output_type": "display_data"
    },
    {
     "data": {
      "text/html": [
       "<pre>| 56      | 37m 5s       | 0.460682          | 0.445548                          | 0.489974    |</pre>"
      ],
      "text/plain": [
       "| 56      | 37m 5s       | 0.460682          | 0.445548                          | 0.489974    |"
      ]
     },
     "metadata": {},
     "output_type": "display_data"
    },
    {
     "data": {
      "text/html": [
       "<pre>| 57      | 37m 43s      | 0.460552          | 0.445495                          | 0.489974    |</pre>"
      ],
      "text/plain": [
       "| 57      | 37m 43s      | 0.460552          | 0.445495                          | 0.489974    |"
      ]
     },
     "metadata": {},
     "output_type": "display_data"
    },
    {
     "data": {
      "text/html": [
       "<pre>| 58      | 38m 20s      | 0.459726          | 0.445236                          | 0.489974    |</pre>"
      ],
      "text/plain": [
       "| 58      | 38m 20s      | 0.459726          | 0.445236                          | 0.489974    |"
      ]
     },
     "metadata": {},
     "output_type": "display_data"
    },
    {
     "data": {
      "text/html": [
       "<pre>| 59      | 38m 58s      | 0.459906          | 0.445252                          | 0.489974    |</pre>"
      ],
      "text/plain": [
       "| 59      | 38m 58s      | 0.459906          | 0.445252                          | 0.489974    |"
      ]
     },
     "metadata": {},
     "output_type": "display_data"
    },
    {
     "data": {
      "text/html": [
       "<pre>| 60      | 39m 37s      | 0.460283          | 0.445242                          | 0.489974    |</pre>"
      ],
      "text/plain": [
       "| 60      | 39m 37s      | 0.460283          | 0.445242                          | 0.489974    |"
      ]
     },
     "metadata": {},
     "output_type": "display_data"
    },
    {
     "data": {
      "text/html": [
       "<pre>| 61      | 40m 15s      | 0.459991          | 0.445298                          | 0.489974    |</pre>"
      ],
      "text/plain": [
       "| 61      | 40m 15s      | 0.459991          | 0.445298                          | 0.489974    |"
      ]
     },
     "metadata": {},
     "output_type": "display_data"
    },
    {
     "data": {
      "text/html": [
       "<pre>| 62      | 40m 54s      | 0.459433          | 0.444911                          | 0.489974    |</pre>"
      ],
      "text/plain": [
       "| 62      | 40m 54s      | 0.459433          | 0.444911                          | 0.489974    |"
      ]
     },
     "metadata": {},
     "output_type": "display_data"
    },
    {
     "data": {
      "text/html": [
       "<pre>| 63      | 41m 32s      | 0.459363          | 0.445284                          | 0.489974    |</pre>"
      ],
      "text/plain": [
       "| 63      | 41m 32s      | 0.459363          | 0.445284                          | 0.489974    |"
      ]
     },
     "metadata": {},
     "output_type": "display_data"
    },
    {
     "data": {
      "text/html": [
       "<pre>| 64      | 42m 11s      | 0.459173          | 0.445078                          | 0.489974    |</pre>"
      ],
      "text/plain": [
       "| 64      | 42m 11s      | 0.459173          | 0.445078                          | 0.489974    |"
      ]
     },
     "metadata": {},
     "output_type": "display_data"
    },
    {
     "data": {
      "text/html": [
       "<pre>| 65      | 42m 49s      | 0.459358          | 0.445044                          | 0.489974    |</pre>"
      ],
      "text/plain": [
       "| 65      | 42m 49s      | 0.459358          | 0.445044                          | 0.489974    |"
      ]
     },
     "metadata": {},
     "output_type": "display_data"
    },
    {
     "data": {
      "text/html": [
       "<pre>| 66      | 43m 27s      | 0.459495          | 0.445037                          | 0.489974    |</pre>"
      ],
      "text/plain": [
       "| 66      | 43m 27s      | 0.459495          | 0.445037                          | 0.489974    |"
      ]
     },
     "metadata": {},
     "output_type": "display_data"
    },
    {
     "data": {
      "text/html": [
       "<pre>| 67      | 44m 6s       | 0.460323          | 0.445206                          | 0.489974    |</pre>"
      ],
      "text/plain": [
       "| 67      | 44m 6s       | 0.460323          | 0.445206                          | 0.489974    |"
      ]
     },
     "metadata": {},
     "output_type": "display_data"
    },
    {
     "data": {
      "text/html": [
       "<pre>| 68      | 44m 43s      | 0.45972           | 0.444637                          | 0.489974    |</pre>"
      ],
      "text/plain": [
       "| 68      | 44m 43s      | 0.45972           | 0.444637                          | 0.489974    |"
      ]
     },
     "metadata": {},
     "output_type": "display_data"
    },
    {
     "data": {
      "text/html": [
       "<pre>| 69      | 45m 21s      | 0.459409          | 0.444472                          | 0.489974    |</pre>"
      ],
      "text/plain": [
       "| 69      | 45m 21s      | 0.459409          | 0.444472                          | 0.489974    |"
      ]
     },
     "metadata": {},
     "output_type": "display_data"
    },
    {
     "data": {
      "text/html": [
       "<pre>| 70      | 46m 0s       | 0.459103          | 0.44468                           | 0.489974    |</pre>"
      ],
      "text/plain": [
       "| 70      | 46m 0s       | 0.459103          | 0.44468                           | 0.489974    |"
      ]
     },
     "metadata": {},
     "output_type": "display_data"
    },
    {
     "data": {
      "text/html": [
       "<pre>| 71      | 46m 39s      | 0.458976          | 0.444907                          | 0.489974    |</pre>"
      ],
      "text/plain": [
       "| 71      | 46m 39s      | 0.458976          | 0.444907                          | 0.489974    |"
      ]
     },
     "metadata": {},
     "output_type": "display_data"
    },
    {
     "data": {
      "text/html": [
       "<pre>| 72      | 47m 17s      | 0.459397          | 0.444545                          | 0.489974    |</pre>"
      ],
      "text/plain": [
       "| 72      | 47m 17s      | 0.459397          | 0.444545                          | 0.489974    |"
      ]
     },
     "metadata": {},
     "output_type": "display_data"
    },
    {
     "data": {
      "text/html": [
       "<pre>| 73      | 47m 55s      | 0.458969          | 0.444628                          | 0.489974    |</pre>"
      ],
      "text/plain": [
       "| 73      | 47m 55s      | 0.458969          | 0.444628                          | 0.489974    |"
      ]
     },
     "metadata": {},
     "output_type": "display_data"
    },
    {
     "data": {
      "text/html": [
       "<pre>| 74      | 48m 32s      | 0.458871          | 0.444603                          | 0.489974    |</pre>"
      ],
      "text/plain": [
       "| 74      | 48m 32s      | 0.458871          | 0.444603                          | 0.489974    |"
      ]
     },
     "metadata": {},
     "output_type": "display_data"
    },
    {
     "data": {
      "text/html": [
       "<pre>| 75      | 49m 11s      | 0.458778          | 0.444704                          | 0.489974    |</pre>"
      ],
      "text/plain": [
       "| 75      | 49m 11s      | 0.458778          | 0.444704                          | 0.489974    |"
      ]
     },
     "metadata": {},
     "output_type": "display_data"
    },
    {
     "data": {
      "text/html": [
       "<pre>| 76      | 49m 50s      | 0.458355          | 0.4447                            | 0.489974    |</pre>"
      ],
      "text/plain": [
       "| 76      | 49m 50s      | 0.458355          | 0.4447                            | 0.489974    |"
      ]
     },
     "metadata": {},
     "output_type": "display_data"
    },
    {
     "data": {
      "text/html": [
       "<pre>| 77      | 50m 28s      | 0.459008          | 0.444191                          | 0.489974    |</pre>"
      ],
      "text/plain": [
       "| 77      | 50m 28s      | 0.459008          | 0.444191                          | 0.489974    |"
      ]
     },
     "metadata": {},
     "output_type": "display_data"
    },
    {
     "data": {
      "text/html": [
       "<pre>| 78      | 51m 6s       | 0.459334          | 0.444207                          | 0.489974    |</pre>"
      ],
      "text/plain": [
       "| 78      | 51m 6s       | 0.459334          | 0.444207                          | 0.489974    |"
      ]
     },
     "metadata": {},
     "output_type": "display_data"
    },
    {
     "data": {
      "text/html": [
       "<pre>| 79      | 51m 45s      | 0.458856          | 0.444022                          | 0.489974    |</pre>"
      ],
      "text/plain": [
       "| 79      | 51m 45s      | 0.458856          | 0.444022                          | 0.489974    |"
      ]
     },
     "metadata": {},
     "output_type": "display_data"
    },
    {
     "data": {
      "text/html": [
       "<pre>| 80      | 52m 23s      | 0.458829          | 0.444272                          | 0.489974    |</pre>"
      ],
      "text/plain": [
       "| 80      | 52m 23s      | 0.458829          | 0.444272                          | 0.489974    |"
      ]
     },
     "metadata": {},
     "output_type": "display_data"
    },
    {
     "data": {
      "text/html": [
       "<pre>| 81      | 53m 1s       | 0.45914           | 0.444468                          | 0.489974    |</pre>"
      ],
      "text/plain": [
       "| 81      | 53m 1s       | 0.45914           | 0.444468                          | 0.489974    |"
      ]
     },
     "metadata": {},
     "output_type": "display_data"
    },
    {
     "data": {
      "text/html": [
       "<pre>| 82      | 53m 39s      | 0.458063          | 0.443922                          | 0.489974    |</pre>"
      ],
      "text/plain": [
       "| 82      | 53m 39s      | 0.458063          | 0.443922                          | 0.489974    |"
      ]
     },
     "metadata": {},
     "output_type": "display_data"
    },
    {
     "data": {
      "text/html": [
       "<pre>| 83      | 54m 17s      | 0.458501          | 0.444331                          | 0.489974    |</pre>"
      ],
      "text/plain": [
       "| 83      | 54m 17s      | 0.458501          | 0.444331                          | 0.489974    |"
      ]
     },
     "metadata": {},
     "output_type": "display_data"
    },
    {
     "data": {
      "text/html": [
       "<pre>| 84      | 54m 56s      | 0.458139          | 0.444008                          | 0.489974    |</pre>"
      ],
      "text/plain": [
       "| 84      | 54m 56s      | 0.458139          | 0.444008                          | 0.489974    |"
      ]
     },
     "metadata": {},
     "output_type": "display_data"
    },
    {
     "data": {
      "text/html": [
       "<pre>| 85      | 55m 34s      | 0.458723          | 0.443844                          | 0.489974    |</pre>"
      ],
      "text/plain": [
       "| 85      | 55m 34s      | 0.458723          | 0.443844                          | 0.489974    |"
      ]
     },
     "metadata": {},
     "output_type": "display_data"
    },
    {
     "data": {
      "text/html": [
       "<pre>| 86      | 56m 11s      | 0.457702          | 0.443669                          | 0.489974    |</pre>"
      ],
      "text/plain": [
       "| 86      | 56m 11s      | 0.457702          | 0.443669                          | 0.489974    |"
      ]
     },
     "metadata": {},
     "output_type": "display_data"
    },
    {
     "data": {
      "text/html": [
       "<pre>| 87      | 56m 49s      | 0.458534          | 0.44419                           | 0.489974    |</pre>"
      ],
      "text/plain": [
       "| 87      | 56m 49s      | 0.458534          | 0.44419                           | 0.489974    |"
      ]
     },
     "metadata": {},
     "output_type": "display_data"
    },
    {
     "data": {
      "text/html": [
       "<pre>| 88      | 57m 27s      | 0.457856          | 0.444092                          | 0.489974    |</pre>"
      ],
      "text/plain": [
       "| 88      | 57m 27s      | 0.457856          | 0.444092                          | 0.489974    |"
      ]
     },
     "metadata": {},
     "output_type": "display_data"
    },
    {
     "data": {
      "text/html": [
       "<pre>| 89      | 58m 5s       | 0.458097          | 0.443863                          | 0.489974    |</pre>"
      ],
      "text/plain": [
       "| 89      | 58m 5s       | 0.458097          | 0.443863                          | 0.489974    |"
      ]
     },
     "metadata": {},
     "output_type": "display_data"
    },
    {
     "data": {
      "text/html": [
       "<pre>| 90      | 58m 43s      | 0.458919          | 0.444028                          | 0.489974    |</pre>"
      ],
      "text/plain": [
       "| 90      | 58m 43s      | 0.458919          | 0.444028                          | 0.489974    |"
      ]
     },
     "metadata": {},
     "output_type": "display_data"
    },
    {
     "data": {
      "text/html": [
       "<pre>| 91      | 59m 22s      | 0.458256          | 0.443917                          | 0.489974    |</pre>"
      ],
      "text/plain": [
       "| 91      | 59m 22s      | 0.458256          | 0.443917                          | 0.489974    |"
      ]
     },
     "metadata": {},
     "output_type": "display_data"
    },
    {
     "data": {
      "text/html": [
       "<pre>| 92      | 1h 0m        | 0.4574            | 0.443821                          | 0.489974    |</pre>"
      ],
      "text/plain": [
       "| 92      | 1h 0m        | 0.4574            | 0.443821                          | 0.489974    |"
      ]
     },
     "metadata": {},
     "output_type": "display_data"
    },
    {
     "data": {
      "text/html": [
       "<pre>| 93      | 1h 0m        | 0.458614          | 0.443779                          | 0.489974    |</pre>"
      ],
      "text/plain": [
       "| 93      | 1h 0m        | 0.458614          | 0.443779                          | 0.489974    |"
      ]
     },
     "metadata": {},
     "output_type": "display_data"
    },
    {
     "data": {
      "text/html": [
       "<pre>| 94      | 1h 1m        | 0.457711          | 0.444012                          | 0.489974    |</pre>"
      ],
      "text/plain": [
       "| 94      | 1h 1m        | 0.457711          | 0.444012                          | 0.489974    |"
      ]
     },
     "metadata": {},
     "output_type": "display_data"
    },
    {
     "data": {
      "text/html": [
       "<pre>| 95      | 1h 1m        | 0.458745          | 0.444149                          | 0.489974    |</pre>"
      ],
      "text/plain": [
       "| 95      | 1h 1m        | 0.458745          | 0.444149                          | 0.489974    |"
      ]
     },
     "metadata": {},
     "output_type": "display_data"
    },
    {
     "data": {
      "text/html": [
       "<pre>| 96      | 1h 2m        | 0.457564          | 0.443401                          | 0.489974    |</pre>"
      ],
      "text/plain": [
       "| 96      | 1h 2m        | 0.457564          | 0.443401                          | 0.489974    |"
      ]
     },
     "metadata": {},
     "output_type": "display_data"
    },
    {
     "data": {
      "text/html": [
       "<pre>| 97      | 1h 3m        | 0.458407          | 0.443872                          | 0.489974    |</pre>"
      ],
      "text/plain": [
       "| 97      | 1h 3m        | 0.458407          | 0.443872                          | 0.489974    |"
      ]
     },
     "metadata": {},
     "output_type": "display_data"
    },
    {
     "data": {
      "text/html": [
       "<pre>| 98      | 1h 3m        | 0.457461          | 0.443594                          | 0.489974    |</pre>"
      ],
      "text/plain": [
       "| 98      | 1h 3m        | 0.457461          | 0.443594                          | 0.489974    |"
      ]
     },
     "metadata": {},
     "output_type": "display_data"
    },
    {
     "data": {
      "text/html": [
       "<pre>| 99      | 1h 4m        | 0.457405          | 0.443599                          | 0.489974    |</pre>"
      ],
      "text/plain": [
       "| 99      | 1h 4m        | 0.457405          | 0.443599                          | 0.489974    |"
      ]
     },
     "metadata": {},
     "output_type": "display_data"
    },
    {
     "data": {
      "text/html": [
       "<pre>| 100     | 1h 5m        | 0.458022          | 0.443626                          | 0.489974    |</pre>"
      ],
      "text/plain": [
       "| 100     | 1h 5m        | 0.458022          | 0.443626                          | 0.489974    |"
      ]
     },
     "metadata": {},
     "output_type": "display_data"
    },
    {
     "data": {
      "text/html": [
       "<pre>| 101     | 1h 5m        | 0.457774          | 0.443346                          | 0.489974    |</pre>"
      ],
      "text/plain": [
       "| 101     | 1h 5m        | 0.457774          | 0.443346                          | 0.489974    |"
      ]
     },
     "metadata": {},
     "output_type": "display_data"
    },
    {
     "data": {
      "text/html": [
       "<pre>| 102     | 1h 6m        | 0.458364          | 0.443395                          | 0.489974    |</pre>"
      ],
      "text/plain": [
       "| 102     | 1h 6m        | 0.458364          | 0.443395                          | 0.489974    |"
      ]
     },
     "metadata": {},
     "output_type": "display_data"
    },
    {
     "data": {
      "text/html": [
       "<pre>| 103     | 1h 7m        | 0.456934          | 0.443386                          | 0.489974    |</pre>"
      ],
      "text/plain": [
       "| 103     | 1h 7m        | 0.456934          | 0.443386                          | 0.489974    |"
      ]
     },
     "metadata": {},
     "output_type": "display_data"
    },
    {
     "data": {
      "text/html": [
       "<pre>| 104     | 1h 7m        | 0.457226          | 0.44367                           | 0.489974    |</pre>"
      ],
      "text/plain": [
       "| 104     | 1h 7m        | 0.457226          | 0.44367                           | 0.489974    |"
      ]
     },
     "metadata": {},
     "output_type": "display_data"
    },
    {
     "data": {
      "text/html": [
       "<pre>| 105     | 1h 8m        | 0.457491          | 0.443391                          | 0.489974    |</pre>"
      ],
      "text/plain": [
       "| 105     | 1h 8m        | 0.457491          | 0.443391                          | 0.489974    |"
      ]
     },
     "metadata": {},
     "output_type": "display_data"
    },
    {
     "data": {
      "text/html": [
       "<pre>| 106     | 1h 8m        | 0.456827          | 0.443411                          | 0.489974    |</pre>"
      ],
      "text/plain": [
       "| 106     | 1h 8m        | 0.456827          | 0.443411                          | 0.489974    |"
      ]
     },
     "metadata": {},
     "output_type": "display_data"
    },
    {
     "data": {
      "text/html": [
       "<pre>| 107     | 1h 9m        | 0.457906          | 0.443657                          | 0.489974    |</pre>"
      ],
      "text/plain": [
       "| 107     | 1h 9m        | 0.457906          | 0.443657                          | 0.489974    |"
      ]
     },
     "metadata": {},
     "output_type": "display_data"
    },
    {
     "data": {
      "text/html": [
       "<pre>| 108     | 1h 10m       | 0.457804          | 0.443497                          | 0.489974    |</pre>"
      ],
      "text/plain": [
       "| 108     | 1h 10m       | 0.457804          | 0.443497                          | 0.489974    |"
      ]
     },
     "metadata": {},
     "output_type": "display_data"
    },
    {
     "data": {
      "text/html": [
       "<pre>| 109     | 1h 10m       | 0.457291          | 0.443679                          | 0.489974    |</pre>"
      ],
      "text/plain": [
       "| 109     | 1h 10m       | 0.457291          | 0.443679                          | 0.489974    |"
      ]
     },
     "metadata": {},
     "output_type": "display_data"
    },
    {
     "data": {
      "text/html": [
       "<pre>| 110     | 1h 11m       | 0.457656          | 0.443578                          | 0.489974    |</pre>"
      ],
      "text/plain": [
       "| 110     | 1h 11m       | 0.457656          | 0.443578                          | 0.489974    |"
      ]
     },
     "metadata": {},
     "output_type": "display_data"
    },
    {
     "data": {
      "text/html": [
       "<pre>| 111     | 1h 12m       | 0.4571            | 0.442914                          | 0.489974    |</pre>"
      ],
      "text/plain": [
       "| 111     | 1h 12m       | 0.4571            | 0.442914                          | 0.489974    |"
      ]
     },
     "metadata": {},
     "output_type": "display_data"
    },
    {
     "data": {
      "text/html": [
       "<pre>| 112     | 1h 12m       | 0.457482          | 0.442977                          | 0.489974    |</pre>"
      ],
      "text/plain": [
       "| 112     | 1h 12m       | 0.457482          | 0.442977                          | 0.489974    |"
      ]
     },
     "metadata": {},
     "output_type": "display_data"
    },
    {
     "data": {
      "text/html": [
       "<pre>| 113     | 1h 13m       | 0.456679          | 0.443033                          | 0.489974    |</pre>"
      ],
      "text/plain": [
       "| 113     | 1h 13m       | 0.456679          | 0.443033                          | 0.489974    |"
      ]
     },
     "metadata": {},
     "output_type": "display_data"
    },
    {
     "data": {
      "text/html": [
       "<pre>| 114     | 1h 14m       | 0.457501          | 0.443471                          | 0.489974    |</pre>"
      ],
      "text/plain": [
       "| 114     | 1h 14m       | 0.457501          | 0.443471                          | 0.489974    |"
      ]
     },
     "metadata": {},
     "output_type": "display_data"
    },
    {
     "data": {
      "text/html": [
       "<pre>| 115     | 1h 14m       | 0.457444          | 0.443151                          | 0.489974    |</pre>"
      ],
      "text/plain": [
       "| 115     | 1h 14m       | 0.457444          | 0.443151                          | 0.489974    |"
      ]
     },
     "metadata": {},
     "output_type": "display_data"
    },
    {
     "data": {
      "text/html": [
       "<pre>| 116     | 1h 15m       | 0.456847          | 0.442881                          | 0.489974    |</pre>"
      ],
      "text/plain": [
       "| 116     | 1h 15m       | 0.456847          | 0.442881                          | 0.489974    |"
      ]
     },
     "metadata": {},
     "output_type": "display_data"
    },
    {
     "data": {
      "text/html": [
       "<pre>| 117     | 1h 16m       | 0.456985          | 0.443242                          | 0.489974    |</pre>"
      ],
      "text/plain": [
       "| 117     | 1h 16m       | 0.456985          | 0.443242                          | 0.489974    |"
      ]
     },
     "metadata": {},
     "output_type": "display_data"
    },
    {
     "data": {
      "text/html": [
       "<pre>| 118     | 1h 16m       | 0.457355          | 0.442724                          | 0.489974    |</pre>"
      ],
      "text/plain": [
       "| 118     | 1h 16m       | 0.457355          | 0.442724                          | 0.489974    |"
      ]
     },
     "metadata": {},
     "output_type": "display_data"
    },
    {
     "data": {
      "text/html": [
       "<pre>| 119     | 1h 17m       | 0.456739          | 0.442894                          | 0.489974    |</pre>"
      ],
      "text/plain": [
       "| 119     | 1h 17m       | 0.456739          | 0.442894                          | 0.489974    |"
      ]
     },
     "metadata": {},
     "output_type": "display_data"
    },
    {
     "data": {
      "text/html": [
       "<pre>| 120     | 1h 17m       | 0.456995          | 0.442819                          | 0.489974    |</pre>"
      ],
      "text/plain": [
       "| 120     | 1h 17m       | 0.456995          | 0.442819                          | 0.489974    |"
      ]
     },
     "metadata": {},
     "output_type": "display_data"
    },
    {
     "data": {
      "text/html": [
       "<pre>| 121     | 1h 18m       | 0.457008          | 0.442989                          | 0.489974    |</pre>"
      ],
      "text/plain": [
       "| 121     | 1h 18m       | 0.457008          | 0.442989                          | 0.489974    |"
      ]
     },
     "metadata": {},
     "output_type": "display_data"
    },
    {
     "data": {
      "text/html": [
       "<pre>| 122     | 1h 19m       | 0.457524          | 0.443113                          | 0.489974    |</pre>"
      ],
      "text/plain": [
       "| 122     | 1h 19m       | 0.457524          | 0.443113                          | 0.489974    |"
      ]
     },
     "metadata": {},
     "output_type": "display_data"
    },
    {
     "data": {
      "text/html": [
       "<pre>| 123     | 1h 19m       | 0.457282          | 0.44281                           | 0.489974    |</pre>"
      ],
      "text/plain": [
       "| 123     | 1h 19m       | 0.457282          | 0.44281                           | 0.489974    |"
      ]
     },
     "metadata": {},
     "output_type": "display_data"
    },
    {
     "data": {
      "text/html": [
       "<pre>| 124     | 1h 20m       | 0.456773          | 0.44263                           | 0.489974    |</pre>"
      ],
      "text/plain": [
       "| 124     | 1h 20m       | 0.456773          | 0.44263                           | 0.489974    |"
      ]
     },
     "metadata": {},
     "output_type": "display_data"
    },
    {
     "data": {
      "text/html": [
       "<pre>| 125     | 1h 21m       | 0.457066          | 0.442677                          | 0.489974    |</pre>"
      ],
      "text/plain": [
       "| 125     | 1h 21m       | 0.457066          | 0.442677                          | 0.489974    |"
      ]
     },
     "metadata": {},
     "output_type": "display_data"
    },
    {
     "data": {
      "text/html": [
       "<pre>| 126     | 1h 21m       | 0.456476          | 0.44258                           | 0.489974    |</pre>"
      ],
      "text/plain": [
       "| 126     | 1h 21m       | 0.456476          | 0.44258                           | 0.489974    |"
      ]
     },
     "metadata": {},
     "output_type": "display_data"
    },
    {
     "data": {
      "text/html": [
       "<pre>| 127     | 1h 22m       | 0.456341          | 0.442836                          | 0.489974    |</pre>"
      ],
      "text/plain": [
       "| 127     | 1h 22m       | 0.456341          | 0.442836                          | 0.489974    |"
      ]
     },
     "metadata": {},
     "output_type": "display_data"
    },
    {
     "data": {
      "text/html": [
       "<pre>| 128     | 1h 23m       | 0.456779          | 0.442639                          | 0.489974    |</pre>"
      ],
      "text/plain": [
       "| 128     | 1h 23m       | 0.456779          | 0.442639                          | 0.489974    |"
      ]
     },
     "metadata": {},
     "output_type": "display_data"
    },
    {
     "data": {
      "text/html": [
       "<pre>| 129     | 1h 23m       | 0.456309          | 0.442662                          | 0.489974    |</pre>"
      ],
      "text/plain": [
       "| 129     | 1h 23m       | 0.456309          | 0.442662                          | 0.489974    |"
      ]
     },
     "metadata": {},
     "output_type": "display_data"
    },
    {
     "data": {
      "text/html": [
       "<pre>| 130     | 1h 24m       | 0.457014          | 0.442958                          | 0.489974    |</pre>"
      ],
      "text/plain": [
       "| 130     | 1h 24m       | 0.457014          | 0.442958                          | 0.489974    |"
      ]
     },
     "metadata": {},
     "output_type": "display_data"
    },
    {
     "data": {
      "text/html": [
       "<pre>| 131     | 1h 25m       | 0.456732          | 0.442953                          | 0.489974    |</pre>"
      ],
      "text/plain": [
       "| 131     | 1h 25m       | 0.456732          | 0.442953                          | 0.489974    |"
      ]
     },
     "metadata": {},
     "output_type": "display_data"
    },
    {
     "data": {
      "text/html": [
       "<pre>| 132     | 1h 25m       | 0.456537          | 0.442793                          | 0.489974    |</pre>"
      ],
      "text/plain": [
       "| 132     | 1h 25m       | 0.456537          | 0.442793                          | 0.489974    |"
      ]
     },
     "metadata": {},
     "output_type": "display_data"
    },
    {
     "data": {
      "text/html": [
       "<pre>| 133     | 1h 26m       | 0.456695          | 0.442636                          | 0.489974    |</pre>"
      ],
      "text/plain": [
       "| 133     | 1h 26m       | 0.456695          | 0.442636                          | 0.489974    |"
      ]
     },
     "metadata": {},
     "output_type": "display_data"
    },
    {
     "data": {
      "text/html": [
       "<pre>| 134     | 1h 26m       | 0.455686          | 0.442606                          | 0.489974    |</pre>"
      ],
      "text/plain": [
       "| 134     | 1h 26m       | 0.455686          | 0.442606                          | 0.489974    |"
      ]
     },
     "metadata": {},
     "output_type": "display_data"
    },
    {
     "data": {
      "text/html": [
       "<pre>| 135     | 1h 27m       | 0.456986          | 0.442888                          | 0.489974    |</pre>"
      ],
      "text/plain": [
       "| 135     | 1h 27m       | 0.456986          | 0.442888                          | 0.489974    |"
      ]
     },
     "metadata": {},
     "output_type": "display_data"
    },
    {
     "data": {
      "text/html": [
       "<pre>| 136     | 1h 28m       | 0.456409          | 0.442716                          | 0.489974    |</pre>"
      ],
      "text/plain": [
       "| 136     | 1h 28m       | 0.456409          | 0.442716                          | 0.489974    |"
      ]
     },
     "metadata": {},
     "output_type": "display_data"
    },
    {
     "data": {
      "text/html": [
       "<pre>| 137     | 1h 28m       | 0.457426          | 0.44256                           | 0.489974    |</pre>"
      ],
      "text/plain": [
       "| 137     | 1h 28m       | 0.457426          | 0.44256                           | 0.489974    |"
      ]
     },
     "metadata": {},
     "output_type": "display_data"
    },
    {
     "data": {
      "text/html": [
       "<pre>| 138     | 1h 29m       | 0.456556          | 0.442383                          | 0.489974    |</pre>"
      ],
      "text/plain": [
       "| 138     | 1h 29m       | 0.456556          | 0.442383                          | 0.489974    |"
      ]
     },
     "metadata": {},
     "output_type": "display_data"
    },
    {
     "data": {
      "text/html": [
       "<pre>| 139     | 1h 30m       | 0.456832          | 0.442303                          | 0.489974    |</pre>"
      ],
      "text/plain": [
       "| 139     | 1h 30m       | 0.456832          | 0.442303                          | 0.489974    |"
      ]
     },
     "metadata": {},
     "output_type": "display_data"
    },
    {
     "data": {
      "text/html": [
       "<pre>| 140     | 1h 30m       | 0.456592          | 0.44242                           | 0.489974    |</pre>"
      ],
      "text/plain": [
       "| 140     | 1h 30m       | 0.456592          | 0.44242                           | 0.489974    |"
      ]
     },
     "metadata": {},
     "output_type": "display_data"
    },
    {
     "data": {
      "text/html": [
       "<pre>| 141     | 1h 31m       | 0.456579          | 0.442062                          | 0.489974    |</pre>"
      ],
      "text/plain": [
       "| 141     | 1h 31m       | 0.456579          | 0.442062                          | 0.489974    |"
      ]
     },
     "metadata": {},
     "output_type": "display_data"
    },
    {
     "data": {
      "text/html": [
       "<pre>| 142     | 1h 32m       | 0.456609          | 0.442231                          | 0.489974    |</pre>"
      ],
      "text/plain": [
       "| 142     | 1h 32m       | 0.456609          | 0.442231                          | 0.489974    |"
      ]
     },
     "metadata": {},
     "output_type": "display_data"
    },
    {
     "data": {
      "text/html": [
       "<pre>| 143     | 1h 32m       | 0.455942          | 0.442208                          | 0.489974    |</pre>"
      ],
      "text/plain": [
       "| 143     | 1h 32m       | 0.455942          | 0.442208                          | 0.489974    |"
      ]
     },
     "metadata": {},
     "output_type": "display_data"
    },
    {
     "data": {
      "text/html": [
       "<pre>| 144     | 1h 33m       | 0.456466          | 0.442364                          | 0.489974    |</pre>"
      ],
      "text/plain": [
       "| 144     | 1h 33m       | 0.456466          | 0.442364                          | 0.489974    |"
      ]
     },
     "metadata": {},
     "output_type": "display_data"
    },
    {
     "data": {
      "text/html": [
       "<pre>| 145     | 1h 33m       | 0.456187          | 0.44233                           | 0.489974    |</pre>"
      ],
      "text/plain": [
       "| 145     | 1h 33m       | 0.456187          | 0.44233                           | 0.489974    |"
      ]
     },
     "metadata": {},
     "output_type": "display_data"
    },
    {
     "data": {
      "text/html": [
       "<pre>| 146     | 1h 34m       | 0.456286          | 0.442169                          | 0.489974    |</pre>"
      ],
      "text/plain": [
       "| 146     | 1h 34m       | 0.456286          | 0.442169                          | 0.489974    |"
      ]
     },
     "metadata": {},
     "output_type": "display_data"
    },
    {
     "data": {
      "text/html": [
       "<pre>| 147     | 1h 35m       | 0.456467          | 0.442105                          | 0.489974    |</pre>"
      ],
      "text/plain": [
       "| 147     | 1h 35m       | 0.456467          | 0.442105                          | 0.489974    |"
      ]
     },
     "metadata": {},
     "output_type": "display_data"
    },
    {
     "data": {
      "text/html": [
       "<pre>| 148     | 1h 35m       | 0.455615          | 0.441981                          | 0.489974    |</pre>"
      ],
      "text/plain": [
       "| 148     | 1h 35m       | 0.455615          | 0.441981                          | 0.489974    |"
      ]
     },
     "metadata": {},
     "output_type": "display_data"
    },
    {
     "data": {
      "text/html": [
       "<pre>| 149     | 1h 36m       | 0.455651          | 0.441895                          | 0.489974    |</pre>"
      ],
      "text/plain": [
       "| 149     | 1h 36m       | 0.455651          | 0.441895                          | 0.489974    |"
      ]
     },
     "metadata": {},
     "output_type": "display_data"
    },
    {
     "data": {
      "text/html": [
       "<pre>| 150     | 1h 37m       | 0.456604          | 0.442312                          | 0.489974    |</pre>"
      ],
      "text/plain": [
       "| 150     | 1h 37m       | 0.456604          | 0.442312                          | 0.489974    |"
      ]
     },
     "metadata": {},
     "output_type": "display_data"
    },
    {
     "data": {
      "text/html": [
       "<pre>| 151     | 1h 37m       | 0.456065          | 0.442012                          | 0.489974    |</pre>"
      ],
      "text/plain": [
       "| 151     | 1h 37m       | 0.456065          | 0.442012                          | 0.489974    |"
      ]
     },
     "metadata": {},
     "output_type": "display_data"
    },
    {
     "data": {
      "text/html": [
       "<pre>| 152     | 1h 38m       | 0.455695          | 0.442141                          | 0.489974    |</pre>"
      ],
      "text/plain": [
       "| 152     | 1h 38m       | 0.455695          | 0.442141                          | 0.489974    |"
      ]
     },
     "metadata": {},
     "output_type": "display_data"
    },
    {
     "data": {
      "text/html": [
       "<pre>| 153     | 1h 39m       | 0.456001          | 0.442042                          | 0.489974    |</pre>"
      ],
      "text/plain": [
       "| 153     | 1h 39m       | 0.456001          | 0.442042                          | 0.489974    |"
      ]
     },
     "metadata": {},
     "output_type": "display_data"
    },
    {
     "data": {
      "text/html": [
       "<pre>| 154     | 1h 39m       | 0.45638           | 0.44234                           | 0.489974    |</pre>"
      ],
      "text/plain": [
       "| 154     | 1h 39m       | 0.45638           | 0.44234                           | 0.489974    |"
      ]
     },
     "metadata": {},
     "output_type": "display_data"
    },
    {
     "data": {
      "text/html": [
       "<pre>| 155     | 1h 40m       | 0.455587          | 0.441857                          | 0.489974    |</pre>"
      ],
      "text/plain": [
       "| 155     | 1h 40m       | 0.455587          | 0.441857                          | 0.489974    |"
      ]
     },
     "metadata": {},
     "output_type": "display_data"
    },
    {
     "data": {
      "text/html": [
       "<pre>| 156     | 1h 40m       | 0.455739          | 0.442055                          | 0.489974    |</pre>"
      ],
      "text/plain": [
       "| 156     | 1h 40m       | 0.455739          | 0.442055                          | 0.489974    |"
      ]
     },
     "metadata": {},
     "output_type": "display_data"
    },
    {
     "data": {
      "text/html": [
       "<pre>| 157     | 1h 41m       | 0.455852          | 0.441872                          | 0.489974    |</pre>"
      ],
      "text/plain": [
       "| 157     | 1h 41m       | 0.455852          | 0.441872                          | 0.489974    |"
      ]
     },
     "metadata": {},
     "output_type": "display_data"
    },
    {
     "data": {
      "text/html": [
       "<pre>| 158     | 1h 42m       | 0.456333          | 0.44193                           | 0.489974    |</pre>"
      ],
      "text/plain": [
       "| 158     | 1h 42m       | 0.456333          | 0.44193                           | 0.489974    |"
      ]
     },
     "metadata": {},
     "output_type": "display_data"
    },
    {
     "data": {
      "text/html": [
       "<pre>| 159     | 1h 42m       | 0.455634          | 0.442064                          | 0.489974    |</pre>"
      ],
      "text/plain": [
       "| 159     | 1h 42m       | 0.455634          | 0.442064                          | 0.489974    |"
      ]
     },
     "metadata": {},
     "output_type": "display_data"
    },
    {
     "data": {
      "text/html": [
       "<pre>| 160     | 1h 43m       | 0.455713          | 0.441698                          | 0.489974    |</pre>"
      ],
      "text/plain": [
       "| 160     | 1h 43m       | 0.455713          | 0.441698                          | 0.489974    |"
      ]
     },
     "metadata": {},
     "output_type": "display_data"
    },
    {
     "data": {
      "text/html": [
       "<pre>| 161     | 1h 44m       | 0.455946          | 0.441934                          | 0.489974    |</pre>"
      ],
      "text/plain": [
       "| 161     | 1h 44m       | 0.455946          | 0.441934                          | 0.489974    |"
      ]
     },
     "metadata": {},
     "output_type": "display_data"
    },
    {
     "data": {
      "text/html": [
       "<pre>| 162     | 1h 44m       | 0.455694          | 0.441887                          | 0.489974    |</pre>"
      ],
      "text/plain": [
       "| 162     | 1h 44m       | 0.455694          | 0.441887                          | 0.489974    |"
      ]
     },
     "metadata": {},
     "output_type": "display_data"
    },
    {
     "data": {
      "text/html": [
       "<pre>| 163     | 1h 45m       | 0.455363          | 0.441655                          | 0.489974    |</pre>"
      ],
      "text/plain": [
       "| 163     | 1h 45m       | 0.455363          | 0.441655                          | 0.489974    |"
      ]
     },
     "metadata": {},
     "output_type": "display_data"
    },
    {
     "data": {
      "text/html": [
       "<pre>| 164     | 1h 45m       | 0.456493          | 0.442174                          | 0.489974    |</pre>"
      ],
      "text/plain": [
       "| 164     | 1h 45m       | 0.456493          | 0.442174                          | 0.489974    |"
      ]
     },
     "metadata": {},
     "output_type": "display_data"
    },
    {
     "data": {
      "text/html": [
       "<pre>| 165     | 1h 46m       | 0.45571           | 0.441903                          | 0.489974    |</pre>"
      ],
      "text/plain": [
       "| 165     | 1h 46m       | 0.45571           | 0.441903                          | 0.489974    |"
      ]
     },
     "metadata": {},
     "output_type": "display_data"
    },
    {
     "data": {
      "text/html": [
       "<pre>| 166     | 1h 47m       | 0.456334          | 0.441732                          | 0.489974    |</pre>"
      ],
      "text/plain": [
       "| 166     | 1h 47m       | 0.456334          | 0.441732                          | 0.489974    |"
      ]
     },
     "metadata": {},
     "output_type": "display_data"
    },
    {
     "data": {
      "text/html": [
       "<pre>| 167     | 1h 47m       | 0.455646          | 0.44139                           | 0.489974    |</pre>"
      ],
      "text/plain": [
       "| 167     | 1h 47m       | 0.455646          | 0.44139                           | 0.489974    |"
      ]
     },
     "metadata": {},
     "output_type": "display_data"
    },
    {
     "data": {
      "text/html": [
       "<pre>| 168     | 1h 48m       | 0.456207          | 0.441546                          | 0.489974    |</pre>"
      ],
      "text/plain": [
       "| 168     | 1h 48m       | 0.456207          | 0.441546                          | 0.489974    |"
      ]
     },
     "metadata": {},
     "output_type": "display_data"
    },
    {
     "data": {
      "text/html": [
       "<pre>| 169     | 1h 49m       | 0.456108          | 0.441494                          | 0.489974    |</pre>"
      ],
      "text/plain": [
       "| 169     | 1h 49m       | 0.456108          | 0.441494                          | 0.489974    |"
      ]
     },
     "metadata": {},
     "output_type": "display_data"
    },
    {
     "data": {
      "text/html": [
       "<pre>| 170     | 1h 49m       | 0.455502          | 0.441547                          | 0.489974    |</pre>"
      ],
      "text/plain": [
       "| 170     | 1h 49m       | 0.455502          | 0.441547                          | 0.489974    |"
      ]
     },
     "metadata": {},
     "output_type": "display_data"
    },
    {
     "data": {
      "text/html": [
       "<pre>| 171     | 1h 50m       | 0.455658          | 0.441487                          | 0.489974    |</pre>"
      ],
      "text/plain": [
       "| 171     | 1h 50m       | 0.455658          | 0.441487                          | 0.489974    |"
      ]
     },
     "metadata": {},
     "output_type": "display_data"
    },
    {
     "data": {
      "text/html": [
       "<pre>| 172     | 1h 51m       | 0.455229          | 0.4416                            | 0.489974    |</pre>"
      ],
      "text/plain": [
       "| 172     | 1h 51m       | 0.455229          | 0.4416                            | 0.489974    |"
      ]
     },
     "metadata": {},
     "output_type": "display_data"
    },
    {
     "data": {
      "text/html": [
       "<pre>| 173     | 1h 51m       | 0.455801          | 0.441223                          | 0.489974    |</pre>"
      ],
      "text/plain": [
       "| 173     | 1h 51m       | 0.455801          | 0.441223                          | 0.489974    |"
      ]
     },
     "metadata": {},
     "output_type": "display_data"
    },
    {
     "data": {
      "text/html": [
       "<pre>| 174     | 1h 52m       | 0.455955          | 0.441322                          | 0.489974    |</pre>"
      ],
      "text/plain": [
       "| 174     | 1h 52m       | 0.455955          | 0.441322                          | 0.489974    |"
      ]
     },
     "metadata": {},
     "output_type": "display_data"
    },
    {
     "data": {
      "text/html": [
       "<pre>| 175     | 1h 52m       | 0.455852          | 0.441279                          | 0.489974    |</pre>"
      ],
      "text/plain": [
       "| 175     | 1h 52m       | 0.455852          | 0.441279                          | 0.489974    |"
      ]
     },
     "metadata": {},
     "output_type": "display_data"
    },
    {
     "data": {
      "text/html": [
       "<pre>| 176     | 1h 53m       | 0.455636          | 0.441437                          | 0.489974    |</pre>"
      ],
      "text/plain": [
       "| 176     | 1h 53m       | 0.455636          | 0.441437                          | 0.489974    |"
      ]
     },
     "metadata": {},
     "output_type": "display_data"
    },
    {
     "data": {
      "text/html": [
       "<pre>| 177     | 1h 54m       | 0.455666          | 0.441251                          | 0.489974    |</pre>"
      ],
      "text/plain": [
       "| 177     | 1h 54m       | 0.455666          | 0.441251                          | 0.489974    |"
      ]
     },
     "metadata": {},
     "output_type": "display_data"
    },
    {
     "data": {
      "text/html": [
       "<pre>| 178     | 1h 54m       | 0.455621          | 0.441349                          | 0.489974    |</pre>"
      ],
      "text/plain": [
       "| 178     | 1h 54m       | 0.455621          | 0.441349                          | 0.489974    |"
      ]
     },
     "metadata": {},
     "output_type": "display_data"
    },
    {
     "data": {
      "text/html": [
       "<pre>| 179     | 1h 55m       | 0.455677          | 0.441305                          | 0.489974    |</pre>"
      ],
      "text/plain": [
       "| 179     | 1h 55m       | 0.455677          | 0.441305                          | 0.489974    |"
      ]
     },
     "metadata": {},
     "output_type": "display_data"
    },
    {
     "data": {
      "text/html": [
       "<pre>| 180     | 1h 56m       | 0.455005          | 0.441056                          | 0.489974    |</pre>"
      ],
      "text/plain": [
       "| 180     | 1h 56m       | 0.455005          | 0.441056                          | 0.489974    |"
      ]
     },
     "metadata": {},
     "output_type": "display_data"
    },
    {
     "data": {
      "text/html": [
       "<pre>| 181     | 1h 56m       | 0.455831          | 0.441589                          | 0.489974    |</pre>"
      ],
      "text/plain": [
       "| 181     | 1h 56m       | 0.455831          | 0.441589                          | 0.489974    |"
      ]
     },
     "metadata": {},
     "output_type": "display_data"
    },
    {
     "data": {
      "text/html": [
       "<pre>| 182     | 1h 57m       | 0.455447          | 0.441352                          | 0.489974    |</pre>"
      ],
      "text/plain": [
       "| 182     | 1h 57m       | 0.455447          | 0.441352                          | 0.489974    |"
      ]
     },
     "metadata": {},
     "output_type": "display_data"
    },
    {
     "data": {
      "text/html": [
       "<pre>| 183     | 1h 58m       | 0.455407          | 0.441206                          | 0.489974    |</pre>"
      ],
      "text/plain": [
       "| 183     | 1h 58m       | 0.455407          | 0.441206                          | 0.489974    |"
      ]
     },
     "metadata": {},
     "output_type": "display_data"
    },
    {
     "data": {
      "text/html": [
       "<pre>| 184     | 1h 58m       | 0.454792          | 0.441128                          | 0.489974    |</pre>"
      ],
      "text/plain": [
       "| 184     | 1h 58m       | 0.454792          | 0.441128                          | 0.489974    |"
      ]
     },
     "metadata": {},
     "output_type": "display_data"
    },
    {
     "data": {
      "text/html": [
       "<pre>| 185     | 1h 59m       | 0.455231          | 0.441167                          | 0.489974    |</pre>"
      ],
      "text/plain": [
       "| 185     | 1h 59m       | 0.455231          | 0.441167                          | 0.489974    |"
      ]
     },
     "metadata": {},
     "output_type": "display_data"
    },
    {
     "data": {
      "text/html": [
       "<pre>| 186     | 2h 0m        | 0.455502          | 0.441301                          | 0.489974    |</pre>"
      ],
      "text/plain": [
       "| 186     | 2h 0m        | 0.455502          | 0.441301                          | 0.489974    |"
      ]
     },
     "metadata": {},
     "output_type": "display_data"
    },
    {
     "data": {
      "text/html": [
       "<pre>| 187     | 2h 0m        | 0.455271          | 0.441442                          | 0.489974    |</pre>"
      ],
      "text/plain": [
       "| 187     | 2h 0m        | 0.455271          | 0.441442                          | 0.489974    |"
      ]
     },
     "metadata": {},
     "output_type": "display_data"
    },
    {
     "data": {
      "text/html": [
       "<pre>| 188     | 2h 1m        | 0.454855          | 0.441138                          | 0.489974    |</pre>"
      ],
      "text/plain": [
       "| 188     | 2h 1m        | 0.454855          | 0.441138                          | 0.489974    |"
      ]
     },
     "metadata": {},
     "output_type": "display_data"
    },
    {
     "data": {
      "text/html": [
       "<pre>| 189     | 2h 1m        | 0.455145          | 0.44123                           | 0.489974    |</pre>"
      ],
      "text/plain": [
       "| 189     | 2h 1m        | 0.455145          | 0.44123                           | 0.489974    |"
      ]
     },
     "metadata": {},
     "output_type": "display_data"
    },
    {
     "data": {
      "text/html": [
       "<pre>| 190     | 2h 2m        | 0.455392          | 0.441137                          | 0.489974    |</pre>"
      ],
      "text/plain": [
       "| 190     | 2h 2m        | 0.455392          | 0.441137                          | 0.489974    |"
      ]
     },
     "metadata": {},
     "output_type": "display_data"
    },
    {
     "data": {
      "text/html": [
       "<pre>| 191     | 2h 3m        | 0.454908          | 0.44105                           | 0.489974    |</pre>"
      ],
      "text/plain": [
       "| 191     | 2h 3m        | 0.454908          | 0.44105                           | 0.489974    |"
      ]
     },
     "metadata": {},
     "output_type": "display_data"
    },
    {
     "data": {
      "text/html": [
       "<pre>| 192     | 2h 3m        | 0.455749          | 0.441445                          | 0.489974    |</pre>"
      ],
      "text/plain": [
       "| 192     | 2h 3m        | 0.455749          | 0.441445                          | 0.489974    |"
      ]
     },
     "metadata": {},
     "output_type": "display_data"
    },
    {
     "data": {
      "text/html": [
       "<pre>| 193     | 2h 4m        | 0.455539          | 0.441379                          | 0.489974    |</pre>"
      ],
      "text/plain": [
       "| 193     | 2h 4m        | 0.455539          | 0.441379                          | 0.489974    |"
      ]
     },
     "metadata": {},
     "output_type": "display_data"
    },
    {
     "data": {
      "text/html": [
       "<pre>| 194     | 2h 5m        | 0.455179          | 0.440821                          | 0.489974    |</pre>"
      ],
      "text/plain": [
       "| 194     | 2h 5m        | 0.455179          | 0.440821                          | 0.489974    |"
      ]
     },
     "metadata": {},
     "output_type": "display_data"
    },
    {
     "data": {
      "text/html": [
       "<pre>| 195     | 2h 5m        | 0.455192          | 0.441035                          | 0.489974    |</pre>"
      ],
      "text/plain": [
       "| 195     | 2h 5m        | 0.455192          | 0.441035                          | 0.489974    |"
      ]
     },
     "metadata": {},
     "output_type": "display_data"
    },
    {
     "data": {
      "text/html": [
       "<pre>| 196     | 2h 6m        | 0.455429          | 0.441004                          | 0.489974    |</pre>"
      ],
      "text/plain": [
       "| 196     | 2h 6m        | 0.455429          | 0.441004                          | 0.489974    |"
      ]
     },
     "metadata": {},
     "output_type": "display_data"
    },
    {
     "data": {
      "text/html": [
       "<pre>| 197     | 2h 7m        | 0.455336          | 0.441043                          | 0.489974    |</pre>"
      ],
      "text/plain": [
       "| 197     | 2h 7m        | 0.455336          | 0.441043                          | 0.489974    |"
      ]
     },
     "metadata": {},
     "output_type": "display_data"
    },
    {
     "data": {
      "text/html": [
       "<pre>| 198     | 2h 7m        | 0.455572          | 0.441193                          | 0.489974    |</pre>"
      ],
      "text/plain": [
       "| 198     | 2h 7m        | 0.455572          | 0.441193                          | 0.489974    |"
      ]
     },
     "metadata": {},
     "output_type": "display_data"
    },
    {
     "data": {
      "text/html": [
       "<pre>| 199     | 2h 8m        | 0.455169          | 0.440971                          | 0.489974    |</pre>"
      ],
      "text/plain": [
       "| 199     | 2h 8m        | 0.455169          | 0.440971                          | 0.489974    |"
      ]
     },
     "metadata": {},
     "output_type": "display_data"
    },
    {
     "data": {
      "text/html": [
       "<pre>| 200     | 2h 8m        | 0.454808          | 0.441052                          | 0.489974    |</pre>"
      ],
      "text/plain": [
       "| 200     | 2h 8m        | 0.454808          | 0.441052                          | 0.489974    |"
      ]
     },
     "metadata": {},
     "output_type": "display_data"
    },
    {
     "data": {
      "text/html": [
       "<pre>| 201     | 2h 9m        | 0.455333          | 0.441198                          | 0.489974    |</pre>"
      ],
      "text/plain": [
       "| 201     | 2h 9m        | 0.455333          | 0.441198                          | 0.489974    |"
      ]
     },
     "metadata": {},
     "output_type": "display_data"
    },
    {
     "data": {
      "text/html": [
       "<pre>| 202     | 2h 10m       | 0.454811          | 0.440648                          | 0.489974    |</pre>"
      ],
      "text/plain": [
       "| 202     | 2h 10m       | 0.454811          | 0.440648                          | 0.489974    |"
      ]
     },
     "metadata": {},
     "output_type": "display_data"
    },
    {
     "data": {
      "text/html": [
       "<pre>| 203     | 2h 10m       | 0.454976          | 0.440744                          | 0.489974    |</pre>"
      ],
      "text/plain": [
       "| 203     | 2h 10m       | 0.454976          | 0.440744                          | 0.489974    |"
      ]
     },
     "metadata": {},
     "output_type": "display_data"
    },
    {
     "data": {
      "text/html": [
       "<pre>| 204     | 2h 11m       | 0.455468          | 0.440818                          | 0.489974    |</pre>"
      ],
      "text/plain": [
       "| 204     | 2h 11m       | 0.455468          | 0.440818                          | 0.489974    |"
      ]
     },
     "metadata": {},
     "output_type": "display_data"
    },
    {
     "data": {
      "text/html": [
       "<pre>| 205     | 2h 12m       | 0.455158          | 0.440783                          | 0.489974    |</pre>"
      ],
      "text/plain": [
       "| 205     | 2h 12m       | 0.455158          | 0.440783                          | 0.489974    |"
      ]
     },
     "metadata": {},
     "output_type": "display_data"
    },
    {
     "data": {
      "text/html": [
       "<pre>| 206     | 2h 12m       | 0.455186          | 0.440546                          | 0.489974    |</pre>"
      ],
      "text/plain": [
       "| 206     | 2h 12m       | 0.455186          | 0.440546                          | 0.489974    |"
      ]
     },
     "metadata": {},
     "output_type": "display_data"
    },
    {
     "data": {
      "text/html": [
       "<pre>| 207     | 2h 13m       | 0.454785          | 0.440282                          | 0.489974    |</pre>"
      ],
      "text/plain": [
       "| 207     | 2h 13m       | 0.454785          | 0.440282                          | 0.489974    |"
      ]
     },
     "metadata": {},
     "output_type": "display_data"
    },
    {
     "data": {
      "text/html": [
       "<pre>| 208     | 2h 13m       | 0.455409          | 0.440757                          | 0.489974    |</pre>"
      ],
      "text/plain": [
       "| 208     | 2h 13m       | 0.455409          | 0.440757                          | 0.489974    |"
      ]
     },
     "metadata": {},
     "output_type": "display_data"
    },
    {
     "data": {
      "text/html": [
       "<pre>| 209     | 2h 14m       | 0.454682          | 0.44043                           | 0.489974    |</pre>"
      ],
      "text/plain": [
       "| 209     | 2h 14m       | 0.454682          | 0.44043                           | 0.489974    |"
      ]
     },
     "metadata": {},
     "output_type": "display_data"
    },
    {
     "data": {
      "text/html": [
       "<pre>| 210     | 2h 15m       | 0.455016          | 0.440441                          | 0.489974    |</pre>"
      ],
      "text/plain": [
       "| 210     | 2h 15m       | 0.455016          | 0.440441                          | 0.489974    |"
      ]
     },
     "metadata": {},
     "output_type": "display_data"
    },
    {
     "data": {
      "text/html": [
       "<pre>| 211     | 2h 15m       | 0.455523          | 0.440728                          | 0.489974    |</pre>"
      ],
      "text/plain": [
       "| 211     | 2h 15m       | 0.455523          | 0.440728                          | 0.489974    |"
      ]
     },
     "metadata": {},
     "output_type": "display_data"
    },
    {
     "data": {
      "text/html": [
       "<pre>| 212     | 2h 16m       | 0.454947          | 0.440263                          | 0.489974    |</pre>"
      ],
      "text/plain": [
       "| 212     | 2h 16m       | 0.454947          | 0.440263                          | 0.489974    |"
      ]
     },
     "metadata": {},
     "output_type": "display_data"
    },
    {
     "data": {
      "text/html": [
       "<pre>| 213     | 2h 17m       | 0.455288          | 0.44054                           | 0.489974    |</pre>"
      ],
      "text/plain": [
       "| 213     | 2h 17m       | 0.455288          | 0.44054                           | 0.489974    |"
      ]
     },
     "metadata": {},
     "output_type": "display_data"
    },
    {
     "data": {
      "text/html": [
       "<pre>| 214     | 2h 17m       | 0.455247          | 0.440511                          | 0.489974    |</pre>"
      ],
      "text/plain": [
       "| 214     | 2h 17m       | 0.455247          | 0.440511                          | 0.489974    |"
      ]
     },
     "metadata": {},
     "output_type": "display_data"
    },
    {
     "data": {
      "text/html": [
       "<pre>| 215     | 2h 18m       | 0.455166          | 0.440536                          | 0.489974    |</pre>"
      ],
      "text/plain": [
       "| 215     | 2h 18m       | 0.455166          | 0.440536                          | 0.489974    |"
      ]
     },
     "metadata": {},
     "output_type": "display_data"
    },
    {
     "data": {
      "text/html": [
       "<pre>| 216     | 2h 19m       | 0.455355          | 0.440514                          | 0.489974    |</pre>"
      ],
      "text/plain": [
       "| 216     | 2h 19m       | 0.455355          | 0.440514                          | 0.489974    |"
      ]
     },
     "metadata": {},
     "output_type": "display_data"
    },
    {
     "data": {
      "text/html": [
       "<pre>| 217     | 2h 19m       | 0.455046          | 0.440531                          | 0.489974    |</pre>"
      ],
      "text/plain": [
       "| 217     | 2h 19m       | 0.455046          | 0.440531                          | 0.489974    |"
      ]
     },
     "metadata": {},
     "output_type": "display_data"
    },
    {
     "data": {
      "text/html": [
       "<pre>| 218     | 2h 20m       | 0.455292          | 0.440653                          | 0.489974    |</pre>"
      ],
      "text/plain": [
       "| 218     | 2h 20m       | 0.455292          | 0.440653                          | 0.489974    |"
      ]
     },
     "metadata": {},
     "output_type": "display_data"
    },
    {
     "data": {
      "text/html": [
       "<pre>| 219     | 2h 20m       | 0.454986          | 0.440473                          | 0.489974    |</pre>"
      ],
      "text/plain": [
       "| 219     | 2h 20m       | 0.454986          | 0.440473                          | 0.489974    |"
      ]
     },
     "metadata": {},
     "output_type": "display_data"
    },
    {
     "data": {
      "text/html": [
       "<pre>| 220     | 2h 21m       | 0.454716          | 0.440343                          | 0.489974    |</pre>"
      ],
      "text/plain": [
       "| 220     | 2h 21m       | 0.454716          | 0.440343                          | 0.489974    |"
      ]
     },
     "metadata": {},
     "output_type": "display_data"
    },
    {
     "data": {
      "text/html": [
       "<pre>| 221     | 2h 22m       | 0.454699          | 0.44036                           | 0.489974    |</pre>"
      ],
      "text/plain": [
       "| 221     | 2h 22m       | 0.454699          | 0.44036                           | 0.489974    |"
      ]
     },
     "metadata": {},
     "output_type": "display_data"
    },
    {
     "data": {
      "text/html": [
       "<pre>| 222     | 2h 22m       | 0.454167          | 0.440156                          | 0.489974    |</pre>"
      ],
      "text/plain": [
       "| 222     | 2h 22m       | 0.454167          | 0.440156                          | 0.489974    |"
      ]
     },
     "metadata": {},
     "output_type": "display_data"
    },
    {
     "data": {
      "text/html": [
       "<pre>| 223     | 2h 23m       | 0.454646          | 0.440422                          | 0.489974    |</pre>"
      ],
      "text/plain": [
       "| 223     | 2h 23m       | 0.454646          | 0.440422                          | 0.489974    |"
      ]
     },
     "metadata": {},
     "output_type": "display_data"
    },
    {
     "data": {
      "text/html": [
       "<pre>| 224     | 2h 24m       | 0.454583          | 0.440321                          | 0.489974    |</pre>"
      ],
      "text/plain": [
       "| 224     | 2h 24m       | 0.454583          | 0.440321                          | 0.489974    |"
      ]
     },
     "metadata": {},
     "output_type": "display_data"
    },
    {
     "data": {
      "text/html": [
       "<pre>| 225     | 2h 24m       | 0.454283          | 0.440032                          | 0.489974    |</pre>"
      ],
      "text/plain": [
       "| 225     | 2h 24m       | 0.454283          | 0.440032                          | 0.489974    |"
      ]
     },
     "metadata": {},
     "output_type": "display_data"
    },
    {
     "data": {
      "text/html": [
       "<pre>| 226     | 2h 25m       | 0.454303          | 0.440125                          | 0.489974    |</pre>"
      ],
      "text/plain": [
       "| 226     | 2h 25m       | 0.454303          | 0.440125                          | 0.489974    |"
      ]
     },
     "metadata": {},
     "output_type": "display_data"
    },
    {
     "data": {
      "text/html": [
       "<pre>| 227     | 2h 26m       | 0.454864          | 0.44029                           | 0.489974    |</pre>"
      ],
      "text/plain": [
       "| 227     | 2h 26m       | 0.454864          | 0.44029                           | 0.489974    |"
      ]
     },
     "metadata": {},
     "output_type": "display_data"
    },
    {
     "data": {
      "text/html": [
       "<pre>| 228     | 2h 26m       | 0.454493          | 0.4402                            | 0.489974    |</pre>"
      ],
      "text/plain": [
       "| 228     | 2h 26m       | 0.454493          | 0.4402                            | 0.489974    |"
      ]
     },
     "metadata": {},
     "output_type": "display_data"
    },
    {
     "data": {
      "text/html": [
       "<pre>| 229     | 2h 27m       | 0.454795          | 0.440287                          | 0.489974    |</pre>"
      ],
      "text/plain": [
       "| 229     | 2h 27m       | 0.454795          | 0.440287                          | 0.489974    |"
      ]
     },
     "metadata": {},
     "output_type": "display_data"
    },
    {
     "data": {
      "text/html": [
       "<pre>| 230     | 2h 28m       | 0.454644          | 0.440181                          | 0.489974    |</pre>"
      ],
      "text/plain": [
       "| 230     | 2h 28m       | 0.454644          | 0.440181                          | 0.489974    |"
      ]
     },
     "metadata": {},
     "output_type": "display_data"
    },
    {
     "data": {
      "text/html": [
       "<pre>| 231     | 2h 28m       | 0.454571          | 0.44019                           | 0.489974    |</pre>"
      ],
      "text/plain": [
       "| 231     | 2h 28m       | 0.454571          | 0.44019                           | 0.489974    |"
      ]
     },
     "metadata": {},
     "output_type": "display_data"
    },
    {
     "data": {
      "text/html": [
       "<pre>| 232     | 2h 29m       | 0.454535          | 0.440176                          | 0.489974    |</pre>"
      ],
      "text/plain": [
       "| 232     | 2h 29m       | 0.454535          | 0.440176                          | 0.489974    |"
      ]
     },
     "metadata": {},
     "output_type": "display_data"
    },
    {
     "data": {
      "text/html": [
       "<pre>| 233     | 2h 29m       | 0.454434          | 0.44008                           | 0.489974    |</pre>"
      ],
      "text/plain": [
       "| 233     | 2h 29m       | 0.454434          | 0.44008                           | 0.489974    |"
      ]
     },
     "metadata": {},
     "output_type": "display_data"
    },
    {
     "data": {
      "text/html": [
       "<pre>| 234     | 2h 30m       | 0.45402           | 0.439904                          | 0.489974    |</pre>"
      ],
      "text/plain": [
       "| 234     | 2h 30m       | 0.45402           | 0.439904                          | 0.489974    |"
      ]
     },
     "metadata": {},
     "output_type": "display_data"
    },
    {
     "data": {
      "text/html": [
       "<pre>| 235     | 2h 31m       | 0.454614          | 0.440102                          | 0.489974    |</pre>"
      ],
      "text/plain": [
       "| 235     | 2h 31m       | 0.454614          | 0.440102                          | 0.489974    |"
      ]
     },
     "metadata": {},
     "output_type": "display_data"
    },
    {
     "data": {
      "text/html": [
       "<pre>| 236     | 2h 31m       | 0.454472          | 0.440132                          | 0.489974    |</pre>"
      ],
      "text/plain": [
       "| 236     | 2h 31m       | 0.454472          | 0.440132                          | 0.489974    |"
      ]
     },
     "metadata": {},
     "output_type": "display_data"
    },
    {
     "data": {
      "text/html": [
       "<pre>| 237     | 2h 32m       | 0.454011          | 0.43989                           | 0.489974    |</pre>"
      ],
      "text/plain": [
       "| 237     | 2h 32m       | 0.454011          | 0.43989                           | 0.489974    |"
      ]
     },
     "metadata": {},
     "output_type": "display_data"
    },
    {
     "data": {
      "text/html": [
       "<pre>| 238     | 2h 33m       | 0.454362          | 0.440221                          | 0.489974    |</pre>"
      ],
      "text/plain": [
       "| 238     | 2h 33m       | 0.454362          | 0.440221                          | 0.489974    |"
      ]
     },
     "metadata": {},
     "output_type": "display_data"
    },
    {
     "data": {
      "text/html": [
       "<pre>| 239     | 2h 33m       | 0.454742          | 0.439743                          | 0.489974    |</pre>"
      ],
      "text/plain": [
       "| 239     | 2h 33m       | 0.454742          | 0.439743                          | 0.489974    |"
      ]
     },
     "metadata": {},
     "output_type": "display_data"
    },
    {
     "data": {
      "text/html": [
       "<pre>| 240     | 2h 34m       | 0.45465           | 0.439661                          | 0.489974    |</pre>"
      ],
      "text/plain": [
       "| 240     | 2h 34m       | 0.45465           | 0.439661                          | 0.489974    |"
      ]
     },
     "metadata": {},
     "output_type": "display_data"
    },
    {
     "data": {
      "text/html": [
       "<pre>| 241     | 2h 35m       | 0.454331          | 0.439665                          | 0.489974    |</pre>"
      ],
      "text/plain": [
       "| 241     | 2h 35m       | 0.454331          | 0.439665                          | 0.489974    |"
      ]
     },
     "metadata": {},
     "output_type": "display_data"
    },
    {
     "data": {
      "text/html": [
       "<pre>| 242     | 2h 35m       | 0.454639          | 0.439763                          | 0.489974    |</pre>"
      ],
      "text/plain": [
       "| 242     | 2h 35m       | 0.454639          | 0.439763                          | 0.489974    |"
      ]
     },
     "metadata": {},
     "output_type": "display_data"
    },
    {
     "data": {
      "text/html": [
       "<pre>| 243     | 2h 36m       | 0.454803          | 0.439837                          | 0.489974    |</pre>"
      ],
      "text/plain": [
       "| 243     | 2h 36m       | 0.454803          | 0.439837                          | 0.489974    |"
      ]
     },
     "metadata": {},
     "output_type": "display_data"
    },
    {
     "data": {
      "text/html": [
       "<pre>| 244     | 2h 37m       | 0.454599          | 0.439817                          | 0.489974    |</pre>"
      ],
      "text/plain": [
       "| 244     | 2h 37m       | 0.454599          | 0.439817                          | 0.489974    |"
      ]
     },
     "metadata": {},
     "output_type": "display_data"
    },
    {
     "data": {
      "text/html": [
       "<pre>| 245     | 2h 37m       | 0.454639          | 0.439683                          | 0.489974    |</pre>"
      ],
      "text/plain": [
       "| 245     | 2h 37m       | 0.454639          | 0.439683                          | 0.489974    |"
      ]
     },
     "metadata": {},
     "output_type": "display_data"
    },
    {
     "data": {
      "text/html": [
       "<pre>| 246     | 2h 38m       | 0.454911          | 0.439852                          | 0.489974    |</pre>"
      ],
      "text/plain": [
       "| 246     | 2h 38m       | 0.454911          | 0.439852                          | 0.489974    |"
      ]
     },
     "metadata": {},
     "output_type": "display_data"
    },
    {
     "data": {
      "text/html": [
       "<pre>| 247     | 2h 39m       | 0.454476          | 0.439572                          | 0.489974    |</pre>"
      ],
      "text/plain": [
       "| 247     | 2h 39m       | 0.454476          | 0.439572                          | 0.489974    |"
      ]
     },
     "metadata": {},
     "output_type": "display_data"
    },
    {
     "data": {
      "text/html": [
       "<pre>| 248     | 2h 39m       | 0.453747          | 0.439405                          | 0.489974    |</pre>"
      ],
      "text/plain": [
       "| 248     | 2h 39m       | 0.453747          | 0.439405                          | 0.489974    |"
      ]
     },
     "metadata": {},
     "output_type": "display_data"
    },
    {
     "data": {
      "text/html": [
       "<pre>| 249     | 2h 40m       | 0.454019          | 0.439506                          | 0.489974    |</pre>"
      ],
      "text/plain": [
       "| 249     | 2h 40m       | 0.454019          | 0.439506                          | 0.489974    |"
      ]
     },
     "metadata": {},
     "output_type": "display_data"
    },
    {
     "data": {
      "text/html": [
       "<pre>| 250     | 2h 40m       | 0.454775          | 0.439864                          | 0.489974    |</pre>"
      ],
      "text/plain": [
       "| 250     | 2h 40m       | 0.454775          | 0.439864                          | 0.489974    |"
      ]
     },
     "metadata": {},
     "output_type": "display_data"
    },
    {
     "data": {
      "text/html": [
       "<pre>| 251     | 2h 41m       | 0.454683          | 0.439815                          | 0.489974    |</pre>"
      ],
      "text/plain": [
       "| 251     | 2h 41m       | 0.454683          | 0.439815                          | 0.489974    |"
      ]
     },
     "metadata": {},
     "output_type": "display_data"
    },
    {
     "data": {
      "text/html": [
       "<pre>| 252     | 2h 42m       | 0.453918          | 0.439645                          | 0.489974    |</pre>"
      ],
      "text/plain": [
       "| 252     | 2h 42m       | 0.453918          | 0.439645                          | 0.489974    |"
      ]
     },
     "metadata": {},
     "output_type": "display_data"
    },
    {
     "data": {
      "text/html": [
       "<pre>| 253     | 2h 42m       | 0.453859          | 0.439353                          | 0.489974    |</pre>"
      ],
      "text/plain": [
       "| 253     | 2h 42m       | 0.453859          | 0.439353                          | 0.489974    |"
      ]
     },
     "metadata": {},
     "output_type": "display_data"
    },
    {
     "data": {
      "text/html": [
       "<pre>| 254     | 2h 43m       | 0.45439           | 0.439701                          | 0.489974    |</pre>"
      ],
      "text/plain": [
       "| 254     | 2h 43m       | 0.45439           | 0.439701                          | 0.489974    |"
      ]
     },
     "metadata": {},
     "output_type": "display_data"
    },
    {
     "data": {
      "text/html": [
       "<pre>| 255     | 2h 44m       | 0.453468          | 0.439367                          | 0.489974    |</pre>"
      ],
      "text/plain": [
       "| 255     | 2h 44m       | 0.453468          | 0.439367                          | 0.489974    |"
      ]
     },
     "metadata": {},
     "output_type": "display_data"
    },
    {
     "data": {
      "text/html": [
       "<pre>| 256     | 2h 44m       | 0.453963          | 0.439546                          | 0.489974    |</pre>"
      ],
      "text/plain": [
       "| 256     | 2h 44m       | 0.453963          | 0.439546                          | 0.489974    |"
      ]
     },
     "metadata": {},
     "output_type": "display_data"
    },
    {
     "data": {
      "text/html": [
       "<pre>| 257     | 2h 45m       | 0.453953          | 0.439596                          | 0.489974    |</pre>"
      ],
      "text/plain": [
       "| 257     | 2h 45m       | 0.453953          | 0.439596                          | 0.489974    |"
      ]
     },
     "metadata": {},
     "output_type": "display_data"
    },
    {
     "data": {
      "text/html": [
       "<pre>| 258     | 2h 46m       | 0.454067          | 0.439579                          | 0.489974    |</pre>"
      ],
      "text/plain": [
       "| 258     | 2h 46m       | 0.454067          | 0.439579                          | 0.489974    |"
      ]
     },
     "metadata": {},
     "output_type": "display_data"
    },
    {
     "data": {
      "text/html": [
       "<pre>| 259     | 2h 46m       | 0.453971          | 0.439465                          | 0.489974    |</pre>"
      ],
      "text/plain": [
       "| 259     | 2h 46m       | 0.453971          | 0.439465                          | 0.489974    |"
      ]
     },
     "metadata": {},
     "output_type": "display_data"
    },
    {
     "data": {
      "text/html": [
       "<pre>| 260     | 2h 47m       | 0.453923          | 0.439555                          | 0.489974    |</pre>"
      ],
      "text/plain": [
       "| 260     | 2h 47m       | 0.453923          | 0.439555                          | 0.489974    |"
      ]
     },
     "metadata": {},
     "output_type": "display_data"
    },
    {
     "data": {
      "text/html": [
       "<pre>| 261     | 2h 48m       | 0.454366          | 0.43984                           | 0.489974    |</pre>"
      ],
      "text/plain": [
       "| 261     | 2h 48m       | 0.454366          | 0.43984                           | 0.489974    |"
      ]
     },
     "metadata": {},
     "output_type": "display_data"
    },
    {
     "data": {
      "text/html": [
       "<pre>| 262     | 2h 48m       | 0.454097          | 0.439496                          | 0.489974    |</pre>"
      ],
      "text/plain": [
       "| 262     | 2h 48m       | 0.454097          | 0.439496                          | 0.489974    |"
      ]
     },
     "metadata": {},
     "output_type": "display_data"
    },
    {
     "data": {
      "text/html": [
       "<pre>| 263     | 2h 49m       | 0.45426           | 0.439549                          | 0.489974    |</pre>"
      ],
      "text/plain": [
       "| 263     | 2h 49m       | 0.45426           | 0.439549                          | 0.489974    |"
      ]
     },
     "metadata": {},
     "output_type": "display_data"
    },
    {
     "data": {
      "text/html": [
       "<pre>| 264     | 2h 49m       | 0.454561          | 0.43981                           | 0.489974    |</pre>"
      ],
      "text/plain": [
       "| 264     | 2h 49m       | 0.454561          | 0.43981                           | 0.489974    |"
      ]
     },
     "metadata": {},
     "output_type": "display_data"
    },
    {
     "data": {
      "text/html": [
       "<pre>| 265     | 2h 50m       | 0.453405          | 0.439238                          | 0.489974    |</pre>"
      ],
      "text/plain": [
       "| 265     | 2h 50m       | 0.453405          | 0.439238                          | 0.489974    |"
      ]
     },
     "metadata": {},
     "output_type": "display_data"
    },
    {
     "data": {
      "text/html": [
       "<pre>| 266     | 2h 51m       | 0.45441           | 0.439581                          | 0.489974    |</pre>"
      ],
      "text/plain": [
       "| 266     | 2h 51m       | 0.45441           | 0.439581                          | 0.489974    |"
      ]
     },
     "metadata": {},
     "output_type": "display_data"
    },
    {
     "data": {
      "text/html": [
       "<pre>| 267     | 2h 51m       | 0.454009          | 0.439475                          | 0.489974    |</pre>"
      ],
      "text/plain": [
       "| 267     | 2h 51m       | 0.454009          | 0.439475                          | 0.489974    |"
      ]
     },
     "metadata": {},
     "output_type": "display_data"
    },
    {
     "data": {
      "text/html": [
       "<pre>| 268     | 2h 52m       | 0.453339          | 0.439284                          | 0.489974    |</pre>"
      ],
      "text/plain": [
       "| 268     | 2h 52m       | 0.453339          | 0.439284                          | 0.489974    |"
      ]
     },
     "metadata": {},
     "output_type": "display_data"
    },
    {
     "data": {
      "text/html": [
       "<pre>| 269     | 2h 53m       | 0.454436          | 0.439412                          | 0.489974    |</pre>"
      ],
      "text/plain": [
       "| 269     | 2h 53m       | 0.454436          | 0.439412                          | 0.489974    |"
      ]
     },
     "metadata": {},
     "output_type": "display_data"
    },
    {
     "data": {
      "text/html": [
       "<pre>| 270     | 2h 53m       | 0.454359          | 0.43961                           | 0.489974    |</pre>"
      ],
      "text/plain": [
       "| 270     | 2h 53m       | 0.454359          | 0.43961                           | 0.489974    |"
      ]
     },
     "metadata": {},
     "output_type": "display_data"
    },
    {
     "data": {
      "text/html": [
       "<pre>| 271     | 2h 54m       | 0.454442          | 0.43954                           | 0.489974    |</pre>"
      ],
      "text/plain": [
       "| 271     | 2h 54m       | 0.454442          | 0.43954                           | 0.489974    |"
      ]
     },
     "metadata": {},
     "output_type": "display_data"
    },
    {
     "data": {
      "text/html": [
       "<pre>| 272     | 2h 55m       | 0.453792          | 0.439321                          | 0.489974    |</pre>"
      ],
      "text/plain": [
       "| 272     | 2h 55m       | 0.453792          | 0.439321                          | 0.489974    |"
      ]
     },
     "metadata": {},
     "output_type": "display_data"
    },
    {
     "data": {
      "text/html": [
       "<pre>| 273     | 2h 55m       | 0.454306          | 0.439511                          | 0.489974    |</pre>"
      ],
      "text/plain": [
       "| 273     | 2h 55m       | 0.454306          | 0.439511                          | 0.489974    |"
      ]
     },
     "metadata": {},
     "output_type": "display_data"
    },
    {
     "data": {
      "text/html": [
       "<pre>| 274     | 2h 56m       | 0.454296          | 0.439437                          | 0.489974    |</pre>"
      ],
      "text/plain": [
       "| 274     | 2h 56m       | 0.454296          | 0.439437                          | 0.489974    |"
      ]
     },
     "metadata": {},
     "output_type": "display_data"
    },
    {
     "data": {
      "text/html": [
       "<pre>| 275     | 2h 56m       | 0.453757          | 0.439203                          | 0.489974    |</pre>"
      ],
      "text/plain": [
       "| 275     | 2h 56m       | 0.453757          | 0.439203                          | 0.489974    |"
      ]
     },
     "metadata": {},
     "output_type": "display_data"
    },
    {
     "data": {
      "text/html": [
       "<pre>| 276     | 2h 57m       | 0.454081          | 0.439193                          | 0.489974    |</pre>"
      ],
      "text/plain": [
       "| 276     | 2h 57m       | 0.454081          | 0.439193                          | 0.489974    |"
      ]
     },
     "metadata": {},
     "output_type": "display_data"
    },
    {
     "data": {
      "text/html": [
       "<pre>| 277     | 2h 58m       | 0.453837          | 0.439054                          | 0.489974    |</pre>"
      ],
      "text/plain": [
       "| 277     | 2h 58m       | 0.453837          | 0.439054                          | 0.489974    |"
      ]
     },
     "metadata": {},
     "output_type": "display_data"
    },
    {
     "data": {
      "text/html": [
       "<pre>| 278     | 2h 58m       | 0.453814          | 0.438965                          | 0.489974    |</pre>"
      ],
      "text/plain": [
       "| 278     | 2h 58m       | 0.453814          | 0.438965                          | 0.489974    |"
      ]
     },
     "metadata": {},
     "output_type": "display_data"
    },
    {
     "data": {
      "text/html": [
       "<pre>| 279     | 2h 59m       | 0.45397           | 0.43919                           | 0.489974    |</pre>"
      ],
      "text/plain": [
       "| 279     | 2h 59m       | 0.45397           | 0.43919                           | 0.489974    |"
      ]
     },
     "metadata": {},
     "output_type": "display_data"
    },
    {
     "data": {
      "text/html": [
       "<pre>| 280     | 3h 0m        | 0.453232          | 0.43877                           | 0.489974    |</pre>"
      ],
      "text/plain": [
       "| 280     | 3h 0m        | 0.453232          | 0.43877                           | 0.489974    |"
      ]
     },
     "metadata": {},
     "output_type": "display_data"
    },
    {
     "data": {
      "text/html": [
       "<pre>| 281     | 3h 0m        | 0.45376           | 0.438912                          | 0.489974    |</pre>"
      ],
      "text/plain": [
       "| 281     | 3h 0m        | 0.45376           | 0.438912                          | 0.489974    |"
      ]
     },
     "metadata": {},
     "output_type": "display_data"
    },
    {
     "data": {
      "text/html": [
       "<pre>| 282     | 3h 1m        | 0.453415          | 0.438965                          | 0.489974    |</pre>"
      ],
      "text/plain": [
       "| 282     | 3h 1m        | 0.453415          | 0.438965                          | 0.489974    |"
      ]
     },
     "metadata": {},
     "output_type": "display_data"
    },
    {
     "data": {
      "text/html": [
       "<pre>| 283     | 3h 2m        | 0.453974          | 0.439189                          | 0.489974    |</pre>"
      ],
      "text/plain": [
       "| 283     | 3h 2m        | 0.453974          | 0.439189                          | 0.489974    |"
      ]
     },
     "metadata": {},
     "output_type": "display_data"
    },
    {
     "data": {
      "text/html": [
       "<pre>| 284     | 3h 2m        | 0.4542            | 0.439067                          | 0.489974    |</pre>"
      ],
      "text/plain": [
       "| 284     | 3h 2m        | 0.4542            | 0.439067                          | 0.489974    |"
      ]
     },
     "metadata": {},
     "output_type": "display_data"
    },
    {
     "data": {
      "text/html": [
       "<pre>| 285     | 3h 3m        | 0.454278          | 0.439094                          | 0.489974    |</pre>"
      ],
      "text/plain": [
       "| 285     | 3h 3m        | 0.454278          | 0.439094                          | 0.489974    |"
      ]
     },
     "metadata": {},
     "output_type": "display_data"
    },
    {
     "data": {
      "text/html": [
       "<pre>| 286     | 3h 3m        | 0.45368           | 0.43894                           | 0.489974    |</pre>"
      ],
      "text/plain": [
       "| 286     | 3h 3m        | 0.45368           | 0.43894                           | 0.489974    |"
      ]
     },
     "metadata": {},
     "output_type": "display_data"
    },
    {
     "data": {
      "text/html": [
       "<pre>| 287     | 3h 4m        | 0.453522          | 0.438719                          | 0.489974    |</pre>"
      ],
      "text/plain": [
       "| 287     | 3h 4m        | 0.453522          | 0.438719                          | 0.489974    |"
      ]
     },
     "metadata": {},
     "output_type": "display_data"
    },
    {
     "data": {
      "text/html": [
       "<pre>| 288     | 3h 5m        | 0.453729          | 0.43889                           | 0.489974    |</pre>"
      ],
      "text/plain": [
       "| 288     | 3h 5m        | 0.453729          | 0.43889                           | 0.489974    |"
      ]
     },
     "metadata": {},
     "output_type": "display_data"
    },
    {
     "data": {
      "text/html": [
       "<pre>| 289     | 3h 5m        | 0.453388          | 0.438666                          | 0.489974    |</pre>"
      ],
      "text/plain": [
       "| 289     | 3h 5m        | 0.453388          | 0.438666                          | 0.489974    |"
      ]
     },
     "metadata": {},
     "output_type": "display_data"
    },
    {
     "data": {
      "text/html": [
       "<pre>| 290     | 3h 6m        | 0.454091          | 0.438847                          | 0.489974    |</pre>"
      ],
      "text/plain": [
       "| 290     | 3h 6m        | 0.454091          | 0.438847                          | 0.489974    |"
      ]
     },
     "metadata": {},
     "output_type": "display_data"
    },
    {
     "data": {
      "text/html": [
       "<pre>| 291     | 3h 7m        | 0.453955          | 0.438805                          | 0.489974    |</pre>"
      ],
      "text/plain": [
       "| 291     | 3h 7m        | 0.453955          | 0.438805                          | 0.489974    |"
      ]
     },
     "metadata": {},
     "output_type": "display_data"
    },
    {
     "data": {
      "text/html": [
       "<pre>| 292     | 3h 7m        | 0.453998          | 0.438855                          | 0.489974    |</pre>"
      ],
      "text/plain": [
       "| 292     | 3h 7m        | 0.453998          | 0.438855                          | 0.489974    |"
      ]
     },
     "metadata": {},
     "output_type": "display_data"
    },
    {
     "data": {
      "text/html": [
       "<pre>| 293     | 3h 8m        | 0.453903          | 0.438863                          | 0.489974    |</pre>"
      ],
      "text/plain": [
       "| 293     | 3h 8m        | 0.453903          | 0.438863                          | 0.489974    |"
      ]
     },
     "metadata": {},
     "output_type": "display_data"
    },
    {
     "data": {
      "text/html": [
       "<pre>| 294     | 3h 9m        | 0.453625          | 0.438603                          | 0.489974    |</pre>"
      ],
      "text/plain": [
       "| 294     | 3h 9m        | 0.453625          | 0.438603                          | 0.489974    |"
      ]
     },
     "metadata": {},
     "output_type": "display_data"
    },
    {
     "data": {
      "text/html": [
       "<pre>| 295     | 3h 9m        | 0.453276          | 0.438565                          | 0.489974    |</pre>"
      ],
      "text/plain": [
       "| 295     | 3h 9m        | 0.453276          | 0.438565                          | 0.489974    |"
      ]
     },
     "metadata": {},
     "output_type": "display_data"
    },
    {
     "data": {
      "text/html": [
       "<pre>| 296     | 3h 10m       | 0.45365           | 0.438781                          | 0.489974    |</pre>"
      ],
      "text/plain": [
       "| 296     | 3h 10m       | 0.45365           | 0.438781                          | 0.489974    |"
      ]
     },
     "metadata": {},
     "output_type": "display_data"
    },
    {
     "data": {
      "text/html": [
       "<pre>| 297     | 3h 10m       | 0.453503          | 0.438483                          | 0.489974    |</pre>"
      ],
      "text/plain": [
       "| 297     | 3h 10m       | 0.453503          | 0.438483                          | 0.489974    |"
      ]
     },
     "metadata": {},
     "output_type": "display_data"
    },
    {
     "data": {
      "text/html": [
       "<pre>| 298     | 3h 11m       | 0.453485          | 0.438497                          | 0.489974    |</pre>"
      ],
      "text/plain": [
       "| 298     | 3h 11m       | 0.453485          | 0.438497                          | 0.489974    |"
      ]
     },
     "metadata": {},
     "output_type": "display_data"
    },
    {
     "data": {
      "text/html": [
       "<pre>| 299     | 3h 12m       | 0.454022          | 0.438508                          | 0.489974    |</pre>"
      ],
      "text/plain": [
       "| 299     | 3h 12m       | 0.454022          | 0.438508                          | 0.489974    |"
      ]
     },
     "metadata": {},
     "output_type": "display_data"
    },
    {
     "data": {
      "text/html": [
       "<pre>| 300     | 3h 12m       | 0.454257          | 0.438532                          | 0.489974    |</pre>"
      ],
      "text/plain": [
       "| 300     | 3h 12m       | 0.454257          | 0.438532                          | 0.489974    |"
      ]
     },
     "metadata": {},
     "output_type": "display_data"
    },
    {
     "data": {
      "text/html": [
       "<pre>+---------+--------------+-------------------+-----------------------------------+-------------+</pre>"
      ],
      "text/plain": [
       "+---------+--------------+-------------------+-----------------------------------+-------------+"
      ]
     },
     "metadata": {},
     "output_type": "display_data"
    },
    {
     "data": {
      "text/html": [
       "<pre>Optimization Complete: Maximum number of passes through the data reached.</pre>"
      ],
      "text/plain": [
       "Optimization Complete: Maximum number of passes through the data reached."
      ]
     },
     "metadata": {},
     "output_type": "display_data"
    },
    {
     "data": {
      "text/html": [
       "<pre>Computing final objective value and training Predictive Error.</pre>"
      ],
      "text/plain": [
       "Computing final objective value and training Predictive Error."
      ]
     },
     "metadata": {},
     "output_type": "display_data"
    },
    {
     "data": {
      "text/html": [
       "<pre>       Final objective value: 0.487132</pre>"
      ],
      "text/plain": [
       "       Final objective value: 0.487132"
      ]
     },
     "metadata": {},
     "output_type": "display_data"
    },
    {
     "data": {
      "text/html": [
       "<pre>       Final training Predictive Error: 0.471407</pre>"
      ],
      "text/plain": [
       "       Final training Predictive Error: 0.471407"
      ]
     },
     "metadata": {},
     "output_type": "display_data"
    }
   ],
   "source": [
    "# training the model\n",
    "model = gl.recommender.factorization_recommender.create(tr_listen, \n",
    "                                                        binary_target = True, \n",
    "                                                        num_factors = n_factors,\n",
    "                                                        user_id = \"user_id\", \n",
    "                                                        item_id = \"media_id\", \n",
    "                                                        target  = \"is_listened\",\n",
    "                                                        user_data = user_data, \n",
    "                                                        item_data = song_data,\n",
    "                                                        max_iterations = m_epochs,\n",
    "                                                        regularization = regular)"
   ]
  },
  {
   "cell_type": "code",
   "execution_count": null,
   "metadata": {
    "collapsed": false,
    "scrolled": true
   },
   "outputs": [
    {
     "data": {
      "text/html": [
       "<div>\n",
       "<style>\n",
       "    .dataframe thead tr:only-child th {\n",
       "        text-align: right;\n",
       "    }\n",
       "\n",
       "    .dataframe thead th {\n",
       "        text-align: left;\n",
       "    }\n",
       "\n",
       "    .dataframe tbody tr th {\n",
       "        vertical-align: top;\n",
       "    }\n",
       "</style>\n",
       "<table border=\"1\" class=\"dataframe\">\n",
       "  <thead>\n",
       "    <tr style=\"text-align: right;\">\n",
       "      <th></th>\n",
       "      <th>row_index</th>\n",
       "      <th>is_listened</th>\n",
       "    </tr>\n",
       "  </thead>\n",
       "  <tbody>\n",
       "    <tr>\n",
       "      <th>5988</th>\n",
       "      <td>6060544</td>\n",
       "      <td>0.992000</td>\n",
       "    </tr>\n",
       "    <tr>\n",
       "      <th>6052</th>\n",
       "      <td>3968455</td>\n",
       "      <td>0.979357</td>\n",
       "    </tr>\n",
       "    <tr>\n",
       "      <th>6295</th>\n",
       "      <td>5584470</td>\n",
       "      <td>0.988625</td>\n",
       "    </tr>\n",
       "  </tbody>\n",
       "</table>\n",
       "</div>"
      ],
      "text/plain": [
       "      row_index  is_listened\n",
       "5988    6060544     0.992000\n",
       "6052    3968455     0.979357\n",
       "6295    5584470     0.988625"
      ]
     },
     "execution_count": 10,
     "metadata": {},
     "output_type": "execute_result"
    }
   ],
   "source": [
    "# forecasting\n",
    "pred = pd.DataFrame()\n",
    "pred[\"row_index\"] = ts.row_index\n",
    "pred[\"is_listened\"] = model.predict(ts_listen)\n",
    "pred.head(3)"
   ]
  },
  {
   "cell_type": "code",
   "execution_count": null,
   "metadata": {
    "collapsed": false,
    "scrolled": true
   },
   "outputs": [
    {
     "data": {
      "text/plain": [
       "0.7168625357179379"
      ]
     },
     "execution_count": 11,
     "metadata": {},
     "output_type": "execute_result"
    }
   ],
   "source": [
    "# computing AUC\n",
    "metrics.roc_auc_score(ts.is_listened, pred[\"is_listened\"])"
   ]
  },
  {
   "cell_type": "code",
   "execution_count": null,
   "metadata": {
    "collapsed": true,
    "scrolled": true
   },
   "outputs": [],
   "source": [
    "# saving prediction vector\n",
    "pred.to_csv(path + \"pred_valid/factorization_full_api_50f_300i.csv\", index = False)"
   ]
  },
  {
   "cell_type": "code",
   "execution_count": null,
   "metadata": {
    "collapsed": true
   },
   "outputs": [],
   "source": [
    "# clearing the memory\n",
    "tr_listen = \"Null\"\n",
    "ts_listen = \"Null\"\n",
    "ts = \"Null\""
   ]
  },
  {
   "cell_type": "markdown",
   "metadata": {},
   "source": [
    "## 3.2. KNOWN-UNKNOWN"
   ]
  },
  {
   "cell_type": "code",
   "execution_count": null,
   "metadata": {
    "collapsed": false
   },
   "outputs": [
    {
     "data": {
      "text/html": [
       "<pre>Recsys training: model = factorization_recommender</pre>"
      ],
      "text/plain": [
       "Recsys training: model = factorization_recommender"
      ]
     },
     "metadata": {},
     "output_type": "display_data"
    },
    {
     "data": {
      "text/html": [
       "<pre>Preparing data set.</pre>"
      ],
      "text/plain": [
       "Preparing data set."
      ]
     },
     "metadata": {},
     "output_type": "display_data"
    },
    {
     "data": {
      "text/html": [
       "<pre>    Data has 7558834 observations with 19918 users and 453310 items.</pre>"
      ],
      "text/plain": [
       "    Data has 7558834 observations with 19918 users and 453310 items."
      ]
     },
     "metadata": {},
     "output_type": "display_data"
    },
    {
     "data": {
      "text/html": [
       "<pre>    Data prepared in: 19.0828s</pre>"
      ],
      "text/plain": [
       "    Data prepared in: 19.0828s"
      ]
     },
     "metadata": {},
     "output_type": "display_data"
    },
    {
     "data": {
      "text/html": [
       "<pre>Training factorization_recommender for recommendations.</pre>"
      ],
      "text/plain": [
       "Training factorization_recommender for recommendations."
      ]
     },
     "metadata": {},
     "output_type": "display_data"
    },
    {
     "data": {
      "text/html": [
       "<pre>+--------------------------------+--------------------------------------------------+----------+</pre>"
      ],
      "text/plain": [
       "+--------------------------------+--------------------------------------------------+----------+"
      ]
     },
     "metadata": {},
     "output_type": "display_data"
    },
    {
     "data": {
      "text/html": [
       "<pre>| Parameter                      | Description                                      | Value    |</pre>"
      ],
      "text/plain": [
       "| Parameter                      | Description                                      | Value    |"
      ]
     },
     "metadata": {},
     "output_type": "display_data"
    },
    {
     "data": {
      "text/html": [
       "<pre>+--------------------------------+--------------------------------------------------+----------+</pre>"
      ],
      "text/plain": [
       "+--------------------------------+--------------------------------------------------+----------+"
      ]
     },
     "metadata": {},
     "output_type": "display_data"
    },
    {
     "data": {
      "text/html": [
       "<pre>| num_factors                    | Factor Dimension                                 | 50       |</pre>"
      ],
      "text/plain": [
       "| num_factors                    | Factor Dimension                                 | 50       |"
      ]
     },
     "metadata": {},
     "output_type": "display_data"
    },
    {
     "data": {
      "text/html": [
       "<pre>| regularization                 | L2 Regularization on Factors                     | 1e-05    |</pre>"
      ],
      "text/plain": [
       "| regularization                 | L2 Regularization on Factors                     | 1e-05    |"
      ]
     },
     "metadata": {},
     "output_type": "display_data"
    },
    {
     "data": {
      "text/html": [
       "<pre>| solver                         | Solver used for training                         | adagrad  |</pre>"
      ],
      "text/plain": [
       "| solver                         | Solver used for training                         | adagrad  |"
      ]
     },
     "metadata": {},
     "output_type": "display_data"
    },
    {
     "data": {
      "text/html": [
       "<pre>| linear_regularization          | L2 Regularization on Linear Coefficients         | 1e-10    |</pre>"
      ],
      "text/plain": [
       "| linear_regularization          | L2 Regularization on Linear Coefficients         | 1e-10    |"
      ]
     },
     "metadata": {},
     "output_type": "display_data"
    },
    {
     "data": {
      "text/html": [
       "<pre>| binary_target                  | Assume Binary Targets                            | True     |</pre>"
      ],
      "text/plain": [
       "| binary_target                  | Assume Binary Targets                            | True     |"
      ]
     },
     "metadata": {},
     "output_type": "display_data"
    },
    {
     "data": {
      "text/html": [
       "<pre>| side_data_factorization        | Assign Factors for Side Data                     | True     |</pre>"
      ],
      "text/plain": [
       "| side_data_factorization        | Assign Factors for Side Data                     | True     |"
      ]
     },
     "metadata": {},
     "output_type": "display_data"
    },
    {
     "data": {
      "text/html": [
       "<pre>| max_iterations                 | Maximum Number of Iterations                     | 300      |</pre>"
      ],
      "text/plain": [
       "| max_iterations                 | Maximum Number of Iterations                     | 300      |"
      ]
     },
     "metadata": {},
     "output_type": "display_data"
    },
    {
     "data": {
      "text/html": [
       "<pre>+--------------------------------+--------------------------------------------------+----------+</pre>"
      ],
      "text/plain": [
       "+--------------------------------+--------------------------------------------------+----------+"
      ]
     },
     "metadata": {},
     "output_type": "display_data"
    },
    {
     "data": {
      "text/html": [
       "<pre>  Optimizing model using SGD; tuning step size.</pre>"
      ],
      "text/plain": [
       "  Optimizing model using SGD; tuning step size."
      ]
     },
     "metadata": {},
     "output_type": "display_data"
    },
    {
     "data": {
      "text/html": [
       "<pre>  Using 944854 / 7558834 points for tuning the step size.</pre>"
      ],
      "text/plain": [
       "  Using 944854 / 7558834 points for tuning the step size."
      ]
     },
     "metadata": {},
     "output_type": "display_data"
    },
    {
     "data": {
      "text/html": [
       "<pre>+---------+-------------------+------------------------------------------+</pre>"
      ],
      "text/plain": [
       "+---------+-------------------+------------------------------------------+"
      ]
     },
     "metadata": {},
     "output_type": "display_data"
    },
    {
     "data": {
      "text/html": [
       "<pre>| Attempt | Initial Step Size | Estimated Objective Value                |</pre>"
      ],
      "text/plain": [
       "| Attempt | Initial Step Size | Estimated Objective Value                |"
      ]
     },
     "metadata": {},
     "output_type": "display_data"
    },
    {
     "data": {
      "text/html": [
       "<pre>+---------+-------------------+------------------------------------------+</pre>"
      ],
      "text/plain": [
       "+---------+-------------------+------------------------------------------+"
      ]
     },
     "metadata": {},
     "output_type": "display_data"
    },
    {
     "data": {
      "text/html": [
       "<pre>| 0       | 0.974785          | 0.450192                                 |</pre>"
      ],
      "text/plain": [
       "| 0       | 0.974785          | 0.450192                                 |"
      ]
     },
     "metadata": {},
     "output_type": "display_data"
    },
    {
     "data": {
      "text/html": [
       "<pre>| 1       | 0.487392          | 0.466873                                 |</pre>"
      ],
      "text/plain": [
       "| 1       | 0.487392          | 0.466873                                 |"
      ]
     },
     "metadata": {},
     "output_type": "display_data"
    },
    {
     "data": {
      "text/html": [
       "<pre>| 2       | 0.243696          | 0.484111                                 |</pre>"
      ],
      "text/plain": [
       "| 2       | 0.243696          | 0.484111                                 |"
      ]
     },
     "metadata": {},
     "output_type": "display_data"
    },
    {
     "data": {
      "text/html": [
       "<pre>| 3       | 0.121848          | 0.524156                                 |</pre>"
      ],
      "text/plain": [
       "| 3       | 0.121848          | 0.524156                                 |"
      ]
     },
     "metadata": {},
     "output_type": "display_data"
    },
    {
     "data": {
      "text/html": [
       "<pre>+---------+-------------------+------------------------------------------+</pre>"
      ],
      "text/plain": [
       "+---------+-------------------+------------------------------------------+"
      ]
     },
     "metadata": {},
     "output_type": "display_data"
    },
    {
     "data": {
      "text/html": [
       "<pre>| Final   | 0.974785          | 0.450192                                 |</pre>"
      ],
      "text/plain": [
       "| Final   | 0.974785          | 0.450192                                 |"
      ]
     },
     "metadata": {},
     "output_type": "display_data"
    },
    {
     "data": {
      "text/html": [
       "<pre>+---------+-------------------+------------------------------------------+</pre>"
      ],
      "text/plain": [
       "+---------+-------------------+------------------------------------------+"
      ]
     },
     "metadata": {},
     "output_type": "display_data"
    },
    {
     "data": {
      "text/html": [
       "<pre>Starting Optimization.</pre>"
      ],
      "text/plain": [
       "Starting Optimization."
      ]
     },
     "metadata": {},
     "output_type": "display_data"
    },
    {
     "data": {
      "text/html": [
       "<pre>+---------+--------------+-------------------+-----------------------------------+-------------+</pre>"
      ],
      "text/plain": [
       "+---------+--------------+-------------------+-----------------------------------+-------------+"
      ]
     },
     "metadata": {},
     "output_type": "display_data"
    },
    {
     "data": {
      "text/html": [
       "<pre>| Iter.   | Elapsed Time | Approx. Objective | Approx. Training Predictive Error | Step Size   |</pre>"
      ],
      "text/plain": [
       "| Iter.   | Elapsed Time | Approx. Objective | Approx. Training Predictive Error | Step Size   |"
      ]
     },
     "metadata": {},
     "output_type": "display_data"
    },
    {
     "data": {
      "text/html": [
       "<pre>+---------+--------------+-------------------+-----------------------------------+-------------+</pre>"
      ],
      "text/plain": [
       "+---------+--------------+-------------------+-----------------------------------+-------------+"
      ]
     },
     "metadata": {},
     "output_type": "display_data"
    },
    {
     "data": {
      "text/html": [
       "<pre>| Initial | 95us         | 0.624657          | 0.624657                          |             |</pre>"
      ],
      "text/plain": [
       "| Initial | 95us         | 0.624657          | 0.624657                          |             |"
      ]
     },
     "metadata": {},
     "output_type": "display_data"
    },
    {
     "data": {
      "text/html": [
       "<pre>+---------+--------------+-------------------+-----------------------------------+-------------+</pre>"
      ],
      "text/plain": [
       "+---------+--------------+-------------------+-----------------------------------+-------------+"
      ]
     },
     "metadata": {},
     "output_type": "display_data"
    },
    {
     "data": {
      "text/html": [
       "<pre>| 1       | 45.68s       | DIVERGED          | DIVERGED                          | 0.974785    |</pre>"
      ],
      "text/plain": [
       "| 1       | 45.68s       | DIVERGED          | DIVERGED                          | 0.974785    |"
      ]
     },
     "metadata": {},
     "output_type": "display_data"
    },
    {
     "data": {
      "text/html": [
       "<pre>| RESET   | 58.79s       | 0.624594          | 0.624594                          |             |</pre>"
      ],
      "text/plain": [
       "| RESET   | 58.79s       | 0.624594          | 0.624594                          |             |"
      ]
     },
     "metadata": {},
     "output_type": "display_data"
    },
    {
     "data": {
      "text/html": [
       "<pre>| 1       | 2m 8s        | DIVERGED          | DIVERGED                          | 0.487392    |</pre>"
      ],
      "text/plain": [
       "| 1       | 2m 8s        | DIVERGED          | DIVERGED                          | 0.487392    |"
      ]
     },
     "metadata": {},
     "output_type": "display_data"
    },
    {
     "data": {
      "text/html": [
       "<pre>| RESET   | 2m 26s       | 0.624616          | 0.624616                          |             |</pre>"
      ],
      "text/plain": [
       "| RESET   | 2m 26s       | 0.624616          | 0.624616                          |             |"
      ]
     },
     "metadata": {},
     "output_type": "display_data"
    },
    {
     "data": {
      "text/html": [
       "<pre>| 1       | 3m 4s        | 0.884366          | 0.485702                          | 0.243696    |</pre>"
      ],
      "text/plain": [
       "| 1       | 3m 4s        | 0.884366          | 0.485702                          | 0.243696    |"
      ]
     },
     "metadata": {},
     "output_type": "display_data"
    },
    {
     "data": {
      "text/html": [
       "<pre>| 2       | 3m 44s       | 0.499954          | 0.459613                          | 0.243696    |</pre>"
      ],
      "text/plain": [
       "| 2       | 3m 44s       | 0.499954          | 0.459613                          | 0.243696    |"
      ]
     },
     "metadata": {},
     "output_type": "display_data"
    },
    {
     "data": {
      "text/html": [
       "<pre>| 3       | 4m 23s       | 0.490264          | 0.457597                          | 0.243696    |</pre>"
      ],
      "text/plain": [
       "| 3       | 4m 23s       | 0.490264          | 0.457597                          | 0.243696    |"
      ]
     },
     "metadata": {},
     "output_type": "display_data"
    },
    {
     "data": {
      "text/html": [
       "<pre>| 4       | 5m 1s        | 0.48129           | 0.456442                          | 0.243696    |</pre>"
      ],
      "text/plain": [
       "| 4       | 5m 1s        | 0.48129           | 0.456442                          | 0.243696    |"
      ]
     },
     "metadata": {},
     "output_type": "display_data"
    },
    {
     "data": {
      "text/html": [
       "<pre>| 5       | 5m 40s       | 0.47821           | 0.456125                          | 0.243696    |</pre>"
      ],
      "text/plain": [
       "| 5       | 5m 40s       | 0.47821           | 0.456125                          | 0.243696    |"
      ]
     },
     "metadata": {},
     "output_type": "display_data"
    },
    {
     "data": {
      "text/html": [
       "<pre>| 6       | 6m 19s       | 0.477467          | 0.456032                          | 0.243696    |</pre>"
      ],
      "text/plain": [
       "| 6       | 6m 19s       | 0.477467          | 0.456032                          | 0.243696    |"
      ]
     },
     "metadata": {},
     "output_type": "display_data"
    },
    {
     "data": {
      "text/html": [
       "<pre>| 7       | 6m 57s       | 0.473528          | 0.45565                           | 0.243696    |</pre>"
      ],
      "text/plain": [
       "| 7       | 6m 57s       | 0.473528          | 0.45565                           | 0.243696    |"
      ]
     },
     "metadata": {},
     "output_type": "display_data"
    },
    {
     "data": {
      "text/html": [
       "<pre>| 8       | 7m 36s       | 0.47341           | 0.455677                          | 0.243696    |</pre>"
      ],
      "text/plain": [
       "| 8       | 7m 36s       | 0.47341           | 0.455677                          | 0.243696    |"
      ]
     },
     "metadata": {},
     "output_type": "display_data"
    },
    {
     "data": {
      "text/html": [
       "<pre>| 9       | 8m 15s       | 0.471905          | 0.454838                          | 0.243696    |</pre>"
      ],
      "text/plain": [
       "| 9       | 8m 15s       | 0.471905          | 0.454838                          | 0.243696    |"
      ]
     },
     "metadata": {},
     "output_type": "display_data"
    },
    {
     "data": {
      "text/html": [
       "<pre>| 10      | 8m 53s       | 0.470473          | 0.454694                          | 0.243696    |</pre>"
      ],
      "text/plain": [
       "| 10      | 8m 53s       | 0.470473          | 0.454694                          | 0.243696    |"
      ]
     },
     "metadata": {},
     "output_type": "display_data"
    },
    {
     "data": {
      "text/html": [
       "<pre>| 11      | 9m 31s       | 0.470902          | 0.454678                          | 0.243696    |</pre>"
      ],
      "text/plain": [
       "| 11      | 9m 31s       | 0.470902          | 0.454678                          | 0.243696    |"
      ]
     },
     "metadata": {},
     "output_type": "display_data"
    },
    {
     "data": {
      "text/html": [
       "<pre>| 12      | 10m 9s       | 0.469432          | 0.45463                           | 0.243696    |</pre>"
      ],
      "text/plain": [
       "| 12      | 10m 9s       | 0.469432          | 0.45463                           | 0.243696    |"
      ]
     },
     "metadata": {},
     "output_type": "display_data"
    },
    {
     "data": {
      "text/html": [
       "<pre>| 13      | 10m 48s      | 0.469034          | 0.454528                          | 0.243696    |</pre>"
      ],
      "text/plain": [
       "| 13      | 10m 48s      | 0.469034          | 0.454528                          | 0.243696    |"
      ]
     },
     "metadata": {},
     "output_type": "display_data"
    },
    {
     "data": {
      "text/html": [
       "<pre>| 14      | 11m 25s      | 0.468965          | 0.453999                          | 0.243696    |</pre>"
      ],
      "text/plain": [
       "| 14      | 11m 25s      | 0.468965          | 0.453999                          | 0.243696    |"
      ]
     },
     "metadata": {},
     "output_type": "display_data"
    },
    {
     "data": {
      "text/html": [
       "<pre>| 15      | 12m 4s       | 0.468964          | 0.454347                          | 0.243696    |</pre>"
      ],
      "text/plain": [
       "| 15      | 12m 4s       | 0.468964          | 0.454347                          | 0.243696    |"
      ]
     },
     "metadata": {},
     "output_type": "display_data"
    },
    {
     "data": {
      "text/html": [
       "<pre>| 16      | 12m 43s      | 0.467646          | 0.453365                          | 0.243696    |</pre>"
      ],
      "text/plain": [
       "| 16      | 12m 43s      | 0.467646          | 0.453365                          | 0.243696    |"
      ]
     },
     "metadata": {},
     "output_type": "display_data"
    },
    {
     "data": {
      "text/html": [
       "<pre>| 17      | 13m 21s      | 0.467442          | 0.453989                          | 0.243696    |</pre>"
      ],
      "text/plain": [
       "| 17      | 13m 21s      | 0.467442          | 0.453989                          | 0.243696    |"
      ]
     },
     "metadata": {},
     "output_type": "display_data"
    },
    {
     "data": {
      "text/html": [
       "<pre>| 18      | 14m 0s       | 0.467606          | 0.453767                          | 0.243696    |</pre>"
      ],
      "text/plain": [
       "| 18      | 14m 0s       | 0.467606          | 0.453767                          | 0.243696    |"
      ]
     },
     "metadata": {},
     "output_type": "display_data"
    },
    {
     "data": {
      "text/html": [
       "<pre>| 19      | 14m 39s      | 0.467152          | 0.453579                          | 0.243696    |</pre>"
      ],
      "text/plain": [
       "| 19      | 14m 39s      | 0.467152          | 0.453579                          | 0.243696    |"
      ]
     },
     "metadata": {},
     "output_type": "display_data"
    },
    {
     "data": {
      "text/html": [
       "<pre>| 20      | 15m 17s      | 0.46761           | 0.45372                           | 0.243696    |</pre>"
      ],
      "text/plain": [
       "| 20      | 15m 17s      | 0.46761           | 0.45372                           | 0.243696    |"
      ]
     },
     "metadata": {},
     "output_type": "display_data"
    },
    {
     "data": {
      "text/html": [
       "<pre>| 21      | 15m 56s      | 0.466353          | 0.453522                          | 0.243696    |</pre>"
      ],
      "text/plain": [
       "| 21      | 15m 56s      | 0.466353          | 0.453522                          | 0.243696    |"
      ]
     },
     "metadata": {},
     "output_type": "display_data"
    },
    {
     "data": {
      "text/html": [
       "<pre>| 22      | 16m 34s      | 0.466979          | 0.453181                          | 0.243696    |</pre>"
      ],
      "text/plain": [
       "| 22      | 16m 34s      | 0.466979          | 0.453181                          | 0.243696    |"
      ]
     },
     "metadata": {},
     "output_type": "display_data"
    },
    {
     "data": {
      "text/html": [
       "<pre>| 23      | 17m 12s      | 0.466313          | 0.452849                          | 0.243696    |</pre>"
      ],
      "text/plain": [
       "| 23      | 17m 12s      | 0.466313          | 0.452849                          | 0.243696    |"
      ]
     },
     "metadata": {},
     "output_type": "display_data"
    },
    {
     "data": {
      "text/html": [
       "<pre>| 24      | 17m 52s      | 0.466464          | 0.453103                          | 0.243696    |</pre>"
      ],
      "text/plain": [
       "| 24      | 17m 52s      | 0.466464          | 0.453103                          | 0.243696    |"
      ]
     },
     "metadata": {},
     "output_type": "display_data"
    },
    {
     "data": {
      "text/html": [
       "<pre>| 25      | 18m 30s      | 0.465148          | 0.45244                           | 0.243696    |</pre>"
      ],
      "text/plain": [
       "| 25      | 18m 30s      | 0.465148          | 0.45244                           | 0.243696    |"
      ]
     },
     "metadata": {},
     "output_type": "display_data"
    },
    {
     "data": {
      "text/html": [
       "<pre>| 26      | 19m 9s       | 0.465871          | 0.452553                          | 0.243696    |</pre>"
      ],
      "text/plain": [
       "| 26      | 19m 9s       | 0.465871          | 0.452553                          | 0.243696    |"
      ]
     },
     "metadata": {},
     "output_type": "display_data"
    },
    {
     "data": {
      "text/html": [
       "<pre>| 27      | 19m 47s      | 0.464967          | 0.452329                          | 0.243696    |</pre>"
      ],
      "text/plain": [
       "| 27      | 19m 47s      | 0.464967          | 0.452329                          | 0.243696    |"
      ]
     },
     "metadata": {},
     "output_type": "display_data"
    },
    {
     "data": {
      "text/html": [
       "<pre>| 28      | 20m 25s      | 0.465594          | 0.452075                          | 0.243696    |</pre>"
      ],
      "text/plain": [
       "| 28      | 20m 25s      | 0.465594          | 0.452075                          | 0.243696    |"
      ]
     },
     "metadata": {},
     "output_type": "display_data"
    },
    {
     "data": {
      "text/html": [
       "<pre>| 29      | 21m 4s       | 0.465742          | 0.452119                          | 0.243696    |</pre>"
      ],
      "text/plain": [
       "| 29      | 21m 4s       | 0.465742          | 0.452119                          | 0.243696    |"
      ]
     },
     "metadata": {},
     "output_type": "display_data"
    },
    {
     "data": {
      "text/html": [
       "<pre>| 30      | 21m 42s      | 0.465311          | 0.451943                          | 0.243696    |</pre>"
      ],
      "text/plain": [
       "| 30      | 21m 42s      | 0.465311          | 0.451943                          | 0.243696    |"
      ]
     },
     "metadata": {},
     "output_type": "display_data"
    },
    {
     "data": {
      "text/html": [
       "<pre>| 31      | 22m 21s      | 0.464918          | 0.45185                           | 0.243696    |</pre>"
      ],
      "text/plain": [
       "| 31      | 22m 21s      | 0.464918          | 0.45185                           | 0.243696    |"
      ]
     },
     "metadata": {},
     "output_type": "display_data"
    },
    {
     "data": {
      "text/html": [
       "<pre>| 32      | 23m 0s       | 0.46509           | 0.451649                          | 0.243696    |</pre>"
      ],
      "text/plain": [
       "| 32      | 23m 0s       | 0.46509           | 0.451649                          | 0.243696    |"
      ]
     },
     "metadata": {},
     "output_type": "display_data"
    },
    {
     "data": {
      "text/html": [
       "<pre>| 33      | 23m 38s      | 0.464631          | 0.451704                          | 0.243696    |</pre>"
      ],
      "text/plain": [
       "| 33      | 23m 38s      | 0.464631          | 0.451704                          | 0.243696    |"
      ]
     },
     "metadata": {},
     "output_type": "display_data"
    },
    {
     "data": {
      "text/html": [
       "<pre>| 34      | 24m 17s      | 0.464782          | 0.451923                          | 0.243696    |</pre>"
      ],
      "text/plain": [
       "| 34      | 24m 17s      | 0.464782          | 0.451923                          | 0.243696    |"
      ]
     },
     "metadata": {},
     "output_type": "display_data"
    },
    {
     "data": {
      "text/html": [
       "<pre>| 35      | 24m 55s      | 0.464841          | 0.451533                          | 0.243696    |</pre>"
      ],
      "text/plain": [
       "| 35      | 24m 55s      | 0.464841          | 0.451533                          | 0.243696    |"
      ]
     },
     "metadata": {},
     "output_type": "display_data"
    },
    {
     "data": {
      "text/html": [
       "<pre>| 36      | 25m 34s      | 0.464513          | 0.451094                          | 0.243696    |</pre>"
      ],
      "text/plain": [
       "| 36      | 25m 34s      | 0.464513          | 0.451094                          | 0.243696    |"
      ]
     },
     "metadata": {},
     "output_type": "display_data"
    },
    {
     "data": {
      "text/html": [
       "<pre>| 37      | 26m 12s      | 0.46423           | 0.450989                          | 0.243696    |</pre>"
      ],
      "text/plain": [
       "| 37      | 26m 12s      | 0.46423           | 0.450989                          | 0.243696    |"
      ]
     },
     "metadata": {},
     "output_type": "display_data"
    },
    {
     "data": {
      "text/html": [
       "<pre>| 38      | 26m 50s      | 0.463697          | 0.45062                           | 0.243696    |</pre>"
      ],
      "text/plain": [
       "| 38      | 26m 50s      | 0.463697          | 0.45062                           | 0.243696    |"
      ]
     },
     "metadata": {},
     "output_type": "display_data"
    },
    {
     "data": {
      "text/html": [
       "<pre>| 39      | 27m 28s      | 0.4637            | 0.450926                          | 0.243696    |</pre>"
      ],
      "text/plain": [
       "| 39      | 27m 28s      | 0.4637            | 0.450926                          | 0.243696    |"
      ]
     },
     "metadata": {},
     "output_type": "display_data"
    },
    {
     "data": {
      "text/html": [
       "<pre>| 40      | 28m 7s       | 0.464586          | 0.450852                          | 0.243696    |</pre>"
      ],
      "text/plain": [
       "| 40      | 28m 7s       | 0.464586          | 0.450852                          | 0.243696    |"
      ]
     },
     "metadata": {},
     "output_type": "display_data"
    },
    {
     "data": {
      "text/html": [
       "<pre>| 41      | 28m 45s      | 0.464002          | 0.450615                          | 0.243696    |</pre>"
      ],
      "text/plain": [
       "| 41      | 28m 45s      | 0.464002          | 0.450615                          | 0.243696    |"
      ]
     },
     "metadata": {},
     "output_type": "display_data"
    },
    {
     "data": {
      "text/html": [
       "<pre>| 42      | 29m 24s      | 0.463121          | 0.450258                          | 0.243696    |</pre>"
      ],
      "text/plain": [
       "| 42      | 29m 24s      | 0.463121          | 0.450258                          | 0.243696    |"
      ]
     },
     "metadata": {},
     "output_type": "display_data"
    },
    {
     "data": {
      "text/html": [
       "<pre>| 43      | 30m 3s       | 0.464457          | 0.450755                          | 0.243696    |</pre>"
      ],
      "text/plain": [
       "| 43      | 30m 3s       | 0.464457          | 0.450755                          | 0.243696    |"
      ]
     },
     "metadata": {},
     "output_type": "display_data"
    },
    {
     "data": {
      "text/html": [
       "<pre>| 44      | 30m 42s      | 0.462904          | 0.450251                          | 0.243696    |</pre>"
      ],
      "text/plain": [
       "| 44      | 30m 42s      | 0.462904          | 0.450251                          | 0.243696    |"
      ]
     },
     "metadata": {},
     "output_type": "display_data"
    },
    {
     "data": {
      "text/html": [
       "<pre>| 45      | 31m 20s      | 0.463064          | 0.449917                          | 0.243696    |</pre>"
      ],
      "text/plain": [
       "| 45      | 31m 20s      | 0.463064          | 0.449917                          | 0.243696    |"
      ]
     },
     "metadata": {},
     "output_type": "display_data"
    },
    {
     "data": {
      "text/html": [
       "<pre>| 46      | 31m 58s      | 0.46372           | 0.450088                          | 0.243696    |</pre>"
      ],
      "text/plain": [
       "| 46      | 31m 58s      | 0.46372           | 0.450088                          | 0.243696    |"
      ]
     },
     "metadata": {},
     "output_type": "display_data"
    },
    {
     "data": {
      "text/html": [
       "<pre>| 47      | 32m 37s      | 0.463434          | 0.449925                          | 0.243696    |</pre>"
      ],
      "text/plain": [
       "| 47      | 32m 37s      | 0.463434          | 0.449925                          | 0.243696    |"
      ]
     },
     "metadata": {},
     "output_type": "display_data"
    },
    {
     "data": {
      "text/html": [
       "<pre>| 48      | 33m 16s      | 0.462847          | 0.449531                          | 0.243696    |</pre>"
      ],
      "text/plain": [
       "| 48      | 33m 16s      | 0.462847          | 0.449531                          | 0.243696    |"
      ]
     },
     "metadata": {},
     "output_type": "display_data"
    },
    {
     "data": {
      "text/html": [
       "<pre>| 49      | 33m 55s      | 0.463318          | 0.449542                          | 0.243696    |</pre>"
      ],
      "text/plain": [
       "| 49      | 33m 55s      | 0.463318          | 0.449542                          | 0.243696    |"
      ]
     },
     "metadata": {},
     "output_type": "display_data"
    },
    {
     "data": {
      "text/html": [
       "<pre>| 50      | 34m 33s      | 0.463535          | 0.449677                          | 0.243696    |</pre>"
      ],
      "text/plain": [
       "| 50      | 34m 33s      | 0.463535          | 0.449677                          | 0.243696    |"
      ]
     },
     "metadata": {},
     "output_type": "display_data"
    },
    {
     "data": {
      "text/html": [
       "<pre>| 51      | 35m 13s      | 0.463659          | 0.449737                          | 0.243696    |</pre>"
      ],
      "text/plain": [
       "| 51      | 35m 13s      | 0.463659          | 0.449737                          | 0.243696    |"
      ]
     },
     "metadata": {},
     "output_type": "display_data"
    },
    {
     "data": {
      "text/html": [
       "<pre>| 52      | 35m 50s      | 0.462873          | 0.449385                          | 0.243696    |</pre>"
      ],
      "text/plain": [
       "| 52      | 35m 50s      | 0.462873          | 0.449385                          | 0.243696    |"
      ]
     },
     "metadata": {},
     "output_type": "display_data"
    },
    {
     "data": {
      "text/html": [
       "<pre>| 53      | 36m 28s      | 0.463049          | 0.449256                          | 0.243696    |</pre>"
      ],
      "text/plain": [
       "| 53      | 36m 28s      | 0.463049          | 0.449256                          | 0.243696    |"
      ]
     },
     "metadata": {},
     "output_type": "display_data"
    },
    {
     "data": {
      "text/html": [
       "<pre>| 54      | 37m 6s       | 0.462607          | 0.449186                          | 0.243696    |</pre>"
      ],
      "text/plain": [
       "| 54      | 37m 6s       | 0.462607          | 0.449186                          | 0.243696    |"
      ]
     },
     "metadata": {},
     "output_type": "display_data"
    },
    {
     "data": {
      "text/html": [
       "<pre>| 55      | 37m 45s      | 0.463249          | 0.449008                          | 0.243696    |</pre>"
      ],
      "text/plain": [
       "| 55      | 37m 45s      | 0.463249          | 0.449008                          | 0.243696    |"
      ]
     },
     "metadata": {},
     "output_type": "display_data"
    },
    {
     "data": {
      "text/html": [
       "<pre>| 56      | 38m 24s      | 0.462712          | 0.448905                          | 0.243696    |</pre>"
      ],
      "text/plain": [
       "| 56      | 38m 24s      | 0.462712          | 0.448905                          | 0.243696    |"
      ]
     },
     "metadata": {},
     "output_type": "display_data"
    },
    {
     "data": {
      "text/html": [
       "<pre>| 57      | 39m 2s       | 0.462883          | 0.448816                          | 0.243696    |</pre>"
      ],
      "text/plain": [
       "| 57      | 39m 2s       | 0.462883          | 0.448816                          | 0.243696    |"
      ]
     },
     "metadata": {},
     "output_type": "display_data"
    },
    {
     "data": {
      "text/html": [
       "<pre>| 58      | 39m 40s      | 0.462342          | 0.448482                          | 0.243696    |</pre>"
      ],
      "text/plain": [
       "| 58      | 39m 40s      | 0.462342          | 0.448482                          | 0.243696    |"
      ]
     },
     "metadata": {},
     "output_type": "display_data"
    },
    {
     "data": {
      "text/html": [
       "<pre>| 59      | 40m 18s      | 0.4629            | 0.448613                          | 0.243696    |</pre>"
      ],
      "text/plain": [
       "| 59      | 40m 18s      | 0.4629            | 0.448613                          | 0.243696    |"
      ]
     },
     "metadata": {},
     "output_type": "display_data"
    },
    {
     "data": {
      "text/html": [
       "<pre>| 60      | 40m 57s      | 0.462228          | 0.448414                          | 0.243696    |</pre>"
      ],
      "text/plain": [
       "| 60      | 40m 57s      | 0.462228          | 0.448414                          | 0.243696    |"
      ]
     },
     "metadata": {},
     "output_type": "display_data"
    },
    {
     "data": {
      "text/html": [
       "<pre>| 61      | 41m 36s      | 0.462021          | 0.448269                          | 0.243696    |</pre>"
      ],
      "text/plain": [
       "| 61      | 41m 36s      | 0.462021          | 0.448269                          | 0.243696    |"
      ]
     },
     "metadata": {},
     "output_type": "display_data"
    },
    {
     "data": {
      "text/html": [
       "<pre>| 62      | 42m 14s      | 0.462044          | 0.448334                          | 0.243696    |</pre>"
      ],
      "text/plain": [
       "| 62      | 42m 14s      | 0.462044          | 0.448334                          | 0.243696    |"
      ]
     },
     "metadata": {},
     "output_type": "display_data"
    },
    {
     "data": {
      "text/html": [
       "<pre>| 63      | 42m 52s      | 0.462584          | 0.448446                          | 0.243696    |</pre>"
      ],
      "text/plain": [
       "| 63      | 42m 52s      | 0.462584          | 0.448446                          | 0.243696    |"
      ]
     },
     "metadata": {},
     "output_type": "display_data"
    },
    {
     "data": {
      "text/html": [
       "<pre>| 64      | 43m 31s      | 0.462363          | 0.448087                          | 0.243696    |</pre>"
      ],
      "text/plain": [
       "| 64      | 43m 31s      | 0.462363          | 0.448087                          | 0.243696    |"
      ]
     },
     "metadata": {},
     "output_type": "display_data"
    },
    {
     "data": {
      "text/html": [
       "<pre>| 65      | 44m 9s       | 0.462246          | 0.447909                          | 0.243696    |</pre>"
      ],
      "text/plain": [
       "| 65      | 44m 9s       | 0.462246          | 0.447909                          | 0.243696    |"
      ]
     },
     "metadata": {},
     "output_type": "display_data"
    },
    {
     "data": {
      "text/html": [
       "<pre>| 66      | 44m 48s      | 0.462485          | 0.448028                          | 0.243696    |</pre>"
      ],
      "text/plain": [
       "| 66      | 44m 48s      | 0.462485          | 0.448028                          | 0.243696    |"
      ]
     },
     "metadata": {},
     "output_type": "display_data"
    },
    {
     "data": {
      "text/html": [
       "<pre>| 67      | 45m 26s      | 0.462066          | 0.447757                          | 0.243696    |</pre>"
      ],
      "text/plain": [
       "| 67      | 45m 26s      | 0.462066          | 0.447757                          | 0.243696    |"
      ]
     },
     "metadata": {},
     "output_type": "display_data"
    },
    {
     "data": {
      "text/html": [
       "<pre>| 68      | 46m 4s       | 0.461746          | 0.447722                          | 0.243696    |</pre>"
      ],
      "text/plain": [
       "| 68      | 46m 4s       | 0.461746          | 0.447722                          | 0.243696    |"
      ]
     },
     "metadata": {},
     "output_type": "display_data"
    },
    {
     "data": {
      "text/html": [
       "<pre>| 69      | 46m 41s      | 0.461822          | 0.447754                          | 0.243696    |</pre>"
      ],
      "text/plain": [
       "| 69      | 46m 41s      | 0.461822          | 0.447754                          | 0.243696    |"
      ]
     },
     "metadata": {},
     "output_type": "display_data"
    },
    {
     "data": {
      "text/html": [
       "<pre>| 70      | 47m 20s      | 0.46244           | 0.447843                          | 0.243696    |</pre>"
      ],
      "text/plain": [
       "| 70      | 47m 20s      | 0.46244           | 0.447843                          | 0.243696    |"
      ]
     },
     "metadata": {},
     "output_type": "display_data"
    },
    {
     "data": {
      "text/html": [
       "<pre>| 71      | 47m 58s      | 0.461855          | 0.447396                          | 0.243696    |</pre>"
      ],
      "text/plain": [
       "| 71      | 47m 58s      | 0.461855          | 0.447396                          | 0.243696    |"
      ]
     },
     "metadata": {},
     "output_type": "display_data"
    },
    {
     "data": {
      "text/html": [
       "<pre>| 72      | 48m 36s      | 0.462219          | 0.44773                           | 0.243696    |</pre>"
      ],
      "text/plain": [
       "| 72      | 48m 36s      | 0.462219          | 0.44773                           | 0.243696    |"
      ]
     },
     "metadata": {},
     "output_type": "display_data"
    },
    {
     "data": {
      "text/html": [
       "<pre>| 73      | 49m 14s      | 0.462377          | 0.447286                          | 0.243696    |</pre>"
      ],
      "text/plain": [
       "| 73      | 49m 14s      | 0.462377          | 0.447286                          | 0.243696    |"
      ]
     },
     "metadata": {},
     "output_type": "display_data"
    },
    {
     "data": {
      "text/html": [
       "<pre>| 74      | 49m 53s      | 0.461663          | 0.446969                          | 0.243696    |</pre>"
      ],
      "text/plain": [
       "| 74      | 49m 53s      | 0.461663          | 0.446969                          | 0.243696    |"
      ]
     },
     "metadata": {},
     "output_type": "display_data"
    },
    {
     "data": {
      "text/html": [
       "<pre>| 75      | 50m 32s      | 0.46144           | 0.44675                           | 0.243696    |</pre>"
      ],
      "text/plain": [
       "| 75      | 50m 32s      | 0.46144           | 0.44675                           | 0.243696    |"
      ]
     },
     "metadata": {},
     "output_type": "display_data"
    },
    {
     "data": {
      "text/html": [
       "<pre>| 76      | 51m 11s      | 0.461945          | 0.446879                          | 0.243696    |</pre>"
      ],
      "text/plain": [
       "| 76      | 51m 11s      | 0.461945          | 0.446879                          | 0.243696    |"
      ]
     },
     "metadata": {},
     "output_type": "display_data"
    },
    {
     "data": {
      "text/html": [
       "<pre>| 77      | 51m 49s      | 0.46186           | 0.446735                          | 0.243696    |</pre>"
      ],
      "text/plain": [
       "| 77      | 51m 49s      | 0.46186           | 0.446735                          | 0.243696    |"
      ]
     },
     "metadata": {},
     "output_type": "display_data"
    },
    {
     "data": {
      "text/html": [
       "<pre>| 78      | 52m 28s      | 0.462105          | 0.446763                          | 0.243696    |</pre>"
      ],
      "text/plain": [
       "| 78      | 52m 28s      | 0.462105          | 0.446763                          | 0.243696    |"
      ]
     },
     "metadata": {},
     "output_type": "display_data"
    },
    {
     "data": {
      "text/html": [
       "<pre>| 79      | 53m 5s       | 0.461777          | 0.446699                          | 0.243696    |</pre>"
      ],
      "text/plain": [
       "| 79      | 53m 5s       | 0.461777          | 0.446699                          | 0.243696    |"
      ]
     },
     "metadata": {},
     "output_type": "display_data"
    },
    {
     "data": {
      "text/html": [
       "<pre>| 80      | 53m 44s      | 0.461062          | 0.446492                          | 0.243696    |</pre>"
      ],
      "text/plain": [
       "| 80      | 53m 44s      | 0.461062          | 0.446492                          | 0.243696    |"
      ]
     },
     "metadata": {},
     "output_type": "display_data"
    },
    {
     "data": {
      "text/html": [
       "<pre>| 81      | 54m 23s      | 0.461483          | 0.446672                          | 0.243696    |</pre>"
      ],
      "text/plain": [
       "| 81      | 54m 23s      | 0.461483          | 0.446672                          | 0.243696    |"
      ]
     },
     "metadata": {},
     "output_type": "display_data"
    },
    {
     "data": {
      "text/html": [
       "<pre>| 82      | 55m 2s       | 0.461356          | 0.446351                          | 0.243696    |</pre>"
      ],
      "text/plain": [
       "| 82      | 55m 2s       | 0.461356          | 0.446351                          | 0.243696    |"
      ]
     },
     "metadata": {},
     "output_type": "display_data"
    },
    {
     "data": {
      "text/html": [
       "<pre>| 83      | 55m 41s      | 0.460957          | 0.446219                          | 0.243696    |</pre>"
      ],
      "text/plain": [
       "| 83      | 55m 41s      | 0.460957          | 0.446219                          | 0.243696    |"
      ]
     },
     "metadata": {},
     "output_type": "display_data"
    },
    {
     "data": {
      "text/html": [
       "<pre>| 84      | 56m 19s      | 0.460972          | 0.446242                          | 0.243696    |</pre>"
      ],
      "text/plain": [
       "| 84      | 56m 19s      | 0.460972          | 0.446242                          | 0.243696    |"
      ]
     },
     "metadata": {},
     "output_type": "display_data"
    },
    {
     "data": {
      "text/html": [
       "<pre>| 85      | 56m 58s      | 0.461749          | 0.446235                          | 0.243696    |</pre>"
      ],
      "text/plain": [
       "| 85      | 56m 58s      | 0.461749          | 0.446235                          | 0.243696    |"
      ]
     },
     "metadata": {},
     "output_type": "display_data"
    },
    {
     "data": {
      "text/html": [
       "<pre>| 86      | 57m 36s      | 0.46172           | 0.446109                          | 0.243696    |</pre>"
      ],
      "text/plain": [
       "| 86      | 57m 36s      | 0.46172           | 0.446109                          | 0.243696    |"
      ]
     },
     "metadata": {},
     "output_type": "display_data"
    },
    {
     "data": {
      "text/html": [
       "<pre>| 87      | 58m 16s      | 0.461484          | 0.445932                          | 0.243696    |</pre>"
      ],
      "text/plain": [
       "| 87      | 58m 16s      | 0.461484          | 0.445932                          | 0.243696    |"
      ]
     },
     "metadata": {},
     "output_type": "display_data"
    },
    {
     "data": {
      "text/html": [
       "<pre>| 88      | 58m 54s      | 0.461622          | 0.445918                          | 0.243696    |</pre>"
      ],
      "text/plain": [
       "| 88      | 58m 54s      | 0.461622          | 0.445918                          | 0.243696    |"
      ]
     },
     "metadata": {},
     "output_type": "display_data"
    },
    {
     "data": {
      "text/html": [
       "<pre>| 89      | 59m 33s      | 0.461154          | 0.445618                          | 0.243696    |</pre>"
      ],
      "text/plain": [
       "| 89      | 59m 33s      | 0.461154          | 0.445618                          | 0.243696    |"
      ]
     },
     "metadata": {},
     "output_type": "display_data"
    },
    {
     "data": {
      "text/html": [
       "<pre>| 90      | 1h 0m        | 0.460731          | 0.445396                          | 0.243696    |</pre>"
      ],
      "text/plain": [
       "| 90      | 1h 0m        | 0.460731          | 0.445396                          | 0.243696    |"
      ]
     },
     "metadata": {},
     "output_type": "display_data"
    },
    {
     "data": {
      "text/html": [
       "<pre>| 91      | 1h 0m        | 0.460754          | 0.445556                          | 0.243696    |</pre>"
      ],
      "text/plain": [
       "| 91      | 1h 0m        | 0.460754          | 0.445556                          | 0.243696    |"
      ]
     },
     "metadata": {},
     "output_type": "display_data"
    },
    {
     "data": {
      "text/html": [
       "<pre>| 92      | 1h 1m        | 0.460677          | 0.445374                          | 0.243696    |</pre>"
      ],
      "text/plain": [
       "| 92      | 1h 1m        | 0.460677          | 0.445374                          | 0.243696    |"
      ]
     },
     "metadata": {},
     "output_type": "display_data"
    },
    {
     "data": {
      "text/html": [
       "<pre>| 93      | 1h 2m        | 0.460917          | 0.445397                          | 0.243696    |</pre>"
      ],
      "text/plain": [
       "| 93      | 1h 2m        | 0.460917          | 0.445397                          | 0.243696    |"
      ]
     },
     "metadata": {},
     "output_type": "display_data"
    },
    {
     "data": {
      "text/html": [
       "<pre>| 94      | 1h 2m        | 0.460406          | 0.445071                          | 0.243696    |</pre>"
      ],
      "text/plain": [
       "| 94      | 1h 2m        | 0.460406          | 0.445071                          | 0.243696    |"
      ]
     },
     "metadata": {},
     "output_type": "display_data"
    },
    {
     "data": {
      "text/html": [
       "<pre>| 95      | 1h 3m        | 0.460595          | 0.445273                          | 0.243696    |</pre>"
      ],
      "text/plain": [
       "| 95      | 1h 3m        | 0.460595          | 0.445273                          | 0.243696    |"
      ]
     },
     "metadata": {},
     "output_type": "display_data"
    },
    {
     "data": {
      "text/html": [
       "<pre>| 96      | 1h 4m        | 0.46119           | 0.445298                          | 0.243696    |</pre>"
      ],
      "text/plain": [
       "| 96      | 1h 4m        | 0.46119           | 0.445298                          | 0.243696    |"
      ]
     },
     "metadata": {},
     "output_type": "display_data"
    },
    {
     "data": {
      "text/html": [
       "<pre>| 97      | 1h 4m        | 0.460706          | 0.444816                          | 0.243696    |</pre>"
      ],
      "text/plain": [
       "| 97      | 1h 4m        | 0.460706          | 0.444816                          | 0.243696    |"
      ]
     },
     "metadata": {},
     "output_type": "display_data"
    },
    {
     "data": {
      "text/html": [
       "<pre>| 98      | 1h 5m        | 0.460889          | 0.444741                          | 0.243696    |</pre>"
      ],
      "text/plain": [
       "| 98      | 1h 5m        | 0.460889          | 0.444741                          | 0.243696    |"
      ]
     },
     "metadata": {},
     "output_type": "display_data"
    },
    {
     "data": {
      "text/html": [
       "<pre>| 99      | 1h 6m        | 0.460862          | 0.444681                          | 0.243696    |</pre>"
      ],
      "text/plain": [
       "| 99      | 1h 6m        | 0.460862          | 0.444681                          | 0.243696    |"
      ]
     },
     "metadata": {},
     "output_type": "display_data"
    },
    {
     "data": {
      "text/html": [
       "<pre>| 100     | 1h 6m        | 0.460419          | 0.44453                           | 0.243696    |</pre>"
      ],
      "text/plain": [
       "| 100     | 1h 6m        | 0.460419          | 0.44453                           | 0.243696    |"
      ]
     },
     "metadata": {},
     "output_type": "display_data"
    },
    {
     "data": {
      "text/html": [
       "<pre>| 101     | 1h 7m        | 0.460463          | 0.444662                          | 0.243696    |</pre>"
      ],
      "text/plain": [
       "| 101     | 1h 7m        | 0.460463          | 0.444662                          | 0.243696    |"
      ]
     },
     "metadata": {},
     "output_type": "display_data"
    },
    {
     "data": {
      "text/html": [
       "<pre>| 102     | 1h 7m        | 0.460447          | 0.444604                          | 0.243696    |</pre>"
      ],
      "text/plain": [
       "| 102     | 1h 7m        | 0.460447          | 0.444604                          | 0.243696    |"
      ]
     },
     "metadata": {},
     "output_type": "display_data"
    },
    {
     "data": {
      "text/html": [
       "<pre>| 103     | 1h 8m        | 0.460209          | 0.444472                          | 0.243696    |</pre>"
      ],
      "text/plain": [
       "| 103     | 1h 8m        | 0.460209          | 0.444472                          | 0.243696    |"
      ]
     },
     "metadata": {},
     "output_type": "display_data"
    },
    {
     "data": {
      "text/html": [
       "<pre>| 104     | 1h 9m        | 0.460478          | 0.444457                          | 0.243696    |</pre>"
      ],
      "text/plain": [
       "| 104     | 1h 9m        | 0.460478          | 0.444457                          | 0.243696    |"
      ]
     },
     "metadata": {},
     "output_type": "display_data"
    },
    {
     "data": {
      "text/html": [
       "<pre>| 105     | 1h 9m        | 0.460593          | 0.444216                          | 0.243696    |</pre>"
      ],
      "text/plain": [
       "| 105     | 1h 9m        | 0.460593          | 0.444216                          | 0.243696    |"
      ]
     },
     "metadata": {},
     "output_type": "display_data"
    },
    {
     "data": {
      "text/html": [
       "<pre>| 106     | 1h 10m       | 0.460378          | 0.443957                          | 0.243696    |</pre>"
      ],
      "text/plain": [
       "| 106     | 1h 10m       | 0.460378          | 0.443957                          | 0.243696    |"
      ]
     },
     "metadata": {},
     "output_type": "display_data"
    },
    {
     "data": {
      "text/html": [
       "<pre>| 107     | 1h 11m       | 0.460117          | 0.443933                          | 0.243696    |</pre>"
      ],
      "text/plain": [
       "| 107     | 1h 11m       | 0.460117          | 0.443933                          | 0.243696    |"
      ]
     },
     "metadata": {},
     "output_type": "display_data"
    },
    {
     "data": {
      "text/html": [
       "<pre>| 108     | 1h 11m       | 0.460277          | 0.443902                          | 0.243696    |</pre>"
      ],
      "text/plain": [
       "| 108     | 1h 11m       | 0.460277          | 0.443902                          | 0.243696    |"
      ]
     },
     "metadata": {},
     "output_type": "display_data"
    },
    {
     "data": {
      "text/html": [
       "<pre>| 109     | 1h 12m       | 0.46008           | 0.443767                          | 0.243696    |</pre>"
      ],
      "text/plain": [
       "| 109     | 1h 12m       | 0.46008           | 0.443767                          | 0.243696    |"
      ]
     },
     "metadata": {},
     "output_type": "display_data"
    },
    {
     "data": {
      "text/html": [
       "<pre>| 110     | 1h 13m       | 0.460157          | 0.443669                          | 0.243696    |</pre>"
      ],
      "text/plain": [
       "| 110     | 1h 13m       | 0.460157          | 0.443669                          | 0.243696    |"
      ]
     },
     "metadata": {},
     "output_type": "display_data"
    },
    {
     "data": {
      "text/html": [
       "<pre>| 111     | 1h 13m       | 0.460605          | 0.443662                          | 0.243696    |</pre>"
      ],
      "text/plain": [
       "| 111     | 1h 13m       | 0.460605          | 0.443662                          | 0.243696    |"
      ]
     },
     "metadata": {},
     "output_type": "display_data"
    },
    {
     "data": {
      "text/html": [
       "<pre>| 112     | 1h 14m       | 0.459869          | 0.443362                          | 0.243696    |</pre>"
      ],
      "text/plain": [
       "| 112     | 1h 14m       | 0.459869          | 0.443362                          | 0.243696    |"
      ]
     },
     "metadata": {},
     "output_type": "display_data"
    },
    {
     "data": {
      "text/html": [
       "<pre>| 113     | 1h 15m       | 0.459919          | 0.443405                          | 0.243696    |</pre>"
      ],
      "text/plain": [
       "| 113     | 1h 15m       | 0.459919          | 0.443405                          | 0.243696    |"
      ]
     },
     "metadata": {},
     "output_type": "display_data"
    },
    {
     "data": {
      "text/html": [
       "<pre>| 114     | 1h 15m       | 0.460702          | 0.4435                            | 0.243696    |</pre>"
      ],
      "text/plain": [
       "| 114     | 1h 15m       | 0.460702          | 0.4435                            | 0.243696    |"
      ]
     },
     "metadata": {},
     "output_type": "display_data"
    },
    {
     "data": {
      "text/html": [
       "<pre>| 115     | 1h 16m       | 0.460227          | 0.443138                          | 0.243696    |</pre>"
      ],
      "text/plain": [
       "| 115     | 1h 16m       | 0.460227          | 0.443138                          | 0.243696    |"
      ]
     },
     "metadata": {},
     "output_type": "display_data"
    },
    {
     "data": {
      "text/html": [
       "<pre>| 116     | 1h 16m       | 0.460323          | 0.443186                          | 0.243696    |</pre>"
      ],
      "text/plain": [
       "| 116     | 1h 16m       | 0.460323          | 0.443186                          | 0.243696    |"
      ]
     },
     "metadata": {},
     "output_type": "display_data"
    },
    {
     "data": {
      "text/html": [
       "<pre>| 117     | 1h 17m       | 0.45956           | 0.442878                          | 0.243696    |</pre>"
      ],
      "text/plain": [
       "| 117     | 1h 17m       | 0.45956           | 0.442878                          | 0.243696    |"
      ]
     },
     "metadata": {},
     "output_type": "display_data"
    },
    {
     "data": {
      "text/html": [
       "<pre>| 118     | 1h 18m       | 0.46035           | 0.443275                          | 0.243696    |</pre>"
      ],
      "text/plain": [
       "| 118     | 1h 18m       | 0.46035           | 0.443275                          | 0.243696    |"
      ]
     },
     "metadata": {},
     "output_type": "display_data"
    },
    {
     "data": {
      "text/html": [
       "<pre>| 119     | 1h 18m       | 0.460145          | 0.443144                          | 0.243696    |</pre>"
      ],
      "text/plain": [
       "| 119     | 1h 18m       | 0.460145          | 0.443144                          | 0.243696    |"
      ]
     },
     "metadata": {},
     "output_type": "display_data"
    },
    {
     "data": {
      "text/html": [
       "<pre>| 120     | 1h 19m       | 0.459931          | 0.443016                          | 0.243696    |</pre>"
      ],
      "text/plain": [
       "| 120     | 1h 19m       | 0.459931          | 0.443016                          | 0.243696    |"
      ]
     },
     "metadata": {},
     "output_type": "display_data"
    },
    {
     "data": {
      "text/html": [
       "<pre>| 121     | 1h 20m       | 0.459799          | 0.442988                          | 0.243696    |</pre>"
      ],
      "text/plain": [
       "| 121     | 1h 20m       | 0.459799          | 0.442988                          | 0.243696    |"
      ]
     },
     "metadata": {},
     "output_type": "display_data"
    },
    {
     "data": {
      "text/html": [
       "<pre>| 122     | 1h 20m       | 0.459567          | 0.442758                          | 0.243696    |</pre>"
      ],
      "text/plain": [
       "| 122     | 1h 20m       | 0.459567          | 0.442758                          | 0.243696    |"
      ]
     },
     "metadata": {},
     "output_type": "display_data"
    },
    {
     "data": {
      "text/html": [
       "<pre>| 123     | 1h 21m       | 0.459992          | 0.442908                          | 0.243696    |</pre>"
      ],
      "text/plain": [
       "| 123     | 1h 21m       | 0.459992          | 0.442908                          | 0.243696    |"
      ]
     },
     "metadata": {},
     "output_type": "display_data"
    },
    {
     "data": {
      "text/html": [
       "<pre>| 124     | 1h 22m       | 0.459538          | 0.442719                          | 0.243696    |</pre>"
      ],
      "text/plain": [
       "| 124     | 1h 22m       | 0.459538          | 0.442719                          | 0.243696    |"
      ]
     },
     "metadata": {},
     "output_type": "display_data"
    },
    {
     "data": {
      "text/html": [
       "<pre>| 125     | 1h 22m       | 0.459553          | 0.442777                          | 0.243696    |</pre>"
      ],
      "text/plain": [
       "| 125     | 1h 22m       | 0.459553          | 0.442777                          | 0.243696    |"
      ]
     },
     "metadata": {},
     "output_type": "display_data"
    },
    {
     "data": {
      "text/html": [
       "<pre>| 126     | 1h 23m       | 0.459836          | 0.442455                          | 0.243696    |</pre>"
      ],
      "text/plain": [
       "| 126     | 1h 23m       | 0.459836          | 0.442455                          | 0.243696    |"
      ]
     },
     "metadata": {},
     "output_type": "display_data"
    },
    {
     "data": {
      "text/html": [
       "<pre>| 127     | 1h 23m       | 0.459774          | 0.442114                          | 0.243696    |</pre>"
      ],
      "text/plain": [
       "| 127     | 1h 23m       | 0.459774          | 0.442114                          | 0.243696    |"
      ]
     },
     "metadata": {},
     "output_type": "display_data"
    },
    {
     "data": {
      "text/html": [
       "<pre>| 128     | 1h 24m       | 0.459934          | 0.442143                          | 0.243696    |</pre>"
      ],
      "text/plain": [
       "| 128     | 1h 24m       | 0.459934          | 0.442143                          | 0.243696    |"
      ]
     },
     "metadata": {},
     "output_type": "display_data"
    },
    {
     "data": {
      "text/html": [
       "<pre>| 129     | 1h 25m       | 0.460094          | 0.442152                          | 0.243696    |</pre>"
      ],
      "text/plain": [
       "| 129     | 1h 25m       | 0.460094          | 0.442152                          | 0.243696    |"
      ]
     },
     "metadata": {},
     "output_type": "display_data"
    },
    {
     "data": {
      "text/html": [
       "<pre>| 130     | 1h 25m       | 0.459604          | 0.441873                          | 0.243696    |</pre>"
      ],
      "text/plain": [
       "| 130     | 1h 25m       | 0.459604          | 0.441873                          | 0.243696    |"
      ]
     },
     "metadata": {},
     "output_type": "display_data"
    },
    {
     "data": {
      "text/html": [
       "<pre>| 131     | 1h 26m       | 0.459394          | 0.441766                          | 0.243696    |</pre>"
      ],
      "text/plain": [
       "| 131     | 1h 26m       | 0.459394          | 0.441766                          | 0.243696    |"
      ]
     },
     "metadata": {},
     "output_type": "display_data"
    },
    {
     "data": {
      "text/html": [
       "<pre>| 132     | 1h 27m       | 0.459217          | 0.441732                          | 0.243696    |</pre>"
      ],
      "text/plain": [
       "| 132     | 1h 27m       | 0.459217          | 0.441732                          | 0.243696    |"
      ]
     },
     "metadata": {},
     "output_type": "display_data"
    },
    {
     "data": {
      "text/html": [
       "<pre>| 133     | 1h 27m       | 0.459266          | 0.4418                            | 0.243696    |</pre>"
      ],
      "text/plain": [
       "| 133     | 1h 27m       | 0.459266          | 0.4418                            | 0.243696    |"
      ]
     },
     "metadata": {},
     "output_type": "display_data"
    },
    {
     "data": {
      "text/html": [
       "<pre>| 134     | 1h 28m       | 0.459832          | 0.442019                          | 0.243696    |</pre>"
      ],
      "text/plain": [
       "| 134     | 1h 28m       | 0.459832          | 0.442019                          | 0.243696    |"
      ]
     },
     "metadata": {},
     "output_type": "display_data"
    },
    {
     "data": {
      "text/html": [
       "<pre>| 135     | 1h 29m       | 0.458799          | 0.441482                          | 0.243696    |</pre>"
      ],
      "text/plain": [
       "| 135     | 1h 29m       | 0.458799          | 0.441482                          | 0.243696    |"
      ]
     },
     "metadata": {},
     "output_type": "display_data"
    },
    {
     "data": {
      "text/html": [
       "<pre>| 136     | 1h 29m       | 0.459206          | 0.441772                          | 0.243696    |</pre>"
      ],
      "text/plain": [
       "| 136     | 1h 29m       | 0.459206          | 0.441772                          | 0.243696    |"
      ]
     },
     "metadata": {},
     "output_type": "display_data"
    },
    {
     "data": {
      "text/html": [
       "<pre>| 137     | 1h 30m       | 0.458573          | 0.441442                          | 0.243696    |</pre>"
      ],
      "text/plain": [
       "| 137     | 1h 30m       | 0.458573          | 0.441442                          | 0.243696    |"
      ]
     },
     "metadata": {},
     "output_type": "display_data"
    },
    {
     "data": {
      "text/html": [
       "<pre>| 138     | 1h 31m       | 0.45908           | 0.441722                          | 0.243696    |</pre>"
      ],
      "text/plain": [
       "| 138     | 1h 31m       | 0.45908           | 0.441722                          | 0.243696    |"
      ]
     },
     "metadata": {},
     "output_type": "display_data"
    },
    {
     "data": {
      "text/html": [
       "<pre>| 139     | 1h 31m       | 0.458958          | 0.441597                          | 0.243696    |</pre>"
      ],
      "text/plain": [
       "| 139     | 1h 31m       | 0.458958          | 0.441597                          | 0.243696    |"
      ]
     },
     "metadata": {},
     "output_type": "display_data"
    },
    {
     "data": {
      "text/html": [
       "<pre>| 140     | 1h 32m       | 0.458719          | 0.441346                          | 0.243696    |</pre>"
      ],
      "text/plain": [
       "| 140     | 1h 32m       | 0.458719          | 0.441346                          | 0.243696    |"
      ]
     },
     "metadata": {},
     "output_type": "display_data"
    },
    {
     "data": {
      "text/html": [
       "<pre>| 141     | 1h 32m       | 0.459301          | 0.441326                          | 0.243696    |</pre>"
      ],
      "text/plain": [
       "| 141     | 1h 32m       | 0.459301          | 0.441326                          | 0.243696    |"
      ]
     },
     "metadata": {},
     "output_type": "display_data"
    },
    {
     "data": {
      "text/html": [
       "<pre>| 142     | 1h 33m       | 0.459053          | 0.440906                          | 0.243696    |</pre>"
      ],
      "text/plain": [
       "| 142     | 1h 33m       | 0.459053          | 0.440906                          | 0.243696    |"
      ]
     },
     "metadata": {},
     "output_type": "display_data"
    },
    {
     "data": {
      "text/html": [
       "<pre>| 143     | 1h 34m       | 0.45871           | 0.440777                          | 0.243696    |</pre>"
      ],
      "text/plain": [
       "| 143     | 1h 34m       | 0.45871           | 0.440777                          | 0.243696    |"
      ]
     },
     "metadata": {},
     "output_type": "display_data"
    },
    {
     "data": {
      "text/html": [
       "<pre>| 144     | 1h 34m       | 0.459089          | 0.440765                          | 0.243696    |</pre>"
      ],
      "text/plain": [
       "| 144     | 1h 34m       | 0.459089          | 0.440765                          | 0.243696    |"
      ]
     },
     "metadata": {},
     "output_type": "display_data"
    },
    {
     "data": {
      "text/html": [
       "<pre>| 145     | 1h 35m       | 0.458871          | 0.440665                          | 0.243696    |</pre>"
      ],
      "text/plain": [
       "| 145     | 1h 35m       | 0.458871          | 0.440665                          | 0.243696    |"
      ]
     },
     "metadata": {},
     "output_type": "display_data"
    },
    {
     "data": {
      "text/html": [
       "<pre>| 146     | 1h 36m       | 0.458798          | 0.440648                          | 0.243696    |</pre>"
      ],
      "text/plain": [
       "| 146     | 1h 36m       | 0.458798          | 0.440648                          | 0.243696    |"
      ]
     },
     "metadata": {},
     "output_type": "display_data"
    },
    {
     "data": {
      "text/html": [
       "<pre>| 147     | 1h 36m       | 0.458371          | 0.440466                          | 0.243696    |</pre>"
      ],
      "text/plain": [
       "| 147     | 1h 36m       | 0.458371          | 0.440466                          | 0.243696    |"
      ]
     },
     "metadata": {},
     "output_type": "display_data"
    },
    {
     "data": {
      "text/html": [
       "<pre>| 148     | 1h 37m       | 0.458767          | 0.440598                          | 0.243696    |</pre>"
      ],
      "text/plain": [
       "| 148     | 1h 37m       | 0.458767          | 0.440598                          | 0.243696    |"
      ]
     },
     "metadata": {},
     "output_type": "display_data"
    },
    {
     "data": {
      "text/html": [
       "<pre>| 149     | 1h 38m       | 0.458433          | 0.440439                          | 0.243696    |</pre>"
      ],
      "text/plain": [
       "| 149     | 1h 38m       | 0.458433          | 0.440439                          | 0.243696    |"
      ]
     },
     "metadata": {},
     "output_type": "display_data"
    },
    {
     "data": {
      "text/html": [
       "<pre>| 150     | 1h 38m       | 0.458551          | 0.440514                          | 0.243696    |</pre>"
      ],
      "text/plain": [
       "| 150     | 1h 38m       | 0.458551          | 0.440514                          | 0.243696    |"
      ]
     },
     "metadata": {},
     "output_type": "display_data"
    },
    {
     "data": {
      "text/html": [
       "<pre>| 151     | 1h 39m       | 0.458674          | 0.440585                          | 0.243696    |</pre>"
      ],
      "text/plain": [
       "| 151     | 1h 39m       | 0.458674          | 0.440585                          | 0.243696    |"
      ]
     },
     "metadata": {},
     "output_type": "display_data"
    },
    {
     "data": {
      "text/html": [
       "<pre>| 152     | 1h 40m       | 0.458058          | 0.440292                          | 0.243696    |</pre>"
      ],
      "text/plain": [
       "| 152     | 1h 40m       | 0.458058          | 0.440292                          | 0.243696    |"
      ]
     },
     "metadata": {},
     "output_type": "display_data"
    },
    {
     "data": {
      "text/html": [
       "<pre>| 153     | 1h 40m       | 0.458569          | 0.440494                          | 0.243696    |</pre>"
      ],
      "text/plain": [
       "| 153     | 1h 40m       | 0.458569          | 0.440494                          | 0.243696    |"
      ]
     },
     "metadata": {},
     "output_type": "display_data"
    },
    {
     "data": {
      "text/html": [
       "<pre>| 154     | 1h 41m       | 0.458269          | 0.440113                          | 0.243696    |</pre>"
      ],
      "text/plain": [
       "| 154     | 1h 41m       | 0.458269          | 0.440113                          | 0.243696    |"
      ]
     },
     "metadata": {},
     "output_type": "display_data"
    },
    {
     "data": {
      "text/html": [
       "<pre>| 155     | 1h 41m       | 0.458464          | 0.440133                          | 0.243696    |</pre>"
      ],
      "text/plain": [
       "| 155     | 1h 41m       | 0.458464          | 0.440133                          | 0.243696    |"
      ]
     },
     "metadata": {},
     "output_type": "display_data"
    },
    {
     "data": {
      "text/html": [
       "<pre>| 156     | 1h 42m       | 0.458554          | 0.440098                          | 0.243696    |</pre>"
      ],
      "text/plain": [
       "| 156     | 1h 42m       | 0.458554          | 0.440098                          | 0.243696    |"
      ]
     },
     "metadata": {},
     "output_type": "display_data"
    },
    {
     "data": {
      "text/html": [
       "<pre>| 157     | 1h 43m       | 0.458593          | 0.439978                          | 0.243696    |</pre>"
      ],
      "text/plain": [
       "| 157     | 1h 43m       | 0.458593          | 0.439978                          | 0.243696    |"
      ]
     },
     "metadata": {},
     "output_type": "display_data"
    },
    {
     "data": {
      "text/html": [
       "<pre>| 158     | 1h 43m       | 0.458149          | 0.439873                          | 0.243696    |</pre>"
      ],
      "text/plain": [
       "| 158     | 1h 43m       | 0.458149          | 0.439873                          | 0.243696    |"
      ]
     },
     "metadata": {},
     "output_type": "display_data"
    },
    {
     "data": {
      "text/html": [
       "<pre>| 159     | 1h 44m       | 0.458369          | 0.44005                           | 0.243696    |</pre>"
      ],
      "text/plain": [
       "| 159     | 1h 44m       | 0.458369          | 0.44005                           | 0.243696    |"
      ]
     },
     "metadata": {},
     "output_type": "display_data"
    },
    {
     "data": {
      "text/html": [
       "<pre>| 160     | 1h 45m       | 0.458537          | 0.439848                          | 0.243696    |</pre>"
      ],
      "text/plain": [
       "| 160     | 1h 45m       | 0.458537          | 0.439848                          | 0.243696    |"
      ]
     },
     "metadata": {},
     "output_type": "display_data"
    },
    {
     "data": {
      "text/html": [
       "<pre>| 161     | 1h 45m       | 0.458474          | 0.439623                          | 0.243696    |</pre>"
      ],
      "text/plain": [
       "| 161     | 1h 45m       | 0.458474          | 0.439623                          | 0.243696    |"
      ]
     },
     "metadata": {},
     "output_type": "display_data"
    },
    {
     "data": {
      "text/html": [
       "<pre>| 162     | 1h 46m       | 0.458503          | 0.439593                          | 0.243696    |</pre>"
      ],
      "text/plain": [
       "| 162     | 1h 46m       | 0.458503          | 0.439593                          | 0.243696    |"
      ]
     },
     "metadata": {},
     "output_type": "display_data"
    },
    {
     "data": {
      "text/html": [
       "<pre>| 163     | 1h 47m       | 0.458257          | 0.439421                          | 0.243696    |</pre>"
      ],
      "text/plain": [
       "| 163     | 1h 47m       | 0.458257          | 0.439421                          | 0.243696    |"
      ]
     },
     "metadata": {},
     "output_type": "display_data"
    },
    {
     "data": {
      "text/html": [
       "<pre>| 164     | 1h 47m       | 0.458543          | 0.439599                          | 0.243696    |</pre>"
      ],
      "text/plain": [
       "| 164     | 1h 47m       | 0.458543          | 0.439599                          | 0.243696    |"
      ]
     },
     "metadata": {},
     "output_type": "display_data"
    },
    {
     "data": {
      "text/html": [
       "<pre>| 165     | 1h 48m       | 0.458285          | 0.439221                          | 0.243696    |</pre>"
      ],
      "text/plain": [
       "| 165     | 1h 48m       | 0.458285          | 0.439221                          | 0.243696    |"
      ]
     },
     "metadata": {},
     "output_type": "display_data"
    },
    {
     "data": {
      "text/html": [
       "<pre>| 166     | 1h 49m       | 0.458439          | 0.439226                          | 0.243696    |</pre>"
      ],
      "text/plain": [
       "| 166     | 1h 49m       | 0.458439          | 0.439226                          | 0.243696    |"
      ]
     },
     "metadata": {},
     "output_type": "display_data"
    },
    {
     "data": {
      "text/html": [
       "<pre>| 167     | 1h 49m       | 0.458349          | 0.439071                          | 0.243696    |</pre>"
      ],
      "text/plain": [
       "| 167     | 1h 49m       | 0.458349          | 0.439071                          | 0.243696    |"
      ]
     },
     "metadata": {},
     "output_type": "display_data"
    },
    {
     "data": {
      "text/html": [
       "<pre>| 168     | 1h 50m       | 0.458168          | 0.439008                          | 0.243696    |</pre>"
      ],
      "text/plain": [
       "| 168     | 1h 50m       | 0.458168          | 0.439008                          | 0.243696    |"
      ]
     },
     "metadata": {},
     "output_type": "display_data"
    },
    {
     "data": {
      "text/html": [
       "<pre>| 169     | 1h 51m       | 0.458378          | 0.439061                          | 0.243696    |</pre>"
      ],
      "text/plain": [
       "| 169     | 1h 51m       | 0.458378          | 0.439061                          | 0.243696    |"
      ]
     },
     "metadata": {},
     "output_type": "display_data"
    },
    {
     "data": {
      "text/html": [
       "<pre>| 170     | 1h 51m       | 0.458681          | 0.439198                          | 0.243696    |</pre>"
      ],
      "text/plain": [
       "| 170     | 1h 51m       | 0.458681          | 0.439198                          | 0.243696    |"
      ]
     },
     "metadata": {},
     "output_type": "display_data"
    },
    {
     "data": {
      "text/html": [
       "<pre>| 171     | 1h 52m       | 0.458214          | 0.438977                          | 0.243696    |</pre>"
      ],
      "text/plain": [
       "| 171     | 1h 52m       | 0.458214          | 0.438977                          | 0.243696    |"
      ]
     },
     "metadata": {},
     "output_type": "display_data"
    },
    {
     "data": {
      "text/html": [
       "<pre>| 172     | 1h 53m       | 0.4581            | 0.439032                          | 0.243696    |</pre>"
      ],
      "text/plain": [
       "| 172     | 1h 53m       | 0.4581            | 0.439032                          | 0.243696    |"
      ]
     },
     "metadata": {},
     "output_type": "display_data"
    },
    {
     "data": {
      "text/html": [
       "<pre>| 173     | 1h 53m       | 0.457755          | 0.438817                          | 0.243696    |</pre>"
      ],
      "text/plain": [
       "| 173     | 1h 53m       | 0.457755          | 0.438817                          | 0.243696    |"
      ]
     },
     "metadata": {},
     "output_type": "display_data"
    },
    {
     "data": {
      "text/html": [
       "<pre>| 174     | 1h 54m       | 0.457967          | 0.43896                           | 0.243696    |</pre>"
      ],
      "text/plain": [
       "| 174     | 1h 54m       | 0.457967          | 0.43896                           | 0.243696    |"
      ]
     },
     "metadata": {},
     "output_type": "display_data"
    },
    {
     "data": {
      "text/html": [
       "<pre>| 175     | 1h 54m       | 0.457718          | 0.438847                          | 0.243696    |</pre>"
      ],
      "text/plain": [
       "| 175     | 1h 54m       | 0.457718          | 0.438847                          | 0.243696    |"
      ]
     },
     "metadata": {},
     "output_type": "display_data"
    },
    {
     "data": {
      "text/html": [
       "<pre>| 176     | 1h 55m       | 0.45808           | 0.438948                          | 0.243696    |</pre>"
      ],
      "text/plain": [
       "| 176     | 1h 55m       | 0.45808           | 0.438948                          | 0.243696    |"
      ]
     },
     "metadata": {},
     "output_type": "display_data"
    },
    {
     "data": {
      "text/html": [
       "<pre>| 177     | 1h 56m       | 0.45824           | 0.438936                          | 0.243696    |</pre>"
      ],
      "text/plain": [
       "| 177     | 1h 56m       | 0.45824           | 0.438936                          | 0.243696    |"
      ]
     },
     "metadata": {},
     "output_type": "display_data"
    },
    {
     "data": {
      "text/html": [
       "<pre>| 178     | 1h 56m       | 0.457932          | 0.438708                          | 0.243696    |</pre>"
      ],
      "text/plain": [
       "| 178     | 1h 56m       | 0.457932          | 0.438708                          | 0.243696    |"
      ]
     },
     "metadata": {},
     "output_type": "display_data"
    },
    {
     "data": {
      "text/html": [
       "<pre>| 179     | 1h 57m       | 0.457868          | 0.438585                          | 0.243696    |</pre>"
      ],
      "text/plain": [
       "| 179     | 1h 57m       | 0.457868          | 0.438585                          | 0.243696    |"
      ]
     },
     "metadata": {},
     "output_type": "display_data"
    },
    {
     "data": {
      "text/html": [
       "<pre>| 180     | 1h 58m       | 0.457852          | 0.438651                          | 0.243696    |</pre>"
      ],
      "text/plain": [
       "| 180     | 1h 58m       | 0.457852          | 0.438651                          | 0.243696    |"
      ]
     },
     "metadata": {},
     "output_type": "display_data"
    },
    {
     "data": {
      "text/html": [
       "<pre>| 181     | 1h 58m       | 0.458349          | 0.438938                          | 0.243696    |</pre>"
      ],
      "text/plain": [
       "| 181     | 1h 58m       | 0.458349          | 0.438938                          | 0.243696    |"
      ]
     },
     "metadata": {},
     "output_type": "display_data"
    },
    {
     "data": {
      "text/html": [
       "<pre>| 182     | 1h 59m       | 0.458077          | 0.438625                          | 0.243696    |</pre>"
      ],
      "text/plain": [
       "| 182     | 1h 59m       | 0.458077          | 0.438625                          | 0.243696    |"
      ]
     },
     "metadata": {},
     "output_type": "display_data"
    },
    {
     "data": {
      "text/html": [
       "<pre>| 183     | 2h 0m        | 0.458344          | 0.438481                          | 0.243696    |</pre>"
      ],
      "text/plain": [
       "| 183     | 2h 0m        | 0.458344          | 0.438481                          | 0.243696    |"
      ]
     },
     "metadata": {},
     "output_type": "display_data"
    },
    {
     "data": {
      "text/html": [
       "<pre>| 184     | 2h 0m        | 0.458314          | 0.438256                          | 0.243696    |</pre>"
      ],
      "text/plain": [
       "| 184     | 2h 0m        | 0.458314          | 0.438256                          | 0.243696    |"
      ]
     },
     "metadata": {},
     "output_type": "display_data"
    },
    {
     "data": {
      "text/html": [
       "<pre>| 185     | 2h 1m        | 0.458216          | 0.438091                          | 0.243696    |</pre>"
      ],
      "text/plain": [
       "| 185     | 2h 1m        | 0.458216          | 0.438091                          | 0.243696    |"
      ]
     },
     "metadata": {},
     "output_type": "display_data"
    },
    {
     "data": {
      "text/html": [
       "<pre>| 186     | 2h 2m        | 0.45833           | 0.438124                          | 0.243696    |</pre>"
      ],
      "text/plain": [
       "| 186     | 2h 2m        | 0.45833           | 0.438124                          | 0.243696    |"
      ]
     },
     "metadata": {},
     "output_type": "display_data"
    },
    {
     "data": {
      "text/html": [
       "<pre>| 187     | 2h 2m        | 0.458257          | 0.437913                          | 0.243696    |</pre>"
      ],
      "text/plain": [
       "| 187     | 2h 2m        | 0.458257          | 0.437913                          | 0.243696    |"
      ]
     },
     "metadata": {},
     "output_type": "display_data"
    },
    {
     "data": {
      "text/html": [
       "<pre>| 188     | 2h 3m        | 0.457916          | 0.43776                           | 0.243696    |</pre>"
      ],
      "text/plain": [
       "| 188     | 2h 3m        | 0.457916          | 0.43776                           | 0.243696    |"
      ]
     },
     "metadata": {},
     "output_type": "display_data"
    },
    {
     "data": {
      "text/html": [
       "<pre>| 189     | 2h 3m        | 0.458163          | 0.437826                          | 0.243696    |</pre>"
      ],
      "text/plain": [
       "| 189     | 2h 3m        | 0.458163          | 0.437826                          | 0.243696    |"
      ]
     },
     "metadata": {},
     "output_type": "display_data"
    },
    {
     "data": {
      "text/html": [
       "<pre>| 190     | 2h 4m        | 0.45803           | 0.437775                          | 0.243696    |</pre>"
      ],
      "text/plain": [
       "| 190     | 2h 4m        | 0.45803           | 0.437775                          | 0.243696    |"
      ]
     },
     "metadata": {},
     "output_type": "display_data"
    },
    {
     "data": {
      "text/html": [
       "<pre>| 191     | 2h 5m        | 0.457643          | 0.437575                          | 0.243696    |</pre>"
      ],
      "text/plain": [
       "| 191     | 2h 5m        | 0.457643          | 0.437575                          | 0.243696    |"
      ]
     },
     "metadata": {},
     "output_type": "display_data"
    },
    {
     "data": {
      "text/html": [
       "<pre>| 192     | 2h 5m        | 0.457703          | 0.437689                          | 0.243696    |</pre>"
      ],
      "text/plain": [
       "| 192     | 2h 5m        | 0.457703          | 0.437689                          | 0.243696    |"
      ]
     },
     "metadata": {},
     "output_type": "display_data"
    },
    {
     "data": {
      "text/html": [
       "<pre>| 193     | 2h 6m        | 0.457825          | 0.43779                           | 0.243696    |</pre>"
      ],
      "text/plain": [
       "| 193     | 2h 6m        | 0.457825          | 0.43779                           | 0.243696    |"
      ]
     },
     "metadata": {},
     "output_type": "display_data"
    },
    {
     "data": {
      "text/html": [
       "<pre>| 194     | 2h 7m        | 0.457622          | 0.437675                          | 0.243696    |</pre>"
      ],
      "text/plain": [
       "| 194     | 2h 7m        | 0.457622          | 0.437675                          | 0.243696    |"
      ]
     },
     "metadata": {},
     "output_type": "display_data"
    },
    {
     "data": {
      "text/html": [
       "<pre>| 195     | 2h 7m        | 0.457601          | 0.437742                          | 0.243696    |</pre>"
      ],
      "text/plain": [
       "| 195     | 2h 7m        | 0.457601          | 0.437742                          | 0.243696    |"
      ]
     },
     "metadata": {},
     "output_type": "display_data"
    },
    {
     "data": {
      "text/html": [
       "<pre>| 196     | 2h 8m        | 0.457768          | 0.437795                          | 0.243696    |</pre>"
      ],
      "text/plain": [
       "| 196     | 2h 8m        | 0.457768          | 0.437795                          | 0.243696    |"
      ]
     },
     "metadata": {},
     "output_type": "display_data"
    },
    {
     "data": {
      "text/html": [
       "<pre>| 197     | 2h 9m        | 0.4578            | 0.437675                          | 0.243696    |</pre>"
      ],
      "text/plain": [
       "| 197     | 2h 9m        | 0.4578            | 0.437675                          | 0.243696    |"
      ]
     },
     "metadata": {},
     "output_type": "display_data"
    },
    {
     "data": {
      "text/html": [
       "<pre>| 198     | 2h 9m        | 0.457466          | 0.437452                          | 0.243696    |</pre>"
      ],
      "text/plain": [
       "| 198     | 2h 9m        | 0.457466          | 0.437452                          | 0.243696    |"
      ]
     },
     "metadata": {},
     "output_type": "display_data"
    },
    {
     "data": {
      "text/html": [
       "<pre>| 199     | 2h 10m       | 0.457703          | 0.437598                          | 0.243696    |</pre>"
      ],
      "text/plain": [
       "| 199     | 2h 10m       | 0.457703          | 0.437598                          | 0.243696    |"
      ]
     },
     "metadata": {},
     "output_type": "display_data"
    },
    {
     "data": {
      "text/html": [
       "<pre>| 200     | 2h 11m       | 0.457489          | 0.437526                          | 0.243696    |</pre>"
      ],
      "text/plain": [
       "| 200     | 2h 11m       | 0.457489          | 0.437526                          | 0.243696    |"
      ]
     },
     "metadata": {},
     "output_type": "display_data"
    },
    {
     "data": {
      "text/html": [
       "<pre>| 201     | 2h 11m       | 0.458069          | 0.437781                          | 0.243696    |</pre>"
      ],
      "text/plain": [
       "| 201     | 2h 11m       | 0.458069          | 0.437781                          | 0.243696    |"
      ]
     },
     "metadata": {},
     "output_type": "display_data"
    },
    {
     "data": {
      "text/html": [
       "<pre>| 202     | 2h 12m       | 0.457587          | 0.437494                          | 0.243696    |</pre>"
      ],
      "text/plain": [
       "| 202     | 2h 12m       | 0.457587          | 0.437494                          | 0.243696    |"
      ]
     },
     "metadata": {},
     "output_type": "display_data"
    },
    {
     "data": {
      "text/html": [
       "<pre>| 203     | 2h 13m       | 0.457692          | 0.437596                          | 0.243696    |</pre>"
      ],
      "text/plain": [
       "| 203     | 2h 13m       | 0.457692          | 0.437596                          | 0.243696    |"
      ]
     },
     "metadata": {},
     "output_type": "display_data"
    },
    {
     "data": {
      "text/html": [
       "<pre>| 204     | 2h 13m       | 0.458174          | 0.437405                          | 0.243696    |</pre>"
      ],
      "text/plain": [
       "| 204     | 2h 13m       | 0.458174          | 0.437405                          | 0.243696    |"
      ]
     },
     "metadata": {},
     "output_type": "display_data"
    },
    {
     "data": {
      "text/html": [
       "<pre>| 205     | 2h 14m       | 0.458136          | 0.437163                          | 0.243696    |</pre>"
      ],
      "text/plain": [
       "| 205     | 2h 14m       | 0.458136          | 0.437163                          | 0.243696    |"
      ]
     },
     "metadata": {},
     "output_type": "display_data"
    },
    {
     "data": {
      "text/html": [
       "<pre>| 206     | 2h 15m       | 0.45785           | 0.436923                          | 0.243696    |</pre>"
      ],
      "text/plain": [
       "| 206     | 2h 15m       | 0.45785           | 0.436923                          | 0.243696    |"
      ]
     },
     "metadata": {},
     "output_type": "display_data"
    },
    {
     "data": {
      "text/html": [
       "<pre>| 207     | 2h 15m       | 0.457631          | 0.436789                          | 0.243696    |</pre>"
      ],
      "text/plain": [
       "| 207     | 2h 15m       | 0.457631          | 0.436789                          | 0.243696    |"
      ]
     },
     "metadata": {},
     "output_type": "display_data"
    },
    {
     "data": {
      "text/html": [
       "<pre>| 208     | 2h 16m       | 0.457841          | 0.436837                          | 0.243696    |</pre>"
      ],
      "text/plain": [
       "| 208     | 2h 16m       | 0.457841          | 0.436837                          | 0.243696    |"
      ]
     },
     "metadata": {},
     "output_type": "display_data"
    },
    {
     "data": {
      "text/html": [
       "<pre>| 209     | 2h 16m       | 0.457428          | 0.436618                          | 0.243696    |</pre>"
      ],
      "text/plain": [
       "| 209     | 2h 16m       | 0.457428          | 0.436618                          | 0.243696    |"
      ]
     },
     "metadata": {},
     "output_type": "display_data"
    },
    {
     "data": {
      "text/html": [
       "<pre>| 210     | 2h 17m       | 0.457729          | 0.436776                          | 0.243696    |</pre>"
      ],
      "text/plain": [
       "| 210     | 2h 17m       | 0.457729          | 0.436776                          | 0.243696    |"
      ]
     },
     "metadata": {},
     "output_type": "display_data"
    },
    {
     "data": {
      "text/html": [
       "<pre>| 211     | 2h 18m       | 0.457599          | 0.436628                          | 0.243696    |</pre>"
      ],
      "text/plain": [
       "| 211     | 2h 18m       | 0.457599          | 0.436628                          | 0.243696    |"
      ]
     },
     "metadata": {},
     "output_type": "display_data"
    },
    {
     "data": {
      "text/html": [
       "<pre>| 212     | 2h 18m       | 0.457658          | 0.436713                          | 0.243696    |</pre>"
      ],
      "text/plain": [
       "| 212     | 2h 18m       | 0.457658          | 0.436713                          | 0.243696    |"
      ]
     },
     "metadata": {},
     "output_type": "display_data"
    },
    {
     "data": {
      "text/html": [
       "<pre>| 213     | 2h 19m       | 0.457446          | 0.43665                           | 0.243696    |</pre>"
      ],
      "text/plain": [
       "| 213     | 2h 19m       | 0.457446          | 0.43665                           | 0.243696    |"
      ]
     },
     "metadata": {},
     "output_type": "display_data"
    },
    {
     "data": {
      "text/html": [
       "<pre>| 214     | 2h 20m       | 0.45775           | 0.436834                          | 0.243696    |</pre>"
      ],
      "text/plain": [
       "| 214     | 2h 20m       | 0.45775           | 0.436834                          | 0.243696    |"
      ]
     },
     "metadata": {},
     "output_type": "display_data"
    },
    {
     "data": {
      "text/html": [
       "<pre>| 215     | 2h 20m       | 0.4573            | 0.436575                          | 0.243696    |</pre>"
      ],
      "text/plain": [
       "| 215     | 2h 20m       | 0.4573            | 0.436575                          | 0.243696    |"
      ]
     },
     "metadata": {},
     "output_type": "display_data"
    },
    {
     "data": {
      "text/html": [
       "<pre>| 216     | 2h 21m       | 0.457318          | 0.436639                          | 0.243696    |</pre>"
      ],
      "text/plain": [
       "| 216     | 2h 21m       | 0.457318          | 0.436639                          | 0.243696    |"
      ]
     },
     "metadata": {},
     "output_type": "display_data"
    },
    {
     "data": {
      "text/html": [
       "<pre>| 217     | 2h 22m       | 0.457405          | 0.436614                          | 0.243696    |</pre>"
      ],
      "text/plain": [
       "| 217     | 2h 22m       | 0.457405          | 0.436614                          | 0.243696    |"
      ]
     },
     "metadata": {},
     "output_type": "display_data"
    },
    {
     "data": {
      "text/html": [
       "<pre>| 218     | 2h 22m       | 0.45732           | 0.436542                          | 0.243696    |</pre>"
      ],
      "text/plain": [
       "| 218     | 2h 22m       | 0.45732           | 0.436542                          | 0.243696    |"
      ]
     },
     "metadata": {},
     "output_type": "display_data"
    },
    {
     "data": {
      "text/html": [
       "<pre>| 219     | 2h 23m       | 0.457279          | 0.436475                          | 0.243696    |</pre>"
      ],
      "text/plain": [
       "| 219     | 2h 23m       | 0.457279          | 0.436475                          | 0.243696    |"
      ]
     },
     "metadata": {},
     "output_type": "display_data"
    },
    {
     "data": {
      "text/html": [
       "<pre>| 220     | 2h 24m       | 0.457506          | 0.436614                          | 0.243696    |</pre>"
      ],
      "text/plain": [
       "| 220     | 2h 24m       | 0.457506          | 0.436614                          | 0.243696    |"
      ]
     },
     "metadata": {},
     "output_type": "display_data"
    },
    {
     "data": {
      "text/html": [
       "<pre>| 221     | 2h 24m       | 0.45716           | 0.43643                           | 0.243696    |</pre>"
      ],
      "text/plain": [
       "| 221     | 2h 24m       | 0.45716           | 0.43643                           | 0.243696    |"
      ]
     },
     "metadata": {},
     "output_type": "display_data"
    },
    {
     "data": {
      "text/html": [
       "<pre>| 222     | 2h 25m       | 0.457131          | 0.436472                          | 0.243696    |</pre>"
      ],
      "text/plain": [
       "| 222     | 2h 25m       | 0.457131          | 0.436472                          | 0.243696    |"
      ]
     },
     "metadata": {},
     "output_type": "display_data"
    },
    {
     "data": {
      "text/html": [
       "<pre>| 223     | 2h 26m       | 0.457299          | 0.436519                          | 0.243696    |</pre>"
      ],
      "text/plain": [
       "| 223     | 2h 26m       | 0.457299          | 0.436519                          | 0.243696    |"
      ]
     },
     "metadata": {},
     "output_type": "display_data"
    },
    {
     "data": {
      "text/html": [
       "<pre>| 224     | 2h 26m       | 0.457443          | 0.436358                          | 0.243696    |</pre>"
      ],
      "text/plain": [
       "| 224     | 2h 26m       | 0.457443          | 0.436358                          | 0.243696    |"
      ]
     },
     "metadata": {},
     "output_type": "display_data"
    },
    {
     "data": {
      "text/html": [
       "<pre>| 225     | 2h 27m       | 0.457346          | 0.43615                           | 0.243696    |</pre>"
      ],
      "text/plain": [
       "| 225     | 2h 27m       | 0.457346          | 0.43615                           | 0.243696    |"
      ]
     },
     "metadata": {},
     "output_type": "display_data"
    },
    {
     "data": {
      "text/html": [
       "<pre>| 226     | 2h 27m       | 0.457267          | 0.436069                          | 0.243696    |</pre>"
      ],
      "text/plain": [
       "| 226     | 2h 27m       | 0.457267          | 0.436069                          | 0.243696    |"
      ]
     },
     "metadata": {},
     "output_type": "display_data"
    },
    {
     "data": {
      "text/html": [
       "<pre>| 227     | 2h 28m       | 0.45756           | 0.436181                          | 0.243696    |</pre>"
      ],
      "text/plain": [
       "| 227     | 2h 28m       | 0.45756           | 0.436181                          | 0.243696    |"
      ]
     },
     "metadata": {},
     "output_type": "display_data"
    },
    {
     "data": {
      "text/html": [
       "<pre>| 228     | 2h 29m       | 0.457388          | 0.43604                           | 0.243696    |</pre>"
      ],
      "text/plain": [
       "| 228     | 2h 29m       | 0.457388          | 0.43604                           | 0.243696    |"
      ]
     },
     "metadata": {},
     "output_type": "display_data"
    },
    {
     "data": {
      "text/html": [
       "<pre>| 229     | 2h 29m       | 0.457206          | 0.435923                          | 0.243696    |</pre>"
      ],
      "text/plain": [
       "| 229     | 2h 29m       | 0.457206          | 0.435923                          | 0.243696    |"
      ]
     },
     "metadata": {},
     "output_type": "display_data"
    },
    {
     "data": {
      "text/html": [
       "<pre>| 230     | 2h 30m       | 0.457076          | 0.435946                          | 0.243696    |</pre>"
      ],
      "text/plain": [
       "| 230     | 2h 30m       | 0.457076          | 0.435946                          | 0.243696    |"
      ]
     },
     "metadata": {},
     "output_type": "display_data"
    },
    {
     "data": {
      "text/html": [
       "<pre>| 231     | 2h 31m       | 0.457016          | 0.435894                          | 0.243696    |</pre>"
      ],
      "text/plain": [
       "| 231     | 2h 31m       | 0.457016          | 0.435894                          | 0.243696    |"
      ]
     },
     "metadata": {},
     "output_type": "display_data"
    },
    {
     "data": {
      "text/html": [
       "<pre>| 232     | 2h 31m       | 0.457062          | 0.436032                          | 0.243696    |</pre>"
      ],
      "text/plain": [
       "| 232     | 2h 31m       | 0.457062          | 0.436032                          | 0.243696    |"
      ]
     },
     "metadata": {},
     "output_type": "display_data"
    },
    {
     "data": {
      "text/html": [
       "<pre>| 233     | 2h 32m       | 0.4576            | 0.436039                          | 0.243696    |</pre>"
      ],
      "text/plain": [
       "| 233     | 2h 32m       | 0.4576            | 0.436039                          | 0.243696    |"
      ]
     },
     "metadata": {},
     "output_type": "display_data"
    },
    {
     "data": {
      "text/html": [
       "<pre>| 234     | 2h 33m       | 0.457345          | 0.435728                          | 0.243696    |</pre>"
      ],
      "text/plain": [
       "| 234     | 2h 33m       | 0.457345          | 0.435728                          | 0.243696    |"
      ]
     },
     "metadata": {},
     "output_type": "display_data"
    },
    {
     "data": {
      "text/html": [
       "<pre>| 235     | 2h 33m       | 0.457322          | 0.435698                          | 0.243696    |</pre>"
      ],
      "text/plain": [
       "| 235     | 2h 33m       | 0.457322          | 0.435698                          | 0.243696    |"
      ]
     },
     "metadata": {},
     "output_type": "display_data"
    },
    {
     "data": {
      "text/html": [
       "<pre>| 236     | 2h 34m       | 0.457139          | 0.435596                          | 0.243696    |</pre>"
      ],
      "text/plain": [
       "| 236     | 2h 34m       | 0.457139          | 0.435596                          | 0.243696    |"
      ]
     },
     "metadata": {},
     "output_type": "display_data"
    },
    {
     "data": {
      "text/html": [
       "<pre>| 237     | 2h 35m       | 0.457477          | 0.435641                          | 0.243696    |</pre>"
      ],
      "text/plain": [
       "| 237     | 2h 35m       | 0.457477          | 0.435641                          | 0.243696    |"
      ]
     },
     "metadata": {},
     "output_type": "display_data"
    },
    {
     "data": {
      "text/html": [
       "<pre>| 238     | 2h 35m       | 0.457127          | 0.435434                          | 0.243696    |</pre>"
      ],
      "text/plain": [
       "| 238     | 2h 35m       | 0.457127          | 0.435434                          | 0.243696    |"
      ]
     },
     "metadata": {},
     "output_type": "display_data"
    },
    {
     "data": {
      "text/html": [
       "<pre>| 239     | 2h 36m       | 0.457302          | 0.435534                          | 0.243696    |</pre>"
      ],
      "text/plain": [
       "| 239     | 2h 36m       | 0.457302          | 0.435534                          | 0.243696    |"
      ]
     },
     "metadata": {},
     "output_type": "display_data"
    },
    {
     "data": {
      "text/html": [
       "<pre>| 240     | 2h 36m       | 0.457096          | 0.435433                          | 0.243696    |</pre>"
      ],
      "text/plain": [
       "| 240     | 2h 36m       | 0.457096          | 0.435433                          | 0.243696    |"
      ]
     },
     "metadata": {},
     "output_type": "display_data"
    },
    {
     "data": {
      "text/html": [
       "<pre>| 241     | 2h 37m       | 0.457317          | 0.435341                          | 0.243696    |</pre>"
      ],
      "text/plain": [
       "| 241     | 2h 37m       | 0.457317          | 0.435341                          | 0.243696    |"
      ]
     },
     "metadata": {},
     "output_type": "display_data"
    },
    {
     "data": {
      "text/html": [
       "<pre>| 242     | 2h 38m       | 0.457235          | 0.435164                          | 0.243696    |</pre>"
      ],
      "text/plain": [
       "| 242     | 2h 38m       | 0.457235          | 0.435164                          | 0.243696    |"
      ]
     },
     "metadata": {},
     "output_type": "display_data"
    },
    {
     "data": {
      "text/html": [
       "<pre>| 243     | 2h 38m       | 0.457433          | 0.435164                          | 0.243696    |</pre>"
      ],
      "text/plain": [
       "| 243     | 2h 38m       | 0.457433          | 0.435164                          | 0.243696    |"
      ]
     },
     "metadata": {},
     "output_type": "display_data"
    },
    {
     "data": {
      "text/html": [
       "<pre>| 244     | 2h 39m       | 0.456843          | 0.434865                          | 0.243696    |</pre>"
      ],
      "text/plain": [
       "| 244     | 2h 39m       | 0.456843          | 0.434865                          | 0.243696    |"
      ]
     },
     "metadata": {},
     "output_type": "display_data"
    },
    {
     "data": {
      "text/html": [
       "<pre>| 245     | 2h 40m       | 0.457166          | 0.435064                          | 0.243696    |</pre>"
      ],
      "text/plain": [
       "| 245     | 2h 40m       | 0.457166          | 0.435064                          | 0.243696    |"
      ]
     },
     "metadata": {},
     "output_type": "display_data"
    },
    {
     "data": {
      "text/html": [
       "<pre>| 246     | 2h 40m       | 0.457071          | 0.435003                          | 0.243696    |</pre>"
      ],
      "text/plain": [
       "| 246     | 2h 40m       | 0.457071          | 0.435003                          | 0.243696    |"
      ]
     },
     "metadata": {},
     "output_type": "display_data"
    },
    {
     "data": {
      "text/html": [
       "<pre>| 247     | 2h 41m       | 0.456821          | 0.434874                          | 0.243696    |</pre>"
      ],
      "text/plain": [
       "| 247     | 2h 41m       | 0.456821          | 0.434874                          | 0.243696    |"
      ]
     },
     "metadata": {},
     "output_type": "display_data"
    },
    {
     "data": {
      "text/html": [
       "<pre>| 248     | 2h 42m       | 0.456822          | 0.43491                           | 0.243696    |</pre>"
      ],
      "text/plain": [
       "| 248     | 2h 42m       | 0.456822          | 0.43491                           | 0.243696    |"
      ]
     },
     "metadata": {},
     "output_type": "display_data"
    },
    {
     "data": {
      "text/html": [
       "<pre>| 249     | 2h 42m       | 0.456974          | 0.435018                          | 0.243696    |</pre>"
      ],
      "text/plain": [
       "| 249     | 2h 42m       | 0.456974          | 0.435018                          | 0.243696    |"
      ]
     },
     "metadata": {},
     "output_type": "display_data"
    },
    {
     "data": {
      "text/html": [
       "<pre>| 250     | 2h 43m       | 0.456846          | 0.434959                          | 0.243696    |</pre>"
      ],
      "text/plain": [
       "| 250     | 2h 43m       | 0.456846          | 0.434959                          | 0.243696    |"
      ]
     },
     "metadata": {},
     "output_type": "display_data"
    },
    {
     "data": {
      "text/html": [
       "<pre>| 251     | 2h 43m       | 0.456857          | 0.434941                          | 0.243696    |</pre>"
      ],
      "text/plain": [
       "| 251     | 2h 43m       | 0.456857          | 0.434941                          | 0.243696    |"
      ]
     },
     "metadata": {},
     "output_type": "display_data"
    },
    {
     "data": {
      "text/html": [
       "<pre>| 252     | 2h 44m       | 0.456566          | 0.434824                          | 0.243696    |</pre>"
      ],
      "text/plain": [
       "| 252     | 2h 44m       | 0.456566          | 0.434824                          | 0.243696    |"
      ]
     },
     "metadata": {},
     "output_type": "display_data"
    },
    {
     "data": {
      "text/html": [
       "<pre>| 253     | 2h 45m       | 0.456617          | 0.434878                          | 0.243696    |</pre>"
      ],
      "text/plain": [
       "| 253     | 2h 45m       | 0.456617          | 0.434878                          | 0.243696    |"
      ]
     },
     "metadata": {},
     "output_type": "display_data"
    },
    {
     "data": {
      "text/html": [
       "<pre>| 254     | 2h 45m       | 0.456659          | 0.434902                          | 0.243696    |</pre>"
      ],
      "text/plain": [
       "| 254     | 2h 45m       | 0.456659          | 0.434902                          | 0.243696    |"
      ]
     },
     "metadata": {},
     "output_type": "display_data"
    },
    {
     "data": {
      "text/html": [
       "<pre>| 255     | 2h 46m       | 0.456855          | 0.434968                          | 0.243696    |</pre>"
      ],
      "text/plain": [
       "| 255     | 2h 46m       | 0.456855          | 0.434968                          | 0.243696    |"
      ]
     },
     "metadata": {},
     "output_type": "display_data"
    },
    {
     "data": {
      "text/html": [
       "<pre>| 256     | 2h 47m       | 0.456378          | 0.43471                           | 0.243696    |</pre>"
      ],
      "text/plain": [
       "| 256     | 2h 47m       | 0.456378          | 0.43471                           | 0.243696    |"
      ]
     },
     "metadata": {},
     "output_type": "display_data"
    },
    {
     "data": {
      "text/html": [
       "<pre>| 257     | 2h 47m       | 0.456442          | 0.434797                          | 0.243696    |</pre>"
      ],
      "text/plain": [
       "| 257     | 2h 47m       | 0.456442          | 0.434797                          | 0.243696    |"
      ]
     },
     "metadata": {},
     "output_type": "display_data"
    },
    {
     "data": {
      "text/html": [
       "<pre>| 258     | 2h 48m       | 0.456589          | 0.434735                          | 0.243696    |</pre>"
      ],
      "text/plain": [
       "| 258     | 2h 48m       | 0.456589          | 0.434735                          | 0.243696    |"
      ]
     },
     "metadata": {},
     "output_type": "display_data"
    },
    {
     "data": {
      "text/html": [
       "<pre>| 259     | 2h 49m       | 0.456665          | 0.434677                          | 0.243696    |</pre>"
      ],
      "text/plain": [
       "| 259     | 2h 49m       | 0.456665          | 0.434677                          | 0.243696    |"
      ]
     },
     "metadata": {},
     "output_type": "display_data"
    },
    {
     "data": {
      "text/html": [
       "<pre>| 260     | 2h 49m       | 0.456666          | 0.434618                          | 0.243696    |</pre>"
      ],
      "text/plain": [
       "| 260     | 2h 49m       | 0.456666          | 0.434618                          | 0.243696    |"
      ]
     },
     "metadata": {},
     "output_type": "display_data"
    },
    {
     "data": {
      "text/html": [
       "<pre>| 261     | 2h 50m       | 0.45655           | 0.43461                           | 0.243696    |</pre>"
      ],
      "text/plain": [
       "| 261     | 2h 50m       | 0.45655           | 0.43461                           | 0.243696    |"
      ]
     },
     "metadata": {},
     "output_type": "display_data"
    },
    {
     "data": {
      "text/html": [
       "<pre>| 262     | 2h 50m       | 0.456397          | 0.434548                          | 0.243696    |</pre>"
      ],
      "text/plain": [
       "| 262     | 2h 50m       | 0.456397          | 0.434548                          | 0.243696    |"
      ]
     },
     "metadata": {},
     "output_type": "display_data"
    },
    {
     "data": {
      "text/html": [
       "<pre>| 263     | 2h 51m       | 0.456486          | 0.434602                          | 0.243696    |</pre>"
      ],
      "text/plain": [
       "| 263     | 2h 51m       | 0.456486          | 0.434602                          | 0.243696    |"
      ]
     },
     "metadata": {},
     "output_type": "display_data"
    },
    {
     "data": {
      "text/html": [
       "<pre>| 264     | 2h 52m       | 0.456297          | 0.434369                          | 0.243696    |</pre>"
      ],
      "text/plain": [
       "| 264     | 2h 52m       | 0.456297          | 0.434369                          | 0.243696    |"
      ]
     },
     "metadata": {},
     "output_type": "display_data"
    },
    {
     "data": {
      "text/html": [
       "<pre>| 265     | 2h 52m       | 0.456199          | 0.434426                          | 0.243696    |</pre>"
      ],
      "text/plain": [
       "| 265     | 2h 52m       | 0.456199          | 0.434426                          | 0.243696    |"
      ]
     },
     "metadata": {},
     "output_type": "display_data"
    },
    {
     "data": {
      "text/html": [
       "<pre>| 266     | 2h 53m       | 0.456254          | 0.434491                          | 0.243696    |</pre>"
      ],
      "text/plain": [
       "| 266     | 2h 53m       | 0.456254          | 0.434491                          | 0.243696    |"
      ]
     },
     "metadata": {},
     "output_type": "display_data"
    },
    {
     "data": {
      "text/html": [
       "<pre>| 267     | 2h 54m       | 0.456039          | 0.434349                          | 0.243696    |</pre>"
      ],
      "text/plain": [
       "| 267     | 2h 54m       | 0.456039          | 0.434349                          | 0.243696    |"
      ]
     },
     "metadata": {},
     "output_type": "display_data"
    },
    {
     "data": {
      "text/html": [
       "<pre>| 268     | 2h 54m       | 0.456009          | 0.43435                           | 0.243696    |</pre>"
      ],
      "text/plain": [
       "| 268     | 2h 54m       | 0.456009          | 0.43435                           | 0.243696    |"
      ]
     },
     "metadata": {},
     "output_type": "display_data"
    },
    {
     "data": {
      "text/html": [
       "<pre>| 269     | 2h 55m       | 0.456644          | 0.434332                          | 0.243696    |</pre>"
      ],
      "text/plain": [
       "| 269     | 2h 55m       | 0.456644          | 0.434332                          | 0.243696    |"
      ]
     },
     "metadata": {},
     "output_type": "display_data"
    },
    {
     "data": {
      "text/html": [
       "<pre>| 270     | 2h 56m       | 0.456637          | 0.434046                          | 0.243696    |</pre>"
      ],
      "text/plain": [
       "| 270     | 2h 56m       | 0.456637          | 0.434046                          | 0.243696    |"
      ]
     },
     "metadata": {},
     "output_type": "display_data"
    },
    {
     "data": {
      "text/html": [
       "<pre>| 271     | 2h 56m       | 0.456663          | 0.433902                          | 0.243696    |</pre>"
      ],
      "text/plain": [
       "| 271     | 2h 56m       | 0.456663          | 0.433902                          | 0.243696    |"
      ]
     },
     "metadata": {},
     "output_type": "display_data"
    },
    {
     "data": {
      "text/html": [
       "<pre>| 272     | 2h 57m       | 0.456895          | 0.433968                          | 0.243696    |</pre>"
      ],
      "text/plain": [
       "| 272     | 2h 57m       | 0.456895          | 0.433968                          | 0.243696    |"
      ]
     },
     "metadata": {},
     "output_type": "display_data"
    },
    {
     "data": {
      "text/html": [
       "<pre>| 273     | 2h 58m       | 0.456459          | 0.433682                          | 0.243696    |</pre>"
      ],
      "text/plain": [
       "| 273     | 2h 58m       | 0.456459          | 0.433682                          | 0.243696    |"
      ]
     },
     "metadata": {},
     "output_type": "display_data"
    },
    {
     "data": {
      "text/html": [
       "<pre>| 274     | 2h 58m       | 0.456525          | 0.433657                          | 0.243696    |</pre>"
      ],
      "text/plain": [
       "| 274     | 2h 58m       | 0.456525          | 0.433657                          | 0.243696    |"
      ]
     },
     "metadata": {},
     "output_type": "display_data"
    },
    {
     "data": {
      "text/html": [
       "<pre>| 275     | 2h 59m       | 0.456689          | 0.433628                          | 0.243696    |</pre>"
      ],
      "text/plain": [
       "| 275     | 2h 59m       | 0.456689          | 0.433628                          | 0.243696    |"
      ]
     },
     "metadata": {},
     "output_type": "display_data"
    },
    {
     "data": {
      "text/html": [
       "<pre>| 276     | 2h 59m       | 0.456482          | 0.433416                          | 0.243696    |</pre>"
      ],
      "text/plain": [
       "| 276     | 2h 59m       | 0.456482          | 0.433416                          | 0.243696    |"
      ]
     },
     "metadata": {},
     "output_type": "display_data"
    },
    {
     "data": {
      "text/html": [
       "<pre>| 277     | 3h 0m        | 0.456516          | 0.433453                          | 0.243696    |</pre>"
      ],
      "text/plain": [
       "| 277     | 3h 0m        | 0.456516          | 0.433453                          | 0.243696    |"
      ]
     },
     "metadata": {},
     "output_type": "display_data"
    },
    {
     "data": {
      "text/html": [
       "<pre>| 278     | 3h 1m        | 0.456447          | 0.43339                           | 0.243696    |</pre>"
      ],
      "text/plain": [
       "| 278     | 3h 1m        | 0.456447          | 0.43339                           | 0.243696    |"
      ]
     },
     "metadata": {},
     "output_type": "display_data"
    },
    {
     "data": {
      "text/html": [
       "<pre>| 279     | 3h 1m        | 0.456549          | 0.433466                          | 0.243696    |</pre>"
      ],
      "text/plain": [
       "| 279     | 3h 1m        | 0.456549          | 0.433466                          | 0.243696    |"
      ]
     },
     "metadata": {},
     "output_type": "display_data"
    },
    {
     "data": {
      "text/html": [
       "<pre>| 280     | 3h 2m        | 0.45637           | 0.433359                          | 0.243696    |</pre>"
      ],
      "text/plain": [
       "| 280     | 3h 2m        | 0.45637           | 0.433359                          | 0.243696    |"
      ]
     },
     "metadata": {},
     "output_type": "display_data"
    },
    {
     "data": {
      "text/html": [
       "<pre>| 281     | 3h 3m        | 0.456424          | 0.433345                          | 0.243696    |</pre>"
      ],
      "text/plain": [
       "| 281     | 3h 3m        | 0.456424          | 0.433345                          | 0.243696    |"
      ]
     },
     "metadata": {},
     "output_type": "display_data"
    },
    {
     "data": {
      "text/html": [
       "<pre>| 282     | 3h 3m        | 0.456206          | 0.433293                          | 0.243696    |</pre>"
      ],
      "text/plain": [
       "| 282     | 3h 3m        | 0.456206          | 0.433293                          | 0.243696    |"
      ]
     },
     "metadata": {},
     "output_type": "display_data"
    },
    {
     "data": {
      "text/html": [
       "<pre>| 283     | 3h 4m        | 0.456467          | 0.43345                           | 0.243696    |</pre>"
      ],
      "text/plain": [
       "| 283     | 3h 4m        | 0.456467          | 0.43345                           | 0.243696    |"
      ]
     },
     "metadata": {},
     "output_type": "display_data"
    },
    {
     "data": {
      "text/html": [
       "<pre>| 284     | 3h 5m        | 0.456274          | 0.433355                          | 0.243696    |</pre>"
      ],
      "text/plain": [
       "| 284     | 3h 5m        | 0.456274          | 0.433355                          | 0.243696    |"
      ]
     },
     "metadata": {},
     "output_type": "display_data"
    },
    {
     "data": {
      "text/html": [
       "<pre>| 285     | 3h 5m        | 0.456069          | 0.433246                          | 0.243696    |</pre>"
      ],
      "text/plain": [
       "| 285     | 3h 5m        | 0.456069          | 0.433246                          | 0.243696    |"
      ]
     },
     "metadata": {},
     "output_type": "display_data"
    },
    {
     "data": {
      "text/html": [
       "<pre>| 286     | 3h 6m        | 0.456015          | 0.433243                          | 0.243696    |</pre>"
      ],
      "text/plain": [
       "| 286     | 3h 6m        | 0.456015          | 0.433243                          | 0.243696    |"
      ]
     },
     "metadata": {},
     "output_type": "display_data"
    },
    {
     "data": {
      "text/html": [
       "<pre>| 287     | 3h 7m        | 0.455924          | 0.433193                          | 0.243696    |</pre>"
      ],
      "text/plain": [
       "| 287     | 3h 7m        | 0.455924          | 0.433193                          | 0.243696    |"
      ]
     },
     "metadata": {},
     "output_type": "display_data"
    },
    {
     "data": {
      "text/html": [
       "<pre>| 288     | 3h 7m        | 0.455733          | 0.433112                          | 0.243696    |</pre>"
      ],
      "text/plain": [
       "| 288     | 3h 7m        | 0.455733          | 0.433112                          | 0.243696    |"
      ]
     },
     "metadata": {},
     "output_type": "display_data"
    },
    {
     "data": {
      "text/html": [
       "<pre>| 289     | 3h 8m        | 0.456152          | 0.433359                          | 0.243696    |</pre>"
      ],
      "text/plain": [
       "| 289     | 3h 8m        | 0.456152          | 0.433359                          | 0.243696    |"
      ]
     },
     "metadata": {},
     "output_type": "display_data"
    },
    {
     "data": {
      "text/html": [
       "<pre>| 290     | 3h 9m        | 0.455979          | 0.433112                          | 0.243696    |</pre>"
      ],
      "text/plain": [
       "| 290     | 3h 9m        | 0.455979          | 0.433112                          | 0.243696    |"
      ]
     },
     "metadata": {},
     "output_type": "display_data"
    },
    {
     "data": {
      "text/html": [
       "<pre>| 291     | 3h 9m        | 0.455884          | 0.433027                          | 0.243696    |</pre>"
      ],
      "text/plain": [
       "| 291     | 3h 9m        | 0.455884          | 0.433027                          | 0.243696    |"
      ]
     },
     "metadata": {},
     "output_type": "display_data"
    },
    {
     "data": {
      "text/html": [
       "<pre>| 292     | 3h 10m       | 0.455724          | 0.432922                          | 0.243696    |</pre>"
      ],
      "text/plain": [
       "| 292     | 3h 10m       | 0.455724          | 0.432922                          | 0.243696    |"
      ]
     },
     "metadata": {},
     "output_type": "display_data"
    },
    {
     "data": {
      "text/html": [
       "<pre>| 293     | 3h 10m       | 0.456077          | 0.433093                          | 0.243696    |</pre>"
      ],
      "text/plain": [
       "| 293     | 3h 10m       | 0.456077          | 0.433093                          | 0.243696    |"
      ]
     },
     "metadata": {},
     "output_type": "display_data"
    },
    {
     "data": {
      "text/html": [
       "<pre>| 294     | 3h 11m       | 0.455785          | 0.43295                           | 0.243696    |</pre>"
      ],
      "text/plain": [
       "| 294     | 3h 11m       | 0.455785          | 0.43295                           | 0.243696    |"
      ]
     },
     "metadata": {},
     "output_type": "display_data"
    },
    {
     "data": {
      "text/html": [
       "<pre>| 295     | 3h 12m       | 0.455911          | 0.433003                          | 0.243696    |</pre>"
      ],
      "text/plain": [
       "| 295     | 3h 12m       | 0.455911          | 0.433003                          | 0.243696    |"
      ]
     },
     "metadata": {},
     "output_type": "display_data"
    },
    {
     "data": {
      "text/html": [
       "<pre>| 296     | 3h 12m       | 0.455824          | 0.432944                          | 0.243696    |</pre>"
      ],
      "text/plain": [
       "| 296     | 3h 12m       | 0.455824          | 0.432944                          | 0.243696    |"
      ]
     },
     "metadata": {},
     "output_type": "display_data"
    },
    {
     "data": {
      "text/html": [
       "<pre>| 297     | 3h 13m       | 0.455919          | 0.43296                           | 0.243696    |</pre>"
      ],
      "text/plain": [
       "| 297     | 3h 13m       | 0.455919          | 0.43296                           | 0.243696    |"
      ]
     },
     "metadata": {},
     "output_type": "display_data"
    },
    {
     "data": {
      "text/html": [
       "<pre>| 298     | 3h 14m       | 0.455773          | 0.432884                          | 0.243696    |</pre>"
      ],
      "text/plain": [
       "| 298     | 3h 14m       | 0.455773          | 0.432884                          | 0.243696    |"
      ]
     },
     "metadata": {},
     "output_type": "display_data"
    },
    {
     "data": {
      "text/html": [
       "<pre>| 299     | 3h 14m       | 0.455535          | 0.432798                          | 0.243696    |</pre>"
      ],
      "text/plain": [
       "| 299     | 3h 14m       | 0.455535          | 0.432798                          | 0.243696    |"
      ]
     },
     "metadata": {},
     "output_type": "display_data"
    },
    {
     "data": {
      "text/html": [
       "<pre>| 300     | 3h 15m       | 0.455885          | 0.43301                           | 0.243696    |</pre>"
      ],
      "text/plain": [
       "| 300     | 3h 15m       | 0.455885          | 0.43301                           | 0.243696    |"
      ]
     },
     "metadata": {},
     "output_type": "display_data"
    },
    {
     "data": {
      "text/html": [
       "<pre>+---------+--------------+-------------------+-----------------------------------+-------------+</pre>"
      ],
      "text/plain": [
       "+---------+--------------+-------------------+-----------------------------------+-------------+"
      ]
     },
     "metadata": {},
     "output_type": "display_data"
    },
    {
     "data": {
      "text/html": [
       "<pre>Optimization Complete: Maximum number of passes through the data reached.</pre>"
      ],
      "text/plain": [
       "Optimization Complete: Maximum number of passes through the data reached."
      ]
     },
     "metadata": {},
     "output_type": "display_data"
    },
    {
     "data": {
      "text/html": [
       "<pre>Computing final objective value and training Predictive Error.</pre>"
      ],
      "text/plain": [
       "Computing final objective value and training Predictive Error."
      ]
     },
     "metadata": {},
     "output_type": "display_data"
    },
    {
     "data": {
      "text/html": [
       "<pre>       Final objective value: 0.484485</pre>"
      ],
      "text/plain": [
       "       Final objective value: 0.484485"
      ]
     },
     "metadata": {},
     "output_type": "display_data"
    },
    {
     "data": {
      "text/html": [
       "<pre>       Final training Predictive Error: 0.46161</pre>"
      ],
      "text/plain": [
       "       Final training Predictive Error: 0.46161"
      ]
     },
     "metadata": {},
     "output_type": "display_data"
    }
   ],
   "source": [
    "# training the model\n",
    "model = gl.recommender.factorization_recommender.create(kn_listen, \n",
    "                                                        binary_target = True, \n",
    "                                                        num_factors = n_factors,\n",
    "                                                        user_id = \"user_id\", \n",
    "                                                        item_id = \"media_id\", \n",
    "                                                        target  = \"is_listened\",\n",
    "                                                        user_data = user_data, \n",
    "                                                        item_data = song_data,\n",
    "                                                        max_iterations = m_epochs,\n",
    "                                                        regularization = regular)"
   ]
  },
  {
   "cell_type": "code",
   "execution_count": null,
   "metadata": {
    "collapsed": false,
    "scrolled": true
   },
   "outputs": [
    {
     "data": {
      "text/html": [
       "<div>\n",
       "<style>\n",
       "    .dataframe thead tr:only-child th {\n",
       "        text-align: right;\n",
       "    }\n",
       "\n",
       "    .dataframe thead th {\n",
       "        text-align: left;\n",
       "    }\n",
       "\n",
       "    .dataframe tbody tr th {\n",
       "        vertical-align: top;\n",
       "    }\n",
       "</style>\n",
       "<table border=\"1\" class=\"dataframe\">\n",
       "  <thead>\n",
       "    <tr style=\"text-align: right;\">\n",
       "      <th></th>\n",
       "      <th>sample_id</th>\n",
       "      <th>is_listened</th>\n",
       "    </tr>\n",
       "  </thead>\n",
       "  <tbody>\n",
       "    <tr>\n",
       "      <th>7551764</th>\n",
       "      <td>0</td>\n",
       "      <td>0.985816</td>\n",
       "    </tr>\n",
       "    <tr>\n",
       "      <th>6913498</th>\n",
       "      <td>1</td>\n",
       "      <td>0.750996</td>\n",
       "    </tr>\n",
       "    <tr>\n",
       "      <th>6529338</th>\n",
       "      <td>2</td>\n",
       "      <td>0.800969</td>\n",
       "    </tr>\n",
       "  </tbody>\n",
       "</table>\n",
       "</div>"
      ],
      "text/plain": [
       "         sample_id  is_listened\n",
       "7551764          0     0.985816\n",
       "6913498          1     0.750996\n",
       "6529338          2     0.800969"
      ]
     },
     "execution_count": 15,
     "metadata": {},
     "output_type": "execute_result"
    }
   ],
   "source": [
    "# forecasting\n",
    "pred = pd.DataFrame()\n",
    "pred[\"sample_id\"] = un.sample_id.astype(int)\n",
    "pred[\"is_listened\"] = model.predict(un_listen)\n",
    "pred = pred.sort_values(\"sample_id\")\n",
    "pred.head(3)"
   ]
  },
  {
   "cell_type": "code",
   "execution_count": null,
   "metadata": {
    "collapsed": true,
    "scrolled": true
   },
   "outputs": [],
   "source": [
    "# saving prediction vector\n",
    "pred.to_csv(path + \"pred_unknown/factorization_full_api_50f_300i.csv\", index = False)"
   ]
  }
 ],
 "metadata": {
  "anaconda-cloud": {},
  "kernelspec": {
   "display_name": "Python 2",
   "language": "python",
   "name": "python2"
  },
  "language_info": {
   "codemirror_mode": {
    "name": "ipython",
    "version": 2
   },
   "file_extension": ".py",
   "mimetype": "text/x-python",
   "name": "python",
   "nbconvert_exporter": "python",
   "pygments_lexer": "ipython2",
   "version": "2.7.13"
  }
 },
 "nbformat": 4,
 "nbformat_minor": 1
}
