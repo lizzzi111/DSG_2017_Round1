{
 "cells": [
  {
   "cell_type": "markdown",
   "metadata": {},
   "source": [
    "# LOADING"
   ]
  },
  {
   "cell_type": "code",
   "execution_count": 1,
   "metadata": {
    "collapsed": true
   },
   "outputs": [],
   "source": [
    "# import packages\n",
    "import pandas as pd\n",
    "import graphlab as gl\n",
    "from sklearn import metrics"
   ]
  },
  {
   "cell_type": "code",
   "execution_count": 2,
   "metadata": {
    "collapsed": false
   },
   "outputs": [
    {
     "data": {
      "text/plain": [
       "(2339529, 66)"
      ]
     },
     "execution_count": 2,
     "metadata": {},
     "output_type": "execute_result"
    }
   ],
   "source": [
    "# load the data\n",
    "path = \"/Users/Kozodoi/Documents/Competitions/DSG_2017/\"\n",
    "data = pd.read_csv(path + \"data/data_flow.csv\")\n",
    "data.shape"
   ]
  },
  {
   "cell_type": "markdown",
   "metadata": {},
   "source": [
    "# DATA PREPARATION"
   ]
  },
  {
   "cell_type": "code",
   "execution_count": 3,
   "metadata": {
    "collapsed": true
   },
   "outputs": [],
   "source": [
    "# adding row index\n",
    "data[\"row_index\"] = data.index"
   ]
  },
  {
   "cell_type": "code",
   "execution_count": 4,
   "metadata": {
    "collapsed": false
   },
   "outputs": [],
   "source": [
    "# separate user-level and media-level data\n",
    "user_data = data.groupby([\"user_id\"]).mean()\n",
    "user_data[\"user_id\"]= user_data.index\n",
    "#media_data = data.groupby([\"media_id\"]).mean()\n",
    "#media_data[\"media_id\"] = media_data.index"
   ]
  },
  {
   "cell_type": "code",
   "execution_count": 5,
   "metadata": {
    "collapsed": false
   },
   "outputs": [
    {
     "name": "stdout",
     "output_type": "stream",
     "text": [
      "train: (2279790, 67)\n",
      "test: (39821, 67)\n"
     ]
    }
   ],
   "source": [
    "# data partitioning\n",
    "tr = data.query(\"dataset == 'train'\")\n",
    "ts = data.query(\"dataset == 'test'\")\n",
    "\n",
    "# drop skipped songs from training\n",
    "#tr = tr.query(\"is_listened == 1\")\n",
    "\n",
    "# print data sizes\n",
    "print(\"train: \" + str(tr.shape))\n",
    "print(\"test: \"  + str(ts.shape))"
   ]
  },
  {
   "cell_type": "code",
   "execution_count": 6,
   "metadata": {
    "collapsed": false
   },
   "outputs": [
    {
     "name": "stdout",
     "output_type": "stream",
     "text": [
      "This non-commercial license of GraphLab Create for academic use is assigned to kozodoin@hu-berlin.de and will expire on May 12, 2018.\n"
     ]
    },
    {
     "name": "stderr",
     "output_type": "stream",
     "text": [
      "[INFO] graphlab.cython.cy_server: GraphLab Create v2.1 started. Logging: /tmp/graphlab_server_1494778139.log\n"
     ]
    }
   ],
   "source": [
    "# data sets with user-media interactions\n",
    "tr_listen = gl.SFrame(tr[[\"context_type\", \"user_id\", \"is_listened\"]])\n",
    "ts_listen = gl.SFrame(ts[[\"context_type\", \"user_id\", \"is_listened\"]])\n",
    "\n",
    "# data sets with user and media data\n",
    "user_data  = gl.SFrame(user_data[[\"user_id\", \"user_gender\", \"user_age\"]])\n",
    "#media_data = gl.SFrame(media_data[[\"media_id\", \"media_duration\", \"release_year\"]])"
   ]
  },
  {
   "cell_type": "markdown",
   "metadata": {},
   "source": [
    "# MODELING"
   ]
  },
  {
   "cell_type": "code",
   "execution_count": null,
   "metadata": {
    "collapsed": false,
    "scrolled": false
   },
   "outputs": [
    {
     "data": {
      "text/html": [
       "<pre>Recsys training: model = factorization_recommender</pre>"
      ],
      "text/plain": [
       "Recsys training: model = factorization_recommender"
      ]
     },
     "metadata": {},
     "output_type": "display_data"
    },
    {
     "data": {
      "text/html": [
       "<pre>Preparing data set.</pre>"
      ],
      "text/plain": [
       "Preparing data set."
      ]
     },
     "metadata": {},
     "output_type": "display_data"
    },
    {
     "data": {
      "text/html": [
       "<pre>    Data has 2279790 observations with 13250 users and 35 items.</pre>"
      ],
      "text/plain": [
       "    Data has 2279790 observations with 13250 users and 35 items."
      ]
     },
     "metadata": {},
     "output_type": "display_data"
    },
    {
     "data": {
      "text/html": [
       "<pre>    Data prepared in: 1.30432s</pre>"
      ],
      "text/plain": [
       "    Data prepared in: 1.30432s"
      ]
     },
     "metadata": {},
     "output_type": "display_data"
    },
    {
     "data": {
      "text/html": [
       "<pre>Training factorization_recommender for recommendations.</pre>"
      ],
      "text/plain": [
       "Training factorization_recommender for recommendations."
      ]
     },
     "metadata": {},
     "output_type": "display_data"
    },
    {
     "data": {
      "text/html": [
       "<pre>+--------------------------------+--------------------------------------------------+----------+</pre>"
      ],
      "text/plain": [
       "+--------------------------------+--------------------------------------------------+----------+"
      ]
     },
     "metadata": {},
     "output_type": "display_data"
    },
    {
     "data": {
      "text/html": [
       "<pre>| Parameter                      | Description                                      | Value    |</pre>"
      ],
      "text/plain": [
       "| Parameter                      | Description                                      | Value    |"
      ]
     },
     "metadata": {},
     "output_type": "display_data"
    },
    {
     "data": {
      "text/html": [
       "<pre>+--------------------------------+--------------------------------------------------+----------+</pre>"
      ],
      "text/plain": [
       "+--------------------------------+--------------------------------------------------+----------+"
      ]
     },
     "metadata": {},
     "output_type": "display_data"
    },
    {
     "data": {
      "text/html": [
       "<pre>| num_factors                    | Factor Dimension                                 | 50       |</pre>"
      ],
      "text/plain": [
       "| num_factors                    | Factor Dimension                                 | 50       |"
      ]
     },
     "metadata": {},
     "output_type": "display_data"
    },
    {
     "data": {
      "text/html": [
       "<pre>| regularization                 | L2 Regularization on Factors                     | 1e-05    |</pre>"
      ],
      "text/plain": [
       "| regularization                 | L2 Regularization on Factors                     | 1e-05    |"
      ]
     },
     "metadata": {},
     "output_type": "display_data"
    },
    {
     "data": {
      "text/html": [
       "<pre>| solver                         | Solver used for training                         | sgd      |</pre>"
      ],
      "text/plain": [
       "| solver                         | Solver used for training                         | sgd      |"
      ]
     },
     "metadata": {},
     "output_type": "display_data"
    },
    {
     "data": {
      "text/html": [
       "<pre>| linear_regularization          | L2 Regularization on Linear Coefficients         | 1e-10    |</pre>"
      ],
      "text/plain": [
       "| linear_regularization          | L2 Regularization on Linear Coefficients         | 1e-10    |"
      ]
     },
     "metadata": {},
     "output_type": "display_data"
    },
    {
     "data": {
      "text/html": [
       "<pre>| binary_target                  | Assume Binary Targets                            | True     |</pre>"
      ],
      "text/plain": [
       "| binary_target                  | Assume Binary Targets                            | True     |"
      ]
     },
     "metadata": {},
     "output_type": "display_data"
    },
    {
     "data": {
      "text/html": [
       "<pre>| max_iterations                 | Maximum Number of Iterations                     | 200      |</pre>"
      ],
      "text/plain": [
       "| max_iterations                 | Maximum Number of Iterations                     | 200      |"
      ]
     },
     "metadata": {},
     "output_type": "display_data"
    },
    {
     "data": {
      "text/html": [
       "<pre>+--------------------------------+--------------------------------------------------+----------+</pre>"
      ],
      "text/plain": [
       "+--------------------------------+--------------------------------------------------+----------+"
      ]
     },
     "metadata": {},
     "output_type": "display_data"
    },
    {
     "data": {
      "text/html": [
       "<pre>  Optimizing model using SGD; tuning step size.</pre>"
      ],
      "text/plain": [
       "  Optimizing model using SGD; tuning step size."
      ]
     },
     "metadata": {},
     "output_type": "display_data"
    },
    {
     "data": {
      "text/html": [
       "<pre>  Using 284973 / 2279790 points for tuning the step size.</pre>"
      ],
      "text/plain": [
       "  Using 284973 / 2279790 points for tuning the step size."
      ]
     },
     "metadata": {},
     "output_type": "display_data"
    },
    {
     "data": {
      "text/html": [
       "<pre>+---------+-------------------+------------------------------------------+</pre>"
      ],
      "text/plain": [
       "+---------+-------------------+------------------------------------------+"
      ]
     },
     "metadata": {},
     "output_type": "display_data"
    },
    {
     "data": {
      "text/html": [
       "<pre>| Attempt | Initial Step Size | Estimated Objective Value                |</pre>"
      ],
      "text/plain": [
       "| Attempt | Initial Step Size | Estimated Objective Value                |"
      ]
     },
     "metadata": {},
     "output_type": "display_data"
    },
    {
     "data": {
      "text/html": [
       "<pre>+---------+-------------------+------------------------------------------+</pre>"
      ],
      "text/plain": [
       "+---------+-------------------+------------------------------------------+"
      ]
     },
     "metadata": {},
     "output_type": "display_data"
    },
    {
     "data": {
      "text/html": [
       "<pre>| 0       | 3.23194           | Not Viable                               |</pre>"
      ],
      "text/plain": [
       "| 0       | 3.23194           | Not Viable                               |"
      ]
     },
     "metadata": {},
     "output_type": "display_data"
    },
    {
     "data": {
      "text/html": [
       "<pre>| 1       | 0.807986          | Not Viable                               |</pre>"
      ],
      "text/plain": [
       "| 1       | 0.807986          | Not Viable                               |"
      ]
     },
     "metadata": {},
     "output_type": "display_data"
    },
    {
     "data": {
      "text/html": [
       "<pre>| 2       | 0.201996          | 0.46834                                  |</pre>"
      ],
      "text/plain": [
       "| 2       | 0.201996          | 0.46834                                  |"
      ]
     },
     "metadata": {},
     "output_type": "display_data"
    },
    {
     "data": {
      "text/html": [
       "<pre>| 3       | 0.100998          | 0.461396                                 |</pre>"
      ],
      "text/plain": [
       "| 3       | 0.100998          | 0.461396                                 |"
      ]
     },
     "metadata": {},
     "output_type": "display_data"
    },
    {
     "data": {
      "text/html": [
       "<pre>| 4       | 0.0504991         | 0.462549                                 |</pre>"
      ],
      "text/plain": [
       "| 4       | 0.0504991         | 0.462549                                 |"
      ]
     },
     "metadata": {},
     "output_type": "display_data"
    },
    {
     "data": {
      "text/html": [
       "<pre>| 5       | 0.0252496         | 0.472362                                 |</pre>"
      ],
      "text/plain": [
       "| 5       | 0.0252496         | 0.472362                                 |"
      ]
     },
     "metadata": {},
     "output_type": "display_data"
    },
    {
     "data": {
      "text/html": [
       "<pre>| 6       | 0.0126248         | 0.472272                                 |</pre>"
      ],
      "text/plain": [
       "| 6       | 0.0126248         | 0.472272                                 |"
      ]
     },
     "metadata": {},
     "output_type": "display_data"
    },
    {
     "data": {
      "text/html": [
       "<pre>+---------+-------------------+------------------------------------------+</pre>"
      ],
      "text/plain": [
       "+---------+-------------------+------------------------------------------+"
      ]
     },
     "metadata": {},
     "output_type": "display_data"
    },
    {
     "data": {
      "text/html": [
       "<pre>| Final   | 0.100998          | 0.461396                                 |</pre>"
      ],
      "text/plain": [
       "| Final   | 0.100998          | 0.461396                                 |"
      ]
     },
     "metadata": {},
     "output_type": "display_data"
    },
    {
     "data": {
      "text/html": [
       "<pre>+---------+-------------------+------------------------------------------+</pre>"
      ],
      "text/plain": [
       "+---------+-------------------+------------------------------------------+"
      ]
     },
     "metadata": {},
     "output_type": "display_data"
    },
    {
     "data": {
      "text/html": [
       "<pre>Starting Optimization.</pre>"
      ],
      "text/plain": [
       "Starting Optimization."
      ]
     },
     "metadata": {},
     "output_type": "display_data"
    },
    {
     "data": {
      "text/html": [
       "<pre>+---------+--------------+-------------------+-----------------------------------+-------------+</pre>"
      ],
      "text/plain": [
       "+---------+--------------+-------------------+-----------------------------------+-------------+"
      ]
     },
     "metadata": {},
     "output_type": "display_data"
    },
    {
     "data": {
      "text/html": [
       "<pre>| Iter.   | Elapsed Time | Approx. Objective | Approx. Training Predictive Error | Step Size   |</pre>"
      ],
      "text/plain": [
       "| Iter.   | Elapsed Time | Approx. Objective | Approx. Training Predictive Error | Step Size   |"
      ]
     },
     "metadata": {},
     "output_type": "display_data"
    },
    {
     "data": {
      "text/html": [
       "<pre>+---------+--------------+-------------------+-----------------------------------+-------------+</pre>"
      ],
      "text/plain": [
       "+---------+--------------+-------------------+-----------------------------------+-------------+"
      ]
     },
     "metadata": {},
     "output_type": "display_data"
    },
    {
     "data": {
      "text/html": [
       "<pre>| Initial | 91us         | 0.6774            | 0.6774                            |             |</pre>"
      ],
      "text/plain": [
       "| Initial | 91us         | 0.6774            | 0.6774                            |             |"
      ]
     },
     "metadata": {},
     "output_type": "display_data"
    },
    {
     "data": {
      "text/html": [
       "<pre>+---------+--------------+-------------------+-----------------------------------+-------------+</pre>"
      ],
      "text/plain": [
       "+---------+--------------+-------------------+-----------------------------------+-------------+"
      ]
     },
     "metadata": {},
     "output_type": "display_data"
    },
    {
     "data": {
      "text/html": [
       "<pre>| 1       | 1.31s        | DIVERGED          | DIVERGED                          | 0.100998    |</pre>"
      ],
      "text/plain": [
       "| 1       | 1.31s        | DIVERGED          | DIVERGED                          | 0.100998    |"
      ]
     },
     "metadata": {},
     "output_type": "display_data"
    },
    {
     "data": {
      "text/html": [
       "<pre>| RESET   | 1.48s        | 0.677404          | 0.677404                          |             |</pre>"
      ],
      "text/plain": [
       "| RESET   | 1.48s        | 0.677404          | 0.677404                          |             |"
      ]
     },
     "metadata": {},
     "output_type": "display_data"
    },
    {
     "data": {
      "text/html": [
       "<pre>| 1       | 2.49s        | 0.531168          | 0.487889                          | 0.0504991   |</pre>"
      ],
      "text/plain": [
       "| 1       | 2.49s        | 0.531168          | 0.487889                          | 0.0504991   |"
      ]
     },
     "metadata": {},
     "output_type": "display_data"
    },
    {
     "data": {
      "text/html": [
       "<pre>| 2       | 3.51s        | 0.498089          | 0.468793                          | 0.0234741   |</pre>"
      ],
      "text/plain": [
       "| 2       | 3.51s        | 0.498089          | 0.468793                          | 0.0234741   |"
      ]
     },
     "metadata": {},
     "output_type": "display_data"
    },
    {
     "data": {
      "text/html": [
       "<pre>| 3       | 4.57s        | 0.487119          | 0.463681                          | 0.015291    |</pre>"
      ],
      "text/plain": [
       "| 3       | 4.57s        | 0.487119          | 0.463681                          | 0.015291    |"
      ]
     },
     "metadata": {},
     "output_type": "display_data"
    },
    {
     "data": {
      "text/html": [
       "<pre>| 4       | 5.62s        | 0.481885          | 0.461506                          | 0.0113384   |</pre>"
      ],
      "text/plain": [
       "| 4       | 5.62s        | 0.481885          | 0.461506                          | 0.0113384   |"
      ]
     },
     "metadata": {},
     "output_type": "display_data"
    },
    {
     "data": {
      "text/html": [
       "<pre>| 5       | 6.77s        | 0.478929          | 0.460282                          | 0.0090095   |</pre>"
      ],
      "text/plain": [
       "| 5       | 6.77s        | 0.478929          | 0.460282                          | 0.0090095   |"
      ]
     },
     "metadata": {},
     "output_type": "display_data"
    },
    {
     "data": {
      "text/html": [
       "<pre>| 6       | 7.90s        | 0.476692          | 0.459289                          | 0.0074743   |</pre>"
      ],
      "text/plain": [
       "| 6       | 7.90s        | 0.476692          | 0.459289                          | 0.0074743   |"
      ]
     },
     "metadata": {},
     "output_type": "display_data"
    },
    {
     "data": {
      "text/html": [
       "<pre>| 7       | 9.03s        | 0.475182          | 0.458611                          | 0.00638612  |</pre>"
      ],
      "text/plain": [
       "| 7       | 9.03s        | 0.475182          | 0.458611                          | 0.00638612  |"
      ]
     },
     "metadata": {},
     "output_type": "display_data"
    },
    {
     "data": {
      "text/html": [
       "<pre>| 8       | 10.11s       | 0.473899          | 0.458005                          | 0.00557452  |</pre>"
      ],
      "text/plain": [
       "| 8       | 10.11s       | 0.473899          | 0.458005                          | 0.00557452  |"
      ]
     },
     "metadata": {},
     "output_type": "display_data"
    },
    {
     "data": {
      "text/html": [
       "<pre>| 9       | 11.11s       | 0.472815          | 0.457522                          | 0.00494595  |</pre>"
      ],
      "text/plain": [
       "| 9       | 11.11s       | 0.472815          | 0.457522                          | 0.00494595  |"
      ]
     },
     "metadata": {},
     "output_type": "display_data"
    },
    {
     "data": {
      "text/html": [
       "<pre>| 10      | 12.14s       | 0.47207           | 0.457151                          | 0.00444477  |</pre>"
      ],
      "text/plain": [
       "| 10      | 12.14s       | 0.47207           | 0.457151                          | 0.00444477  |"
      ]
     },
     "metadata": {},
     "output_type": "display_data"
    },
    {
     "data": {
      "text/html": [
       "<pre>| 11      | 13.17s       | 0.471288          | 0.456802                          | 0.00403582  |</pre>"
      ],
      "text/plain": [
       "| 11      | 13.17s       | 0.471288          | 0.456802                          | 0.00403582  |"
      ]
     },
     "metadata": {},
     "output_type": "display_data"
    },
    {
     "data": {
      "text/html": [
       "<pre>| 12      | 14.43s       | 0.47072           | 0.456496                          | 0.00369578  |</pre>"
      ],
      "text/plain": [
       "| 12      | 14.43s       | 0.47072           | 0.456496                          | 0.00369578  |"
      ]
     },
     "metadata": {},
     "output_type": "display_data"
    },
    {
     "data": {
      "text/html": [
       "<pre>| 13      | 15.51s       | 0.470057          | 0.456187                          | 0.00340858  |</pre>"
      ],
      "text/plain": [
       "| 13      | 15.51s       | 0.470057          | 0.456187                          | 0.00340858  |"
      ]
     },
     "metadata": {},
     "output_type": "display_data"
    },
    {
     "data": {
      "text/html": [
       "<pre>| 14      | 16.58s       | 0.469652          | 0.455985                          | 0.00316281  |</pre>"
      ],
      "text/plain": [
       "| 14      | 16.58s       | 0.469652          | 0.455985                          | 0.00316281  |"
      ]
     },
     "metadata": {},
     "output_type": "display_data"
    },
    {
     "data": {
      "text/html": [
       "<pre>| 15      | 17.68s       | 0.469245          | 0.455782                          | 0.00295009  |</pre>"
      ],
      "text/plain": [
       "| 15      | 17.68s       | 0.469245          | 0.455782                          | 0.00295009  |"
      ]
     },
     "metadata": {},
     "output_type": "display_data"
    },
    {
     "data": {
      "text/html": [
       "<pre>| 16      | 18.73s       | 0.468869          | 0.455582                          | 0.00276418  |</pre>"
      ],
      "text/plain": [
       "| 16      | 18.73s       | 0.468869          | 0.455582                          | 0.00276418  |"
      ]
     },
     "metadata": {},
     "output_type": "display_data"
    },
    {
     "data": {
      "text/html": [
       "<pre>| 17      | 19.73s       | 0.468507          | 0.455405                          | 0.00260032  |</pre>"
      ],
      "text/plain": [
       "| 17      | 19.73s       | 0.468507          | 0.455405                          | 0.00260032  |"
      ]
     },
     "metadata": {},
     "output_type": "display_data"
    },
    {
     "data": {
      "text/html": [
       "<pre>| 18      | 20.76s       | 0.468243          | 0.455271                          | 0.00245479  |</pre>"
      ],
      "text/plain": [
       "| 18      | 20.76s       | 0.468243          | 0.455271                          | 0.00245479  |"
      ]
     },
     "metadata": {},
     "output_type": "display_data"
    },
    {
     "data": {
      "text/html": [
       "<pre>| 19      | 21.81s       | 0.468007          | 0.455129                          | 0.00232469  |</pre>"
      ],
      "text/plain": [
       "| 19      | 21.81s       | 0.468007          | 0.455129                          | 0.00232469  |"
      ]
     },
     "metadata": {},
     "output_type": "display_data"
    },
    {
     "data": {
      "text/html": [
       "<pre>| 20      | 22.86s       | 0.467683          | 0.454957                          | 0.00220769  |</pre>"
      ],
      "text/plain": [
       "| 20      | 22.86s       | 0.467683          | 0.454957                          | 0.00220769  |"
      ]
     },
     "metadata": {},
     "output_type": "display_data"
    },
    {
     "data": {
      "text/html": [
       "<pre>| 21      | 23.92s       | 0.467443          | 0.454813                          | 0.0021019   |</pre>"
      ],
      "text/plain": [
       "| 21      | 23.92s       | 0.467443          | 0.454813                          | 0.0021019   |"
      ]
     },
     "metadata": {},
     "output_type": "display_data"
    },
    {
     "data": {
      "text/html": [
       "<pre>| 22      | 24.89s       | 0.467318          | 0.454742                          | 0.00200578  |</pre>"
      ],
      "text/plain": [
       "| 22      | 24.89s       | 0.467318          | 0.454742                          | 0.00200578  |"
      ]
     },
     "metadata": {},
     "output_type": "display_data"
    },
    {
     "data": {
      "text/html": [
       "<pre>| 23      | 25.89s       | 0.467069          | 0.454598                          | 0.00191807  |</pre>"
      ],
      "text/plain": [
       "| 23      | 25.89s       | 0.467069          | 0.454598                          | 0.00191807  |"
      ]
     },
     "metadata": {},
     "output_type": "display_data"
    },
    {
     "data": {
      "text/html": [
       "<pre>| 24      | 26.86s       | 0.466871          | 0.454497                          | 0.00183771  |</pre>"
      ],
      "text/plain": [
       "| 24      | 26.86s       | 0.466871          | 0.454497                          | 0.00183771  |"
      ]
     },
     "metadata": {},
     "output_type": "display_data"
    },
    {
     "data": {
      "text/html": [
       "<pre>| 25      | 27.89s       | 0.466678          | 0.454383                          | 0.00176382  |</pre>"
      ],
      "text/plain": [
       "| 25      | 27.89s       | 0.466678          | 0.454383                          | 0.00176382  |"
      ]
     },
     "metadata": {},
     "output_type": "display_data"
    },
    {
     "data": {
      "text/html": [
       "<pre>| 26      | 28.87s       | 0.466534          | 0.454306                          | 0.00169563  |</pre>"
      ],
      "text/plain": [
       "| 26      | 28.87s       | 0.466534          | 0.454306                          | 0.00169563  |"
      ]
     },
     "metadata": {},
     "output_type": "display_data"
    },
    {
     "data": {
      "text/html": [
       "<pre>| 27      | 29.84s       | 0.466278          | 0.454153                          | 0.00163253  |</pre>"
      ],
      "text/plain": [
       "| 27      | 29.84s       | 0.466278          | 0.454153                          | 0.00163253  |"
      ]
     },
     "metadata": {},
     "output_type": "display_data"
    },
    {
     "data": {
      "text/html": [
       "<pre>| 28      | 30.82s       | 0.466173          | 0.454099                          | 0.00157395  |</pre>"
      ],
      "text/plain": [
       "| 28      | 30.82s       | 0.466173          | 0.454099                          | 0.00157395  |"
      ]
     },
     "metadata": {},
     "output_type": "display_data"
    },
    {
     "data": {
      "text/html": [
       "<pre>| 29      | 31.81s       | 0.46608           | 0.454053                          | 0.00151943  |</pre>"
      ],
      "text/plain": [
       "| 29      | 31.81s       | 0.46608           | 0.454053                          | 0.00151943  |"
      ]
     },
     "metadata": {},
     "output_type": "display_data"
    },
    {
     "data": {
      "text/html": [
       "<pre>| 30      | 32.77s       | 0.46598           | 0.453977                          | 0.00146856  |</pre>"
      ],
      "text/plain": [
       "| 30      | 32.77s       | 0.46598           | 0.453977                          | 0.00146856  |"
      ]
     },
     "metadata": {},
     "output_type": "display_data"
    },
    {
     "data": {
      "text/html": [
       "<pre>| 31      | 33.84s       | 0.465774          | 0.453873                          | 0.00142098  |</pre>"
      ],
      "text/plain": [
       "| 31      | 33.84s       | 0.465774          | 0.453873                          | 0.00142098  |"
      ]
     },
     "metadata": {},
     "output_type": "display_data"
    },
    {
     "data": {
      "text/html": [
       "<pre>| 32      | 34.83s       | 0.465658          | 0.453812                          | 0.00137639  |</pre>"
      ],
      "text/plain": [
       "| 32      | 34.83s       | 0.465658          | 0.453812                          | 0.00137639  |"
      ]
     },
     "metadata": {},
     "output_type": "display_data"
    },
    {
     "data": {
      "text/html": [
       "<pre>| 33      | 35.83s       | 0.465592          | 0.45377                           | 0.00133452  |</pre>"
      ],
      "text/plain": [
       "| 33      | 35.83s       | 0.465592          | 0.45377                           | 0.00133452  |"
      ]
     },
     "metadata": {},
     "output_type": "display_data"
    },
    {
     "data": {
      "text/html": [
       "<pre>| 34      | 36.80s       | 0.465486          | 0.45372                           | 0.00129511  |</pre>"
      ],
      "text/plain": [
       "| 34      | 36.80s       | 0.465486          | 0.45372                           | 0.00129511  |"
      ]
     },
     "metadata": {},
     "output_type": "display_data"
    },
    {
     "data": {
      "text/html": [
       "<pre>| 35      | 37.78s       | 0.465372          | 0.453649                          | 0.00125797  |</pre>"
      ],
      "text/plain": [
       "| 35      | 37.78s       | 0.465372          | 0.453649                          | 0.00125797  |"
      ]
     },
     "metadata": {},
     "output_type": "display_data"
    },
    {
     "data": {
      "text/html": [
       "<pre>| 36      | 38.77s       | 0.465258          | 0.453567                          | 0.0012229   |</pre>"
      ],
      "text/plain": [
       "| 36      | 38.77s       | 0.465258          | 0.453567                          | 0.0012229   |"
      ]
     },
     "metadata": {},
     "output_type": "display_data"
    },
    {
     "data": {
      "text/html": [
       "<pre>| 37      | 39.76s       | 0.465155          | 0.453504                          | 0.00118973  |</pre>"
      ],
      "text/plain": [
       "| 37      | 39.76s       | 0.465155          | 0.453504                          | 0.00118973  |"
      ]
     },
     "metadata": {},
     "output_type": "display_data"
    },
    {
     "data": {
      "text/html": [
       "<pre>| 38      | 40.75s       | 0.465082          | 0.45348                           | 0.00115831  |</pre>"
      ],
      "text/plain": [
       "| 38      | 40.75s       | 0.465082          | 0.45348                           | 0.00115831  |"
      ]
     },
     "metadata": {},
     "output_type": "display_data"
    },
    {
     "data": {
      "text/html": [
       "<pre>| 39      | 41.75s       | 0.465005          | 0.453427                          | 0.00112851  |</pre>"
      ],
      "text/plain": [
       "| 39      | 41.75s       | 0.465005          | 0.453427                          | 0.00112851  |"
      ]
     },
     "metadata": {},
     "output_type": "display_data"
    },
    {
     "data": {
      "text/html": [
       "<pre>| 40      | 42.75s       | 0.464899          | 0.453352                          | 0.00110021  |</pre>"
      ],
      "text/plain": [
       "| 40      | 42.75s       | 0.464899          | 0.453352                          | 0.00110021  |"
      ]
     },
     "metadata": {},
     "output_type": "display_data"
    },
    {
     "data": {
      "text/html": [
       "<pre>| 41      | 43.73s       | 0.464838          | 0.453318                          | 0.00107329  |</pre>"
      ],
      "text/plain": [
       "| 41      | 43.73s       | 0.464838          | 0.453318                          | 0.00107329  |"
      ]
     },
     "metadata": {},
     "output_type": "display_data"
    },
    {
     "data": {
      "text/html": [
       "<pre>| 42      | 44.70s       | 0.464788          | 0.453293                          | 0.00104765  |</pre>"
      ],
      "text/plain": [
       "| 42      | 44.70s       | 0.464788          | 0.453293                          | 0.00104765  |"
      ]
     },
     "metadata": {},
     "output_type": "display_data"
    },
    {
     "data": {
      "text/html": [
       "<pre>| 43      | 45.70s       | 0.464675          | 0.453227                          | 0.00102321  |</pre>"
      ],
      "text/plain": [
       "| 43      | 45.70s       | 0.464675          | 0.453227                          | 0.00102321  |"
      ]
     },
     "metadata": {},
     "output_type": "display_data"
    },
    {
     "data": {
      "text/html": [
       "<pre>| 44      | 46.67s       | 0.464618          | 0.453191                          | 0.000999888 |</pre>"
      ],
      "text/plain": [
       "| 44      | 46.67s       | 0.464618          | 0.453191                          | 0.000999888 |"
      ]
     },
     "metadata": {},
     "output_type": "display_data"
    },
    {
     "data": {
      "text/html": [
       "<pre>| 45      | 47.63s       | 0.464564          | 0.453146                          | 0.000977603 |</pre>"
      ],
      "text/plain": [
       "| 45      | 47.63s       | 0.464564          | 0.453146                          | 0.000977603 |"
      ]
     },
     "metadata": {},
     "output_type": "display_data"
    },
    {
     "data": {
      "text/html": [
       "<pre>| 46      | 48.63s       | 0.464471          | 0.453093                          | 0.00095629  |</pre>"
      ],
      "text/plain": [
       "| 46      | 48.63s       | 0.464471          | 0.453093                          | 0.00095629  |"
      ]
     },
     "metadata": {},
     "output_type": "display_data"
    },
    {
     "data": {
      "text/html": [
       "<pre>| 47      | 49.60s       | 0.464412          | 0.453064                          | 0.000935886 |</pre>"
      ],
      "text/plain": [
       "| 47      | 49.60s       | 0.464412          | 0.453064                          | 0.000935886 |"
      ]
     },
     "metadata": {},
     "output_type": "display_data"
    },
    {
     "data": {
      "text/html": [
       "<pre>| 48      | 50.57s       | 0.464335          | 0.45301                           | 0.000916335 |</pre>"
      ],
      "text/plain": [
       "| 48      | 50.57s       | 0.464335          | 0.45301                           | 0.000916335 |"
      ]
     },
     "metadata": {},
     "output_type": "display_data"
    },
    {
     "data": {
      "text/html": [
       "<pre>| 49      | 51.56s       | 0.464291          | 0.452988                          | 0.000897584 |</pre>"
      ],
      "text/plain": [
       "| 49      | 51.56s       | 0.464291          | 0.452988                          | 0.000897584 |"
      ]
     },
     "metadata": {},
     "output_type": "display_data"
    },
    {
     "data": {
      "text/html": [
       "<pre>| 50      | 52.54s       | 0.464217          | 0.452938                          | 0.000879585 |</pre>"
      ],
      "text/plain": [
       "| 50      | 52.54s       | 0.464217          | 0.452938                          | 0.000879585 |"
      ]
     },
     "metadata": {},
     "output_type": "display_data"
    },
    {
     "data": {
      "text/html": [
       "<pre>| 51      | 53.52s       | 0.464154          | 0.452896                          | 0.000862294 |</pre>"
      ],
      "text/plain": [
       "| 51      | 53.52s       | 0.464154          | 0.452896                          | 0.000862294 |"
      ]
     },
     "metadata": {},
     "output_type": "display_data"
    },
    {
     "data": {
      "text/html": [
       "<pre>| 52      | 54.48s       | 0.464119          | 0.452884                          | 0.000845669 |</pre>"
      ],
      "text/plain": [
       "| 52      | 54.48s       | 0.464119          | 0.452884                          | 0.000845669 |"
      ]
     },
     "metadata": {},
     "output_type": "display_data"
    },
    {
     "data": {
      "text/html": [
       "<pre>| 53      | 55.48s       | 0.464085          | 0.452856                          | 0.000829674 |</pre>"
      ],
      "text/plain": [
       "| 53      | 55.48s       | 0.464085          | 0.452856                          | 0.000829674 |"
      ]
     },
     "metadata": {},
     "output_type": "display_data"
    },
    {
     "data": {
      "text/html": [
       "<pre>| 54      | 56.45s       | 0.464013          | 0.452816                          | 0.000814272 |</pre>"
      ],
      "text/plain": [
       "| 54      | 56.45s       | 0.464013          | 0.452816                          | 0.000814272 |"
      ]
     },
     "metadata": {},
     "output_type": "display_data"
    },
    {
     "data": {
      "text/html": [
       "<pre>| 55      | 57.41s       | 0.463977          | 0.452801                          | 0.000799431 |</pre>"
      ],
      "text/plain": [
       "| 55      | 57.41s       | 0.463977          | 0.452801                          | 0.000799431 |"
      ]
     },
     "metadata": {},
     "output_type": "display_data"
    },
    {
     "data": {
      "text/html": [
       "<pre>| 56      | 58.38s       | 0.463923          | 0.452755                          | 0.000785122 |</pre>"
      ],
      "text/plain": [
       "| 56      | 58.38s       | 0.463923          | 0.452755                          | 0.000785122 |"
      ]
     },
     "metadata": {},
     "output_type": "display_data"
    },
    {
     "data": {
      "text/html": [
       "<pre>| 57      | 59.36s       | 0.463877          | 0.452728                          | 0.000771316 |</pre>"
      ],
      "text/plain": [
       "| 57      | 59.36s       | 0.463877          | 0.452728                          | 0.000771316 |"
      ]
     },
     "metadata": {},
     "output_type": "display_data"
    },
    {
     "data": {
      "text/html": [
       "<pre>| 58      | 1m 0s        | 0.463864          | 0.452727                          | 0.000757988 |</pre>"
      ],
      "text/plain": [
       "| 58      | 1m 0s        | 0.463864          | 0.452727                          | 0.000757988 |"
      ]
     },
     "metadata": {},
     "output_type": "display_data"
    },
    {
     "data": {
      "text/html": [
       "<pre>| 59      | 1m 1s        | 0.463797          | 0.452686                          | 0.000745112 |</pre>"
      ],
      "text/plain": [
       "| 59      | 1m 1s        | 0.463797          | 0.452686                          | 0.000745112 |"
      ]
     },
     "metadata": {},
     "output_type": "display_data"
    },
    {
     "data": {
      "text/html": [
       "<pre>| 60      | 1m 2s        | 0.463754          | 0.452658                          | 0.000732666 |</pre>"
      ],
      "text/plain": [
       "| 60      | 1m 2s        | 0.463754          | 0.452658                          | 0.000732666 |"
      ]
     },
     "metadata": {},
     "output_type": "display_data"
    },
    {
     "data": {
      "text/html": [
       "<pre>| 61      | 1m 3s        | 0.463703          | 0.452622                          | 0.000720629 |</pre>"
      ],
      "text/plain": [
       "| 61      | 1m 3s        | 0.463703          | 0.452622                          | 0.000720629 |"
      ]
     },
     "metadata": {},
     "output_type": "display_data"
    },
    {
     "data": {
      "text/html": [
       "<pre>| 62      | 1m 4s        | 0.463676          | 0.452615                          | 0.000708981 |</pre>"
      ],
      "text/plain": [
       "| 62      | 1m 4s        | 0.463676          | 0.452615                          | 0.000708981 |"
      ]
     },
     "metadata": {},
     "output_type": "display_data"
    },
    {
     "data": {
      "text/html": [
       "<pre>| 63      | 1m 5s        | 0.46364           | 0.452581                          | 0.000697704 |</pre>"
      ],
      "text/plain": [
       "| 63      | 1m 5s        | 0.46364           | 0.452581                          | 0.000697704 |"
      ]
     },
     "metadata": {},
     "output_type": "display_data"
    },
    {
     "data": {
      "text/html": [
       "<pre>| 64      | 1m 6s        | 0.463595          | 0.452557                          | 0.00068678  |</pre>"
      ],
      "text/plain": [
       "| 64      | 1m 6s        | 0.463595          | 0.452557                          | 0.00068678  |"
      ]
     },
     "metadata": {},
     "output_type": "display_data"
    },
    {
     "data": {
      "text/html": [
       "<pre>| 65      | 1m 7s        | 0.463542          | 0.452512                          | 0.000676193 |</pre>"
      ],
      "text/plain": [
       "| 65      | 1m 7s        | 0.463542          | 0.452512                          | 0.000676193 |"
      ]
     },
     "metadata": {},
     "output_type": "display_data"
    },
    {
     "data": {
      "text/html": [
       "<pre>| 66      | 1m 8s        | 0.463512          | 0.4525                            | 0.000665927 |</pre>"
      ],
      "text/plain": [
       "| 66      | 1m 8s        | 0.463512          | 0.4525                            | 0.000665927 |"
      ]
     },
     "metadata": {},
     "output_type": "display_data"
    },
    {
     "data": {
      "text/html": [
       "<pre>| 67      | 1m 9s        | 0.463465          | 0.452464                          | 0.000655968 |</pre>"
      ],
      "text/plain": [
       "| 67      | 1m 9s        | 0.463465          | 0.452464                          | 0.000655968 |"
      ]
     },
     "metadata": {},
     "output_type": "display_data"
    },
    {
     "data": {
      "text/html": [
       "<pre>| 68      | 1m 10s       | 0.463463          | 0.452477                          | 0.000646303 |</pre>"
      ],
      "text/plain": [
       "| 68      | 1m 10s       | 0.463463          | 0.452477                          | 0.000646303 |"
      ]
     },
     "metadata": {},
     "output_type": "display_data"
    },
    {
     "data": {
      "text/html": [
       "<pre>| 69      | 1m 11s       | 0.46342           | 0.45244                           | 0.000636919 |</pre>"
      ],
      "text/plain": [
       "| 69      | 1m 11s       | 0.46342           | 0.45244                           | 0.000636919 |"
      ]
     },
     "metadata": {},
     "output_type": "display_data"
    },
    {
     "data": {
      "text/html": [
       "<pre>| 70      | 1m 12s       | 0.46337           | 0.452408                          | 0.000627803 |</pre>"
      ],
      "text/plain": [
       "| 70      | 1m 12s       | 0.46337           | 0.452408                          | 0.000627803 |"
      ]
     },
     "metadata": {},
     "output_type": "display_data"
    },
    {
     "data": {
      "text/html": [
       "<pre>| 71      | 1m 13s       | 0.463334          | 0.452382                          | 0.000618944 |</pre>"
      ],
      "text/plain": [
       "| 71      | 1m 13s       | 0.463334          | 0.452382                          | 0.000618944 |"
      ]
     },
     "metadata": {},
     "output_type": "display_data"
    },
    {
     "data": {
      "text/html": [
       "<pre>| 72      | 1m 14s       | 0.463325          | 0.452381                          | 0.000610332 |</pre>"
      ],
      "text/plain": [
       "| 72      | 1m 14s       | 0.463325          | 0.452381                          | 0.000610332 |"
      ]
     },
     "metadata": {},
     "output_type": "display_data"
    },
    {
     "data": {
      "text/html": [
       "<pre>| 73      | 1m 15s       | 0.463269          | 0.452345                          | 0.000601956 |</pre>"
      ],
      "text/plain": [
       "| 73      | 1m 15s       | 0.463269          | 0.452345                          | 0.000601956 |"
      ]
     },
     "metadata": {},
     "output_type": "display_data"
    },
    {
     "data": {
      "text/html": [
       "<pre>| 74      | 1m 16s       | 0.463244          | 0.452327                          | 0.000593807 |</pre>"
      ],
      "text/plain": [
       "| 74      | 1m 16s       | 0.463244          | 0.452327                          | 0.000593807 |"
      ]
     },
     "metadata": {},
     "output_type": "display_data"
    },
    {
     "data": {
      "text/html": [
       "<pre>| 75      | 1m 17s       | 0.463227          | 0.452314                          | 0.000585876 |</pre>"
      ],
      "text/plain": [
       "| 75      | 1m 17s       | 0.463227          | 0.452314                          | 0.000585876 |"
      ]
     },
     "metadata": {},
     "output_type": "display_data"
    },
    {
     "data": {
      "text/html": [
       "<pre>| 76      | 1m 18s       | 0.463188          | 0.452291                          | 0.000578153 |</pre>"
      ],
      "text/plain": [
       "| 76      | 1m 18s       | 0.463188          | 0.452291                          | 0.000578153 |"
      ]
     },
     "metadata": {},
     "output_type": "display_data"
    },
    {
     "data": {
      "text/html": [
       "<pre>| 77      | 1m 19s       | 0.463164          | 0.452274                          | 0.000570632 |</pre>"
      ],
      "text/plain": [
       "| 77      | 1m 19s       | 0.463164          | 0.452274                          | 0.000570632 |"
      ]
     },
     "metadata": {},
     "output_type": "display_data"
    }
   ],
   "source": [
    "# training the model\n",
    "model = gl.recommender.factorization_recommender.create(tr_listen, \n",
    "                                                        binary_target = True, \n",
    "                                                        num_factors = 50,\n",
    "                                                        user_id = \"user_id\", \n",
    "                                                        item_id = \"context_type\", \n",
    "                                                        target = \"is_listened\",\n",
    "                                                        #user_data = user_data, \n",
    "                                                        #item_data = media_data,\n",
    "                                                        max_iterations = 200,\n",
    "                                                        regularization = 1e-5)"
   ]
  },
  {
   "cell_type": "markdown",
   "metadata": {},
   "source": [
    "# FORECASTING"
   ]
  },
  {
   "cell_type": "code",
   "execution_count": 164,
   "metadata": {
    "collapsed": false
   },
   "outputs": [],
   "source": [
    "# forecasting on validation\n",
    "pred = pd.DataFrame()\n",
    "pred[\"row_index\"] = ts.row_index\n",
    "pred[\"is_listened\"] = model.predict(ts_listen)\n",
    "pred.head(5)"
   ]
  },
  {
   "cell_type": "code",
   "execution_count": 165,
   "metadata": {
    "collapsed": false
   },
   "outputs": [
    {
     "data": {
      "text/plain": [
       "0.72277040611216414"
      ]
     },
     "execution_count": 165,
     "metadata": {},
     "output_type": "execute_result"
    }
   ],
   "source": [
    "# computing AUC\n",
    "metrics.roc_auc_score(ts.is_listened, ts_prediction)"
   ]
  },
  {
   "cell_type": "code",
   "execution_count": null,
   "metadata": {
    "collapsed": true
   },
   "outputs": [],
   "source": [
    "# save prediction vector\n",
    "pred.to_csv(path + \"pred_valid/factorization_context_flow_50f_200i.csv\", index = False)"
   ]
  }
 ],
 "metadata": {
  "anaconda-cloud": {},
  "kernelspec": {
   "display_name": "Python 2",
   "language": "python",
   "name": "python2"
  },
  "language_info": {
   "codemirror_mode": {
    "name": "ipython",
    "version": 2
   },
   "file_extension": ".py",
   "mimetype": "text/x-python",
   "name": "python",
   "nbconvert_exporter": "python",
   "pygments_lexer": "ipython2",
   "version": "2.7.11"
  }
 },
 "nbformat": 4,
 "nbformat_minor": 1
}
