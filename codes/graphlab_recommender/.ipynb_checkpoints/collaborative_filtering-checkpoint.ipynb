{
 "cells": [
  {
   "cell_type": "markdown",
   "metadata": {},
   "source": [
    "# LOADING"
   ]
  },
  {
   "cell_type": "code",
   "execution_count": 102,
   "metadata": {
    "collapsed": true
   },
   "outputs": [],
   "source": [
    "# import packages\n",
    "import pandas as pd\n",
    "import graphlab as gl\n",
    "from sklearn import metrics"
   ]
  },
  {
   "cell_type": "code",
   "execution_count": 49,
   "metadata": {
    "collapsed": false
   },
   "outputs": [
    {
     "data": {
      "text/plain": [
       "(2339529, 59)"
      ]
     },
     "execution_count": 49,
     "metadata": {},
     "output_type": "execute_result"
    }
   ],
   "source": [
    "# load the data\n",
    "path = \"/Users/Kozodoi/Documents/Competitions/DSG_2017/\"\n",
    "data = pd.read_csv(path + \"data/data_flow.csv\")\n",
    "data.shape"
   ]
  },
  {
   "cell_type": "markdown",
   "metadata": {},
   "source": [
    "# DATA PREPARATION"
   ]
  },
  {
   "cell_type": "code",
   "execution_count": 141,
   "metadata": {
    "collapsed": false
   },
   "outputs": [],
   "source": [
    "# separate user-level data\n",
    "user_data  = data.groupby([\"user_id\"]).mean()\n",
    "media_data = data.groupby([\"media_id\"]).mean()\n",
    "user_data[\"user_id\"]   = user_data.index\n",
    "media_data[\"media_id\"] = media_data.index"
   ]
  },
  {
   "cell_type": "code",
   "execution_count": 142,
   "metadata": {
    "collapsed": false
   },
   "outputs": [
    {
     "name": "stdout",
     "output_type": "stream",
     "text": [
      "train: (2279790, 59)\n",
      "test: (39821, 59)\n"
     ]
    }
   ],
   "source": [
    "# data partitioning\n",
    "tr = data.query(\"dataset == 'train'\")\n",
    "ts = data.query(\"dataset == 'test'\")\n",
    "\n",
    "# drop skipped songs from training\n",
    "#tr = tr.query(\"is_listened == 1\")\n",
    "\n",
    "# print data sizes\n",
    "print(\"train: \" + str(tr.shape))\n",
    "print(\"test: \"  + str(ts.shape))"
   ]
  },
  {
   "cell_type": "code",
   "execution_count": 143,
   "metadata": {
    "collapsed": false
   },
   "outputs": [],
   "source": [
    "# data sets with user-media interactions\n",
    "tr_listen = gl.SFrame(tr[[\"context_type\", \"user_id\", \"is_listened\"]])\n",
    "ts_listen = gl.SFrame(ts[[\"context_type\", \"user_id\", \"is_listened\"]])\n",
    "\n",
    "# data sets with user and media data\n",
    "user_data  = gl.SFrame(user_data[[\"user_id\", \"user_gender\", \"user_age\"]])\n",
    "media_data = gl.SFrame(media_data[[\"media_id\", \"media_duration\", \"release_year\"]])"
   ]
  },
  {
   "cell_type": "markdown",
   "metadata": {},
   "source": [
    "# MODELING"
   ]
  },
  {
   "cell_type": "code",
   "execution_count": 163,
   "metadata": {
    "collapsed": false,
    "scrolled": false
   },
   "outputs": [
    {
     "data": {
      "text/html": [
       "<pre>Recsys training: model = factorization_recommender</pre>"
      ],
      "text/plain": [
       "Recsys training: model = factorization_recommender"
      ]
     },
     "metadata": {},
     "output_type": "display_data"
    },
    {
     "data": {
      "text/html": [
       "<pre>Preparing data set.</pre>"
      ],
      "text/plain": [
       "Preparing data set."
      ]
     },
     "metadata": {},
     "output_type": "display_data"
    },
    {
     "data": {
      "text/html": [
       "<pre>    Data has 2279790 observations with 13250 users and 35 items.</pre>"
      ],
      "text/plain": [
       "    Data has 2279790 observations with 13250 users and 35 items."
      ]
     },
     "metadata": {},
     "output_type": "display_data"
    },
    {
     "data": {
      "text/html": [
       "<pre>    Data prepared in: 2.27236s</pre>"
      ],
      "text/plain": [
       "    Data prepared in: 2.27236s"
      ]
     },
     "metadata": {},
     "output_type": "display_data"
    },
    {
     "data": {
      "text/html": [
       "<pre>Training factorization_recommender for recommendations.</pre>"
      ],
      "text/plain": [
       "Training factorization_recommender for recommendations."
      ]
     },
     "metadata": {},
     "output_type": "display_data"
    },
    {
     "data": {
      "text/html": [
       "<pre>+--------------------------------+--------------------------------------------------+----------+</pre>"
      ],
      "text/plain": [
       "+--------------------------------+--------------------------------------------------+----------+"
      ]
     },
     "metadata": {},
     "output_type": "display_data"
    },
    {
     "data": {
      "text/html": [
       "<pre>| Parameter                      | Description                                      | Value    |</pre>"
      ],
      "text/plain": [
       "| Parameter                      | Description                                      | Value    |"
      ]
     },
     "metadata": {},
     "output_type": "display_data"
    },
    {
     "data": {
      "text/html": [
       "<pre>+--------------------------------+--------------------------------------------------+----------+</pre>"
      ],
      "text/plain": [
       "+--------------------------------+--------------------------------------------------+----------+"
      ]
     },
     "metadata": {},
     "output_type": "display_data"
    },
    {
     "data": {
      "text/html": [
       "<pre>| num_factors                    | Factor Dimension                                 | 40       |</pre>"
      ],
      "text/plain": [
       "| num_factors                    | Factor Dimension                                 | 40       |"
      ]
     },
     "metadata": {},
     "output_type": "display_data"
    },
    {
     "data": {
      "text/html": [
       "<pre>| regularization                 | L2 Regularization on Factors                     | 1e-05    |</pre>"
      ],
      "text/plain": [
       "| regularization                 | L2 Regularization on Factors                     | 1e-05    |"
      ]
     },
     "metadata": {},
     "output_type": "display_data"
    },
    {
     "data": {
      "text/html": [
       "<pre>| solver                         | Solver used for training                         | adagrad  |</pre>"
      ],
      "text/plain": [
       "| solver                         | Solver used for training                         | adagrad  |"
      ]
     },
     "metadata": {},
     "output_type": "display_data"
    },
    {
     "data": {
      "text/html": [
       "<pre>| linear_regularization          | L2 Regularization on Linear Coefficients         | 1e-10    |</pre>"
      ],
      "text/plain": [
       "| linear_regularization          | L2 Regularization on Linear Coefficients         | 1e-10    |"
      ]
     },
     "metadata": {},
     "output_type": "display_data"
    },
    {
     "data": {
      "text/html": [
       "<pre>| binary_target                  | Assume Binary Targets                            | True     |</pre>"
      ],
      "text/plain": [
       "| binary_target                  | Assume Binary Targets                            | True     |"
      ]
     },
     "metadata": {},
     "output_type": "display_data"
    },
    {
     "data": {
      "text/html": [
       "<pre>| max_iterations                 | Maximum Number of Iterations                     | 50       |</pre>"
      ],
      "text/plain": [
       "| max_iterations                 | Maximum Number of Iterations                     | 50       |"
      ]
     },
     "metadata": {},
     "output_type": "display_data"
    },
    {
     "data": {
      "text/html": [
       "<pre>+--------------------------------+--------------------------------------------------+----------+</pre>"
      ],
      "text/plain": [
       "+--------------------------------+--------------------------------------------------+----------+"
      ]
     },
     "metadata": {},
     "output_type": "display_data"
    },
    {
     "data": {
      "text/html": [
       "<pre>  Optimizing model using SGD; tuning step size.</pre>"
      ],
      "text/plain": [
       "  Optimizing model using SGD; tuning step size."
      ]
     },
     "metadata": {},
     "output_type": "display_data"
    },
    {
     "data": {
      "text/html": [
       "<pre>  Using 284973 / 2279790 points for tuning the step size.</pre>"
      ],
      "text/plain": [
       "  Using 284973 / 2279790 points for tuning the step size."
      ]
     },
     "metadata": {},
     "output_type": "display_data"
    },
    {
     "data": {
      "text/html": [
       "<pre>+---------+-------------------+------------------------------------------+</pre>"
      ],
      "text/plain": [
       "+---------+-------------------+------------------------------------------+"
      ]
     },
     "metadata": {},
     "output_type": "display_data"
    },
    {
     "data": {
      "text/html": [
       "<pre>| Attempt | Initial Step Size | Estimated Objective Value                |</pre>"
      ],
      "text/plain": [
       "| Attempt | Initial Step Size | Estimated Objective Value                |"
      ]
     },
     "metadata": {},
     "output_type": "display_data"
    },
    {
     "data": {
      "text/html": [
       "<pre>+---------+-------------------+------------------------------------------+</pre>"
      ],
      "text/plain": [
       "+---------+-------------------+------------------------------------------+"
      ]
     },
     "metadata": {},
     "output_type": "display_data"
    },
    {
     "data": {
      "text/html": [
       "<pre>| 0       | 3.23194           | Not Viable                               |</pre>"
      ],
      "text/plain": [
       "| 0       | 3.23194           | Not Viable                               |"
      ]
     },
     "metadata": {},
     "output_type": "display_data"
    },
    {
     "data": {
      "text/html": [
       "<pre>| 1       | 0.807986          | Not Viable                               |</pre>"
      ],
      "text/plain": [
       "| 1       | 0.807986          | Not Viable                               |"
      ]
     },
     "metadata": {},
     "output_type": "display_data"
    },
    {
     "data": {
      "text/html": [
       "<pre>| 2       | 0.201996          | No Decrease (4.29449 >= 0.677722)        |</pre>"
      ],
      "text/plain": [
       "| 2       | 0.201996          | No Decrease (4.29449 >= 0.677722)        |"
      ]
     },
     "metadata": {},
     "output_type": "display_data"
    },
    {
     "data": {
      "text/html": [
       "<pre>| 3       | 0.0504991         | 0.469493                                 |</pre>"
      ],
      "text/plain": [
       "| 3       | 0.0504991         | 0.469493                                 |"
      ]
     },
     "metadata": {},
     "output_type": "display_data"
    },
    {
     "data": {
      "text/html": [
       "<pre>| 4       | 0.0252496         | 0.464978                                 |</pre>"
      ],
      "text/plain": [
       "| 4       | 0.0252496         | 0.464978                                 |"
      ]
     },
     "metadata": {},
     "output_type": "display_data"
    },
    {
     "data": {
      "text/html": [
       "<pre>| 5       | 0.0126248         | 0.465851                                 |</pre>"
      ],
      "text/plain": [
       "| 5       | 0.0126248         | 0.465851                                 |"
      ]
     },
     "metadata": {},
     "output_type": "display_data"
    },
    {
     "data": {
      "text/html": [
       "<pre>| 6       | 0.00631239        | 0.539638                                 |</pre>"
      ],
      "text/plain": [
       "| 6       | 0.00631239        | 0.539638                                 |"
      ]
     },
     "metadata": {},
     "output_type": "display_data"
    },
    {
     "data": {
      "text/html": [
       "<pre>| 7       | 0.0031562         | 0.606056                                 |</pre>"
      ],
      "text/plain": [
       "| 7       | 0.0031562         | 0.606056                                 |"
      ]
     },
     "metadata": {},
     "output_type": "display_data"
    },
    {
     "data": {
      "text/html": [
       "<pre>+---------+-------------------+------------------------------------------+</pre>"
      ],
      "text/plain": [
       "+---------+-------------------+------------------------------------------+"
      ]
     },
     "metadata": {},
     "output_type": "display_data"
    },
    {
     "data": {
      "text/html": [
       "<pre>| Final   | 0.0252496         | 0.464978                                 |</pre>"
      ],
      "text/plain": [
       "| Final   | 0.0252496         | 0.464978                                 |"
      ]
     },
     "metadata": {},
     "output_type": "display_data"
    },
    {
     "data": {
      "text/html": [
       "<pre>+---------+-------------------+------------------------------------------+</pre>"
      ],
      "text/plain": [
       "+---------+-------------------+------------------------------------------+"
      ]
     },
     "metadata": {},
     "output_type": "display_data"
    },
    {
     "data": {
      "text/html": [
       "<pre>Starting Optimization.</pre>"
      ],
      "text/plain": [
       "Starting Optimization."
      ]
     },
     "metadata": {},
     "output_type": "display_data"
    },
    {
     "data": {
      "text/html": [
       "<pre>+---------+--------------+-------------------+-----------------------------------+-------------+</pre>"
      ],
      "text/plain": [
       "+---------+--------------+-------------------+-----------------------------------+-------------+"
      ]
     },
     "metadata": {},
     "output_type": "display_data"
    },
    {
     "data": {
      "text/html": [
       "<pre>| Iter.   | Elapsed Time | Approx. Objective | Approx. Training Predictive Error | Step Size   |</pre>"
      ],
      "text/plain": [
       "| Iter.   | Elapsed Time | Approx. Objective | Approx. Training Predictive Error | Step Size   |"
      ]
     },
     "metadata": {},
     "output_type": "display_data"
    },
    {
     "data": {
      "text/html": [
       "<pre>+---------+--------------+-------------------+-----------------------------------+-------------+</pre>"
      ],
      "text/plain": [
       "+---------+--------------+-------------------+-----------------------------------+-------------+"
      ]
     },
     "metadata": {},
     "output_type": "display_data"
    },
    {
     "data": {
      "text/html": [
       "<pre>| Initial | 93us         | 0.677408          | 0.677408                          |             |</pre>"
      ],
      "text/plain": [
       "| Initial | 93us         | 0.677408          | 0.677408                          |             |"
      ]
     },
     "metadata": {},
     "output_type": "display_data"
    },
    {
     "data": {
      "text/html": [
       "<pre>+---------+--------------+-------------------+-----------------------------------+-------------+</pre>"
      ],
      "text/plain": [
       "+---------+--------------+-------------------+-----------------------------------+-------------+"
      ]
     },
     "metadata": {},
     "output_type": "display_data"
    },
    {
     "data": {
      "text/html": [
       "<pre>| 1       | 9.62s        | 0.509611          | 0.479327                          | 0.0252496   |</pre>"
      ],
      "text/plain": [
       "| 1       | 9.62s        | 0.509611          | 0.479327                          | 0.0252496   |"
      ]
     },
     "metadata": {},
     "output_type": "display_data"
    },
    {
     "data": {
      "text/html": [
       "<pre>| 2       | 22.65s       | 0.522676          | 0.494105                          | 0.0252496   |</pre>"
      ],
      "text/plain": [
       "| 2       | 22.65s       | 0.522676          | 0.494105                          | 0.0252496   |"
      ]
     },
     "metadata": {},
     "output_type": "display_data"
    },
    {
     "data": {
      "text/html": [
       "<pre>| 3       | 36.82s       | 0.496184          | 0.468026                          | 0.0252496   |</pre>"
      ],
      "text/plain": [
       "| 3       | 36.82s       | 0.496184          | 0.468026                          | 0.0252496   |"
      ]
     },
     "metadata": {},
     "output_type": "display_data"
    },
    {
     "data": {
      "text/html": [
       "<pre>| 4       | 48.99s       | 0.486851          | 0.459038                          | 0.0252496   |</pre>"
      ],
      "text/plain": [
       "| 4       | 48.99s       | 0.486851          | 0.459038                          | 0.0252496   |"
      ]
     },
     "metadata": {},
     "output_type": "display_data"
    },
    {
     "data": {
      "text/html": [
       "<pre>| 5       | 1m 1s        | 0.483513          | 0.456094                          | 0.0252496   |</pre>"
      ],
      "text/plain": [
       "| 5       | 1m 1s        | 0.483513          | 0.456094                          | 0.0252496   |"
      ]
     },
     "metadata": {},
     "output_type": "display_data"
    },
    {
     "data": {
      "text/html": [
       "<pre>| 6       | 1m 14s       | 0.481482          | 0.45448                           | 0.0252496   |</pre>"
      ],
      "text/plain": [
       "| 6       | 1m 14s       | 0.481482          | 0.45448                           | 0.0252496   |"
      ]
     },
     "metadata": {},
     "output_type": "display_data"
    },
    {
     "data": {
      "text/html": [
       "<pre>| 7       | 1m 26s       | 0.480028          | 0.453469                          | 0.0252496   |</pre>"
      ],
      "text/plain": [
       "| 7       | 1m 26s       | 0.480028          | 0.453469                          | 0.0252496   |"
      ]
     },
     "metadata": {},
     "output_type": "display_data"
    },
    {
     "data": {
      "text/html": [
       "<pre>| 8       | 1m 39s       | 0.47884           | 0.452734                          | 0.0252496   |</pre>"
      ],
      "text/plain": [
       "| 8       | 1m 39s       | 0.47884           | 0.452734                          | 0.0252496   |"
      ]
     },
     "metadata": {},
     "output_type": "display_data"
    },
    {
     "data": {
      "text/html": [
       "<pre>| 9       | 1m 52s       | 0.4778            | 0.452153                          | 0.0252496   |</pre>"
      ],
      "text/plain": [
       "| 9       | 1m 52s       | 0.4778            | 0.452153                          | 0.0252496   |"
      ]
     },
     "metadata": {},
     "output_type": "display_data"
    },
    {
     "data": {
      "text/html": [
       "<pre>| 10      | 2m 4s        | 0.476942          | 0.451719                          | 0.0252496   |</pre>"
      ],
      "text/plain": [
       "| 10      | 2m 4s        | 0.476942          | 0.451719                          | 0.0252496   |"
      ]
     },
     "metadata": {},
     "output_type": "display_data"
    },
    {
     "data": {
      "text/html": [
       "<pre>| 11      | 2m 18s       | 0.476192          | 0.451381                          | 0.0252496   |</pre>"
      ],
      "text/plain": [
       "| 11      | 2m 18s       | 0.476192          | 0.451381                          | 0.0252496   |"
      ]
     },
     "metadata": {},
     "output_type": "display_data"
    },
    {
     "data": {
      "text/html": [
       "<pre>| 12      | 2m 34s       | 0.475503          | 0.451086                          | 0.0252496   |</pre>"
      ],
      "text/plain": [
       "| 12      | 2m 34s       | 0.475503          | 0.451086                          | 0.0252496   |"
      ]
     },
     "metadata": {},
     "output_type": "display_data"
    },
    {
     "data": {
      "text/html": [
       "<pre>| 13      | 2m 48s       | 0.474892          | 0.450844                          | 0.0252496   |</pre>"
      ],
      "text/plain": [
       "| 13      | 2m 48s       | 0.474892          | 0.450844                          | 0.0252496   |"
      ]
     },
     "metadata": {},
     "output_type": "display_data"
    },
    {
     "data": {
      "text/html": [
       "<pre>| 14      | 3m 1s        | 0.474329          | 0.450631                          | 0.0252496   |</pre>"
      ],
      "text/plain": [
       "| 14      | 3m 1s        | 0.474329          | 0.450631                          | 0.0252496   |"
      ]
     },
     "metadata": {},
     "output_type": "display_data"
    },
    {
     "data": {
      "text/html": [
       "<pre>| 15      | 3m 14s       | 0.473812          | 0.450445                          | 0.0252496   |</pre>"
      ],
      "text/plain": [
       "| 15      | 3m 14s       | 0.473812          | 0.450445                          | 0.0252496   |"
      ]
     },
     "metadata": {},
     "output_type": "display_data"
    },
    {
     "data": {
      "text/html": [
       "<pre>| 16      | 3m 27s       | 0.473343          | 0.450286                          | 0.0252496   |</pre>"
      ],
      "text/plain": [
       "| 16      | 3m 27s       | 0.473343          | 0.450286                          | 0.0252496   |"
      ]
     },
     "metadata": {},
     "output_type": "display_data"
    },
    {
     "data": {
      "text/html": [
       "<pre>| 17      | 3m 39s       | 0.472918          | 0.450159                          | 0.0252496   |</pre>"
      ],
      "text/plain": [
       "| 17      | 3m 39s       | 0.472918          | 0.450159                          | 0.0252496   |"
      ]
     },
     "metadata": {},
     "output_type": "display_data"
    },
    {
     "data": {
      "text/html": [
       "<pre>| 18      | 3m 52s       | 0.472528          | 0.450043                          | 0.0252496   |</pre>"
      ],
      "text/plain": [
       "| 18      | 3m 52s       | 0.472528          | 0.450043                          | 0.0252496   |"
      ]
     },
     "metadata": {},
     "output_type": "display_data"
    },
    {
     "data": {
      "text/html": [
       "<pre>| 19      | 4m 4s        | 0.472127          | 0.449912                          | 0.0252496   |</pre>"
      ],
      "text/plain": [
       "| 19      | 4m 4s        | 0.472127          | 0.449912                          | 0.0252496   |"
      ]
     },
     "metadata": {},
     "output_type": "display_data"
    },
    {
     "data": {
      "text/html": [
       "<pre>| 20      | 4m 18s       | 0.471805          | 0.449841                          | 0.0252496   |</pre>"
      ],
      "text/plain": [
       "| 20      | 4m 18s       | 0.471805          | 0.449841                          | 0.0252496   |"
      ]
     },
     "metadata": {},
     "output_type": "display_data"
    },
    {
     "data": {
      "text/html": [
       "<pre>| 21      | 4m 31s       | 0.471461          | 0.449739                          | 0.0252496   |</pre>"
      ],
      "text/plain": [
       "| 21      | 4m 31s       | 0.471461          | 0.449739                          | 0.0252496   |"
      ]
     },
     "metadata": {},
     "output_type": "display_data"
    },
    {
     "data": {
      "text/html": [
       "<pre>| 22      | 4m 44s       | 0.47118           | 0.449685                          | 0.0252496   |</pre>"
      ],
      "text/plain": [
       "| 22      | 4m 44s       | 0.47118           | 0.449685                          | 0.0252496   |"
      ]
     },
     "metadata": {},
     "output_type": "display_data"
    },
    {
     "data": {
      "text/html": [
       "<pre>| 23      | 4m 56s       | 0.470851          | 0.449574                          | 0.0252496   |</pre>"
      ],
      "text/plain": [
       "| 23      | 4m 56s       | 0.470851          | 0.449574                          | 0.0252496   |"
      ]
     },
     "metadata": {},
     "output_type": "display_data"
    },
    {
     "data": {
      "text/html": [
       "<pre>| 24      | 5m 10s       | 0.47062           | 0.449546                          | 0.0252496   |</pre>"
      ],
      "text/plain": [
       "| 24      | 5m 10s       | 0.47062           | 0.449546                          | 0.0252496   |"
      ]
     },
     "metadata": {},
     "output_type": "display_data"
    },
    {
     "data": {
      "text/html": [
       "<pre>| 25      | 5m 25s       | 0.470398          | 0.449512                          | 0.0252496   |</pre>"
      ],
      "text/plain": [
       "| 25      | 5m 25s       | 0.470398          | 0.449512                          | 0.0252496   |"
      ]
     },
     "metadata": {},
     "output_type": "display_data"
    },
    {
     "data": {
      "text/html": [
       "<pre>| 26      | 5m 39s       | 0.470179          | 0.44947                           | 0.0252496   |</pre>"
      ],
      "text/plain": [
       "| 26      | 5m 39s       | 0.470179          | 0.44947                           | 0.0252496   |"
      ]
     },
     "metadata": {},
     "output_type": "display_data"
    },
    {
     "data": {
      "text/html": [
       "<pre>| 27      | 5m 52s       | 0.469934          | 0.449401                          | 0.0252496   |</pre>"
      ],
      "text/plain": [
       "| 27      | 5m 52s       | 0.469934          | 0.449401                          | 0.0252496   |"
      ]
     },
     "metadata": {},
     "output_type": "display_data"
    },
    {
     "data": {
      "text/html": [
       "<pre>| 28      | 6m 4s        | 0.469728          | 0.449368                          | 0.0252496   |</pre>"
      ],
      "text/plain": [
       "| 28      | 6m 4s        | 0.469728          | 0.449368                          | 0.0252496   |"
      ]
     },
     "metadata": {},
     "output_type": "display_data"
    },
    {
     "data": {
      "text/html": [
       "<pre>| 29      | 6m 17s       | 0.469526          | 0.449322                          | 0.0252496   |</pre>"
      ],
      "text/plain": [
       "| 29      | 6m 17s       | 0.469526          | 0.449322                          | 0.0252496   |"
      ]
     },
     "metadata": {},
     "output_type": "display_data"
    },
    {
     "data": {
      "text/html": [
       "<pre>| 30      | 6m 32s       | 0.469408          | 0.449351                          | 0.0252496   |</pre>"
      ],
      "text/plain": [
       "| 30      | 6m 32s       | 0.469408          | 0.449351                          | 0.0252496   |"
      ]
     },
     "metadata": {},
     "output_type": "display_data"
    },
    {
     "data": {
      "text/html": [
       "<pre>| 31      | 6m 47s       | 0.469217          | 0.4493                            | 0.0252496   |</pre>"
      ],
      "text/plain": [
       "| 31      | 6m 47s       | 0.469217          | 0.4493                            | 0.0252496   |"
      ]
     },
     "metadata": {},
     "output_type": "display_data"
    },
    {
     "data": {
      "text/html": [
       "<pre>| 32      | 7m 1s        | 0.469084          | 0.449304                          | 0.0252496   |</pre>"
      ],
      "text/plain": [
       "| 32      | 7m 1s        | 0.469084          | 0.449304                          | 0.0252496   |"
      ]
     },
     "metadata": {},
     "output_type": "display_data"
    },
    {
     "data": {
      "text/html": [
       "<pre>| 33      | 7m 16s       | 0.468924          | 0.449273                          | 0.0252496   |</pre>"
      ],
      "text/plain": [
       "| 33      | 7m 16s       | 0.468924          | 0.449273                          | 0.0252496   |"
      ]
     },
     "metadata": {},
     "output_type": "display_data"
    },
    {
     "data": {
      "text/html": [
       "<pre>| 34      | 7m 29s       | 0.468791          | 0.449265                          | 0.0252496   |</pre>"
      ],
      "text/plain": [
       "| 34      | 7m 29s       | 0.468791          | 0.449265                          | 0.0252496   |"
      ]
     },
     "metadata": {},
     "output_type": "display_data"
    },
    {
     "data": {
      "text/html": [
       "<pre>| 35      | 7m 41s       | 0.468657          | 0.449252                          | 0.0252496   |</pre>"
      ],
      "text/plain": [
       "| 35      | 7m 41s       | 0.468657          | 0.449252                          | 0.0252496   |"
      ]
     },
     "metadata": {},
     "output_type": "display_data"
    },
    {
     "data": {
      "text/html": [
       "<pre>| 36      | 7m 54s       | 0.46855           | 0.449256                          | 0.0252496   |</pre>"
      ],
      "text/plain": [
       "| 36      | 7m 54s       | 0.46855           | 0.449256                          | 0.0252496   |"
      ]
     },
     "metadata": {},
     "output_type": "display_data"
    },
    {
     "data": {
      "text/html": [
       "<pre>| 37      | 8m 6s        | 0.468448          | 0.44926                           | 0.0252496   |</pre>"
      ],
      "text/plain": [
       "| 37      | 8m 6s        | 0.468448          | 0.44926                           | 0.0252496   |"
      ]
     },
     "metadata": {},
     "output_type": "display_data"
    },
    {
     "data": {
      "text/html": [
       "<pre>| 38      | 8m 19s       | 0.468328          | 0.449242                          | 0.0252496   |</pre>"
      ],
      "text/plain": [
       "| 38      | 8m 19s       | 0.468328          | 0.449242                          | 0.0252496   |"
      ]
     },
     "metadata": {},
     "output_type": "display_data"
    },
    {
     "data": {
      "text/html": [
       "<pre>| 39      | 8m 32s       | 0.468245          | 0.449263                          | 0.0252496   |</pre>"
      ],
      "text/plain": [
       "| 39      | 8m 32s       | 0.468245          | 0.449263                          | 0.0252496   |"
      ]
     },
     "metadata": {},
     "output_type": "display_data"
    },
    {
     "data": {
      "text/html": [
       "<pre>| 40      | 8m 44s       | 0.468128          | 0.449239                          | 0.0252496   |</pre>"
      ],
      "text/plain": [
       "| 40      | 8m 44s       | 0.468128          | 0.449239                          | 0.0252496   |"
      ]
     },
     "metadata": {},
     "output_type": "display_data"
    },
    {
     "data": {
      "text/html": [
       "<pre>| 41      | 8m 57s       | 0.468082          | 0.449283                          | 0.0252496   |</pre>"
      ],
      "text/plain": [
       "| 41      | 8m 57s       | 0.468082          | 0.449283                          | 0.0252496   |"
      ]
     },
     "metadata": {},
     "output_type": "display_data"
    },
    {
     "data": {
      "text/html": [
       "<pre>| 42      | 9m 11s       | 0.467981          | 0.449274                          | 0.0252496   |</pre>"
      ],
      "text/plain": [
       "| 42      | 9m 11s       | 0.467981          | 0.449274                          | 0.0252496   |"
      ]
     },
     "metadata": {},
     "output_type": "display_data"
    },
    {
     "data": {
      "text/html": [
       "<pre>| 43      | 9m 24s       | 0.467904          | 0.449283                          | 0.0252496   |</pre>"
      ],
      "text/plain": [
       "| 43      | 9m 24s       | 0.467904          | 0.449283                          | 0.0252496   |"
      ]
     },
     "metadata": {},
     "output_type": "display_data"
    },
    {
     "data": {
      "text/html": [
       "<pre>| 44      | 9m 38s       | 0.467835          | 0.449298                          | 0.0252496   |</pre>"
      ],
      "text/plain": [
       "| 44      | 9m 38s       | 0.467835          | 0.449298                          | 0.0252496   |"
      ]
     },
     "metadata": {},
     "output_type": "display_data"
    },
    {
     "data": {
      "text/html": [
       "<pre>| 45      | 9m 51s       | 0.467776          | 0.449312                          | 0.0252496   |</pre>"
      ],
      "text/plain": [
       "| 45      | 9m 51s       | 0.467776          | 0.449312                          | 0.0252496   |"
      ]
     },
     "metadata": {},
     "output_type": "display_data"
    },
    {
     "data": {
      "text/html": [
       "<pre>| 46      | 10m 4s       | 0.467719          | 0.449335                          | 0.0252496   |</pre>"
      ],
      "text/plain": [
       "| 46      | 10m 4s       | 0.467719          | 0.449335                          | 0.0252496   |"
      ]
     },
     "metadata": {},
     "output_type": "display_data"
    },
    {
     "data": {
      "text/html": [
       "<pre>| 47      | 10m 17s      | 0.467642          | 0.449334                          | 0.0252496   |</pre>"
      ],
      "text/plain": [
       "| 47      | 10m 17s      | 0.467642          | 0.449334                          | 0.0252496   |"
      ]
     },
     "metadata": {},
     "output_type": "display_data"
    },
    {
     "data": {
      "text/html": [
       "<pre>| 48      | 10m 29s      | 0.467605          | 0.449369                          | 0.0252496   |</pre>"
      ],
      "text/plain": [
       "| 48      | 10m 29s      | 0.467605          | 0.449369                          | 0.0252496   |"
      ]
     },
     "metadata": {},
     "output_type": "display_data"
    },
    {
     "data": {
      "text/html": [
       "<pre>| 49      | 10m 42s      | 0.467565          | 0.449396                          | 0.0252496   |</pre>"
      ],
      "text/plain": [
       "| 49      | 10m 42s      | 0.467565          | 0.449396                          | 0.0252496   |"
      ]
     },
     "metadata": {},
     "output_type": "display_data"
    },
    {
     "data": {
      "text/html": [
       "<pre>| 50      | 10m 55s      | 0.467486          | 0.44939                           | 0.0252496   |</pre>"
      ],
      "text/plain": [
       "| 50      | 10m 55s      | 0.467486          | 0.44939                           | 0.0252496   |"
      ]
     },
     "metadata": {},
     "output_type": "display_data"
    },
    {
     "data": {
      "text/html": [
       "<pre>+---------+--------------+-------------------+-----------------------------------+-------------+</pre>"
      ],
      "text/plain": [
       "+---------+--------------+-------------------+-----------------------------------+-------------+"
      ]
     },
     "metadata": {},
     "output_type": "display_data"
    },
    {
     "data": {
      "text/html": [
       "<pre>Optimization Complete: Maximum number of passes through the data reached.</pre>"
      ],
      "text/plain": [
       "Optimization Complete: Maximum number of passes through the data reached."
      ]
     },
     "metadata": {},
     "output_type": "display_data"
    },
    {
     "data": {
      "text/html": [
       "<pre>Computing final objective value and training Predictive Error.</pre>"
      ],
      "text/plain": [
       "Computing final objective value and training Predictive Error."
      ]
     },
     "metadata": {},
     "output_type": "display_data"
    },
    {
     "data": {
      "text/html": [
       "<pre>       Final objective value: 0.467547</pre>"
      ],
      "text/plain": [
       "       Final objective value: 0.467547"
      ]
     },
     "metadata": {},
     "output_type": "display_data"
    },
    {
     "data": {
      "text/html": [
       "<pre>       Final training Predictive Error: 0.449452</pre>"
      ],
      "text/plain": [
       "       Final training Predictive Error: 0.449452"
      ]
     },
     "metadata": {},
     "output_type": "display_data"
    }
   ],
   "source": [
    "# training the model\n",
    "model = gl.recommender.factorization_recommender.create(tr_listen, \n",
    "                                                        binary_target = True, \n",
    "                                                        num_factors = 50,\n",
    "                                                        user_id = \"user_id\", \n",
    "                                                        item_id = \"context_type\", \n",
    "                                                        target = \"is_listened\",\n",
    "                                                        #user_data = user_data, \n",
    "                                                        #item_data = media_data,\n",
    "                                                        max_iterations = 50,\n",
    "                                                        regularization = 1e-5)"
   ]
  },
  {
   "cell_type": "markdown",
   "metadata": {},
   "source": [
    "# FORECASTING"
   ]
  },
  {
   "cell_type": "code",
   "execution_count": 164,
   "metadata": {
    "collapsed": false
   },
   "outputs": [],
   "source": [
    "# forecasting\n",
    "ts_prediction = model.predict(ts_listen)"
   ]
  },
  {
   "cell_type": "code",
   "execution_count": 165,
   "metadata": {
    "collapsed": false
   },
   "outputs": [
    {
     "data": {
      "text/plain": [
       "0.72277040611216414"
      ]
     },
     "execution_count": 165,
     "metadata": {},
     "output_type": "execute_result"
    }
   ],
   "source": [
    "# computing AUC\n",
    "metrics.roc_auc_score(ts.is_listened, ts_prediction)"
   ]
  },
  {
   "cell_type": "code",
   "execution_count": null,
   "metadata": {
    "collapsed": true
   },
   "outputs": [],
   "source": []
  }
 ],
 "metadata": {
  "anaconda-cloud": {},
  "kernelspec": {
   "display_name": "Python 2",
   "language": "python",
   "name": "python2"
  },
  "language_info": {
   "codemirror_mode": {
    "name": "ipython",
    "version": 2
   },
   "file_extension": ".py",
   "mimetype": "text/x-python",
   "name": "python",
   "nbconvert_exporter": "python",
   "pygments_lexer": "ipython2",
   "version": "2.7.11"
  }
 },
 "nbformat": 4,
 "nbformat_minor": 1
}
