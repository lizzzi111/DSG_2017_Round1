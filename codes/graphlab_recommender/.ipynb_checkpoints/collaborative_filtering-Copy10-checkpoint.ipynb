{
 "cells": [
  {
   "cell_type": "markdown",
   "metadata": {},
   "source": [
    "# 1. LOADING"
   ]
  },
  {
   "cell_type": "code",
   "execution_count": 1,
   "metadata": {
    "collapsed": false,
    "scrolled": true
   },
   "outputs": [],
   "source": [
    "# import packages\n",
    "import pandas as pd\n",
    "import graphlab as gl\n",
    "from sklearn import metrics\n",
    "from scipy import stats"
   ]
  },
  {
   "cell_type": "code",
   "execution_count": 20,
   "metadata": {
    "collapsed": false,
    "scrolled": true
   },
   "outputs": [
    {
     "data": {
      "text/plain": [
       "(7578752, 66)"
      ]
     },
     "execution_count": 20,
     "metadata": {},
     "output_type": "execute_result"
    }
   ],
   "source": [
    "# load the data\n",
    "path = \"/Users/Kozodoi/Documents/Competitions/DSG_2017/\"\n",
    "data = pd.read_csv(path + \"data/data_flow.csv\")\n",
    "data.shape"
   ]
  },
  {
   "cell_type": "code",
   "execution_count": 21,
   "metadata": {
    "collapsed": true
   },
   "outputs": [],
   "source": [
    "# print variable names\n",
    "data.columns"
   ]
  },
  {
   "cell_type": "markdown",
   "metadata": {},
   "source": [
    "# 2. DATA PREPARATION"
   ]
  },
  {
   "cell_type": "code",
   "execution_count": 23,
   "metadata": {
    "collapsed": false
   },
   "outputs": [],
   "source": [
    "# converting factors to strings\n",
    "data[\"user_id\"]   = data.user_id.astype(str)\n",
    "data[\"media_id\"]  = data.media_id.astype(str)\n",
    "data[\"album_id\"]  = data.album_id.astype(str)\n",
    "data[\"artist_id\"] = data.artist_id.astype(str)\n",
    "data[\"genre_id\"]  = data.genre_id.astype(str)\n",
    "data[\"context_type\"]    = data.context_type.astype(str)\n",
    "data[\"listen_type\"]     = data.listen_type.astype(str)\n",
    "data[\"first_flow\"]      = data.first_flow.astype(str)\n",
    "data[\"platform_name\"]   = data.platform_name.astype(str)\n",
    "data[\"platform_family\"] = data.platform_family.astype(str)\n",
    "data[\"user_gender\"]  = data.user_gender.astype(str)\n",
    "data[\"release_year\"] = data.release_year.astype(str)\n",
    "data[\"hour_of_day\"]  = data.hour_of_day.astype(str)\n",
    "data[\"weekday\"]      = data.weekday.astype(str)\n",
    "data[\"favorite_artist\"] = data.favorite_artist.astype(str)\n",
    "data[\"favorite_album\"]  = data.favorite_album.astype(str)\n",
    "data[\"song_lyrics_explicit\"]  = data.song_lyrics_explicit.astype(str)"
   ]
  },
  {
   "cell_type": "code",
   "execution_count": 24,
   "metadata": {
    "collapsed": false,
    "scrolled": true
   },
   "outputs": [
    {
     "name": "stdout",
     "output_type": "stream",
     "text": [
      "train: (7519013, 67)\n",
      "test: (39821, 67)\n",
      "known: (7558834, 67)\n",
      "unknown: (19918, 67)\n"
     ]
    }
   ],
   "source": [
    "# data partitioning\n",
    "tr = data.query(\"dataset == 'train'\")\n",
    "ts = data.query(\"dataset == 'test'\")\n",
    "kn = data.query(\"dataset != 'unknown'\")\n",
    "un = data.query(\"dataset == 'unknown'\")\n",
    "\n",
    "# drop skipped songs from training\n",
    "#tr = tr.query(\"is_listened == 1\")\n",
    "\n",
    "# print data sizes\n",
    "print(\"train: \"   + str(tr.shape))\n",
    "print(\"test: \"    + str(ts.shape))\n",
    "print(\"known: \"   + str(kn.shape))\n",
    "print(\"unknown: \" + str(un.shape))"
   ]
  },
  {
   "cell_type": "code",
   "execution_count": 7,
   "metadata": {
    "collapsed": false,
    "scrolled": true
   },
   "outputs": [
    {
     "name": "stdout",
     "output_type": "stream",
     "text": [
      "This non-commercial license of GraphLab Create for academic use is assigned to kozodoin@hu-berlin.de and will expire on May 12, 2018.\n"
     ]
    },
    {
     "name": "stderr",
     "output_type": "stream",
     "text": [
      "[INFO] graphlab.cython.cy_server: GraphLab Create v2.1 started. Logging: /tmp/graphlab_server_1494841873.log\n"
     ]
    }
   ],
   "source": [
    "# data sets with user-media interactions\n",
    "tr_listen = gl.SFrame(tr[[\"media_id\", \"user_id\", \"is_listened\", \"context_type\", \"platform_name\",\n",
    "                         \"favorite_artist\", \"favorite_album\"]])\n",
    "ts_listen = gl.SFrame(ts[[\"media_id\", \"user_id\", \"is_listened\", \"context_type\", \"platform_name\",\n",
    "                         \"favorite_artist\", \"favorite_album\"]])\n",
    "kn_listen = gl.SFrame(kn[[\"media_id\", \"user_id\", \"is_listened\", \"context_type\", \"platform_name\",\n",
    "                         \"favorite_artist\", \"favorite_album\"]])\n",
    "un_listen = gl.SFrame(un[[\"media_id\", \"user_id\", \"is_listened\", \"context_type\", \"platform_name\",\n",
    "                         \"favorite_artist\", \"favorite_album\"]])"
   ]
  },
  {
   "cell_type": "code",
   "execution_count": 25,
   "metadata": {
    "collapsed": false
   },
   "outputs": [],
   "source": [
    "# additional user-level and media-level data\n",
    "user_data = data.groupby([\"user_id\"]).head(1)\n",
    "song_data = data.groupby([\"media_id\"]).head(1)\n",
    "\n",
    "# clearing the memory\n",
    "data = \"Null\"\n",
    "tr   = \"Null\"\n",
    "kn   = \"Null\"\n",
    "\n",
    "# converting data sets\n",
    "user_data = gl.SFrame(user_data[[\"user_id\", \"user_gender\", \"user_age\", \"user_ratio_flow\", \"user_ratio_full\"]])\n",
    "song_data = gl.SFrame(song_data[[\"media_id\", \"genre_id\", \"artist_id\", \"release_year\", \"media_duration\",\n",
    "                                 \"song_lyrics_explicit\", \"song_bpm\", \"song_rank\", \"album_fans\"]])"
   ]
  },
  {
   "cell_type": "markdown",
   "metadata": {},
   "source": [
    "# 3. MODELING"
   ]
  },
  {
   "cell_type": "code",
   "execution_count": 17,
   "metadata": {
    "collapsed": true
   },
   "outputs": [],
   "source": [
    "# model parameters\n",
    "n_factors = 75\n",
    "m_epochs = 300\n",
    "regular = 1e-5"
   ]
  },
  {
   "cell_type": "markdown",
   "metadata": {},
   "source": [
    "## 3.1. TRAINING-VALIDATION"
   ]
  },
  {
   "cell_type": "code",
   "execution_count": 18,
   "metadata": {
    "collapsed": false
   },
   "outputs": [
    {
     "data": {
      "text/html": [
       "<pre>Recsys training: model = factorization_recommender</pre>"
      ],
      "text/plain": [
       "Recsys training: model = factorization_recommender"
      ]
     },
     "metadata": {},
     "output_type": "display_data"
    },
    {
     "data": {
      "text/html": [
       "<pre>Preparing data set.</pre>"
      ],
      "text/plain": [
       "Preparing data set."
      ]
     },
     "metadata": {},
     "output_type": "display_data"
    },
    {
     "data": {
      "text/html": [
       "<pre>    Data has 7519013 observations with 19505 users and 247038 items.</pre>"
      ],
      "text/plain": [
       "    Data has 7519013 observations with 19505 users and 247038 items."
      ]
     },
     "metadata": {},
     "output_type": "display_data"
    },
    {
     "data": {
      "text/html": [
       "<pre>    Data prepared in: 8.01429s</pre>"
      ],
      "text/plain": [
       "    Data prepared in: 8.01429s"
      ]
     },
     "metadata": {},
     "output_type": "display_data"
    },
    {
     "data": {
      "text/html": [
       "<pre>Training factorization_recommender for recommendations.</pre>"
      ],
      "text/plain": [
       "Training factorization_recommender for recommendations."
      ]
     },
     "metadata": {},
     "output_type": "display_data"
    },
    {
     "data": {
      "text/html": [
       "<pre>+--------------------------------+--------------------------------------------------+----------+</pre>"
      ],
      "text/plain": [
       "+--------------------------------+--------------------------------------------------+----------+"
      ]
     },
     "metadata": {},
     "output_type": "display_data"
    },
    {
     "data": {
      "text/html": [
       "<pre>| Parameter                      | Description                                      | Value    |</pre>"
      ],
      "text/plain": [
       "| Parameter                      | Description                                      | Value    |"
      ]
     },
     "metadata": {},
     "output_type": "display_data"
    },
    {
     "data": {
      "text/html": [
       "<pre>+--------------------------------+--------------------------------------------------+----------+</pre>"
      ],
      "text/plain": [
       "+--------------------------------+--------------------------------------------------+----------+"
      ]
     },
     "metadata": {},
     "output_type": "display_data"
    },
    {
     "data": {
      "text/html": [
       "<pre>| num_factors                    | Factor Dimension                                 | 50       |</pre>"
      ],
      "text/plain": [
       "| num_factors                    | Factor Dimension                                 | 50       |"
      ]
     },
     "metadata": {},
     "output_type": "display_data"
    },
    {
     "data": {
      "text/html": [
       "<pre>| regularization                 | L2 Regularization on Factors                     | 1e-05    |</pre>"
      ],
      "text/plain": [
       "| regularization                 | L2 Regularization on Factors                     | 1e-05    |"
      ]
     },
     "metadata": {},
     "output_type": "display_data"
    },
    {
     "data": {
      "text/html": [
       "<pre>| solver                         | Solver used for training                         | adagrad  |</pre>"
      ],
      "text/plain": [
       "| solver                         | Solver used for training                         | adagrad  |"
      ]
     },
     "metadata": {},
     "output_type": "display_data"
    },
    {
     "data": {
      "text/html": [
       "<pre>| linear_regularization          | L2 Regularization on Linear Coefficients         | 1e-10    |</pre>"
      ],
      "text/plain": [
       "| linear_regularization          | L2 Regularization on Linear Coefficients         | 1e-10    |"
      ]
     },
     "metadata": {},
     "output_type": "display_data"
    },
    {
     "data": {
      "text/html": [
       "<pre>| binary_target                  | Assume Binary Targets                            | True     |</pre>"
      ],
      "text/plain": [
       "| binary_target                  | Assume Binary Targets                            | True     |"
      ]
     },
     "metadata": {},
     "output_type": "display_data"
    },
    {
     "data": {
      "text/html": [
       "<pre>| side_data_factorization        | Assign Factors for Side Data                     | True     |</pre>"
      ],
      "text/plain": [
       "| side_data_factorization        | Assign Factors for Side Data                     | True     |"
      ]
     },
     "metadata": {},
     "output_type": "display_data"
    },
    {
     "data": {
      "text/html": [
       "<pre>| max_iterations                 | Maximum Number of Iterations                     | 300      |</pre>"
      ],
      "text/plain": [
       "| max_iterations                 | Maximum Number of Iterations                     | 300      |"
      ]
     },
     "metadata": {},
     "output_type": "display_data"
    },
    {
     "data": {
      "text/html": [
       "<pre>+--------------------------------+--------------------------------------------------+----------+</pre>"
      ],
      "text/plain": [
       "+--------------------------------+--------------------------------------------------+----------+"
      ]
     },
     "metadata": {},
     "output_type": "display_data"
    },
    {
     "data": {
      "text/html": [
       "<pre>  Optimizing model using SGD; tuning step size.</pre>"
      ],
      "text/plain": [
       "  Optimizing model using SGD; tuning step size."
      ]
     },
     "metadata": {},
     "output_type": "display_data"
    },
    {
     "data": {
      "text/html": [
       "<pre>  Using 939876 / 7519013 points for tuning the step size.</pre>"
      ],
      "text/plain": [
       "  Using 939876 / 7519013 points for tuning the step size."
      ]
     },
     "metadata": {},
     "output_type": "display_data"
    },
    {
     "data": {
      "text/html": [
       "<pre>+---------+-------------------+------------------------------------------+</pre>"
      ],
      "text/plain": [
       "+---------+-------------------+------------------------------------------+"
      ]
     },
     "metadata": {},
     "output_type": "display_data"
    },
    {
     "data": {
      "text/html": [
       "<pre>| Attempt | Initial Step Size | Estimated Objective Value                |</pre>"
      ],
      "text/plain": [
       "| Attempt | Initial Step Size | Estimated Objective Value                |"
      ]
     },
     "metadata": {},
     "output_type": "display_data"
    },
    {
     "data": {
      "text/html": [
       "<pre>+---------+-------------------+------------------------------------------+</pre>"
      ],
      "text/plain": [
       "+---------+-------------------+------------------------------------------+"
      ]
     },
     "metadata": {},
     "output_type": "display_data"
    },
    {
     "data": {
      "text/html": [
       "<pre>| 0       | 0.979947          | Not Viable                               |</pre>"
      ],
      "text/plain": [
       "| 0       | 0.979947          | Not Viable                               |"
      ]
     },
     "metadata": {},
     "output_type": "display_data"
    },
    {
     "data": {
      "text/html": [
       "<pre>| 1       | 0.244987          | Not Viable                               |</pre>"
      ],
      "text/plain": [
       "| 1       | 0.244987          | Not Viable                               |"
      ]
     },
     "metadata": {},
     "output_type": "display_data"
    },
    {
     "data": {
      "text/html": [
       "<pre>| 2       | 0.0612467         | 0.533345                                 |</pre>"
      ],
      "text/plain": [
       "| 2       | 0.0612467         | 0.533345                                 |"
      ]
     },
     "metadata": {},
     "output_type": "display_data"
    },
    {
     "data": {
      "text/html": [
       "<pre>| 3       | 0.0306234         | 0.509946                                 |</pre>"
      ],
      "text/plain": [
       "| 3       | 0.0306234         | 0.509946                                 |"
      ]
     },
     "metadata": {},
     "output_type": "display_data"
    },
    {
     "data": {
      "text/html": [
       "<pre>| 4       | 0.0153117         | 0.487645                                 |</pre>"
      ],
      "text/plain": [
       "| 4       | 0.0153117         | 0.487645                                 |"
      ]
     },
     "metadata": {},
     "output_type": "display_data"
    },
    {
     "data": {
      "text/html": [
       "<pre>| 5       | 0.00765584        | 0.488393                                 |</pre>"
      ],
      "text/plain": [
       "| 5       | 0.00765584        | 0.488393                                 |"
      ]
     },
     "metadata": {},
     "output_type": "display_data"
    },
    {
     "data": {
      "text/html": [
       "<pre>| 6       | 0.00382792        | 0.510722                                 |</pre>"
      ],
      "text/plain": [
       "| 6       | 0.00382792        | 0.510722                                 |"
      ]
     },
     "metadata": {},
     "output_type": "display_data"
    },
    {
     "data": {
      "text/html": [
       "<pre>| 7       | 0.00191396        | 0.505356                                 |</pre>"
      ],
      "text/plain": [
       "| 7       | 0.00191396        | 0.505356                                 |"
      ]
     },
     "metadata": {},
     "output_type": "display_data"
    },
    {
     "data": {
      "text/html": [
       "<pre>+---------+-------------------+------------------------------------------+</pre>"
      ],
      "text/plain": [
       "+---------+-------------------+------------------------------------------+"
      ]
     },
     "metadata": {},
     "output_type": "display_data"
    },
    {
     "data": {
      "text/html": [
       "<pre>| Final   | 0.0153117         | 0.487645                                 |</pre>"
      ],
      "text/plain": [
       "| Final   | 0.0153117         | 0.487645                                 |"
      ]
     },
     "metadata": {},
     "output_type": "display_data"
    },
    {
     "data": {
      "text/html": [
       "<pre>+---------+-------------------+------------------------------------------+</pre>"
      ],
      "text/plain": [
       "+---------+-------------------+------------------------------------------+"
      ]
     },
     "metadata": {},
     "output_type": "display_data"
    },
    {
     "data": {
      "text/html": [
       "<pre>Starting Optimization.</pre>"
      ],
      "text/plain": [
       "Starting Optimization."
      ]
     },
     "metadata": {},
     "output_type": "display_data"
    },
    {
     "data": {
      "text/html": [
       "<pre>+---------+--------------+-------------------+-----------------------------------+-------------+</pre>"
      ],
      "text/plain": [
       "+---------+--------------+-------------------+-----------------------------------+-------------+"
      ]
     },
     "metadata": {},
     "output_type": "display_data"
    },
    {
     "data": {
      "text/html": [
       "<pre>| Iter.   | Elapsed Time | Approx. Objective | Approx. Training Predictive Error | Step Size   |</pre>"
      ],
      "text/plain": [
       "| Iter.   | Elapsed Time | Approx. Objective | Approx. Training Predictive Error | Step Size   |"
      ]
     },
     "metadata": {},
     "output_type": "display_data"
    },
    {
     "data": {
      "text/html": [
       "<pre>+---------+--------------+-------------------+-----------------------------------+-------------+</pre>"
      ],
      "text/plain": [
       "+---------+--------------+-------------------+-----------------------------------+-------------+"
      ]
     },
     "metadata": {},
     "output_type": "display_data"
    },
    {
     "data": {
      "text/html": [
       "<pre>| Initial | 127us        | 0.624332          | 0.624332                          |             |</pre>"
      ],
      "text/plain": [
       "| Initial | 127us        | 0.624332          | 0.624332                          |             |"
      ]
     },
     "metadata": {},
     "output_type": "display_data"
    },
    {
     "data": {
      "text/html": [
       "<pre>+---------+--------------+-------------------+-----------------------------------+-------------+</pre>"
      ],
      "text/plain": [
       "+---------+--------------+-------------------+-----------------------------------+-------------+"
      ]
     },
     "metadata": {},
     "output_type": "display_data"
    },
    {
     "data": {
      "text/html": [
       "<pre>| 1       | 17.18s       | 0.528248          | 0.475446                          | 0.0153117   |</pre>"
      ],
      "text/plain": [
       "| 1       | 17.18s       | 0.528248          | 0.475446                          | 0.0153117   |"
      ]
     },
     "metadata": {},
     "output_type": "display_data"
    },
    {
     "data": {
      "text/html": [
       "<pre>| 2       | 33.13s       | 0.496845          | 0.463718                          | 0.0153117   |</pre>"
      ],
      "text/plain": [
       "| 2       | 33.13s       | 0.496845          | 0.463718                          | 0.0153117   |"
      ]
     },
     "metadata": {},
     "output_type": "display_data"
    },
    {
     "data": {
      "text/html": [
       "<pre>| 3       | 49.76s       | 0.490254          | 0.459784                          | 0.0153117   |</pre>"
      ],
      "text/plain": [
       "| 3       | 49.76s       | 0.490254          | 0.459784                          | 0.0153117   |"
      ]
     },
     "metadata": {},
     "output_type": "display_data"
    },
    {
     "data": {
      "text/html": [
       "<pre>| 4       | 1m 5s        | 0.484895          | 0.454773                          | 0.0153117   |</pre>"
      ],
      "text/plain": [
       "| 4       | 1m 5s        | 0.484895          | 0.454773                          | 0.0153117   |"
      ]
     },
     "metadata": {},
     "output_type": "display_data"
    },
    {
     "data": {
      "text/html": [
       "<pre>| 5       | 1m 22s       | 0.48159           | 0.451301                          | 0.0153117   |</pre>"
      ],
      "text/plain": [
       "| 5       | 1m 22s       | 0.48159           | 0.451301                          | 0.0153117   |"
      ]
     },
     "metadata": {},
     "output_type": "display_data"
    },
    {
     "data": {
      "text/html": [
       "<pre>| 6       | 1m 40s       | 0.479184          | 0.448624                          | 0.0153117   |</pre>"
      ],
      "text/plain": [
       "| 6       | 1m 40s       | 0.479184          | 0.448624                          | 0.0153117   |"
      ]
     },
     "metadata": {},
     "output_type": "display_data"
    },
    {
     "data": {
      "text/html": [
       "<pre>| 7       | 1m 58s       | 0.477227          | 0.446412                          | 0.0153117   |</pre>"
      ],
      "text/plain": [
       "| 7       | 1m 58s       | 0.477227          | 0.446412                          | 0.0153117   |"
      ]
     },
     "metadata": {},
     "output_type": "display_data"
    },
    {
     "data": {
      "text/html": [
       "<pre>| 8       | 2m 14s       | 0.475601          | 0.444583                          | 0.0153117   |</pre>"
      ],
      "text/plain": [
       "| 8       | 2m 14s       | 0.475601          | 0.444583                          | 0.0153117   |"
      ]
     },
     "metadata": {},
     "output_type": "display_data"
    },
    {
     "data": {
      "text/html": [
       "<pre>| 9       | 2m 29s       | 0.474201          | 0.442992                          | 0.0153117   |</pre>"
      ],
      "text/plain": [
       "| 9       | 2m 29s       | 0.474201          | 0.442992                          | 0.0153117   |"
      ]
     },
     "metadata": {},
     "output_type": "display_data"
    },
    {
     "data": {
      "text/html": [
       "<pre>| 10      | 2m 45s       | 0.472933          | 0.441583                          | 0.0153117   |</pre>"
      ],
      "text/plain": [
       "| 10      | 2m 45s       | 0.472933          | 0.441583                          | 0.0153117   |"
      ]
     },
     "metadata": {},
     "output_type": "display_data"
    },
    {
     "data": {
      "text/html": [
       "<pre>| 11      | 3m 1s        | 0.471826          | 0.440328                          | 0.0153117   |</pre>"
      ],
      "text/plain": [
       "| 11      | 3m 1s        | 0.471826          | 0.440328                          | 0.0153117   |"
      ]
     },
     "metadata": {},
     "output_type": "display_data"
    },
    {
     "data": {
      "text/html": [
       "<pre>| 12      | 3m 20s       | 0.470722          | 0.439128                          | 0.0153117   |</pre>"
      ],
      "text/plain": [
       "| 12      | 3m 20s       | 0.470722          | 0.439128                          | 0.0153117   |"
      ]
     },
     "metadata": {},
     "output_type": "display_data"
    },
    {
     "data": {
      "text/html": [
       "<pre>| 13      | 3m 35s       | 0.469739          | 0.438017                          | 0.0153117   |</pre>"
      ],
      "text/plain": [
       "| 13      | 3m 35s       | 0.469739          | 0.438017                          | 0.0153117   |"
      ]
     },
     "metadata": {},
     "output_type": "display_data"
    },
    {
     "data": {
      "text/html": [
       "<pre>| 14      | 3m 51s       | 0.468852          | 0.437025                          | 0.0153117   |</pre>"
      ],
      "text/plain": [
       "| 14      | 3m 51s       | 0.468852          | 0.437025                          | 0.0153117   |"
      ]
     },
     "metadata": {},
     "output_type": "display_data"
    },
    {
     "data": {
      "text/html": [
       "<pre>| 15      | 4m 7s        | 0.467993          | 0.436032                          | 0.0153117   |</pre>"
      ],
      "text/plain": [
       "| 15      | 4m 7s        | 0.467993          | 0.436032                          | 0.0153117   |"
      ]
     },
     "metadata": {},
     "output_type": "display_data"
    },
    {
     "data": {
      "text/html": [
       "<pre>| 16      | 4m 22s       | 0.467116          | 0.43507                           | 0.0153117   |</pre>"
      ],
      "text/plain": [
       "| 16      | 4m 22s       | 0.467116          | 0.43507                           | 0.0153117   |"
      ]
     },
     "metadata": {},
     "output_type": "display_data"
    },
    {
     "data": {
      "text/html": [
       "<pre>| 17      | 4m 38s       | 0.466367          | 0.43419                           | 0.0153117   |</pre>"
      ],
      "text/plain": [
       "| 17      | 4m 38s       | 0.466367          | 0.43419                           | 0.0153117   |"
      ]
     },
     "metadata": {},
     "output_type": "display_data"
    },
    {
     "data": {
      "text/html": [
       "<pre>| 18      | 4m 53s       | 0.465602          | 0.433329                          | 0.0153117   |</pre>"
      ],
      "text/plain": [
       "| 18      | 4m 53s       | 0.465602          | 0.433329                          | 0.0153117   |"
      ]
     },
     "metadata": {},
     "output_type": "display_data"
    },
    {
     "data": {
      "text/html": [
       "<pre>| 19      | 5m 9s        | 0.46484           | 0.432475                          | 0.0153117   |</pre>"
      ],
      "text/plain": [
       "| 19      | 5m 9s        | 0.46484           | 0.432475                          | 0.0153117   |"
      ]
     },
     "metadata": {},
     "output_type": "display_data"
    },
    {
     "data": {
      "text/html": [
       "<pre>| 20      | 5m 25s       | 0.464169          | 0.431686                          | 0.0153117   |</pre>"
      ],
      "text/plain": [
       "| 20      | 5m 25s       | 0.464169          | 0.431686                          | 0.0153117   |"
      ]
     },
     "metadata": {},
     "output_type": "display_data"
    },
    {
     "data": {
      "text/html": [
       "<pre>| 21      | 5m 40s       | 0.463467          | 0.430913                          | 0.0153117   |</pre>"
      ],
      "text/plain": [
       "| 21      | 5m 40s       | 0.463467          | 0.430913                          | 0.0153117   |"
      ]
     },
     "metadata": {},
     "output_type": "display_data"
    },
    {
     "data": {
      "text/html": [
       "<pre>| 22      | 5m 55s       | 0.462861          | 0.430197                          | 0.0153117   |</pre>"
      ],
      "text/plain": [
       "| 22      | 5m 55s       | 0.462861          | 0.430197                          | 0.0153117   |"
      ]
     },
     "metadata": {},
     "output_type": "display_data"
    },
    {
     "data": {
      "text/html": [
       "<pre>| 23      | 6m 11s       | 0.462191          | 0.429425                          | 0.0153117   |</pre>"
      ],
      "text/plain": [
       "| 23      | 6m 11s       | 0.462191          | 0.429425                          | 0.0153117   |"
      ]
     },
     "metadata": {},
     "output_type": "display_data"
    },
    {
     "data": {
      "text/html": [
       "<pre>| 24      | 6m 27s       | 0.461624          | 0.428764                          | 0.0153117   |</pre>"
      ],
      "text/plain": [
       "| 24      | 6m 27s       | 0.461624          | 0.428764                          | 0.0153117   |"
      ]
     },
     "metadata": {},
     "output_type": "display_data"
    },
    {
     "data": {
      "text/html": [
       "<pre>| 25      | 6m 42s       | 0.461072          | 0.428096                          | 0.0153117   |</pre>"
      ],
      "text/plain": [
       "| 25      | 6m 42s       | 0.461072          | 0.428096                          | 0.0153117   |"
      ]
     },
     "metadata": {},
     "output_type": "display_data"
    },
    {
     "data": {
      "text/html": [
       "<pre>| 26      | 6m 59s       | 0.460522          | 0.427448                          | 0.0153117   |</pre>"
      ],
      "text/plain": [
       "| 26      | 6m 59s       | 0.460522          | 0.427448                          | 0.0153117   |"
      ]
     },
     "metadata": {},
     "output_type": "display_data"
    },
    {
     "data": {
      "text/html": [
       "<pre>| 27      | 7m 16s       | 0.459989          | 0.426798                          | 0.0153117   |</pre>"
      ],
      "text/plain": [
       "| 27      | 7m 16s       | 0.459989          | 0.426798                          | 0.0153117   |"
      ]
     },
     "metadata": {},
     "output_type": "display_data"
    },
    {
     "data": {
      "text/html": [
       "<pre>| 28      | 7m 32s       | 0.459529          | 0.426248                          | 0.0153117   |</pre>"
      ],
      "text/plain": [
       "| 28      | 7m 32s       | 0.459529          | 0.426248                          | 0.0153117   |"
      ]
     },
     "metadata": {},
     "output_type": "display_data"
    },
    {
     "data": {
      "text/html": [
       "<pre>| 29      | 7m 48s       | 0.459028          | 0.425645                          | 0.0153117   |</pre>"
      ],
      "text/plain": [
       "| 29      | 7m 48s       | 0.459028          | 0.425645                          | 0.0153117   |"
      ]
     },
     "metadata": {},
     "output_type": "display_data"
    },
    {
     "data": {
      "text/html": [
       "<pre>| 30      | 8m 4s        | 0.458546          | 0.425064                          | 0.0153117   |</pre>"
      ],
      "text/plain": [
       "| 30      | 8m 4s        | 0.458546          | 0.425064                          | 0.0153117   |"
      ]
     },
     "metadata": {},
     "output_type": "display_data"
    },
    {
     "data": {
      "text/html": [
       "<pre>| 31      | 8m 21s       | 0.458063          | 0.424476                          | 0.0153117   |</pre>"
      ],
      "text/plain": [
       "| 31      | 8m 21s       | 0.458063          | 0.424476                          | 0.0153117   |"
      ]
     },
     "metadata": {},
     "output_type": "display_data"
    },
    {
     "data": {
      "text/html": [
       "<pre>| 32      | 8m 38s       | 0.457652          | 0.423953                          | 0.0153117   |</pre>"
      ],
      "text/plain": [
       "| 32      | 8m 38s       | 0.457652          | 0.423953                          | 0.0153117   |"
      ]
     },
     "metadata": {},
     "output_type": "display_data"
    },
    {
     "data": {
      "text/html": [
       "<pre>| 33      | 8m 55s       | 0.457221          | 0.423413                          | 0.0153117   |</pre>"
      ],
      "text/plain": [
       "| 33      | 8m 55s       | 0.457221          | 0.423413                          | 0.0153117   |"
      ]
     },
     "metadata": {},
     "output_type": "display_data"
    },
    {
     "data": {
      "text/html": [
       "<pre>| 34      | 9m 12s       | 0.456854          | 0.422935                          | 0.0153117   |</pre>"
      ],
      "text/plain": [
       "| 34      | 9m 12s       | 0.456854          | 0.422935                          | 0.0153117   |"
      ]
     },
     "metadata": {},
     "output_type": "display_data"
    },
    {
     "data": {
      "text/html": [
       "<pre>| 35      | 9m 27s       | 0.456502          | 0.422476                          | 0.0153117   |</pre>"
      ],
      "text/plain": [
       "| 35      | 9m 27s       | 0.456502          | 0.422476                          | 0.0153117   |"
      ]
     },
     "metadata": {},
     "output_type": "display_data"
    },
    {
     "data": {
      "text/html": [
       "<pre>| 36      | 9m 43s       | 0.456125          | 0.421978                          | 0.0153117   |</pre>"
      ],
      "text/plain": [
       "| 36      | 9m 43s       | 0.456125          | 0.421978                          | 0.0153117   |"
      ]
     },
     "metadata": {},
     "output_type": "display_data"
    },
    {
     "data": {
      "text/html": [
       "<pre>| 37      | 9m 58s       | 0.455813          | 0.421566                          | 0.0153117   |</pre>"
      ],
      "text/plain": [
       "| 37      | 9m 58s       | 0.455813          | 0.421566                          | 0.0153117   |"
      ]
     },
     "metadata": {},
     "output_type": "display_data"
    },
    {
     "data": {
      "text/html": [
       "<pre>| 38      | 10m 15s      | 0.455459          | 0.421111                          | 0.0153117   |</pre>"
      ],
      "text/plain": [
       "| 38      | 10m 15s      | 0.455459          | 0.421111                          | 0.0153117   |"
      ]
     },
     "metadata": {},
     "output_type": "display_data"
    },
    {
     "data": {
      "text/html": [
       "<pre>| 39      | 10m 30s      | 0.455149          | 0.420687                          | 0.0153117   |</pre>"
      ],
      "text/plain": [
       "| 39      | 10m 30s      | 0.455149          | 0.420687                          | 0.0153117   |"
      ]
     },
     "metadata": {},
     "output_type": "display_data"
    },
    {
     "data": {
      "text/html": [
       "<pre>| 40      | 10m 47s      | 0.454877          | 0.420297                          | 0.0153117   |</pre>"
      ],
      "text/plain": [
       "| 40      | 10m 47s      | 0.454877          | 0.420297                          | 0.0153117   |"
      ]
     },
     "metadata": {},
     "output_type": "display_data"
    },
    {
     "data": {
      "text/html": [
       "<pre>| 41      | 11m 3s       | 0.454539          | 0.419832                          | 0.0153117   |</pre>"
      ],
      "text/plain": [
       "| 41      | 11m 3s       | 0.454539          | 0.419832                          | 0.0153117   |"
      ]
     },
     "metadata": {},
     "output_type": "display_data"
    },
    {
     "data": {
      "text/html": [
       "<pre>| 42      | 11m 18s      | 0.454301          | 0.419486                          | 0.0153117   |</pre>"
      ],
      "text/plain": [
       "| 42      | 11m 18s      | 0.454301          | 0.419486                          | 0.0153117   |"
      ]
     },
     "metadata": {},
     "output_type": "display_data"
    },
    {
     "data": {
      "text/html": [
       "<pre>| 43      | 11m 33s      | 0.454031          | 0.419097                          | 0.0153117   |</pre>"
      ],
      "text/plain": [
       "| 43      | 11m 33s      | 0.454031          | 0.419097                          | 0.0153117   |"
      ]
     },
     "metadata": {},
     "output_type": "display_data"
    },
    {
     "data": {
      "text/html": [
       "<pre>| 44      | 11m 49s      | 0.453788          | 0.418732                          | 0.0153117   |</pre>"
      ],
      "text/plain": [
       "| 44      | 11m 49s      | 0.453788          | 0.418732                          | 0.0153117   |"
      ]
     },
     "metadata": {},
     "output_type": "display_data"
    },
    {
     "data": {
      "text/html": [
       "<pre>| 45      | 12m 4s       | 0.453579          | 0.418392                          | 0.0153117   |</pre>"
      ],
      "text/plain": [
       "| 45      | 12m 4s       | 0.453579          | 0.418392                          | 0.0153117   |"
      ]
     },
     "metadata": {},
     "output_type": "display_data"
    },
    {
     "data": {
      "text/html": [
       "<pre>| 46      | 12m 19s      | 0.453331          | 0.41803                           | 0.0153117   |</pre>"
      ],
      "text/plain": [
       "| 46      | 12m 19s      | 0.453331          | 0.41803                           | 0.0153117   |"
      ]
     },
     "metadata": {},
     "output_type": "display_data"
    },
    {
     "data": {
      "text/html": [
       "<pre>| 47      | 12m 35s      | 0.453103          | 0.417686                          | 0.0153117   |</pre>"
      ],
      "text/plain": [
       "| 47      | 12m 35s      | 0.453103          | 0.417686                          | 0.0153117   |"
      ]
     },
     "metadata": {},
     "output_type": "display_data"
    },
    {
     "data": {
      "text/html": [
       "<pre>| 48      | 12m 50s      | 0.452935          | 0.417393                          | 0.0153117   |</pre>"
      ],
      "text/plain": [
       "| 48      | 12m 50s      | 0.452935          | 0.417393                          | 0.0153117   |"
      ]
     },
     "metadata": {},
     "output_type": "display_data"
    },
    {
     "data": {
      "text/html": [
       "<pre>| 49      | 13m 5s       | 0.452719          | 0.417051                          | 0.0153117   |</pre>"
      ],
      "text/plain": [
       "| 49      | 13m 5s       | 0.452719          | 0.417051                          | 0.0153117   |"
      ]
     },
     "metadata": {},
     "output_type": "display_data"
    },
    {
     "data": {
      "text/html": [
       "<pre>| 50      | 13m 20s      | 0.45253           | 0.416754                          | 0.0153117   |</pre>"
      ],
      "text/plain": [
       "| 50      | 13m 20s      | 0.45253           | 0.416754                          | 0.0153117   |"
      ]
     },
     "metadata": {},
     "output_type": "display_data"
    },
    {
     "data": {
      "text/html": [
       "<pre>| 51      | 13m 37s      | 0.452307          | 0.416427                          | 0.0153117   |</pre>"
      ],
      "text/plain": [
       "| 51      | 13m 37s      | 0.452307          | 0.416427                          | 0.0153117   |"
      ]
     },
     "metadata": {},
     "output_type": "display_data"
    },
    {
     "data": {
      "text/html": [
       "<pre>| 52      | 13m 52s      | 0.452156          | 0.416158                          | 0.0153117   |</pre>"
      ],
      "text/plain": [
       "| 52      | 13m 52s      | 0.452156          | 0.416158                          | 0.0153117   |"
      ]
     },
     "metadata": {},
     "output_type": "display_data"
    },
    {
     "data": {
      "text/html": [
       "<pre>| 53      | 14m 7s       | 0.45199           | 0.415877                          | 0.0153117   |</pre>"
      ],
      "text/plain": [
       "| 53      | 14m 7s       | 0.45199           | 0.415877                          | 0.0153117   |"
      ]
     },
     "metadata": {},
     "output_type": "display_data"
    },
    {
     "data": {
      "text/html": [
       "<pre>| 54      | 14m 23s      | 0.451817          | 0.415594                          | 0.0153117   |</pre>"
      ],
      "text/plain": [
       "| 54      | 14m 23s      | 0.451817          | 0.415594                          | 0.0153117   |"
      ]
     },
     "metadata": {},
     "output_type": "display_data"
    },
    {
     "data": {
      "text/html": [
       "<pre>| 55      | 14m 39s      | 0.451671          | 0.415326                          | 0.0153117   |</pre>"
      ],
      "text/plain": [
       "| 55      | 14m 39s      | 0.451671          | 0.415326                          | 0.0153117   |"
      ]
     },
     "metadata": {},
     "output_type": "display_data"
    },
    {
     "data": {
      "text/html": [
       "<pre>| 56      | 14m 55s      | 0.451519          | 0.415064                          | 0.0153117   |</pre>"
      ],
      "text/plain": [
       "| 56      | 14m 55s      | 0.451519          | 0.415064                          | 0.0153117   |"
      ]
     },
     "metadata": {},
     "output_type": "display_data"
    },
    {
     "data": {
      "text/html": [
       "<pre>| 57      | 15m 10s      | 0.451355          | 0.414798                          | 0.0153117   |</pre>"
      ],
      "text/plain": [
       "| 57      | 15m 10s      | 0.451355          | 0.414798                          | 0.0153117   |"
      ]
     },
     "metadata": {},
     "output_type": "display_data"
    },
    {
     "data": {
      "text/html": [
       "<pre>| 58      | 15m 26s      | 0.451208          | 0.414539                          | 0.0153117   |</pre>"
      ],
      "text/plain": [
       "| 58      | 15m 26s      | 0.451208          | 0.414539                          | 0.0153117   |"
      ]
     },
     "metadata": {},
     "output_type": "display_data"
    },
    {
     "data": {
      "text/html": [
       "<pre>| 59      | 15m 42s      | 0.451066          | 0.414294                          | 0.0153117   |</pre>"
      ],
      "text/plain": [
       "| 59      | 15m 42s      | 0.451066          | 0.414294                          | 0.0153117   |"
      ]
     },
     "metadata": {},
     "output_type": "display_data"
    },
    {
     "data": {
      "text/html": [
       "<pre>| 60      | 15m 57s      | 0.450957          | 0.414083                          | 0.0153117   |</pre>"
      ],
      "text/plain": [
       "| 60      | 15m 57s      | 0.450957          | 0.414083                          | 0.0153117   |"
      ]
     },
     "metadata": {},
     "output_type": "display_data"
    },
    {
     "data": {
      "text/html": [
       "<pre>| 61      | 16m 13s      | 0.450818          | 0.413833                          | 0.0153117   |</pre>"
      ],
      "text/plain": [
       "| 61      | 16m 13s      | 0.450818          | 0.413833                          | 0.0153117   |"
      ]
     },
     "metadata": {},
     "output_type": "display_data"
    },
    {
     "data": {
      "text/html": [
       "<pre>| 62      | 16m 28s      | 0.450706          | 0.413627                          | 0.0153117   |</pre>"
      ],
      "text/plain": [
       "| 62      | 16m 28s      | 0.450706          | 0.413627                          | 0.0153117   |"
      ]
     },
     "metadata": {},
     "output_type": "display_data"
    },
    {
     "data": {
      "text/html": [
       "<pre>| 63      | 16m 43s      | 0.450591          | 0.413423                          | 0.0153117   |</pre>"
      ],
      "text/plain": [
       "| 63      | 16m 43s      | 0.450591          | 0.413423                          | 0.0153117   |"
      ]
     },
     "metadata": {},
     "output_type": "display_data"
    },
    {
     "data": {
      "text/html": [
       "<pre>| 64      | 16m 58s      | 0.450477          | 0.413213                          | 0.0153117   |</pre>"
      ],
      "text/plain": [
       "| 64      | 16m 58s      | 0.450477          | 0.413213                          | 0.0153117   |"
      ]
     },
     "metadata": {},
     "output_type": "display_data"
    },
    {
     "data": {
      "text/html": [
       "<pre>| 65      | 17m 14s      | 0.450374          | 0.413007                          | 0.0153117   |</pre>"
      ],
      "text/plain": [
       "| 65      | 17m 14s      | 0.450374          | 0.413007                          | 0.0153117   |"
      ]
     },
     "metadata": {},
     "output_type": "display_data"
    },
    {
     "data": {
      "text/html": [
       "<pre>| 66      | 17m 29s      | 0.450248          | 0.41278                           | 0.0153117   |</pre>"
      ],
      "text/plain": [
       "| 66      | 17m 29s      | 0.450248          | 0.41278                           | 0.0153117   |"
      ]
     },
     "metadata": {},
     "output_type": "display_data"
    },
    {
     "data": {
      "text/html": [
       "<pre>| 67      | 17m 45s      | 0.450159          | 0.412592                          | 0.0153117   |</pre>"
      ],
      "text/plain": [
       "| 67      | 17m 45s      | 0.450159          | 0.412592                          | 0.0153117   |"
      ]
     },
     "metadata": {},
     "output_type": "display_data"
    },
    {
     "data": {
      "text/html": [
       "<pre>| 68      | 18m 1s       | 0.450066          | 0.412412                          | 0.0153117   |</pre>"
      ],
      "text/plain": [
       "| 68      | 18m 1s       | 0.450066          | 0.412412                          | 0.0153117   |"
      ]
     },
     "metadata": {},
     "output_type": "display_data"
    },
    {
     "data": {
      "text/html": [
       "<pre>| 69      | 18m 16s      | 0.449961          | 0.412217                          | 0.0153117   |</pre>"
      ],
      "text/plain": [
       "| 69      | 18m 16s      | 0.449961          | 0.412217                          | 0.0153117   |"
      ]
     },
     "metadata": {},
     "output_type": "display_data"
    },
    {
     "data": {
      "text/html": [
       "<pre>| 70      | 18m 32s      | 0.449897          | 0.412049                          | 0.0153117   |</pre>"
      ],
      "text/plain": [
       "| 70      | 18m 32s      | 0.449897          | 0.412049                          | 0.0153117   |"
      ]
     },
     "metadata": {},
     "output_type": "display_data"
    },
    {
     "data": {
      "text/html": [
       "<pre>| 71      | 18m 49s      | 0.449773          | 0.411833                          | 0.0153117   |</pre>"
      ],
      "text/plain": [
       "| 71      | 18m 49s      | 0.449773          | 0.411833                          | 0.0153117   |"
      ]
     },
     "metadata": {},
     "output_type": "display_data"
    },
    {
     "data": {
      "text/html": [
       "<pre>| 72      | 19m 7s       | 0.449709          | 0.411677                          | 0.0153117   |</pre>"
      ],
      "text/plain": [
       "| 72      | 19m 7s       | 0.449709          | 0.411677                          | 0.0153117   |"
      ]
     },
     "metadata": {},
     "output_type": "display_data"
    },
    {
     "data": {
      "text/html": [
       "<pre>| 73      | 19m 23s      | 0.449614          | 0.4115                            | 0.0153117   |</pre>"
      ],
      "text/plain": [
       "| 73      | 19m 23s      | 0.449614          | 0.4115                            | 0.0153117   |"
      ]
     },
     "metadata": {},
     "output_type": "display_data"
    },
    {
     "data": {
      "text/html": [
       "<pre>| 74      | 19m 38s      | 0.449502          | 0.411307                          | 0.0153117   |</pre>"
      ],
      "text/plain": [
       "| 74      | 19m 38s      | 0.449502          | 0.411307                          | 0.0153117   |"
      ]
     },
     "metadata": {},
     "output_type": "display_data"
    },
    {
     "data": {
      "text/html": [
       "<pre>| 75      | 19m 54s      | 0.44941           | 0.41112                           | 0.0153117   |</pre>"
      ],
      "text/plain": [
       "| 75      | 19m 54s      | 0.44941           | 0.41112                           | 0.0153117   |"
      ]
     },
     "metadata": {},
     "output_type": "display_data"
    },
    {
     "data": {
      "text/html": [
       "<pre>| 76      | 20m 11s      | 0.449363          | 0.410982                          | 0.0153117   |</pre>"
      ],
      "text/plain": [
       "| 76      | 20m 11s      | 0.449363          | 0.410982                          | 0.0153117   |"
      ]
     },
     "metadata": {},
     "output_type": "display_data"
    },
    {
     "data": {
      "text/html": [
       "<pre>| 77      | 20m 26s      | 0.449275          | 0.410811                          | 0.0153117   |</pre>"
      ],
      "text/plain": [
       "| 77      | 20m 26s      | 0.449275          | 0.410811                          | 0.0153117   |"
      ]
     },
     "metadata": {},
     "output_type": "display_data"
    },
    {
     "data": {
      "text/html": [
       "<pre>| 78      | 20m 42s      | 0.449193          | 0.410654                          | 0.0153117   |</pre>"
      ],
      "text/plain": [
       "| 78      | 20m 42s      | 0.449193          | 0.410654                          | 0.0153117   |"
      ]
     },
     "metadata": {},
     "output_type": "display_data"
    },
    {
     "data": {
      "text/html": [
       "<pre>| 79      | 20m 57s      | 0.449124          | 0.410514                          | 0.0153117   |</pre>"
      ],
      "text/plain": [
       "| 79      | 20m 57s      | 0.449124          | 0.410514                          | 0.0153117   |"
      ]
     },
     "metadata": {},
     "output_type": "display_data"
    },
    {
     "data": {
      "text/html": [
       "<pre>| 80      | 21m 13s      | 0.449043          | 0.410349                          | 0.0153117   |</pre>"
      ],
      "text/plain": [
       "| 80      | 21m 13s      | 0.449043          | 0.410349                          | 0.0153117   |"
      ]
     },
     "metadata": {},
     "output_type": "display_data"
    },
    {
     "data": {
      "text/html": [
       "<pre>| 81      | 21m 28s      | 0.448976          | 0.410202                          | 0.0153117   |</pre>"
      ],
      "text/plain": [
       "| 81      | 21m 28s      | 0.448976          | 0.410202                          | 0.0153117   |"
      ]
     },
     "metadata": {},
     "output_type": "display_data"
    },
    {
     "data": {
      "text/html": [
       "<pre>| 82      | 21m 44s      | 0.448905          | 0.41005                           | 0.0153117   |</pre>"
      ],
      "text/plain": [
       "| 82      | 21m 44s      | 0.448905          | 0.41005                           | 0.0153117   |"
      ]
     },
     "metadata": {},
     "output_type": "display_data"
    },
    {
     "data": {
      "text/html": [
       "<pre>| 83      | 21m 59s      | 0.448835          | 0.4099                            | 0.0153117   |</pre>"
      ],
      "text/plain": [
       "| 83      | 21m 59s      | 0.448835          | 0.4099                            | 0.0153117   |"
      ]
     },
     "metadata": {},
     "output_type": "display_data"
    },
    {
     "data": {
      "text/html": [
       "<pre>| 84      | 22m 15s      | 0.448802          | 0.409779                          | 0.0153117   |</pre>"
      ],
      "text/plain": [
       "| 84      | 22m 15s      | 0.448802          | 0.409779                          | 0.0153117   |"
      ]
     },
     "metadata": {},
     "output_type": "display_data"
    },
    {
     "data": {
      "text/html": [
       "<pre>| 85      | 22m 30s      | 0.448689          | 0.409581                          | 0.0153117   |</pre>"
      ],
      "text/plain": [
       "| 85      | 22m 30s      | 0.448689          | 0.409581                          | 0.0153117   |"
      ]
     },
     "metadata": {},
     "output_type": "display_data"
    },
    {
     "data": {
      "text/html": [
       "<pre>| 86      | 22m 46s      | 0.448644          | 0.409462                          | 0.0153117   |</pre>"
      ],
      "text/plain": [
       "| 86      | 22m 46s      | 0.448644          | 0.409462                          | 0.0153117   |"
      ]
     },
     "metadata": {},
     "output_type": "display_data"
    },
    {
     "data": {
      "text/html": [
       "<pre>| 87      | 23m 2s       | 0.448568          | 0.409317                          | 0.0153117   |</pre>"
      ],
      "text/plain": [
       "| 87      | 23m 2s       | 0.448568          | 0.409317                          | 0.0153117   |"
      ]
     },
     "metadata": {},
     "output_type": "display_data"
    },
    {
     "data": {
      "text/html": [
       "<pre>| 88      | 23m 18s      | 0.448489          | 0.409171                          | 0.0153117   |</pre>"
      ],
      "text/plain": [
       "| 88      | 23m 18s      | 0.448489          | 0.409171                          | 0.0153117   |"
      ]
     },
     "metadata": {},
     "output_type": "display_data"
    },
    {
     "data": {
      "text/html": [
       "<pre>| 89      | 23m 34s      | 0.448435          | 0.409046                          | 0.0153117   |</pre>"
      ],
      "text/plain": [
       "| 89      | 23m 34s      | 0.448435          | 0.409046                          | 0.0153117   |"
      ]
     },
     "metadata": {},
     "output_type": "display_data"
    },
    {
     "data": {
      "text/html": [
       "<pre>| 90      | 23m 49s      | 0.448356          | 0.408898                          | 0.0153117   |</pre>"
      ],
      "text/plain": [
       "| 90      | 23m 49s      | 0.448356          | 0.408898                          | 0.0153117   |"
      ]
     },
     "metadata": {},
     "output_type": "display_data"
    },
    {
     "data": {
      "text/html": [
       "<pre>| 91      | 24m 4s       | 0.448328          | 0.408792                          | 0.0153117   |</pre>"
      ],
      "text/plain": [
       "| 91      | 24m 4s       | 0.448328          | 0.408792                          | 0.0153117   |"
      ]
     },
     "metadata": {},
     "output_type": "display_data"
    },
    {
     "data": {
      "text/html": [
       "<pre>| 92      | 24m 20s      | 0.448271          | 0.408662                          | 0.0153117   |</pre>"
      ],
      "text/plain": [
       "| 92      | 24m 20s      | 0.448271          | 0.408662                          | 0.0153117   |"
      ]
     },
     "metadata": {},
     "output_type": "display_data"
    },
    {
     "data": {
      "text/html": [
       "<pre>| 93      | 24m 35s      | 0.448219          | 0.408532                          | 0.0153117   |</pre>"
      ],
      "text/plain": [
       "| 93      | 24m 35s      | 0.448219          | 0.408532                          | 0.0153117   |"
      ]
     },
     "metadata": {},
     "output_type": "display_data"
    },
    {
     "data": {
      "text/html": [
       "<pre>| 94      | 24m 52s      | 0.448158          | 0.408398                          | 0.0153117   |</pre>"
      ],
      "text/plain": [
       "| 94      | 24m 52s      | 0.448158          | 0.408398                          | 0.0153117   |"
      ]
     },
     "metadata": {},
     "output_type": "display_data"
    },
    {
     "data": {
      "text/html": [
       "<pre>| 95      | 25m 9s       | 0.448096          | 0.408269                          | 0.0153117   |</pre>"
      ],
      "text/plain": [
       "| 95      | 25m 9s       | 0.448096          | 0.408269                          | 0.0153117   |"
      ]
     },
     "metadata": {},
     "output_type": "display_data"
    },
    {
     "data": {
      "text/html": [
       "<pre>| 96      | 25m 25s      | 0.44805           | 0.408163                          | 0.0153117   |</pre>"
      ],
      "text/plain": [
       "| 96      | 25m 25s      | 0.44805           | 0.408163                          | 0.0153117   |"
      ]
     },
     "metadata": {},
     "output_type": "display_data"
    },
    {
     "data": {
      "text/html": [
       "<pre>| 97      | 25m 41s      | 0.447984          | 0.40803                           | 0.0153117   |</pre>"
      ],
      "text/plain": [
       "| 97      | 25m 41s      | 0.447984          | 0.40803                           | 0.0153117   |"
      ]
     },
     "metadata": {},
     "output_type": "display_data"
    },
    {
     "data": {
      "text/html": [
       "<pre>| 98      | 25m 56s      | 0.447955          | 0.40794                           | 0.0153117   |</pre>"
      ],
      "text/plain": [
       "| 98      | 25m 56s      | 0.447955          | 0.40794                           | 0.0153117   |"
      ]
     },
     "metadata": {},
     "output_type": "display_data"
    },
    {
     "data": {
      "text/html": [
       "<pre>| 99      | 26m 11s      | 0.447914          | 0.407821                          | 0.0153117   |</pre>"
      ],
      "text/plain": [
       "| 99      | 26m 11s      | 0.447914          | 0.407821                          | 0.0153117   |"
      ]
     },
     "metadata": {},
     "output_type": "display_data"
    },
    {
     "data": {
      "text/html": [
       "<pre>| 100     | 26m 27s      | 0.447816          | 0.407652                          | 0.0153117   |</pre>"
      ],
      "text/plain": [
       "| 100     | 26m 27s      | 0.447816          | 0.407652                          | 0.0153117   |"
      ]
     },
     "metadata": {},
     "output_type": "display_data"
    },
    {
     "data": {
      "text/html": [
       "<pre>| 101     | 26m 43s      | 0.447769          | 0.407534                          | 0.0153117   |</pre>"
      ],
      "text/plain": [
       "| 101     | 26m 43s      | 0.447769          | 0.407534                          | 0.0153117   |"
      ]
     },
     "metadata": {},
     "output_type": "display_data"
    },
    {
     "data": {
      "text/html": [
       "<pre>| 102     | 26m 59s      | 0.44773           | 0.407427                          | 0.0153117   |</pre>"
      ],
      "text/plain": [
       "| 102     | 26m 59s      | 0.44773           | 0.407427                          | 0.0153117   |"
      ]
     },
     "metadata": {},
     "output_type": "display_data"
    },
    {
     "data": {
      "text/html": [
       "<pre>| 103     | 27m 17s      | 0.447694          | 0.40733                           | 0.0153117   |</pre>"
      ],
      "text/plain": [
       "| 103     | 27m 17s      | 0.447694          | 0.40733                           | 0.0153117   |"
      ]
     },
     "metadata": {},
     "output_type": "display_data"
    },
    {
     "data": {
      "text/html": [
       "<pre>| 104     | 27m 34s      | 0.447644          | 0.407225                          | 0.0153117   |</pre>"
      ],
      "text/plain": [
       "| 104     | 27m 34s      | 0.447644          | 0.407225                          | 0.0153117   |"
      ]
     },
     "metadata": {},
     "output_type": "display_data"
    },
    {
     "data": {
      "text/html": [
       "<pre>| 105     | 27m 50s      | 0.447594          | 0.407115                          | 0.0153117   |</pre>"
      ],
      "text/plain": [
       "| 105     | 27m 50s      | 0.447594          | 0.407115                          | 0.0153117   |"
      ]
     },
     "metadata": {},
     "output_type": "display_data"
    },
    {
     "data": {
      "text/html": [
       "<pre>| 106     | 28m 6s       | 0.447544          | 0.407011                          | 0.0153117   |</pre>"
      ],
      "text/plain": [
       "| 106     | 28m 6s       | 0.447544          | 0.407011                          | 0.0153117   |"
      ]
     },
     "metadata": {},
     "output_type": "display_data"
    },
    {
     "data": {
      "text/html": [
       "<pre>| 107     | 28m 23s      | 0.447499          | 0.406894                          | 0.0153117   |</pre>"
      ],
      "text/plain": [
       "| 107     | 28m 23s      | 0.447499          | 0.406894                          | 0.0153117   |"
      ]
     },
     "metadata": {},
     "output_type": "display_data"
    },
    {
     "data": {
      "text/html": [
       "<pre>| 108     | 28m 39s      | 0.447475          | 0.406803                          | 0.0153117   |</pre>"
      ],
      "text/plain": [
       "| 108     | 28m 39s      | 0.447475          | 0.406803                          | 0.0153117   |"
      ]
     },
     "metadata": {},
     "output_type": "display_data"
    },
    {
     "data": {
      "text/html": [
       "<pre>| 109     | 28m 54s      | 0.447405          | 0.406668                          | 0.0153117   |</pre>"
      ],
      "text/plain": [
       "| 109     | 28m 54s      | 0.447405          | 0.406668                          | 0.0153117   |"
      ]
     },
     "metadata": {},
     "output_type": "display_data"
    },
    {
     "data": {
      "text/html": [
       "<pre>| 110     | 29m 10s      | 0.447392          | 0.406595                          | 0.0153117   |</pre>"
      ],
      "text/plain": [
       "| 110     | 29m 10s      | 0.447392          | 0.406595                          | 0.0153117   |"
      ]
     },
     "metadata": {},
     "output_type": "display_data"
    },
    {
     "data": {
      "text/html": [
       "<pre>| 111     | 29m 25s      | 0.447359          | 0.406505                          | 0.0153117   |</pre>"
      ],
      "text/plain": [
       "| 111     | 29m 25s      | 0.447359          | 0.406505                          | 0.0153117   |"
      ]
     },
     "metadata": {},
     "output_type": "display_data"
    },
    {
     "data": {
      "text/html": [
       "<pre>| 112     | 29m 41s      | 0.447297          | 0.406386                          | 0.0153117   |</pre>"
      ],
      "text/plain": [
       "| 112     | 29m 41s      | 0.447297          | 0.406386                          | 0.0153117   |"
      ]
     },
     "metadata": {},
     "output_type": "display_data"
    },
    {
     "data": {
      "text/html": [
       "<pre>| 113     | 29m 59s      | 0.447246          | 0.406283                          | 0.0153117   |</pre>"
      ],
      "text/plain": [
       "| 113     | 29m 59s      | 0.447246          | 0.406283                          | 0.0153117   |"
      ]
     },
     "metadata": {},
     "output_type": "display_data"
    },
    {
     "data": {
      "text/html": [
       "<pre>| 114     | 30m 15s      | 0.447204          | 0.406176                          | 0.0153117   |</pre>"
      ],
      "text/plain": [
       "| 114     | 30m 15s      | 0.447204          | 0.406176                          | 0.0153117   |"
      ]
     },
     "metadata": {},
     "output_type": "display_data"
    },
    {
     "data": {
      "text/html": [
       "<pre>| 115     | 30m 32s      | 0.447179          | 0.40609                           | 0.0153117   |</pre>"
      ],
      "text/plain": [
       "| 115     | 30m 32s      | 0.447179          | 0.40609                           | 0.0153117   |"
      ]
     },
     "metadata": {},
     "output_type": "display_data"
    },
    {
     "data": {
      "text/html": [
       "<pre>| 116     | 30m 50s      | 0.447133          | 0.405985                          | 0.0153117   |</pre>"
      ],
      "text/plain": [
       "| 116     | 30m 50s      | 0.447133          | 0.405985                          | 0.0153117   |"
      ]
     },
     "metadata": {},
     "output_type": "display_data"
    },
    {
     "data": {
      "text/html": [
       "<pre>| 117     | 31m 7s       | 0.4471            | 0.405896                          | 0.0153117   |</pre>"
      ],
      "text/plain": [
       "| 117     | 31m 7s       | 0.4471            | 0.405896                          | 0.0153117   |"
      ]
     },
     "metadata": {},
     "output_type": "display_data"
    },
    {
     "data": {
      "text/html": [
       "<pre>| 118     | 31m 23s      | 0.447074          | 0.405811                          | 0.0153117   |</pre>"
      ],
      "text/plain": [
       "| 118     | 31m 23s      | 0.447074          | 0.405811                          | 0.0153117   |"
      ]
     },
     "metadata": {},
     "output_type": "display_data"
    },
    {
     "data": {
      "text/html": [
       "<pre>| 119     | 31m 39s      | 0.447034          | 0.405714                          | 0.0153117   |</pre>"
      ],
      "text/plain": [
       "| 119     | 31m 39s      | 0.447034          | 0.405714                          | 0.0153117   |"
      ]
     },
     "metadata": {},
     "output_type": "display_data"
    },
    {
     "data": {
      "text/html": [
       "<pre>| 120     | 31m 54s      | 0.446998          | 0.405623                          | 0.0153117   |</pre>"
      ],
      "text/plain": [
       "| 120     | 31m 54s      | 0.446998          | 0.405623                          | 0.0153117   |"
      ]
     },
     "metadata": {},
     "output_type": "display_data"
    },
    {
     "data": {
      "text/html": [
       "<pre>| 121     | 32m 9s       | 0.446958          | 0.405532                          | 0.0153117   |</pre>"
      ],
      "text/plain": [
       "| 121     | 32m 9s       | 0.446958          | 0.405532                          | 0.0153117   |"
      ]
     },
     "metadata": {},
     "output_type": "display_data"
    },
    {
     "data": {
      "text/html": [
       "<pre>| 122     | 32m 25s      | 0.446929          | 0.405441                          | 0.0153117   |</pre>"
      ],
      "text/plain": [
       "| 122     | 32m 25s      | 0.446929          | 0.405441                          | 0.0153117   |"
      ]
     },
     "metadata": {},
     "output_type": "display_data"
    },
    {
     "data": {
      "text/html": [
       "<pre>| 123     | 32m 41s      | 0.446893          | 0.405342                          | 0.0153117   |</pre>"
      ],
      "text/plain": [
       "| 123     | 32m 41s      | 0.446893          | 0.405342                          | 0.0153117   |"
      ]
     },
     "metadata": {},
     "output_type": "display_data"
    },
    {
     "data": {
      "text/html": [
       "<pre>| 124     | 32m 57s      | 0.446867          | 0.40526                           | 0.0153117   |</pre>"
      ],
      "text/plain": [
       "| 124     | 32m 57s      | 0.446867          | 0.40526                           | 0.0153117   |"
      ]
     },
     "metadata": {},
     "output_type": "display_data"
    },
    {
     "data": {
      "text/html": [
       "<pre>| 125     | 33m 14s      | 0.446821          | 0.405163                          | 0.0153117   |</pre>"
      ],
      "text/plain": [
       "| 125     | 33m 14s      | 0.446821          | 0.405163                          | 0.0153117   |"
      ]
     },
     "metadata": {},
     "output_type": "display_data"
    },
    {
     "data": {
      "text/html": [
       "<pre>| 126     | 33m 30s      | 0.446791          | 0.405085                          | 0.0153117   |</pre>"
      ],
      "text/plain": [
       "| 126     | 33m 30s      | 0.446791          | 0.405085                          | 0.0153117   |"
      ]
     },
     "metadata": {},
     "output_type": "display_data"
    },
    {
     "data": {
      "text/html": [
       "<pre>| 127     | 33m 46s      | 0.446751          | 0.404998                          | 0.0153117   |</pre>"
      ],
      "text/plain": [
       "| 127     | 33m 46s      | 0.446751          | 0.404998                          | 0.0153117   |"
      ]
     },
     "metadata": {},
     "output_type": "display_data"
    },
    {
     "data": {
      "text/html": [
       "<pre>| 128     | 34m 1s       | 0.446716          | 0.404919                          | 0.0153117   |</pre>"
      ],
      "text/plain": [
       "| 128     | 34m 1s       | 0.446716          | 0.404919                          | 0.0153117   |"
      ]
     },
     "metadata": {},
     "output_type": "display_data"
    },
    {
     "data": {
      "text/html": [
       "<pre>| 129     | 34m 17s      | 0.446695          | 0.404845                          | 0.0153117   |</pre>"
      ],
      "text/plain": [
       "| 129     | 34m 17s      | 0.446695          | 0.404845                          | 0.0153117   |"
      ]
     },
     "metadata": {},
     "output_type": "display_data"
    },
    {
     "data": {
      "text/html": [
       "<pre>| 130     | 34m 32s      | 0.44665           | 0.404749                          | 0.0153117   |</pre>"
      ],
      "text/plain": [
       "| 130     | 34m 32s      | 0.44665           | 0.404749                          | 0.0153117   |"
      ]
     },
     "metadata": {},
     "output_type": "display_data"
    },
    {
     "data": {
      "text/html": [
       "<pre>| 131     | 34m 49s      | 0.446617          | 0.404668                          | 0.0153117   |</pre>"
      ],
      "text/plain": [
       "| 131     | 34m 49s      | 0.446617          | 0.404668                          | 0.0153117   |"
      ]
     },
     "metadata": {},
     "output_type": "display_data"
    },
    {
     "data": {
      "text/html": [
       "<pre>| 132     | 35m 5s       | 0.44659           | 0.404592                          | 0.0153117   |</pre>"
      ],
      "text/plain": [
       "| 132     | 35m 5s       | 0.44659           | 0.404592                          | 0.0153117   |"
      ]
     },
     "metadata": {},
     "output_type": "display_data"
    },
    {
     "data": {
      "text/html": [
       "<pre>| 133     | 35m 21s      | 0.446569          | 0.404517                          | 0.0153117   |</pre>"
      ],
      "text/plain": [
       "| 133     | 35m 21s      | 0.446569          | 0.404517                          | 0.0153117   |"
      ]
     },
     "metadata": {},
     "output_type": "display_data"
    },
    {
     "data": {
      "text/html": [
       "<pre>| 134     | 35m 36s      | 0.446525          | 0.404418                          | 0.0153117   |</pre>"
      ],
      "text/plain": [
       "| 134     | 35m 36s      | 0.446525          | 0.404418                          | 0.0153117   |"
      ]
     },
     "metadata": {},
     "output_type": "display_data"
    },
    {
     "data": {
      "text/html": [
       "<pre>| 135     | 35m 51s      | 0.44649           | 0.404334                          | 0.0153117   |</pre>"
      ],
      "text/plain": [
       "| 135     | 35m 51s      | 0.44649           | 0.404334                          | 0.0153117   |"
      ]
     },
     "metadata": {},
     "output_type": "display_data"
    },
    {
     "data": {
      "text/html": [
       "<pre>| 136     | 36m 6s       | 0.446456          | 0.404243                          | 0.0153117   |</pre>"
      ],
      "text/plain": [
       "| 136     | 36m 6s       | 0.446456          | 0.404243                          | 0.0153117   |"
      ]
     },
     "metadata": {},
     "output_type": "display_data"
    },
    {
     "data": {
      "text/html": [
       "<pre>| 137     | 36m 22s      | 0.446444          | 0.404177                          | 0.0153117   |</pre>"
      ],
      "text/plain": [
       "| 137     | 36m 22s      | 0.446444          | 0.404177                          | 0.0153117   |"
      ]
     },
     "metadata": {},
     "output_type": "display_data"
    },
    {
     "data": {
      "text/html": [
       "<pre>| 138     | 36m 37s      | 0.446395          | 0.404077                          | 0.0153117   |</pre>"
      ],
      "text/plain": [
       "| 138     | 36m 37s      | 0.446395          | 0.404077                          | 0.0153117   |"
      ]
     },
     "metadata": {},
     "output_type": "display_data"
    },
    {
     "data": {
      "text/html": [
       "<pre>| 139     | 36m 53s      | 0.446388          | 0.404023                          | 0.0153117   |</pre>"
      ],
      "text/plain": [
       "| 139     | 36m 53s      | 0.446388          | 0.404023                          | 0.0153117   |"
      ]
     },
     "metadata": {},
     "output_type": "display_data"
    },
    {
     "data": {
      "text/html": [
       "<pre>| 140     | 37m 9s       | 0.44635           | 0.403941                          | 0.0153117   |</pre>"
      ],
      "text/plain": [
       "| 140     | 37m 9s       | 0.44635           | 0.403941                          | 0.0153117   |"
      ]
     },
     "metadata": {},
     "output_type": "display_data"
    },
    {
     "data": {
      "text/html": [
       "<pre>| 141     | 37m 25s      | 0.446337          | 0.403887                          | 0.0153117   |</pre>"
      ],
      "text/plain": [
       "| 141     | 37m 25s      | 0.446337          | 0.403887                          | 0.0153117   |"
      ]
     },
     "metadata": {},
     "output_type": "display_data"
    },
    {
     "data": {
      "text/html": [
       "<pre>| 142     | 37m 40s      | 0.44629           | 0.403798                          | 0.0153117   |</pre>"
      ],
      "text/plain": [
       "| 142     | 37m 40s      | 0.44629           | 0.403798                          | 0.0153117   |"
      ]
     },
     "metadata": {},
     "output_type": "display_data"
    },
    {
     "data": {
      "text/html": [
       "<pre>| 143     | 37m 55s      | 0.446293          | 0.403755                          | 0.0153117   |</pre>"
      ],
      "text/plain": [
       "| 143     | 37m 55s      | 0.446293          | 0.403755                          | 0.0153117   |"
      ]
     },
     "metadata": {},
     "output_type": "display_data"
    },
    {
     "data": {
      "text/html": [
       "<pre>| 144     | 38m 11s      | 0.446237          | 0.403657                          | 0.0153117   |</pre>"
      ],
      "text/plain": [
       "| 144     | 38m 11s      | 0.446237          | 0.403657                          | 0.0153117   |"
      ]
     },
     "metadata": {},
     "output_type": "display_data"
    },
    {
     "data": {
      "text/html": [
       "<pre>| 145     | 38m 26s      | 0.446217          | 0.403595                          | 0.0153117   |</pre>"
      ],
      "text/plain": [
       "| 145     | 38m 26s      | 0.446217          | 0.403595                          | 0.0153117   |"
      ]
     },
     "metadata": {},
     "output_type": "display_data"
    },
    {
     "data": {
      "text/html": [
       "<pre>| 146     | 38m 42s      | 0.446197          | 0.403534                          | 0.0153117   |</pre>"
      ],
      "text/plain": [
       "| 146     | 38m 42s      | 0.446197          | 0.403534                          | 0.0153117   |"
      ]
     },
     "metadata": {},
     "output_type": "display_data"
    },
    {
     "data": {
      "text/html": [
       "<pre>| 147     | 38m 58s      | 0.44618           | 0.403463                          | 0.0153117   |</pre>"
      ],
      "text/plain": [
       "| 147     | 38m 58s      | 0.44618           | 0.403463                          | 0.0153117   |"
      ]
     },
     "metadata": {},
     "output_type": "display_data"
    },
    {
     "data": {
      "text/html": [
       "<pre>| 148     | 39m 14s      | 0.446178          | 0.40341                           | 0.0153117   |</pre>"
      ],
      "text/plain": [
       "| 148     | 39m 14s      | 0.446178          | 0.40341                           | 0.0153117   |"
      ]
     },
     "metadata": {},
     "output_type": "display_data"
    },
    {
     "data": {
      "text/html": [
       "<pre>| 149     | 39m 30s      | 0.446109          | 0.403293                          | 0.0153117   |</pre>"
      ],
      "text/plain": [
       "| 149     | 39m 30s      | 0.446109          | 0.403293                          | 0.0153117   |"
      ]
     },
     "metadata": {},
     "output_type": "display_data"
    },
    {
     "data": {
      "text/html": [
       "<pre>| 150     | 39m 47s      | 0.44612           | 0.403253                          | 0.0153117   |</pre>"
      ],
      "text/plain": [
       "| 150     | 39m 47s      | 0.44612           | 0.403253                          | 0.0153117   |"
      ]
     },
     "metadata": {},
     "output_type": "display_data"
    },
    {
     "data": {
      "text/html": [
       "<pre>| 151     | 40m 3s       | 0.446091          | 0.403175                          | 0.0153117   |</pre>"
      ],
      "text/plain": [
       "| 151     | 40m 3s       | 0.446091          | 0.403175                          | 0.0153117   |"
      ]
     },
     "metadata": {},
     "output_type": "display_data"
    },
    {
     "data": {
      "text/html": [
       "<pre>| 152     | 40m 19s      | 0.446053          | 0.403092                          | 0.0153117   |</pre>"
      ],
      "text/plain": [
       "| 152     | 40m 19s      | 0.446053          | 0.403092                          | 0.0153117   |"
      ]
     },
     "metadata": {},
     "output_type": "display_data"
    },
    {
     "data": {
      "text/html": [
       "<pre>| 153     | 40m 35s      | 0.44604           | 0.403037                          | 0.0153117   |</pre>"
      ],
      "text/plain": [
       "| 153     | 40m 35s      | 0.44604           | 0.403037                          | 0.0153117   |"
      ]
     },
     "metadata": {},
     "output_type": "display_data"
    },
    {
     "data": {
      "text/html": [
       "<pre>| 154     | 40m 50s      | 0.446019          | 0.402978                          | 0.0153117   |</pre>"
      ],
      "text/plain": [
       "| 154     | 40m 50s      | 0.446019          | 0.402978                          | 0.0153117   |"
      ]
     },
     "metadata": {},
     "output_type": "display_data"
    },
    {
     "data": {
      "text/html": [
       "<pre>| 155     | 41m 7s       | 0.446007          | 0.402927                          | 0.0153117   |</pre>"
      ],
      "text/plain": [
       "| 155     | 41m 7s       | 0.446007          | 0.402927                          | 0.0153117   |"
      ]
     },
     "metadata": {},
     "output_type": "display_data"
    },
    {
     "data": {
      "text/html": [
       "<pre>| 156     | 41m 25s      | 0.44596           | 0.402838                          | 0.0153117   |</pre>"
      ],
      "text/plain": [
       "| 156     | 41m 25s      | 0.44596           | 0.402838                          | 0.0153117   |"
      ]
     },
     "metadata": {},
     "output_type": "display_data"
    },
    {
     "data": {
      "text/html": [
       "<pre>| 157     | 41m 42s      | 0.445958          | 0.402797                          | 0.0153117   |</pre>"
      ],
      "text/plain": [
       "| 157     | 41m 42s      | 0.445958          | 0.402797                          | 0.0153117   |"
      ]
     },
     "metadata": {},
     "output_type": "display_data"
    },
    {
     "data": {
      "text/html": [
       "<pre>| 158     | 41m 59s      | 0.445932          | 0.402731                          | 0.0153117   |</pre>"
      ],
      "text/plain": [
       "| 158     | 41m 59s      | 0.445932          | 0.402731                          | 0.0153117   |"
      ]
     },
     "metadata": {},
     "output_type": "display_data"
    },
    {
     "data": {
      "text/html": [
       "<pre>| 159     | 42m 15s      | 0.44592           | 0.402682                          | 0.0153117   |</pre>"
      ],
      "text/plain": [
       "| 159     | 42m 15s      | 0.44592           | 0.402682                          | 0.0153117   |"
      ]
     },
     "metadata": {},
     "output_type": "display_data"
    },
    {
     "data": {
      "text/html": [
       "<pre>| 160     | 42m 30s      | 0.445894          | 0.402605                          | 0.0153117   |</pre>"
      ],
      "text/plain": [
       "| 160     | 42m 30s      | 0.445894          | 0.402605                          | 0.0153117   |"
      ]
     },
     "metadata": {},
     "output_type": "display_data"
    },
    {
     "data": {
      "text/html": [
       "<pre>| 161     | 42m 47s      | 0.445885          | 0.402547                          | 0.0153117   |</pre>"
      ],
      "text/plain": [
       "| 161     | 42m 47s      | 0.445885          | 0.402547                          | 0.0153117   |"
      ]
     },
     "metadata": {},
     "output_type": "display_data"
    },
    {
     "data": {
      "text/html": [
       "<pre>| 162     | 43m 2s       | 0.445843          | 0.402459                          | 0.0153117   |</pre>"
      ],
      "text/plain": [
       "| 162     | 43m 2s       | 0.445843          | 0.402459                          | 0.0153117   |"
      ]
     },
     "metadata": {},
     "output_type": "display_data"
    },
    {
     "data": {
      "text/html": [
       "<pre>| 163     | 43m 17s      | 0.445851          | 0.402418                          | 0.0153117   |</pre>"
      ],
      "text/plain": [
       "| 163     | 43m 17s      | 0.445851          | 0.402418                          | 0.0153117   |"
      ]
     },
     "metadata": {},
     "output_type": "display_data"
    },
    {
     "data": {
      "text/html": [
       "<pre>| 164     | 43m 33s      | 0.44583           | 0.402351                          | 0.0153117   |</pre>"
      ],
      "text/plain": [
       "| 164     | 43m 33s      | 0.44583           | 0.402351                          | 0.0153117   |"
      ]
     },
     "metadata": {},
     "output_type": "display_data"
    },
    {
     "data": {
      "text/html": [
       "<pre>| 165     | 43m 50s      | 0.445826          | 0.402304                          | 0.0153117   |</pre>"
      ],
      "text/plain": [
       "| 165     | 43m 50s      | 0.445826          | 0.402304                          | 0.0153117   |"
      ]
     },
     "metadata": {},
     "output_type": "display_data"
    },
    {
     "data": {
      "text/html": [
       "<pre>| 166     | 44m 6s       | 0.445794          | 0.402234                          | 0.0153117   |</pre>"
      ],
      "text/plain": [
       "| 166     | 44m 6s       | 0.445794          | 0.402234                          | 0.0153117   |"
      ]
     },
     "metadata": {},
     "output_type": "display_data"
    },
    {
     "data": {
      "text/html": [
       "<pre>| 167     | 44m 22s      | 0.445765          | 0.402167                          | 0.0153117   |</pre>"
      ],
      "text/plain": [
       "| 167     | 44m 22s      | 0.445765          | 0.402167                          | 0.0153117   |"
      ]
     },
     "metadata": {},
     "output_type": "display_data"
    },
    {
     "data": {
      "text/html": [
       "<pre>| 168     | 44m 39s      | 0.445751          | 0.402115                          | 0.0153117   |</pre>"
      ],
      "text/plain": [
       "| 168     | 44m 39s      | 0.445751          | 0.402115                          | 0.0153117   |"
      ]
     },
     "metadata": {},
     "output_type": "display_data"
    },
    {
     "data": {
      "text/html": [
       "<pre>| 169     | 44m 55s      | 0.445738          | 0.402063                          | 0.0153117   |</pre>"
      ],
      "text/plain": [
       "| 169     | 44m 55s      | 0.445738          | 0.402063                          | 0.0153117   |"
      ]
     },
     "metadata": {},
     "output_type": "display_data"
    },
    {
     "data": {
      "text/html": [
       "<pre>| 170     | 45m 10s      | 0.445738          | 0.402026                          | 0.0153117   |</pre>"
      ],
      "text/plain": [
       "| 170     | 45m 10s      | 0.445738          | 0.402026                          | 0.0153117   |"
      ]
     },
     "metadata": {},
     "output_type": "display_data"
    },
    {
     "data": {
      "text/html": [
       "<pre>| 171     | 45m 25s      | 0.445712          | 0.401963                          | 0.0153117   |</pre>"
      ],
      "text/plain": [
       "| 171     | 45m 25s      | 0.445712          | 0.401963                          | 0.0153117   |"
      ]
     },
     "metadata": {},
     "output_type": "display_data"
    },
    {
     "data": {
      "text/html": [
       "<pre>| 172     | 45m 40s      | 0.445694          | 0.401909                          | 0.0153117   |</pre>"
      ],
      "text/plain": [
       "| 172     | 45m 40s      | 0.445694          | 0.401909                          | 0.0153117   |"
      ]
     },
     "metadata": {},
     "output_type": "display_data"
    },
    {
     "data": {
      "text/html": [
       "<pre>| 173     | 45m 55s      | 0.445681          | 0.401846                          | 0.0153117   |</pre>"
      ],
      "text/plain": [
       "| 173     | 45m 55s      | 0.445681          | 0.401846                          | 0.0153117   |"
      ]
     },
     "metadata": {},
     "output_type": "display_data"
    },
    {
     "data": {
      "text/html": [
       "<pre>| 174     | 46m 11s      | 0.445643          | 0.401763                          | 0.0153117   |</pre>"
      ],
      "text/plain": [
       "| 174     | 46m 11s      | 0.445643          | 0.401763                          | 0.0153117   |"
      ]
     },
     "metadata": {},
     "output_type": "display_data"
    },
    {
     "data": {
      "text/html": [
       "<pre>| 175     | 46m 27s      | 0.445645          | 0.401723                          | 0.0153117   |</pre>"
      ],
      "text/plain": [
       "| 175     | 46m 27s      | 0.445645          | 0.401723                          | 0.0153117   |"
      ]
     },
     "metadata": {},
     "output_type": "display_data"
    },
    {
     "data": {
      "text/html": [
       "<pre>| 176     | 46m 44s      | 0.445646          | 0.401678                          | 0.0153117   |</pre>"
      ],
      "text/plain": [
       "| 176     | 46m 44s      | 0.445646          | 0.401678                          | 0.0153117   |"
      ]
     },
     "metadata": {},
     "output_type": "display_data"
    },
    {
     "data": {
      "text/html": [
       "<pre>| 177     | 47m 0s       | 0.445607          | 0.401598                          | 0.0153117   |</pre>"
      ],
      "text/plain": [
       "| 177     | 47m 0s       | 0.445607          | 0.401598                          | 0.0153117   |"
      ]
     },
     "metadata": {},
     "output_type": "display_data"
    },
    {
     "data": {
      "text/html": [
       "<pre>| 178     | 47m 15s      | 0.445597          | 0.401547                          | 0.0153117   |</pre>"
      ],
      "text/plain": [
       "| 178     | 47m 15s      | 0.445597          | 0.401547                          | 0.0153117   |"
      ]
     },
     "metadata": {},
     "output_type": "display_data"
    },
    {
     "data": {
      "text/html": [
       "<pre>| 179     | 47m 30s      | 0.445582          | 0.401488                          | 0.0153117   |</pre>"
      ],
      "text/plain": [
       "| 179     | 47m 30s      | 0.445582          | 0.401488                          | 0.0153117   |"
      ]
     },
     "metadata": {},
     "output_type": "display_data"
    },
    {
     "data": {
      "text/html": [
       "<pre>| 180     | 47m 47s      | 0.445574          | 0.401438                          | 0.0153117   |</pre>"
      ],
      "text/plain": [
       "| 180     | 47m 47s      | 0.445574          | 0.401438                          | 0.0153117   |"
      ]
     },
     "metadata": {},
     "output_type": "display_data"
    },
    {
     "data": {
      "text/html": [
       "<pre>| 181     | 48m 2s       | 0.445582          | 0.401405                          | 0.0153117   |</pre>"
      ],
      "text/plain": [
       "| 181     | 48m 2s       | 0.445582          | 0.401405                          | 0.0153117   |"
      ]
     },
     "metadata": {},
     "output_type": "display_data"
    },
    {
     "data": {
      "text/html": [
       "<pre>| 182     | 48m 18s      | 0.445553          | 0.401335                          | 0.0153117   |</pre>"
      ],
      "text/plain": [
       "| 182     | 48m 18s      | 0.445553          | 0.401335                          | 0.0153117   |"
      ]
     },
     "metadata": {},
     "output_type": "display_data"
    },
    {
     "data": {
      "text/html": [
       "<pre>| 183     | 48m 33s      | 0.445522          | 0.401265                          | 0.0153117   |</pre>"
      ],
      "text/plain": [
       "| 183     | 48m 33s      | 0.445522          | 0.401265                          | 0.0153117   |"
      ]
     },
     "metadata": {},
     "output_type": "display_data"
    },
    {
     "data": {
      "text/html": [
       "<pre>| 184     | 48m 50s      | 0.445506          | 0.40121                           | 0.0153117   |</pre>"
      ],
      "text/plain": [
       "| 184     | 48m 50s      | 0.445506          | 0.40121                           | 0.0153117   |"
      ]
     },
     "metadata": {},
     "output_type": "display_data"
    },
    {
     "data": {
      "text/html": [
       "<pre>| 185     | 49m 6s       | 0.445484          | 0.401151                          | 0.0153117   |</pre>"
      ],
      "text/plain": [
       "| 185     | 49m 6s       | 0.445484          | 0.401151                          | 0.0153117   |"
      ]
     },
     "metadata": {},
     "output_type": "display_data"
    },
    {
     "data": {
      "text/html": [
       "<pre>| 186     | 49m 24s      | 0.445492          | 0.401113                          | 0.0153117   |</pre>"
      ],
      "text/plain": [
       "| 186     | 49m 24s      | 0.445492          | 0.401113                          | 0.0153117   |"
      ]
     },
     "metadata": {},
     "output_type": "display_data"
    },
    {
     "data": {
      "text/html": [
       "<pre>| 187     | 49m 40s      | 0.445481          | 0.401058                          | 0.0153117   |</pre>"
      ],
      "text/plain": [
       "| 187     | 49m 40s      | 0.445481          | 0.401058                          | 0.0153117   |"
      ]
     },
     "metadata": {},
     "output_type": "display_data"
    },
    {
     "data": {
      "text/html": [
       "<pre>| 188     | 49m 56s      | 0.445481          | 0.401012                          | 0.0153117   |</pre>"
      ],
      "text/plain": [
       "| 188     | 49m 56s      | 0.445481          | 0.401012                          | 0.0153117   |"
      ]
     },
     "metadata": {},
     "output_type": "display_data"
    },
    {
     "data": {
      "text/html": [
       "<pre>| 189     | 50m 11s      | 0.445461          | 0.40095                           | 0.0153117   |</pre>"
      ],
      "text/plain": [
       "| 189     | 50m 11s      | 0.445461          | 0.40095                           | 0.0153117   |"
      ]
     },
     "metadata": {},
     "output_type": "display_data"
    },
    {
     "data": {
      "text/html": [
       "<pre>| 190     | 50m 26s      | 0.44545           | 0.4009                            | 0.0153117   |</pre>"
      ],
      "text/plain": [
       "| 190     | 50m 26s      | 0.44545           | 0.4009                            | 0.0153117   |"
      ]
     },
     "metadata": {},
     "output_type": "display_data"
    },
    {
     "data": {
      "text/html": [
       "<pre>| 191     | 50m 43s      | 0.4454            | 0.400814                          | 0.0153117   |</pre>"
      ],
      "text/plain": [
       "| 191     | 50m 43s      | 0.4454            | 0.400814                          | 0.0153117   |"
      ]
     },
     "metadata": {},
     "output_type": "display_data"
    },
    {
     "data": {
      "text/html": [
       "<pre>| 192     | 50m 58s      | 0.445387          | 0.400766                          | 0.0153117   |</pre>"
      ],
      "text/plain": [
       "| 192     | 50m 58s      | 0.445387          | 0.400766                          | 0.0153117   |"
      ]
     },
     "metadata": {},
     "output_type": "display_data"
    },
    {
     "data": {
      "text/html": [
       "<pre>| 193     | 51m 14s      | 0.445396          | 0.400741                          | 0.0153117   |</pre>"
      ],
      "text/plain": [
       "| 193     | 51m 14s      | 0.445396          | 0.400741                          | 0.0153117   |"
      ]
     },
     "metadata": {},
     "output_type": "display_data"
    },
    {
     "data": {
      "text/html": [
       "<pre>| 194     | 51m 30s      | 0.445366          | 0.400677                          | 0.0153117   |</pre>"
      ],
      "text/plain": [
       "| 194     | 51m 30s      | 0.445366          | 0.400677                          | 0.0153117   |"
      ]
     },
     "metadata": {},
     "output_type": "display_data"
    },
    {
     "data": {
      "text/html": [
       "<pre>| 195     | 51m 46s      | 0.445344          | 0.400623                          | 0.0153117   |</pre>"
      ],
      "text/plain": [
       "| 195     | 51m 46s      | 0.445344          | 0.400623                          | 0.0153117   |"
      ]
     },
     "metadata": {},
     "output_type": "display_data"
    },
    {
     "data": {
      "text/html": [
       "<pre>| 196     | 52m 2s       | 0.445313          | 0.40056                           | 0.0153117   |</pre>"
      ],
      "text/plain": [
       "| 196     | 52m 2s       | 0.445313          | 0.40056                           | 0.0153117   |"
      ]
     },
     "metadata": {},
     "output_type": "display_data"
    },
    {
     "data": {
      "text/html": [
       "<pre>| 197     | 52m 17s      | 0.44534           | 0.400556                          | 0.0153117   |</pre>"
      ],
      "text/plain": [
       "| 197     | 52m 17s      | 0.44534           | 0.400556                          | 0.0153117   |"
      ]
     },
     "metadata": {},
     "output_type": "display_data"
    },
    {
     "data": {
      "text/html": [
       "<pre>| 198     | 52m 34s      | 0.445304          | 0.400481                          | 0.0153117   |</pre>"
      ],
      "text/plain": [
       "| 198     | 52m 34s      | 0.445304          | 0.400481                          | 0.0153117   |"
      ]
     },
     "metadata": {},
     "output_type": "display_data"
    },
    {
     "data": {
      "text/html": [
       "<pre>| 199     | 52m 51s      | 0.445315          | 0.400454                          | 0.0153117   |</pre>"
      ],
      "text/plain": [
       "| 199     | 52m 51s      | 0.445315          | 0.400454                          | 0.0153117   |"
      ]
     },
     "metadata": {},
     "output_type": "display_data"
    },
    {
     "data": {
      "text/html": [
       "<pre>| 200     | 53m 6s       | 0.44531           | 0.400413                          | 0.0153117   |</pre>"
      ],
      "text/plain": [
       "| 200     | 53m 6s       | 0.44531           | 0.400413                          | 0.0153117   |"
      ]
     },
     "metadata": {},
     "output_type": "display_data"
    },
    {
     "data": {
      "text/html": [
       "<pre>| 201     | 53m 21s      | 0.445272          | 0.400339                          | 0.0153117   |</pre>"
      ],
      "text/plain": [
       "| 201     | 53m 21s      | 0.445272          | 0.400339                          | 0.0153117   |"
      ]
     },
     "metadata": {},
     "output_type": "display_data"
    },
    {
     "data": {
      "text/html": [
       "<pre>| 202     | 53m 38s      | 0.445282          | 0.400315                          | 0.0153117   |</pre>"
      ],
      "text/plain": [
       "| 202     | 53m 38s      | 0.445282          | 0.400315                          | 0.0153117   |"
      ]
     },
     "metadata": {},
     "output_type": "display_data"
    },
    {
     "data": {
      "text/html": [
       "<pre>| 203     | 53m 54s      | 0.445251          | 0.40025                           | 0.0153117   |</pre>"
      ],
      "text/plain": [
       "| 203     | 53m 54s      | 0.445251          | 0.40025                           | 0.0153117   |"
      ]
     },
     "metadata": {},
     "output_type": "display_data"
    },
    {
     "data": {
      "text/html": [
       "<pre>| 204     | 54m 10s      | 0.445266          | 0.400231                          | 0.0153117   |</pre>"
      ],
      "text/plain": [
       "| 204     | 54m 10s      | 0.445266          | 0.400231                          | 0.0153117   |"
      ]
     },
     "metadata": {},
     "output_type": "display_data"
    },
    {
     "data": {
      "text/html": [
       "<pre>| 205     | 54m 26s      | 0.44525           | 0.400175                          | 0.0153117   |</pre>"
      ],
      "text/plain": [
       "| 205     | 54m 26s      | 0.44525           | 0.400175                          | 0.0153117   |"
      ]
     },
     "metadata": {},
     "output_type": "display_data"
    },
    {
     "data": {
      "text/html": [
       "<pre>| 206     | 54m 44s      | 0.445239          | 0.400125                          | 0.0153117   |</pre>"
      ],
      "text/plain": [
       "| 206     | 54m 44s      | 0.445239          | 0.400125                          | 0.0153117   |"
      ]
     },
     "metadata": {},
     "output_type": "display_data"
    },
    {
     "data": {
      "text/html": [
       "<pre>| 207     | 54m 59s      | 0.445238          | 0.400086                          | 0.0153117   |</pre>"
      ],
      "text/plain": [
       "| 207     | 54m 59s      | 0.445238          | 0.400086                          | 0.0153117   |"
      ]
     },
     "metadata": {},
     "output_type": "display_data"
    },
    {
     "data": {
      "text/html": [
       "<pre>| 208     | 55m 14s      | 0.445225          | 0.400037                          | 0.0153117   |</pre>"
      ],
      "text/plain": [
       "| 208     | 55m 14s      | 0.445225          | 0.400037                          | 0.0153117   |"
      ]
     },
     "metadata": {},
     "output_type": "display_data"
    },
    {
     "data": {
      "text/html": [
       "<pre>| 209     | 55m 30s      | 0.445208          | 0.399984                          | 0.0153117   |</pre>"
      ],
      "text/plain": [
       "| 209     | 55m 30s      | 0.445208          | 0.399984                          | 0.0153117   |"
      ]
     },
     "metadata": {},
     "output_type": "display_data"
    },
    {
     "data": {
      "text/html": [
       "<pre>| 210     | 55m 48s      | 0.445186          | 0.39992                           | 0.0153117   |</pre>"
      ],
      "text/plain": [
       "| 210     | 55m 48s      | 0.445186          | 0.39992                           | 0.0153117   |"
      ]
     },
     "metadata": {},
     "output_type": "display_data"
    },
    {
     "data": {
      "text/html": [
       "<pre>| 211     | 56m 5s       | 0.445179          | 0.399874                          | 0.0153117   |</pre>"
      ],
      "text/plain": [
       "| 211     | 56m 5s       | 0.445179          | 0.399874                          | 0.0153117   |"
      ]
     },
     "metadata": {},
     "output_type": "display_data"
    },
    {
     "data": {
      "text/html": [
       "<pre>| 212     | 56m 21s      | 0.445171          | 0.399828                          | 0.0153117   |</pre>"
      ],
      "text/plain": [
       "| 212     | 56m 21s      | 0.445171          | 0.399828                          | 0.0153117   |"
      ]
     },
     "metadata": {},
     "output_type": "display_data"
    },
    {
     "data": {
      "text/html": [
       "<pre>| 213     | 56m 37s      | 0.445153          | 0.399773                          | 0.0153117   |</pre>"
      ],
      "text/plain": [
       "| 213     | 56m 37s      | 0.445153          | 0.399773                          | 0.0153117   |"
      ]
     },
     "metadata": {},
     "output_type": "display_data"
    },
    {
     "data": {
      "text/html": [
       "<pre>| 214     | 56m 52s      | 0.445132          | 0.399717                          | 0.0153117   |</pre>"
      ],
      "text/plain": [
       "| 214     | 56m 52s      | 0.445132          | 0.399717                          | 0.0153117   |"
      ]
     },
     "metadata": {},
     "output_type": "display_data"
    },
    {
     "data": {
      "text/html": [
       "<pre>| 215     | 57m 7s       | 0.445123          | 0.399674                          | 0.0153117   |</pre>"
      ],
      "text/plain": [
       "| 215     | 57m 7s       | 0.445123          | 0.399674                          | 0.0153117   |"
      ]
     },
     "metadata": {},
     "output_type": "display_data"
    },
    {
     "data": {
      "text/html": [
       "<pre>| 216     | 57m 23s      | 0.445138          | 0.399657                          | 0.0153117   |</pre>"
      ],
      "text/plain": [
       "| 216     | 57m 23s      | 0.445138          | 0.399657                          | 0.0153117   |"
      ]
     },
     "metadata": {},
     "output_type": "display_data"
    },
    {
     "data": {
      "text/html": [
       "<pre>| 217     | 57m 38s      | 0.445122          | 0.399612                          | 0.0153117   |</pre>"
      ],
      "text/plain": [
       "| 217     | 57m 38s      | 0.445122          | 0.399612                          | 0.0153117   |"
      ]
     },
     "metadata": {},
     "output_type": "display_data"
    },
    {
     "data": {
      "text/html": [
       "<pre>| 218     | 57m 55s      | 0.445114          | 0.399575                          | 0.0153117   |</pre>"
      ],
      "text/plain": [
       "| 218     | 57m 55s      | 0.445114          | 0.399575                          | 0.0153117   |"
      ]
     },
     "metadata": {},
     "output_type": "display_data"
    },
    {
     "data": {
      "text/html": [
       "<pre>| 219     | 58m 10s      | 0.445106          | 0.399536                          | 0.0153117   |</pre>"
      ],
      "text/plain": [
       "| 219     | 58m 10s      | 0.445106          | 0.399536                          | 0.0153117   |"
      ]
     },
     "metadata": {},
     "output_type": "display_data"
    },
    {
     "data": {
      "text/html": [
       "<pre>| 220     | 58m 27s      | 0.445107          | 0.399509                          | 0.0153117   |</pre>"
      ],
      "text/plain": [
       "| 220     | 58m 27s      | 0.445107          | 0.399509                          | 0.0153117   |"
      ]
     },
     "metadata": {},
     "output_type": "display_data"
    },
    {
     "data": {
      "text/html": [
       "<pre>| 221     | 58m 42s      | 0.445079          | 0.399454                          | 0.0153117   |</pre>"
      ],
      "text/plain": [
       "| 221     | 58m 42s      | 0.445079          | 0.399454                          | 0.0153117   |"
      ]
     },
     "metadata": {},
     "output_type": "display_data"
    },
    {
     "data": {
      "text/html": [
       "<pre>| 222     | 58m 58s      | 0.445084          | 0.399426                          | 0.0153117   |</pre>"
      ],
      "text/plain": [
       "| 222     | 58m 58s      | 0.445084          | 0.399426                          | 0.0153117   |"
      ]
     },
     "metadata": {},
     "output_type": "display_data"
    },
    {
     "data": {
      "text/html": [
       "<pre>| 223     | 59m 13s      | 0.445064          | 0.399374                          | 0.0153117   |</pre>"
      ],
      "text/plain": [
       "| 223     | 59m 13s      | 0.445064          | 0.399374                          | 0.0153117   |"
      ]
     },
     "metadata": {},
     "output_type": "display_data"
    },
    {
     "data": {
      "text/html": [
       "<pre>| 224     | 59m 28s      | 0.445048          | 0.399329                          | 0.0153117   |</pre>"
      ],
      "text/plain": [
       "| 224     | 59m 28s      | 0.445048          | 0.399329                          | 0.0153117   |"
      ]
     },
     "metadata": {},
     "output_type": "display_data"
    },
    {
     "data": {
      "text/html": [
       "<pre>| 225     | 59m 44s      | 0.445054          | 0.399303                          | 0.0153117   |</pre>"
      ],
      "text/plain": [
       "| 225     | 59m 44s      | 0.445054          | 0.399303                          | 0.0153117   |"
      ]
     },
     "metadata": {},
     "output_type": "display_data"
    },
    {
     "data": {
      "text/html": [
       "<pre>| 226     | 1h 0m        | 0.445043          | 0.399262                          | 0.0153117   |</pre>"
      ],
      "text/plain": [
       "| 226     | 1h 0m        | 0.445043          | 0.399262                          | 0.0153117   |"
      ]
     },
     "metadata": {},
     "output_type": "display_data"
    },
    {
     "data": {
      "text/html": [
       "<pre>| 227     | 1h 0m        | 0.445042          | 0.399234                          | 0.0153117   |</pre>"
      ],
      "text/plain": [
       "| 227     | 1h 0m        | 0.445042          | 0.399234                          | 0.0153117   |"
      ]
     },
     "metadata": {},
     "output_type": "display_data"
    },
    {
     "data": {
      "text/html": [
       "<pre>| 228     | 1h 0m        | 0.445006          | 0.39917                           | 0.0153117   |</pre>"
      ],
      "text/plain": [
       "| 228     | 1h 0m        | 0.445006          | 0.39917                           | 0.0153117   |"
      ]
     },
     "metadata": {},
     "output_type": "display_data"
    },
    {
     "data": {
      "text/html": [
       "<pre>| 229     | 1h 0m        | 0.445016          | 0.39914                           | 0.0153117   |</pre>"
      ],
      "text/plain": [
       "| 229     | 1h 0m        | 0.445016          | 0.39914                           | 0.0153117   |"
      ]
     },
     "metadata": {},
     "output_type": "display_data"
    },
    {
     "data": {
      "text/html": [
       "<pre>| 230     | 1h 1m        | 0.445009          | 0.399097                          | 0.0153117   |</pre>"
      ],
      "text/plain": [
       "| 230     | 1h 1m        | 0.445009          | 0.399097                          | 0.0153117   |"
      ]
     },
     "metadata": {},
     "output_type": "display_data"
    },
    {
     "data": {
      "text/html": [
       "<pre>| 231     | 1h 1m        | 0.445001          | 0.399052                          | 0.0153117   |</pre>"
      ],
      "text/plain": [
       "| 231     | 1h 1m        | 0.445001          | 0.399052                          | 0.0153117   |"
      ]
     },
     "metadata": {},
     "output_type": "display_data"
    },
    {
     "data": {
      "text/html": [
       "<pre>| 232     | 1h 1m        | 0.444995          | 0.399012                          | 0.0153117   |</pre>"
      ],
      "text/plain": [
       "| 232     | 1h 1m        | 0.444995          | 0.399012                          | 0.0153117   |"
      ]
     },
     "metadata": {},
     "output_type": "display_data"
    },
    {
     "data": {
      "text/html": [
       "<pre>| 233     | 1h 1m        | 0.444984          | 0.398969                          | 0.0153117   |</pre>"
      ],
      "text/plain": [
       "| 233     | 1h 1m        | 0.444984          | 0.398969                          | 0.0153117   |"
      ]
     },
     "metadata": {},
     "output_type": "display_data"
    },
    {
     "data": {
      "text/html": [
       "<pre>| 234     | 1h 2m        | 0.444996          | 0.398942                          | 0.0153117   |</pre>"
      ],
      "text/plain": [
       "| 234     | 1h 2m        | 0.444996          | 0.398942                          | 0.0153117   |"
      ]
     },
     "metadata": {},
     "output_type": "display_data"
    },
    {
     "data": {
      "text/html": [
       "<pre>| 235     | 1h 2m        | 0.444984          | 0.398897                          | 0.0153117   |</pre>"
      ],
      "text/plain": [
       "| 235     | 1h 2m        | 0.444984          | 0.398897                          | 0.0153117   |"
      ]
     },
     "metadata": {},
     "output_type": "display_data"
    },
    {
     "data": {
      "text/html": [
       "<pre>| 236     | 1h 2m        | 0.444975          | 0.398853                          | 0.0153117   |</pre>"
      ],
      "text/plain": [
       "| 236     | 1h 2m        | 0.444975          | 0.398853                          | 0.0153117   |"
      ]
     },
     "metadata": {},
     "output_type": "display_data"
    },
    {
     "data": {
      "text/html": [
       "<pre>| 237     | 1h 2m        | 0.444944          | 0.39879                           | 0.0153117   |</pre>"
      ],
      "text/plain": [
       "| 237     | 1h 2m        | 0.444944          | 0.39879                           | 0.0153117   |"
      ]
     },
     "metadata": {},
     "output_type": "display_data"
    },
    {
     "data": {
      "text/html": [
       "<pre>| 238     | 1h 3m        | 0.444942          | 0.398757                          | 0.0153117   |</pre>"
      ],
      "text/plain": [
       "| 238     | 1h 3m        | 0.444942          | 0.398757                          | 0.0153117   |"
      ]
     },
     "metadata": {},
     "output_type": "display_data"
    },
    {
     "data": {
      "text/html": [
       "<pre>| 239     | 1h 3m        | 0.444955          | 0.398741                          | 0.0153117   |</pre>"
      ],
      "text/plain": [
       "| 239     | 1h 3m        | 0.444955          | 0.398741                          | 0.0153117   |"
      ]
     },
     "metadata": {},
     "output_type": "display_data"
    },
    {
     "data": {
      "text/html": [
       "<pre>| 240     | 1h 3m        | 0.444941          | 0.398701                          | 0.0153117   |</pre>"
      ],
      "text/plain": [
       "| 240     | 1h 3m        | 0.444941          | 0.398701                          | 0.0153117   |"
      ]
     },
     "metadata": {},
     "output_type": "display_data"
    },
    {
     "data": {
      "text/html": [
       "<pre>| 241     | 1h 4m        | 0.444923          | 0.398657                          | 0.0153117   |</pre>"
      ],
      "text/plain": [
       "| 241     | 1h 4m        | 0.444923          | 0.398657                          | 0.0153117   |"
      ]
     },
     "metadata": {},
     "output_type": "display_data"
    },
    {
     "data": {
      "text/html": [
       "<pre>| 242     | 1h 4m        | 0.44491           | 0.398618                          | 0.0153117   |</pre>"
      ],
      "text/plain": [
       "| 242     | 1h 4m        | 0.44491           | 0.398618                          | 0.0153117   |"
      ]
     },
     "metadata": {},
     "output_type": "display_data"
    },
    {
     "data": {
      "text/html": [
       "<pre>| 243     | 1h 4m        | 0.444895          | 0.398578                          | 0.0153117   |</pre>"
      ],
      "text/plain": [
       "| 243     | 1h 4m        | 0.444895          | 0.398578                          | 0.0153117   |"
      ]
     },
     "metadata": {},
     "output_type": "display_data"
    },
    {
     "data": {
      "text/html": [
       "<pre>| 244     | 1h 4m        | 0.444867          | 0.398526                          | 0.0153117   |</pre>"
      ],
      "text/plain": [
       "| 244     | 1h 4m        | 0.444867          | 0.398526                          | 0.0153117   |"
      ]
     },
     "metadata": {},
     "output_type": "display_data"
    },
    {
     "data": {
      "text/html": [
       "<pre>| 245     | 1h 5m        | 0.44486           | 0.398492                          | 0.0153117   |</pre>"
      ],
      "text/plain": [
       "| 245     | 1h 5m        | 0.44486           | 0.398492                          | 0.0153117   |"
      ]
     },
     "metadata": {},
     "output_type": "display_data"
    },
    {
     "data": {
      "text/html": [
       "<pre>| 246     | 1h 5m        | 0.444866          | 0.398472                          | 0.0153117   |</pre>"
      ],
      "text/plain": [
       "| 246     | 1h 5m        | 0.444866          | 0.398472                          | 0.0153117   |"
      ]
     },
     "metadata": {},
     "output_type": "display_data"
    },
    {
     "data": {
      "text/html": [
       "<pre>| 247     | 1h 5m        | 0.444849          | 0.398429                          | 0.0153117   |</pre>"
      ],
      "text/plain": [
       "| 247     | 1h 5m        | 0.444849          | 0.398429                          | 0.0153117   |"
      ]
     },
     "metadata": {},
     "output_type": "display_data"
    },
    {
     "data": {
      "text/html": [
       "<pre>| 248     | 1h 5m        | 0.444838          | 0.398394                          | 0.0153117   |</pre>"
      ],
      "text/plain": [
       "| 248     | 1h 5m        | 0.444838          | 0.398394                          | 0.0153117   |"
      ]
     },
     "metadata": {},
     "output_type": "display_data"
    },
    {
     "data": {
      "text/html": [
       "<pre>| 249     | 1h 6m        | 0.444831          | 0.398363                          | 0.0153117   |</pre>"
      ],
      "text/plain": [
       "| 249     | 1h 6m        | 0.444831          | 0.398363                          | 0.0153117   |"
      ]
     },
     "metadata": {},
     "output_type": "display_data"
    },
    {
     "data": {
      "text/html": [
       "<pre>| 250     | 1h 6m        | 0.444843          | 0.398351                          | 0.0153117   |</pre>"
      ],
      "text/plain": [
       "| 250     | 1h 6m        | 0.444843          | 0.398351                          | 0.0153117   |"
      ]
     },
     "metadata": {},
     "output_type": "display_data"
    },
    {
     "data": {
      "text/html": [
       "<pre>| 251     | 1h 6m        | 0.444817          | 0.398301                          | 0.0153117   |</pre>"
      ],
      "text/plain": [
       "| 251     | 1h 6m        | 0.444817          | 0.398301                          | 0.0153117   |"
      ]
     },
     "metadata": {},
     "output_type": "display_data"
    },
    {
     "data": {
      "text/html": [
       "<pre>| 252     | 1h 6m        | 0.444803          | 0.398263                          | 0.0153117   |</pre>"
      ],
      "text/plain": [
       "| 252     | 1h 6m        | 0.444803          | 0.398263                          | 0.0153117   |"
      ]
     },
     "metadata": {},
     "output_type": "display_data"
    },
    {
     "data": {
      "text/html": [
       "<pre>| 253     | 1h 7m        | 0.444822          | 0.398246                          | 0.0153117   |</pre>"
      ],
      "text/plain": [
       "| 253     | 1h 7m        | 0.444822          | 0.398246                          | 0.0153117   |"
      ]
     },
     "metadata": {},
     "output_type": "display_data"
    },
    {
     "data": {
      "text/html": [
       "<pre>| 254     | 1h 7m        | 0.444781          | 0.398172                          | 0.0153117   |</pre>"
      ],
      "text/plain": [
       "| 254     | 1h 7m        | 0.444781          | 0.398172                          | 0.0153117   |"
      ]
     },
     "metadata": {},
     "output_type": "display_data"
    },
    {
     "data": {
      "text/html": [
       "<pre>| 255     | 1h 7m        | 0.444786          | 0.398144                          | 0.0153117   |</pre>"
      ],
      "text/plain": [
       "| 255     | 1h 7m        | 0.444786          | 0.398144                          | 0.0153117   |"
      ]
     },
     "metadata": {},
     "output_type": "display_data"
    },
    {
     "data": {
      "text/html": [
       "<pre>| 256     | 1h 7m        | 0.444768          | 0.398096                          | 0.0153117   |</pre>"
      ],
      "text/plain": [
       "| 256     | 1h 7m        | 0.444768          | 0.398096                          | 0.0153117   |"
      ]
     },
     "metadata": {},
     "output_type": "display_data"
    },
    {
     "data": {
      "text/html": [
       "<pre>| 257     | 1h 8m        | 0.444762          | 0.398055                          | 0.0153117   |</pre>"
      ],
      "text/plain": [
       "| 257     | 1h 8m        | 0.444762          | 0.398055                          | 0.0153117   |"
      ]
     },
     "metadata": {},
     "output_type": "display_data"
    },
    {
     "data": {
      "text/html": [
       "<pre>| 258     | 1h 8m        | 0.444744          | 0.398006                          | 0.0153117   |</pre>"
      ],
      "text/plain": [
       "| 258     | 1h 8m        | 0.444744          | 0.398006                          | 0.0153117   |"
      ]
     },
     "metadata": {},
     "output_type": "display_data"
    },
    {
     "data": {
      "text/html": [
       "<pre>| 259     | 1h 8m        | 0.444769          | 0.398                             | 0.0153117   |</pre>"
      ],
      "text/plain": [
       "| 259     | 1h 8m        | 0.444769          | 0.398                             | 0.0153117   |"
      ]
     },
     "metadata": {},
     "output_type": "display_data"
    },
    {
     "data": {
      "text/html": [
       "<pre>| 260     | 1h 8m        | 0.444751          | 0.397954                          | 0.0153117   |</pre>"
      ],
      "text/plain": [
       "| 260     | 1h 8m        | 0.444751          | 0.397954                          | 0.0153117   |"
      ]
     },
     "metadata": {},
     "output_type": "display_data"
    },
    {
     "data": {
      "text/html": [
       "<pre>| 261     | 1h 9m        | 0.444735          | 0.397909                          | 0.0153117   |</pre>"
      ],
      "text/plain": [
       "| 261     | 1h 9m        | 0.444735          | 0.397909                          | 0.0153117   |"
      ]
     },
     "metadata": {},
     "output_type": "display_data"
    },
    {
     "data": {
      "text/html": [
       "<pre>| 262     | 1h 9m        | 0.444724          | 0.397873                          | 0.0153117   |</pre>"
      ],
      "text/plain": [
       "| 262     | 1h 9m        | 0.444724          | 0.397873                          | 0.0153117   |"
      ]
     },
     "metadata": {},
     "output_type": "display_data"
    },
    {
     "data": {
      "text/html": [
       "<pre>| 263     | 1h 9m        | 0.444715          | 0.397837                          | 0.0153117   |</pre>"
      ],
      "text/plain": [
       "| 263     | 1h 9m        | 0.444715          | 0.397837                          | 0.0153117   |"
      ]
     },
     "metadata": {},
     "output_type": "display_data"
    },
    {
     "data": {
      "text/html": [
       "<pre>| 264     | 1h 9m        | 0.444698          | 0.397794                          | 0.0153117   |</pre>"
      ],
      "text/plain": [
       "| 264     | 1h 9m        | 0.444698          | 0.397794                          | 0.0153117   |"
      ]
     },
     "metadata": {},
     "output_type": "display_data"
    },
    {
     "data": {
      "text/html": [
       "<pre>| 265     | 1h 10m       | 0.444697          | 0.397767                          | 0.0153117   |</pre>"
      ],
      "text/plain": [
       "| 265     | 1h 10m       | 0.444697          | 0.397767                          | 0.0153117   |"
      ]
     },
     "metadata": {},
     "output_type": "display_data"
    },
    {
     "data": {
      "text/html": [
       "<pre>| 266     | 1h 10m       | 0.444684          | 0.397729                          | 0.0153117   |</pre>"
      ],
      "text/plain": [
       "| 266     | 1h 10m       | 0.444684          | 0.397729                          | 0.0153117   |"
      ]
     },
     "metadata": {},
     "output_type": "display_data"
    },
    {
     "data": {
      "text/html": [
       "<pre>| 267     | 1h 10m       | 0.444658          | 0.397678                          | 0.0153117   |</pre>"
      ],
      "text/plain": [
       "| 267     | 1h 10m       | 0.444658          | 0.397678                          | 0.0153117   |"
      ]
     },
     "metadata": {},
     "output_type": "display_data"
    },
    {
     "data": {
      "text/html": [
       "<pre>| 268     | 1h 10m       | 0.444671          | 0.397662                          | 0.0153117   |</pre>"
      ],
      "text/plain": [
       "| 268     | 1h 10m       | 0.444671          | 0.397662                          | 0.0153117   |"
      ]
     },
     "metadata": {},
     "output_type": "display_data"
    },
    {
     "data": {
      "text/html": [
       "<pre>| 269     | 1h 11m       | 0.444634          | 0.3976                            | 0.0153117   |</pre>"
      ],
      "text/plain": [
       "| 269     | 1h 11m       | 0.444634          | 0.3976                            | 0.0153117   |"
      ]
     },
     "metadata": {},
     "output_type": "display_data"
    },
    {
     "data": {
      "text/html": [
       "<pre>| 270     | 1h 11m       | 0.444637          | 0.397577                          | 0.0153117   |</pre>"
      ],
      "text/plain": [
       "| 270     | 1h 11m       | 0.444637          | 0.397577                          | 0.0153117   |"
      ]
     },
     "metadata": {},
     "output_type": "display_data"
    },
    {
     "data": {
      "text/html": [
       "<pre>| 271     | 1h 11m       | 0.444617          | 0.397532                          | 0.0153117   |</pre>"
      ],
      "text/plain": [
       "| 271     | 1h 11m       | 0.444617          | 0.397532                          | 0.0153117   |"
      ]
     },
     "metadata": {},
     "output_type": "display_data"
    },
    {
     "data": {
      "text/html": [
       "<pre>| 272     | 1h 11m       | 0.444633          | 0.397525                          | 0.0153117   |</pre>"
      ],
      "text/plain": [
       "| 272     | 1h 11m       | 0.444633          | 0.397525                          | 0.0153117   |"
      ]
     },
     "metadata": {},
     "output_type": "display_data"
    },
    {
     "data": {
      "text/html": [
       "<pre>| 273     | 1h 12m       | 0.444619          | 0.397486                          | 0.0153117   |</pre>"
      ],
      "text/plain": [
       "| 273     | 1h 12m       | 0.444619          | 0.397486                          | 0.0153117   |"
      ]
     },
     "metadata": {},
     "output_type": "display_data"
    },
    {
     "data": {
      "text/html": [
       "<pre>| 274     | 1h 12m       | 0.444613          | 0.397457                          | 0.0153117   |</pre>"
      ],
      "text/plain": [
       "| 274     | 1h 12m       | 0.444613          | 0.397457                          | 0.0153117   |"
      ]
     },
     "metadata": {},
     "output_type": "display_data"
    },
    {
     "data": {
      "text/html": [
       "<pre>| 275     | 1h 12m       | 0.444608          | 0.397429                          | 0.0153117   |</pre>"
      ],
      "text/plain": [
       "| 275     | 1h 12m       | 0.444608          | 0.397429                          | 0.0153117   |"
      ]
     },
     "metadata": {},
     "output_type": "display_data"
    },
    {
     "data": {
      "text/html": [
       "<pre>| 276     | 1h 12m       | 0.444599          | 0.397386                          | 0.0153117   |</pre>"
      ],
      "text/plain": [
       "| 276     | 1h 12m       | 0.444599          | 0.397386                          | 0.0153117   |"
      ]
     },
     "metadata": {},
     "output_type": "display_data"
    },
    {
     "data": {
      "text/html": [
       "<pre>| 277     | 1h 13m       | 0.444596          | 0.397351                          | 0.0153117   |</pre>"
      ],
      "text/plain": [
       "| 277     | 1h 13m       | 0.444596          | 0.397351                          | 0.0153117   |"
      ]
     },
     "metadata": {},
     "output_type": "display_data"
    },
    {
     "data": {
      "text/html": [
       "<pre>| 278     | 1h 13m       | 0.444588          | 0.397311                          | 0.0153117   |</pre>"
      ],
      "text/plain": [
       "| 278     | 1h 13m       | 0.444588          | 0.397311                          | 0.0153117   |"
      ]
     },
     "metadata": {},
     "output_type": "display_data"
    },
    {
     "data": {
      "text/html": [
       "<pre>| 279     | 1h 13m       | 0.444588          | 0.397282                          | 0.0153117   |</pre>"
      ],
      "text/plain": [
       "| 279     | 1h 13m       | 0.444588          | 0.397282                          | 0.0153117   |"
      ]
     },
     "metadata": {},
     "output_type": "display_data"
    },
    {
     "data": {
      "text/html": [
       "<pre>| 280     | 1h 13m       | 0.444573          | 0.397236                          | 0.0153117   |</pre>"
      ],
      "text/plain": [
       "| 280     | 1h 13m       | 0.444573          | 0.397236                          | 0.0153117   |"
      ]
     },
     "metadata": {},
     "output_type": "display_data"
    },
    {
     "data": {
      "text/html": [
       "<pre>| 281     | 1h 14m       | 0.444573          | 0.397206                          | 0.0153117   |</pre>"
      ],
      "text/plain": [
       "| 281     | 1h 14m       | 0.444573          | 0.397206                          | 0.0153117   |"
      ]
     },
     "metadata": {},
     "output_type": "display_data"
    },
    {
     "data": {
      "text/html": [
       "<pre>| 282     | 1h 14m       | 0.444571          | 0.397177                          | 0.0153117   |</pre>"
      ],
      "text/plain": [
       "| 282     | 1h 14m       | 0.444571          | 0.397177                          | 0.0153117   |"
      ]
     },
     "metadata": {},
     "output_type": "display_data"
    },
    {
     "data": {
      "text/html": [
       "<pre>| 283     | 1h 14m       | 0.444531          | 0.39711                           | 0.0153117   |</pre>"
      ],
      "text/plain": [
       "| 283     | 1h 14m       | 0.444531          | 0.39711                           | 0.0153117   |"
      ]
     },
     "metadata": {},
     "output_type": "display_data"
    },
    {
     "data": {
      "text/html": [
       "<pre>| 284     | 1h 14m       | 0.444524          | 0.397078                          | 0.0153117   |</pre>"
      ],
      "text/plain": [
       "| 284     | 1h 14m       | 0.444524          | 0.397078                          | 0.0153117   |"
      ]
     },
     "metadata": {},
     "output_type": "display_data"
    },
    {
     "data": {
      "text/html": [
       "<pre>| 285     | 1h 15m       | 0.444534          | 0.39706                           | 0.0153117   |</pre>"
      ],
      "text/plain": [
       "| 285     | 1h 15m       | 0.444534          | 0.39706                           | 0.0153117   |"
      ]
     },
     "metadata": {},
     "output_type": "display_data"
    },
    {
     "data": {
      "text/html": [
       "<pre>| 286     | 1h 15m       | 0.444509          | 0.397007                          | 0.0153117   |</pre>"
      ],
      "text/plain": [
       "| 286     | 1h 15m       | 0.444509          | 0.397007                          | 0.0153117   |"
      ]
     },
     "metadata": {},
     "output_type": "display_data"
    },
    {
     "data": {
      "text/html": [
       "<pre>| 287     | 1h 15m       | 0.444502          | 0.396975                          | 0.0153117   |</pre>"
      ],
      "text/plain": [
       "| 287     | 1h 15m       | 0.444502          | 0.396975                          | 0.0153117   |"
      ]
     },
     "metadata": {},
     "output_type": "display_data"
    },
    {
     "data": {
      "text/html": [
       "<pre>| 288     | 1h 15m       | 0.444502          | 0.39695                           | 0.0153117   |</pre>"
      ],
      "text/plain": [
       "| 288     | 1h 15m       | 0.444502          | 0.39695                           | 0.0153117   |"
      ]
     },
     "metadata": {},
     "output_type": "display_data"
    },
    {
     "data": {
      "text/html": [
       "<pre>| 289     | 1h 16m       | 0.444499          | 0.396922                          | 0.0153117   |</pre>"
      ],
      "text/plain": [
       "| 289     | 1h 16m       | 0.444499          | 0.396922                          | 0.0153117   |"
      ]
     },
     "metadata": {},
     "output_type": "display_data"
    },
    {
     "data": {
      "text/html": [
       "<pre>+---------+--------------+-------------------+-----------------------------------+-------------+</pre>"
      ],
      "text/plain": [
       "+---------+--------------+-------------------+-----------------------------------+-------------+"
      ]
     },
     "metadata": {},
     "output_type": "display_data"
    },
    {
     "data": {
      "text/html": [
       "<pre>Optimization Complete: Convergence on objective within bounds.</pre>"
      ],
      "text/plain": [
       "Optimization Complete: Convergence on objective within bounds."
      ]
     },
     "metadata": {},
     "output_type": "display_data"
    },
    {
     "data": {
      "text/html": [
       "<pre>Computing final objective value and training Predictive Error.</pre>"
      ],
      "text/plain": [
       "Computing final objective value and training Predictive Error."
      ]
     },
     "metadata": {},
     "output_type": "display_data"
    },
    {
     "data": {
      "text/html": [
       "<pre>       Final objective value: 0.442386</pre>"
      ],
      "text/plain": [
       "       Final objective value: 0.442386"
      ]
     },
     "metadata": {},
     "output_type": "display_data"
    },
    {
     "data": {
      "text/html": [
       "<pre>       Final training Predictive Error: 0.394809</pre>"
      ],
      "text/plain": [
       "       Final training Predictive Error: 0.394809"
      ]
     },
     "metadata": {},
     "output_type": "display_data"
    }
   ],
   "source": [
    "# training the model\n",
    "model = gl.recommender.factorization_recommender.create(tr_listen, \n",
    "                                                        binary_target = True, \n",
    "                                                        num_factors = n_factors,\n",
    "                                                        user_id = \"user_id\", \n",
    "                                                        item_id = \"media_id\", \n",
    "                                                        target  = \"is_listened\",\n",
    "                                                        user_data = user_data, \n",
    "                                                        item_data = song_data,\n",
    "                                                        max_iterations = m_epochs,\n",
    "                                                        regularization = regular)"
   ]
  },
  {
   "cell_type": "code",
   "execution_count": 26,
   "metadata": {
    "collapsed": false,
    "scrolled": true
   },
   "outputs": [
    {
     "data": {
      "text/html": [
       "<div>\n",
       "<style>\n",
       "    .dataframe thead tr:only-child th {\n",
       "        text-align: right;\n",
       "    }\n",
       "\n",
       "    .dataframe thead th {\n",
       "        text-align: left;\n",
       "    }\n",
       "\n",
       "    .dataframe tbody tr th {\n",
       "        vertical-align: top;\n",
       "    }\n",
       "</style>\n",
       "<table border=\"1\" class=\"dataframe\">\n",
       "  <thead>\n",
       "    <tr style=\"text-align: right;\">\n",
       "      <th></th>\n",
       "      <th>row_index</th>\n",
       "      <th>is_listened</th>\n",
       "    </tr>\n",
       "  </thead>\n",
       "  <tbody>\n",
       "    <tr>\n",
       "      <th>5989</th>\n",
       "      <td>5989</td>\n",
       "      <td>0.998573</td>\n",
       "    </tr>\n",
       "    <tr>\n",
       "      <th>6053</th>\n",
       "      <td>6053</td>\n",
       "      <td>0.985990</td>\n",
       "    </tr>\n",
       "    <tr>\n",
       "      <th>6296</th>\n",
       "      <td>6296</td>\n",
       "      <td>0.996361</td>\n",
       "    </tr>\n",
       "  </tbody>\n",
       "</table>\n",
       "</div>"
      ],
      "text/plain": [
       "      row_index  is_listened\n",
       "5989       5989     0.998573\n",
       "6053       6053     0.985990\n",
       "6296       6296     0.996361"
      ]
     },
     "execution_count": 26,
     "metadata": {},
     "output_type": "execute_result"
    }
   ],
   "source": [
    "# forecasting\n",
    "pred = pd.DataFrame()\n",
    "pred[\"row_index\"] = ts.row_index\n",
    "pred[\"is_listened\"] = model.predict(ts_listen)\n",
    "pred.head(3)"
   ]
  },
  {
   "cell_type": "code",
   "execution_count": 27,
   "metadata": {
    "collapsed": false,
    "scrolled": true
   },
   "outputs": [
    {
     "data": {
      "text/plain": [
       "0.73200012691506022"
      ]
     },
     "execution_count": 27,
     "metadata": {},
     "output_type": "execute_result"
    }
   ],
   "source": [
    "# computing AUC\n",
    "metrics.roc_auc_score(ts.is_listened, pred[\"is_listened\"])"
   ]
  },
  {
   "cell_type": "code",
   "execution_count": 28,
   "metadata": {
    "collapsed": true,
    "scrolled": true
   },
   "outputs": [],
   "source": [
    "# saving prediction vector\n",
    "pred.to_csv(path + \"pred_valid/factorization_full_75f_api_300i.csv\", index = False)"
   ]
  },
  {
   "cell_type": "markdown",
   "metadata": {},
   "source": [
    "## 3.2. KNOWN-UNKNOWN"
   ]
  },
  {
   "cell_type": "code",
   "execution_count": 31,
   "metadata": {
    "collapsed": false
   },
   "outputs": [
    {
     "data": {
      "text/html": [
       "<pre>Recsys training: model = factorization_recommender</pre>"
      ],
      "text/plain": [
       "Recsys training: model = factorization_recommender"
      ]
     },
     "metadata": {},
     "output_type": "display_data"
    },
    {
     "data": {
      "text/html": [
       "<pre>Preparing data set.</pre>"
      ],
      "text/plain": [
       "Preparing data set."
      ]
     },
     "metadata": {},
     "output_type": "display_data"
    },
    {
     "data": {
      "text/html": [
       "<pre>    Data has 7558834 observations with 19505 users and 247038 items.</pre>"
      ],
      "text/plain": [
       "    Data has 7558834 observations with 19505 users and 247038 items."
      ]
     },
     "metadata": {},
     "output_type": "display_data"
    },
    {
     "data": {
      "text/html": [
       "<pre>    Data prepared in: 9.13367s</pre>"
      ],
      "text/plain": [
       "    Data prepared in: 9.13367s"
      ]
     },
     "metadata": {},
     "output_type": "display_data"
    },
    {
     "data": {
      "text/html": [
       "<pre>Training factorization_recommender for recommendations.</pre>"
      ],
      "text/plain": [
       "Training factorization_recommender for recommendations."
      ]
     },
     "metadata": {},
     "output_type": "display_data"
    },
    {
     "data": {
      "text/html": [
       "<pre>+--------------------------------+--------------------------------------------------+----------+</pre>"
      ],
      "text/plain": [
       "+--------------------------------+--------------------------------------------------+----------+"
      ]
     },
     "metadata": {},
     "output_type": "display_data"
    },
    {
     "data": {
      "text/html": [
       "<pre>| Parameter                      | Description                                      | Value    |</pre>"
      ],
      "text/plain": [
       "| Parameter                      | Description                                      | Value    |"
      ]
     },
     "metadata": {},
     "output_type": "display_data"
    },
    {
     "data": {
      "text/html": [
       "<pre>+--------------------------------+--------------------------------------------------+----------+</pre>"
      ],
      "text/plain": [
       "+--------------------------------+--------------------------------------------------+----------+"
      ]
     },
     "metadata": {},
     "output_type": "display_data"
    },
    {
     "data": {
      "text/html": [
       "<pre>| num_factors                    | Factor Dimension                                 | 50       |</pre>"
      ],
      "text/plain": [
       "| num_factors                    | Factor Dimension                                 | 50       |"
      ]
     },
     "metadata": {},
     "output_type": "display_data"
    },
    {
     "data": {
      "text/html": [
       "<pre>| regularization                 | L2 Regularization on Factors                     | 1e-05    |</pre>"
      ],
      "text/plain": [
       "| regularization                 | L2 Regularization on Factors                     | 1e-05    |"
      ]
     },
     "metadata": {},
     "output_type": "display_data"
    },
    {
     "data": {
      "text/html": [
       "<pre>| solver                         | Solver used for training                         | adagrad  |</pre>"
      ],
      "text/plain": [
       "| solver                         | Solver used for training                         | adagrad  |"
      ]
     },
     "metadata": {},
     "output_type": "display_data"
    },
    {
     "data": {
      "text/html": [
       "<pre>| linear_regularization          | L2 Regularization on Linear Coefficients         | 1e-10    |</pre>"
      ],
      "text/plain": [
       "| linear_regularization          | L2 Regularization on Linear Coefficients         | 1e-10    |"
      ]
     },
     "metadata": {},
     "output_type": "display_data"
    },
    {
     "data": {
      "text/html": [
       "<pre>| binary_target                  | Assume Binary Targets                            | True     |</pre>"
      ],
      "text/plain": [
       "| binary_target                  | Assume Binary Targets                            | True     |"
      ]
     },
     "metadata": {},
     "output_type": "display_data"
    },
    {
     "data": {
      "text/html": [
       "<pre>| side_data_factorization        | Assign Factors for Side Data                     | True     |</pre>"
      ],
      "text/plain": [
       "| side_data_factorization        | Assign Factors for Side Data                     | True     |"
      ]
     },
     "metadata": {},
     "output_type": "display_data"
    },
    {
     "data": {
      "text/html": [
       "<pre>| max_iterations                 | Maximum Number of Iterations                     | 300      |</pre>"
      ],
      "text/plain": [
       "| max_iterations                 | Maximum Number of Iterations                     | 300      |"
      ]
     },
     "metadata": {},
     "output_type": "display_data"
    },
    {
     "data": {
      "text/html": [
       "<pre>+--------------------------------+--------------------------------------------------+----------+</pre>"
      ],
      "text/plain": [
       "+--------------------------------+--------------------------------------------------+----------+"
      ]
     },
     "metadata": {},
     "output_type": "display_data"
    },
    {
     "data": {
      "text/html": [
       "<pre>  Optimizing model using SGD; tuning step size.</pre>"
      ],
      "text/plain": [
       "  Optimizing model using SGD; tuning step size."
      ]
     },
     "metadata": {},
     "output_type": "display_data"
    },
    {
     "data": {
      "text/html": [
       "<pre>  Using 944854 / 7558834 points for tuning the step size.</pre>"
      ],
      "text/plain": [
       "  Using 944854 / 7558834 points for tuning the step size."
      ]
     },
     "metadata": {},
     "output_type": "display_data"
    },
    {
     "data": {
      "text/html": [
       "<pre>+---------+-------------------+------------------------------------------+</pre>"
      ],
      "text/plain": [
       "+---------+-------------------+------------------------------------------+"
      ]
     },
     "metadata": {},
     "output_type": "display_data"
    },
    {
     "data": {
      "text/html": [
       "<pre>| Attempt | Initial Step Size | Estimated Objective Value                |</pre>"
      ],
      "text/plain": [
       "| Attempt | Initial Step Size | Estimated Objective Value                |"
      ]
     },
     "metadata": {},
     "output_type": "display_data"
    },
    {
     "data": {
      "text/html": [
       "<pre>+---------+-------------------+------------------------------------------+</pre>"
      ],
      "text/plain": [
       "+---------+-------------------+------------------------------------------+"
      ]
     },
     "metadata": {},
     "output_type": "display_data"
    },
    {
     "data": {
      "text/html": [
       "<pre>| 0       | 0.974785          | Not Viable                               |</pre>"
      ],
      "text/plain": [
       "| 0       | 0.974785          | Not Viable                               |"
      ]
     },
     "metadata": {},
     "output_type": "display_data"
    },
    {
     "data": {
      "text/html": [
       "<pre>| 1       | 0.243696          | Not Viable                               |</pre>"
      ],
      "text/plain": [
       "| 1       | 0.243696          | Not Viable                               |"
      ]
     },
     "metadata": {},
     "output_type": "display_data"
    },
    {
     "data": {
      "text/html": [
       "<pre>| 2       | 0.060924          | 0.534737                                 |</pre>"
      ],
      "text/plain": [
       "| 2       | 0.060924          | 0.534737                                 |"
      ]
     },
     "metadata": {},
     "output_type": "display_data"
    },
    {
     "data": {
      "text/html": [
       "<pre>| 3       | 0.030462          | 0.51028                                  |</pre>"
      ],
      "text/plain": [
       "| 3       | 0.030462          | 0.51028                                  |"
      ]
     },
     "metadata": {},
     "output_type": "display_data"
    },
    {
     "data": {
      "text/html": [
       "<pre>| 4       | 0.015231          | 0.493961                                 |</pre>"
      ],
      "text/plain": [
       "| 4       | 0.015231          | 0.493961                                 |"
      ]
     },
     "metadata": {},
     "output_type": "display_data"
    },
    {
     "data": {
      "text/html": [
       "<pre>| 5       | 0.00761551        | 0.498008                                 |</pre>"
      ],
      "text/plain": [
       "| 5       | 0.00761551        | 0.498008                                 |"
      ]
     },
     "metadata": {},
     "output_type": "display_data"
    },
    {
     "data": {
      "text/html": [
       "<pre>| 6       | 0.00380775        | 0.530794                                 |</pre>"
      ],
      "text/plain": [
       "| 6       | 0.00380775        | 0.530794                                 |"
      ]
     },
     "metadata": {},
     "output_type": "display_data"
    },
    {
     "data": {
      "text/html": [
       "<pre>| 7       | 0.00190388        | 0.507005                                 |</pre>"
      ],
      "text/plain": [
       "| 7       | 0.00190388        | 0.507005                                 |"
      ]
     },
     "metadata": {},
     "output_type": "display_data"
    },
    {
     "data": {
      "text/html": [
       "<pre>+---------+-------------------+------------------------------------------+</pre>"
      ],
      "text/plain": [
       "+---------+-------------------+------------------------------------------+"
      ]
     },
     "metadata": {},
     "output_type": "display_data"
    },
    {
     "data": {
      "text/html": [
       "<pre>| Final   | 0.015231          | 0.493961                                 |</pre>"
      ],
      "text/plain": [
       "| Final   | 0.015231          | 0.493961                                 |"
      ]
     },
     "metadata": {},
     "output_type": "display_data"
    },
    {
     "data": {
      "text/html": [
       "<pre>+---------+-------------------+------------------------------------------+</pre>"
      ],
      "text/plain": [
       "+---------+-------------------+------------------------------------------+"
      ]
     },
     "metadata": {},
     "output_type": "display_data"
    },
    {
     "data": {
      "text/html": [
       "<pre>Starting Optimization.</pre>"
      ],
      "text/plain": [
       "Starting Optimization."
      ]
     },
     "metadata": {},
     "output_type": "display_data"
    },
    {
     "data": {
      "text/html": [
       "<pre>+---------+--------------+-------------------+-----------------------------------+-------------+</pre>"
      ],
      "text/plain": [
       "+---------+--------------+-------------------+-----------------------------------+-------------+"
      ]
     },
     "metadata": {},
     "output_type": "display_data"
    },
    {
     "data": {
      "text/html": [
       "<pre>| Iter.   | Elapsed Time | Approx. Objective | Approx. Training Predictive Error | Step Size   |</pre>"
      ],
      "text/plain": [
       "| Iter.   | Elapsed Time | Approx. Objective | Approx. Training Predictive Error | Step Size   |"
      ]
     },
     "metadata": {},
     "output_type": "display_data"
    },
    {
     "data": {
      "text/html": [
       "<pre>+---------+--------------+-------------------+-----------------------------------+-------------+</pre>"
      ],
      "text/plain": [
       "+---------+--------------+-------------------+-----------------------------------+-------------+"
      ]
     },
     "metadata": {},
     "output_type": "display_data"
    },
    {
     "data": {
      "text/html": [
       "<pre>| Initial | 107us        | 0.624594          | 0.624594                          |             |</pre>"
      ],
      "text/plain": [
       "| Initial | 107us        | 0.624594          | 0.624594                          |             |"
      ]
     },
     "metadata": {},
     "output_type": "display_data"
    },
    {
     "data": {
      "text/html": [
       "<pre>+---------+--------------+-------------------+-----------------------------------+-------------+</pre>"
      ],
      "text/plain": [
       "+---------+--------------+-------------------+-----------------------------------+-------------+"
      ]
     },
     "metadata": {},
     "output_type": "display_data"
    },
    {
     "data": {
      "text/html": [
       "<pre>| 1       | 17.28s       | 0.530782          | 0.477773                          | 0.015231    |</pre>"
      ],
      "text/plain": [
       "| 1       | 17.28s       | 0.530782          | 0.477773                          | 0.015231    |"
      ]
     },
     "metadata": {},
     "output_type": "display_data"
    },
    {
     "data": {
      "text/html": [
       "<pre>| 2       | 34.51s       | 0.497815          | 0.467073                          | 0.015231    |</pre>"
      ],
      "text/plain": [
       "| 2       | 34.51s       | 0.497815          | 0.467073                          | 0.015231    |"
      ]
     },
     "metadata": {},
     "output_type": "display_data"
    },
    {
     "data": {
      "text/html": [
       "<pre>| 3       | 51.16s       | 0.489983          | 0.462188                          | 0.015231    |</pre>"
      ],
      "text/plain": [
       "| 3       | 51.16s       | 0.489983          | 0.462188                          | 0.015231    |"
      ]
     },
     "metadata": {},
     "output_type": "display_data"
    },
    {
     "data": {
      "text/html": [
       "<pre>| 4       | 1m 7s        | 0.486007          | 0.458455                          | 0.015231    |</pre>"
      ],
      "text/plain": [
       "| 4       | 1m 7s        | 0.486007          | 0.458455                          | 0.015231    |"
      ]
     },
     "metadata": {},
     "output_type": "display_data"
    },
    {
     "data": {
      "text/html": [
       "<pre>| 5       | 1m 23s       | 0.485112          | 0.457399                          | 0.015231    |</pre>"
      ],
      "text/plain": [
       "| 5       | 1m 23s       | 0.485112          | 0.457399                          | 0.015231    |"
      ]
     },
     "metadata": {},
     "output_type": "display_data"
    },
    {
     "data": {
      "text/html": [
       "<pre>| 6       | 1m 39s       | 0.483156          | 0.456089                          | 0.015231    |</pre>"
      ],
      "text/plain": [
       "| 6       | 1m 39s       | 0.483156          | 0.456089                          | 0.015231    |"
      ]
     },
     "metadata": {},
     "output_type": "display_data"
    },
    {
     "data": {
      "text/html": [
       "<pre>| 7       | 1m 56s       | 0.479703          | 0.453056                          | 0.015231    |</pre>"
      ],
      "text/plain": [
       "| 7       | 1m 56s       | 0.479703          | 0.453056                          | 0.015231    |"
      ]
     },
     "metadata": {},
     "output_type": "display_data"
    },
    {
     "data": {
      "text/html": [
       "<pre>| 8       | 2m 14s       | 0.477776          | 0.451214                          | 0.015231    |</pre>"
      ],
      "text/plain": [
       "| 8       | 2m 14s       | 0.477776          | 0.451214                          | 0.015231    |"
      ]
     },
     "metadata": {},
     "output_type": "display_data"
    },
    {
     "data": {
      "text/html": [
       "<pre>| 9       | 2m 30s       | 0.476224          | 0.449655                          | 0.015231    |</pre>"
      ],
      "text/plain": [
       "| 9       | 2m 30s       | 0.476224          | 0.449655                          | 0.015231    |"
      ]
     },
     "metadata": {},
     "output_type": "display_data"
    },
    {
     "data": {
      "text/html": [
       "<pre>| 10      | 2m 46s       | 0.4751            | 0.448457                          | 0.015231    |</pre>"
      ],
      "text/plain": [
       "| 10      | 2m 46s       | 0.4751            | 0.448457                          | 0.015231    |"
      ]
     },
     "metadata": {},
     "output_type": "display_data"
    },
    {
     "data": {
      "text/html": [
       "<pre>| 11      | 3m 3s        | 0.474159          | 0.447375                          | 0.015231    |</pre>"
      ],
      "text/plain": [
       "| 11      | 3m 3s        | 0.474159          | 0.447375                          | 0.015231    |"
      ]
     },
     "metadata": {},
     "output_type": "display_data"
    },
    {
     "data": {
      "text/html": [
       "<pre>| 12      | 3m 20s       | 0.473278          | 0.446373                          | 0.015231    |</pre>"
      ],
      "text/plain": [
       "| 12      | 3m 20s       | 0.473278          | 0.446373                          | 0.015231    |"
      ]
     },
     "metadata": {},
     "output_type": "display_data"
    },
    {
     "data": {
      "text/html": [
       "<pre>| 13      | 3m 35s       | 0.472408          | 0.445368                          | 0.015231    |</pre>"
      ],
      "text/plain": [
       "| 13      | 3m 35s       | 0.472408          | 0.445368                          | 0.015231    |"
      ]
     },
     "metadata": {},
     "output_type": "display_data"
    },
    {
     "data": {
      "text/html": [
       "<pre>| 14      | 3m 51s       | 0.471725          | 0.444546                          | 0.015231    |</pre>"
      ],
      "text/plain": [
       "| 14      | 3m 51s       | 0.471725          | 0.444546                          | 0.015231    |"
      ]
     },
     "metadata": {},
     "output_type": "display_data"
    },
    {
     "data": {
      "text/html": [
       "<pre>| 15      | 4m 7s        | 0.470967          | 0.443672                          | 0.015231    |</pre>"
      ],
      "text/plain": [
       "| 15      | 4m 7s        | 0.470967          | 0.443672                          | 0.015231    |"
      ]
     },
     "metadata": {},
     "output_type": "display_data"
    },
    {
     "data": {
      "text/html": [
       "<pre>| 16      | 4m 25s       | 0.470301          | 0.442888                          | 0.015231    |</pre>"
      ],
      "text/plain": [
       "| 16      | 4m 25s       | 0.470301          | 0.442888                          | 0.015231    |"
      ]
     },
     "metadata": {},
     "output_type": "display_data"
    },
    {
     "data": {
      "text/html": [
       "<pre>| 17      | 4m 44s       | 0.469651          | 0.442113                          | 0.015231    |</pre>"
      ],
      "text/plain": [
       "| 17      | 4m 44s       | 0.469651          | 0.442113                          | 0.015231    |"
      ]
     },
     "metadata": {},
     "output_type": "display_data"
    },
    {
     "data": {
      "text/html": [
       "<pre>| 18      | 5m 1s        | 0.469048          | 0.441397                          | 0.015231    |</pre>"
      ],
      "text/plain": [
       "| 18      | 5m 1s        | 0.469048          | 0.441397                          | 0.015231    |"
      ]
     },
     "metadata": {},
     "output_type": "display_data"
    },
    {
     "data": {
      "text/html": [
       "<pre>| 19      | 5m 17s       | 0.468508          | 0.440723                          | 0.015231    |</pre>"
      ],
      "text/plain": [
       "| 19      | 5m 17s       | 0.468508          | 0.440723                          | 0.015231    |"
      ]
     },
     "metadata": {},
     "output_type": "display_data"
    },
    {
     "data": {
      "text/html": [
       "<pre>| 20      | 5m 33s       | 0.467946          | 0.440022                          | 0.015231    |</pre>"
      ],
      "text/plain": [
       "| 20      | 5m 33s       | 0.467946          | 0.440022                          | 0.015231    |"
      ]
     },
     "metadata": {},
     "output_type": "display_data"
    },
    {
     "data": {
      "text/html": [
       "<pre>| 21      | 5m 49s       | 0.467395          | 0.439359                          | 0.015231    |</pre>"
      ],
      "text/plain": [
       "| 21      | 5m 49s       | 0.467395          | 0.439359                          | 0.015231    |"
      ]
     },
     "metadata": {},
     "output_type": "display_data"
    },
    {
     "data": {
      "text/html": [
       "<pre>| 22      | 6m 4s        | 0.466876          | 0.43872                           | 0.015231    |</pre>"
      ],
      "text/plain": [
       "| 22      | 6m 4s        | 0.466876          | 0.43872                           | 0.015231    |"
      ]
     },
     "metadata": {},
     "output_type": "display_data"
    },
    {
     "data": {
      "text/html": [
       "<pre>| 23      | 6m 25s       | 0.466359          | 0.438096                          | 0.015231    |</pre>"
      ],
      "text/plain": [
       "| 23      | 6m 25s       | 0.466359          | 0.438096                          | 0.015231    |"
      ]
     },
     "metadata": {},
     "output_type": "display_data"
    },
    {
     "data": {
      "text/html": [
       "<pre>| 24      | 6m 41s       | 0.465896          | 0.437501                          | 0.015231    |</pre>"
      ],
      "text/plain": [
       "| 24      | 6m 41s       | 0.465896          | 0.437501                          | 0.015231    |"
      ]
     },
     "metadata": {},
     "output_type": "display_data"
    },
    {
     "data": {
      "text/html": [
       "<pre>| 25      | 6m 56s       | 0.465433          | 0.436931                          | 0.015231    |</pre>"
      ],
      "text/plain": [
       "| 25      | 6m 56s       | 0.465433          | 0.436931                          | 0.015231    |"
      ]
     },
     "metadata": {},
     "output_type": "display_data"
    },
    {
     "data": {
      "text/html": [
       "<pre>| 26      | 7m 12s       | 0.464971          | 0.43634                           | 0.015231    |</pre>"
      ],
      "text/plain": [
       "| 26      | 7m 12s       | 0.464971          | 0.43634                           | 0.015231    |"
      ]
     },
     "metadata": {},
     "output_type": "display_data"
    },
    {
     "data": {
      "text/html": [
       "<pre>| 27      | 7m 29s       | 0.464473          | 0.435728                          | 0.015231    |</pre>"
      ],
      "text/plain": [
       "| 27      | 7m 29s       | 0.464473          | 0.435728                          | 0.015231    |"
      ]
     },
     "metadata": {},
     "output_type": "display_data"
    },
    {
     "data": {
      "text/html": [
       "<pre>| 28      | 7m 45s       | 0.464039          | 0.435173                          | 0.015231    |</pre>"
      ],
      "text/plain": [
       "| 28      | 7m 45s       | 0.464039          | 0.435173                          | 0.015231    |"
      ]
     },
     "metadata": {},
     "output_type": "display_data"
    },
    {
     "data": {
      "text/html": [
       "<pre>| 29      | 8m 1s        | 0.463632          | 0.434642                          | 0.015231    |</pre>"
      ],
      "text/plain": [
       "| 29      | 8m 1s        | 0.463632          | 0.434642                          | 0.015231    |"
      ]
     },
     "metadata": {},
     "output_type": "display_data"
    },
    {
     "data": {
      "text/html": [
       "<pre>| 30      | 8m 17s       | 0.463199          | 0.434087                          | 0.015231    |</pre>"
      ],
      "text/plain": [
       "| 30      | 8m 17s       | 0.463199          | 0.434087                          | 0.015231    |"
      ]
     },
     "metadata": {},
     "output_type": "display_data"
    },
    {
     "data": {
      "text/html": [
       "<pre>| 31      | 8m 32s       | 0.462735          | 0.433516                          | 0.015231    |</pre>"
      ],
      "text/plain": [
       "| 31      | 8m 32s       | 0.462735          | 0.433516                          | 0.015231    |"
      ]
     },
     "metadata": {},
     "output_type": "display_data"
    },
    {
     "data": {
      "text/html": [
       "<pre>| 32      | 8m 49s       | 0.46236           | 0.433029                          | 0.015231    |</pre>"
      ],
      "text/plain": [
       "| 32      | 8m 49s       | 0.46236           | 0.433029                          | 0.015231    |"
      ]
     },
     "metadata": {},
     "output_type": "display_data"
    },
    {
     "data": {
      "text/html": [
       "<pre>| 33      | 9m 6s        | 0.462037          | 0.432578                          | 0.015231    |</pre>"
      ],
      "text/plain": [
       "| 33      | 9m 6s        | 0.462037          | 0.432578                          | 0.015231    |"
      ]
     },
     "metadata": {},
     "output_type": "display_data"
    },
    {
     "data": {
      "text/html": [
       "<pre>| 34      | 9m 21s       | 0.461593          | 0.432032                          | 0.015231    |</pre>"
      ],
      "text/plain": [
       "| 34      | 9m 21s       | 0.461593          | 0.432032                          | 0.015231    |"
      ]
     },
     "metadata": {},
     "output_type": "display_data"
    },
    {
     "data": {
      "text/html": [
       "<pre>| 35      | 9m 37s       | 0.461195          | 0.431535                          | 0.015231    |</pre>"
      ],
      "text/plain": [
       "| 35      | 9m 37s       | 0.461195          | 0.431535                          | 0.015231    |"
      ]
     },
     "metadata": {},
     "output_type": "display_data"
    },
    {
     "data": {
      "text/html": [
       "<pre>| 36      | 9m 53s       | 0.460847          | 0.431076                          | 0.015231    |</pre>"
      ],
      "text/plain": [
       "| 36      | 9m 53s       | 0.460847          | 0.431076                          | 0.015231    |"
      ]
     },
     "metadata": {},
     "output_type": "display_data"
    },
    {
     "data": {
      "text/html": [
       "<pre>| 37      | 10m 9s       | 0.460484          | 0.430603                          | 0.015231    |</pre>"
      ],
      "text/plain": [
       "| 37      | 10m 9s       | 0.460484          | 0.430603                          | 0.015231    |"
      ]
     },
     "metadata": {},
     "output_type": "display_data"
    },
    {
     "data": {
      "text/html": [
       "<pre>| 38      | 10m 24s      | 0.460148          | 0.430144                          | 0.015231    |</pre>"
      ],
      "text/plain": [
       "| 38      | 10m 24s      | 0.460148          | 0.430144                          | 0.015231    |"
      ]
     },
     "metadata": {},
     "output_type": "display_data"
    },
    {
     "data": {
      "text/html": [
       "<pre>| 39      | 10m 40s      | 0.459792          | 0.429691                          | 0.015231    |</pre>"
      ],
      "text/plain": [
       "| 39      | 10m 40s      | 0.459792          | 0.429691                          | 0.015231    |"
      ]
     },
     "metadata": {},
     "output_type": "display_data"
    },
    {
     "data": {
      "text/html": [
       "<pre>| 40      | 10m 55s      | 0.459495          | 0.429279                          | 0.015231    |</pre>"
      ],
      "text/plain": [
       "| 40      | 10m 55s      | 0.459495          | 0.429279                          | 0.015231    |"
      ]
     },
     "metadata": {},
     "output_type": "display_data"
    },
    {
     "data": {
      "text/html": [
       "<pre>| 41      | 11m 11s      | 0.459199          | 0.428869                          | 0.015231    |</pre>"
      ],
      "text/plain": [
       "| 41      | 11m 11s      | 0.459199          | 0.428869                          | 0.015231    |"
      ]
     },
     "metadata": {},
     "output_type": "display_data"
    },
    {
     "data": {
      "text/html": [
       "<pre>| 42      | 11m 27s      | 0.458852          | 0.428403                          | 0.015231    |</pre>"
      ],
      "text/plain": [
       "| 42      | 11m 27s      | 0.458852          | 0.428403                          | 0.015231    |"
      ]
     },
     "metadata": {},
     "output_type": "display_data"
    },
    {
     "data": {
      "text/html": [
       "<pre>| 43      | 11m 42s      | 0.458532          | 0.427984                          | 0.015231    |</pre>"
      ],
      "text/plain": [
       "| 43      | 11m 42s      | 0.458532          | 0.427984                          | 0.015231    |"
      ]
     },
     "metadata": {},
     "output_type": "display_data"
    },
    {
     "data": {
      "text/html": [
       "<pre>| 44      | 11m 59s      | 0.45825           | 0.4276                            | 0.015231    |</pre>"
      ],
      "text/plain": [
       "| 44      | 11m 59s      | 0.45825           | 0.4276                            | 0.015231    |"
      ]
     },
     "metadata": {},
     "output_type": "display_data"
    },
    {
     "data": {
      "text/html": [
       "<pre>| 45      | 12m 15s      | 0.45798           | 0.427211                          | 0.015231    |</pre>"
      ],
      "text/plain": [
       "| 45      | 12m 15s      | 0.45798           | 0.427211                          | 0.015231    |"
      ]
     },
     "metadata": {},
     "output_type": "display_data"
    },
    {
     "data": {
      "text/html": [
       "<pre>| 46      | 12m 32s      | 0.457688          | 0.426802                          | 0.015231    |</pre>"
      ],
      "text/plain": [
       "| 46      | 12m 32s      | 0.457688          | 0.426802                          | 0.015231    |"
      ]
     },
     "metadata": {},
     "output_type": "display_data"
    },
    {
     "data": {
      "text/html": [
       "<pre>| 47      | 12m 49s      | 0.457424          | 0.426439                          | 0.015231    |</pre>"
      ],
      "text/plain": [
       "| 47      | 12m 49s      | 0.457424          | 0.426439                          | 0.015231    |"
      ]
     },
     "metadata": {},
     "output_type": "display_data"
    },
    {
     "data": {
      "text/html": [
       "<pre>| 48      | 13m 6s       | 0.457121          | 0.42604                           | 0.015231    |</pre>"
      ],
      "text/plain": [
       "| 48      | 13m 6s       | 0.457121          | 0.42604                           | 0.015231    |"
      ]
     },
     "metadata": {},
     "output_type": "display_data"
    },
    {
     "data": {
      "text/html": [
       "<pre>| 49      | 13m 23s      | 0.456895          | 0.425691                          | 0.015231    |</pre>"
      ],
      "text/plain": [
       "| 49      | 13m 23s      | 0.456895          | 0.425691                          | 0.015231    |"
      ]
     },
     "metadata": {},
     "output_type": "display_data"
    },
    {
     "data": {
      "text/html": [
       "<pre>| 50      | 13m 41s      | 0.456635          | 0.425323                          | 0.015231    |</pre>"
      ],
      "text/plain": [
       "| 50      | 13m 41s      | 0.456635          | 0.425323                          | 0.015231    |"
      ]
     },
     "metadata": {},
     "output_type": "display_data"
    },
    {
     "data": {
      "text/html": [
       "<pre>| 51      | 13m 58s      | 0.456381          | 0.424962                          | 0.015231    |</pre>"
      ],
      "text/plain": [
       "| 51      | 13m 58s      | 0.456381          | 0.424962                          | 0.015231    |"
      ]
     },
     "metadata": {},
     "output_type": "display_data"
    },
    {
     "data": {
      "text/html": [
       "<pre>| 52      | 14m 15s      | 0.456195          | 0.424655                          | 0.015231    |</pre>"
      ],
      "text/plain": [
       "| 52      | 14m 15s      | 0.456195          | 0.424655                          | 0.015231    |"
      ]
     },
     "metadata": {},
     "output_type": "display_data"
    },
    {
     "data": {
      "text/html": [
       "<pre>| 53      | 14m 32s      | 0.455951          | 0.424308                          | 0.015231    |</pre>"
      ],
      "text/plain": [
       "| 53      | 14m 32s      | 0.455951          | 0.424308                          | 0.015231    |"
      ]
     },
     "metadata": {},
     "output_type": "display_data"
    },
    {
     "data": {
      "text/html": [
       "<pre>| 54      | 14m 48s      | 0.455729          | 0.423989                          | 0.015231    |</pre>"
      ],
      "text/plain": [
       "| 54      | 14m 48s      | 0.455729          | 0.423989                          | 0.015231    |"
      ]
     },
     "metadata": {},
     "output_type": "display_data"
    },
    {
     "data": {
      "text/html": [
       "<pre>| 55      | 15m 4s       | 0.455485          | 0.423636                          | 0.015231    |</pre>"
      ],
      "text/plain": [
       "| 55      | 15m 4s       | 0.455485          | 0.423636                          | 0.015231    |"
      ]
     },
     "metadata": {},
     "output_type": "display_data"
    },
    {
     "data": {
      "text/html": [
       "<pre>| 56      | 15m 22s      | 0.455309          | 0.423344                          | 0.015231    |</pre>"
      ],
      "text/plain": [
       "| 56      | 15m 22s      | 0.455309          | 0.423344                          | 0.015231    |"
      ]
     },
     "metadata": {},
     "output_type": "display_data"
    },
    {
     "data": {
      "text/html": [
       "<pre>| 57      | 15m 37s      | 0.455092          | 0.423019                          | 0.015231    |</pre>"
      ],
      "text/plain": [
       "| 57      | 15m 37s      | 0.455092          | 0.423019                          | 0.015231    |"
      ]
     },
     "metadata": {},
     "output_type": "display_data"
    },
    {
     "data": {
      "text/html": [
       "<pre>| 58      | 15m 53s      | 0.454887          | 0.422696                          | 0.015231    |</pre>"
      ],
      "text/plain": [
       "| 58      | 15m 53s      | 0.454887          | 0.422696                          | 0.015231    |"
      ]
     },
     "metadata": {},
     "output_type": "display_data"
    },
    {
     "data": {
      "text/html": [
       "<pre>| 59      | 16m 8s       | 0.454693          | 0.422402                          | 0.015231    |</pre>"
      ],
      "text/plain": [
       "| 59      | 16m 8s       | 0.454693          | 0.422402                          | 0.015231    |"
      ]
     },
     "metadata": {},
     "output_type": "display_data"
    },
    {
     "data": {
      "text/html": [
       "<pre>| 60      | 16m 25s      | 0.454526          | 0.42212                           | 0.015231    |</pre>"
      ],
      "text/plain": [
       "| 60      | 16m 25s      | 0.454526          | 0.42212                           | 0.015231    |"
      ]
     },
     "metadata": {},
     "output_type": "display_data"
    },
    {
     "data": {
      "text/html": [
       "<pre>| 61      | 16m 41s      | 0.454321          | 0.421812                          | 0.015231    |</pre>"
      ],
      "text/plain": [
       "| 61      | 16m 41s      | 0.454321          | 0.421812                          | 0.015231    |"
      ]
     },
     "metadata": {},
     "output_type": "display_data"
    },
    {
     "data": {
      "text/html": [
       "<pre>| 62      | 16m 57s      | 0.454141          | 0.421524                          | 0.015231    |</pre>"
      ],
      "text/plain": [
       "| 62      | 16m 57s      | 0.454141          | 0.421524                          | 0.015231    |"
      ]
     },
     "metadata": {},
     "output_type": "display_data"
    },
    {
     "data": {
      "text/html": [
       "<pre>| 63      | 17m 13s      | 0.453954          | 0.421222                          | 0.015231    |</pre>"
      ],
      "text/plain": [
       "| 63      | 17m 13s      | 0.453954          | 0.421222                          | 0.015231    |"
      ]
     },
     "metadata": {},
     "output_type": "display_data"
    },
    {
     "data": {
      "text/html": [
       "<pre>| 64      | 17m 29s      | 0.453776          | 0.420946                          | 0.015231    |</pre>"
      ],
      "text/plain": [
       "| 64      | 17m 29s      | 0.453776          | 0.420946                          | 0.015231    |"
      ]
     },
     "metadata": {},
     "output_type": "display_data"
    },
    {
     "data": {
      "text/html": [
       "<pre>| 65      | 17m 45s      | 0.453585          | 0.420656                          | 0.015231    |</pre>"
      ],
      "text/plain": [
       "| 65      | 17m 45s      | 0.453585          | 0.420656                          | 0.015231    |"
      ]
     },
     "metadata": {},
     "output_type": "display_data"
    },
    {
     "data": {
      "text/html": [
       "<pre>| 66      | 18m 1s       | 0.453414          | 0.420367                          | 0.015231    |</pre>"
      ],
      "text/plain": [
       "| 66      | 18m 1s       | 0.453414          | 0.420367                          | 0.015231    |"
      ]
     },
     "metadata": {},
     "output_type": "display_data"
    },
    {
     "data": {
      "text/html": [
       "<pre>| 67      | 18m 18s      | 0.453277          | 0.420116                          | 0.015231    |</pre>"
      ],
      "text/plain": [
       "| 67      | 18m 18s      | 0.453277          | 0.420116                          | 0.015231    |"
      ]
     },
     "metadata": {},
     "output_type": "display_data"
    },
    {
     "data": {
      "text/html": [
       "<pre>| 68      | 18m 35s      | 0.453141          | 0.419874                          | 0.015231    |</pre>"
      ],
      "text/plain": [
       "| 68      | 18m 35s      | 0.453141          | 0.419874                          | 0.015231    |"
      ]
     },
     "metadata": {},
     "output_type": "display_data"
    },
    {
     "data": {
      "text/html": [
       "<pre>| 69      | 18m 52s      | 0.452929          | 0.419569                          | 0.015231    |</pre>"
      ],
      "text/plain": [
       "| 69      | 18m 52s      | 0.452929          | 0.419569                          | 0.015231    |"
      ]
     },
     "metadata": {},
     "output_type": "display_data"
    },
    {
     "data": {
      "text/html": [
       "<pre>| 70      | 19m 9s       | 0.452789          | 0.41933                           | 0.015231    |</pre>"
      ],
      "text/plain": [
       "| 70      | 19m 9s       | 0.452789          | 0.41933                           | 0.015231    |"
      ]
     },
     "metadata": {},
     "output_type": "display_data"
    },
    {
     "data": {
      "text/html": [
       "<pre>| 71      | 19m 27s      | 0.452667          | 0.419095                          | 0.015231    |</pre>"
      ],
      "text/plain": [
       "| 71      | 19m 27s      | 0.452667          | 0.419095                          | 0.015231    |"
      ]
     },
     "metadata": {},
     "output_type": "display_data"
    },
    {
     "data": {
      "text/html": [
       "<pre>| 72      | 19m 45s      | 0.452508          | 0.418829                          | 0.015231    |</pre>"
      ],
      "text/plain": [
       "| 72      | 19m 45s      | 0.452508          | 0.418829                          | 0.015231    |"
      ]
     },
     "metadata": {},
     "output_type": "display_data"
    },
    {
     "data": {
      "text/html": [
       "<pre>| 73      | 20m 2s       | 0.452334          | 0.418561                          | 0.015231    |</pre>"
      ],
      "text/plain": [
       "| 73      | 20m 2s       | 0.452334          | 0.418561                          | 0.015231    |"
      ]
     },
     "metadata": {},
     "output_type": "display_data"
    },
    {
     "data": {
      "text/html": [
       "<pre>| 74      | 20m 19s      | 0.452218          | 0.418349                          | 0.015231    |</pre>"
      ],
      "text/plain": [
       "| 74      | 20m 19s      | 0.452218          | 0.418349                          | 0.015231    |"
      ]
     },
     "metadata": {},
     "output_type": "display_data"
    },
    {
     "data": {
      "text/html": [
       "<pre>| 75      | 20m 35s      | 0.4521            | 0.418123                          | 0.015231    |</pre>"
      ],
      "text/plain": [
       "| 75      | 20m 35s      | 0.4521            | 0.418123                          | 0.015231    |"
      ]
     },
     "metadata": {},
     "output_type": "display_data"
    },
    {
     "data": {
      "text/html": [
       "<pre>| 76      | 20m 53s      | 0.451988          | 0.417908                          | 0.015231    |</pre>"
      ],
      "text/plain": [
       "| 76      | 20m 53s      | 0.451988          | 0.417908                          | 0.015231    |"
      ]
     },
     "metadata": {},
     "output_type": "display_data"
    },
    {
     "data": {
      "text/html": [
       "<pre>| 77      | 21m 11s      | 0.451852          | 0.417665                          | 0.015231    |</pre>"
      ],
      "text/plain": [
       "| 77      | 21m 11s      | 0.451852          | 0.417665                          | 0.015231    |"
      ]
     },
     "metadata": {},
     "output_type": "display_data"
    },
    {
     "data": {
      "text/html": [
       "<pre>| 78      | 21m 28s      | 0.451718          | 0.417433                          | 0.015231    |</pre>"
      ],
      "text/plain": [
       "| 78      | 21m 28s      | 0.451718          | 0.417433                          | 0.015231    |"
      ]
     },
     "metadata": {},
     "output_type": "display_data"
    },
    {
     "data": {
      "text/html": [
       "<pre>| 79      | 21m 44s      | 0.451598          | 0.417203                          | 0.015231    |</pre>"
      ],
      "text/plain": [
       "| 79      | 21m 44s      | 0.451598          | 0.417203                          | 0.015231    |"
      ]
     },
     "metadata": {},
     "output_type": "display_data"
    },
    {
     "data": {
      "text/html": [
       "<pre>| 80      | 22m 0s       | 0.451449          | 0.416953                          | 0.015231    |</pre>"
      ],
      "text/plain": [
       "| 80      | 22m 0s       | 0.451449          | 0.416953                          | 0.015231    |"
      ]
     },
     "metadata": {},
     "output_type": "display_data"
    },
    {
     "data": {
      "text/html": [
       "<pre>| 81      | 22m 16s      | 0.451338          | 0.416751                          | 0.015231    |</pre>"
      ],
      "text/plain": [
       "| 81      | 22m 16s      | 0.451338          | 0.416751                          | 0.015231    |"
      ]
     },
     "metadata": {},
     "output_type": "display_data"
    },
    {
     "data": {
      "text/html": [
       "<pre>| 82      | 22m 33s      | 0.451223          | 0.416545                          | 0.015231    |</pre>"
      ],
      "text/plain": [
       "| 82      | 22m 33s      | 0.451223          | 0.416545                          | 0.015231    |"
      ]
     },
     "metadata": {},
     "output_type": "display_data"
    },
    {
     "data": {
      "text/html": [
       "<pre>| 83      | 22m 50s      | 0.451129          | 0.41635                           | 0.015231    |</pre>"
      ],
      "text/plain": [
       "| 83      | 22m 50s      | 0.451129          | 0.41635                           | 0.015231    |"
      ]
     },
     "metadata": {},
     "output_type": "display_data"
    },
    {
     "data": {
      "text/html": [
       "<pre>| 84      | 23m 7s       | 0.450997          | 0.416108                          | 0.015231    |</pre>"
      ],
      "text/plain": [
       "| 84      | 23m 7s       | 0.450997          | 0.416108                          | 0.015231    |"
      ]
     },
     "metadata": {},
     "output_type": "display_data"
    },
    {
     "data": {
      "text/html": [
       "<pre>| 85      | 23m 24s      | 0.450902          | 0.415912                          | 0.015231    |</pre>"
      ],
      "text/plain": [
       "| 85      | 23m 24s      | 0.450902          | 0.415912                          | 0.015231    |"
      ]
     },
     "metadata": {},
     "output_type": "display_data"
    },
    {
     "data": {
      "text/html": [
       "<pre>| 86      | 23m 41s      | 0.45083           | 0.415732                          | 0.015231    |</pre>"
      ],
      "text/plain": [
       "| 86      | 23m 41s      | 0.45083           | 0.415732                          | 0.015231    |"
      ]
     },
     "metadata": {},
     "output_type": "display_data"
    },
    {
     "data": {
      "text/html": [
       "<pre>| 87      | 23m 59s      | 0.450711          | 0.415513                          | 0.015231    |</pre>"
      ],
      "text/plain": [
       "| 87      | 23m 59s      | 0.450711          | 0.415513                          | 0.015231    |"
      ]
     },
     "metadata": {},
     "output_type": "display_data"
    },
    {
     "data": {
      "text/html": [
       "<pre>| 88      | 24m 15s      | 0.450592          | 0.415303                          | 0.015231    |</pre>"
      ],
      "text/plain": [
       "| 88      | 24m 15s      | 0.450592          | 0.415303                          | 0.015231    |"
      ]
     },
     "metadata": {},
     "output_type": "display_data"
    },
    {
     "data": {
      "text/html": [
       "<pre>| 89      | 24m 31s      | 0.450491          | 0.415108                          | 0.015231    |</pre>"
      ],
      "text/plain": [
       "| 89      | 24m 31s      | 0.450491          | 0.415108                          | 0.015231    |"
      ]
     },
     "metadata": {},
     "output_type": "display_data"
    },
    {
     "data": {
      "text/html": [
       "<pre>| 90      | 24m 47s      | 0.450398          | 0.414928                          | 0.015231    |</pre>"
      ],
      "text/plain": [
       "| 90      | 24m 47s      | 0.450398          | 0.414928                          | 0.015231    |"
      ]
     },
     "metadata": {},
     "output_type": "display_data"
    },
    {
     "data": {
      "text/html": [
       "<pre>| 91      | 25m 4s       | 0.450323          | 0.414746                          | 0.015231    |</pre>"
      ],
      "text/plain": [
       "| 91      | 25m 4s       | 0.450323          | 0.414746                          | 0.015231    |"
      ]
     },
     "metadata": {},
     "output_type": "display_data"
    },
    {
     "data": {
      "text/html": [
       "<pre>| 92      | 25m 21s      | 0.450221          | 0.414546                          | 0.015231    |</pre>"
      ],
      "text/plain": [
       "| 92      | 25m 21s      | 0.450221          | 0.414546                          | 0.015231    |"
      ]
     },
     "metadata": {},
     "output_type": "display_data"
    },
    {
     "data": {
      "text/html": [
       "<pre>| 93      | 25m 37s      | 0.450124          | 0.414349                          | 0.015231    |</pre>"
      ],
      "text/plain": [
       "| 93      | 25m 37s      | 0.450124          | 0.414349                          | 0.015231    |"
      ]
     },
     "metadata": {},
     "output_type": "display_data"
    },
    {
     "data": {
      "text/html": [
       "<pre>| 94      | 25m 53s      | 0.450043          | 0.414179                          | 0.015231    |</pre>"
      ],
      "text/plain": [
       "| 94      | 25m 53s      | 0.450043          | 0.414179                          | 0.015231    |"
      ]
     },
     "metadata": {},
     "output_type": "display_data"
    },
    {
     "data": {
      "text/html": [
       "<pre>| 95      | 26m 9s       | 0.449958          | 0.414011                          | 0.015231    |</pre>"
      ],
      "text/plain": [
       "| 95      | 26m 9s       | 0.449958          | 0.414011                          | 0.015231    |"
      ]
     },
     "metadata": {},
     "output_type": "display_data"
    },
    {
     "data": {
      "text/html": [
       "<pre>| 96      | 26m 24s      | 0.449867          | 0.413836                          | 0.015231    |</pre>"
      ],
      "text/plain": [
       "| 96      | 26m 24s      | 0.449867          | 0.413836                          | 0.015231    |"
      ]
     },
     "metadata": {},
     "output_type": "display_data"
    },
    {
     "data": {
      "text/html": [
       "<pre>| 97      | 26m 42s      | 0.449789          | 0.413655                          | 0.015231    |</pre>"
      ],
      "text/plain": [
       "| 97      | 26m 42s      | 0.449789          | 0.413655                          | 0.015231    |"
      ]
     },
     "metadata": {},
     "output_type": "display_data"
    },
    {
     "data": {
      "text/html": [
       "<pre>| 98      | 26m 59s      | 0.449712          | 0.41348                           | 0.015231    |</pre>"
      ],
      "text/plain": [
       "| 98      | 26m 59s      | 0.449712          | 0.41348                           | 0.015231    |"
      ]
     },
     "metadata": {},
     "output_type": "display_data"
    },
    {
     "data": {
      "text/html": [
       "<pre>| 99      | 27m 15s      | 0.449626          | 0.413301                          | 0.015231    |</pre>"
      ],
      "text/plain": [
       "| 99      | 27m 15s      | 0.449626          | 0.413301                          | 0.015231    |"
      ]
     },
     "metadata": {},
     "output_type": "display_data"
    },
    {
     "data": {
      "text/html": [
       "<pre>| 100     | 27m 32s      | 0.449544          | 0.413137                          | 0.015231    |</pre>"
      ],
      "text/plain": [
       "| 100     | 27m 32s      | 0.449544          | 0.413137                          | 0.015231    |"
      ]
     },
     "metadata": {},
     "output_type": "display_data"
    },
    {
     "data": {
      "text/html": [
       "<pre>| 101     | 27m 48s      | 0.449468          | 0.412978                          | 0.015231    |</pre>"
      ],
      "text/plain": [
       "| 101     | 27m 48s      | 0.449468          | 0.412978                          | 0.015231    |"
      ]
     },
     "metadata": {},
     "output_type": "display_data"
    },
    {
     "data": {
      "text/html": [
       "<pre>| 102     | 28m 4s       | 0.449387          | 0.412819                          | 0.015231    |</pre>"
      ],
      "text/plain": [
       "| 102     | 28m 4s       | 0.449387          | 0.412819                          | 0.015231    |"
      ]
     },
     "metadata": {},
     "output_type": "display_data"
    },
    {
     "data": {
      "text/html": [
       "<pre>| 103     | 28m 21s      | 0.449332          | 0.412671                          | 0.015231    |</pre>"
      ],
      "text/plain": [
       "| 103     | 28m 21s      | 0.449332          | 0.412671                          | 0.015231    |"
      ]
     },
     "metadata": {},
     "output_type": "display_data"
    },
    {
     "data": {
      "text/html": [
       "<pre>| 104     | 28m 37s      | 0.449263          | 0.412514                          | 0.015231    |</pre>"
      ],
      "text/plain": [
       "| 104     | 28m 37s      | 0.449263          | 0.412514                          | 0.015231    |"
      ]
     },
     "metadata": {},
     "output_type": "display_data"
    },
    {
     "data": {
      "text/html": [
       "<pre>| 105     | 28m 53s      | 0.449207          | 0.412376                          | 0.015231    |</pre>"
      ],
      "text/plain": [
       "| 105     | 28m 53s      | 0.449207          | 0.412376                          | 0.015231    |"
      ]
     },
     "metadata": {},
     "output_type": "display_data"
    },
    {
     "data": {
      "text/html": [
       "<pre>| 106     | 29m 11s      | 0.449129          | 0.41221                           | 0.015231    |</pre>"
      ],
      "text/plain": [
       "| 106     | 29m 11s      | 0.449129          | 0.41221                           | 0.015231    |"
      ]
     },
     "metadata": {},
     "output_type": "display_data"
    },
    {
     "data": {
      "text/html": [
       "<pre>| 107     | 29m 26s      | 0.449037          | 0.412033                          | 0.015231    |</pre>"
      ],
      "text/plain": [
       "| 107     | 29m 26s      | 0.449037          | 0.412033                          | 0.015231    |"
      ]
     },
     "metadata": {},
     "output_type": "display_data"
    },
    {
     "data": {
      "text/html": [
       "<pre>| 108     | 29m 42s      | 0.448998          | 0.411915                          | 0.015231    |</pre>"
      ],
      "text/plain": [
       "| 108     | 29m 42s      | 0.448998          | 0.411915                          | 0.015231    |"
      ]
     },
     "metadata": {},
     "output_type": "display_data"
    },
    {
     "data": {
      "text/html": [
       "<pre>| 109     | 29m 57s      | 0.448931          | 0.411755                          | 0.015231    |</pre>"
      ],
      "text/plain": [
       "| 109     | 29m 57s      | 0.448931          | 0.411755                          | 0.015231    |"
      ]
     },
     "metadata": {},
     "output_type": "display_data"
    },
    {
     "data": {
      "text/html": [
       "<pre>| 110     | 30m 12s      | 0.448881          | 0.411619                          | 0.015231    |</pre>"
      ],
      "text/plain": [
       "| 110     | 30m 12s      | 0.448881          | 0.411619                          | 0.015231    |"
      ]
     },
     "metadata": {},
     "output_type": "display_data"
    },
    {
     "data": {
      "text/html": [
       "<pre>| 111     | 30m 28s      | 0.448794          | 0.411453                          | 0.015231    |</pre>"
      ],
      "text/plain": [
       "| 111     | 30m 28s      | 0.448794          | 0.411453                          | 0.015231    |"
      ]
     },
     "metadata": {},
     "output_type": "display_data"
    },
    {
     "data": {
      "text/html": [
       "<pre>| 112     | 30m 43s      | 0.448746          | 0.411327                          | 0.015231    |</pre>"
      ],
      "text/plain": [
       "| 112     | 30m 43s      | 0.448746          | 0.411327                          | 0.015231    |"
      ]
     },
     "metadata": {},
     "output_type": "display_data"
    },
    {
     "data": {
      "text/html": [
       "<pre>| 113     | 30m 58s      | 0.448698          | 0.411206                          | 0.015231    |</pre>"
      ],
      "text/plain": [
       "| 113     | 30m 58s      | 0.448698          | 0.411206                          | 0.015231    |"
      ]
     },
     "metadata": {},
     "output_type": "display_data"
    },
    {
     "data": {
      "text/html": [
       "<pre>| 114     | 31m 13s      | 0.448627          | 0.411055                          | 0.015231    |</pre>"
      ],
      "text/plain": [
       "| 114     | 31m 13s      | 0.448627          | 0.411055                          | 0.015231    |"
      ]
     },
     "metadata": {},
     "output_type": "display_data"
    },
    {
     "data": {
      "text/html": [
       "<pre>| 115     | 31m 28s      | 0.448575          | 0.410927                          | 0.015231    |</pre>"
      ],
      "text/plain": [
       "| 115     | 31m 28s      | 0.448575          | 0.410927                          | 0.015231    |"
      ]
     },
     "metadata": {},
     "output_type": "display_data"
    },
    {
     "data": {
      "text/html": [
       "<pre>| 116     | 31m 43s      | 0.448535          | 0.410797                          | 0.015231    |</pre>"
      ],
      "text/plain": [
       "| 116     | 31m 43s      | 0.448535          | 0.410797                          | 0.015231    |"
      ]
     },
     "metadata": {},
     "output_type": "display_data"
    },
    {
     "data": {
      "text/html": [
       "<pre>| 117     | 31m 58s      | 0.448438          | 0.41062                           | 0.015231    |</pre>"
      ],
      "text/plain": [
       "| 117     | 31m 58s      | 0.448438          | 0.41062                           | 0.015231    |"
      ]
     },
     "metadata": {},
     "output_type": "display_data"
    },
    {
     "data": {
      "text/html": [
       "<pre>| 118     | 32m 13s      | 0.448415          | 0.410515                          | 0.015231    |</pre>"
      ],
      "text/plain": [
       "| 118     | 32m 13s      | 0.448415          | 0.410515                          | 0.015231    |"
      ]
     },
     "metadata": {},
     "output_type": "display_data"
    },
    {
     "data": {
      "text/html": [
       "<pre>| 119     | 32m 28s      | 0.448378          | 0.410393                          | 0.015231    |</pre>"
      ],
      "text/plain": [
       "| 119     | 32m 28s      | 0.448378          | 0.410393                          | 0.015231    |"
      ]
     },
     "metadata": {},
     "output_type": "display_data"
    },
    {
     "data": {
      "text/html": [
       "<pre>| 120     | 32m 43s      | 0.448324          | 0.410262                          | 0.015231    |</pre>"
      ],
      "text/plain": [
       "| 120     | 32m 43s      | 0.448324          | 0.410262                          | 0.015231    |"
      ]
     },
     "metadata": {},
     "output_type": "display_data"
    },
    {
     "data": {
      "text/html": [
       "<pre>| 121     | 32m 58s      | 0.44826           | 0.410125                          | 0.015231    |</pre>"
      ],
      "text/plain": [
       "| 121     | 32m 58s      | 0.44826           | 0.410125                          | 0.015231    |"
      ]
     },
     "metadata": {},
     "output_type": "display_data"
    },
    {
     "data": {
      "text/html": [
       "<pre>| 122     | 33m 13s      | 0.448182          | 0.409981                          | 0.015231    |</pre>"
      ],
      "text/plain": [
       "| 122     | 33m 13s      | 0.448182          | 0.409981                          | 0.015231    |"
      ]
     },
     "metadata": {},
     "output_type": "display_data"
    },
    {
     "data": {
      "text/html": [
       "<pre>| 123     | 33m 28s      | 0.44813           | 0.409866                          | 0.015231    |</pre>"
      ],
      "text/plain": [
       "| 123     | 33m 28s      | 0.44813           | 0.409866                          | 0.015231    |"
      ]
     },
     "metadata": {},
     "output_type": "display_data"
    },
    {
     "data": {
      "text/html": [
       "<pre>| 124     | 33m 44s      | 0.448119          | 0.409787                          | 0.015231    |</pre>"
      ],
      "text/plain": [
       "| 124     | 33m 44s      | 0.448119          | 0.409787                          | 0.015231    |"
      ]
     },
     "metadata": {},
     "output_type": "display_data"
    },
    {
     "data": {
      "text/html": [
       "<pre>| 125     | 33m 59s      | 0.448027          | 0.40963                           | 0.015231    |</pre>"
      ],
      "text/plain": [
       "| 125     | 33m 59s      | 0.448027          | 0.40963                           | 0.015231    |"
      ]
     },
     "metadata": {},
     "output_type": "display_data"
    },
    {
     "data": {
      "text/html": [
       "<pre>| 126     | 34m 14s      | 0.448019          | 0.409542                          | 0.015231    |</pre>"
      ],
      "text/plain": [
       "| 126     | 34m 14s      | 0.448019          | 0.409542                          | 0.015231    |"
      ]
     },
     "metadata": {},
     "output_type": "display_data"
    },
    {
     "data": {
      "text/html": [
       "<pre>| 127     | 34m 30s      | 0.44795           | 0.4094                            | 0.015231    |</pre>"
      ],
      "text/plain": [
       "| 127     | 34m 30s      | 0.44795           | 0.4094                            | 0.015231    |"
      ]
     },
     "metadata": {},
     "output_type": "display_data"
    },
    {
     "data": {
      "text/html": [
       "<pre>| 128     | 34m 46s      | 0.447927          | 0.409299                          | 0.015231    |</pre>"
      ],
      "text/plain": [
       "| 128     | 34m 46s      | 0.447927          | 0.409299                          | 0.015231    |"
      ]
     },
     "metadata": {},
     "output_type": "display_data"
    },
    {
     "data": {
      "text/html": [
       "<pre>| 129     | 35m 1s       | 0.447894          | 0.409193                          | 0.015231    |</pre>"
      ],
      "text/plain": [
       "| 129     | 35m 1s       | 0.447894          | 0.409193                          | 0.015231    |"
      ]
     },
     "metadata": {},
     "output_type": "display_data"
    },
    {
     "data": {
      "text/html": [
       "<pre>| 130     | 35m 16s      | 0.447815          | 0.409049                          | 0.015231    |</pre>"
      ],
      "text/plain": [
       "| 130     | 35m 16s      | 0.447815          | 0.409049                          | 0.015231    |"
      ]
     },
     "metadata": {},
     "output_type": "display_data"
    },
    {
     "data": {
      "text/html": [
       "<pre>| 131     | 35m 31s      | 0.447788          | 0.408959                          | 0.015231    |</pre>"
      ],
      "text/plain": [
       "| 131     | 35m 31s      | 0.447788          | 0.408959                          | 0.015231    |"
      ]
     },
     "metadata": {},
     "output_type": "display_data"
    },
    {
     "data": {
      "text/html": [
       "<pre>| 132     | 35m 47s      | 0.447718          | 0.408832                          | 0.015231    |</pre>"
      ],
      "text/plain": [
       "| 132     | 35m 47s      | 0.447718          | 0.408832                          | 0.015231    |"
      ]
     },
     "metadata": {},
     "output_type": "display_data"
    },
    {
     "data": {
      "text/html": [
       "<pre>| 133     | 36m 2s       | 0.44767           | 0.408726                          | 0.015231    |</pre>"
      ],
      "text/plain": [
       "| 133     | 36m 2s       | 0.44767           | 0.408726                          | 0.015231    |"
      ]
     },
     "metadata": {},
     "output_type": "display_data"
    },
    {
     "data": {
      "text/html": [
       "<pre>| 134     | 36m 17s      | 0.44765           | 0.408645                          | 0.015231    |</pre>"
      ],
      "text/plain": [
       "| 134     | 36m 17s      | 0.44765           | 0.408645                          | 0.015231    |"
      ]
     },
     "metadata": {},
     "output_type": "display_data"
    },
    {
     "data": {
      "text/html": [
       "<pre>| 135     | 36m 32s      | 0.447616          | 0.408538                          | 0.015231    |</pre>"
      ],
      "text/plain": [
       "| 135     | 36m 32s      | 0.447616          | 0.408538                          | 0.015231    |"
      ]
     },
     "metadata": {},
     "output_type": "display_data"
    },
    {
     "data": {
      "text/html": [
       "<pre>| 136     | 36m 47s      | 0.447554          | 0.408406                          | 0.015231    |</pre>"
      ],
      "text/plain": [
       "| 136     | 36m 47s      | 0.447554          | 0.408406                          | 0.015231    |"
      ]
     },
     "metadata": {},
     "output_type": "display_data"
    },
    {
     "data": {
      "text/html": [
       "<pre>| 137     | 37m 2s       | 0.447528          | 0.408312                          | 0.015231    |</pre>"
      ],
      "text/plain": [
       "| 137     | 37m 2s       | 0.447528          | 0.408312                          | 0.015231    |"
      ]
     },
     "metadata": {},
     "output_type": "display_data"
    },
    {
     "data": {
      "text/html": [
       "<pre>| 138     | 37m 17s      | 0.447483          | 0.408203                          | 0.015231    |</pre>"
      ],
      "text/plain": [
       "| 138     | 37m 17s      | 0.447483          | 0.408203                          | 0.015231    |"
      ]
     },
     "metadata": {},
     "output_type": "display_data"
    },
    {
     "data": {
      "text/html": [
       "<pre>| 139     | 37m 32s      | 0.447447          | 0.408107                          | 0.015231    |</pre>"
      ],
      "text/plain": [
       "| 139     | 37m 32s      | 0.447447          | 0.408107                          | 0.015231    |"
      ]
     },
     "metadata": {},
     "output_type": "display_data"
    },
    {
     "data": {
      "text/html": [
       "<pre>| 140     | 37m 47s      | 0.447391          | 0.407996                          | 0.015231    |</pre>"
      ],
      "text/plain": [
       "| 140     | 37m 47s      | 0.447391          | 0.407996                          | 0.015231    |"
      ]
     },
     "metadata": {},
     "output_type": "display_data"
    },
    {
     "data": {
      "text/html": [
       "<pre>| 141     | 38m 2s       | 0.447364          | 0.407914                          | 0.015231    |</pre>"
      ],
      "text/plain": [
       "| 141     | 38m 2s       | 0.447364          | 0.407914                          | 0.015231    |"
      ]
     },
     "metadata": {},
     "output_type": "display_data"
    },
    {
     "data": {
      "text/html": [
       "<pre>| 142     | 38m 18s      | 0.447325          | 0.407821                          | 0.015231    |</pre>"
      ],
      "text/plain": [
       "| 142     | 38m 18s      | 0.447325          | 0.407821                          | 0.015231    |"
      ]
     },
     "metadata": {},
     "output_type": "display_data"
    },
    {
     "data": {
      "text/html": [
       "<pre>| 143     | 38m 33s      | 0.447304          | 0.407746                          | 0.015231    |</pre>"
      ],
      "text/plain": [
       "| 143     | 38m 33s      | 0.447304          | 0.407746                          | 0.015231    |"
      ]
     },
     "metadata": {},
     "output_type": "display_data"
    },
    {
     "data": {
      "text/html": [
       "<pre>| 144     | 38m 48s      | 0.447224          | 0.407604                          | 0.015231    |</pre>"
      ],
      "text/plain": [
       "| 144     | 38m 48s      | 0.447224          | 0.407604                          | 0.015231    |"
      ]
     },
     "metadata": {},
     "output_type": "display_data"
    },
    {
     "data": {
      "text/html": [
       "<pre>| 145     | 39m 3s       | 0.447201          | 0.407522                          | 0.015231    |</pre>"
      ],
      "text/plain": [
       "| 145     | 39m 3s       | 0.447201          | 0.407522                          | 0.015231    |"
      ]
     },
     "metadata": {},
     "output_type": "display_data"
    },
    {
     "data": {
      "text/html": [
       "<pre>| 146     | 39m 18s      | 0.447181          | 0.407444                          | 0.015231    |</pre>"
      ],
      "text/plain": [
       "| 146     | 39m 18s      | 0.447181          | 0.407444                          | 0.015231    |"
      ]
     },
     "metadata": {},
     "output_type": "display_data"
    },
    {
     "data": {
      "text/html": [
       "<pre>| 147     | 39m 33s      | 0.447142          | 0.407351                          | 0.015231    |</pre>"
      ],
      "text/plain": [
       "| 147     | 39m 33s      | 0.447142          | 0.407351                          | 0.015231    |"
      ]
     },
     "metadata": {},
     "output_type": "display_data"
    },
    {
     "data": {
      "text/html": [
       "<pre>| 148     | 39m 48s      | 0.447104          | 0.407253                          | 0.015231    |</pre>"
      ],
      "text/plain": [
       "| 148     | 39m 48s      | 0.447104          | 0.407253                          | 0.015231    |"
      ]
     },
     "metadata": {},
     "output_type": "display_data"
    },
    {
     "data": {
      "text/html": [
       "<pre>| 149     | 40m 3s       | 0.447078          | 0.407171                          | 0.015231    |</pre>"
      ],
      "text/plain": [
       "| 149     | 40m 3s       | 0.447078          | 0.407171                          | 0.015231    |"
      ]
     },
     "metadata": {},
     "output_type": "display_data"
    },
    {
     "data": {
      "text/html": [
       "<pre>| 150     | 40m 19s      | 0.447059          | 0.407097                          | 0.015231    |</pre>"
      ],
      "text/plain": [
       "| 150     | 40m 19s      | 0.447059          | 0.407097                          | 0.015231    |"
      ]
     },
     "metadata": {},
     "output_type": "display_data"
    },
    {
     "data": {
      "text/html": [
       "<pre>| 151     | 40m 34s      | 0.447             | 0.406986                          | 0.015231    |</pre>"
      ],
      "text/plain": [
       "| 151     | 40m 34s      | 0.447             | 0.406986                          | 0.015231    |"
      ]
     },
     "metadata": {},
     "output_type": "display_data"
    },
    {
     "data": {
      "text/html": [
       "<pre>| 152     | 40m 49s      | 0.446992          | 0.406914                          | 0.015231    |</pre>"
      ],
      "text/plain": [
       "| 152     | 40m 49s      | 0.446992          | 0.406914                          | 0.015231    |"
      ]
     },
     "metadata": {},
     "output_type": "display_data"
    },
    {
     "data": {
      "text/html": [
       "<pre>| 153     | 41m 4s       | 0.446949          | 0.406812                          | 0.015231    |</pre>"
      ],
      "text/plain": [
       "| 153     | 41m 4s       | 0.446949          | 0.406812                          | 0.015231    |"
      ]
     },
     "metadata": {},
     "output_type": "display_data"
    },
    {
     "data": {
      "text/html": [
       "<pre>| 154     | 41m 19s      | 0.446933          | 0.406739                          | 0.015231    |</pre>"
      ],
      "text/plain": [
       "| 154     | 41m 19s      | 0.446933          | 0.406739                          | 0.015231    |"
      ]
     },
     "metadata": {},
     "output_type": "display_data"
    },
    {
     "data": {
      "text/html": [
       "<pre>| 155     | 41m 35s      | 0.446875          | 0.406628                          | 0.015231    |</pre>"
      ],
      "text/plain": [
       "| 155     | 41m 35s      | 0.446875          | 0.406628                          | 0.015231    |"
      ]
     },
     "metadata": {},
     "output_type": "display_data"
    },
    {
     "data": {
      "text/html": [
       "<pre>| 156     | 41m 50s      | 0.446862          | 0.406567                          | 0.015231    |</pre>"
      ],
      "text/plain": [
       "| 156     | 41m 50s      | 0.446862          | 0.406567                          | 0.015231    |"
      ]
     },
     "metadata": {},
     "output_type": "display_data"
    },
    {
     "data": {
      "text/html": [
       "<pre>| 157     | 42m 5s       | 0.446817          | 0.406475                          | 0.015231    |</pre>"
      ],
      "text/plain": [
       "| 157     | 42m 5s       | 0.446817          | 0.406475                          | 0.015231    |"
      ]
     },
     "metadata": {},
     "output_type": "display_data"
    },
    {
     "data": {
      "text/html": [
       "<pre>| 158     | 42m 20s      | 0.446794          | 0.406405                          | 0.015231    |</pre>"
      ],
      "text/plain": [
       "| 158     | 42m 20s      | 0.446794          | 0.406405                          | 0.015231    |"
      ]
     },
     "metadata": {},
     "output_type": "display_data"
    },
    {
     "data": {
      "text/html": [
       "<pre>| 159     | 42m 35s      | 0.446772          | 0.40634                           | 0.015231    |</pre>"
      ],
      "text/plain": [
       "| 159     | 42m 35s      | 0.446772          | 0.40634                           | 0.015231    |"
      ]
     },
     "metadata": {},
     "output_type": "display_data"
    },
    {
     "data": {
      "text/html": [
       "<pre>| 160     | 42m 50s      | 0.446755          | 0.406269                          | 0.015231    |</pre>"
      ],
      "text/plain": [
       "| 160     | 42m 50s      | 0.446755          | 0.406269                          | 0.015231    |"
      ]
     },
     "metadata": {},
     "output_type": "display_data"
    },
    {
     "data": {
      "text/html": [
       "<pre>| 161     | 43m 6s       | 0.446709          | 0.406174                          | 0.015231    |</pre>"
      ],
      "text/plain": [
       "| 161     | 43m 6s       | 0.446709          | 0.406174                          | 0.015231    |"
      ]
     },
     "metadata": {},
     "output_type": "display_data"
    },
    {
     "data": {
      "text/html": [
       "<pre>| 162     | 43m 23s      | 0.446664          | 0.406082                          | 0.015231    |</pre>"
      ],
      "text/plain": [
       "| 162     | 43m 23s      | 0.446664          | 0.406082                          | 0.015231    |"
      ]
     },
     "metadata": {},
     "output_type": "display_data"
    },
    {
     "data": {
      "text/html": [
       "<pre>| 163     | 43m 39s      | 0.446633          | 0.406005                          | 0.015231    |</pre>"
      ],
      "text/plain": [
       "| 163     | 43m 39s      | 0.446633          | 0.406005                          | 0.015231    |"
      ]
     },
     "metadata": {},
     "output_type": "display_data"
    },
    {
     "data": {
      "text/html": [
       "<pre>| 164     | 43m 55s      | 0.446614          | 0.405932                          | 0.015231    |</pre>"
      ],
      "text/plain": [
       "| 164     | 43m 55s      | 0.446614          | 0.405932                          | 0.015231    |"
      ]
     },
     "metadata": {},
     "output_type": "display_data"
    },
    {
     "data": {
      "text/html": [
       "<pre>| 165     | 44m 12s      | 0.446575          | 0.405844                          | 0.015231    |</pre>"
      ],
      "text/plain": [
       "| 165     | 44m 12s      | 0.446575          | 0.405844                          | 0.015231    |"
      ]
     },
     "metadata": {},
     "output_type": "display_data"
    },
    {
     "data": {
      "text/html": [
       "<pre>| 166     | 44m 28s      | 0.446566          | 0.405786                          | 0.015231    |</pre>"
      ],
      "text/plain": [
       "| 166     | 44m 28s      | 0.446566          | 0.405786                          | 0.015231    |"
      ]
     },
     "metadata": {},
     "output_type": "display_data"
    },
    {
     "data": {
      "text/html": [
       "<pre>| 167     | 44m 46s      | 0.446551          | 0.405713                          | 0.015231    |</pre>"
      ],
      "text/plain": [
       "| 167     | 44m 46s      | 0.446551          | 0.405713                          | 0.015231    |"
      ]
     },
     "metadata": {},
     "output_type": "display_data"
    },
    {
     "data": {
      "text/html": [
       "<pre>| 168     | 45m 3s       | 0.446496          | 0.405607                          | 0.015231    |</pre>"
      ],
      "text/plain": [
       "| 168     | 45m 3s       | 0.446496          | 0.405607                          | 0.015231    |"
      ]
     },
     "metadata": {},
     "output_type": "display_data"
    },
    {
     "data": {
      "text/html": [
       "<pre>| 169     | 45m 21s      | 0.446479          | 0.40554                           | 0.015231    |</pre>"
      ],
      "text/plain": [
       "| 169     | 45m 21s      | 0.446479          | 0.40554                           | 0.015231    |"
      ]
     },
     "metadata": {},
     "output_type": "display_data"
    },
    {
     "data": {
      "text/html": [
       "<pre>| 170     | 45m 37s      | 0.446446          | 0.405463                          | 0.015231    |</pre>"
      ],
      "text/plain": [
       "| 170     | 45m 37s      | 0.446446          | 0.405463                          | 0.015231    |"
      ]
     },
     "metadata": {},
     "output_type": "display_data"
    },
    {
     "data": {
      "text/html": [
       "<pre>| 171     | 45m 53s      | 0.446443          | 0.405419                          | 0.015231    |</pre>"
      ],
      "text/plain": [
       "| 171     | 45m 53s      | 0.446443          | 0.405419                          | 0.015231    |"
      ]
     },
     "metadata": {},
     "output_type": "display_data"
    },
    {
     "data": {
      "text/html": [
       "<pre>| 172     | 46m 9s       | 0.446385          | 0.405321                          | 0.015231    |</pre>"
      ],
      "text/plain": [
       "| 172     | 46m 9s       | 0.446385          | 0.405321                          | 0.015231    |"
      ]
     },
     "metadata": {},
     "output_type": "display_data"
    },
    {
     "data": {
      "text/html": [
       "<pre>| 173     | 46m 25s      | 0.446376          | 0.405274                          | 0.015231    |</pre>"
      ],
      "text/plain": [
       "| 173     | 46m 25s      | 0.446376          | 0.405274                          | 0.015231    |"
      ]
     },
     "metadata": {},
     "output_type": "display_data"
    },
    {
     "data": {
      "text/html": [
       "<pre>| 174     | 46m 41s      | 0.446332          | 0.405194                          | 0.015231    |</pre>"
      ],
      "text/plain": [
       "| 174     | 46m 41s      | 0.446332          | 0.405194                          | 0.015231    |"
      ]
     },
     "metadata": {},
     "output_type": "display_data"
    },
    {
     "data": {
      "text/html": [
       "<pre>| 175     | 46m 57s      | 0.446289          | 0.405108                          | 0.015231    |</pre>"
      ],
      "text/plain": [
       "| 175     | 46m 57s      | 0.446289          | 0.405108                          | 0.015231    |"
      ]
     },
     "metadata": {},
     "output_type": "display_data"
    },
    {
     "data": {
      "text/html": [
       "<pre>| 176     | 47m 12s      | 0.446293          | 0.405074                          | 0.015231    |</pre>"
      ],
      "text/plain": [
       "| 176     | 47m 12s      | 0.446293          | 0.405074                          | 0.015231    |"
      ]
     },
     "metadata": {},
     "output_type": "display_data"
    },
    {
     "data": {
      "text/html": [
       "<pre>| 177     | 47m 27s      | 0.446263          | 0.405005                          | 0.015231    |</pre>"
      ],
      "text/plain": [
       "| 177     | 47m 27s      | 0.446263          | 0.405005                          | 0.015231    |"
      ]
     },
     "metadata": {},
     "output_type": "display_data"
    },
    {
     "data": {
      "text/html": [
       "<pre>| 178     | 47m 42s      | 0.446223          | 0.404927                          | 0.015231    |</pre>"
      ],
      "text/plain": [
       "| 178     | 47m 42s      | 0.446223          | 0.404927                          | 0.015231    |"
      ]
     },
     "metadata": {},
     "output_type": "display_data"
    },
    {
     "data": {
      "text/html": [
       "<pre>| 179     | 47m 57s      | 0.446218          | 0.404872                          | 0.015231    |</pre>"
      ],
      "text/plain": [
       "| 179     | 47m 57s      | 0.446218          | 0.404872                          | 0.015231    |"
      ]
     },
     "metadata": {},
     "output_type": "display_data"
    },
    {
     "data": {
      "text/html": [
       "<pre>| 180     | 48m 12s      | 0.446201          | 0.404807                          | 0.015231    |</pre>"
      ],
      "text/plain": [
       "| 180     | 48m 12s      | 0.446201          | 0.404807                          | 0.015231    |"
      ]
     },
     "metadata": {},
     "output_type": "display_data"
    },
    {
     "data": {
      "text/html": [
       "<pre>| 181     | 48m 27s      | 0.446176          | 0.404736                          | 0.015231    |</pre>"
      ],
      "text/plain": [
       "| 181     | 48m 27s      | 0.446176          | 0.404736                          | 0.015231    |"
      ]
     },
     "metadata": {},
     "output_type": "display_data"
    },
    {
     "data": {
      "text/html": [
       "<pre>| 182     | 48m 42s      | 0.446135          | 0.404649                          | 0.015231    |</pre>"
      ],
      "text/plain": [
       "| 182     | 48m 42s      | 0.446135          | 0.404649                          | 0.015231    |"
      ]
     },
     "metadata": {},
     "output_type": "display_data"
    },
    {
     "data": {
      "text/html": [
       "<pre>| 183     | 48m 57s      | 0.446139          | 0.404607                          | 0.015231    |</pre>"
      ],
      "text/plain": [
       "| 183     | 48m 57s      | 0.446139          | 0.404607                          | 0.015231    |"
      ]
     },
     "metadata": {},
     "output_type": "display_data"
    },
    {
     "data": {
      "text/html": [
       "<pre>| 184     | 49m 12s      | 0.4461            | 0.404524                          | 0.015231    |</pre>"
      ],
      "text/plain": [
       "| 184     | 49m 12s      | 0.4461            | 0.404524                          | 0.015231    |"
      ]
     },
     "metadata": {},
     "output_type": "display_data"
    },
    {
     "data": {
      "text/html": [
       "<pre>| 185     | 49m 28s      | 0.446071          | 0.404457                          | 0.015231    |</pre>"
      ],
      "text/plain": [
       "| 185     | 49m 28s      | 0.446071          | 0.404457                          | 0.015231    |"
      ]
     },
     "metadata": {},
     "output_type": "display_data"
    },
    {
     "data": {
      "text/html": [
       "<pre>| 186     | 49m 43s      | 0.446053          | 0.404402                          | 0.015231    |</pre>"
      ],
      "text/plain": [
       "| 186     | 49m 43s      | 0.446053          | 0.404402                          | 0.015231    |"
      ]
     },
     "metadata": {},
     "output_type": "display_data"
    },
    {
     "data": {
      "text/html": [
       "<pre>| 187     | 49m 58s      | 0.446019          | 0.404332                          | 0.015231    |</pre>"
      ],
      "text/plain": [
       "| 187     | 49m 58s      | 0.446019          | 0.404332                          | 0.015231    |"
      ]
     },
     "metadata": {},
     "output_type": "display_data"
    },
    {
     "data": {
      "text/html": [
       "<pre>| 188     | 50m 13s      | 0.445989          | 0.404269                          | 0.015231    |</pre>"
      ],
      "text/plain": [
       "| 188     | 50m 13s      | 0.445989          | 0.404269                          | 0.015231    |"
      ]
     },
     "metadata": {},
     "output_type": "display_data"
    },
    {
     "data": {
      "text/html": [
       "<pre>| 189     | 50m 28s      | 0.445993          | 0.404236                          | 0.015231    |</pre>"
      ],
      "text/plain": [
       "| 189     | 50m 28s      | 0.445993          | 0.404236                          | 0.015231    |"
      ]
     },
     "metadata": {},
     "output_type": "display_data"
    },
    {
     "data": {
      "text/html": [
       "<pre>| 190     | 50m 43s      | 0.445962          | 0.404169                          | 0.015231    |</pre>"
      ],
      "text/plain": [
       "| 190     | 50m 43s      | 0.445962          | 0.404169                          | 0.015231    |"
      ]
     },
     "metadata": {},
     "output_type": "display_data"
    },
    {
     "data": {
      "text/html": [
       "<pre>| 191     | 50m 58s      | 0.445949          | 0.404123                          | 0.015231    |</pre>"
      ],
      "text/plain": [
       "| 191     | 50m 58s      | 0.445949          | 0.404123                          | 0.015231    |"
      ]
     },
     "metadata": {},
     "output_type": "display_data"
    },
    {
     "data": {
      "text/html": [
       "<pre>| 192     | 51m 13s      | 0.445929          | 0.404068                          | 0.015231    |</pre>"
      ],
      "text/plain": [
       "| 192     | 51m 13s      | 0.445929          | 0.404068                          | 0.015231    |"
      ]
     },
     "metadata": {},
     "output_type": "display_data"
    },
    {
     "data": {
      "text/html": [
       "<pre>| 193     | 51m 28s      | 0.445919          | 0.404009                          | 0.015231    |</pre>"
      ],
      "text/plain": [
       "| 193     | 51m 28s      | 0.445919          | 0.404009                          | 0.015231    |"
      ]
     },
     "metadata": {},
     "output_type": "display_data"
    },
    {
     "data": {
      "text/html": [
       "<pre>| 194     | 51m 43s      | 0.445909          | 0.403955                          | 0.015231    |</pre>"
      ],
      "text/plain": [
       "| 194     | 51m 43s      | 0.445909          | 0.403955                          | 0.015231    |"
      ]
     },
     "metadata": {},
     "output_type": "display_data"
    },
    {
     "data": {
      "text/html": [
       "<pre>| 195     | 51m 59s      | 0.445877          | 0.403882                          | 0.015231    |</pre>"
      ],
      "text/plain": [
       "| 195     | 51m 59s      | 0.445877          | 0.403882                          | 0.015231    |"
      ]
     },
     "metadata": {},
     "output_type": "display_data"
    },
    {
     "data": {
      "text/html": [
       "<pre>| 196     | 52m 14s      | 0.445848          | 0.40381                           | 0.015231    |</pre>"
      ],
      "text/plain": [
       "| 196     | 52m 14s      | 0.445848          | 0.40381                           | 0.015231    |"
      ]
     },
     "metadata": {},
     "output_type": "display_data"
    },
    {
     "data": {
      "text/html": [
       "<pre>| 197     | 52m 29s      | 0.445814          | 0.403735                          | 0.015231    |</pre>"
      ],
      "text/plain": [
       "| 197     | 52m 29s      | 0.445814          | 0.403735                          | 0.015231    |"
      ]
     },
     "metadata": {},
     "output_type": "display_data"
    },
    {
     "data": {
      "text/html": [
       "<pre>| 198     | 52m 44s      | 0.445797          | 0.40368                           | 0.015231    |</pre>"
      ],
      "text/plain": [
       "| 198     | 52m 44s      | 0.445797          | 0.40368                           | 0.015231    |"
      ]
     },
     "metadata": {},
     "output_type": "display_data"
    },
    {
     "data": {
      "text/html": [
       "<pre>| 199     | 52m 59s      | 0.445777          | 0.403624                          | 0.015231    |</pre>"
      ],
      "text/plain": [
       "| 199     | 52m 59s      | 0.445777          | 0.403624                          | 0.015231    |"
      ]
     },
     "metadata": {},
     "output_type": "display_data"
    },
    {
     "data": {
      "text/html": [
       "<pre>| 200     | 53m 14s      | 0.445776          | 0.403589                          | 0.015231    |</pre>"
      ],
      "text/plain": [
       "| 200     | 53m 14s      | 0.445776          | 0.403589                          | 0.015231    |"
      ]
     },
     "metadata": {},
     "output_type": "display_data"
    },
    {
     "data": {
      "text/html": [
       "<pre>| 201     | 53m 29s      | 0.445731          | 0.403512                          | 0.015231    |</pre>"
      ],
      "text/plain": [
       "| 201     | 53m 29s      | 0.445731          | 0.403512                          | 0.015231    |"
      ]
     },
     "metadata": {},
     "output_type": "display_data"
    },
    {
     "data": {
      "text/html": [
       "<pre>| 202     | 53m 44s      | 0.445749          | 0.403499                          | 0.015231    |</pre>"
      ],
      "text/plain": [
       "| 202     | 53m 44s      | 0.445749          | 0.403499                          | 0.015231    |"
      ]
     },
     "metadata": {},
     "output_type": "display_data"
    },
    {
     "data": {
      "text/html": [
       "<pre>| 203     | 53m 59s      | 0.445718          | 0.403434                          | 0.015231    |</pre>"
      ],
      "text/plain": [
       "| 203     | 53m 59s      | 0.445718          | 0.403434                          | 0.015231    |"
      ]
     },
     "metadata": {},
     "output_type": "display_data"
    },
    {
     "data": {
      "text/html": [
       "<pre>| 204     | 54m 15s      | 0.445693          | 0.403379                          | 0.015231    |</pre>"
      ],
      "text/plain": [
       "| 204     | 54m 15s      | 0.445693          | 0.403379                          | 0.015231    |"
      ]
     },
     "metadata": {},
     "output_type": "display_data"
    },
    {
     "data": {
      "text/html": [
       "<pre>| 205     | 54m 33s      | 0.445671          | 0.403327                          | 0.015231    |</pre>"
      ],
      "text/plain": [
       "| 205     | 54m 33s      | 0.445671          | 0.403327                          | 0.015231    |"
      ]
     },
     "metadata": {},
     "output_type": "display_data"
    },
    {
     "data": {
      "text/html": [
       "<pre>| 206     | 54m 49s      | 0.445654          | 0.403279                          | 0.015231    |</pre>"
      ],
      "text/plain": [
       "| 206     | 54m 49s      | 0.445654          | 0.403279                          | 0.015231    |"
      ]
     },
     "metadata": {},
     "output_type": "display_data"
    },
    {
     "data": {
      "text/html": [
       "<pre>| 207     | 55m 6s       | 0.445629          | 0.403213                          | 0.015231    |</pre>"
      ],
      "text/plain": [
       "| 207     | 55m 6s       | 0.445629          | 0.403213                          | 0.015231    |"
      ]
     },
     "metadata": {},
     "output_type": "display_data"
    },
    {
     "data": {
      "text/html": [
       "<pre>| 208     | 55m 22s      | 0.44562           | 0.403165                          | 0.015231    |</pre>"
      ],
      "text/plain": [
       "| 208     | 55m 22s      | 0.44562           | 0.403165                          | 0.015231    |"
      ]
     },
     "metadata": {},
     "output_type": "display_data"
    },
    {
     "data": {
      "text/html": [
       "<pre>| 209     | 55m 37s      | 0.445595          | 0.403104                          | 0.015231    |</pre>"
      ],
      "text/plain": [
       "| 209     | 55m 37s      | 0.445595          | 0.403104                          | 0.015231    |"
      ]
     },
     "metadata": {},
     "output_type": "display_data"
    },
    {
     "data": {
      "text/html": [
       "<pre>| 210     | 55m 53s      | 0.445595          | 0.403066                          | 0.015231    |</pre>"
      ],
      "text/plain": [
       "| 210     | 55m 53s      | 0.445595          | 0.403066                          | 0.015231    |"
      ]
     },
     "metadata": {},
     "output_type": "display_data"
    },
    {
     "data": {
      "text/html": [
       "<pre>| 211     | 56m 9s       | 0.445574          | 0.403011                          | 0.015231    |</pre>"
      ],
      "text/plain": [
       "| 211     | 56m 9s       | 0.445574          | 0.403011                          | 0.015231    |"
      ]
     },
     "metadata": {},
     "output_type": "display_data"
    },
    {
     "data": {
      "text/html": [
       "<pre>| 212     | 56m 24s      | 0.445546          | 0.402948                          | 0.015231    |</pre>"
      ],
      "text/plain": [
       "| 212     | 56m 24s      | 0.445546          | 0.402948                          | 0.015231    |"
      ]
     },
     "metadata": {},
     "output_type": "display_data"
    },
    {
     "data": {
      "text/html": [
       "<pre>| 213     | 56m 40s      | 0.445535          | 0.4029                            | 0.015231    |</pre>"
      ],
      "text/plain": [
       "| 213     | 56m 40s      | 0.445535          | 0.4029                            | 0.015231    |"
      ]
     },
     "metadata": {},
     "output_type": "display_data"
    },
    {
     "data": {
      "text/html": [
       "<pre>| 214     | 56m 55s      | 0.445533          | 0.402864                          | 0.015231    |</pre>"
      ],
      "text/plain": [
       "| 214     | 56m 55s      | 0.445533          | 0.402864                          | 0.015231    |"
      ]
     },
     "metadata": {},
     "output_type": "display_data"
    },
    {
     "data": {
      "text/html": [
       "<pre>| 215     | 57m 11s      | 0.445494          | 0.402793                          | 0.015231    |</pre>"
      ],
      "text/plain": [
       "| 215     | 57m 11s      | 0.445494          | 0.402793                          | 0.015231    |"
      ]
     },
     "metadata": {},
     "output_type": "display_data"
    },
    {
     "data": {
      "text/html": [
       "<pre>| 216     | 57m 27s      | 0.445494          | 0.402758                          | 0.015231    |</pre>"
      ],
      "text/plain": [
       "| 216     | 57m 27s      | 0.445494          | 0.402758                          | 0.015231    |"
      ]
     },
     "metadata": {},
     "output_type": "display_data"
    },
    {
     "data": {
      "text/html": [
       "<pre>| 217     | 57m 43s      | 0.445483          | 0.402713                          | 0.015231    |</pre>"
      ],
      "text/plain": [
       "| 217     | 57m 43s      | 0.445483          | 0.402713                          | 0.015231    |"
      ]
     },
     "metadata": {},
     "output_type": "display_data"
    },
    {
     "data": {
      "text/html": [
       "<pre>| 218     | 58m 0s       | 0.445455          | 0.402653                          | 0.015231    |</pre>"
      ],
      "text/plain": [
       "| 218     | 58m 0s       | 0.445455          | 0.402653                          | 0.015231    |"
      ]
     },
     "metadata": {},
     "output_type": "display_data"
    },
    {
     "data": {
      "text/html": [
       "<pre>| 219     | 58m 15s      | 0.445445          | 0.402609                          | 0.015231    |</pre>"
      ],
      "text/plain": [
       "| 219     | 58m 15s      | 0.445445          | 0.402609                          | 0.015231    |"
      ]
     },
     "metadata": {},
     "output_type": "display_data"
    },
    {
     "data": {
      "text/html": [
       "<pre>| 220     | 58m 30s      | 0.445416          | 0.402539                          | 0.015231    |</pre>"
      ],
      "text/plain": [
       "| 220     | 58m 30s      | 0.445416          | 0.402539                          | 0.015231    |"
      ]
     },
     "metadata": {},
     "output_type": "display_data"
    },
    {
     "data": {
      "text/html": [
       "<pre>| 221     | 58m 45s      | 0.445412          | 0.402495                          | 0.015231    |</pre>"
      ],
      "text/plain": [
       "| 221     | 58m 45s      | 0.445412          | 0.402495                          | 0.015231    |"
      ]
     },
     "metadata": {},
     "output_type": "display_data"
    },
    {
     "data": {
      "text/html": [
       "<pre>| 222     | 59m 0s       | 0.44541           | 0.402452                          | 0.015231    |</pre>"
      ],
      "text/plain": [
       "| 222     | 59m 0s       | 0.44541           | 0.402452                          | 0.015231    |"
      ]
     },
     "metadata": {},
     "output_type": "display_data"
    },
    {
     "data": {
      "text/html": [
       "<pre>| 223     | 59m 16s      | 0.445409          | 0.402414                          | 0.015231    |</pre>"
      ],
      "text/plain": [
       "| 223     | 59m 16s      | 0.445409          | 0.402414                          | 0.015231    |"
      ]
     },
     "metadata": {},
     "output_type": "display_data"
    },
    {
     "data": {
      "text/html": [
       "<pre>+---------+--------------+-------------------+-----------------------------------+-------------+</pre>"
      ],
      "text/plain": [
       "+---------+--------------+-------------------+-----------------------------------+-------------+"
      ]
     },
     "metadata": {},
     "output_type": "display_data"
    },
    {
     "data": {
      "text/html": [
       "<pre>Optimization Complete: Convergence on objective within bounds.</pre>"
      ],
      "text/plain": [
       "Optimization Complete: Convergence on objective within bounds."
      ]
     },
     "metadata": {},
     "output_type": "display_data"
    },
    {
     "data": {
      "text/html": [
       "<pre>Computing final objective value and training Predictive Error.</pre>"
      ],
      "text/plain": [
       "Computing final objective value and training Predictive Error."
      ]
     },
     "metadata": {},
     "output_type": "display_data"
    },
    {
     "data": {
      "text/html": [
       "<pre>       Final objective value: 0.443338</pre>"
      ],
      "text/plain": [
       "       Final objective value: 0.443338"
      ]
     },
     "metadata": {},
     "output_type": "display_data"
    },
    {
     "data": {
      "text/html": [
       "<pre>       Final training Predictive Error: 0.400343</pre>"
      ],
      "text/plain": [
       "       Final training Predictive Error: 0.400343"
      ]
     },
     "metadata": {},
     "output_type": "display_data"
    }
   ],
   "source": [
    "# training the model\n",
    "model = gl.recommender.factorization_recommender.create(kn_listen, \n",
    "                                                        binary_target = True, \n",
    "                                                        num_factors = n_factors,\n",
    "                                                        user_id = \"user_id\", \n",
    "                                                        item_id = \"media_id\", \n",
    "                                                        target  = \"is_listened\",\n",
    "                                                        user_data = user_data, \n",
    "                                                        item_data = song_data,\n",
    "                                                        max_iterations = m_epochs,\n",
    "                                                        regularization = regular)"
   ]
  },
  {
   "cell_type": "code",
   "execution_count": 34,
   "metadata": {
    "collapsed": false,
    "scrolled": true
   },
   "outputs": [
    {
     "data": {
      "text/html": [
       "<div>\n",
       "<style>\n",
       "    .dataframe thead tr:only-child th {\n",
       "        text-align: right;\n",
       "    }\n",
       "\n",
       "    .dataframe thead th {\n",
       "        text-align: left;\n",
       "    }\n",
       "\n",
       "    .dataframe tbody tr th {\n",
       "        vertical-align: top;\n",
       "    }\n",
       "</style>\n",
       "<table border=\"1\" class=\"dataframe\">\n",
       "  <thead>\n",
       "    <tr style=\"text-align: right;\">\n",
       "      <th></th>\n",
       "      <th>sample_id</th>\n",
       "      <th>is_listened</th>\n",
       "    </tr>\n",
       "  </thead>\n",
       "  <tbody>\n",
       "    <tr>\n",
       "      <th>7551765</th>\n",
       "      <td>0</td>\n",
       "      <td>0.997314</td>\n",
       "    </tr>\n",
       "    <tr>\n",
       "      <th>6913499</th>\n",
       "      <td>1</td>\n",
       "      <td>0.749134</td>\n",
       "    </tr>\n",
       "    <tr>\n",
       "      <th>6529339</th>\n",
       "      <td>2</td>\n",
       "      <td>0.830603</td>\n",
       "    </tr>\n",
       "  </tbody>\n",
       "</table>\n",
       "</div>"
      ],
      "text/plain": [
       "         sample_id  is_listened\n",
       "7551765          0     0.997314\n",
       "6913499          1     0.749134\n",
       "6529339          2     0.830603"
      ]
     },
     "execution_count": 34,
     "metadata": {},
     "output_type": "execute_result"
    }
   ],
   "source": [
    "# forecasting\n",
    "pred = pd.DataFrame()\n",
    "pred[\"sample_id\"] = un.sample_id.astype(int)\n",
    "pred[\"is_listened\"] = model.predict(un_listen)\n",
    "pred = pred.sort_values(\"sample_id\")\n",
    "pred.head(3)"
   ]
  },
  {
   "cell_type": "code",
   "execution_count": 35,
   "metadata": {
    "collapsed": true,
    "scrolled": true
   },
   "outputs": [],
   "source": [
    "# saving prediction vector\n",
    "pred.to_csv(path + \"pred_unknown/factorization_full_75f_api_300i.csv\", index = False)"
   ]
  },
  {
   "cell_type": "code",
   "execution_count": null,
   "metadata": {
    "collapsed": true
   },
   "outputs": [],
   "source": []
  }
 ],
 "metadata": {
  "anaconda-cloud": {},
  "kernelspec": {
   "display_name": "Python 2",
   "language": "python",
   "name": "python2"
  },
  "language_info": {
   "codemirror_mode": {
    "name": "ipython",
    "version": 2
   },
   "file_extension": ".py",
   "mimetype": "text/x-python",
   "name": "python",
   "nbconvert_exporter": "python",
   "pygments_lexer": "ipython2",
   "version": "2.7.13"
  }
 },
 "nbformat": 4,
 "nbformat_minor": 1
}
