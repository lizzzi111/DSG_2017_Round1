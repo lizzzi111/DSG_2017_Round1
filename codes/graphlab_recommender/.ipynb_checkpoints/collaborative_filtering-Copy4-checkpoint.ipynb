{
 "cells": [
  {
   "cell_type": "markdown",
   "metadata": {},
   "source": [
    "# 1. LOADING"
   ]
  },
  {
   "cell_type": "code",
   "execution_count": 1,
   "metadata": {
    "collapsed": false,
    "scrolled": true
   },
   "outputs": [],
   "source": [
    "# import packages\n",
    "import pandas as pd\n",
    "import graphlab as gl\n",
    "from sklearn import metrics\n",
    "from scipy import stats"
   ]
  },
  {
   "cell_type": "code",
   "execution_count": 2,
   "metadata": {
    "collapsed": false,
    "scrolled": true
   },
   "outputs": [
    {
     "data": {
      "text/plain": [
       "(7578752, 54)"
      ]
     },
     "execution_count": 2,
     "metadata": {},
     "output_type": "execute_result"
    }
   ],
   "source": [
    "# load the data\n",
    "path = \"/Users/Kozodoi/Documents/Competitions/DSG_2017/\"\n",
    "data = pd.read_csv(path + \"data/data_full.csv\")\n",
    "data.shape"
   ]
  },
  {
   "cell_type": "code",
   "execution_count": 3,
   "metadata": {
    "collapsed": false
   },
   "outputs": [],
   "source": [
    "# print variable names\n",
    "#data.columns"
   ]
  },
  {
   "cell_type": "markdown",
   "metadata": {},
   "source": [
    "# 2. DATA PREPARATION"
   ]
  },
  {
   "cell_type": "code",
   "execution_count": 4,
   "metadata": {
    "collapsed": true,
    "scrolled": true
   },
   "outputs": [],
   "source": [
    "# adding row index\n",
    "data[\"row_index\"] = data.index"
   ]
  },
  {
   "cell_type": "code",
   "execution_count": 5,
   "metadata": {
    "collapsed": false
   },
   "outputs": [],
   "source": [
    "# converting factors to strings\n",
    "data[\"user_id\"]       = data.user_id.astype(str)\n",
    "data[\"media_id\"]      = data.media_id.astype(str)\n",
    "data[\"album_id\"]      = data.album_id.astype(str)\n",
    "data[\"artist_id\"]     = data.artist_id.astype(str)\n",
    "data[\"genre_id\"]      = data.genre_id.astype(str)\n",
    "data[\"context_type\"]  = data.context_type.astype(str)\n",
    "data[\"platform_name\"] = data.platform_name.astype(str)\n",
    "data[\"user_gender\"]   = data.user_gender.astype(str)\n",
    "data[\"release_year\"]  = data.release_year.astype(str)\n",
    "data[\"listen_type\"]   = data.listen_type.astype(str)\n",
    "data[\"hour_of_day\"]   = data.hour_of_day.astype(str)\n",
    "data[\"weekday\"]       = data.weekday.astype(str)\n",
    "data[\"first_flow\"]    = data.first_flow.astype(str)"
   ]
  },
  {
   "cell_type": "code",
   "execution_count": 6,
   "metadata": {
    "collapsed": false,
    "scrolled": true
   },
   "outputs": [
    {
     "name": "stdout",
     "output_type": "stream",
     "text": [
      "train: (7519013, 55)\n",
      "test: (39821, 55)\n",
      "known: (7558834, 55)\n",
      "unknown: (19918, 55)\n"
     ]
    }
   ],
   "source": [
    "# data partitioning\n",
    "tr = data.query(\"dataset == 'train'\")\n",
    "ts = data.query(\"dataset == 'test'\")\n",
    "kn = data.query(\"dataset != 'unknown'\")\n",
    "un = data.query(\"dataset == 'unknown'\")\n",
    "\n",
    "# drop skipped songs from training\n",
    "#tr = tr.query(\"is_listened == 1\")\n",
    "\n",
    "# print data sizes\n",
    "print(\"train: \"   + str(tr.shape))\n",
    "print(\"test: \"    + str(ts.shape))\n",
    "print(\"known: \"   + str(kn.shape))\n",
    "print(\"unknown: \" + str(un.shape))"
   ]
  },
  {
   "cell_type": "code",
   "execution_count": 7,
   "metadata": {
    "collapsed": false,
    "scrolled": true
   },
   "outputs": [
    {
     "name": "stdout",
     "output_type": "stream",
     "text": [
      "This non-commercial license of GraphLab Create for academic use is assigned to kozodoin@hu-berlin.de and will expire on May 12, 2018.\n"
     ]
    },
    {
     "name": "stderr",
     "output_type": "stream",
     "text": [
      "[INFO] graphlab.cython.cy_server: GraphLab Create v2.1 started. Logging: /tmp/graphlab_server_1494931179.log\n"
     ]
    }
   ],
   "source": [
    "# data sets with user-media interactions\n",
    "tr_listen = gl.SFrame(tr[[\"media_id\", \"user_id\", \"is_listened\", \n",
    "                          \"context_type\", \"platform_name\", \"listen_type\", \"first_flow\", \"hour_of_day\", \"weekday\"]])\n",
    "ts_listen = gl.SFrame(ts[[\"media_id\", \"user_id\", \"is_listened\", \n",
    "                          \"context_type\", \"platform_name\", \"listen_type\", \"first_flow\", \"hour_of_day\", \"weekday\"]])\n",
    "kn_listen = gl.SFrame(kn[[\"media_id\", \"user_id\", \"is_listened\", \n",
    "                          \"context_type\", \"platform_name\", \"listen_type\", \"first_flow\", \"hour_of_day\", \"weekday\"]])\n",
    "un_listen = gl.SFrame(un[[\"media_id\", \"user_id\", \"is_listened\", \n",
    "                          \"context_type\", \"platform_name\", \"listen_type\", \"first_flow\", \"hour_of_day\", \"weekday\"]])"
   ]
  },
  {
   "cell_type": "code",
   "execution_count": 8,
   "metadata": {
    "collapsed": false
   },
   "outputs": [],
   "source": [
    "# additional user-level and media-level data\n",
    "user_data = data.groupby([\"user_id\"]).head(1)\n",
    "song_data = data.groupby([\"media_id\"]).head(1)\n",
    "\n",
    "# clearing the memory\n",
    "data = \"Null\"\n",
    "tr   = \"Null\"\n",
    "kn   = \"Null\"\n",
    "\n",
    "# converting data sets\n",
    "user_data = gl.SFrame(user_data[[\"user_id\", \"user_gender\", \"user_age\", \"user_ratio_flow\", \"user_ratio_full\"]])\n",
    "song_data = gl.SFrame(song_data[[\"media_id\", \"genre_id\", \"artist_id\", \"release_year\", \"media_duration\"]])"
   ]
  },
  {
   "cell_type": "markdown",
   "metadata": {},
   "source": [
    "# 3. MODELING"
   ]
  },
  {
   "cell_type": "code",
   "execution_count": null,
   "metadata": {
    "collapsed": true
   },
   "outputs": [],
   "source": [
    "# model parameters\n",
    "n_factors = 50\n",
    "m_epochs = 400\n",
    "regular = 1e-5"
   ]
  },
  {
   "cell_type": "markdown",
   "metadata": {},
   "source": [
    "## 3.1. TRAINING-VALIDATION"
   ]
  },
  {
   "cell_type": "code",
   "execution_count": null,
   "metadata": {
    "collapsed": false
   },
   "outputs": [
    {
     "data": {
      "text/html": [
       "<pre>Recsys training: model = factorization_recommender</pre>"
      ],
      "text/plain": [
       "Recsys training: model = factorization_recommender"
      ]
     },
     "metadata": {},
     "output_type": "display_data"
    },
    {
     "data": {
      "text/html": [
       "<pre>Preparing data set.</pre>"
      ],
      "text/plain": [
       "Preparing data set."
      ]
     },
     "metadata": {},
     "output_type": "display_data"
    },
    {
     "data": {
      "text/html": [
       "<pre>    Data has 7519013 observations with 19505 users and 247038 items.</pre>"
      ],
      "text/plain": [
       "    Data has 7519013 observations with 19505 users and 247038 items."
      ]
     },
     "metadata": {},
     "output_type": "display_data"
    },
    {
     "data": {
      "text/html": [
       "<pre>    Data prepared in: 41.8532s</pre>"
      ],
      "text/plain": [
       "    Data prepared in: 41.8532s"
      ]
     },
     "metadata": {},
     "output_type": "display_data"
    },
    {
     "data": {
      "text/html": [
       "<pre>Training factorization_recommender for recommendations.</pre>"
      ],
      "text/plain": [
       "Training factorization_recommender for recommendations."
      ]
     },
     "metadata": {},
     "output_type": "display_data"
    },
    {
     "data": {
      "text/html": [
       "<pre>+--------------------------------+--------------------------------------------------+----------+</pre>"
      ],
      "text/plain": [
       "+--------------------------------+--------------------------------------------------+----------+"
      ]
     },
     "metadata": {},
     "output_type": "display_data"
    },
    {
     "data": {
      "text/html": [
       "<pre>| Parameter                      | Description                                      | Value    |</pre>"
      ],
      "text/plain": [
       "| Parameter                      | Description                                      | Value    |"
      ]
     },
     "metadata": {},
     "output_type": "display_data"
    },
    {
     "data": {
      "text/html": [
       "<pre>+--------------------------------+--------------------------------------------------+----------+</pre>"
      ],
      "text/plain": [
       "+--------------------------------+--------------------------------------------------+----------+"
      ]
     },
     "metadata": {},
     "output_type": "display_data"
    },
    {
     "data": {
      "text/html": [
       "<pre>| num_factors                    | Factor Dimension                                 | 50       |</pre>"
      ],
      "text/plain": [
       "| num_factors                    | Factor Dimension                                 | 50       |"
      ]
     },
     "metadata": {},
     "output_type": "display_data"
    },
    {
     "data": {
      "text/html": [
       "<pre>| regularization                 | L2 Regularization on Factors                     | 1e-05    |</pre>"
      ],
      "text/plain": [
       "| regularization                 | L2 Regularization on Factors                     | 1e-05    |"
      ]
     },
     "metadata": {},
     "output_type": "display_data"
    },
    {
     "data": {
      "text/html": [
       "<pre>| solver                         | Solver used for training                         | adagrad  |</pre>"
      ],
      "text/plain": [
       "| solver                         | Solver used for training                         | adagrad  |"
      ]
     },
     "metadata": {},
     "output_type": "display_data"
    },
    {
     "data": {
      "text/html": [
       "<pre>| linear_regularization          | L2 Regularization on Linear Coefficients         | 1e-10    |</pre>"
      ],
      "text/plain": [
       "| linear_regularization          | L2 Regularization on Linear Coefficients         | 1e-10    |"
      ]
     },
     "metadata": {},
     "output_type": "display_data"
    },
    {
     "data": {
      "text/html": [
       "<pre>| binary_target                  | Assume Binary Targets                            | True     |</pre>"
      ],
      "text/plain": [
       "| binary_target                  | Assume Binary Targets                            | True     |"
      ]
     },
     "metadata": {},
     "output_type": "display_data"
    },
    {
     "data": {
      "text/html": [
       "<pre>| side_data_factorization        | Assign Factors for Side Data                     | True     |</pre>"
      ],
      "text/plain": [
       "| side_data_factorization        | Assign Factors for Side Data                     | True     |"
      ]
     },
     "metadata": {},
     "output_type": "display_data"
    },
    {
     "data": {
      "text/html": [
       "<pre>| max_iterations                 | Maximum Number of Iterations                     | 400      |</pre>"
      ],
      "text/plain": [
       "| max_iterations                 | Maximum Number of Iterations                     | 400      |"
      ]
     },
     "metadata": {},
     "output_type": "display_data"
    },
    {
     "data": {
      "text/html": [
       "<pre>+--------------------------------+--------------------------------------------------+----------+</pre>"
      ],
      "text/plain": [
       "+--------------------------------+--------------------------------------------------+----------+"
      ]
     },
     "metadata": {},
     "output_type": "display_data"
    },
    {
     "data": {
      "text/html": [
       "<pre>  Optimizing model using SGD; tuning step size.</pre>"
      ],
      "text/plain": [
       "  Optimizing model using SGD; tuning step size."
      ]
     },
     "metadata": {},
     "output_type": "display_data"
    },
    {
     "data": {
      "text/html": [
       "<pre>| 4       | 0.0306234         | 0.480072                                 |</pre>"
      ],
      "text/plain": [
       "| 4       | 0.0306234         | 0.480072                                 |"
      ]
     },
     "metadata": {},
     "output_type": "display_data"
    },
    {
     "data": {
      "text/html": [
       "<pre>| 7       | 0.00382792        | 0.491377                                 |</pre>"
      ],
      "text/plain": [
       "| 7       | 0.00382792        | 0.491377                                 |"
      ]
     },
     "metadata": {},
     "output_type": "display_data"
    },
    {
     "data": {
      "text/html": [
       "<pre>+---------+-------------------+------------------------------------------+</pre>"
      ],
      "text/plain": [
       "+---------+-------------------+------------------------------------------+"
      ]
     },
     "metadata": {},
     "output_type": "display_data"
    },
    {
     "data": {
      "text/html": [
       "<pre>| Final   | 0.0306234         | 0.480072                                 |</pre>"
      ],
      "text/plain": [
       "| Final   | 0.0306234         | 0.480072                                 |"
      ]
     },
     "metadata": {},
     "output_type": "display_data"
    },
    {
     "data": {
      "text/html": [
       "<pre>+---------+-------------------+------------------------------------------+</pre>"
      ],
      "text/plain": [
       "+---------+-------------------+------------------------------------------+"
      ]
     },
     "metadata": {},
     "output_type": "display_data"
    },
    {
     "data": {
      "text/html": [
       "<pre>Starting Optimization.</pre>"
      ],
      "text/plain": [
       "Starting Optimization."
      ]
     },
     "metadata": {},
     "output_type": "display_data"
    },
    {
     "data": {
      "text/html": [
       "<pre>+---------+--------------+-------------------+-----------------------------------+-------------+</pre>"
      ],
      "text/plain": [
       "+---------+--------------+-------------------+-----------------------------------+-------------+"
      ]
     },
     "metadata": {},
     "output_type": "display_data"
    },
    {
     "data": {
      "text/html": [
       "<pre>| Iter.   | Elapsed Time | Approx. Objective | Approx. Training Predictive Error | Step Size   |</pre>"
      ],
      "text/plain": [
       "| Iter.   | Elapsed Time | Approx. Objective | Approx. Training Predictive Error | Step Size   |"
      ]
     },
     "metadata": {},
     "output_type": "display_data"
    },
    {
     "data": {
      "text/html": [
       "<pre>+---------+--------------+-------------------+-----------------------------------+-------------+</pre>"
      ],
      "text/plain": [
       "+---------+--------------+-------------------+-----------------------------------+-------------+"
      ]
     },
     "metadata": {},
     "output_type": "display_data"
    },
    {
     "data": {
      "text/html": [
       "<pre>| Initial | 92us         | 0.624394          | 0.624394                          |             |</pre>"
      ],
      "text/plain": [
       "| Initial | 92us         | 0.624394          | 0.624394                          |             |"
      ]
     },
     "metadata": {},
     "output_type": "display_data"
    },
    {
     "data": {
      "text/html": [
       "<pre>+---------+--------------+-------------------+-----------------------------------+-------------+</pre>"
      ],
      "text/plain": [
       "+---------+--------------+-------------------+-----------------------------------+-------------+"
      ]
     },
     "metadata": {},
     "output_type": "display_data"
    },
    {
     "data": {
      "text/html": [
       "<pre>| 1       | 1m 9s        | 0.540078          | 0.458639                          | 0.0306234   |</pre>"
      ],
      "text/plain": [
       "| 1       | 1m 9s        | 0.540078          | 0.458639                          | 0.0306234   |"
      ]
     },
     "metadata": {},
     "output_type": "display_data"
    },
    {
     "data": {
      "text/html": [
       "<pre>| 2       | 2m 19s       | 0.489368          | 0.445939                          | 0.0306234   |</pre>"
      ],
      "text/plain": [
       "| 2       | 2m 19s       | 0.489368          | 0.445939                          | 0.0306234   |"
      ]
     },
     "metadata": {},
     "output_type": "display_data"
    },
    {
     "data": {
      "text/html": [
       "<pre>| 3       | 3m 29s       | 0.481866          | 0.438256                          | 0.0306234   |</pre>"
      ],
      "text/plain": [
       "| 3       | 3m 29s       | 0.481866          | 0.438256                          | 0.0306234   |"
      ]
     },
     "metadata": {},
     "output_type": "display_data"
    },
    {
     "data": {
      "text/html": [
       "<pre>| 4       | 4m 39s       | 0.476673          | 0.43113                           | 0.0306234   |</pre>"
      ],
      "text/plain": [
       "| 4       | 4m 39s       | 0.476673          | 0.43113                           | 0.0306234   |"
      ]
     },
     "metadata": {},
     "output_type": "display_data"
    },
    {
     "data": {
      "text/html": [
       "<pre>| 5       | 5m 49s       | 0.473024          | 0.425818                          | 0.0306234   |</pre>"
      ],
      "text/plain": [
       "| 5       | 5m 49s       | 0.473024          | 0.425818                          | 0.0306234   |"
      ]
     },
     "metadata": {},
     "output_type": "display_data"
    },
    {
     "data": {
      "text/html": [
       "<pre>| 6       | 7m 0s        | 0.469882          | 0.42165                           | 0.0306234   |</pre>"
      ],
      "text/plain": [
       "| 6       | 7m 0s        | 0.469882          | 0.42165                           | 0.0306234   |"
      ]
     },
     "metadata": {},
     "output_type": "display_data"
    },
    {
     "data": {
      "text/html": [
       "<pre>| 7       | 8m 10s       | 0.467093          | 0.418163                          | 0.0306234   |</pre>"
      ],
      "text/plain": [
       "| 7       | 8m 10s       | 0.467093          | 0.418163                          | 0.0306234   |"
      ]
     },
     "metadata": {},
     "output_type": "display_data"
    },
    {
     "data": {
      "text/html": [
       "<pre>| 8       | 9m 21s       | 0.46476           | 0.415361                          | 0.0306234   |</pre>"
      ],
      "text/plain": [
       "| 8       | 9m 21s       | 0.46476           | 0.415361                          | 0.0306234   |"
      ]
     },
     "metadata": {},
     "output_type": "display_data"
    },
    {
     "data": {
      "text/html": [
       "<pre>| 9       | 10m 31s      | 0.462857          | 0.413023                          | 0.0306234   |</pre>"
      ],
      "text/plain": [
       "| 9       | 10m 31s      | 0.462857          | 0.413023                          | 0.0306234   |"
      ]
     },
     "metadata": {},
     "output_type": "display_data"
    },
    {
     "data": {
      "text/html": [
       "<pre>| 10      | 11m 43s      | 0.460978          | 0.410847                          | 0.0306234   |</pre>"
      ],
      "text/plain": [
       "| 10      | 11m 43s      | 0.460978          | 0.410847                          | 0.0306234   |"
      ]
     },
     "metadata": {},
     "output_type": "display_data"
    },
    {
     "data": {
      "text/html": [
       "<pre>| 11      | 12m 59s      | 0.459109          | 0.408797                          | 0.0306234   |</pre>"
      ],
      "text/plain": [
       "| 11      | 12m 59s      | 0.459109          | 0.408797                          | 0.0306234   |"
      ]
     },
     "metadata": {},
     "output_type": "display_data"
    },
    {
     "data": {
      "text/html": [
       "<pre>| 12      | 14m 12s      | 0.457457          | 0.407019                          | 0.0306234   |</pre>"
      ],
      "text/plain": [
       "| 12      | 14m 12s      | 0.457457          | 0.407019                          | 0.0306234   |"
      ]
     },
     "metadata": {},
     "output_type": "display_data"
    },
    {
     "data": {
      "text/html": [
       "<pre>| 13      | 15m 20s      | 0.456018          | 0.405438                          | 0.0306234   |</pre>"
      ],
      "text/plain": [
       "| 13      | 15m 20s      | 0.456018          | 0.405438                          | 0.0306234   |"
      ]
     },
     "metadata": {},
     "output_type": "display_data"
    },
    {
     "data": {
      "text/html": [
       "<pre>| 14      | 16m 31s      | 0.454491          | 0.403817                          | 0.0306234   |</pre>"
      ],
      "text/plain": [
       "| 14      | 16m 31s      | 0.454491          | 0.403817                          | 0.0306234   |"
      ]
     },
     "metadata": {},
     "output_type": "display_data"
    },
    {
     "data": {
      "text/html": [
       "<pre>| 17      | 19m 59s      | 0.450445          | 0.399618                          | 0.0306234   |</pre>"
      ],
      "text/plain": [
       "| 17      | 19m 59s      | 0.450445          | 0.399618                          | 0.0306234   |"
      ]
     },
     "metadata": {},
     "output_type": "display_data"
    },
    {
     "data": {
      "text/html": [
       "<pre>| 18      | 21m 7s       | 0.449396          | 0.398453                          | 0.0306234   |</pre>"
      ],
      "text/plain": [
       "| 18      | 21m 7s       | 0.449396          | 0.398453                          | 0.0306234   |"
      ]
     },
     "metadata": {},
     "output_type": "display_data"
    },
    {
     "data": {
      "text/html": [
       "<pre>| 19      | 22m 11s      | 0.448114          | 0.397076                          | 0.0306234   |</pre>"
      ],
      "text/plain": [
       "| 19      | 22m 11s      | 0.448114          | 0.397076                          | 0.0306234   |"
      ]
     },
     "metadata": {},
     "output_type": "display_data"
    },
    {
     "data": {
      "text/html": [
       "<pre>| 20      | 23m 17s      | 0.447083          | 0.395912                          | 0.0306234   |</pre>"
      ],
      "text/plain": [
       "| 20      | 23m 17s      | 0.447083          | 0.395912                          | 0.0306234   |"
      ]
     },
     "metadata": {},
     "output_type": "display_data"
    },
    {
     "data": {
      "text/html": [
       "<pre>| 21      | 24m 23s      | 0.446029          | 0.394714                          | 0.0306234   |</pre>"
      ],
      "text/plain": [
       "| 21      | 24m 23s      | 0.446029          | 0.394714                          | 0.0306234   |"
      ]
     },
     "metadata": {},
     "output_type": "display_data"
    },
    {
     "data": {
      "text/html": [
       "<pre>| 25      | 28m 47s      | 0.442324          | 0.390422                          | 0.0306234   |</pre>"
      ],
      "text/plain": [
       "| 25      | 28m 47s      | 0.442324          | 0.390422                          | 0.0306234   |"
      ]
     },
     "metadata": {},
     "output_type": "display_data"
    },
    {
     "data": {
      "text/html": [
       "<pre>| 26      | 29m 50s      | 0.441418          | 0.389361                          | 0.0306234   |</pre>"
      ],
      "text/plain": [
       "| 26      | 29m 50s      | 0.441418          | 0.389361                          | 0.0306234   |"
      ]
     },
     "metadata": {},
     "output_type": "display_data"
    },
    {
     "data": {
      "text/html": [
       "<pre>| 27      | 30m 56s      | 0.44061           | 0.38833                           | 0.0306234   |</pre>"
      ],
      "text/plain": [
       "| 27      | 30m 56s      | 0.44061           | 0.38833                           | 0.0306234   |"
      ]
     },
     "metadata": {},
     "output_type": "display_data"
    },
    {
     "data": {
      "text/html": [
       "<pre>| 28      | 32m 1s       | 0.439698          | 0.387293                          | 0.0306234   |</pre>"
      ],
      "text/plain": [
       "| 28      | 32m 1s       | 0.439698          | 0.387293                          | 0.0306234   |"
      ]
     },
     "metadata": {},
     "output_type": "display_data"
    },
    {
     "data": {
      "text/html": [
       "<pre>| 29      | 33m 5s       | 0.438949          | 0.386358                          | 0.0306234   |</pre>"
      ],
      "text/plain": [
       "| 29      | 33m 5s       | 0.438949          | 0.386358                          | 0.0306234   |"
      ]
     },
     "metadata": {},
     "output_type": "display_data"
    },
    {
     "data": {
      "text/html": [
       "<pre>| 30      | 34m 10s      | 0.438178          | 0.385414                          | 0.0306234   |</pre>"
      ],
      "text/plain": [
       "| 30      | 34m 10s      | 0.438178          | 0.385414                          | 0.0306234   |"
      ]
     },
     "metadata": {},
     "output_type": "display_data"
    },
    {
     "data": {
      "text/html": [
       "<pre>| 39      | 43m 56s      | 0.432415          | 0.377702                          | 0.0306234   |</pre>"
      ],
      "text/plain": [
       "| 39      | 43m 56s      | 0.432415          | 0.377702                          | 0.0306234   |"
      ]
     },
     "metadata": {},
     "output_type": "display_data"
    },
    {
     "data": {
      "text/html": [
       "<pre>| 40      | 45m 1s       | 0.43188           | 0.376913                          | 0.0306234   |</pre>"
      ],
      "text/plain": [
       "| 40      | 45m 1s       | 0.43188           | 0.376913                          | 0.0306234   |"
      ]
     },
     "metadata": {},
     "output_type": "display_data"
    },
    {
     "data": {
      "text/html": [
       "<pre>| 41      | 46m 7s       | 0.431413          | 0.376208                          | 0.0306234   |</pre>"
      ],
      "text/plain": [
       "| 41      | 46m 7s       | 0.431413          | 0.376208                          | 0.0306234   |"
      ]
     },
     "metadata": {},
     "output_type": "display_data"
    },
    {
     "data": {
      "text/html": [
       "<pre>| 42      | 47m 12s      | 0.430876          | 0.375411                          | 0.0306234   |</pre>"
      ],
      "text/plain": [
       "| 42      | 47m 12s      | 0.430876          | 0.375411                          | 0.0306234   |"
      ]
     },
     "metadata": {},
     "output_type": "display_data"
    },
    {
     "data": {
      "text/html": [
       "<pre>| 43      | 48m 19s      | 0.430341          | 0.374662                          | 0.0306234   |</pre>"
      ],
      "text/plain": [
       "| 43      | 48m 19s      | 0.430341          | 0.374662                          | 0.0306234   |"
      ]
     },
     "metadata": {},
     "output_type": "display_data"
    },
    {
     "data": {
      "text/html": [
       "<pre>| 44      | 49m 25s      | 0.429862          | 0.373927                          | 0.0306234   |</pre>"
      ],
      "text/plain": [
       "| 44      | 49m 25s      | 0.429862          | 0.373927                          | 0.0306234   |"
      ]
     },
     "metadata": {},
     "output_type": "display_data"
    },
    {
     "data": {
      "text/html": [
       "<pre>| 45      | 50m 30s      | 0.42939           | 0.373212                          | 0.0306234   |</pre>"
      ],
      "text/plain": [
       "| 45      | 50m 30s      | 0.42939           | 0.373212                          | 0.0306234   |"
      ]
     },
     "metadata": {},
     "output_type": "display_data"
    },
    {
     "data": {
      "text/html": [
       "<pre>| 46      | 51m 36s      | 0.428945          | 0.372489                          | 0.0306234   |</pre>"
      ],
      "text/plain": [
       "| 46      | 51m 36s      | 0.428945          | 0.372489                          | 0.0306234   |"
      ]
     },
     "metadata": {},
     "output_type": "display_data"
    },
    {
     "data": {
      "text/html": [
       "<pre>| 49      | 54m 54s      | 0.427628          | 0.370432                          | 0.0306234   |</pre>"
      ],
      "text/plain": [
       "| 49      | 54m 54s      | 0.427628          | 0.370432                          | 0.0306234   |"
      ]
     },
     "metadata": {},
     "output_type": "display_data"
    },
    {
     "data": {
      "text/html": [
       "<pre>| 50      | 55m 59s      | 0.427222          | 0.369758                          | 0.0306234   |</pre>"
      ],
      "text/plain": [
       "| 50      | 55m 59s      | 0.427222          | 0.369758                          | 0.0306234   |"
      ]
     },
     "metadata": {},
     "output_type": "display_data"
    },
    {
     "data": {
      "text/html": [
       "<pre>| 51      | 57m 4s       | 0.426789          | 0.369097                          | 0.0306234   |</pre>"
      ],
      "text/plain": [
       "| 51      | 57m 4s       | 0.426789          | 0.369097                          | 0.0306234   |"
      ]
     },
     "metadata": {},
     "output_type": "display_data"
    },
    {
     "data": {
      "text/html": [
       "<pre>| 57      | 1h 3m        | 0.424674          | 0.365402                          | 0.0306234   |</pre>"
      ],
      "text/plain": [
       "| 57      | 1h 3m        | 0.424674          | 0.365402                          | 0.0306234   |"
      ]
     },
     "metadata": {},
     "output_type": "display_data"
    },
    {
     "data": {
      "text/html": [
       "<pre>| 58      | 1h 4m        | 0.424386          | 0.364876                          | 0.0306234   |</pre>"
      ],
      "text/plain": [
       "| 58      | 1h 4m        | 0.424386          | 0.364876                          | 0.0306234   |"
      ]
     },
     "metadata": {},
     "output_type": "display_data"
    },
    {
     "data": {
      "text/html": [
       "<pre>| 59      | 1h 5m        | 0.42405           | 0.36428                           | 0.0306234   |</pre>"
      ],
      "text/plain": [
       "| 59      | 1h 5m        | 0.42405           | 0.36428                           | 0.0306234   |"
      ]
     },
     "metadata": {},
     "output_type": "display_data"
    },
    {
     "data": {
      "text/html": [
       "<pre>| 60      | 1h 6m        | 0.423772          | 0.363729                          | 0.0306234   |</pre>"
      ],
      "text/plain": [
       "| 60      | 1h 6m        | 0.423772          | 0.363729                          | 0.0306234   |"
      ]
     },
     "metadata": {},
     "output_type": "display_data"
    },
    {
     "data": {
      "text/html": [
       "<pre>| 61      | 1h 8m        | 0.423438          | 0.363152                          | 0.0306234   |</pre>"
      ],
      "text/plain": [
       "| 61      | 1h 8m        | 0.423438          | 0.363152                          | 0.0306234   |"
      ]
     },
     "metadata": {},
     "output_type": "display_data"
    },
    {
     "data": {
      "text/html": [
       "<pre>| 64      | 1h 11m       | 0.422627          | 0.36157                           | 0.0306234   |</pre>"
      ],
      "text/plain": [
       "| 64      | 1h 11m       | 0.422627          | 0.36157                           | 0.0306234   |"
      ]
     },
     "metadata": {},
     "output_type": "display_data"
    },
    {
     "data": {
      "text/html": [
       "<pre>| 65      | 1h 12m       | 0.422366          | 0.36107                           | 0.0306234   |</pre>"
      ],
      "text/plain": [
       "| 65      | 1h 12m       | 0.422366          | 0.36107                           | 0.0306234   |"
      ]
     },
     "metadata": {},
     "output_type": "display_data"
    },
    {
     "data": {
      "text/html": [
       "<pre>| 66      | 1h 13m       | 0.422128          | 0.360572                          | 0.0306234   |</pre>"
      ],
      "text/plain": [
       "| 66      | 1h 13m       | 0.422128          | 0.360572                          | 0.0306234   |"
      ]
     },
     "metadata": {},
     "output_type": "display_data"
    },
    {
     "data": {
      "text/html": [
       "<pre>| 73      | 1h 21m       | 0.420433          | 0.357209                          | 0.0306234   |</pre>"
      ],
      "text/plain": [
       "| 73      | 1h 21m       | 0.420433          | 0.357209                          | 0.0306234   |"
      ]
     },
     "metadata": {},
     "output_type": "display_data"
    },
    {
     "data": {
      "text/html": [
       "<pre>| 74      | 1h 22m       | 0.420227          | 0.356776                          | 0.0306234   |</pre>"
      ],
      "text/plain": [
       "| 74      | 1h 22m       | 0.420227          | 0.356776                          | 0.0306234   |"
      ]
     },
     "metadata": {},
     "output_type": "display_data"
    },
    {
     "data": {
      "text/html": [
       "<pre>| 75      | 1h 23m       | 0.420066          | 0.356374                          | 0.0306234   |</pre>"
      ],
      "text/plain": [
       "| 75      | 1h 23m       | 0.420066          | 0.356374                          | 0.0306234   |"
      ]
     },
     "metadata": {},
     "output_type": "display_data"
    },
    {
     "data": {
      "text/html": [
       "<pre>| 76      | 1h 25m       | 0.41984           | 0.355932                          | 0.0306234   |</pre>"
      ],
      "text/plain": [
       "| 76      | 1h 25m       | 0.41984           | 0.355932                          | 0.0306234   |"
      ]
     },
     "metadata": {},
     "output_type": "display_data"
    },
    {
     "data": {
      "text/html": [
       "<pre>| 82      | 1h 31m       | 0.418812          | 0.353581                          | 0.0306234   |</pre>"
      ],
      "text/plain": [
       "| 82      | 1h 31m       | 0.418812          | 0.353581                          | 0.0306234   |"
      ]
     },
     "metadata": {},
     "output_type": "display_data"
    },
    {
     "data": {
      "text/html": [
       "<pre>| 83      | 1h 32m       | 0.418621          | 0.35318                           | 0.0306234   |</pre>"
      ],
      "text/plain": [
       "| 83      | 1h 32m       | 0.418621          | 0.35318                           | 0.0306234   |"
      ]
     },
     "metadata": {},
     "output_type": "display_data"
    },
    {
     "data": {
      "text/html": [
       "<pre>| 84      | 1h 34m       | 0.41842           | 0.352801                          | 0.0306234   |</pre>"
      ],
      "text/plain": [
       "| 84      | 1h 34m       | 0.41842           | 0.352801                          | 0.0306234   |"
      ]
     },
     "metadata": {},
     "output_type": "display_data"
    },
    {
     "data": {
      "text/html": [
       "<pre>| 85      | 1h 35m       | 0.418293          | 0.352504                          | 0.0306234   |</pre>"
      ],
      "text/plain": [
       "| 85      | 1h 35m       | 0.418293          | 0.352504                          | 0.0306234   |"
      ]
     },
     "metadata": {},
     "output_type": "display_data"
    },
    {
     "data": {
      "text/html": [
       "<pre>| 86      | 1h 36m       | 0.418099          | 0.352123                          | 0.0306234   |</pre>"
      ],
      "text/plain": [
       "| 86      | 1h 36m       | 0.418099          | 0.352123                          | 0.0306234   |"
      ]
     },
     "metadata": {},
     "output_type": "display_data"
    },
    {
     "data": {
      "text/html": [
       "<pre>| 87      | 1h 37m       | 0.41801           | 0.351808                          | 0.0306234   |</pre>"
      ],
      "text/plain": [
       "| 87      | 1h 37m       | 0.41801           | 0.351808                          | 0.0306234   |"
      ]
     },
     "metadata": {},
     "output_type": "display_data"
    },
    {
     "data": {
      "text/html": [
       "<pre>| 115     | 2h 10m       | 0.415088          | 0.344467                          | 0.0306234   |</pre>"
      ],
      "text/plain": [
       "| 115     | 2h 10m       | 0.415088          | 0.344467                          | 0.0306234   |"
      ]
     },
     "metadata": {},
     "output_type": "display_data"
    },
    {
     "data": {
      "text/html": [
       "<pre>| 127     | 2h 24m       | 0.414233          | 0.342234                          | 0.0306234   |</pre>"
      ],
      "text/plain": [
       "| 127     | 2h 24m       | 0.414233          | 0.342234                          | 0.0306234   |"
      ]
     },
     "metadata": {},
     "output_type": "display_data"
    },
    {
     "data": {
      "text/html": [
       "<pre>| 132     | 2h 30m       | 0.413983          | 0.341425                          | 0.0306234   |</pre>"
      ],
      "text/plain": [
       "| 132     | 2h 30m       | 0.413983          | 0.341425                          | 0.0306234   |"
      ]
     },
     "metadata": {},
     "output_type": "display_data"
    },
    {
     "data": {
      "text/html": [
       "<pre>| 133     | 2h 31m       | 0.4139            | 0.341263                          | 0.0306234   |</pre>"
      ],
      "text/plain": [
       "| 133     | 2h 31m       | 0.4139            | 0.341263                          | 0.0306234   |"
      ]
     },
     "metadata": {},
     "output_type": "display_data"
    },
    {
     "data": {
      "text/html": [
       "<pre>| 134     | 2h 32m       | 0.413834          | 0.341108                          | 0.0306234   |</pre>"
      ],
      "text/plain": [
       "| 134     | 2h 32m       | 0.413834          | 0.341108                          | 0.0306234   |"
      ]
     },
     "metadata": {},
     "output_type": "display_data"
    },
    {
     "data": {
      "text/html": [
       "<pre>| 135     | 2h 33m       | 0.413811          | 0.341005                          | 0.0306234   |</pre>"
      ],
      "text/plain": [
       "| 135     | 2h 33m       | 0.413811          | 0.341005                          | 0.0306234   |"
      ]
     },
     "metadata": {},
     "output_type": "display_data"
    },
    {
     "data": {
      "text/html": [
       "<pre>| 136     | 2h 34m       | 0.41375           | 0.340868                          | 0.0306234   |</pre>"
      ],
      "text/plain": [
       "| 136     | 2h 34m       | 0.41375           | 0.340868                          | 0.0306234   |"
      ]
     },
     "metadata": {},
     "output_type": "display_data"
    },
    {
     "data": {
      "text/html": [
       "<pre>| 137     | 2h 35m       | 0.413722          | 0.340726                          | 0.0306234   |</pre>"
      ],
      "text/plain": [
       "| 137     | 2h 35m       | 0.413722          | 0.340726                          | 0.0306234   |"
      ]
     },
     "metadata": {},
     "output_type": "display_data"
    },
    {
     "data": {
      "text/html": [
       "<pre>| 138     | 2h 36m       | 0.413652          | 0.340555                          | 0.0306234   |</pre>"
      ],
      "text/plain": [
       "| 138     | 2h 36m       | 0.413652          | 0.340555                          | 0.0306234   |"
      ]
     },
     "metadata": {},
     "output_type": "display_data"
    },
    {
     "data": {
      "text/html": [
       "<pre>| 139     | 2h 38m       | 0.413646          | 0.340446                          | 0.0306234   |</pre>"
      ],
      "text/plain": [
       "| 139     | 2h 38m       | 0.413646          | 0.340446                          | 0.0306234   |"
      ]
     },
     "metadata": {},
     "output_type": "display_data"
    },
    {
     "data": {
      "text/html": [
       "<pre>| 140     | 2h 39m       | 0.413541          | 0.340253                          | 0.0306234   |</pre>"
      ],
      "text/plain": [
       "| 140     | 2h 39m       | 0.413541          | 0.340253                          | 0.0306234   |"
      ]
     },
     "metadata": {},
     "output_type": "display_data"
    },
    {
     "data": {
      "text/html": [
       "<pre>| 141     | 2h 40m       | 0.413538          | 0.340172                          | 0.0306234   |</pre>"
      ],
      "text/plain": [
       "| 141     | 2h 40m       | 0.413538          | 0.340172                          | 0.0306234   |"
      ]
     },
     "metadata": {},
     "output_type": "display_data"
    },
    {
     "data": {
      "text/html": [
       "<pre>| 142     | 2h 41m       | 0.413438          | 0.340006                          | 0.0306234   |</pre>"
      ],
      "text/plain": [
       "| 142     | 2h 41m       | 0.413438          | 0.340006                          | 0.0306234   |"
      ]
     },
     "metadata": {},
     "output_type": "display_data"
    },
    {
     "data": {
      "text/html": [
       "<pre>| 143     | 2h 42m       | 0.413409          | 0.339905                          | 0.0306234   |</pre>"
      ],
      "text/plain": [
       "| 143     | 2h 42m       | 0.413409          | 0.339905                          | 0.0306234   |"
      ]
     },
     "metadata": {},
     "output_type": "display_data"
    },
    {
     "data": {
      "text/html": [
       "<pre>| 144     | 2h 43m       | 0.413381          | 0.339813                          | 0.0306234   |</pre>"
      ],
      "text/plain": [
       "| 144     | 2h 43m       | 0.413381          | 0.339813                          | 0.0306234   |"
      ]
     },
     "metadata": {},
     "output_type": "display_data"
    },
    {
     "data": {
      "text/html": [
       "<pre>| 149     | 2h 49m       | 0.413207          | 0.339207                          | 0.0306234   |</pre>"
      ],
      "text/plain": [
       "| 149     | 2h 49m       | 0.413207          | 0.339207                          | 0.0306234   |"
      ]
     },
     "metadata": {},
     "output_type": "display_data"
    },
    {
     "data": {
      "text/html": [
       "<pre>| 150     | 2h 50m       | 0.41314           | 0.339064                          | 0.0306234   |</pre>"
      ],
      "text/plain": [
       "| 150     | 2h 50m       | 0.41314           | 0.339064                          | 0.0306234   |"
      ]
     },
     "metadata": {},
     "output_type": "display_data"
    },
    {
     "data": {
      "text/html": [
       "<pre>| 151     | 2h 51m       | 0.413107          | 0.338952                          | 0.0306234   |</pre>"
      ],
      "text/plain": [
       "| 151     | 2h 51m       | 0.413107          | 0.338952                          | 0.0306234   |"
      ]
     },
     "metadata": {},
     "output_type": "display_data"
    },
    {
     "data": {
      "text/html": [
       "<pre>| 152     | 2h 52m       | 0.412992          | 0.338771                          | 0.0306234   |</pre>"
      ],
      "text/plain": [
       "| 152     | 2h 52m       | 0.412992          | 0.338771                          | 0.0306234   |"
      ]
     },
     "metadata": {},
     "output_type": "display_data"
    },
    {
     "data": {
      "text/html": [
       "<pre>| 153     | 2h 53m       | 0.412994          | 0.338673                          | 0.0306234   |</pre>"
      ],
      "text/plain": [
       "| 153     | 2h 53m       | 0.412994          | 0.338673                          | 0.0306234   |"
      ]
     },
     "metadata": {},
     "output_type": "display_data"
    },
    {
     "data": {
      "text/html": [
       "<pre>| 154     | 2h 54m       | 0.412971          | 0.338565                          | 0.0306234   |</pre>"
      ],
      "text/plain": [
       "| 154     | 2h 54m       | 0.412971          | 0.338565                          | 0.0306234   |"
      ]
     },
     "metadata": {},
     "output_type": "display_data"
    },
    {
     "data": {
      "text/html": [
       "<pre>| 155     | 2h 55m       | 0.412942          | 0.338457                          | 0.0306234   |</pre>"
      ],
      "text/plain": [
       "| 155     | 2h 55m       | 0.412942          | 0.338457                          | 0.0306234   |"
      ]
     },
     "metadata": {},
     "output_type": "display_data"
    },
    {
     "data": {
      "text/html": [
       "<pre>| 156     | 2h 56m       | 0.412873          | 0.338316                          | 0.0306234   |</pre>"
      ],
      "text/plain": [
       "| 156     | 2h 56m       | 0.412873          | 0.338316                          | 0.0306234   |"
      ]
     },
     "metadata": {},
     "output_type": "display_data"
    },
    {
     "data": {
      "text/html": [
       "<pre>| 157     | 2h 58m       | 0.412853          | 0.338238                          | 0.0306234   |</pre>"
      ],
      "text/plain": [
       "| 157     | 2h 58m       | 0.412853          | 0.338238                          | 0.0306234   |"
      ]
     },
     "metadata": {},
     "output_type": "display_data"
    },
    {
     "data": {
      "text/html": [
       "<pre>| 158     | 2h 59m       | 0.412769          | 0.338102                          | 0.0306234   |</pre>"
      ],
      "text/plain": [
       "| 158     | 2h 59m       | 0.412769          | 0.338102                          | 0.0306234   |"
      ]
     },
     "metadata": {},
     "output_type": "display_data"
    },
    {
     "data": {
      "text/html": [
       "<pre>| 164     | 3h 5m        | 0.412547          | 0.337539                          | 0.0306234   |</pre>"
      ],
      "text/plain": [
       "| 164     | 3h 5m        | 0.412547          | 0.337539                          | 0.0306234   |"
      ]
     },
     "metadata": {},
     "output_type": "display_data"
    },
    {
     "data": {
      "text/html": [
       "<pre>| 165     | 3h 7m        | 0.412505          | 0.33742                           | 0.0306234   |</pre>"
      ],
      "text/plain": [
       "| 165     | 3h 7m        | 0.412505          | 0.33742                           | 0.0306234   |"
      ]
     },
     "metadata": {},
     "output_type": "display_data"
    },
    {
     "data": {
      "text/html": [
       "<pre>| 166     | 3h 8m        | 0.41253           | 0.337376                          | 0.0306234   |</pre>"
      ],
      "text/plain": [
       "| 166     | 3h 8m        | 0.41253           | 0.337376                          | 0.0306234   |"
      ]
     },
     "metadata": {},
     "output_type": "display_data"
    },
    {
     "data": {
      "text/html": [
       "<pre>| 167     | 3h 9m        | 0.412492          | 0.337274                          | 0.0306234   |</pre>"
      ],
      "text/plain": [
       "| 167     | 3h 9m        | 0.412492          | 0.337274                          | 0.0306234   |"
      ]
     },
     "metadata": {},
     "output_type": "display_data"
    },
    {
     "data": {
      "text/html": [
       "<pre>| 172     | 3h 14m       | 0.412329          | 0.336801                          | 0.0306234   |</pre>"
      ],
      "text/plain": [
       "| 172     | 3h 14m       | 0.412329          | 0.336801                          | 0.0306234   |"
      ]
     },
     "metadata": {},
     "output_type": "display_data"
    },
    {
     "data": {
      "text/html": [
       "<pre>| 173     | 3h 16m       | 0.412242          | 0.336672                          | 0.0306234   |</pre>"
      ],
      "text/plain": [
       "| 173     | 3h 16m       | 0.412242          | 0.336672                          | 0.0306234   |"
      ]
     },
     "metadata": {},
     "output_type": "display_data"
    },
    {
     "data": {
      "text/html": [
       "<pre>| 180     | 3h 23m       | 0.412036          | 0.336129                          | 0.0306234   |</pre>"
      ],
      "text/plain": [
       "| 180     | 3h 23m       | 0.412036          | 0.336129                          | 0.0306234   |"
      ]
     },
     "metadata": {},
     "output_type": "display_data"
    }
   ],
   "source": [
    "# training the model\n",
    "model = gl.recommender.factorization_recommender.create(tr_listen, \n",
    "                                                        binary_target = True, \n",
    "                                                        num_factors = n_factors,\n",
    "                                                        user_id = \"user_id\", \n",
    "                                                        item_id = \"media_id\", \n",
    "                                                        target  = \"is_listened\",\n",
    "                                                        user_data = user_data, \n",
    "                                                        item_data = song_data,\n",
    "                                                        max_iterations = m_epochs,\n",
    "                                                        regularization = regular)"
   ]
  },
  {
   "cell_type": "code",
   "execution_count": null,
   "metadata": {
    "collapsed": false,
    "scrolled": true
   },
   "outputs": [],
   "source": [
    "# forecasting\n",
    "pred = pd.DataFrame()\n",
    "pred[\"row_index\"] = ts.row_index\n",
    "pred[\"is_listened\"] = model.predict(ts_listen)\n",
    "pred.head(3)"
   ]
  },
  {
   "cell_type": "code",
   "execution_count": null,
   "metadata": {
    "collapsed": false,
    "scrolled": true
   },
   "outputs": [],
   "source": [
    "# computing AUC\n",
    "metrics.roc_auc_score(ts.is_listened, pred[\"is_listened\"])"
   ]
  },
  {
   "cell_type": "code",
   "execution_count": null,
   "metadata": {
    "collapsed": true,
    "scrolled": true
   },
   "outputs": [],
   "source": [
    "# saving prediction vector\n",
    "pred.to_csv(path + \"pred_valid/factorization_full_type_moredata_50f_400i.csv\", index = False)"
   ]
  },
  {
   "cell_type": "code",
   "execution_count": null,
   "metadata": {
    "collapsed": true
   },
   "outputs": [],
   "source": [
    "# clearing the memory\n",
    "tr_listen = \"Null\"\n",
    "ts_listen = \"Null\"\n",
    "ts = \"Null\""
   ]
  },
  {
   "cell_type": "markdown",
   "metadata": {},
   "source": [
    "## 3.2. KNOWN-UNKNOWN"
   ]
  },
  {
   "cell_type": "code",
   "execution_count": null,
   "metadata": {
    "collapsed": false
   },
   "outputs": [],
   "source": [
    "# training the model\n",
    "model = gl.recommender.factorization_recommender.create(kn_listen, \n",
    "                                                        binary_target = True, \n",
    "                                                        num_factors = n_factors,\n",
    "                                                        user_id = \"user_id\", \n",
    "                                                        item_id = \"media_id\", \n",
    "                                                        target  = \"is_listened\",\n",
    "                                                        user_data = user_data, \n",
    "                                                        item_data = song_data,\n",
    "                                                        max_iterations = m_epochs,\n",
    "                                                        regularization = regular)"
   ]
  },
  {
   "cell_type": "code",
   "execution_count": null,
   "metadata": {
    "collapsed": false,
    "scrolled": true
   },
   "outputs": [],
   "source": [
    "# forecasting\n",
    "pred = pd.DataFrame()\n",
    "pred[\"sample_id\"] = un.sample_id.astype(int)\n",
    "pred[\"is_listened\"] = model.predict(un_listen)\n",
    "pred = pred.sort_values(\"sample_id\")\n",
    "pred.head(3)"
   ]
  },
  {
   "cell_type": "code",
   "execution_count": null,
   "metadata": {
    "collapsed": true,
    "scrolled": true
   },
   "outputs": [],
   "source": [
    "# saving prediction vector\n",
    "pred.to_csv(path + \"pred_unknown/factorization_full_type_moredata_50f_400i.csv\", index = False)"
   ]
  },
  {
   "cell_type": "code",
   "execution_count": null,
   "metadata": {
    "collapsed": true
   },
   "outputs": [],
   "source": []
  }
 ],
 "metadata": {
  "anaconda-cloud": {},
  "kernelspec": {
   "display_name": "Python 2",
   "language": "python",
   "name": "python2"
  },
  "language_info": {
   "codemirror_mode": {
    "name": "ipython",
    "version": 2
   },
   "file_extension": ".py",
   "mimetype": "text/x-python",
   "name": "python",
   "nbconvert_exporter": "python",
   "pygments_lexer": "ipython2",
   "version": "2.7.13"
  }
 },
 "nbformat": 4,
 "nbformat_minor": 1
}
