{
 "cells": [
  {
   "cell_type": "markdown",
   "metadata": {},
   "source": [
    "# 1. LOADING"
   ]
  },
  {
   "cell_type": "code",
   "execution_count": 1,
   "metadata": {
    "collapsed": false,
    "scrolled": true
   },
   "outputs": [],
   "source": [
    "# import packages\n",
    "import pandas as pd\n",
    "import graphlab as gl\n",
    "from sklearn import metrics\n",
    "from scipy import stats"
   ]
  },
  {
   "cell_type": "code",
   "execution_count": 2,
   "metadata": {
    "collapsed": false,
    "scrolled": true
   },
   "outputs": [
    {
     "data": {
      "text/plain": [
       "(2339529, 61)"
      ]
     },
     "execution_count": 2,
     "metadata": {},
     "output_type": "execute_result"
    }
   ],
   "source": [
    "# load the data\n",
    "path = \"/Users/Kozodoi/Documents/Competitions/DSG_2017/\"\n",
    "data = pd.read_csv(path + \"data/data_full.csv\")\n",
    "data.shape"
   ]
  },
  {
   "cell_type": "code",
   "execution_count": 5,
   "metadata": {
    "collapsed": false
   },
   "outputs": [
    {
     "data": {
      "text/plain": [
       "Index([u'user_id', u'context_type', u'media_id', u'artist_id', u'genre_id',\n",
       "       u'album_id', u'platform_name', u'platform_family', u'media_duration',\n",
       "       u'listen_type', u'user_gender', u'user_age', u'is_listened',\n",
       "       u'sample_id', u'dataset', u'row_index', u'song_rank', u'song_bpm',\n",
       "       u'song_position', u'song_lyrics_explicit', u'song_gain', u'album_fans',\n",
       "       u'favorite_artist', u'favorite_album', u'radio_selecter', u'session_id',\n",
       "       u'time_lag_lag1', u'time_lag_lag2', u'song_session_position',\n",
       "       u'first_flow', u'time_diff_release_listen', u'hour_of_day', u'weekday',\n",
       "       u'release_year', u'is_listened_lag1', u'is_listened_lag2',\n",
       "       u'user_skip_ratio_last3', u'user_skip_ratio_last5',\n",
       "       u'user_skip_ratio_last10', u'context_type_same_as_lag',\n",
       "       u'genre_equal_last_song', u'artist_equal_last_song',\n",
       "       u'album_equal_last_song', u'genre_plays', u'genre_skips',\n",
       "       u'artist_plays', u'artist_skips', u'album_plays', u'album_skips',\n",
       "       u'song_plays', u'song_skips', u'user_ratio_flow', u'user_ratio_full',\n",
       "       u'genre_ratio', u'artist_ratio', u'song_ratio', u'context_ratio',\n",
       "       u'user_genre_ratio', u'user_artist_ratio', u'user_song_ratio',\n",
       "       u'user_context_ratio'],\n",
       "      dtype='object')"
      ]
     },
     "execution_count": 5,
     "metadata": {},
     "output_type": "execute_result"
    }
   ],
   "source": [
    "# print variable names\n",
    "data.columns"
   ]
  },
  {
   "cell_type": "markdown",
   "metadata": {},
   "source": [
    "# 2. DATA PREPARATION"
   ]
  },
  {
   "cell_type": "code",
   "execution_count": 6,
   "metadata": {
    "collapsed": false
   },
   "outputs": [],
   "source": [
    "# converting factors to strings\n",
    "data[\"user_id\"]   = data.user_id.astype(str)\n",
    "data[\"media_id\"]  = data.media_id.astype(str)\n",
    "data[\"album_id\"]  = data.album_id.astype(str)\n",
    "data[\"artist_id\"] = data.artist_id.astype(str)\n",
    "data[\"genre_id\"]  = data.genre_id.astype(str)\n",
    "data[\"context_type\"]    = data.context_type.astype(str)\n",
    "data[\"listen_type\"]     = data.listen_type.astype(str)\n",
    "data[\"first_flow\"]      = data.first_flow.astype(str)\n",
    "data[\"platform_name\"]   = data.platform_name.astype(str)\n",
    "data[\"platform_family\"] = data.platform_family.astype(str)\n",
    "data[\"user_gender\"]  = data.user_gender.astype(str)\n",
    "data[\"release_year\"] = data.release_year.astype(str)\n",
    "data[\"hour_of_day\"]  = data.hour_of_day.astype(str)\n",
    "data[\"weekday\"]      = data.weekday.astype(str)\n",
    "data[\"favorite_artist\"] = data.favorite_artist.astype(str)\n",
    "data[\"favorite_album\"]  = data.favorite_album.astype(str)\n",
    "data[\"song_lyrics_explicit\"]  = data.song_lyrics_explicit.astype(str)"
   ]
  },
  {
   "cell_type": "code",
   "execution_count": 7,
   "metadata": {
    "collapsed": false,
    "scrolled": true
   },
   "outputs": [
    {
     "name": "stdout",
     "output_type": "stream",
     "text": [
      "train: (2279790, 61)\n",
      "test: (39821, 61)\n",
      "known: (2319611, 61)\n",
      "unknown: (19918, 61)\n"
     ]
    }
   ],
   "source": [
    "# data partitioning\n",
    "tr = data.query(\"dataset == 'train'\")\n",
    "ts = data.query(\"dataset == 'test'\")\n",
    "kn = data.query(\"dataset != 'unknown'\")\n",
    "un = data.query(\"dataset == 'unknown'\")\n",
    "\n",
    "# print data sizes\n",
    "print(\"train: \"   + str(tr.shape))\n",
    "print(\"test: \"    + str(ts.shape))\n",
    "print(\"known: \"   + str(kn.shape))\n",
    "print(\"unknown: \" + str(un.shape))"
   ]
  },
  {
   "cell_type": "code",
   "execution_count": 8,
   "metadata": {
    "collapsed": false,
    "scrolled": true
   },
   "outputs": [
    {
     "name": "stdout",
     "output_type": "stream",
     "text": [
      "This non-commercial license of GraphLab Create for academic use is assigned to kozodoin@hu-berlin.de and will expire on May 12, 2018.\n"
     ]
    },
    {
     "name": "stderr",
     "output_type": "stream",
     "text": [
      "[INFO] graphlab.cython.cy_server: GraphLab Create v2.1 started. Logging: /tmp/graphlab_server_1495315535.log\n"
     ]
    }
   ],
   "source": [
    "# data sets with user-media interactions\n",
    "tr_listen = gl.SFrame(tr[[\"media_id\", \"user_id\", \"is_listened\", \"listen_type\",\n",
    "                          \"context_type\", \"platform_name\", \"favorite_artist\", \"favorite_album\"]])\n",
    "ts_listen = gl.SFrame(ts[[\"media_id\", \"user_id\", \"is_listened\", \"listen_type\",\n",
    "                          \"context_type\", \"platform_name\", \"favorite_artist\", \"favorite_album\"]])\n",
    "kn_listen = gl.SFrame(kn[[\"media_id\", \"user_id\", \"is_listened\", \"listen_type\",\n",
    "                          \"context_type\", \"platform_name\", \"favorite_artist\", \"favorite_album\"]])\n",
    "un_listen = gl.SFrame(un[[\"media_id\", \"user_id\", \"is_listened\", \"listen_type\",\n",
    "                          \"context_type\", \"platform_name\", \"favorite_artist\", \"favorite_album\"]])"
   ]
  },
  {
   "cell_type": "code",
   "execution_count": 9,
   "metadata": {
    "collapsed": false
   },
   "outputs": [],
   "source": [
    "# additional user-level and media-level data\n",
    "user_data = data.groupby([\"user_id\"]).head(1)\n",
    "song_data = data.groupby([\"media_id\"]).head(1)\n",
    "\n",
    "# clearing the memory\n",
    "data = \"Null\"\n",
    "tr   = \"Null\"\n",
    "kn   = \"Null\"\n",
    "\n",
    "# converting data sets\n",
    "user_data = gl.SFrame(user_data[[\"user_id\", \"user_gender\", \"user_age\", \n",
    "                                 \"user_ratio_flow\", \"user_ratio_full\"]])\n",
    "song_data = gl.SFrame(song_data[[\"media_id\",\n",
    "                                 \"release_year\", \"media_duration\", \n",
    "                                 \"song_bpm\", \"song_rank\", \"album_fans\"]])"
   ]
  },
  {
   "cell_type": "markdown",
   "metadata": {},
   "source": [
    "# 3. MODELING"
   ]
  },
  {
   "cell_type": "code",
   "execution_count": 10,
   "metadata": {
    "collapsed": true
   },
   "outputs": [],
   "source": [
    "# model parameters\n",
    "n_factors = 50\n",
    "m_epochs = 300\n",
    "regular = 1e-5"
   ]
  },
  {
   "cell_type": "markdown",
   "metadata": {},
   "source": [
    "## 3.1. TRAINING-VALIDATION"
   ]
  },
  {
   "cell_type": "code",
   "execution_count": null,
   "metadata": {
    "collapsed": false
   },
   "outputs": [
    {
     "data": {
      "text/html": [
       "<pre>Recsys training: model = factorization_recommender</pre>"
      ],
      "text/plain": [
       "Recsys training: model = factorization_recommender"
      ]
     },
     "metadata": {},
     "output_type": "display_data"
    },
    {
     "data": {
      "text/html": [
       "<pre>Preparing data set.</pre>"
      ],
      "text/plain": [
       "Preparing data set."
      ]
     },
     "metadata": {},
     "output_type": "display_data"
    },
    {
     "data": {
      "text/html": [
       "<pre>    Data has 2279790 observations with 13250 users and 79311 items.</pre>"
      ],
      "text/plain": [
       "    Data has 2279790 observations with 13250 users and 79311 items."
      ]
     },
     "metadata": {},
     "output_type": "display_data"
    },
    {
     "data": {
      "text/html": [
       "<pre>    Data prepared in: 4.42667s</pre>"
      ],
      "text/plain": [
       "    Data prepared in: 4.42667s"
      ]
     },
     "metadata": {},
     "output_type": "display_data"
    },
    {
     "data": {
      "text/html": [
       "<pre>Training factorization_recommender for recommendations.</pre>"
      ],
      "text/plain": [
       "Training factorization_recommender for recommendations."
      ]
     },
     "metadata": {},
     "output_type": "display_data"
    },
    {
     "data": {
      "text/html": [
       "<pre>+--------------------------------+--------------------------------------------------+----------+</pre>"
      ],
      "text/plain": [
       "+--------------------------------+--------------------------------------------------+----------+"
      ]
     },
     "metadata": {},
     "output_type": "display_data"
    },
    {
     "data": {
      "text/html": [
       "<pre>| Parameter                      | Description                                      | Value    |</pre>"
      ],
      "text/plain": [
       "| Parameter                      | Description                                      | Value    |"
      ]
     },
     "metadata": {},
     "output_type": "display_data"
    },
    {
     "data": {
      "text/html": [
       "<pre>+--------------------------------+--------------------------------------------------+----------+</pre>"
      ],
      "text/plain": [
       "+--------------------------------+--------------------------------------------------+----------+"
      ]
     },
     "metadata": {},
     "output_type": "display_data"
    },
    {
     "data": {
      "text/html": [
       "<pre>| num_factors                    | Factor Dimension                                 | 50       |</pre>"
      ],
      "text/plain": [
       "| num_factors                    | Factor Dimension                                 | 50       |"
      ]
     },
     "metadata": {},
     "output_type": "display_data"
    },
    {
     "data": {
      "text/html": [
       "<pre>| regularization                 | L2 Regularization on Factors                     | 1e-05    |</pre>"
      ],
      "text/plain": [
       "| regularization                 | L2 Regularization on Factors                     | 1e-05    |"
      ]
     },
     "metadata": {},
     "output_type": "display_data"
    },
    {
     "data": {
      "text/html": [
       "<pre>| solver                         | Solver used for training                         | adagrad  |</pre>"
      ],
      "text/plain": [
       "| solver                         | Solver used for training                         | adagrad  |"
      ]
     },
     "metadata": {},
     "output_type": "display_data"
    },
    {
     "data": {
      "text/html": [
       "<pre>| linear_regularization          | L2 Regularization on Linear Coefficients         | 1e-10    |</pre>"
      ],
      "text/plain": [
       "| linear_regularization          | L2 Regularization on Linear Coefficients         | 1e-10    |"
      ]
     },
     "metadata": {},
     "output_type": "display_data"
    },
    {
     "data": {
      "text/html": [
       "<pre>| binary_target                  | Assume Binary Targets                            | True     |</pre>"
      ],
      "text/plain": [
       "| binary_target                  | Assume Binary Targets                            | True     |"
      ]
     },
     "metadata": {},
     "output_type": "display_data"
    },
    {
     "data": {
      "text/html": [
       "<pre>| side_data_factorization        | Assign Factors for Side Data                     | True     |</pre>"
      ],
      "text/plain": [
       "| side_data_factorization        | Assign Factors for Side Data                     | True     |"
      ]
     },
     "metadata": {},
     "output_type": "display_data"
    },
    {
     "data": {
      "text/html": [
       "<pre>| max_iterations                 | Maximum Number of Iterations                     | 300      |</pre>"
      ],
      "text/plain": [
       "| max_iterations                 | Maximum Number of Iterations                     | 300      |"
      ]
     },
     "metadata": {},
     "output_type": "display_data"
    },
    {
     "data": {
      "text/html": [
       "<pre>+--------------------------------+--------------------------------------------------+----------+</pre>"
      ],
      "text/plain": [
       "+--------------------------------+--------------------------------------------------+----------+"
      ]
     },
     "metadata": {},
     "output_type": "display_data"
    },
    {
     "data": {
      "text/html": [
       "<pre>  Optimizing model using SGD; tuning step size.</pre>"
      ],
      "text/plain": [
       "  Optimizing model using SGD; tuning step size."
      ]
     },
     "metadata": {},
     "output_type": "display_data"
    },
    {
     "data": {
      "text/html": [
       "<pre>  Using 284973 / 2279790 points for tuning the step size.</pre>"
      ],
      "text/plain": [
       "  Using 284973 / 2279790 points for tuning the step size."
      ]
     },
     "metadata": {},
     "output_type": "display_data"
    },
    {
     "data": {
      "text/html": [
       "<pre>+---------+-------------------+------------------------------------------+</pre>"
      ],
      "text/plain": [
       "+---------+-------------------+------------------------------------------+"
      ]
     },
     "metadata": {},
     "output_type": "display_data"
    },
    {
     "data": {
      "text/html": [
       "<pre>| Attempt | Initial Step Size | Estimated Objective Value                |</pre>"
      ],
      "text/plain": [
       "| Attempt | Initial Step Size | Estimated Objective Value                |"
      ]
     },
     "metadata": {},
     "output_type": "display_data"
    },
    {
     "data": {
      "text/html": [
       "<pre>+---------+-------------------+------------------------------------------+</pre>"
      ],
      "text/plain": [
       "+---------+-------------------+------------------------------------------+"
      ]
     },
     "metadata": {},
     "output_type": "display_data"
    },
    {
     "data": {
      "text/html": [
       "<pre>| 0       | 2.63158           | Not Viable                               |</pre>"
      ],
      "text/plain": [
       "| 0       | 2.63158           | Not Viable                               |"
      ]
     },
     "metadata": {},
     "output_type": "display_data"
    },
    {
     "data": {
      "text/html": [
       "<pre>| 1       | 0.657895          | Not Viable                               |</pre>"
      ],
      "text/plain": [
       "| 1       | 0.657895          | Not Viable                               |"
      ]
     },
     "metadata": {},
     "output_type": "display_data"
    },
    {
     "data": {
      "text/html": [
       "<pre>| 2       | 0.164474          | 0.621437                                 |</pre>"
      ],
      "text/plain": [
       "| 2       | 0.164474          | 0.621437                                 |"
      ]
     },
     "metadata": {},
     "output_type": "display_data"
    },
    {
     "data": {
      "text/html": [
       "<pre>| 3       | 0.0822368         | 0.536244                                 |</pre>"
      ],
      "text/plain": [
       "| 3       | 0.0822368         | 0.536244                                 |"
      ]
     },
     "metadata": {},
     "output_type": "display_data"
    },
    {
     "data": {
      "text/html": [
       "<pre>| 4       | 0.0411184         | 0.464515                                 |</pre>"
      ],
      "text/plain": [
       "| 4       | 0.0411184         | 0.464515                                 |"
      ]
     },
     "metadata": {},
     "output_type": "display_data"
    },
    {
     "data": {
      "text/html": [
       "<pre>| 5       | 0.0205592         | 0.414835                                 |</pre>"
      ],
      "text/plain": [
       "| 5       | 0.0205592         | 0.414835                                 |"
      ]
     },
     "metadata": {},
     "output_type": "display_data"
    },
    {
     "data": {
      "text/html": [
       "<pre>| 6       | 0.0102796         | 0.484976                                 |</pre>"
      ],
      "text/plain": [
       "| 6       | 0.0102796         | 0.484976                                 |"
      ]
     },
     "metadata": {},
     "output_type": "display_data"
    },
    {
     "data": {
      "text/html": [
       "<pre>| 7       | 0.0051398         | 0.458329                                 |</pre>"
      ],
      "text/plain": [
       "| 7       | 0.0051398         | 0.458329                                 |"
      ]
     },
     "metadata": {},
     "output_type": "display_data"
    },
    {
     "data": {
      "text/html": [
       "<pre>| 8       | 0.0025699         | 0.468722                                 |</pre>"
      ],
      "text/plain": [
       "| 8       | 0.0025699         | 0.468722                                 |"
      ]
     },
     "metadata": {},
     "output_type": "display_data"
    },
    {
     "data": {
      "text/html": [
       "<pre>+---------+-------------------+------------------------------------------+</pre>"
      ],
      "text/plain": [
       "+---------+-------------------+------------------------------------------+"
      ]
     },
     "metadata": {},
     "output_type": "display_data"
    },
    {
     "data": {
      "text/html": [
       "<pre>| Final   | 0.0205592         | 0.414835                                 |</pre>"
      ],
      "text/plain": [
       "| Final   | 0.0205592         | 0.414835                                 |"
      ]
     },
     "metadata": {},
     "output_type": "display_data"
    },
    {
     "data": {
      "text/html": [
       "<pre>+---------+-------------------+------------------------------------------+</pre>"
      ],
      "text/plain": [
       "+---------+-------------------+------------------------------------------+"
      ]
     },
     "metadata": {},
     "output_type": "display_data"
    },
    {
     "data": {
      "text/html": [
       "<pre>Starting Optimization.</pre>"
      ],
      "text/plain": [
       "Starting Optimization."
      ]
     },
     "metadata": {},
     "output_type": "display_data"
    },
    {
     "data": {
      "text/html": [
       "<pre>+---------+--------------+-------------------+-----------------------------------+-------------+</pre>"
      ],
      "text/plain": [
       "+---------+--------------+-------------------+-----------------------------------+-------------+"
      ]
     },
     "metadata": {},
     "output_type": "display_data"
    },
    {
     "data": {
      "text/html": [
       "<pre>| Iter.   | Elapsed Time | Approx. Objective | Approx. Training Predictive Error | Step Size   |</pre>"
      ],
      "text/plain": [
       "| Iter.   | Elapsed Time | Approx. Objective | Approx. Training Predictive Error | Step Size   |"
      ]
     },
     "metadata": {},
     "output_type": "display_data"
    },
    {
     "data": {
      "text/html": [
       "<pre>+---------+--------------+-------------------+-----------------------------------+-------------+</pre>"
      ],
      "text/plain": [
       "+---------+--------------+-------------------+-----------------------------------+-------------+"
      ]
     },
     "metadata": {},
     "output_type": "display_data"
    },
    {
     "data": {
      "text/html": [
       "<pre>| Initial | 92us         | 0.677564          | 0.677564                          |             |</pre>"
      ],
      "text/plain": [
       "| Initial | 92us         | 0.677564          | 0.677564                          |             |"
      ]
     },
     "metadata": {},
     "output_type": "display_data"
    },
    {
     "data": {
      "text/html": [
       "<pre>+---------+--------------+-------------------+-----------------------------------+-------------+</pre>"
      ],
      "text/plain": [
       "+---------+--------------+-------------------+-----------------------------------+-------------+"
      ]
     },
     "metadata": {},
     "output_type": "display_data"
    },
    {
     "data": {
      "text/html": [
       "<pre>| 1       | 7.90s        | 0.537386          | 0.462556                          | 0.0205592   |</pre>"
      ],
      "text/plain": [
       "| 1       | 7.90s        | 0.537386          | 0.462556                          | 0.0205592   |"
      ]
     },
     "metadata": {},
     "output_type": "display_data"
    }
   ],
   "source": [
    "# training the model\n",
    "model = gl.recommender.factorization_recommender.create(tr_listen, \n",
    "                                                        binary_target = True, \n",
    "                                                        num_factors = n_factors,\n",
    "                                                        user_id = \"user_id\", \n",
    "                                                        item_id = \"media_id\", \n",
    "                                                        target  = \"is_listened\",\n",
    "                                                        user_data = user_data, \n",
    "                                                        item_data = song_data,\n",
    "                                                        max_iterations = m_epochs,\n",
    "                                                        regularization = regular)"
   ]
  },
  {
   "cell_type": "code",
   "execution_count": 11,
   "metadata": {
    "collapsed": false,
    "scrolled": true
   },
   "outputs": [
    {
     "data": {
      "text/html": [
       "<div>\n",
       "<style>\n",
       "    .dataframe thead tr:only-child th {\n",
       "        text-align: right;\n",
       "    }\n",
       "\n",
       "    .dataframe thead th {\n",
       "        text-align: left;\n",
       "    }\n",
       "\n",
       "    .dataframe tbody tr th {\n",
       "        vertical-align: top;\n",
       "    }\n",
       "</style>\n",
       "<table border=\"1\" class=\"dataframe\">\n",
       "  <thead>\n",
       "    <tr style=\"text-align: right;\">\n",
       "      <th></th>\n",
       "      <th>row_index</th>\n",
       "      <th>is_listened</th>\n",
       "    </tr>\n",
       "  </thead>\n",
       "  <tbody>\n",
       "    <tr>\n",
       "      <th>2167</th>\n",
       "      <td>2167</td>\n",
       "      <td>0.998757</td>\n",
       "    </tr>\n",
       "    <tr>\n",
       "      <th>2168</th>\n",
       "      <td>2168</td>\n",
       "      <td>0.893042</td>\n",
       "    </tr>\n",
       "    <tr>\n",
       "      <th>2240</th>\n",
       "      <td>2240</td>\n",
       "      <td>0.656716</td>\n",
       "    </tr>\n",
       "  </tbody>\n",
       "</table>\n",
       "</div>"
      ],
      "text/plain": [
       "      row_index  is_listened\n",
       "2167       2167     0.998757\n",
       "2168       2168     0.893042\n",
       "2240       2240     0.656716"
      ]
     },
     "execution_count": 11,
     "metadata": {},
     "output_type": "execute_result"
    }
   ],
   "source": [
    "# forecasting\n",
    "pred = pd.DataFrame()\n",
    "pred[\"row_index\"] = ts.row_index\n",
    "pred[\"is_listened\"] = model.predict(ts_listen)\n",
    "pred.head(3)"
   ]
  },
  {
   "cell_type": "code",
   "execution_count": 12,
   "metadata": {
    "collapsed": false,
    "scrolled": true
   },
   "outputs": [
    {
     "data": {
      "text/plain": [
       "0.72198134484036924"
      ]
     },
     "execution_count": 12,
     "metadata": {},
     "output_type": "execute_result"
    }
   ],
   "source": [
    "# computing AUC\n",
    "metrics.roc_auc_score(ts.is_listened, pred[\"is_listened\"])"
   ]
  },
  {
   "cell_type": "code",
   "execution_count": 13,
   "metadata": {
    "collapsed": true,
    "scrolled": true
   },
   "outputs": [],
   "source": [
    "# saving prediction vector\n",
    "pred.to_csv(path + \"pred_valid/factorization_full_api_noAAG_50f_300i.csv\", index = False)"
   ]
  },
  {
   "cell_type": "code",
   "execution_count": 14,
   "metadata": {
    "collapsed": true
   },
   "outputs": [],
   "source": [
    "# clearing the memory\n",
    "tr_listen = \"Null\"\n",
    "ts_listen = \"Null\"\n",
    "ts = \"Null\""
   ]
  },
  {
   "cell_type": "markdown",
   "metadata": {},
   "source": [
    "## 3.2. KNOWN-UNKNOWN"
   ]
  },
  {
   "cell_type": "code",
   "execution_count": 15,
   "metadata": {
    "collapsed": false
   },
   "outputs": [
    {
     "data": {
      "text/html": [
       "<pre>Recsys training: model = factorization_recommender</pre>"
      ],
      "text/plain": [
       "Recsys training: model = factorization_recommender"
      ]
     },
     "metadata": {},
     "output_type": "display_data"
    },
    {
     "data": {
      "text/html": [
       "<pre>Preparing data set.</pre>"
      ],
      "text/plain": [
       "Preparing data set."
      ]
     },
     "metadata": {},
     "output_type": "display_data"
    },
    {
     "data": {
      "text/html": [
       "<pre>    Data has 2319611 observations with 13250 users and 79311 items.</pre>"
      ],
      "text/plain": [
       "    Data has 2319611 observations with 13250 users and 79311 items."
      ]
     },
     "metadata": {},
     "output_type": "display_data"
    },
    {
     "data": {
      "text/html": [
       "<pre>    Data prepared in: 17.2822s</pre>"
      ],
      "text/plain": [
       "    Data prepared in: 17.2822s"
      ]
     },
     "metadata": {},
     "output_type": "display_data"
    },
    {
     "data": {
      "text/html": [
       "<pre>Training factorization_recommender for recommendations.</pre>"
      ],
      "text/plain": [
       "Training factorization_recommender for recommendations."
      ]
     },
     "metadata": {},
     "output_type": "display_data"
    },
    {
     "data": {
      "text/html": [
       "<pre>+--------------------------------+--------------------------------------------------+----------+</pre>"
      ],
      "text/plain": [
       "+--------------------------------+--------------------------------------------------+----------+"
      ]
     },
     "metadata": {},
     "output_type": "display_data"
    },
    {
     "data": {
      "text/html": [
       "<pre>| Parameter                      | Description                                      | Value    |</pre>"
      ],
      "text/plain": [
       "| Parameter                      | Description                                      | Value    |"
      ]
     },
     "metadata": {},
     "output_type": "display_data"
    },
    {
     "data": {
      "text/html": [
       "<pre>+--------------------------------+--------------------------------------------------+----------+</pre>"
      ],
      "text/plain": [
       "+--------------------------------+--------------------------------------------------+----------+"
      ]
     },
     "metadata": {},
     "output_type": "display_data"
    },
    {
     "data": {
      "text/html": [
       "<pre>| num_factors                    | Factor Dimension                                 | 50       |</pre>"
      ],
      "text/plain": [
       "| num_factors                    | Factor Dimension                                 | 50       |"
      ]
     },
     "metadata": {},
     "output_type": "display_data"
    },
    {
     "data": {
      "text/html": [
       "<pre>| regularization                 | L2 Regularization on Factors                     | 1e-05    |</pre>"
      ],
      "text/plain": [
       "| regularization                 | L2 Regularization on Factors                     | 1e-05    |"
      ]
     },
     "metadata": {},
     "output_type": "display_data"
    },
    {
     "data": {
      "text/html": [
       "<pre>| solver                         | Solver used for training                         | adagrad  |</pre>"
      ],
      "text/plain": [
       "| solver                         | Solver used for training                         | adagrad  |"
      ]
     },
     "metadata": {},
     "output_type": "display_data"
    },
    {
     "data": {
      "text/html": [
       "<pre>| linear_regularization          | L2 Regularization on Linear Coefficients         | 1e-10    |</pre>"
      ],
      "text/plain": [
       "| linear_regularization          | L2 Regularization on Linear Coefficients         | 1e-10    |"
      ]
     },
     "metadata": {},
     "output_type": "display_data"
    },
    {
     "data": {
      "text/html": [
       "<pre>| binary_target                  | Assume Binary Targets                            | True     |</pre>"
      ],
      "text/plain": [
       "| binary_target                  | Assume Binary Targets                            | True     |"
      ]
     },
     "metadata": {},
     "output_type": "display_data"
    },
    {
     "data": {
      "text/html": [
       "<pre>| side_data_factorization        | Assign Factors for Side Data                     | True     |</pre>"
      ],
      "text/plain": [
       "| side_data_factorization        | Assign Factors for Side Data                     | True     |"
      ]
     },
     "metadata": {},
     "output_type": "display_data"
    },
    {
     "data": {
      "text/html": [
       "<pre>| max_iterations                 | Maximum Number of Iterations                     | 400      |</pre>"
      ],
      "text/plain": [
       "| max_iterations                 | Maximum Number of Iterations                     | 400      |"
      ]
     },
     "metadata": {},
     "output_type": "display_data"
    },
    {
     "data": {
      "text/html": [
       "<pre>+--------------------------------+--------------------------------------------------+----------+</pre>"
      ],
      "text/plain": [
       "+--------------------------------+--------------------------------------------------+----------+"
      ]
     },
     "metadata": {},
     "output_type": "display_data"
    },
    {
     "data": {
      "text/html": [
       "<pre>  Optimizing model using SGD; tuning step size.</pre>"
      ],
      "text/plain": [
       "  Optimizing model using SGD; tuning step size."
      ]
     },
     "metadata": {},
     "output_type": "display_data"
    },
    {
     "data": {
      "text/html": [
       "<pre>  Using 289951 / 2319611 points for tuning the step size.</pre>"
      ],
      "text/plain": [
       "  Using 289951 / 2319611 points for tuning the step size."
      ]
     },
     "metadata": {},
     "output_type": "display_data"
    },
    {
     "data": {
      "text/html": [
       "<pre>+---------+-------------------+------------------------------------------+</pre>"
      ],
      "text/plain": [
       "+---------+-------------------+------------------------------------------+"
      ]
     },
     "metadata": {},
     "output_type": "display_data"
    },
    {
     "data": {
      "text/html": [
       "<pre>| Attempt | Initial Step Size | Estimated Objective Value                |</pre>"
      ],
      "text/plain": [
       "| Attempt | Initial Step Size | Estimated Objective Value                |"
      ]
     },
     "metadata": {},
     "output_type": "display_data"
    },
    {
     "data": {
      "text/html": [
       "<pre>+---------+-------------------+------------------------------------------+</pre>"
      ],
      "text/plain": [
       "+---------+-------------------+------------------------------------------+"
      ]
     },
     "metadata": {},
     "output_type": "display_data"
    },
    {
     "data": {
      "text/html": [
       "<pre>| 0       | 3.17646           | Not Viable                               |</pre>"
      ],
      "text/plain": [
       "| 0       | 3.17646           | Not Viable                               |"
      ]
     },
     "metadata": {},
     "output_type": "display_data"
    },
    {
     "data": {
      "text/html": [
       "<pre>| 1       | 0.794115          | Not Viable                               |</pre>"
      ],
      "text/plain": [
       "| 1       | 0.794115          | Not Viable                               |"
      ]
     },
     "metadata": {},
     "output_type": "display_data"
    },
    {
     "data": {
      "text/html": [
       "<pre>| 2       | 0.198529          | 0.564933                                 |</pre>"
      ],
      "text/plain": [
       "| 2       | 0.198529          | 0.564933                                 |"
      ]
     },
     "metadata": {},
     "output_type": "display_data"
    },
    {
     "data": {
      "text/html": [
       "<pre>| 3       | 0.0992644         | 0.474946                                 |</pre>"
      ],
      "text/plain": [
       "| 3       | 0.0992644         | 0.474946                                 |"
      ]
     },
     "metadata": {},
     "output_type": "display_data"
    },
    {
     "data": {
      "text/html": [
       "<pre>| 4       | 0.0496322         | 0.403728                                 |</pre>"
      ],
      "text/plain": [
       "| 4       | 0.0496322         | 0.403728                                 |"
      ]
     },
     "metadata": {},
     "output_type": "display_data"
    },
    {
     "data": {
      "text/html": [
       "<pre>| 5       | 0.0248161         | 0.392744                                 |</pre>"
      ],
      "text/plain": [
       "| 5       | 0.0248161         | 0.392744                                 |"
      ]
     },
     "metadata": {},
     "output_type": "display_data"
    },
    {
     "data": {
      "text/html": [
       "<pre>| 6       | 0.0124081         | 0.424295                                 |</pre>"
      ],
      "text/plain": [
       "| 6       | 0.0124081         | 0.424295                                 |"
      ]
     },
     "metadata": {},
     "output_type": "display_data"
    },
    {
     "data": {
      "text/html": [
       "<pre>| 7       | 0.00620403        | 0.437277                                 |</pre>"
      ],
      "text/plain": [
       "| 7       | 0.00620403        | 0.437277                                 |"
      ]
     },
     "metadata": {},
     "output_type": "display_data"
    },
    {
     "data": {
      "text/html": [
       "<pre>| 8       | 0.00310201        | 0.481432                                 |</pre>"
      ],
      "text/plain": [
       "| 8       | 0.00310201        | 0.481432                                 |"
      ]
     },
     "metadata": {},
     "output_type": "display_data"
    },
    {
     "data": {
      "text/html": [
       "<pre>+---------+-------------------+------------------------------------------+</pre>"
      ],
      "text/plain": [
       "+---------+-------------------+------------------------------------------+"
      ]
     },
     "metadata": {},
     "output_type": "display_data"
    },
    {
     "data": {
      "text/html": [
       "<pre>| Final   | 0.0248161         | 0.392744                                 |</pre>"
      ],
      "text/plain": [
       "| Final   | 0.0248161         | 0.392744                                 |"
      ]
     },
     "metadata": {},
     "output_type": "display_data"
    },
    {
     "data": {
      "text/html": [
       "<pre>+---------+-------------------+------------------------------------------+</pre>"
      ],
      "text/plain": [
       "+---------+-------------------+------------------------------------------+"
      ]
     },
     "metadata": {},
     "output_type": "display_data"
    },
    {
     "data": {
      "text/html": [
       "<pre>Starting Optimization.</pre>"
      ],
      "text/plain": [
       "Starting Optimization."
      ]
     },
     "metadata": {},
     "output_type": "display_data"
    },
    {
     "data": {
      "text/html": [
       "<pre>+---------+--------------+-------------------+-----------------------------------+-------------+</pre>"
      ],
      "text/plain": [
       "+---------+--------------+-------------------+-----------------------------------+-------------+"
      ]
     },
     "metadata": {},
     "output_type": "display_data"
    },
    {
     "data": {
      "text/html": [
       "<pre>| Iter.   | Elapsed Time | Approx. Objective | Approx. Training Predictive Error | Step Size   |</pre>"
      ],
      "text/plain": [
       "| Iter.   | Elapsed Time | Approx. Objective | Approx. Training Predictive Error | Step Size   |"
      ]
     },
     "metadata": {},
     "output_type": "display_data"
    },
    {
     "data": {
      "text/html": [
       "<pre>+---------+--------------+-------------------+-----------------------------------+-------------+</pre>"
      ],
      "text/plain": [
       "+---------+--------------+-------------------+-----------------------------------+-------------+"
      ]
     },
     "metadata": {},
     "output_type": "display_data"
    },
    {
     "data": {
      "text/html": [
       "<pre>| Initial | 96us         | 0.677334          | 0.677334                          |             |</pre>"
      ],
      "text/plain": [
       "| Initial | 96us         | 0.677334          | 0.677334                          |             |"
      ]
     },
     "metadata": {},
     "output_type": "display_data"
    },
    {
     "data": {
      "text/html": [
       "<pre>+---------+--------------+-------------------+-----------------------------------+-------------+</pre>"
      ],
      "text/plain": [
       "+---------+--------------+-------------------+-----------------------------------+-------------+"
      ]
     },
     "metadata": {},
     "output_type": "display_data"
    },
    {
     "data": {
      "text/html": [
       "<pre>| 1       | 28.41s       | 0.531124          | 0.456147                          | 0.0248161   |</pre>"
      ],
      "text/plain": [
       "| 1       | 28.41s       | 0.531124          | 0.456147                          | 0.0248161   |"
      ]
     },
     "metadata": {},
     "output_type": "display_data"
    },
    {
     "data": {
      "text/html": [
       "<pre>| 2       | 57.76s       | 0.484875          | 0.422119                          | 0.0248161   |</pre>"
      ],
      "text/plain": [
       "| 2       | 57.76s       | 0.484875          | 0.422119                          | 0.0248161   |"
      ]
     },
     "metadata": {},
     "output_type": "display_data"
    },
    {
     "data": {
      "text/html": [
       "<pre>| 3       | 1m 26s       | 0.468944          | 0.405517                          | 0.0248161   |</pre>"
      ],
      "text/plain": [
       "| 3       | 1m 26s       | 0.468944          | 0.405517                          | 0.0248161   |"
      ]
     },
     "metadata": {},
     "output_type": "display_data"
    },
    {
     "data": {
      "text/html": [
       "<pre>| 4       | 1m 54s       | 0.458996          | 0.393588                          | 0.0248161   |</pre>"
      ],
      "text/plain": [
       "| 4       | 1m 54s       | 0.458996          | 0.393588                          | 0.0248161   |"
      ]
     },
     "metadata": {},
     "output_type": "display_data"
    },
    {
     "data": {
      "text/html": [
       "<pre>| 5       | 2m 24s       | 0.452163          | 0.384977                          | 0.0248161   |</pre>"
      ],
      "text/plain": [
       "| 5       | 2m 24s       | 0.452163          | 0.384977                          | 0.0248161   |"
      ]
     },
     "metadata": {},
     "output_type": "display_data"
    },
    {
     "data": {
      "text/html": [
       "<pre>| 6       | 2m 53s       | 0.44707           | 0.378478                          | 0.0248161   |</pre>"
      ],
      "text/plain": [
       "| 6       | 2m 53s       | 0.44707           | 0.378478                          | 0.0248161   |"
      ]
     },
     "metadata": {},
     "output_type": "display_data"
    },
    {
     "data": {
      "text/html": [
       "<pre>| 7       | 3m 22s       | 0.443182          | 0.37353                           | 0.0248161   |</pre>"
      ],
      "text/plain": [
       "| 7       | 3m 22s       | 0.443182          | 0.37353                           | 0.0248161   |"
      ]
     },
     "metadata": {},
     "output_type": "display_data"
    },
    {
     "data": {
      "text/html": [
       "<pre>| 8       | 3m 51s       | 0.439959          | 0.369517                          | 0.0248161   |</pre>"
      ],
      "text/plain": [
       "| 8       | 3m 51s       | 0.439959          | 0.369517                          | 0.0248161   |"
      ]
     },
     "metadata": {},
     "output_type": "display_data"
    },
    {
     "data": {
      "text/html": [
       "<pre>| 9       | 4m 20s       | 0.437049          | 0.366072                          | 0.0248161   |</pre>"
      ],
      "text/plain": [
       "| 9       | 4m 20s       | 0.437049          | 0.366072                          | 0.0248161   |"
      ]
     },
     "metadata": {},
     "output_type": "display_data"
    },
    {
     "data": {
      "text/html": [
       "<pre>| 10      | 4m 48s       | 0.434712          | 0.363318                          | 0.0248161   |</pre>"
      ],
      "text/plain": [
       "| 10      | 4m 48s       | 0.434712          | 0.363318                          | 0.0248161   |"
      ]
     },
     "metadata": {},
     "output_type": "display_data"
    },
    {
     "data": {
      "text/html": [
       "<pre>| 11      | 5m 16s       | 0.432578          | 0.360903                          | 0.0248161   |</pre>"
      ],
      "text/plain": [
       "| 11      | 5m 16s       | 0.432578          | 0.360903                          | 0.0248161   |"
      ]
     },
     "metadata": {},
     "output_type": "display_data"
    },
    {
     "data": {
      "text/html": [
       "<pre>| 12      | 5m 44s       | 0.430723          | 0.358858                          | 0.0248161   |</pre>"
      ],
      "text/plain": [
       "| 12      | 5m 44s       | 0.430723          | 0.358858                          | 0.0248161   |"
      ]
     },
     "metadata": {},
     "output_type": "display_data"
    },
    {
     "data": {
      "text/html": [
       "<pre>| 13      | 6m 13s       | 0.428893          | 0.356908                          | 0.0248161   |</pre>"
      ],
      "text/plain": [
       "| 13      | 6m 13s       | 0.428893          | 0.356908                          | 0.0248161   |"
      ]
     },
     "metadata": {},
     "output_type": "display_data"
    },
    {
     "data": {
      "text/html": [
       "<pre>| 14      | 6m 40s       | 0.427315          | 0.355271                          | 0.0248161   |</pre>"
      ],
      "text/plain": [
       "| 14      | 6m 40s       | 0.427315          | 0.355271                          | 0.0248161   |"
      ]
     },
     "metadata": {},
     "output_type": "display_data"
    },
    {
     "data": {
      "text/html": [
       "<pre>| 15      | 7m 9s        | 0.425795          | 0.353737                          | 0.0248161   |</pre>"
      ],
      "text/plain": [
       "| 15      | 7m 9s        | 0.425795          | 0.353737                          | 0.0248161   |"
      ]
     },
     "metadata": {},
     "output_type": "display_data"
    },
    {
     "data": {
      "text/html": [
       "<pre>| 16      | 7m 38s       | 0.424382          | 0.352332                          | 0.0248161   |</pre>"
      ],
      "text/plain": [
       "| 16      | 7m 38s       | 0.424382          | 0.352332                          | 0.0248161   |"
      ]
     },
     "metadata": {},
     "output_type": "display_data"
    },
    {
     "data": {
      "text/html": [
       "<pre>| 17      | 8m 7s        | 0.423027          | 0.351027                          | 0.0248161   |</pre>"
      ],
      "text/plain": [
       "| 17      | 8m 7s        | 0.423027          | 0.351027                          | 0.0248161   |"
      ]
     },
     "metadata": {},
     "output_type": "display_data"
    },
    {
     "data": {
      "text/html": [
       "<pre>| 18      | 8m 36s       | 0.421793          | 0.34987                           | 0.0248161   |</pre>"
      ],
      "text/plain": [
       "| 18      | 8m 36s       | 0.421793          | 0.34987                           | 0.0248161   |"
      ]
     },
     "metadata": {},
     "output_type": "display_data"
    },
    {
     "data": {
      "text/html": [
       "<pre>| 19      | 9m 4s        | 0.420592          | 0.348747                          | 0.0248161   |</pre>"
      ],
      "text/plain": [
       "| 19      | 9m 4s        | 0.420592          | 0.348747                          | 0.0248161   |"
      ]
     },
     "metadata": {},
     "output_type": "display_data"
    },
    {
     "data": {
      "text/html": [
       "<pre>| 20      | 9m 33s       | 0.419429          | 0.347676                          | 0.0248161   |</pre>"
      ],
      "text/plain": [
       "| 20      | 9m 33s       | 0.419429          | 0.347676                          | 0.0248161   |"
      ]
     },
     "metadata": {},
     "output_type": "display_data"
    },
    {
     "data": {
      "text/html": [
       "<pre>| 21      | 10m 1s       | 0.41835           | 0.346701                          | 0.0248161   |</pre>"
      ],
      "text/plain": [
       "| 21      | 10m 1s       | 0.41835           | 0.346701                          | 0.0248161   |"
      ]
     },
     "metadata": {},
     "output_type": "display_data"
    },
    {
     "data": {
      "text/html": [
       "<pre>| 22      | 10m 30s      | 0.41732           | 0.345786                          | 0.0248161   |</pre>"
      ],
      "text/plain": [
       "| 22      | 10m 30s      | 0.41732           | 0.345786                          | 0.0248161   |"
      ]
     },
     "metadata": {},
     "output_type": "display_data"
    },
    {
     "data": {
      "text/html": [
       "<pre>| 23      | 10m 58s      | 0.416333          | 0.344922                          | 0.0248161   |</pre>"
      ],
      "text/plain": [
       "| 23      | 10m 58s      | 0.416333          | 0.344922                          | 0.0248161   |"
      ]
     },
     "metadata": {},
     "output_type": "display_data"
    },
    {
     "data": {
      "text/html": [
       "<pre>| 24      | 11m 26s      | 0.415333          | 0.344046                          | 0.0248161   |</pre>"
      ],
      "text/plain": [
       "| 24      | 11m 26s      | 0.415333          | 0.344046                          | 0.0248161   |"
      ]
     },
     "metadata": {},
     "output_type": "display_data"
    },
    {
     "data": {
      "text/html": [
       "<pre>| 25      | 11m 56s      | 0.414426          | 0.343261                          | 0.0248161   |</pre>"
      ],
      "text/plain": [
       "| 25      | 11m 56s      | 0.414426          | 0.343261                          | 0.0248161   |"
      ]
     },
     "metadata": {},
     "output_type": "display_data"
    },
    {
     "data": {
      "text/html": [
       "<pre>| 26      | 12m 26s      | 0.413558          | 0.342508                          | 0.0248161   |</pre>"
      ],
      "text/plain": [
       "| 26      | 12m 26s      | 0.413558          | 0.342508                          | 0.0248161   |"
      ]
     },
     "metadata": {},
     "output_type": "display_data"
    },
    {
     "data": {
      "text/html": [
       "<pre>| 27      | 12m 56s      | 0.412693          | 0.341765                          | 0.0248161   |</pre>"
      ],
      "text/plain": [
       "| 27      | 12m 56s      | 0.412693          | 0.341765                          | 0.0248161   |"
      ]
     },
     "metadata": {},
     "output_type": "display_data"
    },
    {
     "data": {
      "text/html": [
       "<pre>| 28      | 13m 26s      | 0.411875          | 0.341066                          | 0.0248161   |</pre>"
      ],
      "text/plain": [
       "| 28      | 13m 26s      | 0.411875          | 0.341066                          | 0.0248161   |"
      ]
     },
     "metadata": {},
     "output_type": "display_data"
    },
    {
     "data": {
      "text/html": [
       "<pre>| 29      | 13m 56s      | 0.411082          | 0.340382                          | 0.0248161   |</pre>"
      ],
      "text/plain": [
       "| 29      | 13m 56s      | 0.411082          | 0.340382                          | 0.0248161   |"
      ]
     },
     "metadata": {},
     "output_type": "display_data"
    },
    {
     "data": {
      "text/html": [
       "<pre>| 30      | 14m 25s      | 0.410316          | 0.339729                          | 0.0248161   |</pre>"
      ],
      "text/plain": [
       "| 30      | 14m 25s      | 0.410316          | 0.339729                          | 0.0248161   |"
      ]
     },
     "metadata": {},
     "output_type": "display_data"
    },
    {
     "data": {
      "text/html": [
       "<pre>| 31      | 14m 55s      | 0.409551          | 0.339083                          | 0.0248161   |</pre>"
      ],
      "text/plain": [
       "| 31      | 14m 55s      | 0.409551          | 0.339083                          | 0.0248161   |"
      ]
     },
     "metadata": {},
     "output_type": "display_data"
    },
    {
     "data": {
      "text/html": [
       "<pre>| 32      | 15m 21s      | 0.408797          | 0.338442                          | 0.0248161   |</pre>"
      ],
      "text/plain": [
       "| 32      | 15m 21s      | 0.408797          | 0.338442                          | 0.0248161   |"
      ]
     },
     "metadata": {},
     "output_type": "display_data"
    },
    {
     "data": {
      "text/html": [
       "<pre>| 33      | 15m 49s      | 0.408103          | 0.337853                          | 0.0248161   |</pre>"
      ],
      "text/plain": [
       "| 33      | 15m 49s      | 0.408103          | 0.337853                          | 0.0248161   |"
      ]
     },
     "metadata": {},
     "output_type": "display_data"
    },
    {
     "data": {
      "text/html": [
       "<pre>| 34      | 16m 16s      | 0.407467          | 0.337316                          | 0.0248161   |</pre>"
      ],
      "text/plain": [
       "| 34      | 16m 16s      | 0.407467          | 0.337316                          | 0.0248161   |"
      ]
     },
     "metadata": {},
     "output_type": "display_data"
    },
    {
     "data": {
      "text/html": [
       "<pre>| 35      | 16m 43s      | 0.406715          | 0.336664                          | 0.0248161   |</pre>"
      ],
      "text/plain": [
       "| 35      | 16m 43s      | 0.406715          | 0.336664                          | 0.0248161   |"
      ]
     },
     "metadata": {},
     "output_type": "display_data"
    },
    {
     "data": {
      "text/html": [
       "<pre>| 36      | 17m 11s      | 0.406097          | 0.336148                          | 0.0248161   |</pre>"
      ],
      "text/plain": [
       "| 36      | 17m 11s      | 0.406097          | 0.336148                          | 0.0248161   |"
      ]
     },
     "metadata": {},
     "output_type": "display_data"
    },
    {
     "data": {
      "text/html": [
       "<pre>| 37      | 17m 39s      | 0.405465          | 0.335611                          | 0.0248161   |</pre>"
      ],
      "text/plain": [
       "| 37      | 17m 39s      | 0.405465          | 0.335611                          | 0.0248161   |"
      ]
     },
     "metadata": {},
     "output_type": "display_data"
    },
    {
     "data": {
      "text/html": [
       "<pre>| 38      | 18m 8s       | 0.404889          | 0.335117                          | 0.0248161   |</pre>"
      ],
      "text/plain": [
       "| 38      | 18m 8s       | 0.404889          | 0.335117                          | 0.0248161   |"
      ]
     },
     "metadata": {},
     "output_type": "display_data"
    },
    {
     "data": {
      "text/html": [
       "<pre>| 39      | 18m 38s      | 0.404274          | 0.334586                          | 0.0248161   |</pre>"
      ],
      "text/plain": [
       "| 39      | 18m 38s      | 0.404274          | 0.334586                          | 0.0248161   |"
      ]
     },
     "metadata": {},
     "output_type": "display_data"
    },
    {
     "data": {
      "text/html": [
       "<pre>| 40      | 19m 9s       | 0.403718          | 0.33411                           | 0.0248161   |</pre>"
      ],
      "text/plain": [
       "| 40      | 19m 9s       | 0.403718          | 0.33411                           | 0.0248161   |"
      ]
     },
     "metadata": {},
     "output_type": "display_data"
    },
    {
     "data": {
      "text/html": [
       "<pre>| 41      | 19m 39s      | 0.403137          | 0.3336                            | 0.0248161   |</pre>"
      ],
      "text/plain": [
       "| 41      | 19m 39s      | 0.403137          | 0.3336                            | 0.0248161   |"
      ]
     },
     "metadata": {},
     "output_type": "display_data"
    },
    {
     "data": {
      "text/html": [
       "<pre>| 42      | 20m 8s       | 0.402608          | 0.333149                          | 0.0248161   |</pre>"
      ],
      "text/plain": [
       "| 42      | 20m 8s       | 0.402608          | 0.333149                          | 0.0248161   |"
      ]
     },
     "metadata": {},
     "output_type": "display_data"
    },
    {
     "data": {
      "text/html": [
       "<pre>| 43      | 20m 40s      | 0.402036          | 0.332649                          | 0.0248161   |</pre>"
      ],
      "text/plain": [
       "| 43      | 20m 40s      | 0.402036          | 0.332649                          | 0.0248161   |"
      ]
     },
     "metadata": {},
     "output_type": "display_data"
    },
    {
     "data": {
      "text/html": [
       "<pre>| 44      | 21m 9s       | 0.401515          | 0.332202                          | 0.0248161   |</pre>"
      ],
      "text/plain": [
       "| 44      | 21m 9s       | 0.401515          | 0.332202                          | 0.0248161   |"
      ]
     },
     "metadata": {},
     "output_type": "display_data"
    },
    {
     "data": {
      "text/html": [
       "<pre>| 45      | 21m 38s      | 0.401009          | 0.331758                          | 0.0248161   |</pre>"
      ],
      "text/plain": [
       "| 45      | 21m 38s      | 0.401009          | 0.331758                          | 0.0248161   |"
      ]
     },
     "metadata": {},
     "output_type": "display_data"
    },
    {
     "data": {
      "text/html": [
       "<pre>| 46      | 22m 6s       | 0.400521          | 0.331333                          | 0.0248161   |</pre>"
      ],
      "text/plain": [
       "| 46      | 22m 6s       | 0.400521          | 0.331333                          | 0.0248161   |"
      ]
     },
     "metadata": {},
     "output_type": "display_data"
    },
    {
     "data": {
      "text/html": [
       "<pre>| 47      | 22m 36s      | 0.399981          | 0.330851                          | 0.0248161   |</pre>"
      ],
      "text/plain": [
       "| 47      | 22m 36s      | 0.399981          | 0.330851                          | 0.0248161   |"
      ]
     },
     "metadata": {},
     "output_type": "display_data"
    },
    {
     "data": {
      "text/html": [
       "<pre>| 48      | 23m 5s       | 0.39956           | 0.330488                          | 0.0248161   |</pre>"
      ],
      "text/plain": [
       "| 48      | 23m 5s       | 0.39956           | 0.330488                          | 0.0248161   |"
      ]
     },
     "metadata": {},
     "output_type": "display_data"
    },
    {
     "data": {
      "text/html": [
       "<pre>| 49      | 23m 33s      | 0.399065          | 0.330044                          | 0.0248161   |</pre>"
      ],
      "text/plain": [
       "| 49      | 23m 33s      | 0.399065          | 0.330044                          | 0.0248161   |"
      ]
     },
     "metadata": {},
     "output_type": "display_data"
    },
    {
     "data": {
      "text/html": [
       "<pre>| 50      | 24m 2s       | 0.398636          | 0.329668                          | 0.0248161   |</pre>"
      ],
      "text/plain": [
       "| 50      | 24m 2s       | 0.398636          | 0.329668                          | 0.0248161   |"
      ]
     },
     "metadata": {},
     "output_type": "display_data"
    },
    {
     "data": {
      "text/html": [
       "<pre>| 51      | 24m 33s      | 0.398182          | 0.329251                          | 0.0248161   |</pre>"
      ],
      "text/plain": [
       "| 51      | 24m 33s      | 0.398182          | 0.329251                          | 0.0248161   |"
      ]
     },
     "metadata": {},
     "output_type": "display_data"
    },
    {
     "data": {
      "text/html": [
       "<pre>| 52      | 25m 2s       | 0.397704          | 0.328814                          | 0.0248161   |</pre>"
      ],
      "text/plain": [
       "| 52      | 25m 2s       | 0.397704          | 0.328814                          | 0.0248161   |"
      ]
     },
     "metadata": {},
     "output_type": "display_data"
    },
    {
     "data": {
      "text/html": [
       "<pre>| 53      | 25m 31s      | 0.397267          | 0.328414                          | 0.0248161   |</pre>"
      ],
      "text/plain": [
       "| 53      | 25m 31s      | 0.397267          | 0.328414                          | 0.0248161   |"
      ]
     },
     "metadata": {},
     "output_type": "display_data"
    },
    {
     "data": {
      "text/html": [
       "<pre>| 54      | 26m 0s       | 0.396833          | 0.328018                          | 0.0248161   |</pre>"
      ],
      "text/plain": [
       "| 54      | 26m 0s       | 0.396833          | 0.328018                          | 0.0248161   |"
      ]
     },
     "metadata": {},
     "output_type": "display_data"
    },
    {
     "data": {
      "text/html": [
       "<pre>| 55      | 26m 27s      | 0.396455          | 0.327675                          | 0.0248161   |</pre>"
      ],
      "text/plain": [
       "| 55      | 26m 27s      | 0.396455          | 0.327675                          | 0.0248161   |"
      ]
     },
     "metadata": {},
     "output_type": "display_data"
    },
    {
     "data": {
      "text/html": [
       "<pre>| 56      | 26m 57s      | 0.396051          | 0.327299                          | 0.0248161   |</pre>"
      ],
      "text/plain": [
       "| 56      | 26m 57s      | 0.396051          | 0.327299                          | 0.0248161   |"
      ]
     },
     "metadata": {},
     "output_type": "display_data"
    },
    {
     "data": {
      "text/html": [
       "<pre>| 57      | 27m 26s      | 0.395613          | 0.326896                          | 0.0248161   |</pre>"
      ],
      "text/plain": [
       "| 57      | 27m 26s      | 0.395613          | 0.326896                          | 0.0248161   |"
      ]
     },
     "metadata": {},
     "output_type": "display_data"
    },
    {
     "data": {
      "text/html": [
       "<pre>| 58      | 27m 55s      | 0.3952            | 0.326503                          | 0.0248161   |</pre>"
      ],
      "text/plain": [
       "| 58      | 27m 55s      | 0.3952            | 0.326503                          | 0.0248161   |"
      ]
     },
     "metadata": {},
     "output_type": "display_data"
    },
    {
     "data": {
      "text/html": [
       "<pre>| 59      | 28m 24s      | 0.394817          | 0.326152                          | 0.0248161   |</pre>"
      ],
      "text/plain": [
       "| 59      | 28m 24s      | 0.394817          | 0.326152                          | 0.0248161   |"
      ]
     },
     "metadata": {},
     "output_type": "display_data"
    },
    {
     "data": {
      "text/html": [
       "<pre>| 60      | 28m 52s      | 0.394453          | 0.325809                          | 0.0248161   |</pre>"
      ],
      "text/plain": [
       "| 60      | 28m 52s      | 0.394453          | 0.325809                          | 0.0248161   |"
      ]
     },
     "metadata": {},
     "output_type": "display_data"
    },
    {
     "data": {
      "text/html": [
       "<pre>| 61      | 29m 21s      | 0.394056          | 0.325431                          | 0.0248161   |</pre>"
      ],
      "text/plain": [
       "| 61      | 29m 21s      | 0.394056          | 0.325431                          | 0.0248161   |"
      ]
     },
     "metadata": {},
     "output_type": "display_data"
    },
    {
     "data": {
      "text/html": [
       "<pre>| 62      | 29m 49s      | 0.393707          | 0.325101                          | 0.0248161   |</pre>"
      ],
      "text/plain": [
       "| 62      | 29m 49s      | 0.393707          | 0.325101                          | 0.0248161   |"
      ]
     },
     "metadata": {},
     "output_type": "display_data"
    },
    {
     "data": {
      "text/html": [
       "<pre>| 63      | 30m 17s      | 0.393356          | 0.324765                          | 0.0248161   |</pre>"
      ],
      "text/plain": [
       "| 63      | 30m 17s      | 0.393356          | 0.324765                          | 0.0248161   |"
      ]
     },
     "metadata": {},
     "output_type": "display_data"
    },
    {
     "data": {
      "text/html": [
       "<pre>| 64      | 30m 47s      | 0.392979          | 0.324401                          | 0.0248161   |</pre>"
      ],
      "text/plain": [
       "| 64      | 30m 47s      | 0.392979          | 0.324401                          | 0.0248161   |"
      ]
     },
     "metadata": {},
     "output_type": "display_data"
    },
    {
     "data": {
      "text/html": [
       "<pre>| 65      | 31m 15s      | 0.392664          | 0.3241                            | 0.0248161   |</pre>"
      ],
      "text/plain": [
       "| 65      | 31m 15s      | 0.392664          | 0.3241                            | 0.0248161   |"
      ]
     },
     "metadata": {},
     "output_type": "display_data"
    },
    {
     "data": {
      "text/html": [
       "<pre>| 66      | 31m 43s      | 0.392327          | 0.323769                          | 0.0248161   |</pre>"
      ],
      "text/plain": [
       "| 66      | 31m 43s      | 0.392327          | 0.323769                          | 0.0248161   |"
      ]
     },
     "metadata": {},
     "output_type": "display_data"
    },
    {
     "data": {
      "text/html": [
       "<pre>| 67      | 32m 12s      | 0.39198           | 0.323433                          | 0.0248161   |</pre>"
      ],
      "text/plain": [
       "| 67      | 32m 12s      | 0.39198           | 0.323433                          | 0.0248161   |"
      ]
     },
     "metadata": {},
     "output_type": "display_data"
    },
    {
     "data": {
      "text/html": [
       "<pre>| 68      | 32m 39s      | 0.391648          | 0.323108                          | 0.0248161   |</pre>"
      ],
      "text/plain": [
       "| 68      | 32m 39s      | 0.391648          | 0.323108                          | 0.0248161   |"
      ]
     },
     "metadata": {},
     "output_type": "display_data"
    },
    {
     "data": {
      "text/html": [
       "<pre>| 69      | 33m 7s       | 0.391312          | 0.322776                          | 0.0248161   |</pre>"
      ],
      "text/plain": [
       "| 69      | 33m 7s       | 0.391312          | 0.322776                          | 0.0248161   |"
      ]
     },
     "metadata": {},
     "output_type": "display_data"
    },
    {
     "data": {
      "text/html": [
       "<pre>| 70      | 33m 36s      | 0.390964          | 0.32243                           | 0.0248161   |</pre>"
      ],
      "text/plain": [
       "| 70      | 33m 36s      | 0.390964          | 0.32243                           | 0.0248161   |"
      ]
     },
     "metadata": {},
     "output_type": "display_data"
    },
    {
     "data": {
      "text/html": [
       "<pre>| 71      | 34m 5s       | 0.39066           | 0.322129                          | 0.0248161   |</pre>"
      ],
      "text/plain": [
       "| 71      | 34m 5s       | 0.39066           | 0.322129                          | 0.0248161   |"
      ]
     },
     "metadata": {},
     "output_type": "display_data"
    },
    {
     "data": {
      "text/html": [
       "<pre>| 72      | 34m 33s      | 0.39037           | 0.32184                           | 0.0248161   |</pre>"
      ],
      "text/plain": [
       "| 72      | 34m 33s      | 0.39037           | 0.32184                           | 0.0248161   |"
      ]
     },
     "metadata": {},
     "output_type": "display_data"
    },
    {
     "data": {
      "text/html": [
       "<pre>| 73      | 35m 2s       | 0.390057          | 0.321527                          | 0.0248161   |</pre>"
      ],
      "text/plain": [
       "| 73      | 35m 2s       | 0.390057          | 0.321527                          | 0.0248161   |"
      ]
     },
     "metadata": {},
     "output_type": "display_data"
    },
    {
     "data": {
      "text/html": [
       "<pre>| 74      | 35m 31s      | 0.389737          | 0.321207                          | 0.0248161   |</pre>"
      ],
      "text/plain": [
       "| 74      | 35m 31s      | 0.389737          | 0.321207                          | 0.0248161   |"
      ]
     },
     "metadata": {},
     "output_type": "display_data"
    },
    {
     "data": {
      "text/html": [
       "<pre>| 75      | 36m 0s       | 0.389443          | 0.320911                          | 0.0248161   |</pre>"
      ],
      "text/plain": [
       "| 75      | 36m 0s       | 0.389443          | 0.320911                          | 0.0248161   |"
      ]
     },
     "metadata": {},
     "output_type": "display_data"
    },
    {
     "data": {
      "text/html": [
       "<pre>| 76      | 36m 28s      | 0.389141          | 0.320606                          | 0.0248161   |</pre>"
      ],
      "text/plain": [
       "| 76      | 36m 28s      | 0.389141          | 0.320606                          | 0.0248161   |"
      ]
     },
     "metadata": {},
     "output_type": "display_data"
    },
    {
     "data": {
      "text/html": [
       "<pre>| 77      | 36m 57s      | 0.388867          | 0.320324                          | 0.0248161   |</pre>"
      ],
      "text/plain": [
       "| 77      | 36m 57s      | 0.388867          | 0.320324                          | 0.0248161   |"
      ]
     },
     "metadata": {},
     "output_type": "display_data"
    },
    {
     "data": {
      "text/html": [
       "<pre>| 78      | 37m 25s      | 0.388585          | 0.320037                          | 0.0248161   |</pre>"
      ],
      "text/plain": [
       "| 78      | 37m 25s      | 0.388585          | 0.320037                          | 0.0248161   |"
      ]
     },
     "metadata": {},
     "output_type": "display_data"
    },
    {
     "data": {
      "text/html": [
       "<pre>| 79      | 37m 54s      | 0.388311          | 0.31975                           | 0.0248161   |</pre>"
      ],
      "text/plain": [
       "| 79      | 37m 54s      | 0.388311          | 0.31975                           | 0.0248161   |"
      ]
     },
     "metadata": {},
     "output_type": "display_data"
    },
    {
     "data": {
      "text/html": [
       "<pre>| 80      | 38m 22s      | 0.388026          | 0.319456                          | 0.0248161   |</pre>"
      ],
      "text/plain": [
       "| 80      | 38m 22s      | 0.388026          | 0.319456                          | 0.0248161   |"
      ]
     },
     "metadata": {},
     "output_type": "display_data"
    },
    {
     "data": {
      "text/html": [
       "<pre>| 81      | 38m 51s      | 0.387766          | 0.319185                          | 0.0248161   |</pre>"
      ],
      "text/plain": [
       "| 81      | 38m 51s      | 0.387766          | 0.319185                          | 0.0248161   |"
      ]
     },
     "metadata": {},
     "output_type": "display_data"
    },
    {
     "data": {
      "text/html": [
       "<pre>| 82      | 39m 20s      | 0.387491          | 0.318897                          | 0.0248161   |</pre>"
      ],
      "text/plain": [
       "| 82      | 39m 20s      | 0.387491          | 0.318897                          | 0.0248161   |"
      ]
     },
     "metadata": {},
     "output_type": "display_data"
    },
    {
     "data": {
      "text/html": [
       "<pre>| 83      | 39m 50s      | 0.38724           | 0.318635                          | 0.0248161   |</pre>"
      ],
      "text/plain": [
       "| 83      | 39m 50s      | 0.38724           | 0.318635                          | 0.0248161   |"
      ]
     },
     "metadata": {},
     "output_type": "display_data"
    },
    {
     "data": {
      "text/html": [
       "<pre>| 84      | 40m 21s      | 0.386959          | 0.318341                          | 0.0248161   |</pre>"
      ],
      "text/plain": [
       "| 84      | 40m 21s      | 0.386959          | 0.318341                          | 0.0248161   |"
      ]
     },
     "metadata": {},
     "output_type": "display_data"
    },
    {
     "data": {
      "text/html": [
       "<pre>| 85      | 40m 50s      | 0.38674           | 0.318103                          | 0.0248161   |</pre>"
      ],
      "text/plain": [
       "| 85      | 40m 50s      | 0.38674           | 0.318103                          | 0.0248161   |"
      ]
     },
     "metadata": {},
     "output_type": "display_data"
    },
    {
     "data": {
      "text/html": [
       "<pre>| 86      | 41m 19s      | 0.386471          | 0.317818                          | 0.0248161   |</pre>"
      ],
      "text/plain": [
       "| 86      | 41m 19s      | 0.386471          | 0.317818                          | 0.0248161   |"
      ]
     },
     "metadata": {},
     "output_type": "display_data"
    },
    {
     "data": {
      "text/html": [
       "<pre>| 87      | 41m 47s      | 0.386199          | 0.317527                          | 0.0248161   |</pre>"
      ],
      "text/plain": [
       "| 87      | 41m 47s      | 0.386199          | 0.317527                          | 0.0248161   |"
      ]
     },
     "metadata": {},
     "output_type": "display_data"
    },
    {
     "data": {
      "text/html": [
       "<pre>| 88      | 42m 16s      | 0.385979          | 0.317291                          | 0.0248161   |</pre>"
      ],
      "text/plain": [
       "| 88      | 42m 16s      | 0.385979          | 0.317291                          | 0.0248161   |"
      ]
     },
     "metadata": {},
     "output_type": "display_data"
    },
    {
     "data": {
      "text/html": [
       "<pre>| 89      | 42m 46s      | 0.38575           | 0.317038                          | 0.0248161   |</pre>"
      ],
      "text/plain": [
       "| 89      | 42m 46s      | 0.38575           | 0.317038                          | 0.0248161   |"
      ]
     },
     "metadata": {},
     "output_type": "display_data"
    },
    {
     "data": {
      "text/html": [
       "<pre>| 90      | 43m 17s      | 0.385506          | 0.316773                          | 0.0248161   |</pre>"
      ],
      "text/plain": [
       "| 90      | 43m 17s      | 0.385506          | 0.316773                          | 0.0248161   |"
      ]
     },
     "metadata": {},
     "output_type": "display_data"
    },
    {
     "data": {
      "text/html": [
       "<pre>| 91      | 43m 46s      | 0.385251          | 0.316501                          | 0.0248161   |</pre>"
      ],
      "text/plain": [
       "| 91      | 43m 46s      | 0.385251          | 0.316501                          | 0.0248161   |"
      ]
     },
     "metadata": {},
     "output_type": "display_data"
    },
    {
     "data": {
      "text/html": [
       "<pre>| 92      | 44m 14s      | 0.384996          | 0.316221                          | 0.0248161   |</pre>"
      ],
      "text/plain": [
       "| 92      | 44m 14s      | 0.384996          | 0.316221                          | 0.0248161   |"
      ]
     },
     "metadata": {},
     "output_type": "display_data"
    },
    {
     "data": {
      "text/html": [
       "<pre>| 93      | 44m 43s      | 0.384788          | 0.315993                          | 0.0248161   |</pre>"
      ],
      "text/plain": [
       "| 93      | 44m 43s      | 0.384788          | 0.315993                          | 0.0248161   |"
      ]
     },
     "metadata": {},
     "output_type": "display_data"
    },
    {
     "data": {
      "text/html": [
       "<pre>| 94      | 45m 12s      | 0.384581          | 0.315763                          | 0.0248161   |</pre>"
      ],
      "text/plain": [
       "| 94      | 45m 12s      | 0.384581          | 0.315763                          | 0.0248161   |"
      ]
     },
     "metadata": {},
     "output_type": "display_data"
    },
    {
     "data": {
      "text/html": [
       "<pre>| 95      | 45m 40s      | 0.384344          | 0.3155                            | 0.0248161   |</pre>"
      ],
      "text/plain": [
       "| 95      | 45m 40s      | 0.384344          | 0.3155                            | 0.0248161   |"
      ]
     },
     "metadata": {},
     "output_type": "display_data"
    },
    {
     "data": {
      "text/html": [
       "<pre>| 96      | 46m 9s       | 0.38411           | 0.31524                           | 0.0248161   |</pre>"
      ],
      "text/plain": [
       "| 96      | 46m 9s       | 0.38411           | 0.31524                           | 0.0248161   |"
      ]
     },
     "metadata": {},
     "output_type": "display_data"
    },
    {
     "data": {
      "text/html": [
       "<pre>| 97      | 46m 38s      | 0.38388           | 0.314987                          | 0.0248161   |</pre>"
      ],
      "text/plain": [
       "| 97      | 46m 38s      | 0.38388           | 0.314987                          | 0.0248161   |"
      ]
     },
     "metadata": {},
     "output_type": "display_data"
    },
    {
     "data": {
      "text/html": [
       "<pre>| 98      | 47m 6s       | 0.383684          | 0.314768                          | 0.0248161   |</pre>"
      ],
      "text/plain": [
       "| 98      | 47m 6s       | 0.383684          | 0.314768                          | 0.0248161   |"
      ]
     },
     "metadata": {},
     "output_type": "display_data"
    },
    {
     "data": {
      "text/html": [
       "<pre>| 99      | 47m 33s      | 0.383459          | 0.314516                          | 0.0248161   |</pre>"
      ],
      "text/plain": [
       "| 99      | 47m 33s      | 0.383459          | 0.314516                          | 0.0248161   |"
      ]
     },
     "metadata": {},
     "output_type": "display_data"
    },
    {
     "data": {
      "text/html": [
       "<pre>| 100     | 48m 1s       | 0.383248          | 0.31428                           | 0.0248161   |</pre>"
      ],
      "text/plain": [
       "| 100     | 48m 1s       | 0.383248          | 0.31428                           | 0.0248161   |"
      ]
     },
     "metadata": {},
     "output_type": "display_data"
    },
    {
     "data": {
      "text/html": [
       "<pre>| 101     | 48m 31s      | 0.382998          | 0.313998                          | 0.0248161   |</pre>"
      ],
      "text/plain": [
       "| 101     | 48m 31s      | 0.382998          | 0.313998                          | 0.0248161   |"
      ]
     },
     "metadata": {},
     "output_type": "display_data"
    },
    {
     "data": {
      "text/html": [
       "<pre>| 102     | 49m 1s       | 0.382834          | 0.31381                           | 0.0248161   |</pre>"
      ],
      "text/plain": [
       "| 102     | 49m 1s       | 0.382834          | 0.31381                           | 0.0248161   |"
      ]
     },
     "metadata": {},
     "output_type": "display_data"
    },
    {
     "data": {
      "text/html": [
       "<pre>| 103     | 49m 29s      | 0.382654          | 0.313601                          | 0.0248161   |</pre>"
      ],
      "text/plain": [
       "| 103     | 49m 29s      | 0.382654          | 0.313601                          | 0.0248161   |"
      ]
     },
     "metadata": {},
     "output_type": "display_data"
    },
    {
     "data": {
      "text/html": [
       "<pre>| 104     | 49m 59s      | 0.38247           | 0.313389                          | 0.0248161   |</pre>"
      ],
      "text/plain": [
       "| 104     | 49m 59s      | 0.38247           | 0.313389                          | 0.0248161   |"
      ]
     },
     "metadata": {},
     "output_type": "display_data"
    },
    {
     "data": {
      "text/html": [
       "<pre>| 105     | 50m 28s      | 0.382261          | 0.313148                          | 0.0248161   |</pre>"
      ],
      "text/plain": [
       "| 105     | 50m 28s      | 0.382261          | 0.313148                          | 0.0248161   |"
      ]
     },
     "metadata": {},
     "output_type": "display_data"
    },
    {
     "data": {
      "text/html": [
       "<pre>| 106     | 50m 58s      | 0.382038          | 0.312898                          | 0.0248161   |</pre>"
      ],
      "text/plain": [
       "| 106     | 50m 58s      | 0.382038          | 0.312898                          | 0.0248161   |"
      ]
     },
     "metadata": {},
     "output_type": "display_data"
    },
    {
     "data": {
      "text/html": [
       "<pre>| 107     | 51m 27s      | 0.381864          | 0.312692                          | 0.0248161   |</pre>"
      ],
      "text/plain": [
       "| 107     | 51m 27s      | 0.381864          | 0.312692                          | 0.0248161   |"
      ]
     },
     "metadata": {},
     "output_type": "display_data"
    },
    {
     "data": {
      "text/html": [
       "<pre>| 108     | 51m 55s      | 0.381684          | 0.31248                           | 0.0248161   |</pre>"
      ],
      "text/plain": [
       "| 108     | 51m 55s      | 0.381684          | 0.31248                           | 0.0248161   |"
      ]
     },
     "metadata": {},
     "output_type": "display_data"
    },
    {
     "data": {
      "text/html": [
       "<pre>| 109     | 52m 23s      | 0.381468          | 0.312229                          | 0.0248161   |</pre>"
      ],
      "text/plain": [
       "| 109     | 52m 23s      | 0.381468          | 0.312229                          | 0.0248161   |"
      ]
     },
     "metadata": {},
     "output_type": "display_data"
    },
    {
     "data": {
      "text/html": [
       "<pre>| 110     | 52m 51s      | 0.381294          | 0.312026                          | 0.0248161   |</pre>"
      ],
      "text/plain": [
       "| 110     | 52m 51s      | 0.381294          | 0.312026                          | 0.0248161   |"
      ]
     },
     "metadata": {},
     "output_type": "display_data"
    },
    {
     "data": {
      "text/html": [
       "<pre>| 111     | 53m 19s      | 0.381093          | 0.311793                          | 0.0248161   |</pre>"
      ],
      "text/plain": [
       "| 111     | 53m 19s      | 0.381093          | 0.311793                          | 0.0248161   |"
      ]
     },
     "metadata": {},
     "output_type": "display_data"
    },
    {
     "data": {
      "text/html": [
       "<pre>| 112     | 53m 50s      | 0.380931          | 0.311597                          | 0.0248161   |</pre>"
      ],
      "text/plain": [
       "| 112     | 53m 50s      | 0.380931          | 0.311597                          | 0.0248161   |"
      ]
     },
     "metadata": {},
     "output_type": "display_data"
    },
    {
     "data": {
      "text/html": [
       "<pre>| 113     | 54m 19s      | 0.380775          | 0.311405                          | 0.0248161   |</pre>"
      ],
      "text/plain": [
       "| 113     | 54m 19s      | 0.380775          | 0.311405                          | 0.0248161   |"
      ]
     },
     "metadata": {},
     "output_type": "display_data"
    },
    {
     "data": {
      "text/html": [
       "<pre>| 114     | 54m 48s      | 0.380597          | 0.311196                          | 0.0248161   |</pre>"
      ],
      "text/plain": [
       "| 114     | 54m 48s      | 0.380597          | 0.311196                          | 0.0248161   |"
      ]
     },
     "metadata": {},
     "output_type": "display_data"
    },
    {
     "data": {
      "text/html": [
       "<pre>| 115     | 55m 16s      | 0.380398          | 0.310966                          | 0.0248161   |</pre>"
      ],
      "text/plain": [
       "| 115     | 55m 16s      | 0.380398          | 0.310966                          | 0.0248161   |"
      ]
     },
     "metadata": {},
     "output_type": "display_data"
    },
    {
     "data": {
      "text/html": [
       "<pre>| 116     | 55m 44s      | 0.380251          | 0.310782                          | 0.0248161   |</pre>"
      ],
      "text/plain": [
       "| 116     | 55m 44s      | 0.380251          | 0.310782                          | 0.0248161   |"
      ]
     },
     "metadata": {},
     "output_type": "display_data"
    },
    {
     "data": {
      "text/html": [
       "<pre>| 117     | 56m 14s      | 0.38007           | 0.310564                          | 0.0248161   |</pre>"
      ],
      "text/plain": [
       "| 117     | 56m 14s      | 0.38007           | 0.310564                          | 0.0248161   |"
      ]
     },
     "metadata": {},
     "output_type": "display_data"
    },
    {
     "data": {
      "text/html": [
       "<pre>| 118     | 56m 43s      | 0.379909          | 0.310369                          | 0.0248161   |</pre>"
      ],
      "text/plain": [
       "| 118     | 56m 43s      | 0.379909          | 0.310369                          | 0.0248161   |"
      ]
     },
     "metadata": {},
     "output_type": "display_data"
    },
    {
     "data": {
      "text/html": [
       "<pre>| 119     | 57m 11s      | 0.379763          | 0.310189                          | 0.0248161   |</pre>"
      ],
      "text/plain": [
       "| 119     | 57m 11s      | 0.379763          | 0.310189                          | 0.0248161   |"
      ]
     },
     "metadata": {},
     "output_type": "display_data"
    },
    {
     "data": {
      "text/html": [
       "<pre>| 120     | 57m 38s      | 0.379573          | 0.309962                          | 0.0248161   |</pre>"
      ],
      "text/plain": [
       "| 120     | 57m 38s      | 0.379573          | 0.309962                          | 0.0248161   |"
      ]
     },
     "metadata": {},
     "output_type": "display_data"
    },
    {
     "data": {
      "text/html": [
       "<pre>| 121     | 58m 7s       | 0.379444          | 0.309795                          | 0.0248161   |</pre>"
      ],
      "text/plain": [
       "| 121     | 58m 7s       | 0.379444          | 0.309795                          | 0.0248161   |"
      ]
     },
     "metadata": {},
     "output_type": "display_data"
    },
    {
     "data": {
      "text/html": [
       "<pre>| 122     | 58m 35s      | 0.379245          | 0.309563                          | 0.0248161   |</pre>"
      ],
      "text/plain": [
       "| 122     | 58m 35s      | 0.379245          | 0.309563                          | 0.0248161   |"
      ]
     },
     "metadata": {},
     "output_type": "display_data"
    },
    {
     "data": {
      "text/html": [
       "<pre>| 123     | 59m 2s       | 0.379084          | 0.309367                          | 0.0248161   |</pre>"
      ],
      "text/plain": [
       "| 123     | 59m 2s       | 0.379084          | 0.309367                          | 0.0248161   |"
      ]
     },
     "metadata": {},
     "output_type": "display_data"
    },
    {
     "data": {
      "text/html": [
       "<pre>| 124     | 59m 30s      | 0.378933          | 0.309178                          | 0.0248161   |</pre>"
      ],
      "text/plain": [
       "| 124     | 59m 30s      | 0.378933          | 0.309178                          | 0.0248161   |"
      ]
     },
     "metadata": {},
     "output_type": "display_data"
    },
    {
     "data": {
      "text/html": [
       "<pre>| 125     | 59m 58s      | 0.378768          | 0.308975                          | 0.0248161   |</pre>"
      ],
      "text/plain": [
       "| 125     | 59m 58s      | 0.378768          | 0.308975                          | 0.0248161   |"
      ]
     },
     "metadata": {},
     "output_type": "display_data"
    },
    {
     "data": {
      "text/html": [
       "<pre>| 126     | 1h 0m        | 0.378606          | 0.308777                          | 0.0248161   |</pre>"
      ],
      "text/plain": [
       "| 126     | 1h 0m        | 0.378606          | 0.308777                          | 0.0248161   |"
      ]
     },
     "metadata": {},
     "output_type": "display_data"
    },
    {
     "data": {
      "text/html": [
       "<pre>| 127     | 1h 0m        | 0.378472          | 0.308603                          | 0.0248161   |</pre>"
      ],
      "text/plain": [
       "| 127     | 1h 0m        | 0.378472          | 0.308603                          | 0.0248161   |"
      ]
     },
     "metadata": {},
     "output_type": "display_data"
    },
    {
     "data": {
      "text/html": [
       "<pre>| 128     | 1h 1m        | 0.378304          | 0.308395                          | 0.0248161   |</pre>"
      ],
      "text/plain": [
       "| 128     | 1h 1m        | 0.378304          | 0.308395                          | 0.0248161   |"
      ]
     },
     "metadata": {},
     "output_type": "display_data"
    },
    {
     "data": {
      "text/html": [
       "<pre>| 129     | 1h 1m        | 0.378128          | 0.308183                          | 0.0248161   |</pre>"
      ],
      "text/plain": [
       "| 129     | 1h 1m        | 0.378128          | 0.308183                          | 0.0248161   |"
      ]
     },
     "metadata": {},
     "output_type": "display_data"
    },
    {
     "data": {
      "text/html": [
       "<pre>| 130     | 1h 2m        | 0.37801           | 0.308028                          | 0.0248161   |</pre>"
      ],
      "text/plain": [
       "| 130     | 1h 2m        | 0.37801           | 0.308028                          | 0.0248161   |"
      ]
     },
     "metadata": {},
     "output_type": "display_data"
    },
    {
     "data": {
      "text/html": [
       "<pre>| 131     | 1h 2m        | 0.377871          | 0.307848                          | 0.0248161   |</pre>"
      ],
      "text/plain": [
       "| 131     | 1h 2m        | 0.377871          | 0.307848                          | 0.0248161   |"
      ]
     },
     "metadata": {},
     "output_type": "display_data"
    },
    {
     "data": {
      "text/html": [
       "<pre>| 132     | 1h 3m        | 0.3777            | 0.307639                          | 0.0248161   |</pre>"
      ],
      "text/plain": [
       "| 132     | 1h 3m        | 0.3777            | 0.307639                          | 0.0248161   |"
      ]
     },
     "metadata": {},
     "output_type": "display_data"
    },
    {
     "data": {
      "text/html": [
       "<pre>| 133     | 1h 3m        | 0.377575          | 0.307478                          | 0.0248161   |</pre>"
      ],
      "text/plain": [
       "| 133     | 1h 3m        | 0.377575          | 0.307478                          | 0.0248161   |"
      ]
     },
     "metadata": {},
     "output_type": "display_data"
    },
    {
     "data": {
      "text/html": [
       "<pre>| 134     | 1h 4m        | 0.377449          | 0.30731                           | 0.0248161   |</pre>"
      ],
      "text/plain": [
       "| 134     | 1h 4m        | 0.377449          | 0.30731                           | 0.0248161   |"
      ]
     },
     "metadata": {},
     "output_type": "display_data"
    },
    {
     "data": {
      "text/html": [
       "<pre>| 135     | 1h 4m        | 0.377294          | 0.307115                          | 0.0248161   |</pre>"
      ],
      "text/plain": [
       "| 135     | 1h 4m        | 0.377294          | 0.307115                          | 0.0248161   |"
      ]
     },
     "metadata": {},
     "output_type": "display_data"
    },
    {
     "data": {
      "text/html": [
       "<pre>| 136     | 1h 5m        | 0.377149          | 0.306933                          | 0.0248161   |</pre>"
      ],
      "text/plain": [
       "| 136     | 1h 5m        | 0.377149          | 0.306933                          | 0.0248161   |"
      ]
     },
     "metadata": {},
     "output_type": "display_data"
    },
    {
     "data": {
      "text/html": [
       "<pre>| 137     | 1h 5m        | 0.377025          | 0.306775                          | 0.0248161   |</pre>"
      ],
      "text/plain": [
       "| 137     | 1h 5m        | 0.377025          | 0.306775                          | 0.0248161   |"
      ]
     },
     "metadata": {},
     "output_type": "display_data"
    },
    {
     "data": {
      "text/html": [
       "<pre>| 138     | 1h 6m        | 0.376886          | 0.306598                          | 0.0248161   |</pre>"
      ],
      "text/plain": [
       "| 138     | 1h 6m        | 0.376886          | 0.306598                          | 0.0248161   |"
      ]
     },
     "metadata": {},
     "output_type": "display_data"
    },
    {
     "data": {
      "text/html": [
       "<pre>| 139     | 1h 6m        | 0.376753          | 0.306425                          | 0.0248161   |</pre>"
      ],
      "text/plain": [
       "| 139     | 1h 6m        | 0.376753          | 0.306425                          | 0.0248161   |"
      ]
     },
     "metadata": {},
     "output_type": "display_data"
    },
    {
     "data": {
      "text/html": [
       "<pre>| 140     | 1h 7m        | 0.376615          | 0.30625                           | 0.0248161   |</pre>"
      ],
      "text/plain": [
       "| 140     | 1h 7m        | 0.376615          | 0.30625                           | 0.0248161   |"
      ]
     },
     "metadata": {},
     "output_type": "display_data"
    },
    {
     "data": {
      "text/html": [
       "<pre>| 141     | 1h 7m        | 0.376469          | 0.306061                          | 0.0248161   |</pre>"
      ],
      "text/plain": [
       "| 141     | 1h 7m        | 0.376469          | 0.306061                          | 0.0248161   |"
      ]
     },
     "metadata": {},
     "output_type": "display_data"
    },
    {
     "data": {
      "text/html": [
       "<pre>| 142     | 1h 8m        | 0.376317          | 0.30587                           | 0.0248161   |</pre>"
      ],
      "text/plain": [
       "| 142     | 1h 8m        | 0.376317          | 0.30587                           | 0.0248161   |"
      ]
     },
     "metadata": {},
     "output_type": "display_data"
    },
    {
     "data": {
      "text/html": [
       "<pre>| 143     | 1h 8m        | 0.376218          | 0.305734                          | 0.0248161   |</pre>"
      ],
      "text/plain": [
       "| 143     | 1h 8m        | 0.376218          | 0.305734                          | 0.0248161   |"
      ]
     },
     "metadata": {},
     "output_type": "display_data"
    },
    {
     "data": {
      "text/html": [
       "<pre>| 144     | 1h 8m        | 0.376095          | 0.305572                          | 0.0248161   |</pre>"
      ],
      "text/plain": [
       "| 144     | 1h 8m        | 0.376095          | 0.305572                          | 0.0248161   |"
      ]
     },
     "metadata": {},
     "output_type": "display_data"
    },
    {
     "data": {
      "text/html": [
       "<pre>| 145     | 1h 9m        | 0.375938          | 0.305375                          | 0.0248161   |</pre>"
      ],
      "text/plain": [
       "| 145     | 1h 9m        | 0.375938          | 0.305375                          | 0.0248161   |"
      ]
     },
     "metadata": {},
     "output_type": "display_data"
    },
    {
     "data": {
      "text/html": [
       "<pre>| 146     | 1h 9m        | 0.375826          | 0.305225                          | 0.0248161   |</pre>"
      ],
      "text/plain": [
       "| 146     | 1h 9m        | 0.375826          | 0.305225                          | 0.0248161   |"
      ]
     },
     "metadata": {},
     "output_type": "display_data"
    },
    {
     "data": {
      "text/html": [
       "<pre>| 147     | 1h 10m       | 0.375749          | 0.305103                          | 0.0248161   |</pre>"
      ],
      "text/plain": [
       "| 147     | 1h 10m       | 0.375749          | 0.305103                          | 0.0248161   |"
      ]
     },
     "metadata": {},
     "output_type": "display_data"
    },
    {
     "data": {
      "text/html": [
       "<pre>| 148     | 1h 10m       | 0.375587          | 0.3049                            | 0.0248161   |</pre>"
      ],
      "text/plain": [
       "| 148     | 1h 10m       | 0.375587          | 0.3049                            | 0.0248161   |"
      ]
     },
     "metadata": {},
     "output_type": "display_data"
    },
    {
     "data": {
      "text/html": [
       "<pre>| 149     | 1h 11m       | 0.375478          | 0.304754                          | 0.0248161   |</pre>"
      ],
      "text/plain": [
       "| 149     | 1h 11m       | 0.375478          | 0.304754                          | 0.0248161   |"
      ]
     },
     "metadata": {},
     "output_type": "display_data"
    },
    {
     "data": {
      "text/html": [
       "<pre>| 150     | 1h 11m       | 0.375346          | 0.304586                          | 0.0248161   |</pre>"
      ],
      "text/plain": [
       "| 150     | 1h 11m       | 0.375346          | 0.304586                          | 0.0248161   |"
      ]
     },
     "metadata": {},
     "output_type": "display_data"
    },
    {
     "data": {
      "text/html": [
       "<pre>| 151     | 1h 12m       | 0.375229          | 0.304431                          | 0.0248161   |</pre>"
      ],
      "text/plain": [
       "| 151     | 1h 12m       | 0.375229          | 0.304431                          | 0.0248161   |"
      ]
     },
     "metadata": {},
     "output_type": "display_data"
    },
    {
     "data": {
      "text/html": [
       "<pre>| 152     | 1h 12m       | 0.375101          | 0.304261                          | 0.0248161   |</pre>"
      ],
      "text/plain": [
       "| 152     | 1h 12m       | 0.375101          | 0.304261                          | 0.0248161   |"
      ]
     },
     "metadata": {},
     "output_type": "display_data"
    },
    {
     "data": {
      "text/html": [
       "<pre>| 153     | 1h 13m       | 0.375001          | 0.304124                          | 0.0248161   |</pre>"
      ],
      "text/plain": [
       "| 153     | 1h 13m       | 0.375001          | 0.304124                          | 0.0248161   |"
      ]
     },
     "metadata": {},
     "output_type": "display_data"
    },
    {
     "data": {
      "text/html": [
       "<pre>| 154     | 1h 13m       | 0.374848          | 0.303929                          | 0.0248161   |</pre>"
      ],
      "text/plain": [
       "| 154     | 1h 13m       | 0.374848          | 0.303929                          | 0.0248161   |"
      ]
     },
     "metadata": {},
     "output_type": "display_data"
    },
    {
     "data": {
      "text/html": [
       "<pre>| 155     | 1h 14m       | 0.374754          | 0.303798                          | 0.0248161   |</pre>"
      ],
      "text/plain": [
       "| 155     | 1h 14m       | 0.374754          | 0.303798                          | 0.0248161   |"
      ]
     },
     "metadata": {},
     "output_type": "display_data"
    },
    {
     "data": {
      "text/html": [
       "<pre>| 156     | 1h 14m       | 0.374607          | 0.303614                          | 0.0248161   |</pre>"
      ],
      "text/plain": [
       "| 156     | 1h 14m       | 0.374607          | 0.303614                          | 0.0248161   |"
      ]
     },
     "metadata": {},
     "output_type": "display_data"
    },
    {
     "data": {
      "text/html": [
       "<pre>| 157     | 1h 15m       | 0.374491          | 0.303459                          | 0.0248161   |</pre>"
      ],
      "text/plain": [
       "| 157     | 1h 15m       | 0.374491          | 0.303459                          | 0.0248161   |"
      ]
     },
     "metadata": {},
     "output_type": "display_data"
    },
    {
     "data": {
      "text/html": [
       "<pre>| 158     | 1h 15m       | 0.374413          | 0.30334                           | 0.0248161   |</pre>"
      ],
      "text/plain": [
       "| 158     | 1h 15m       | 0.374413          | 0.30334                           | 0.0248161   |"
      ]
     },
     "metadata": {},
     "output_type": "display_data"
    },
    {
     "data": {
      "text/html": [
       "<pre>| 159     | 1h 16m       | 0.3743            | 0.303186                          | 0.0248161   |</pre>"
      ],
      "text/plain": [
       "| 159     | 1h 16m       | 0.3743            | 0.303186                          | 0.0248161   |"
      ]
     },
     "metadata": {},
     "output_type": "display_data"
    },
    {
     "data": {
      "text/html": [
       "<pre>| 160     | 1h 16m       | 0.374194          | 0.303039                          | 0.0248161   |</pre>"
      ],
      "text/plain": [
       "| 160     | 1h 16m       | 0.374194          | 0.303039                          | 0.0248161   |"
      ]
     },
     "metadata": {},
     "output_type": "display_data"
    },
    {
     "data": {
      "text/html": [
       "<pre>| 161     | 1h 17m       | 0.374079          | 0.302886                          | 0.0248161   |</pre>"
      ],
      "text/plain": [
       "| 161     | 1h 17m       | 0.374079          | 0.302886                          | 0.0248161   |"
      ]
     },
     "metadata": {},
     "output_type": "display_data"
    },
    {
     "data": {
      "text/html": [
       "<pre>| 162     | 1h 17m       | 0.373966          | 0.302737                          | 0.0248161   |</pre>"
      ],
      "text/plain": [
       "| 162     | 1h 17m       | 0.373966          | 0.302737                          | 0.0248161   |"
      ]
     },
     "metadata": {},
     "output_type": "display_data"
    },
    {
     "data": {
      "text/html": [
       "<pre>| 163     | 1h 17m       | 0.373885          | 0.302617                          | 0.0248161   |</pre>"
      ],
      "text/plain": [
       "| 163     | 1h 17m       | 0.373885          | 0.302617                          | 0.0248161   |"
      ]
     },
     "metadata": {},
     "output_type": "display_data"
    },
    {
     "data": {
      "text/html": [
       "<pre>| 164     | 1h 18m       | 0.373784          | 0.302473                          | 0.0248161   |</pre>"
      ],
      "text/plain": [
       "| 164     | 1h 18m       | 0.373784          | 0.302473                          | 0.0248161   |"
      ]
     },
     "metadata": {},
     "output_type": "display_data"
    },
    {
     "data": {
      "text/html": [
       "<pre>| 165     | 1h 18m       | 0.373632          | 0.302282                          | 0.0248161   |</pre>"
      ],
      "text/plain": [
       "| 165     | 1h 18m       | 0.373632          | 0.302282                          | 0.0248161   |"
      ]
     },
     "metadata": {},
     "output_type": "display_data"
    },
    {
     "data": {
      "text/html": [
       "<pre>| 166     | 1h 19m       | 0.373559          | 0.302167                          | 0.0248161   |</pre>"
      ],
      "text/plain": [
       "| 166     | 1h 19m       | 0.373559          | 0.302167                          | 0.0248161   |"
      ]
     },
     "metadata": {},
     "output_type": "display_data"
    },
    {
     "data": {
      "text/html": [
       "<pre>| 167     | 1h 19m       | 0.373474          | 0.302043                          | 0.0248161   |</pre>"
      ],
      "text/plain": [
       "| 167     | 1h 19m       | 0.373474          | 0.302043                          | 0.0248161   |"
      ]
     },
     "metadata": {},
     "output_type": "display_data"
    },
    {
     "data": {
      "text/html": [
       "<pre>| 168     | 1h 20m       | 0.373363          | 0.301897                          | 0.0248161   |</pre>"
      ],
      "text/plain": [
       "| 168     | 1h 20m       | 0.373363          | 0.301897                          | 0.0248161   |"
      ]
     },
     "metadata": {},
     "output_type": "display_data"
    },
    {
     "data": {
      "text/html": [
       "<pre>| 169     | 1h 20m       | 0.373224          | 0.301722                          | 0.0248161   |</pre>"
      ],
      "text/plain": [
       "| 169     | 1h 20m       | 0.373224          | 0.301722                          | 0.0248161   |"
      ]
     },
     "metadata": {},
     "output_type": "display_data"
    },
    {
     "data": {
      "text/html": [
       "<pre>| 170     | 1h 21m       | 0.373155          | 0.301613                          | 0.0248161   |</pre>"
      ],
      "text/plain": [
       "| 170     | 1h 21m       | 0.373155          | 0.301613                          | 0.0248161   |"
      ]
     },
     "metadata": {},
     "output_type": "display_data"
    },
    {
     "data": {
      "text/html": [
       "<pre>| 171     | 1h 21m       | 0.373027          | 0.301442                          | 0.0248161   |</pre>"
      ],
      "text/plain": [
       "| 171     | 1h 21m       | 0.373027          | 0.301442                          | 0.0248161   |"
      ]
     },
     "metadata": {},
     "output_type": "display_data"
    },
    {
     "data": {
      "text/html": [
       "<pre>| 172     | 1h 22m       | 0.372935          | 0.301309                          | 0.0248161   |</pre>"
      ],
      "text/plain": [
       "| 172     | 1h 22m       | 0.372935          | 0.301309                          | 0.0248161   |"
      ]
     },
     "metadata": {},
     "output_type": "display_data"
    },
    {
     "data": {
      "text/html": [
       "<pre>| 173     | 1h 22m       | 0.372831          | 0.301168                          | 0.0248161   |</pre>"
      ],
      "text/plain": [
       "| 173     | 1h 22m       | 0.372831          | 0.301168                          | 0.0248161   |"
      ]
     },
     "metadata": {},
     "output_type": "display_data"
    },
    {
     "data": {
      "text/html": [
       "<pre>| 174     | 1h 23m       | 0.372773          | 0.301072                          | 0.0248161   |</pre>"
      ],
      "text/plain": [
       "| 174     | 1h 23m       | 0.372773          | 0.301072                          | 0.0248161   |"
      ]
     },
     "metadata": {},
     "output_type": "display_data"
    },
    {
     "data": {
      "text/html": [
       "<pre>| 175     | 1h 23m       | 0.372648          | 0.300908                          | 0.0248161   |</pre>"
      ],
      "text/plain": [
       "| 175     | 1h 23m       | 0.372648          | 0.300908                          | 0.0248161   |"
      ]
     },
     "metadata": {},
     "output_type": "display_data"
    },
    {
     "data": {
      "text/html": [
       "<pre>| 176     | 1h 24m       | 0.372577          | 0.300796                          | 0.0248161   |</pre>"
      ],
      "text/plain": [
       "| 176     | 1h 24m       | 0.372577          | 0.300796                          | 0.0248161   |"
      ]
     },
     "metadata": {},
     "output_type": "display_data"
    },
    {
     "data": {
      "text/html": [
       "<pre>| 177     | 1h 24m       | 0.372453          | 0.300632                          | 0.0248161   |</pre>"
      ],
      "text/plain": [
       "| 177     | 1h 24m       | 0.372453          | 0.300632                          | 0.0248161   |"
      ]
     },
     "metadata": {},
     "output_type": "display_data"
    },
    {
     "data": {
      "text/html": [
       "<pre>| 178     | 1h 25m       | 0.372381          | 0.30052                           | 0.0248161   |</pre>"
      ],
      "text/plain": [
       "| 178     | 1h 25m       | 0.372381          | 0.30052                           | 0.0248161   |"
      ]
     },
     "metadata": {},
     "output_type": "display_data"
    },
    {
     "data": {
      "text/html": [
       "<pre>| 179     | 1h 25m       | 0.372271          | 0.300372                          | 0.0248161   |</pre>"
      ],
      "text/plain": [
       "| 179     | 1h 25m       | 0.372271          | 0.300372                          | 0.0248161   |"
      ]
     },
     "metadata": {},
     "output_type": "display_data"
    },
    {
     "data": {
      "text/html": [
       "<pre>| 180     | 1h 26m       | 0.372162          | 0.300223                          | 0.0248161   |</pre>"
      ],
      "text/plain": [
       "| 180     | 1h 26m       | 0.372162          | 0.300223                          | 0.0248161   |"
      ]
     },
     "metadata": {},
     "output_type": "display_data"
    },
    {
     "data": {
      "text/html": [
       "<pre>| 181     | 1h 26m       | 0.372094          | 0.300113                          | 0.0248161   |</pre>"
      ],
      "text/plain": [
       "| 181     | 1h 26m       | 0.372094          | 0.300113                          | 0.0248161   |"
      ]
     },
     "metadata": {},
     "output_type": "display_data"
    },
    {
     "data": {
      "text/html": [
       "<pre>| 182     | 1h 27m       | 0.371994          | 0.299971                          | 0.0248161   |</pre>"
      ],
      "text/plain": [
       "| 182     | 1h 27m       | 0.371994          | 0.299971                          | 0.0248161   |"
      ]
     },
     "metadata": {},
     "output_type": "display_data"
    },
    {
     "data": {
      "text/html": [
       "<pre>| 183     | 1h 27m       | 0.371875          | 0.29981                           | 0.0248161   |</pre>"
      ],
      "text/plain": [
       "| 183     | 1h 27m       | 0.371875          | 0.29981                           | 0.0248161   |"
      ]
     },
     "metadata": {},
     "output_type": "display_data"
    },
    {
     "data": {
      "text/html": [
       "<pre>| 184     | 1h 28m       | 0.371849          | 0.299746                          | 0.0248161   |</pre>"
      ],
      "text/plain": [
       "| 184     | 1h 28m       | 0.371849          | 0.299746                          | 0.0248161   |"
      ]
     },
     "metadata": {},
     "output_type": "display_data"
    },
    {
     "data": {
      "text/html": [
       "<pre>| 185     | 1h 28m       | 0.371763          | 0.29962                           | 0.0248161   |</pre>"
      ],
      "text/plain": [
       "| 185     | 1h 28m       | 0.371763          | 0.29962                           | 0.0248161   |"
      ]
     },
     "metadata": {},
     "output_type": "display_data"
    },
    {
     "data": {
      "text/html": [
       "<pre>| 186     | 1h 29m       | 0.371656          | 0.299468                          | 0.0248161   |</pre>"
      ],
      "text/plain": [
       "| 186     | 1h 29m       | 0.371656          | 0.299468                          | 0.0248161   |"
      ]
     },
     "metadata": {},
     "output_type": "display_data"
    },
    {
     "data": {
      "text/html": [
       "<pre>| 187     | 1h 29m       | 0.371577          | 0.299348                          | 0.0248161   |</pre>"
      ],
      "text/plain": [
       "| 187     | 1h 29m       | 0.371577          | 0.299348                          | 0.0248161   |"
      ]
     },
     "metadata": {},
     "output_type": "display_data"
    },
    {
     "data": {
      "text/html": [
       "<pre>| 188     | 1h 30m       | 0.37149           | 0.29922                           | 0.0248161   |</pre>"
      ],
      "text/plain": [
       "| 188     | 1h 30m       | 0.37149           | 0.29922                           | 0.0248161   |"
      ]
     },
     "metadata": {},
     "output_type": "display_data"
    },
    {
     "data": {
      "text/html": [
       "<pre>| 189     | 1h 30m       | 0.371419          | 0.299109                          | 0.0248161   |</pre>"
      ],
      "text/plain": [
       "| 189     | 1h 30m       | 0.371419          | 0.299109                          | 0.0248161   |"
      ]
     },
     "metadata": {},
     "output_type": "display_data"
    },
    {
     "data": {
      "text/html": [
       "<pre>| 190     | 1h 31m       | 0.371347          | 0.298998                          | 0.0248161   |</pre>"
      ],
      "text/plain": [
       "| 190     | 1h 31m       | 0.371347          | 0.298998                          | 0.0248161   |"
      ]
     },
     "metadata": {},
     "output_type": "display_data"
    },
    {
     "data": {
      "text/html": [
       "<pre>| 191     | 1h 31m       | 0.371264          | 0.298876                          | 0.0248161   |</pre>"
      ],
      "text/plain": [
       "| 191     | 1h 31m       | 0.371264          | 0.298876                          | 0.0248161   |"
      ]
     },
     "metadata": {},
     "output_type": "display_data"
    },
    {
     "data": {
      "text/html": [
       "<pre>| 192     | 1h 32m       | 0.37117           | 0.298743                          | 0.0248161   |</pre>"
      ],
      "text/plain": [
       "| 192     | 1h 32m       | 0.37117           | 0.298743                          | 0.0248161   |"
      ]
     },
     "metadata": {},
     "output_type": "display_data"
    },
    {
     "data": {
      "text/html": [
       "<pre>| 193     | 1h 32m       | 0.371086          | 0.298617                          | 0.0248161   |</pre>"
      ],
      "text/plain": [
       "| 193     | 1h 32m       | 0.371086          | 0.298617                          | 0.0248161   |"
      ]
     },
     "metadata": {},
     "output_type": "display_data"
    },
    {
     "data": {
      "text/html": [
       "<pre>| 194     | 1h 33m       | 0.371025          | 0.298518                          | 0.0248161   |</pre>"
      ],
      "text/plain": [
       "| 194     | 1h 33m       | 0.371025          | 0.298518                          | 0.0248161   |"
      ]
     },
     "metadata": {},
     "output_type": "display_data"
    },
    {
     "data": {
      "text/html": [
       "<pre>| 195     | 1h 33m       | 0.370925          | 0.298381                          | 0.0248161   |</pre>"
      ],
      "text/plain": [
       "| 195     | 1h 33m       | 0.370925          | 0.298381                          | 0.0248161   |"
      ]
     },
     "metadata": {},
     "output_type": "display_data"
    },
    {
     "data": {
      "text/html": [
       "<pre>| 196     | 1h 34m       | 0.370839          | 0.298256                          | 0.0248161   |</pre>"
      ],
      "text/plain": [
       "| 196     | 1h 34m       | 0.370839          | 0.298256                          | 0.0248161   |"
      ]
     },
     "metadata": {},
     "output_type": "display_data"
    },
    {
     "data": {
      "text/html": [
       "<pre>| 197     | 1h 34m       | 0.370747          | 0.298123                          | 0.0248161   |</pre>"
      ],
      "text/plain": [
       "| 197     | 1h 34m       | 0.370747          | 0.298123                          | 0.0248161   |"
      ]
     },
     "metadata": {},
     "output_type": "display_data"
    },
    {
     "data": {
      "text/html": [
       "<pre>| 198     | 1h 35m       | 0.370685          | 0.29802                           | 0.0248161   |</pre>"
      ],
      "text/plain": [
       "| 198     | 1h 35m       | 0.370685          | 0.29802                           | 0.0248161   |"
      ]
     },
     "metadata": {},
     "output_type": "display_data"
    },
    {
     "data": {
      "text/html": [
       "<pre>| 199     | 1h 35m       | 0.370598          | 0.297894                          | 0.0248161   |</pre>"
      ],
      "text/plain": [
       "| 199     | 1h 35m       | 0.370598          | 0.297894                          | 0.0248161   |"
      ]
     },
     "metadata": {},
     "output_type": "display_data"
    },
    {
     "data": {
      "text/html": [
       "<pre>| 200     | 1h 36m       | 0.370507          | 0.297766                          | 0.0248161   |</pre>"
      ],
      "text/plain": [
       "| 200     | 1h 36m       | 0.370507          | 0.297766                          | 0.0248161   |"
      ]
     },
     "metadata": {},
     "output_type": "display_data"
    },
    {
     "data": {
      "text/html": [
       "<pre>| 201     | 1h 36m       | 0.370423          | 0.297646                          | 0.0248161   |</pre>"
      ],
      "text/plain": [
       "| 201     | 1h 36m       | 0.370423          | 0.297646                          | 0.0248161   |"
      ]
     },
     "metadata": {},
     "output_type": "display_data"
    },
    {
     "data": {
      "text/html": [
       "<pre>| 202     | 1h 37m       | 0.370376          | 0.297558                          | 0.0248161   |</pre>"
      ],
      "text/plain": [
       "| 202     | 1h 37m       | 0.370376          | 0.297558                          | 0.0248161   |"
      ]
     },
     "metadata": {},
     "output_type": "display_data"
    },
    {
     "data": {
      "text/html": [
       "<pre>| 203     | 1h 37m       | 0.370332          | 0.297469                          | 0.0248161   |</pre>"
      ],
      "text/plain": [
       "| 203     | 1h 37m       | 0.370332          | 0.297469                          | 0.0248161   |"
      ]
     },
     "metadata": {},
     "output_type": "display_data"
    },
    {
     "data": {
      "text/html": [
       "<pre>| 204     | 1h 38m       | 0.37023           | 0.297328                          | 0.0248161   |</pre>"
      ],
      "text/plain": [
       "| 204     | 1h 38m       | 0.37023           | 0.297328                          | 0.0248161   |"
      ]
     },
     "metadata": {},
     "output_type": "display_data"
    },
    {
     "data": {
      "text/html": [
       "<pre>| 205     | 1h 38m       | 0.370172          | 0.297232                          | 0.0248161   |</pre>"
      ],
      "text/plain": [
       "| 205     | 1h 38m       | 0.370172          | 0.297232                          | 0.0248161   |"
      ]
     },
     "metadata": {},
     "output_type": "display_data"
    },
    {
     "data": {
      "text/html": [
       "<pre>| 206     | 1h 39m       | 0.370101          | 0.297122                          | 0.0248161   |</pre>"
      ],
      "text/plain": [
       "| 206     | 1h 39m       | 0.370101          | 0.297122                          | 0.0248161   |"
      ]
     },
     "metadata": {},
     "output_type": "display_data"
    },
    {
     "data": {
      "text/html": [
       "<pre>| 207     | 1h 39m       | 0.370014          | 0.296992                          | 0.0248161   |</pre>"
      ],
      "text/plain": [
       "| 207     | 1h 39m       | 0.370014          | 0.296992                          | 0.0248161   |"
      ]
     },
     "metadata": {},
     "output_type": "display_data"
    },
    {
     "data": {
      "text/html": [
       "<pre>| 208     | 1h 40m       | 0.369965          | 0.296902                          | 0.0248161   |</pre>"
      ],
      "text/plain": [
       "| 208     | 1h 40m       | 0.369965          | 0.296902                          | 0.0248161   |"
      ]
     },
     "metadata": {},
     "output_type": "display_data"
    },
    {
     "data": {
      "text/html": [
       "<pre>| 209     | 1h 40m       | 0.369869          | 0.296768                          | 0.0248161   |</pre>"
      ],
      "text/plain": [
       "| 209     | 1h 40m       | 0.369869          | 0.296768                          | 0.0248161   |"
      ]
     },
     "metadata": {},
     "output_type": "display_data"
    },
    {
     "data": {
      "text/html": [
       "<pre>| 210     | 1h 41m       | 0.369849          | 0.296709                          | 0.0248161   |</pre>"
      ],
      "text/plain": [
       "| 210     | 1h 41m       | 0.369849          | 0.296709                          | 0.0248161   |"
      ]
     },
     "metadata": {},
     "output_type": "display_data"
    },
    {
     "data": {
      "text/html": [
       "<pre>| 211     | 1h 41m       | 0.369742          | 0.296564                          | 0.0248161   |</pre>"
      ],
      "text/plain": [
       "| 211     | 1h 41m       | 0.369742          | 0.296564                          | 0.0248161   |"
      ]
     },
     "metadata": {},
     "output_type": "display_data"
    },
    {
     "data": {
      "text/html": [
       "<pre>| 212     | 1h 42m       | 0.369655          | 0.296437                          | 0.0248161   |</pre>"
      ],
      "text/plain": [
       "| 212     | 1h 42m       | 0.369655          | 0.296437                          | 0.0248161   |"
      ]
     },
     "metadata": {},
     "output_type": "display_data"
    },
    {
     "data": {
      "text/html": [
       "<pre>| 213     | 1h 42m       | 0.369626          | 0.296367                          | 0.0248161   |</pre>"
      ],
      "text/plain": [
       "| 213     | 1h 42m       | 0.369626          | 0.296367                          | 0.0248161   |"
      ]
     },
     "metadata": {},
     "output_type": "display_data"
    },
    {
     "data": {
      "text/html": [
       "<pre>| 214     | 1h 42m       | 0.36957           | 0.296272                          | 0.0248161   |</pre>"
      ],
      "text/plain": [
       "| 214     | 1h 42m       | 0.36957           | 0.296272                          | 0.0248161   |"
      ]
     },
     "metadata": {},
     "output_type": "display_data"
    },
    {
     "data": {
      "text/html": [
       "<pre>| 215     | 1h 43m       | 0.369492          | 0.296153                          | 0.0248161   |</pre>"
      ],
      "text/plain": [
       "| 215     | 1h 43m       | 0.369492          | 0.296153                          | 0.0248161   |"
      ]
     },
     "metadata": {},
     "output_type": "display_data"
    },
    {
     "data": {
      "text/html": [
       "<pre>| 216     | 1h 43m       | 0.369381          | 0.296004                          | 0.0248161   |</pre>"
      ],
      "text/plain": [
       "| 216     | 1h 43m       | 0.369381          | 0.296004                          | 0.0248161   |"
      ]
     },
     "metadata": {},
     "output_type": "display_data"
    },
    {
     "data": {
      "text/html": [
       "<pre>| 217     | 1h 44m       | 0.369354          | 0.295936                          | 0.0248161   |</pre>"
      ],
      "text/plain": [
       "| 217     | 1h 44m       | 0.369354          | 0.295936                          | 0.0248161   |"
      ]
     },
     "metadata": {},
     "output_type": "display_data"
    },
    {
     "data": {
      "text/html": [
       "<pre>| 218     | 1h 44m       | 0.369278          | 0.295821                          | 0.0248161   |</pre>"
      ],
      "text/plain": [
       "| 218     | 1h 44m       | 0.369278          | 0.295821                          | 0.0248161   |"
      ]
     },
     "metadata": {},
     "output_type": "display_data"
    },
    {
     "data": {
      "text/html": [
       "<pre>| 219     | 1h 45m       | 0.36921           | 0.295714                          | 0.0248161   |</pre>"
      ],
      "text/plain": [
       "| 219     | 1h 45m       | 0.36921           | 0.295714                          | 0.0248161   |"
      ]
     },
     "metadata": {},
     "output_type": "display_data"
    },
    {
     "data": {
      "text/html": [
       "<pre>| 220     | 1h 46m       | 0.369161          | 0.295627                          | 0.0248161   |</pre>"
      ],
      "text/plain": [
       "| 220     | 1h 46m       | 0.369161          | 0.295627                          | 0.0248161   |"
      ]
     },
     "metadata": {},
     "output_type": "display_data"
    },
    {
     "data": {
      "text/html": [
       "<pre>| 221     | 1h 46m       | 0.369075          | 0.295501                          | 0.0248161   |</pre>"
      ],
      "text/plain": [
       "| 221     | 1h 46m       | 0.369075          | 0.295501                          | 0.0248161   |"
      ]
     },
     "metadata": {},
     "output_type": "display_data"
    },
    {
     "data": {
      "text/html": [
       "<pre>| 222     | 1h 47m       | 0.369034          | 0.295421                          | 0.0248161   |</pre>"
      ],
      "text/plain": [
       "| 222     | 1h 47m       | 0.369034          | 0.295421                          | 0.0248161   |"
      ]
     },
     "metadata": {},
     "output_type": "display_data"
    },
    {
     "data": {
      "text/html": [
       "<pre>| 223     | 1h 47m       | 0.368968          | 0.295318                          | 0.0248161   |</pre>"
      ],
      "text/plain": [
       "| 223     | 1h 47m       | 0.368968          | 0.295318                          | 0.0248161   |"
      ]
     },
     "metadata": {},
     "output_type": "display_data"
    },
    {
     "data": {
      "text/html": [
       "<pre>| 224     | 1h 48m       | 0.368889          | 0.295199                          | 0.0248161   |</pre>"
      ],
      "text/plain": [
       "| 224     | 1h 48m       | 0.368889          | 0.295199                          | 0.0248161   |"
      ]
     },
     "metadata": {},
     "output_type": "display_data"
    },
    {
     "data": {
      "text/html": [
       "<pre>| 225     | 1h 48m       | 0.368831          | 0.295103                          | 0.0248161   |</pre>"
      ],
      "text/plain": [
       "| 225     | 1h 48m       | 0.368831          | 0.295103                          | 0.0248161   |"
      ]
     },
     "metadata": {},
     "output_type": "display_data"
    },
    {
     "data": {
      "text/html": [
       "<pre>| 226     | 1h 49m       | 0.368775          | 0.295005                          | 0.0248161   |</pre>"
      ],
      "text/plain": [
       "| 226     | 1h 49m       | 0.368775          | 0.295005                          | 0.0248161   |"
      ]
     },
     "metadata": {},
     "output_type": "display_data"
    },
    {
     "data": {
      "text/html": [
       "<pre>| 227     | 1h 49m       | 0.368701          | 0.294891                          | 0.0248161   |</pre>"
      ],
      "text/plain": [
       "| 227     | 1h 49m       | 0.368701          | 0.294891                          | 0.0248161   |"
      ]
     },
     "metadata": {},
     "output_type": "display_data"
    },
    {
     "data": {
      "text/html": [
       "<pre>| 228     | 1h 50m       | 0.368639          | 0.29479                           | 0.0248161   |</pre>"
      ],
      "text/plain": [
       "| 228     | 1h 50m       | 0.368639          | 0.29479                           | 0.0248161   |"
      ]
     },
     "metadata": {},
     "output_type": "display_data"
    },
    {
     "data": {
      "text/html": [
       "<pre>| 229     | 1h 50m       | 0.368578          | 0.294694                          | 0.0248161   |</pre>"
      ],
      "text/plain": [
       "| 229     | 1h 50m       | 0.368578          | 0.294694                          | 0.0248161   |"
      ]
     },
     "metadata": {},
     "output_type": "display_data"
    },
    {
     "data": {
      "text/html": [
       "<pre>| 230     | 1h 51m       | 0.368516          | 0.294594                          | 0.0248161   |</pre>"
      ],
      "text/plain": [
       "| 230     | 1h 51m       | 0.368516          | 0.294594                          | 0.0248161   |"
      ]
     },
     "metadata": {},
     "output_type": "display_data"
    },
    {
     "data": {
      "text/html": [
       "<pre>| 231     | 1h 51m       | 0.368431          | 0.29447                           | 0.0248161   |</pre>"
      ],
      "text/plain": [
       "| 231     | 1h 51m       | 0.368431          | 0.29447                           | 0.0248161   |"
      ]
     },
     "metadata": {},
     "output_type": "display_data"
    },
    {
     "data": {
      "text/html": [
       "<pre>| 232     | 1h 52m       | 0.368403          | 0.294404                          | 0.0248161   |</pre>"
      ],
      "text/plain": [
       "| 232     | 1h 52m       | 0.368403          | 0.294404                          | 0.0248161   |"
      ]
     },
     "metadata": {},
     "output_type": "display_data"
    },
    {
     "data": {
      "text/html": [
       "<pre>| 233     | 1h 52m       | 0.36833           | 0.294292                          | 0.0248161   |</pre>"
      ],
      "text/plain": [
       "| 233     | 1h 52m       | 0.36833           | 0.294292                          | 0.0248161   |"
      ]
     },
     "metadata": {},
     "output_type": "display_data"
    },
    {
     "data": {
      "text/html": [
       "<pre>| 234     | 1h 53m       | 0.368303          | 0.294227                          | 0.0248161   |</pre>"
      ],
      "text/plain": [
       "| 234     | 1h 53m       | 0.368303          | 0.294227                          | 0.0248161   |"
      ]
     },
     "metadata": {},
     "output_type": "display_data"
    },
    {
     "data": {
      "text/html": [
       "<pre>| 235     | 1h 53m       | 0.36826           | 0.294143                          | 0.0248161   |</pre>"
      ],
      "text/plain": [
       "| 235     | 1h 53m       | 0.36826           | 0.294143                          | 0.0248161   |"
      ]
     },
     "metadata": {},
     "output_type": "display_data"
    },
    {
     "data": {
      "text/html": [
       "<pre>| 236     | 1h 54m       | 0.368196          | 0.294039                          | 0.0248161   |</pre>"
      ],
      "text/plain": [
       "| 236     | 1h 54m       | 0.368196          | 0.294039                          | 0.0248161   |"
      ]
     },
     "metadata": {},
     "output_type": "display_data"
    },
    {
     "data": {
      "text/html": [
       "<pre>| 237     | 1h 54m       | 0.368137          | 0.293942                          | 0.0248161   |</pre>"
      ],
      "text/plain": [
       "| 237     | 1h 54m       | 0.368137          | 0.293942                          | 0.0248161   |"
      ]
     },
     "metadata": {},
     "output_type": "display_data"
    },
    {
     "data": {
      "text/html": [
       "<pre>| 238     | 1h 55m       | 0.368045          | 0.293813                          | 0.0248161   |</pre>"
      ],
      "text/plain": [
       "| 238     | 1h 55m       | 0.368045          | 0.293813                          | 0.0248161   |"
      ]
     },
     "metadata": {},
     "output_type": "display_data"
    },
    {
     "data": {
      "text/html": [
       "<pre>| 239     | 1h 55m       | 0.368013          | 0.293741                          | 0.0248161   |</pre>"
      ],
      "text/plain": [
       "| 239     | 1h 55m       | 0.368013          | 0.293741                          | 0.0248161   |"
      ]
     },
     "metadata": {},
     "output_type": "display_data"
    },
    {
     "data": {
      "text/html": [
       "<pre>| 240     | 1h 56m       | 0.367968          | 0.293659                          | 0.0248161   |</pre>"
      ],
      "text/plain": [
       "| 240     | 1h 56m       | 0.367968          | 0.293659                          | 0.0248161   |"
      ]
     },
     "metadata": {},
     "output_type": "display_data"
    },
    {
     "data": {
      "text/html": [
       "<pre>| 241     | 1h 56m       | 0.367872          | 0.293526                          | 0.0248161   |</pre>"
      ],
      "text/plain": [
       "| 241     | 1h 56m       | 0.367872          | 0.293526                          | 0.0248161   |"
      ]
     },
     "metadata": {},
     "output_type": "display_data"
    },
    {
     "data": {
      "text/html": [
       "<pre>| 242     | 1h 57m       | 0.36784           | 0.293454                          | 0.0248161   |</pre>"
      ],
      "text/plain": [
       "| 242     | 1h 57m       | 0.36784           | 0.293454                          | 0.0248161   |"
      ]
     },
     "metadata": {},
     "output_type": "display_data"
    },
    {
     "data": {
      "text/html": [
       "<pre>| 243     | 1h 57m       | 0.367787          | 0.293363                          | 0.0248161   |</pre>"
      ],
      "text/plain": [
       "| 243     | 1h 57m       | 0.367787          | 0.293363                          | 0.0248161   |"
      ]
     },
     "metadata": {},
     "output_type": "display_data"
    },
    {
     "data": {
      "text/html": [
       "<pre>| 244     | 1h 58m       | 0.367735          | 0.293271                          | 0.0248161   |</pre>"
      ],
      "text/plain": [
       "| 244     | 1h 58m       | 0.367735          | 0.293271                          | 0.0248161   |"
      ]
     },
     "metadata": {},
     "output_type": "display_data"
    },
    {
     "data": {
      "text/html": [
       "<pre>| 245     | 1h 58m       | 0.367685          | 0.293182                          | 0.0248161   |</pre>"
      ],
      "text/plain": [
       "| 245     | 1h 58m       | 0.367685          | 0.293182                          | 0.0248161   |"
      ]
     },
     "metadata": {},
     "output_type": "display_data"
    },
    {
     "data": {
      "text/html": [
       "<pre>| 246     | 1h 59m       | 0.367607          | 0.293066                          | 0.0248161   |</pre>"
      ],
      "text/plain": [
       "| 246     | 1h 59m       | 0.367607          | 0.293066                          | 0.0248161   |"
      ]
     },
     "metadata": {},
     "output_type": "display_data"
    },
    {
     "data": {
      "text/html": [
       "<pre>| 247     | 1h 59m       | 0.367576          | 0.293001                          | 0.0248161   |</pre>"
      ],
      "text/plain": [
       "| 247     | 1h 59m       | 0.367576          | 0.293001                          | 0.0248161   |"
      ]
     },
     "metadata": {},
     "output_type": "display_data"
    },
    {
     "data": {
      "text/html": [
       "<pre>| 248     | 2h 0m        | 0.367535          | 0.292921                          | 0.0248161   |</pre>"
      ],
      "text/plain": [
       "| 248     | 2h 0m        | 0.367535          | 0.292921                          | 0.0248161   |"
      ]
     },
     "metadata": {},
     "output_type": "display_data"
    },
    {
     "data": {
      "text/html": [
       "<pre>| 249     | 2h 1m        | 0.367451          | 0.292801                          | 0.0248161   |</pre>"
      ],
      "text/plain": [
       "| 249     | 2h 1m        | 0.367451          | 0.292801                          | 0.0248161   |"
      ]
     },
     "metadata": {},
     "output_type": "display_data"
    },
    {
     "data": {
      "text/html": [
       "<pre>| 250     | 2h 1m        | 0.367445          | 0.292753                          | 0.0248161   |</pre>"
      ],
      "text/plain": [
       "| 250     | 2h 1m        | 0.367445          | 0.292753                          | 0.0248161   |"
      ]
     },
     "metadata": {},
     "output_type": "display_data"
    },
    {
     "data": {
      "text/html": [
       "<pre>| 251     | 2h 2m        | 0.367332          | 0.292604                          | 0.0248161   |</pre>"
      ],
      "text/plain": [
       "| 251     | 2h 2m        | 0.367332          | 0.292604                          | 0.0248161   |"
      ]
     },
     "metadata": {},
     "output_type": "display_data"
    },
    {
     "data": {
      "text/html": [
       "<pre>| 252     | 2h 2m        | 0.367316          | 0.292548                          | 0.0248161   |</pre>"
      ],
      "text/plain": [
       "| 252     | 2h 2m        | 0.367316          | 0.292548                          | 0.0248161   |"
      ]
     },
     "metadata": {},
     "output_type": "display_data"
    },
    {
     "data": {
      "text/html": [
       "<pre>| 253     | 2h 3m        | 0.367267          | 0.292461                          | 0.0248161   |</pre>"
      ],
      "text/plain": [
       "| 253     | 2h 3m        | 0.367267          | 0.292461                          | 0.0248161   |"
      ]
     },
     "metadata": {},
     "output_type": "display_data"
    },
    {
     "data": {
      "text/html": [
       "<pre>| 254     | 2h 3m        | 0.367235          | 0.292391                          | 0.0248161   |</pre>"
      ],
      "text/plain": [
       "| 254     | 2h 3m        | 0.367235          | 0.292391                          | 0.0248161   |"
      ]
     },
     "metadata": {},
     "output_type": "display_data"
    },
    {
     "data": {
      "text/html": [
       "<pre>| 255     | 2h 4m        | 0.367161          | 0.292281                          | 0.0248161   |</pre>"
      ],
      "text/plain": [
       "| 255     | 2h 4m        | 0.367161          | 0.292281                          | 0.0248161   |"
      ]
     },
     "metadata": {},
     "output_type": "display_data"
    },
    {
     "data": {
      "text/html": [
       "<pre>| 256     | 2h 4m        | 0.36713           | 0.292214                          | 0.0248161   |</pre>"
      ],
      "text/plain": [
       "| 256     | 2h 4m        | 0.36713           | 0.292214                          | 0.0248161   |"
      ]
     },
     "metadata": {},
     "output_type": "display_data"
    },
    {
     "data": {
      "text/html": [
       "<pre>| 257     | 2h 5m        | 0.367067          | 0.292115                          | 0.0248161   |</pre>"
      ],
      "text/plain": [
       "| 257     | 2h 5m        | 0.367067          | 0.292115                          | 0.0248161   |"
      ]
     },
     "metadata": {},
     "output_type": "display_data"
    },
    {
     "data": {
      "text/html": [
       "<pre>| 258     | 2h 5m        | 0.367013          | 0.292025                          | 0.0248161   |</pre>"
      ],
      "text/plain": [
       "| 258     | 2h 5m        | 0.367013          | 0.292025                          | 0.0248161   |"
      ]
     },
     "metadata": {},
     "output_type": "display_data"
    },
    {
     "data": {
      "text/html": [
       "<pre>| 259     | 2h 6m        | 0.366969          | 0.291943                          | 0.0248161   |</pre>"
      ],
      "text/plain": [
       "| 259     | 2h 6m        | 0.366969          | 0.291943                          | 0.0248161   |"
      ]
     },
     "metadata": {},
     "output_type": "display_data"
    },
    {
     "data": {
      "text/html": [
       "<pre>| 260     | 2h 6m        | 0.366902          | 0.291837                          | 0.0248161   |</pre>"
      ],
      "text/plain": [
       "| 260     | 2h 6m        | 0.366902          | 0.291837                          | 0.0248161   |"
      ]
     },
     "metadata": {},
     "output_type": "display_data"
    },
    {
     "data": {
      "text/html": [
       "<pre>| 261     | 2h 7m        | 0.366908          | 0.291806                          | 0.0248161   |</pre>"
      ],
      "text/plain": [
       "| 261     | 2h 7m        | 0.366908          | 0.291806                          | 0.0248161   |"
      ]
     },
     "metadata": {},
     "output_type": "display_data"
    },
    {
     "data": {
      "text/html": [
       "<pre>| 262     | 2h 7m        | 0.366843          | 0.291703                          | 0.0248161   |</pre>"
      ],
      "text/plain": [
       "| 262     | 2h 7m        | 0.366843          | 0.291703                          | 0.0248161   |"
      ]
     },
     "metadata": {},
     "output_type": "display_data"
    },
    {
     "data": {
      "text/html": [
       "<pre>| 263     | 2h 8m        | 0.366795          | 0.291619                          | 0.0248161   |</pre>"
      ],
      "text/plain": [
       "| 263     | 2h 8m        | 0.366795          | 0.291619                          | 0.0248161   |"
      ]
     },
     "metadata": {},
     "output_type": "display_data"
    },
    {
     "data": {
      "text/html": [
       "<pre>| 264     | 2h 8m        | 0.366755          | 0.291543                          | 0.0248161   |</pre>"
      ],
      "text/plain": [
       "| 264     | 2h 8m        | 0.366755          | 0.291543                          | 0.0248161   |"
      ]
     },
     "metadata": {},
     "output_type": "display_data"
    },
    {
     "data": {
      "text/html": [
       "<pre>| 265     | 2h 9m        | 0.366696          | 0.291449                          | 0.0248161   |</pre>"
      ],
      "text/plain": [
       "| 265     | 2h 9m        | 0.366696          | 0.291449                          | 0.0248161   |"
      ]
     },
     "metadata": {},
     "output_type": "display_data"
    },
    {
     "data": {
      "text/html": [
       "<pre>| 266     | 2h 9m        | 0.36666           | 0.291378                          | 0.0248161   |</pre>"
      ],
      "text/plain": [
       "| 266     | 2h 9m        | 0.36666           | 0.291378                          | 0.0248161   |"
      ]
     },
     "metadata": {},
     "output_type": "display_data"
    },
    {
     "data": {
      "text/html": [
       "<pre>| 267     | 2h 10m       | 0.366601          | 0.291279                          | 0.0248161   |</pre>"
      ],
      "text/plain": [
       "| 267     | 2h 10m       | 0.366601          | 0.291279                          | 0.0248161   |"
      ]
     },
     "metadata": {},
     "output_type": "display_data"
    },
    {
     "data": {
      "text/html": [
       "<pre>| 268     | 2h 10m       | 0.366528          | 0.29117                           | 0.0248161   |</pre>"
      ],
      "text/plain": [
       "| 268     | 2h 10m       | 0.366528          | 0.29117                           | 0.0248161   |"
      ]
     },
     "metadata": {},
     "output_type": "display_data"
    },
    {
     "data": {
      "text/html": [
       "<pre>| 269     | 2h 11m       | 0.366493          | 0.291097                          | 0.0248161   |</pre>"
      ],
      "text/plain": [
       "| 269     | 2h 11m       | 0.366493          | 0.291097                          | 0.0248161   |"
      ]
     },
     "metadata": {},
     "output_type": "display_data"
    },
    {
     "data": {
      "text/html": [
       "<pre>| 270     | 2h 11m       | 0.366449          | 0.291017                          | 0.0248161   |</pre>"
      ],
      "text/plain": [
       "| 270     | 2h 11m       | 0.366449          | 0.291017                          | 0.0248161   |"
      ]
     },
     "metadata": {},
     "output_type": "display_data"
    },
    {
     "data": {
      "text/html": [
       "<pre>| 271     | 2h 12m       | 0.366426          | 0.29096                           | 0.0248161   |</pre>"
      ],
      "text/plain": [
       "| 271     | 2h 12m       | 0.366426          | 0.29096                           | 0.0248161   |"
      ]
     },
     "metadata": {},
     "output_type": "display_data"
    },
    {
     "data": {
      "text/html": [
       "<pre>| 272     | 2h 12m       | 0.366365          | 0.290866                          | 0.0248161   |</pre>"
      ],
      "text/plain": [
       "| 272     | 2h 12m       | 0.366365          | 0.290866                          | 0.0248161   |"
      ]
     },
     "metadata": {},
     "output_type": "display_data"
    },
    {
     "data": {
      "text/html": [
       "<pre>| 273     | 2h 13m       | 0.366309          | 0.290774                          | 0.0248161   |</pre>"
      ],
      "text/plain": [
       "| 273     | 2h 13m       | 0.366309          | 0.290774                          | 0.0248161   |"
      ]
     },
     "metadata": {},
     "output_type": "display_data"
    },
    {
     "data": {
      "text/html": [
       "<pre>| 274     | 2h 13m       | 0.366288          | 0.290719                          | 0.0248161   |</pre>"
      ],
      "text/plain": [
       "| 274     | 2h 13m       | 0.366288          | 0.290719                          | 0.0248161   |"
      ]
     },
     "metadata": {},
     "output_type": "display_data"
    },
    {
     "data": {
      "text/html": [
       "<pre>| 275     | 2h 14m       | 0.366207          | 0.2906                            | 0.0248161   |</pre>"
      ],
      "text/plain": [
       "| 275     | 2h 14m       | 0.366207          | 0.2906                            | 0.0248161   |"
      ]
     },
     "metadata": {},
     "output_type": "display_data"
    },
    {
     "data": {
      "text/html": [
       "<pre>| 276     | 2h 14m       | 0.366188          | 0.290544                          | 0.0248161   |</pre>"
      ],
      "text/plain": [
       "| 276     | 2h 14m       | 0.366188          | 0.290544                          | 0.0248161   |"
      ]
     },
     "metadata": {},
     "output_type": "display_data"
    },
    {
     "data": {
      "text/html": [
       "<pre>| 277     | 2h 15m       | 0.366135          | 0.290454                          | 0.0248161   |</pre>"
      ],
      "text/plain": [
       "| 277     | 2h 15m       | 0.366135          | 0.290454                          | 0.0248161   |"
      ]
     },
     "metadata": {},
     "output_type": "display_data"
    },
    {
     "data": {
      "text/html": [
       "<pre>| 278     | 2h 15m       | 0.366115          | 0.290398                          | 0.0248161   |</pre>"
      ],
      "text/plain": [
       "| 278     | 2h 15m       | 0.366115          | 0.290398                          | 0.0248161   |"
      ]
     },
     "metadata": {},
     "output_type": "display_data"
    },
    {
     "data": {
      "text/html": [
       "<pre>| 279     | 2h 16m       | 0.36604           | 0.290288                          | 0.0248161   |</pre>"
      ],
      "text/plain": [
       "| 279     | 2h 16m       | 0.36604           | 0.290288                          | 0.0248161   |"
      ]
     },
     "metadata": {},
     "output_type": "display_data"
    },
    {
     "data": {
      "text/html": [
       "<pre>| 280     | 2h 16m       | 0.366023          | 0.290237                          | 0.0248161   |</pre>"
      ],
      "text/plain": [
       "| 280     | 2h 16m       | 0.366023          | 0.290237                          | 0.0248161   |"
      ]
     },
     "metadata": {},
     "output_type": "display_data"
    },
    {
     "data": {
      "text/html": [
       "<pre>| 281     | 2h 17m       | 0.365982          | 0.290163                          | 0.0248161   |</pre>"
      ],
      "text/plain": [
       "| 281     | 2h 17m       | 0.365982          | 0.290163                          | 0.0248161   |"
      ]
     },
     "metadata": {},
     "output_type": "display_data"
    },
    {
     "data": {
      "text/html": [
       "<pre>| 282     | 2h 17m       | 0.365948          | 0.290094                          | 0.0248161   |</pre>"
      ],
      "text/plain": [
       "| 282     | 2h 17m       | 0.365948          | 0.290094                          | 0.0248161   |"
      ]
     },
     "metadata": {},
     "output_type": "display_data"
    },
    {
     "data": {
      "text/html": [
       "<pre>| 283     | 2h 18m       | 0.365881          | 0.28999                           | 0.0248161   |</pre>"
      ],
      "text/plain": [
       "| 283     | 2h 18m       | 0.365881          | 0.28999                           | 0.0248161   |"
      ]
     },
     "metadata": {},
     "output_type": "display_data"
    },
    {
     "data": {
      "text/html": [
       "<pre>| 284     | 2h 18m       | 0.365824          | 0.289897                          | 0.0248161   |</pre>"
      ],
      "text/plain": [
       "| 284     | 2h 18m       | 0.365824          | 0.289897                          | 0.0248161   |"
      ]
     },
     "metadata": {},
     "output_type": "display_data"
    },
    {
     "data": {
      "text/html": [
       "<pre>| 285     | 2h 19m       | 0.365796          | 0.289834                          | 0.0248161   |</pre>"
      ],
      "text/plain": [
       "| 285     | 2h 19m       | 0.365796          | 0.289834                          | 0.0248161   |"
      ]
     },
     "metadata": {},
     "output_type": "display_data"
    },
    {
     "data": {
      "text/html": [
       "<pre>| 286     | 2h 19m       | 0.365758          | 0.289759                          | 0.0248161   |</pre>"
      ],
      "text/plain": [
       "| 286     | 2h 19m       | 0.365758          | 0.289759                          | 0.0248161   |"
      ]
     },
     "metadata": {},
     "output_type": "display_data"
    },
    {
     "data": {
      "text/html": [
       "<pre>| 287     | 2h 20m       | 0.365711          | 0.289678                          | 0.0248161   |</pre>"
      ],
      "text/plain": [
       "| 287     | 2h 20m       | 0.365711          | 0.289678                          | 0.0248161   |"
      ]
     },
     "metadata": {},
     "output_type": "display_data"
    },
    {
     "data": {
      "text/html": [
       "<pre>| 288     | 2h 20m       | 0.365662          | 0.289598                          | 0.0248161   |</pre>"
      ],
      "text/plain": [
       "| 288     | 2h 20m       | 0.365662          | 0.289598                          | 0.0248161   |"
      ]
     },
     "metadata": {},
     "output_type": "display_data"
    },
    {
     "data": {
      "text/html": [
       "<pre>| 289     | 2h 21m       | 0.36565           | 0.289552                          | 0.0248161   |</pre>"
      ],
      "text/plain": [
       "| 289     | 2h 21m       | 0.36565           | 0.289552                          | 0.0248161   |"
      ]
     },
     "metadata": {},
     "output_type": "display_data"
    },
    {
     "data": {
      "text/html": [
       "<pre>| 290     | 2h 21m       | 0.365595          | 0.289464                          | 0.0248161   |</pre>"
      ],
      "text/plain": [
       "| 290     | 2h 21m       | 0.365595          | 0.289464                          | 0.0248161   |"
      ]
     },
     "metadata": {},
     "output_type": "display_data"
    },
    {
     "data": {
      "text/html": [
       "<pre>| 291     | 2h 22m       | 0.365562          | 0.289394                          | 0.0248161   |</pre>"
      ],
      "text/plain": [
       "| 291     | 2h 22m       | 0.365562          | 0.289394                          | 0.0248161   |"
      ]
     },
     "metadata": {},
     "output_type": "display_data"
    },
    {
     "data": {
      "text/html": [
       "<pre>| 292     | 2h 22m       | 0.365555          | 0.289351                          | 0.0248161   |</pre>"
      ],
      "text/plain": [
       "| 292     | 2h 22m       | 0.365555          | 0.289351                          | 0.0248161   |"
      ]
     },
     "metadata": {},
     "output_type": "display_data"
    },
    {
     "data": {
      "text/html": [
       "<pre>| 293     | 2h 23m       | 0.365489          | 0.289249                          | 0.0248161   |</pre>"
      ],
      "text/plain": [
       "| 293     | 2h 23m       | 0.365489          | 0.289249                          | 0.0248161   |"
      ]
     },
     "metadata": {},
     "output_type": "display_data"
    },
    {
     "data": {
      "text/html": [
       "<pre>| 294     | 2h 23m       | 0.365447          | 0.289171                          | 0.0248161   |</pre>"
      ],
      "text/plain": [
       "| 294     | 2h 23m       | 0.365447          | 0.289171                          | 0.0248161   |"
      ]
     },
     "metadata": {},
     "output_type": "display_data"
    },
    {
     "data": {
      "text/html": [
       "<pre>| 295     | 2h 24m       | 0.365421          | 0.289113                          | 0.0248161   |</pre>"
      ],
      "text/plain": [
       "| 295     | 2h 24m       | 0.365421          | 0.289113                          | 0.0248161   |"
      ]
     },
     "metadata": {},
     "output_type": "display_data"
    },
    {
     "data": {
      "text/html": [
       "<pre>| 296     | 2h 25m       | 0.365359          | 0.289018                          | 0.0248161   |</pre>"
      ],
      "text/plain": [
       "| 296     | 2h 25m       | 0.365359          | 0.289018                          | 0.0248161   |"
      ]
     },
     "metadata": {},
     "output_type": "display_data"
    },
    {
     "data": {
      "text/html": [
       "<pre>| 297     | 2h 25m       | 0.365316          | 0.288941                          | 0.0248161   |</pre>"
      ],
      "text/plain": [
       "| 297     | 2h 25m       | 0.365316          | 0.288941                          | 0.0248161   |"
      ]
     },
     "metadata": {},
     "output_type": "display_data"
    },
    {
     "data": {
      "text/html": [
       "<pre>| 298     | 2h 26m       | 0.365307          | 0.288901                          | 0.0248161   |</pre>"
      ],
      "text/plain": [
       "| 298     | 2h 26m       | 0.365307          | 0.288901                          | 0.0248161   |"
      ]
     },
     "metadata": {},
     "output_type": "display_data"
    },
    {
     "data": {
      "text/html": [
       "<pre>| 299     | 2h 26m       | 0.365247          | 0.288804                          | 0.0248161   |</pre>"
      ],
      "text/plain": [
       "| 299     | 2h 26m       | 0.365247          | 0.288804                          | 0.0248161   |"
      ]
     },
     "metadata": {},
     "output_type": "display_data"
    },
    {
     "data": {
      "text/html": [
       "<pre>| 300     | 2h 27m       | 0.365228          | 0.288748                          | 0.0248161   |</pre>"
      ],
      "text/plain": [
       "| 300     | 2h 27m       | 0.365228          | 0.288748                          | 0.0248161   |"
      ]
     },
     "metadata": {},
     "output_type": "display_data"
    },
    {
     "data": {
      "text/html": [
       "<pre>| 301     | 2h 27m       | 0.365197          | 0.288683                          | 0.0248161   |</pre>"
      ],
      "text/plain": [
       "| 301     | 2h 27m       | 0.365197          | 0.288683                          | 0.0248161   |"
      ]
     },
     "metadata": {},
     "output_type": "display_data"
    },
    {
     "data": {
      "text/html": [
       "<pre>| 302     | 2h 27m       | 0.365173          | 0.288624                          | 0.0248161   |</pre>"
      ],
      "text/plain": [
       "| 302     | 2h 27m       | 0.365173          | 0.288624                          | 0.0248161   |"
      ]
     },
     "metadata": {},
     "output_type": "display_data"
    },
    {
     "data": {
      "text/html": [
       "<pre>| 303     | 2h 28m       | 0.365125          | 0.288543                          | 0.0248161   |</pre>"
      ],
      "text/plain": [
       "| 303     | 2h 28m       | 0.365125          | 0.288543                          | 0.0248161   |"
      ]
     },
     "metadata": {},
     "output_type": "display_data"
    },
    {
     "data": {
      "text/html": [
       "<pre>| 304     | 2h 28m       | 0.365078          | 0.288463                          | 0.0248161   |</pre>"
      ],
      "text/plain": [
       "| 304     | 2h 28m       | 0.365078          | 0.288463                          | 0.0248161   |"
      ]
     },
     "metadata": {},
     "output_type": "display_data"
    },
    {
     "data": {
      "text/html": [
       "<pre>| 305     | 2h 29m       | 0.365061          | 0.288414                          | 0.0248161   |</pre>"
      ],
      "text/plain": [
       "| 305     | 2h 29m       | 0.365061          | 0.288414                          | 0.0248161   |"
      ]
     },
     "metadata": {},
     "output_type": "display_data"
    },
    {
     "data": {
      "text/html": [
       "<pre>| 306     | 2h 29m       | 0.365003          | 0.288324                          | 0.0248161   |</pre>"
      ],
      "text/plain": [
       "| 306     | 2h 29m       | 0.365003          | 0.288324                          | 0.0248161   |"
      ]
     },
     "metadata": {},
     "output_type": "display_data"
    },
    {
     "data": {
      "text/html": [
       "<pre>| 307     | 2h 30m       | 0.364939          | 0.288226                          | 0.0248161   |</pre>"
      ],
      "text/plain": [
       "| 307     | 2h 30m       | 0.364939          | 0.288226                          | 0.0248161   |"
      ]
     },
     "metadata": {},
     "output_type": "display_data"
    },
    {
     "data": {
      "text/html": [
       "<pre>| 308     | 2h 30m       | 0.364901          | 0.288154                          | 0.0248161   |</pre>"
      ],
      "text/plain": [
       "| 308     | 2h 30m       | 0.364901          | 0.288154                          | 0.0248161   |"
      ]
     },
     "metadata": {},
     "output_type": "display_data"
    },
    {
     "data": {
      "text/html": [
       "<pre>| 309     | 2h 31m       | 0.364867          | 0.288085                          | 0.0248161   |</pre>"
      ],
      "text/plain": [
       "| 309     | 2h 31m       | 0.364867          | 0.288085                          | 0.0248161   |"
      ]
     },
     "metadata": {},
     "output_type": "display_data"
    },
    {
     "data": {
      "text/html": [
       "<pre>| 310     | 2h 31m       | 0.364884          | 0.288071                          | 0.0248161   |</pre>"
      ],
      "text/plain": [
       "| 310     | 2h 31m       | 0.364884          | 0.288071                          | 0.0248161   |"
      ]
     },
     "metadata": {},
     "output_type": "display_data"
    },
    {
     "data": {
      "text/html": [
       "<pre>| 311     | 2h 32m       | 0.36482           | 0.287974                          | 0.0248161   |</pre>"
      ],
      "text/plain": [
       "| 311     | 2h 32m       | 0.36482           | 0.287974                          | 0.0248161   |"
      ]
     },
     "metadata": {},
     "output_type": "display_data"
    },
    {
     "data": {
      "text/html": [
       "<pre>| 312     | 2h 32m       | 0.364791          | 0.287914                          | 0.0248161   |</pre>"
      ],
      "text/plain": [
       "| 312     | 2h 32m       | 0.364791          | 0.287914                          | 0.0248161   |"
      ]
     },
     "metadata": {},
     "output_type": "display_data"
    },
    {
     "data": {
      "text/html": [
       "<pre>| 313     | 2h 33m       | 0.364741          | 0.287833                          | 0.0248161   |</pre>"
      ],
      "text/plain": [
       "| 313     | 2h 33m       | 0.364741          | 0.287833                          | 0.0248161   |"
      ]
     },
     "metadata": {},
     "output_type": "display_data"
    },
    {
     "data": {
      "text/html": [
       "<pre>| 314     | 2h 33m       | 0.364705          | 0.287762                          | 0.0248161   |</pre>"
      ],
      "text/plain": [
       "| 314     | 2h 33m       | 0.364705          | 0.287762                          | 0.0248161   |"
      ]
     },
     "metadata": {},
     "output_type": "display_data"
    },
    {
     "data": {
      "text/html": [
       "<pre>| 315     | 2h 34m       | 0.364635          | 0.287658                          | 0.0248161   |</pre>"
      ],
      "text/plain": [
       "| 315     | 2h 34m       | 0.364635          | 0.287658                          | 0.0248161   |"
      ]
     },
     "metadata": {},
     "output_type": "display_data"
    },
    {
     "data": {
      "text/html": [
       "<pre>| 316     | 2h 34m       | 0.364657          | 0.287647                          | 0.0248161   |</pre>"
      ],
      "text/plain": [
       "| 316     | 2h 34m       | 0.364657          | 0.287647                          | 0.0248161   |"
      ]
     },
     "metadata": {},
     "output_type": "display_data"
    },
    {
     "data": {
      "text/html": [
       "<pre>| 317     | 2h 35m       | 0.364595          | 0.287552                          | 0.0248161   |</pre>"
      ],
      "text/plain": [
       "| 317     | 2h 35m       | 0.364595          | 0.287552                          | 0.0248161   |"
      ]
     },
     "metadata": {},
     "output_type": "display_data"
    },
    {
     "data": {
      "text/html": [
       "<pre>| 318     | 2h 35m       | 0.364558          | 0.287482                          | 0.0248161   |</pre>"
      ],
      "text/plain": [
       "| 318     | 2h 35m       | 0.364558          | 0.287482                          | 0.0248161   |"
      ]
     },
     "metadata": {},
     "output_type": "display_data"
    },
    {
     "data": {
      "text/html": [
       "<pre>| 319     | 2h 36m       | 0.36455           | 0.287441                          | 0.0248161   |</pre>"
      ],
      "text/plain": [
       "| 319     | 2h 36m       | 0.36455           | 0.287441                          | 0.0248161   |"
      ]
     },
     "metadata": {},
     "output_type": "display_data"
    },
    {
     "data": {
      "text/html": [
       "<pre>| 320     | 2h 36m       | 0.364516          | 0.287375                          | 0.0248161   |</pre>"
      ],
      "text/plain": [
       "| 320     | 2h 36m       | 0.364516          | 0.287375                          | 0.0248161   |"
      ]
     },
     "metadata": {},
     "output_type": "display_data"
    },
    {
     "data": {
      "text/html": [
       "<pre>| 321     | 2h 37m       | 0.36449           | 0.287318                          | 0.0248161   |</pre>"
      ],
      "text/plain": [
       "| 321     | 2h 37m       | 0.36449           | 0.287318                          | 0.0248161   |"
      ]
     },
     "metadata": {},
     "output_type": "display_data"
    },
    {
     "data": {
      "text/html": [
       "<pre>| 322     | 2h 37m       | 0.364428          | 0.287222                          | 0.0248161   |</pre>"
      ],
      "text/plain": [
       "| 322     | 2h 37m       | 0.364428          | 0.287222                          | 0.0248161   |"
      ]
     },
     "metadata": {},
     "output_type": "display_data"
    },
    {
     "data": {
      "text/html": [
       "<pre>| 323     | 2h 38m       | 0.364393          | 0.287153                          | 0.0248161   |</pre>"
      ],
      "text/plain": [
       "| 323     | 2h 38m       | 0.364393          | 0.287153                          | 0.0248161   |"
      ]
     },
     "metadata": {},
     "output_type": "display_data"
    },
    {
     "data": {
      "text/html": [
       "<pre>| 324     | 2h 38m       | 0.364361          | 0.287086                          | 0.0248161   |</pre>"
      ],
      "text/plain": [
       "| 324     | 2h 38m       | 0.364361          | 0.287086                          | 0.0248161   |"
      ]
     },
     "metadata": {},
     "output_type": "display_data"
    },
    {
     "data": {
      "text/html": [
       "<pre>| 325     | 2h 39m       | 0.364331          | 0.287025                          | 0.0248161   |</pre>"
      ],
      "text/plain": [
       "| 325     | 2h 39m       | 0.364331          | 0.287025                          | 0.0248161   |"
      ]
     },
     "metadata": {},
     "output_type": "display_data"
    },
    {
     "data": {
      "text/html": [
       "<pre>| 326     | 2h 39m       | 0.364318          | 0.286981                          | 0.0248161   |</pre>"
      ],
      "text/plain": [
       "| 326     | 2h 39m       | 0.364318          | 0.286981                          | 0.0248161   |"
      ]
     },
     "metadata": {},
     "output_type": "display_data"
    },
    {
     "data": {
      "text/html": [
       "<pre>| 327     | 2h 40m       | 0.36428           | 0.286912                          | 0.0248161   |</pre>"
      ],
      "text/plain": [
       "| 327     | 2h 40m       | 0.36428           | 0.286912                          | 0.0248161   |"
      ]
     },
     "metadata": {},
     "output_type": "display_data"
    },
    {
     "data": {
      "text/html": [
       "<pre>| 328     | 2h 40m       | 0.364233          | 0.286835                          | 0.0248161   |</pre>"
      ],
      "text/plain": [
       "| 328     | 2h 40m       | 0.364233          | 0.286835                          | 0.0248161   |"
      ]
     },
     "metadata": {},
     "output_type": "display_data"
    },
    {
     "data": {
      "text/html": [
       "<pre>| 329     | 2h 41m       | 0.364235          | 0.286804                          | 0.0248161   |</pre>"
      ],
      "text/plain": [
       "| 329     | 2h 41m       | 0.364235          | 0.286804                          | 0.0248161   |"
      ]
     },
     "metadata": {},
     "output_type": "display_data"
    },
    {
     "data": {
      "text/html": [
       "<pre>| 330     | 2h 41m       | 0.364167          | 0.286705                          | 0.0248161   |</pre>"
      ],
      "text/plain": [
       "| 330     | 2h 41m       | 0.364167          | 0.286705                          | 0.0248161   |"
      ]
     },
     "metadata": {},
     "output_type": "display_data"
    },
    {
     "data": {
      "text/html": [
       "<pre>| 331     | 2h 42m       | 0.364141          | 0.286646                          | 0.0248161   |</pre>"
      ],
      "text/plain": [
       "| 331     | 2h 42m       | 0.364141          | 0.286646                          | 0.0248161   |"
      ]
     },
     "metadata": {},
     "output_type": "display_data"
    },
    {
     "data": {
      "text/html": [
       "<pre>| 332     | 2h 42m       | 0.364104          | 0.286578                          | 0.0248161   |</pre>"
      ],
      "text/plain": [
       "| 332     | 2h 42m       | 0.364104          | 0.286578                          | 0.0248161   |"
      ]
     },
     "metadata": {},
     "output_type": "display_data"
    },
    {
     "data": {
      "text/html": [
       "<pre>| 333     | 2h 43m       | 0.364105          | 0.286546                          | 0.0248161   |</pre>"
      ],
      "text/plain": [
       "| 333     | 2h 43m       | 0.364105          | 0.286546                          | 0.0248161   |"
      ]
     },
     "metadata": {},
     "output_type": "display_data"
    },
    {
     "data": {
      "text/html": [
       "<pre>| 334     | 2h 43m       | 0.364046          | 0.286455                          | 0.0248161   |</pre>"
      ],
      "text/plain": [
       "| 334     | 2h 43m       | 0.364046          | 0.286455                          | 0.0248161   |"
      ]
     },
     "metadata": {},
     "output_type": "display_data"
    },
    {
     "data": {
      "text/html": [
       "<pre>| 335     | 2h 44m       | 0.364045          | 0.286421                          | 0.0248161   |</pre>"
      ],
      "text/plain": [
       "| 335     | 2h 44m       | 0.364045          | 0.286421                          | 0.0248161   |"
      ]
     },
     "metadata": {},
     "output_type": "display_data"
    },
    {
     "data": {
      "text/html": [
       "<pre>| 336     | 2h 44m       | 0.364006          | 0.286352                          | 0.0248161   |</pre>"
      ],
      "text/plain": [
       "| 336     | 2h 44m       | 0.364006          | 0.286352                          | 0.0248161   |"
      ]
     },
     "metadata": {},
     "output_type": "display_data"
    },
    {
     "data": {
      "text/html": [
       "<pre>| 337     | 2h 45m       | 0.363958          | 0.28627                           | 0.0248161   |</pre>"
      ],
      "text/plain": [
       "| 337     | 2h 45m       | 0.363958          | 0.28627                           | 0.0248161   |"
      ]
     },
     "metadata": {},
     "output_type": "display_data"
    },
    {
     "data": {
      "text/html": [
       "<pre>| 338     | 2h 45m       | 0.36396           | 0.286237                          | 0.0248161   |</pre>"
      ],
      "text/plain": [
       "| 338     | 2h 45m       | 0.36396           | 0.286237                          | 0.0248161   |"
      ]
     },
     "metadata": {},
     "output_type": "display_data"
    },
    {
     "data": {
      "text/html": [
       "<pre>| 339     | 2h 46m       | 0.363918          | 0.286163                          | 0.0248161   |</pre>"
      ],
      "text/plain": [
       "| 339     | 2h 46m       | 0.363918          | 0.286163                          | 0.0248161   |"
      ]
     },
     "metadata": {},
     "output_type": "display_data"
    },
    {
     "data": {
      "text/html": [
       "<pre>| 340     | 2h 46m       | 0.363863          | 0.286078                          | 0.0248161   |</pre>"
      ],
      "text/plain": [
       "| 340     | 2h 46m       | 0.363863          | 0.286078                          | 0.0248161   |"
      ]
     },
     "metadata": {},
     "output_type": "display_data"
    },
    {
     "data": {
      "text/html": [
       "<pre>| 341     | 2h 47m       | 0.363872          | 0.286056                          | 0.0248161   |</pre>"
      ],
      "text/plain": [
       "| 341     | 2h 47m       | 0.363872          | 0.286056                          | 0.0248161   |"
      ]
     },
     "metadata": {},
     "output_type": "display_data"
    },
    {
     "data": {
      "text/html": [
       "<pre>| 342     | 2h 47m       | 0.363835          | 0.285989                          | 0.0248161   |</pre>"
      ],
      "text/plain": [
       "| 342     | 2h 47m       | 0.363835          | 0.285989                          | 0.0248161   |"
      ]
     },
     "metadata": {},
     "output_type": "display_data"
    },
    {
     "data": {
      "text/html": [
       "<pre>| 343     | 2h 48m       | 0.363808          | 0.285933                          | 0.0248161   |</pre>"
      ],
      "text/plain": [
       "| 343     | 2h 48m       | 0.363808          | 0.285933                          | 0.0248161   |"
      ]
     },
     "metadata": {},
     "output_type": "display_data"
    },
    {
     "data": {
      "text/html": [
       "<pre>| 344     | 2h 48m       | 0.363756          | 0.285849                          | 0.0248161   |</pre>"
      ],
      "text/plain": [
       "| 344     | 2h 48m       | 0.363756          | 0.285849                          | 0.0248161   |"
      ]
     },
     "metadata": {},
     "output_type": "display_data"
    },
    {
     "data": {
      "text/html": [
       "<pre>| 345     | 2h 49m       | 0.363747          | 0.285808                          | 0.0248161   |</pre>"
      ],
      "text/plain": [
       "| 345     | 2h 49m       | 0.363747          | 0.285808                          | 0.0248161   |"
      ]
     },
     "metadata": {},
     "output_type": "display_data"
    },
    {
     "data": {
      "text/html": [
       "<pre>| 346     | 2h 49m       | 0.363727          | 0.285757                          | 0.0248161   |</pre>"
      ],
      "text/plain": [
       "| 346     | 2h 49m       | 0.363727          | 0.285757                          | 0.0248161   |"
      ]
     },
     "metadata": {},
     "output_type": "display_data"
    },
    {
     "data": {
      "text/html": [
       "<pre>| 347     | 2h 50m       | 0.363693          | 0.285694                          | 0.0248161   |</pre>"
      ],
      "text/plain": [
       "| 347     | 2h 50m       | 0.363693          | 0.285694                          | 0.0248161   |"
      ]
     },
     "metadata": {},
     "output_type": "display_data"
    },
    {
     "data": {
      "text/html": [
       "<pre>| 348     | 2h 50m       | 0.36364           | 0.28561                           | 0.0248161   |</pre>"
      ],
      "text/plain": [
       "| 348     | 2h 50m       | 0.36364           | 0.28561                           | 0.0248161   |"
      ]
     },
     "metadata": {},
     "output_type": "display_data"
    },
    {
     "data": {
      "text/html": [
       "<pre>| 349     | 2h 51m       | 0.3636            | 0.285539                          | 0.0248161   |</pre>"
      ],
      "text/plain": [
       "| 349     | 2h 51m       | 0.3636            | 0.285539                          | 0.0248161   |"
      ]
     },
     "metadata": {},
     "output_type": "display_data"
    },
    {
     "data": {
      "text/html": [
       "<pre>| 350     | 2h 51m       | 0.363595          | 0.285504                          | 0.0248161   |</pre>"
      ],
      "text/plain": [
       "| 350     | 2h 51m       | 0.363595          | 0.285504                          | 0.0248161   |"
      ]
     },
     "metadata": {},
     "output_type": "display_data"
    },
    {
     "data": {
      "text/html": [
       "<pre>| 351     | 2h 52m       | 0.363583          | 0.28546                           | 0.0248161   |</pre>"
      ],
      "text/plain": [
       "| 351     | 2h 52m       | 0.363583          | 0.28546                           | 0.0248161   |"
      ]
     },
     "metadata": {},
     "output_type": "display_data"
    },
    {
     "data": {
      "text/html": [
       "<pre>| 352     | 2h 52m       | 0.363544          | 0.285388                          | 0.0248161   |</pre>"
      ],
      "text/plain": [
       "| 352     | 2h 52m       | 0.363544          | 0.285388                          | 0.0248161   |"
      ]
     },
     "metadata": {},
     "output_type": "display_data"
    },
    {
     "data": {
      "text/html": [
       "<pre>| 353     | 2h 53m       | 0.36353           | 0.285344                          | 0.0248161   |</pre>"
      ],
      "text/plain": [
       "| 353     | 2h 53m       | 0.36353           | 0.285344                          | 0.0248161   |"
      ]
     },
     "metadata": {},
     "output_type": "display_data"
    },
    {
     "data": {
      "text/html": [
       "<pre>| 354     | 2h 53m       | 0.363462          | 0.285244                          | 0.0248161   |</pre>"
      ],
      "text/plain": [
       "| 354     | 2h 53m       | 0.363462          | 0.285244                          | 0.0248161   |"
      ]
     },
     "metadata": {},
     "output_type": "display_data"
    },
    {
     "data": {
      "text/html": [
       "<pre>| 355     | 2h 54m       | 0.363445          | 0.285197                          | 0.0248161   |</pre>"
      ],
      "text/plain": [
       "| 355     | 2h 54m       | 0.363445          | 0.285197                          | 0.0248161   |"
      ]
     },
     "metadata": {},
     "output_type": "display_data"
    },
    {
     "data": {
      "text/html": [
       "<pre>| 356     | 2h 54m       | 0.363408          | 0.285132                          | 0.0248161   |</pre>"
      ],
      "text/plain": [
       "| 356     | 2h 54m       | 0.363408          | 0.285132                          | 0.0248161   |"
      ]
     },
     "metadata": {},
     "output_type": "display_data"
    },
    {
     "data": {
      "text/html": [
       "<pre>| 357     | 2h 55m       | 0.36339           | 0.285085                          | 0.0248161   |</pre>"
      ],
      "text/plain": [
       "| 357     | 2h 55m       | 0.36339           | 0.285085                          | 0.0248161   |"
      ]
     },
     "metadata": {},
     "output_type": "display_data"
    },
    {
     "data": {
      "text/html": [
       "<pre>| 358     | 2h 56m       | 0.363375          | 0.28504                           | 0.0248161   |</pre>"
      ],
      "text/plain": [
       "| 358     | 2h 56m       | 0.363375          | 0.28504                           | 0.0248161   |"
      ]
     },
     "metadata": {},
     "output_type": "display_data"
    },
    {
     "data": {
      "text/html": [
       "<pre>| 359     | 2h 56m       | 0.363334          | 0.284969                          | 0.0248161   |</pre>"
      ],
      "text/plain": [
       "| 359     | 2h 56m       | 0.363334          | 0.284969                          | 0.0248161   |"
      ]
     },
     "metadata": {},
     "output_type": "display_data"
    },
    {
     "data": {
      "text/html": [
       "<pre>| 360     | 2h 57m       | 0.363298          | 0.284904                          | 0.0248161   |</pre>"
      ],
      "text/plain": [
       "| 360     | 2h 57m       | 0.363298          | 0.284904                          | 0.0248161   |"
      ]
     },
     "metadata": {},
     "output_type": "display_data"
    },
    {
     "data": {
      "text/html": [
       "<pre>| 361     | 2h 57m       | 0.363274          | 0.284852                          | 0.0248161   |</pre>"
      ],
      "text/plain": [
       "| 361     | 2h 57m       | 0.363274          | 0.284852                          | 0.0248161   |"
      ]
     },
     "metadata": {},
     "output_type": "display_data"
    },
    {
     "data": {
      "text/html": [
       "<pre>| 362     | 2h 58m       | 0.363256          | 0.284802                          | 0.0248161   |</pre>"
      ],
      "text/plain": [
       "| 362     | 2h 58m       | 0.363256          | 0.284802                          | 0.0248161   |"
      ]
     },
     "metadata": {},
     "output_type": "display_data"
    },
    {
     "data": {
      "text/html": [
       "<pre>| 363     | 2h 58m       | 0.363227          | 0.284742                          | 0.0248161   |</pre>"
      ],
      "text/plain": [
       "| 363     | 2h 58m       | 0.363227          | 0.284742                          | 0.0248161   |"
      ]
     },
     "metadata": {},
     "output_type": "display_data"
    },
    {
     "data": {
      "text/html": [
       "<pre>| 364     | 2h 59m       | 0.363181          | 0.284666                          | 0.0248161   |</pre>"
      ],
      "text/plain": [
       "| 364     | 2h 59m       | 0.363181          | 0.284666                          | 0.0248161   |"
      ]
     },
     "metadata": {},
     "output_type": "display_data"
    },
    {
     "data": {
      "text/html": [
       "<pre>| 365     | 2h 59m       | 0.363173          | 0.284627                          | 0.0248161   |</pre>"
      ],
      "text/plain": [
       "| 365     | 2h 59m       | 0.363173          | 0.284627                          | 0.0248161   |"
      ]
     },
     "metadata": {},
     "output_type": "display_data"
    },
    {
     "data": {
      "text/html": [
       "<pre>| 366     | 3h 0m        | 0.36314           | 0.284565                          | 0.0248161   |</pre>"
      ],
      "text/plain": [
       "| 366     | 3h 0m        | 0.36314           | 0.284565                          | 0.0248161   |"
      ]
     },
     "metadata": {},
     "output_type": "display_data"
    },
    {
     "data": {
      "text/html": [
       "<pre>| 367     | 3h 0m        | 0.363103          | 0.284496                          | 0.0248161   |</pre>"
      ],
      "text/plain": [
       "| 367     | 3h 0m        | 0.363103          | 0.284496                          | 0.0248161   |"
      ]
     },
     "metadata": {},
     "output_type": "display_data"
    },
    {
     "data": {
      "text/html": [
       "<pre>| 368     | 3h 1m        | 0.363074          | 0.284439                          | 0.0248161   |</pre>"
      ],
      "text/plain": [
       "| 368     | 3h 1m        | 0.363074          | 0.284439                          | 0.0248161   |"
      ]
     },
     "metadata": {},
     "output_type": "display_data"
    },
    {
     "data": {
      "text/html": [
       "<pre>| 369     | 3h 1m        | 0.363068          | 0.284402                          | 0.0248161   |</pre>"
      ],
      "text/plain": [
       "| 369     | 3h 1m        | 0.363068          | 0.284402                          | 0.0248161   |"
      ]
     },
     "metadata": {},
     "output_type": "display_data"
    },
    {
     "data": {
      "text/html": [
       "<pre>| 370     | 3h 2m        | 0.362993          | 0.284301                          | 0.0248161   |</pre>"
      ],
      "text/plain": [
       "| 370     | 3h 2m        | 0.362993          | 0.284301                          | 0.0248161   |"
      ]
     },
     "metadata": {},
     "output_type": "display_data"
    },
    {
     "data": {
      "text/html": [
       "<pre>| 371     | 3h 2m        | 0.363011          | 0.28429                           | 0.0248161   |</pre>"
      ],
      "text/plain": [
       "| 371     | 3h 2m        | 0.363011          | 0.28429                           | 0.0248161   |"
      ]
     },
     "metadata": {},
     "output_type": "display_data"
    },
    {
     "data": {
      "text/html": [
       "<pre>| 372     | 3h 2m        | 0.36296           | 0.284209                          | 0.0248161   |</pre>"
      ],
      "text/plain": [
       "| 372     | 3h 2m        | 0.36296           | 0.284209                          | 0.0248161   |"
      ]
     },
     "metadata": {},
     "output_type": "display_data"
    },
    {
     "data": {
      "text/html": [
       "<pre>| 373     | 3h 3m        | 0.362956          | 0.284175                          | 0.0248161   |</pre>"
      ],
      "text/plain": [
       "| 373     | 3h 3m        | 0.362956          | 0.284175                          | 0.0248161   |"
      ]
     },
     "metadata": {},
     "output_type": "display_data"
    },
    {
     "data": {
      "text/html": [
       "<pre>| 374     | 3h 3m        | 0.362955          | 0.284146                          | 0.0248161   |</pre>"
      ],
      "text/plain": [
       "| 374     | 3h 3m        | 0.362955          | 0.284146                          | 0.0248161   |"
      ]
     },
     "metadata": {},
     "output_type": "display_data"
    },
    {
     "data": {
      "text/html": [
       "<pre>| 375     | 3h 4m        | 0.36293           | 0.284094                          | 0.0248161   |</pre>"
      ],
      "text/plain": [
       "| 375     | 3h 4m        | 0.36293           | 0.284094                          | 0.0248161   |"
      ]
     },
     "metadata": {},
     "output_type": "display_data"
    },
    {
     "data": {
      "text/html": [
       "<pre>| 376     | 3h 4m        | 0.362887          | 0.284021                          | 0.0248161   |</pre>"
      ],
      "text/plain": [
       "| 376     | 3h 4m        | 0.362887          | 0.284021                          | 0.0248161   |"
      ]
     },
     "metadata": {},
     "output_type": "display_data"
    },
    {
     "data": {
      "text/html": [
       "<pre>| 377     | 3h 5m        | 0.362869          | 0.283973                          | 0.0248161   |</pre>"
      ],
      "text/plain": [
       "| 377     | 3h 5m        | 0.362869          | 0.283973                          | 0.0248161   |"
      ]
     },
     "metadata": {},
     "output_type": "display_data"
    },
    {
     "data": {
      "text/html": [
       "<pre>| 378     | 3h 5m        | 0.36283           | 0.283906                          | 0.0248161   |</pre>"
      ],
      "text/plain": [
       "| 378     | 3h 5m        | 0.36283           | 0.283906                          | 0.0248161   |"
      ]
     },
     "metadata": {},
     "output_type": "display_data"
    },
    {
     "data": {
      "text/html": [
       "<pre>| 379     | 3h 6m        | 0.362801          | 0.283845                          | 0.0248161   |</pre>"
      ],
      "text/plain": [
       "| 379     | 3h 6m        | 0.362801          | 0.283845                          | 0.0248161   |"
      ]
     },
     "metadata": {},
     "output_type": "display_data"
    },
    {
     "data": {
      "text/html": [
       "<pre>| 380     | 3h 6m        | 0.362754          | 0.28377                           | 0.0248161   |</pre>"
      ],
      "text/plain": [
       "| 380     | 3h 6m        | 0.362754          | 0.28377                           | 0.0248161   |"
      ]
     },
     "metadata": {},
     "output_type": "display_data"
    },
    {
     "data": {
      "text/html": [
       "<pre>| 381     | 3h 7m        | 0.362736          | 0.283723                          | 0.0248161   |</pre>"
      ],
      "text/plain": [
       "| 381     | 3h 7m        | 0.362736          | 0.283723                          | 0.0248161   |"
      ]
     },
     "metadata": {},
     "output_type": "display_data"
    },
    {
     "data": {
      "text/html": [
       "<pre>| 382     | 3h 7m        | 0.362737          | 0.283694                          | 0.0248161   |</pre>"
      ],
      "text/plain": [
       "| 382     | 3h 7m        | 0.362737          | 0.283694                          | 0.0248161   |"
      ]
     },
     "metadata": {},
     "output_type": "display_data"
    },
    {
     "data": {
      "text/html": [
       "<pre>| 383     | 3h 8m        | 0.362686          | 0.283617                          | 0.0248161   |</pre>"
      ],
      "text/plain": [
       "| 383     | 3h 8m        | 0.362686          | 0.283617                          | 0.0248161   |"
      ]
     },
     "metadata": {},
     "output_type": "display_data"
    },
    {
     "data": {
      "text/html": [
       "<pre>| 384     | 3h 8m        | 0.362684          | 0.283587                          | 0.0248161   |</pre>"
      ],
      "text/plain": [
       "| 384     | 3h 8m        | 0.362684          | 0.283587                          | 0.0248161   |"
      ]
     },
     "metadata": {},
     "output_type": "display_data"
    },
    {
     "data": {
      "text/html": [
       "<pre>| 385     | 3h 9m        | 0.362631          | 0.283506                          | 0.0248161   |</pre>"
      ],
      "text/plain": [
       "| 385     | 3h 9m        | 0.362631          | 0.283506                          | 0.0248161   |"
      ]
     },
     "metadata": {},
     "output_type": "display_data"
    },
    {
     "data": {
      "text/html": [
       "<pre>| 386     | 3h 9m        | 0.362613          | 0.283461                          | 0.0248161   |</pre>"
      ],
      "text/plain": [
       "| 386     | 3h 9m        | 0.362613          | 0.283461                          | 0.0248161   |"
      ]
     },
     "metadata": {},
     "output_type": "display_data"
    },
    {
     "data": {
      "text/html": [
       "<pre>| 387     | 3h 10m       | 0.362609          | 0.28343                           | 0.0248161   |</pre>"
      ],
      "text/plain": [
       "| 387     | 3h 10m       | 0.362609          | 0.28343                           | 0.0248161   |"
      ]
     },
     "metadata": {},
     "output_type": "display_data"
    },
    {
     "data": {
      "text/html": [
       "<pre>| 388     | 3h 10m       | 0.362607          | 0.2834                            | 0.0248161   |</pre>"
      ],
      "text/plain": [
       "| 388     | 3h 10m       | 0.362607          | 0.2834                            | 0.0248161   |"
      ]
     },
     "metadata": {},
     "output_type": "display_data"
    },
    {
     "data": {
      "text/html": [
       "<pre>| 389     | 3h 11m       | 0.362559          | 0.283326                          | 0.0248161   |</pre>"
      ],
      "text/plain": [
       "| 389     | 3h 11m       | 0.362559          | 0.283326                          | 0.0248161   |"
      ]
     },
     "metadata": {},
     "output_type": "display_data"
    },
    {
     "data": {
      "text/html": [
       "<pre>| 390     | 3h 11m       | 0.362526          | 0.283262                          | 0.0248161   |</pre>"
      ],
      "text/plain": [
       "| 390     | 3h 11m       | 0.362526          | 0.283262                          | 0.0248161   |"
      ]
     },
     "metadata": {},
     "output_type": "display_data"
    },
    {
     "data": {
      "text/html": [
       "<pre>| 391     | 3h 12m       | 0.36253           | 0.283237                          | 0.0248161   |</pre>"
      ],
      "text/plain": [
       "| 391     | 3h 12m       | 0.36253           | 0.283237                          | 0.0248161   |"
      ]
     },
     "metadata": {},
     "output_type": "display_data"
    },
    {
     "data": {
      "text/html": [
       "<pre>| 392     | 3h 12m       | 0.362504          | 0.283183                          | 0.0248161   |</pre>"
      ],
      "text/plain": [
       "| 392     | 3h 12m       | 0.362504          | 0.283183                          | 0.0248161   |"
      ]
     },
     "metadata": {},
     "output_type": "display_data"
    },
    {
     "data": {
      "text/html": [
       "<pre>| 393     | 3h 13m       | 0.362457          | 0.283106                          | 0.0248161   |</pre>"
      ],
      "text/plain": [
       "| 393     | 3h 13m       | 0.362457          | 0.283106                          | 0.0248161   |"
      ]
     },
     "metadata": {},
     "output_type": "display_data"
    },
    {
     "data": {
      "text/html": [
       "<pre>| 394     | 3h 13m       | 0.362439          | 0.283059                          | 0.0248161   |</pre>"
      ],
      "text/plain": [
       "| 394     | 3h 13m       | 0.362439          | 0.283059                          | 0.0248161   |"
      ]
     },
     "metadata": {},
     "output_type": "display_data"
    },
    {
     "data": {
      "text/html": [
       "<pre>| 395     | 3h 14m       | 0.362422          | 0.283014                          | 0.0248161   |</pre>"
      ],
      "text/plain": [
       "| 395     | 3h 14m       | 0.362422          | 0.283014                          | 0.0248161   |"
      ]
     },
     "metadata": {},
     "output_type": "display_data"
    },
    {
     "data": {
      "text/html": [
       "<pre>| 396     | 3h 14m       | 0.362371          | 0.282935                          | 0.0248161   |</pre>"
      ],
      "text/plain": [
       "| 396     | 3h 14m       | 0.362371          | 0.282935                          | 0.0248161   |"
      ]
     },
     "metadata": {},
     "output_type": "display_data"
    },
    {
     "data": {
      "text/html": [
       "<pre>| 397     | 3h 15m       | 0.362363          | 0.2829                            | 0.0248161   |</pre>"
      ],
      "text/plain": [
       "| 397     | 3h 15m       | 0.362363          | 0.2829                            | 0.0248161   |"
      ]
     },
     "metadata": {},
     "output_type": "display_data"
    },
    {
     "data": {
      "text/html": [
       "<pre>| 398     | 3h 15m       | 0.36235           | 0.282859                          | 0.0248161   |</pre>"
      ],
      "text/plain": [
       "| 398     | 3h 15m       | 0.36235           | 0.282859                          | 0.0248161   |"
      ]
     },
     "metadata": {},
     "output_type": "display_data"
    },
    {
     "data": {
      "text/html": [
       "<pre>| 399     | 3h 16m       | 0.362326          | 0.282811                          | 0.0248161   |</pre>"
      ],
      "text/plain": [
       "| 399     | 3h 16m       | 0.362326          | 0.282811                          | 0.0248161   |"
      ]
     },
     "metadata": {},
     "output_type": "display_data"
    },
    {
     "data": {
      "text/html": [
       "<pre>| 400     | 3h 16m       | 0.362301          | 0.282758                          | 0.0248161   |</pre>"
      ],
      "text/plain": [
       "| 400     | 3h 16m       | 0.362301          | 0.282758                          | 0.0248161   |"
      ]
     },
     "metadata": {},
     "output_type": "display_data"
    },
    {
     "data": {
      "text/html": [
       "<pre>+---------+--------------+-------------------+-----------------------------------+-------------+</pre>"
      ],
      "text/plain": [
       "+---------+--------------+-------------------+-----------------------------------+-------------+"
      ]
     },
     "metadata": {},
     "output_type": "display_data"
    },
    {
     "data": {
      "text/html": [
       "<pre>Optimization Complete: Maximum number of passes through the data reached.</pre>"
      ],
      "text/plain": [
       "Optimization Complete: Maximum number of passes through the data reached."
      ]
     },
     "metadata": {},
     "output_type": "display_data"
    },
    {
     "data": {
      "text/html": [
       "<pre>Computing final objective value and training Predictive Error.</pre>"
      ],
      "text/plain": [
       "Computing final objective value and training Predictive Error."
      ]
     },
     "metadata": {},
     "output_type": "display_data"
    },
    {
     "data": {
      "text/html": [
       "<pre>       Final objective value: 0.358339</pre>"
      ],
      "text/plain": [
       "       Final objective value: 0.358339"
      ]
     },
     "metadata": {},
     "output_type": "display_data"
    },
    {
     "data": {
      "text/html": [
       "<pre>       Final training Predictive Error: 0.278796</pre>"
      ],
      "text/plain": [
       "       Final training Predictive Error: 0.278796"
      ]
     },
     "metadata": {},
     "output_type": "display_data"
    }
   ],
   "source": [
    "# training the model\n",
    "model = gl.recommender.factorization_recommender.create(kn_listen, \n",
    "                                                        binary_target = True, \n",
    "                                                        num_factors = n_factors,\n",
    "                                                        user_id = \"user_id\", \n",
    "                                                        item_id = \"media_id\", \n",
    "                                                        target  = \"is_listened\",\n",
    "                                                        user_data = user_data, \n",
    "                                                        item_data = song_data,\n",
    "                                                        max_iterations = m_epochs,\n",
    "                                                        regularization = regular)"
   ]
  },
  {
   "cell_type": "code",
   "execution_count": 16,
   "metadata": {
    "collapsed": false,
    "scrolled": true
   },
   "outputs": [
    {
     "data": {
      "text/html": [
       "<div>\n",
       "<style>\n",
       "    .dataframe thead tr:only-child th {\n",
       "        text-align: right;\n",
       "    }\n",
       "\n",
       "    .dataframe thead th {\n",
       "        text-align: left;\n",
       "    }\n",
       "\n",
       "    .dataframe tbody tr th {\n",
       "        vertical-align: top;\n",
       "    }\n",
       "</style>\n",
       "<table border=\"1\" class=\"dataframe\">\n",
       "  <thead>\n",
       "    <tr style=\"text-align: right;\">\n",
       "      <th></th>\n",
       "      <th>sample_id</th>\n",
       "      <th>is_listened</th>\n",
       "    </tr>\n",
       "  </thead>\n",
       "  <tbody>\n",
       "    <tr>\n",
       "      <th>2332218</th>\n",
       "      <td>0</td>\n",
       "      <td>0.999980</td>\n",
       "    </tr>\n",
       "    <tr>\n",
       "      <th>2182792</th>\n",
       "      <td>1</td>\n",
       "      <td>0.342784</td>\n",
       "    </tr>\n",
       "    <tr>\n",
       "      <th>2092769</th>\n",
       "      <td>2</td>\n",
       "      <td>0.261024</td>\n",
       "    </tr>\n",
       "  </tbody>\n",
       "</table>\n",
       "</div>"
      ],
      "text/plain": [
       "         sample_id  is_listened\n",
       "2332218          0     0.999980\n",
       "2182792          1     0.342784\n",
       "2092769          2     0.261024"
      ]
     },
     "execution_count": 16,
     "metadata": {},
     "output_type": "execute_result"
    }
   ],
   "source": [
    "# forecasting\n",
    "pred = pd.DataFrame()\n",
    "pred[\"sample_id\"] = un.sample_id.astype(int)\n",
    "pred[\"is_listened\"] = model.predict(un_listen)\n",
    "pred = pred.sort_values(\"sample_id\")\n",
    "pred.head(3)"
   ]
  },
  {
   "cell_type": "code",
   "execution_count": 17,
   "metadata": {
    "collapsed": true,
    "scrolled": true
   },
   "outputs": [],
   "source": [
    "# saving prediction vector\n",
    "pred.to_csv(path + \"pred_unknown/factorization_full_api_noAAG_50f_300i.csv\", index = False)"
   ]
  },
  {
   "cell_type": "code",
   "execution_count": null,
   "metadata": {
    "collapsed": true
   },
   "outputs": [],
   "source": []
  }
 ],
 "metadata": {
  "anaconda-cloud": {},
  "kernelspec": {
   "display_name": "Python 2",
   "language": "python",
   "name": "python2"
  },
  "language_info": {
   "codemirror_mode": {
    "name": "ipython",
    "version": 2
   },
   "file_extension": ".py",
   "mimetype": "text/x-python",
   "name": "python",
   "nbconvert_exporter": "python",
   "pygments_lexer": "ipython2",
   "version": "2.7.13"
  }
 },
 "nbformat": 4,
 "nbformat_minor": 1
}
