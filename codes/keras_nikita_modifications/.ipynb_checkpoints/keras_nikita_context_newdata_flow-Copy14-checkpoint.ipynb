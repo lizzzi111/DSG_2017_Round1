{
 "cells": [
  {
   "cell_type": "code",
   "execution_count": 33,
   "metadata": {
    "collapsed": true
   },
   "outputs": [
    {
     "name": "stdout",
     "output_type": "stream",
     "text": [
      "Collecting imblearn\n",
      "  Downloading imblearn-0.0-py2.py3-none-any.whl\n",
      "Collecting imbalanced-learn (from imblearn)\n",
      "  Downloading imbalanced-learn-0.2.1.tar.gz (90kB)\n",
      "\u001b[K    100% |████████████████████████████████| 92kB 660kB/s \n",
      "\u001b[?25hRequirement already satisfied: scipy>=0.17.0 in /anaconda/lib/python3.5/site-packages (from imbalanced-learn->imblearn)\n",
      "Requirement already satisfied: numpy>=1.10.4 in /anaconda/lib/python3.5/site-packages (from imbalanced-learn->imblearn)\n",
      "Requirement already satisfied: scikit-learn>=0.17.1 in /anaconda/lib/python3.5/site-packages (from imbalanced-learn->imblearn)\n",
      "Building wheels for collected packages: imbalanced-learn\n",
      "  Running setup.py bdist_wheel for imbalanced-learn ... \u001b[?25l-\b \b\\\b \b|\b \b/\b \bdone\n",
      "\u001b[?25h  Stored in directory: /Users/Kozodoi/Library/Caches/pip/wheels/b8/20/bd/0b775f7e5d413ac72562b1a5126598bcb6e0eae10da659be9f\n",
      "Successfully built imbalanced-learn\n",
      "Installing collected packages: imbalanced-learn, imblearn\n",
      "Successfully installed imbalanced-learn-0.2.1 imblearn-0.0\n"
     ]
    }
   ],
   "source": [
    "# libraries\n",
    "#!pip install rpy2\n",
    "#!pip install pandas\n",
    "#!pip install keras\n",
    "#!pip install imblearn"
   ]
  },
  {
   "cell_type": "code",
   "execution_count": 1,
   "metadata": {
    "collapsed": false
   },
   "outputs": [
    {
     "name": "stderr",
     "output_type": "stream",
     "text": [
      "Using TensorFlow backend.\n"
     ]
    }
   ],
   "source": [
    "# libraries\n",
    "import rpy2.robjects as robjects\n",
    "import pandas as pd\n",
    "import keras\n",
    "from keras.layers import Input, Dense, Embedding, concatenate, Flatten, Dropout, Reshape\n",
    "from keras.layers.normalization import BatchNormalization\n",
    "from keras.models import Model\n",
    "from keras.regularizers import l2\n",
    "from keras.optimizers import Adam\n",
    "from sklearn import metrics"
   ]
  },
  {
   "cell_type": "markdown",
   "metadata": {},
   "source": [
    "## 1. DATA PREPARATION"
   ]
  },
  {
   "cell_type": "code",
   "execution_count": 2,
   "metadata": {
    "collapsed": false
   },
   "outputs": [
    {
     "data": {
      "text/plain": [
       "(2339529, 35)"
      ]
     },
     "execution_count": 2,
     "metadata": {},
     "output_type": "execute_result"
    }
   ],
   "source": [
    "# load the data\n",
    "path = \"/Users/Kozodoi/Documents/Competitions/DSG_2017/\"\n",
    "data = pd.read_csv(path + \"data/data_flow.csv\")\n",
    "data.shape"
   ]
  },
  {
   "cell_type": "code",
   "execution_count": 3,
   "metadata": {
    "collapsed": true
   },
   "outputs": [],
   "source": [
    "# add observation index\n",
    "data[\"row_index\"] = data.index"
   ]
  },
  {
   "cell_type": "code",
   "execution_count": 4,
   "metadata": {
    "collapsed": false
   },
   "outputs": [
    {
     "name": "stdout",
     "output_type": "stream",
     "text": [
      "train: (2279790, 36)\n",
      "test: (39821, 36)\n",
      "known: (2319611, 36)\n",
      "unknown: (19918, 36)\n"
     ]
    }
   ],
   "source": [
    "# data partitioning\n",
    "tr = data.query(\"dataset == 'train'\")\n",
    "ts = data.query(\"dataset == 'test'\")\n",
    "kn = data.query(\"dataset != 'unknown'\")\n",
    "un = data.query(\"dataset == 'unknown'\")\n",
    "\n",
    "# print data sizes\n",
    "print(\"train: \"   + str(tr.shape))\n",
    "print(\"test: \"    + str(ts.shape))\n",
    "print(\"known: \"   + str(kn.shape))\n",
    "print(\"unknown: \" + str(un.shape))"
   ]
  },
  {
   "cell_type": "code",
   "execution_count": 5,
   "metadata": {
    "collapsed": false
   },
   "outputs": [
    {
     "name": "stdout",
     "output_type": "stream",
     "text": [
      "Index(['user_id', 'media_id', 'artist_id', 'genre_id', 'context_type',\n",
      "       'media_duration', 'listen_type', 'user_gender', 'user_age',\n",
      "       'is_listened', 'sample_id', 'dataset', 'session_id',\n",
      "       'song_session_position', 'first_flow', 'time_diff', 'hours',\n",
      "       'is_listened_lag', 'genre_plays', 'genre_skips', 'artist_plays',\n",
      "       'artist_skips', 'album_plays', 'album_skips', 'song_plays',\n",
      "       'song_skips', 'user_ratio_flow', 'user_ratio_full', 'genre_ratio',\n",
      "       'artist_ratio', 'song_ratio', 'platform_name1', 'platform_name2',\n",
      "       'platform_family1', 'platform_family2', 'row_index'],\n",
      "      dtype='object')\n"
     ]
    }
   ],
   "source": [
    "# List numeric features used as predictors\n",
    "print(data.columns)\n",
    "numVars = [\"user_ratio_flow\", \"user_ratio_full\", \"listen_type\", \"first_flow\",\n",
    "           \"song_plays\", \"artist_plays\", \"platform_name1\", \"platform_name2\",\n",
    "           \"song_skips\", \"artist_skips\", \"song_session_position\", \"time_diff\"] \n",
    "\n",
    "# Create the data input matrix that can be passed to the keras model\n",
    "tr_data = tr[[column for column in tr.columns if column in numVars]].as_matrix()\n",
    "ts_data = ts[[column for column in ts.columns if column in numVars]].as_matrix()\n",
    "kn_data = kn[[column for column in kn.columns if column in numVars]].as_matrix()\n",
    "un_data = un[[column for column in un.columns if column in numVars]].as_matrix()"
   ]
  },
  {
   "cell_type": "markdown",
   "metadata": {},
   "source": [
    "## 2. MODELING"
   ]
  },
  {
   "cell_type": "markdown",
   "metadata": {},
   "source": [
    "### 2.1. INITIALIZING"
   ]
  },
  {
   "cell_type": "code",
   "execution_count": 7,
   "metadata": {
    "collapsed": false
   },
   "outputs": [],
   "source": [
    "# Create an input layer with embeddings\n",
    "user_in    = Input(shape = (1,), dtype = 'int64',   name = \"user_in\")\n",
    "song_in    = Input(shape = (1,), dtype = 'int64',   name = \"song_in\")\n",
    "artist_in  = Input(shape = (1,), dtype = 'int64',   name = \"artist_in\")\n",
    "genre_in   = Input(shape = (1,), dtype = 'int64',   name = \"genre_in\")\n",
    "context_in = Input(shape = (1,), dtype = 'int64',   name = \"context_in\")\n",
    "\n",
    "# Create an input layer with numeric features\n",
    "data_in = Input(shape = (tr_data.shape[1],), name = \"data_in\")\n",
    "\n",
    "# Counting number of unique ID values\n",
    "n_users   = tr.user_id.nunique()\n",
    "n_songs   = tr.media_id.nunique()\n",
    "n_artists = tr.artist_id.nunique()\n",
    "n_genres  = tr.genre_id.nunique()\n",
    "n_context = tr.context_type.nunique()\n",
    "\n",
    "# Create an embedding assigning k latent factors to each ID\n",
    "u = Embedding(n_users,   100, input_length = 1, embeddings_regularizer = l2(1e-5))(user_in)\n",
    "s = Embedding(n_songs,   100, input_length = 1, embeddings_regularizer = l2(1e-5))(song_in)\n",
    "a = Embedding(n_artists, 100, input_length = 1, embeddings_regularizer = l2(1e-5))(artist_in)\n",
    "g = Embedding(n_genres,   50, input_length = 1, embeddings_regularizer = l2(1e-5))(genre_in)\n",
    "c = Embedding(n_context, 100, input_length = 1, embeddings_regularizer = l2(1e-5))(context_in)\n",
    "\n",
    "# Layer with embeddings\n",
    "embedding_input = concatenate([u, g, c])\n",
    "embedding_input = Flatten()(embedding_input)\n",
    "embedding_dense = Dense(200, activation = \"relu\")(embedding_input)\n",
    "x = Dropout(0.5)(embedding_dense)\n",
    "x = BatchNormalization()(x)\n",
    "x = Dense(100, activation='relu')(x) \n",
    "x = Dropout(0.5)(x)\n",
    "output = Dense(1, activation = \"sigmoid\")(x)\n",
    "\n",
    "# Specify the model that we want to use\n",
    "model = Model([user_in, genre_in, context_in], output)\n",
    "model.compile(optimizer = \"Adagrad\", loss = \"binary_crossentropy\", metrics = ['accuracy'])"
   ]
  },
  {
   "cell_type": "markdown",
   "metadata": {},
   "source": [
    "### 2.2. FIRST STAGE"
   ]
  },
  {
   "cell_type": "code",
   "execution_count": 10,
   "metadata": {
    "collapsed": false
   },
   "outputs": [
    {
     "name": "stdout",
     "output_type": "stream",
     "text": [
      "Train on 2279790 samples, validate on 39821 samples\n",
      "Epoch 1/10\n",
      "2279790/2279790 [==============================] - 59s - loss: 0.4835 - acc: 0.7682 - val_loss: 0.6692 - val_acc: 0.6439\n",
      "Epoch 2/10\n",
      "2279790/2279790 [==============================] - 60s - loss: 0.4781 - acc: 0.7708 - val_loss: 0.6443 - val_acc: 0.6661\n",
      "Epoch 3/10\n",
      "2279790/2279790 [==============================] - 60s - loss: 0.4739 - acc: 0.7729 - val_loss: 0.6308 - val_acc: 0.6777\n",
      "Epoch 4/10\n",
      "2279790/2279790 [==============================] - 66s - loss: 0.4714 - acc: 0.7739 - val_loss: 0.6131 - val_acc: 0.6759\n",
      "Epoch 5/10\n",
      "2279790/2279790 [==============================] - 81s - loss: 0.4697 - acc: 0.7748 - val_loss: 0.6045 - val_acc: 0.6786\n",
      "Epoch 6/10\n",
      "2279790/2279790 [==============================] - 105s - loss: 0.4678 - acc: 0.7754 - val_loss: 0.6053 - val_acc: 0.6760\n",
      "Epoch 7/10\n",
      "2279790/2279790 [==============================] - 99s - loss: 0.4667 - acc: 0.7761 - val_loss: 0.6221 - val_acc: 0.6683\n",
      "Epoch 8/10\n",
      "2279790/2279790 [==============================] - 92s - loss: 0.4656 - acc: 0.7765 - val_loss: 0.6193 - val_acc: 0.6801\n",
      "Epoch 9/10\n",
      "2279790/2279790 [==============================] - 92s - loss: 0.4642 - acc: 0.7771 - val_loss: 0.6414 - val_acc: 0.6641\n",
      "Epoch 10/10\n",
      "2279790/2279790 [==============================] - 90s - loss: 0.4632 - acc: 0.7775 - val_loss: 0.6354 - val_acc: 0.6791\n"
     ]
    },
    {
     "data": {
      "text/plain": [
       "<keras.callbacks.History at 0x121e687b8>"
      ]
     },
     "execution_count": 10,
     "metadata": {},
     "output_type": "execute_result"
    }
   ],
   "source": [
    "# run the estimations on training data\n",
    "model.fit([tr.user_id, tr.genre_id, tr.context_type], tr.is_listened, \n",
    "validation_data = ([ts.user_id, ts.genre_id, ts.context_type], ts.is_listened),\n",
    "batch_size = int(len(tr)/100), epochs = 10)"
   ]
  },
  {
   "cell_type": "code",
   "execution_count": 12,
   "metadata": {
    "collapsed": false
   },
   "outputs": [
    {
     "data": {
      "text/html": [
       "<div>\n",
       "<table border=\"1\" class=\"dataframe\">\n",
       "  <thead>\n",
       "    <tr style=\"text-align: right;\">\n",
       "      <th></th>\n",
       "      <th>row_index</th>\n",
       "      <th>is_listened</th>\n",
       "    </tr>\n",
       "  </thead>\n",
       "  <tbody>\n",
       "    <tr>\n",
       "      <th>2167</th>\n",
       "      <td>2167</td>\n",
       "      <td>0.993089</td>\n",
       "    </tr>\n",
       "    <tr>\n",
       "      <th>2168</th>\n",
       "      <td>2168</td>\n",
       "      <td>0.971801</td>\n",
       "    </tr>\n",
       "    <tr>\n",
       "      <th>2240</th>\n",
       "      <td>2240</td>\n",
       "      <td>0.976261</td>\n",
       "    </tr>\n",
       "    <tr>\n",
       "      <th>4314</th>\n",
       "      <td>4314</td>\n",
       "      <td>0.981280</td>\n",
       "    </tr>\n",
       "    <tr>\n",
       "      <th>4321</th>\n",
       "      <td>4321</td>\n",
       "      <td>0.988626</td>\n",
       "    </tr>\n",
       "  </tbody>\n",
       "</table>\n",
       "</div>"
      ],
      "text/plain": [
       "      row_index  is_listened\n",
       "2167       2167     0.993089\n",
       "2168       2168     0.971801\n",
       "2240       2240     0.976261\n",
       "4314       4314     0.981280\n",
       "4321       4321     0.988626"
      ]
     },
     "execution_count": 12,
     "metadata": {},
     "output_type": "execute_result"
    }
   ],
   "source": [
    "# predict validation data\n",
    "pred = pd.DataFrame()\n",
    "pred[\"row_index\"] = ts.row_index\n",
    "pred[\"is_listened\"] = model.predict([ts.user_id, ts.genre_id, ts.context_type])\n",
    "pred.to_csv(path + \"pred_valid/keras_newdata_flow_ugc_adagrad_10ep_nonum.csvxg_basic.csv\", index = False)\n",
    "pred.head(5)"
   ]
  },
  {
   "cell_type": "code",
   "execution_count": 13,
   "metadata": {
    "collapsed": false
   },
   "outputs": [
    {
     "data": {
      "text/plain": [
       "0.72576666638683152"
      ]
     },
     "execution_count": 13,
     "metadata": {},
     "output_type": "execute_result"
    }
   ],
   "source": [
    "# computing AUC\n",
    "metrics.roc_auc_score(ts.is_listened, pred.is_listened)"
   ]
  },
  {
   "cell_type": "markdown",
   "metadata": {},
   "source": [
    "### 2.3. SECOND STAGE"
   ]
  },
  {
   "cell_type": "code",
   "execution_count": 14,
   "metadata": {
    "collapsed": false
   },
   "outputs": [
    {
     "name": "stdout",
     "output_type": "stream",
     "text": [
      "Epoch 1/10\n",
      "2319611/2319611 [==============================] - 105s - loss: 0.4652 - acc: 0.7764   \n",
      "Epoch 2/10\n",
      "2319611/2319611 [==============================] - 110s - loss: 0.4649 - acc: 0.7762   \n",
      "Epoch 3/10\n",
      "2319611/2319611 [==============================] - 117s - loss: 0.4637 - acc: 0.7770   \n",
      "Epoch 4/10\n",
      "2319611/2319611 [==============================] - 101s - loss: 0.4629 - acc: 0.7771   \n",
      "Epoch 5/10\n",
      "2319611/2319611 [==============================] - 96s - loss: 0.4624 - acc: 0.7772    \n",
      "Epoch 6/10\n",
      "2319611/2319611 [==============================] - 96s - loss: 0.4616 - acc: 0.7780    \n",
      "Epoch 7/10\n",
      "2319611/2319611 [==============================] - 97s - loss: 0.4608 - acc: 0.7783    \n",
      "Epoch 8/10\n",
      "2319611/2319611 [==============================] - 106s - loss: 0.4598 - acc: 0.7788   \n",
      "Epoch 9/10\n",
      "2319611/2319611 [==============================] - 103s - loss: 0.4599 - acc: 0.7784   \n",
      "Epoch 10/10\n",
      "2319611/2319611 [==============================] - 104s - loss: 0.4589 - acc: 0.7791   \n"
     ]
    },
    {
     "data": {
      "text/plain": [
       "<keras.callbacks.History at 0x121e7b358>"
      ]
     },
     "execution_count": 14,
     "metadata": {},
     "output_type": "execute_result"
    }
   ],
   "source": [
    "# run the estimations on full known data\n",
    "model.fit([kn.user_id, kn.genre_id, kn.context_type], kn.is_listened,\n",
    "batch_size = int(kn.shape[0]/100), epochs = 10)"
   ]
  },
  {
   "cell_type": "code",
   "execution_count": 15,
   "metadata": {
    "collapsed": false
   },
   "outputs": [
    {
     "data": {
      "text/html": [
       "<div>\n",
       "<table border=\"1\" class=\"dataframe\">\n",
       "  <thead>\n",
       "    <tr style=\"text-align: right;\">\n",
       "      <th></th>\n",
       "      <th>sample_id</th>\n",
       "      <th>is_listened</th>\n",
       "    </tr>\n",
       "  </thead>\n",
       "  <tbody>\n",
       "    <tr>\n",
       "      <th>2332218</th>\n",
       "      <td>0</td>\n",
       "      <td>0.992312</td>\n",
       "    </tr>\n",
       "    <tr>\n",
       "      <th>2182792</th>\n",
       "      <td>1</td>\n",
       "      <td>0.352777</td>\n",
       "    </tr>\n",
       "    <tr>\n",
       "      <th>2092769</th>\n",
       "      <td>2</td>\n",
       "      <td>0.395647</td>\n",
       "    </tr>\n",
       "    <tr>\n",
       "      <th>1806368</th>\n",
       "      <td>3</td>\n",
       "      <td>0.332149</td>\n",
       "    </tr>\n",
       "    <tr>\n",
       "      <th>2018166</th>\n",
       "      <td>4</td>\n",
       "      <td>0.547626</td>\n",
       "    </tr>\n",
       "  </tbody>\n",
       "</table>\n",
       "</div>"
      ],
      "text/plain": [
       "         sample_id  is_listened\n",
       "2332218          0     0.992312\n",
       "2182792          1     0.352777\n",
       "2092769          2     0.395647\n",
       "1806368          3     0.332149\n",
       "2018166          4     0.547626"
      ]
     },
     "execution_count": 15,
     "metadata": {},
     "output_type": "execute_result"
    }
   ],
   "source": [
    "# predict unknown data\n",
    "pred = pd.DataFrame()\n",
    "pred[\"sample_id\"] = un.sample_id.astype(int)\n",
    "pred[\"is_listened\"] = model.predict([un.user_id, un.genre_id, un.context_type])\n",
    "pred = pred.sort_values(\"sample_id\")\n",
    "pred.to_csv(path + \"pred_unknown/keras_newdata_flow_ugc_adagrad_10ep_nonum.csv\", index = False)\n",
    "pred.head(5)"
   ]
  }
 ],
 "metadata": {
  "anaconda-cloud": {},
  "kernelspec": {
   "display_name": "Python [default]",
   "language": "python",
   "name": "python3"
  },
  "language_info": {
   "codemirror_mode": {
    "name": "ipython",
    "version": 3
   },
   "file_extension": ".py",
   "mimetype": "text/x-python",
   "name": "python",
   "nbconvert_exporter": "python",
   "pygments_lexer": "ipython3",
   "version": "3.5.2"
  }
 },
 "nbformat": 4,
 "nbformat_minor": 1
}
