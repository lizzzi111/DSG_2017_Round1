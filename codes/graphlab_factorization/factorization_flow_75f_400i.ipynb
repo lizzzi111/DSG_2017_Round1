{
 "cells": [
  {
   "cell_type": "markdown",
   "metadata": {},
   "source": [
    "# 1. LOADING"
   ]
  },
  {
   "cell_type": "code",
   "execution_count": 1,
   "metadata": {
    "collapsed": false,
    "scrolled": true
   },
   "outputs": [],
   "source": [
    "# import packages\n",
    "import pandas as pd\n",
    "import graphlab as gl\n",
    "from sklearn import metrics\n",
    "from scipy import stats"
   ]
  },
  {
   "cell_type": "code",
   "execution_count": 2,
   "metadata": {
    "collapsed": false,
    "scrolled": true
   },
   "outputs": [
    {
     "data": {
      "text/plain": [
       "(2339529, 61)"
      ]
     },
     "execution_count": 2,
     "metadata": {},
     "output_type": "execute_result"
    }
   ],
   "source": [
    "# load the data\n",
    "path = \"/Users/Kozodoi/Documents/Competitions/DSG_2017/\"\n",
    "data = pd.read_csv(path + \"data/data_flow.csv\")\n",
    "data.shape"
   ]
  },
  {
   "cell_type": "code",
   "execution_count": 3,
   "metadata": {
    "collapsed": false
   },
   "outputs": [],
   "source": [
    "# print variable names\n",
    "#data.columns"
   ]
  },
  {
   "cell_type": "markdown",
   "metadata": {},
   "source": [
    "# 2. DATA PREPARATION"
   ]
  },
  {
   "cell_type": "code",
   "execution_count": 4,
   "metadata": {
    "collapsed": false
   },
   "outputs": [],
   "source": [
    "# converting factors to strings\n",
    "data[\"user_id\"]   = data.user_id.astype(str)\n",
    "data[\"media_id\"]  = data.media_id.astype(str)\n",
    "data[\"album_id\"]  = data.album_id.astype(str)\n",
    "data[\"artist_id\"] = data.artist_id.astype(str)\n",
    "data[\"genre_id\"]  = data.genre_id.astype(str)\n",
    "data[\"context_type\"]    = data.context_type.astype(str)\n",
    "data[\"listen_type\"]     = data.listen_type.astype(str)\n",
    "data[\"first_flow\"]      = data.first_flow.astype(str)\n",
    "data[\"platform_name\"]   = data.platform_name.astype(str)\n",
    "data[\"platform_family\"] = data.platform_family.astype(str)\n",
    "data[\"user_gender\"]  = data.user_gender.astype(str)\n",
    "data[\"release_year\"] = data.release_year.astype(str)\n",
    "data[\"hour_of_day\"]  = data.hour_of_day.astype(str)\n",
    "data[\"weekday\"]      = data.weekday.astype(str)\n",
    "data[\"favorite_artist\"] = data.favorite_artist.astype(str)\n",
    "data[\"favorite_album\"]  = data.favorite_album.astype(str)\n",
    "data[\"song_lyrics_explicit\"]  = data.song_lyrics_explicit.astype(str)"
   ]
  },
  {
   "cell_type": "code",
   "execution_count": 5,
   "metadata": {
    "collapsed": false,
    "scrolled": true
   },
   "outputs": [
    {
     "name": "stdout",
     "output_type": "stream",
     "text": [
      "train: (2279790, 61)\n",
      "test: (39821, 61)\n",
      "known: (2319611, 61)\n",
      "unknown: (19918, 61)\n"
     ]
    }
   ],
   "source": [
    "# data partitioning\n",
    "tr = data.query(\"dataset == 'train'\")\n",
    "ts = data.query(\"dataset == 'test'\")\n",
    "kn = data.query(\"dataset != 'unknown'\")\n",
    "un = data.query(\"dataset == 'unknown'\")\n",
    "\n",
    "# print data sizes\n",
    "print(\"train: \"   + str(tr.shape))\n",
    "print(\"test: \"    + str(ts.shape))\n",
    "print(\"known: \"   + str(kn.shape))\n",
    "print(\"unknown: \" + str(un.shape))"
   ]
  },
  {
   "cell_type": "code",
   "execution_count": 6,
   "metadata": {
    "collapsed": false,
    "scrolled": true
   },
   "outputs": [
    {
     "name": "stderr",
     "output_type": "stream",
     "text": [
      "[INFO] graphlab.cython.cy_server: GraphLab Create v2.1 started. Logging: /tmp/graphlab_server_1495547912.log\n"
     ]
    },
    {
     "name": "stdout",
     "output_type": "stream",
     "text": [
      "This non-commercial license of GraphLab Create for academic use is assigned to kozodoin@hu-berlin.de and will expire on May 12, 2018.\n"
     ]
    }
   ],
   "source": [
    "# data sets with user-media interactions\n",
    "tr_listen = gl.SFrame(tr[[\"media_id\", \"user_id\", \"is_listened\", \"context_type\", \"platform_name\"]])\n",
    "ts_listen = gl.SFrame(ts[[\"media_id\", \"user_id\", \"is_listened\", \"context_type\", \"platform_name\"]])\n",
    "kn_listen = gl.SFrame(kn[[\"media_id\", \"user_id\", \"is_listened\", \"context_type\", \"platform_name\"]])\n",
    "un_listen = gl.SFrame(un[[\"media_id\", \"user_id\", \"is_listened\", \"context_type\", \"platform_name\"]])"
   ]
  },
  {
   "cell_type": "code",
   "execution_count": 7,
   "metadata": {
    "collapsed": false
   },
   "outputs": [],
   "source": [
    "# additional user-level and media-level data\n",
    "user_data = data.groupby([\"user_id\"]).head(1)\n",
    "song_data = data.groupby([\"media_id\"]).head(1)\n",
    "\n",
    "# clearing the memory\n",
    "data = \"Null\"\n",
    "tr   = \"Null\"\n",
    "kn   = \"Null\"\n",
    "\n",
    "# converting data sets\n",
    "user_data = gl.SFrame(user_data[[\"user_id\", \"user_gender\", \"user_age\", \"user_ratio_flow\", \"user_ratio_full\"]])\n",
    "song_data = gl.SFrame(song_data[[\"media_id\", \"genre_id\", \"artist_id\", \"release_year\", \"media_duration\"]])"
   ]
  },
  {
   "cell_type": "markdown",
   "metadata": {},
   "source": [
    "# 3. MODELING"
   ]
  },
  {
   "cell_type": "code",
   "execution_count": 8,
   "metadata": {
    "collapsed": true
   },
   "outputs": [],
   "source": [
    "# model parameters\n",
    "n_factors = 75\n",
    "m_epochs = 400\n",
    "regular = 1e-5"
   ]
  },
  {
   "cell_type": "markdown",
   "metadata": {},
   "source": [
    "## 3.1. TRAINING-VALIDATION"
   ]
  },
  {
   "cell_type": "code",
   "execution_count": 9,
   "metadata": {
    "collapsed": false
   },
   "outputs": [
    {
     "data": {
      "text/html": [
       "<pre>Recsys training: model = factorization_recommender</pre>"
      ],
      "text/plain": [
       "Recsys training: model = factorization_recommender"
      ]
     },
     "metadata": {},
     "output_type": "display_data"
    },
    {
     "data": {
      "text/html": [
       "<pre>Preparing data set.</pre>"
      ],
      "text/plain": [
       "Preparing data set."
      ]
     },
     "metadata": {},
     "output_type": "display_data"
    },
    {
     "data": {
      "text/html": [
       "<pre>    Data has 2279790 observations with 13250 users and 79311 items.</pre>"
      ],
      "text/plain": [
       "    Data has 2279790 observations with 13250 users and 79311 items."
      ]
     },
     "metadata": {},
     "output_type": "display_data"
    },
    {
     "data": {
      "text/html": [
       "<pre>    Data prepared in: 2.54493s</pre>"
      ],
      "text/plain": [
       "    Data prepared in: 2.54493s"
      ]
     },
     "metadata": {},
     "output_type": "display_data"
    },
    {
     "data": {
      "text/html": [
       "<pre>Training factorization_recommender for recommendations.</pre>"
      ],
      "text/plain": [
       "Training factorization_recommender for recommendations."
      ]
     },
     "metadata": {},
     "output_type": "display_data"
    },
    {
     "data": {
      "text/html": [
       "<pre>+--------------------------------+--------------------------------------------------+----------+</pre>"
      ],
      "text/plain": [
       "+--------------------------------+--------------------------------------------------+----------+"
      ]
     },
     "metadata": {},
     "output_type": "display_data"
    },
    {
     "data": {
      "text/html": [
       "<pre>| Parameter                      | Description                                      | Value    |</pre>"
      ],
      "text/plain": [
       "| Parameter                      | Description                                      | Value    |"
      ]
     },
     "metadata": {},
     "output_type": "display_data"
    },
    {
     "data": {
      "text/html": [
       "<pre>+--------------------------------+--------------------------------------------------+----------+</pre>"
      ],
      "text/plain": [
       "+--------------------------------+--------------------------------------------------+----------+"
      ]
     },
     "metadata": {},
     "output_type": "display_data"
    },
    {
     "data": {
      "text/html": [
       "<pre>| num_factors                    | Factor Dimension                                 | 75       |</pre>"
      ],
      "text/plain": [
       "| num_factors                    | Factor Dimension                                 | 75       |"
      ]
     },
     "metadata": {},
     "output_type": "display_data"
    },
    {
     "data": {
      "text/html": [
       "<pre>| regularization                 | L2 Regularization on Factors                     | 1e-05    |</pre>"
      ],
      "text/plain": [
       "| regularization                 | L2 Regularization on Factors                     | 1e-05    |"
      ]
     },
     "metadata": {},
     "output_type": "display_data"
    },
    {
     "data": {
      "text/html": [
       "<pre>| solver                         | Solver used for training                         | adagrad  |</pre>"
      ],
      "text/plain": [
       "| solver                         | Solver used for training                         | adagrad  |"
      ]
     },
     "metadata": {},
     "output_type": "display_data"
    },
    {
     "data": {
      "text/html": [
       "<pre>| linear_regularization          | L2 Regularization on Linear Coefficients         | 1e-10    |</pre>"
      ],
      "text/plain": [
       "| linear_regularization          | L2 Regularization on Linear Coefficients         | 1e-10    |"
      ]
     },
     "metadata": {},
     "output_type": "display_data"
    },
    {
     "data": {
      "text/html": [
       "<pre>| binary_target                  | Assume Binary Targets                            | True     |</pre>"
      ],
      "text/plain": [
       "| binary_target                  | Assume Binary Targets                            | True     |"
      ]
     },
     "metadata": {},
     "output_type": "display_data"
    },
    {
     "data": {
      "text/html": [
       "<pre>| side_data_factorization        | Assign Factors for Side Data                     | True     |</pre>"
      ],
      "text/plain": [
       "| side_data_factorization        | Assign Factors for Side Data                     | True     |"
      ]
     },
     "metadata": {},
     "output_type": "display_data"
    },
    {
     "data": {
      "text/html": [
       "<pre>| max_iterations                 | Maximum Number of Iterations                     | 400      |</pre>"
      ],
      "text/plain": [
       "| max_iterations                 | Maximum Number of Iterations                     | 400      |"
      ]
     },
     "metadata": {},
     "output_type": "display_data"
    },
    {
     "data": {
      "text/html": [
       "<pre>+--------------------------------+--------------------------------------------------+----------+</pre>"
      ],
      "text/plain": [
       "+--------------------------------+--------------------------------------------------+----------+"
      ]
     },
     "metadata": {},
     "output_type": "display_data"
    },
    {
     "data": {
      "text/html": [
       "<pre>  Optimizing model using SGD; tuning step size.</pre>"
      ],
      "text/plain": [
       "  Optimizing model using SGD; tuning step size."
      ]
     },
     "metadata": {},
     "output_type": "display_data"
    },
    {
     "data": {
      "text/html": [
       "<pre>  Using 284973 / 2279790 points for tuning the step size.</pre>"
      ],
      "text/plain": [
       "  Using 284973 / 2279790 points for tuning the step size."
      ]
     },
     "metadata": {},
     "output_type": "display_data"
    },
    {
     "data": {
      "text/html": [
       "<pre>+---------+-------------------+------------------------------------------+</pre>"
      ],
      "text/plain": [
       "+---------+-------------------+------------------------------------------+"
      ]
     },
     "metadata": {},
     "output_type": "display_data"
    },
    {
     "data": {
      "text/html": [
       "<pre>| Attempt | Initial Step Size | Estimated Objective Value                |</pre>"
      ],
      "text/plain": [
       "| Attempt | Initial Step Size | Estimated Objective Value                |"
      ]
     },
     "metadata": {},
     "output_type": "display_data"
    },
    {
     "data": {
      "text/html": [
       "<pre>+---------+-------------------+------------------------------------------+</pre>"
      ],
      "text/plain": [
       "+---------+-------------------+------------------------------------------+"
      ]
     },
     "metadata": {},
     "output_type": "display_data"
    },
    {
     "data": {
      "text/html": [
       "<pre>| 0       | 3.23194           | Not Viable                               |</pre>"
      ],
      "text/plain": [
       "| 0       | 3.23194           | Not Viable                               |"
      ]
     },
     "metadata": {},
     "output_type": "display_data"
    },
    {
     "data": {
      "text/html": [
       "<pre>| 1       | 0.807986          | Not Viable                               |</pre>"
      ],
      "text/plain": [
       "| 1       | 0.807986          | Not Viable                               |"
      ]
     },
     "metadata": {},
     "output_type": "display_data"
    },
    {
     "data": {
      "text/html": [
       "<pre>| 2       | 0.201996          | 0.636346                                 |</pre>"
      ],
      "text/plain": [
       "| 2       | 0.201996          | 0.636346                                 |"
      ]
     },
     "metadata": {},
     "output_type": "display_data"
    },
    {
     "data": {
      "text/html": [
       "<pre>| 3       | 0.100998          | 0.592352                                 |</pre>"
      ],
      "text/plain": [
       "| 3       | 0.100998          | 0.592352                                 |"
      ]
     },
     "metadata": {},
     "output_type": "display_data"
    },
    {
     "data": {
      "text/html": [
       "<pre>| 4       | 0.0504991         | 0.520096                                 |</pre>"
      ],
      "text/plain": [
       "| 4       | 0.0504991         | 0.520096                                 |"
      ]
     },
     "metadata": {},
     "output_type": "display_data"
    },
    {
     "data": {
      "text/html": [
       "<pre>| 5       | 0.0252496         | 0.435433                                 |</pre>"
      ],
      "text/plain": [
       "| 5       | 0.0252496         | 0.435433                                 |"
      ]
     },
     "metadata": {},
     "output_type": "display_data"
    },
    {
     "data": {
      "text/html": [
       "<pre>| 6       | 0.0126248         | 0.482964                                 |</pre>"
      ],
      "text/plain": [
       "| 6       | 0.0126248         | 0.482964                                 |"
      ]
     },
     "metadata": {},
     "output_type": "display_data"
    },
    {
     "data": {
      "text/html": [
       "<pre>| 7       | 0.00631239        | 0.472065                                 |</pre>"
      ],
      "text/plain": [
       "| 7       | 0.00631239        | 0.472065                                 |"
      ]
     },
     "metadata": {},
     "output_type": "display_data"
    },
    {
     "data": {
      "text/html": [
       "<pre>| 8       | 0.0031562         | 0.468162                                 |</pre>"
      ],
      "text/plain": [
       "| 8       | 0.0031562         | 0.468162                                 |"
      ]
     },
     "metadata": {},
     "output_type": "display_data"
    },
    {
     "data": {
      "text/html": [
       "<pre>+---------+-------------------+------------------------------------------+</pre>"
      ],
      "text/plain": [
       "+---------+-------------------+------------------------------------------+"
      ]
     },
     "metadata": {},
     "output_type": "display_data"
    },
    {
     "data": {
      "text/html": [
       "<pre>| Final   | 0.0252496         | 0.435433                                 |</pre>"
      ],
      "text/plain": [
       "| Final   | 0.0252496         | 0.435433                                 |"
      ]
     },
     "metadata": {},
     "output_type": "display_data"
    },
    {
     "data": {
      "text/html": [
       "<pre>+---------+-------------------+------------------------------------------+</pre>"
      ],
      "text/plain": [
       "+---------+-------------------+------------------------------------------+"
      ]
     },
     "metadata": {},
     "output_type": "display_data"
    },
    {
     "data": {
      "text/html": [
       "<pre>Starting Optimization.</pre>"
      ],
      "text/plain": [
       "Starting Optimization."
      ]
     },
     "metadata": {},
     "output_type": "display_data"
    },
    {
     "data": {
      "text/html": [
       "<pre>+---------+--------------+-------------------+-----------------------------------+-------------+</pre>"
      ],
      "text/plain": [
       "+---------+--------------+-------------------+-----------------------------------+-------------+"
      ]
     },
     "metadata": {},
     "output_type": "display_data"
    },
    {
     "data": {
      "text/html": [
       "<pre>| Iter.   | Elapsed Time | Approx. Objective | Approx. Training Predictive Error | Step Size   |</pre>"
      ],
      "text/plain": [
       "| Iter.   | Elapsed Time | Approx. Objective | Approx. Training Predictive Error | Step Size   |"
      ]
     },
     "metadata": {},
     "output_type": "display_data"
    },
    {
     "data": {
      "text/html": [
       "<pre>+---------+--------------+-------------------+-----------------------------------+-------------+</pre>"
      ],
      "text/plain": [
       "+---------+--------------+-------------------+-----------------------------------+-------------+"
      ]
     },
     "metadata": {},
     "output_type": "display_data"
    },
    {
     "data": {
      "text/html": [
       "<pre>| Initial | 119us        | 0.677455          | 0.677455                          |             |</pre>"
      ],
      "text/plain": [
       "| Initial | 119us        | 0.677455          | 0.677455                          |             |"
      ]
     },
     "metadata": {},
     "output_type": "display_data"
    },
    {
     "data": {
      "text/html": [
       "<pre>+---------+--------------+-------------------+-----------------------------------+-------------+</pre>"
      ],
      "text/plain": [
       "+---------+--------------+-------------------+-----------------------------------+-------------+"
      ]
     },
     "metadata": {},
     "output_type": "display_data"
    },
    {
     "data": {
      "text/html": [
       "<pre>| 1       | 5.89s        | 0.568088          | 0.45973                           | 0.0252496   |</pre>"
      ],
      "text/plain": [
       "| 1       | 5.89s        | 0.568088          | 0.45973                           | 0.0252496   |"
      ]
     },
     "metadata": {},
     "output_type": "display_data"
    },
    {
     "data": {
      "text/html": [
       "<pre>| 2       | 11.73s       | 0.497927          | 0.435919                          | 0.0252496   |</pre>"
      ],
      "text/plain": [
       "| 2       | 11.73s       | 0.497927          | 0.435919                          | 0.0252496   |"
      ]
     },
     "metadata": {},
     "output_type": "display_data"
    },
    {
     "data": {
      "text/html": [
       "<pre>| 3       | 17.57s       | 0.481873          | 0.430542                          | 0.0252496   |</pre>"
      ],
      "text/plain": [
       "| 3       | 17.57s       | 0.481873          | 0.430542                          | 0.0252496   |"
      ]
     },
     "metadata": {},
     "output_type": "display_data"
    },
    {
     "data": {
      "text/html": [
       "<pre>| 4       | 23.42s       | 0.47405           | 0.426088                          | 0.0252496   |</pre>"
      ],
      "text/plain": [
       "| 4       | 23.42s       | 0.47405           | 0.426088                          | 0.0252496   |"
      ]
     },
     "metadata": {},
     "output_type": "display_data"
    },
    {
     "data": {
      "text/html": [
       "<pre>| 5       | 29.28s       | 0.469259          | 0.422585                          | 0.0252496   |</pre>"
      ],
      "text/plain": [
       "| 5       | 29.28s       | 0.469259          | 0.422585                          | 0.0252496   |"
      ]
     },
     "metadata": {},
     "output_type": "display_data"
    },
    {
     "data": {
      "text/html": [
       "<pre>| 6       | 35.13s       | 0.465692          | 0.419649                          | 0.0252496   |</pre>"
      ],
      "text/plain": [
       "| 6       | 35.13s       | 0.465692          | 0.419649                          | 0.0252496   |"
      ]
     },
     "metadata": {},
     "output_type": "display_data"
    },
    {
     "data": {
      "text/html": [
       "<pre>| 7       | 40.99s       | 0.463093          | 0.417367                          | 0.0252496   |</pre>"
      ],
      "text/plain": [
       "| 7       | 40.99s       | 0.463093          | 0.417367                          | 0.0252496   |"
      ]
     },
     "metadata": {},
     "output_type": "display_data"
    },
    {
     "data": {
      "text/html": [
       "<pre>| 8       | 47.11s       | 0.460884          | 0.415356                          | 0.0252496   |</pre>"
      ],
      "text/plain": [
       "| 8       | 47.11s       | 0.460884          | 0.415356                          | 0.0252496   |"
      ]
     },
     "metadata": {},
     "output_type": "display_data"
    },
    {
     "data": {
      "text/html": [
       "<pre>| 9       | 53.05s       | 0.459105          | 0.413696                          | 0.0252496   |</pre>"
      ],
      "text/plain": [
       "| 9       | 53.05s       | 0.459105          | 0.413696                          | 0.0252496   |"
      ]
     },
     "metadata": {},
     "output_type": "display_data"
    },
    {
     "data": {
      "text/html": [
       "<pre>| 10      | 58.90s       | 0.457497          | 0.412207                          | 0.0252496   |</pre>"
      ],
      "text/plain": [
       "| 10      | 58.90s       | 0.457497          | 0.412207                          | 0.0252496   |"
      ]
     },
     "metadata": {},
     "output_type": "display_data"
    },
    {
     "data": {
      "text/html": [
       "<pre>| 11      | 1m 4s        | 0.456021          | 0.410824                          | 0.0252496   |</pre>"
      ],
      "text/plain": [
       "| 11      | 1m 4s        | 0.456021          | 0.410824                          | 0.0252496   |"
      ]
     },
     "metadata": {},
     "output_type": "display_data"
    },
    {
     "data": {
      "text/html": [
       "<pre>| 12      | 1m 10s       | 0.45472           | 0.409621                          | 0.0252496   |</pre>"
      ],
      "text/plain": [
       "| 12      | 1m 10s       | 0.45472           | 0.409621                          | 0.0252496   |"
      ]
     },
     "metadata": {},
     "output_type": "display_data"
    },
    {
     "data": {
      "text/html": [
       "<pre>| 13      | 1m 16s       | 0.453608          | 0.408591                          | 0.0252496   |</pre>"
      ],
      "text/plain": [
       "| 13      | 1m 16s       | 0.453608          | 0.408591                          | 0.0252496   |"
      ]
     },
     "metadata": {},
     "output_type": "display_data"
    },
    {
     "data": {
      "text/html": [
       "<pre>| 14      | 1m 22s       | 0.452419          | 0.407487                          | 0.0252496   |</pre>"
      ],
      "text/plain": [
       "| 14      | 1m 22s       | 0.452419          | 0.407487                          | 0.0252496   |"
      ]
     },
     "metadata": {},
     "output_type": "display_data"
    },
    {
     "data": {
      "text/html": [
       "<pre>| 15      | 1m 28s       | 0.451446          | 0.406594                          | 0.0252496   |</pre>"
      ],
      "text/plain": [
       "| 15      | 1m 28s       | 0.451446          | 0.406594                          | 0.0252496   |"
      ]
     },
     "metadata": {},
     "output_type": "display_data"
    },
    {
     "data": {
      "text/html": [
       "<pre>| 16      | 1m 34s       | 0.450432          | 0.405667                          | 0.0252496   |</pre>"
      ],
      "text/plain": [
       "| 16      | 1m 34s       | 0.450432          | 0.405667                          | 0.0252496   |"
      ]
     },
     "metadata": {},
     "output_type": "display_data"
    },
    {
     "data": {
      "text/html": [
       "<pre>| 17      | 1m 39s       | 0.449603          | 0.404896                          | 0.0252496   |</pre>"
      ],
      "text/plain": [
       "| 17      | 1m 39s       | 0.449603          | 0.404896                          | 0.0252496   |"
      ]
     },
     "metadata": {},
     "output_type": "display_data"
    },
    {
     "data": {
      "text/html": [
       "<pre>| 18      | 1m 45s       | 0.448719          | 0.404085                          | 0.0252496   |</pre>"
      ],
      "text/plain": [
       "| 18      | 1m 45s       | 0.448719          | 0.404085                          | 0.0252496   |"
      ]
     },
     "metadata": {},
     "output_type": "display_data"
    },
    {
     "data": {
      "text/html": [
       "<pre>| 19      | 1m 51s       | 0.447973          | 0.4034                            | 0.0252496   |</pre>"
      ],
      "text/plain": [
       "| 19      | 1m 51s       | 0.447973          | 0.4034                            | 0.0252496   |"
      ]
     },
     "metadata": {},
     "output_type": "display_data"
    },
    {
     "data": {
      "text/html": [
       "<pre>| 20      | 1m 57s       | 0.447235          | 0.40271                           | 0.0252496   |</pre>"
      ],
      "text/plain": [
       "| 20      | 1m 57s       | 0.447235          | 0.40271                           | 0.0252496   |"
      ]
     },
     "metadata": {},
     "output_type": "display_data"
    },
    {
     "data": {
      "text/html": [
       "<pre>| 21      | 2m 3s        | 0.446583          | 0.402098                          | 0.0252496   |</pre>"
      ],
      "text/plain": [
       "| 21      | 2m 3s        | 0.446583          | 0.402098                          | 0.0252496   |"
      ]
     },
     "metadata": {},
     "output_type": "display_data"
    },
    {
     "data": {
      "text/html": [
       "<pre>| 22      | 2m 9s        | 0.44588           | 0.401424                          | 0.0252496   |</pre>"
      ],
      "text/plain": [
       "| 22      | 2m 9s        | 0.44588           | 0.401424                          | 0.0252496   |"
      ]
     },
     "metadata": {},
     "output_type": "display_data"
    },
    {
     "data": {
      "text/html": [
       "<pre>| 23      | 2m 14s       | 0.445252          | 0.400815                          | 0.0252496   |</pre>"
      ],
      "text/plain": [
       "| 23      | 2m 14s       | 0.445252          | 0.400815                          | 0.0252496   |"
      ]
     },
     "metadata": {},
     "output_type": "display_data"
    },
    {
     "data": {
      "text/html": [
       "<pre>| 24      | 2m 20s       | 0.444663          | 0.400247                          | 0.0252496   |</pre>"
      ],
      "text/plain": [
       "| 24      | 2m 20s       | 0.444663          | 0.400247                          | 0.0252496   |"
      ]
     },
     "metadata": {},
     "output_type": "display_data"
    },
    {
     "data": {
      "text/html": [
       "<pre>| 25      | 2m 26s       | 0.444042          | 0.399644                          | 0.0252496   |</pre>"
      ],
      "text/plain": [
       "| 25      | 2m 26s       | 0.444042          | 0.399644                          | 0.0252496   |"
      ]
     },
     "metadata": {},
     "output_type": "display_data"
    },
    {
     "data": {
      "text/html": [
       "<pre>| 26      | 2m 32s       | 0.443541          | 0.399145                          | 0.0252496   |</pre>"
      ],
      "text/plain": [
       "| 26      | 2m 32s       | 0.443541          | 0.399145                          | 0.0252496   |"
      ]
     },
     "metadata": {},
     "output_type": "display_data"
    },
    {
     "data": {
      "text/html": [
       "<pre>| 27      | 2m 38s       | 0.442985          | 0.398584                          | 0.0252496   |</pre>"
      ],
      "text/plain": [
       "| 27      | 2m 38s       | 0.442985          | 0.398584                          | 0.0252496   |"
      ]
     },
     "metadata": {},
     "output_type": "display_data"
    },
    {
     "data": {
      "text/html": [
       "<pre>| 28      | 2m 44s       | 0.442476          | 0.398061                          | 0.0252496   |</pre>"
      ],
      "text/plain": [
       "| 28      | 2m 44s       | 0.442476          | 0.398061                          | 0.0252496   |"
      ]
     },
     "metadata": {},
     "output_type": "display_data"
    },
    {
     "data": {
      "text/html": [
       "<pre>| 29      | 2m 50s       | 0.442031          | 0.397593                          | 0.0252496   |</pre>"
      ],
      "text/plain": [
       "| 29      | 2m 50s       | 0.442031          | 0.397593                          | 0.0252496   |"
      ]
     },
     "metadata": {},
     "output_type": "display_data"
    },
    {
     "data": {
      "text/html": [
       "<pre>| 30      | 2m 55s       | 0.441535          | 0.397071                          | 0.0252496   |</pre>"
      ],
      "text/plain": [
       "| 30      | 2m 55s       | 0.441535          | 0.397071                          | 0.0252496   |"
      ]
     },
     "metadata": {},
     "output_type": "display_data"
    },
    {
     "data": {
      "text/html": [
       "<pre>| 31      | 3m 1s        | 0.441084          | 0.396604                          | 0.0252496   |</pre>"
      ],
      "text/plain": [
       "| 31      | 3m 1s        | 0.441084          | 0.396604                          | 0.0252496   |"
      ]
     },
     "metadata": {},
     "output_type": "display_data"
    },
    {
     "data": {
      "text/html": [
       "<pre>| 32      | 3m 7s        | 0.44063           | 0.39611                           | 0.0252496   |</pre>"
      ],
      "text/plain": [
       "| 32      | 3m 7s        | 0.44063           | 0.39611                           | 0.0252496   |"
      ]
     },
     "metadata": {},
     "output_type": "display_data"
    },
    {
     "data": {
      "text/html": [
       "<pre>| 33      | 3m 13s       | 0.440209          | 0.395656                          | 0.0252496   |</pre>"
      ],
      "text/plain": [
       "| 33      | 3m 13s       | 0.440209          | 0.395656                          | 0.0252496   |"
      ]
     },
     "metadata": {},
     "output_type": "display_data"
    },
    {
     "data": {
      "text/html": [
       "<pre>| 34      | 3m 19s       | 0.439834          | 0.395231                          | 0.0252496   |</pre>"
      ],
      "text/plain": [
       "| 34      | 3m 19s       | 0.439834          | 0.395231                          | 0.0252496   |"
      ]
     },
     "metadata": {},
     "output_type": "display_data"
    },
    {
     "data": {
      "text/html": [
       "<pre>| 35      | 3m 25s       | 0.439455          | 0.3948                            | 0.0252496   |</pre>"
      ],
      "text/plain": [
       "| 35      | 3m 25s       | 0.439455          | 0.3948                            | 0.0252496   |"
      ]
     },
     "metadata": {},
     "output_type": "display_data"
    },
    {
     "data": {
      "text/html": [
       "<pre>| 36      | 3m 31s       | 0.439082          | 0.394364                          | 0.0252496   |</pre>"
      ],
      "text/plain": [
       "| 36      | 3m 31s       | 0.439082          | 0.394364                          | 0.0252496   |"
      ]
     },
     "metadata": {},
     "output_type": "display_data"
    },
    {
     "data": {
      "text/html": [
       "<pre>| 37      | 3m 36s       | 0.43872           | 0.393936                          | 0.0252496   |</pre>"
      ],
      "text/plain": [
       "| 37      | 3m 36s       | 0.43872           | 0.393936                          | 0.0252496   |"
      ]
     },
     "metadata": {},
     "output_type": "display_data"
    },
    {
     "data": {
      "text/html": [
       "<pre>| 38      | 3m 42s       | 0.438338          | 0.393486                          | 0.0252496   |</pre>"
      ],
      "text/plain": [
       "| 38      | 3m 42s       | 0.438338          | 0.393486                          | 0.0252496   |"
      ]
     },
     "metadata": {},
     "output_type": "display_data"
    },
    {
     "data": {
      "text/html": [
       "<pre>| 39      | 3m 48s       | 0.437968          | 0.393038                          | 0.0252496   |</pre>"
      ],
      "text/plain": [
       "| 39      | 3m 48s       | 0.437968          | 0.393038                          | 0.0252496   |"
      ]
     },
     "metadata": {},
     "output_type": "display_data"
    },
    {
     "data": {
      "text/html": [
       "<pre>| 40      | 3m 54s       | 0.437615          | 0.392617                          | 0.0252496   |</pre>"
      ],
      "text/plain": [
       "| 40      | 3m 54s       | 0.437615          | 0.392617                          | 0.0252496   |"
      ]
     },
     "metadata": {},
     "output_type": "display_data"
    },
    {
     "data": {
      "text/html": [
       "<pre>| 41      | 4m 0s        | 0.437266          | 0.392198                          | 0.0252496   |</pre>"
      ],
      "text/plain": [
       "| 41      | 4m 0s        | 0.437266          | 0.392198                          | 0.0252496   |"
      ]
     },
     "metadata": {},
     "output_type": "display_data"
    },
    {
     "data": {
      "text/html": [
       "<pre>| 42      | 4m 6s        | 0.436946          | 0.391797                          | 0.0252496   |</pre>"
      ],
      "text/plain": [
       "| 42      | 4m 6s        | 0.436946          | 0.391797                          | 0.0252496   |"
      ]
     },
     "metadata": {},
     "output_type": "display_data"
    },
    {
     "data": {
      "text/html": [
       "<pre>| 43      | 4m 11s       | 0.436666          | 0.391429                          | 0.0252496   |</pre>"
      ],
      "text/plain": [
       "| 43      | 4m 11s       | 0.436666          | 0.391429                          | 0.0252496   |"
      ]
     },
     "metadata": {},
     "output_type": "display_data"
    },
    {
     "data": {
      "text/html": [
       "<pre>| 44      | 4m 17s       | 0.436297          | 0.390981                          | 0.0252496   |</pre>"
      ],
      "text/plain": [
       "| 44      | 4m 17s       | 0.436297          | 0.390981                          | 0.0252496   |"
      ]
     },
     "metadata": {},
     "output_type": "display_data"
    },
    {
     "data": {
      "text/html": [
       "<pre>| 45      | 4m 23s       | 0.436045          | 0.390639                          | 0.0252496   |</pre>"
      ],
      "text/plain": [
       "| 45      | 4m 23s       | 0.436045          | 0.390639                          | 0.0252496   |"
      ]
     },
     "metadata": {},
     "output_type": "display_data"
    },
    {
     "data": {
      "text/html": [
       "<pre>| 46      | 4m 29s       | 0.435763          | 0.390261                          | 0.0252496   |</pre>"
      ],
      "text/plain": [
       "| 46      | 4m 29s       | 0.435763          | 0.390261                          | 0.0252496   |"
      ]
     },
     "metadata": {},
     "output_type": "display_data"
    },
    {
     "data": {
      "text/html": [
       "<pre>| 47      | 4m 35s       | 0.435495          | 0.389894                          | 0.0252496   |</pre>"
      ],
      "text/plain": [
       "| 47      | 4m 35s       | 0.435495          | 0.389894                          | 0.0252496   |"
      ]
     },
     "metadata": {},
     "output_type": "display_data"
    },
    {
     "data": {
      "text/html": [
       "<pre>| 48      | 4m 41s       | 0.435202          | 0.389503                          | 0.0252496   |</pre>"
      ],
      "text/plain": [
       "| 48      | 4m 41s       | 0.435202          | 0.389503                          | 0.0252496   |"
      ]
     },
     "metadata": {},
     "output_type": "display_data"
    },
    {
     "data": {
      "text/html": [
       "<pre>| 49      | 4m 47s       | 0.434944          | 0.389148                          | 0.0252496   |</pre>"
      ],
      "text/plain": [
       "| 49      | 4m 47s       | 0.434944          | 0.389148                          | 0.0252496   |"
      ]
     },
     "metadata": {},
     "output_type": "display_data"
    },
    {
     "data": {
      "text/html": [
       "<pre>| 50      | 4m 53s       | 0.434651          | 0.388757                          | 0.0252496   |</pre>"
      ],
      "text/plain": [
       "| 50      | 4m 53s       | 0.434651          | 0.388757                          | 0.0252496   |"
      ]
     },
     "metadata": {},
     "output_type": "display_data"
    },
    {
     "data": {
      "text/html": [
       "<pre>| 51      | 4m 59s       | 0.43435           | 0.388343                          | 0.0252496   |</pre>"
      ],
      "text/plain": [
       "| 51      | 4m 59s       | 0.43435           | 0.388343                          | 0.0252496   |"
      ]
     },
     "metadata": {},
     "output_type": "display_data"
    },
    {
     "data": {
      "text/html": [
       "<pre>| 52      | 5m 5s        | 0.434102          | 0.387998                          | 0.0252496   |</pre>"
      ],
      "text/plain": [
       "| 52      | 5m 5s        | 0.434102          | 0.387998                          | 0.0252496   |"
      ]
     },
     "metadata": {},
     "output_type": "display_data"
    },
    {
     "data": {
      "text/html": [
       "<pre>| 53      | 5m 11s       | 0.433856          | 0.387639                          | 0.0252496   |</pre>"
      ],
      "text/plain": [
       "| 53      | 5m 11s       | 0.433856          | 0.387639                          | 0.0252496   |"
      ]
     },
     "metadata": {},
     "output_type": "display_data"
    },
    {
     "data": {
      "text/html": [
       "<pre>| 54      | 5m 17s       | 0.433615          | 0.387285                          | 0.0252496   |</pre>"
      ],
      "text/plain": [
       "| 54      | 5m 17s       | 0.433615          | 0.387285                          | 0.0252496   |"
      ]
     },
     "metadata": {},
     "output_type": "display_data"
    },
    {
     "data": {
      "text/html": [
       "<pre>| 55      | 5m 23s       | 0.433377          | 0.38694                           | 0.0252496   |</pre>"
      ],
      "text/plain": [
       "| 55      | 5m 23s       | 0.433377          | 0.38694                           | 0.0252496   |"
      ]
     },
     "metadata": {},
     "output_type": "display_data"
    },
    {
     "data": {
      "text/html": [
       "<pre>| 56      | 5m 29s       | 0.433155          | 0.386593                          | 0.0252496   |</pre>"
      ],
      "text/plain": [
       "| 56      | 5m 29s       | 0.433155          | 0.386593                          | 0.0252496   |"
      ]
     },
     "metadata": {},
     "output_type": "display_data"
    },
    {
     "data": {
      "text/html": [
       "<pre>| 57      | 5m 35s       | 0.432875          | 0.386212                          | 0.0252496   |</pre>"
      ],
      "text/plain": [
       "| 57      | 5m 35s       | 0.432875          | 0.386212                          | 0.0252496   |"
      ]
     },
     "metadata": {},
     "output_type": "display_data"
    },
    {
     "data": {
      "text/html": [
       "<pre>| 58      | 5m 41s       | 0.432704          | 0.385916                          | 0.0252496   |</pre>"
      ],
      "text/plain": [
       "| 58      | 5m 41s       | 0.432704          | 0.385916                          | 0.0252496   |"
      ]
     },
     "metadata": {},
     "output_type": "display_data"
    },
    {
     "data": {
      "text/html": [
       "<pre>| 59      | 5m 47s       | 0.432435          | 0.385537                          | 0.0252496   |</pre>"
      ],
      "text/plain": [
       "| 59      | 5m 47s       | 0.432435          | 0.385537                          | 0.0252496   |"
      ]
     },
     "metadata": {},
     "output_type": "display_data"
    },
    {
     "data": {
      "text/html": [
       "<pre>| 60      | 5m 53s       | 0.432252          | 0.385226                          | 0.0252496   |</pre>"
      ],
      "text/plain": [
       "| 60      | 5m 53s       | 0.432252          | 0.385226                          | 0.0252496   |"
      ]
     },
     "metadata": {},
     "output_type": "display_data"
    },
    {
     "data": {
      "text/html": [
       "<pre>| 61      | 5m 59s       | 0.43204           | 0.384894                          | 0.0252496   |</pre>"
      ],
      "text/plain": [
       "| 61      | 5m 59s       | 0.43204           | 0.384894                          | 0.0252496   |"
      ]
     },
     "metadata": {},
     "output_type": "display_data"
    },
    {
     "data": {
      "text/html": [
       "<pre>| 62      | 6m 5s        | 0.431827          | 0.384568                          | 0.0252496   |</pre>"
      ],
      "text/plain": [
       "| 62      | 6m 5s        | 0.431827          | 0.384568                          | 0.0252496   |"
      ]
     },
     "metadata": {},
     "output_type": "display_data"
    },
    {
     "data": {
      "text/html": [
       "<pre>| 63      | 6m 11s       | 0.431592          | 0.384217                          | 0.0252496   |</pre>"
      ],
      "text/plain": [
       "| 63      | 6m 11s       | 0.431592          | 0.384217                          | 0.0252496   |"
      ]
     },
     "metadata": {},
     "output_type": "display_data"
    },
    {
     "data": {
      "text/html": [
       "<pre>| 64      | 6m 17s       | 0.431359          | 0.383866                          | 0.0252496   |</pre>"
      ],
      "text/plain": [
       "| 64      | 6m 17s       | 0.431359          | 0.383866                          | 0.0252496   |"
      ]
     },
     "metadata": {},
     "output_type": "display_data"
    },
    {
     "data": {
      "text/html": [
       "<pre>| 65      | 6m 22s       | 0.431145          | 0.38353                           | 0.0252496   |</pre>"
      ],
      "text/plain": [
       "| 65      | 6m 22s       | 0.431145          | 0.38353                           | 0.0252496   |"
      ]
     },
     "metadata": {},
     "output_type": "display_data"
    },
    {
     "data": {
      "text/html": [
       "<pre>| 66      | 6m 28s       | 0.43093           | 0.383204                          | 0.0252496   |</pre>"
      ],
      "text/plain": [
       "| 66      | 6m 28s       | 0.43093           | 0.383204                          | 0.0252496   |"
      ]
     },
     "metadata": {},
     "output_type": "display_data"
    },
    {
     "data": {
      "text/html": [
       "<pre>| 67      | 6m 34s       | 0.430726          | 0.382881                          | 0.0252496   |</pre>"
      ],
      "text/plain": [
       "| 67      | 6m 34s       | 0.430726          | 0.382881                          | 0.0252496   |"
      ]
     },
     "metadata": {},
     "output_type": "display_data"
    },
    {
     "data": {
      "text/html": [
       "<pre>| 68      | 6m 40s       | 0.430555          | 0.382588                          | 0.0252496   |</pre>"
      ],
      "text/plain": [
       "| 68      | 6m 40s       | 0.430555          | 0.382588                          | 0.0252496   |"
      ]
     },
     "metadata": {},
     "output_type": "display_data"
    },
    {
     "data": {
      "text/html": [
       "<pre>| 69      | 6m 46s       | 0.430344          | 0.38225                           | 0.0252496   |</pre>"
      ],
      "text/plain": [
       "| 69      | 6m 46s       | 0.430344          | 0.38225                           | 0.0252496   |"
      ]
     },
     "metadata": {},
     "output_type": "display_data"
    },
    {
     "data": {
      "text/html": [
       "<pre>| 70      | 6m 52s       | 0.430193          | 0.381984                          | 0.0252496   |</pre>"
      ],
      "text/plain": [
       "| 70      | 6m 52s       | 0.430193          | 0.381984                          | 0.0252496   |"
      ]
     },
     "metadata": {},
     "output_type": "display_data"
    },
    {
     "data": {
      "text/html": [
       "<pre>| 71      | 6m 58s       | 0.430016          | 0.381682                          | 0.0252496   |</pre>"
      ],
      "text/plain": [
       "| 71      | 6m 58s       | 0.430016          | 0.381682                          | 0.0252496   |"
      ]
     },
     "metadata": {},
     "output_type": "display_data"
    },
    {
     "data": {
      "text/html": [
       "<pre>| 72      | 7m 4s        | 0.429794          | 0.381333                          | 0.0252496   |</pre>"
      ],
      "text/plain": [
       "| 72      | 7m 4s        | 0.429794          | 0.381333                          | 0.0252496   |"
      ]
     },
     "metadata": {},
     "output_type": "display_data"
    },
    {
     "data": {
      "text/html": [
       "<pre>| 73      | 7m 9s        | 0.429623          | 0.381037                          | 0.0252496   |</pre>"
      ],
      "text/plain": [
       "| 73      | 7m 9s        | 0.429623          | 0.381037                          | 0.0252496   |"
      ]
     },
     "metadata": {},
     "output_type": "display_data"
    },
    {
     "data": {
      "text/html": [
       "<pre>| 74      | 7m 15s       | 0.429426          | 0.380717                          | 0.0252496   |</pre>"
      ],
      "text/plain": [
       "| 74      | 7m 15s       | 0.429426          | 0.380717                          | 0.0252496   |"
      ]
     },
     "metadata": {},
     "output_type": "display_data"
    },
    {
     "data": {
      "text/html": [
       "<pre>| 75      | 7m 21s       | 0.429259          | 0.380417                          | 0.0252496   |</pre>"
      ],
      "text/plain": [
       "| 75      | 7m 21s       | 0.429259          | 0.380417                          | 0.0252496   |"
      ]
     },
     "metadata": {},
     "output_type": "display_data"
    },
    {
     "data": {
      "text/html": [
       "<pre>| 76      | 7m 27s       | 0.429089          | 0.38012                           | 0.0252496   |</pre>"
      ],
      "text/plain": [
       "| 76      | 7m 27s       | 0.429089          | 0.38012                           | 0.0252496   |"
      ]
     },
     "metadata": {},
     "output_type": "display_data"
    },
    {
     "data": {
      "text/html": [
       "<pre>| 77      | 7m 33s       | 0.428909          | 0.379817                          | 0.0252496   |</pre>"
      ],
      "text/plain": [
       "| 77      | 7m 33s       | 0.428909          | 0.379817                          | 0.0252496   |"
      ]
     },
     "metadata": {},
     "output_type": "display_data"
    },
    {
     "data": {
      "text/html": [
       "<pre>| 78      | 7m 39s       | 0.428721          | 0.379512                          | 0.0252496   |</pre>"
      ],
      "text/plain": [
       "| 78      | 7m 39s       | 0.428721          | 0.379512                          | 0.0252496   |"
      ]
     },
     "metadata": {},
     "output_type": "display_data"
    },
    {
     "data": {
      "text/html": [
       "<pre>| 79      | 7m 44s       | 0.4286            | 0.37926                           | 0.0252496   |</pre>"
      ],
      "text/plain": [
       "| 79      | 7m 44s       | 0.4286            | 0.37926                           | 0.0252496   |"
      ]
     },
     "metadata": {},
     "output_type": "display_data"
    },
    {
     "data": {
      "text/html": [
       "<pre>| 80      | 7m 50s       | 0.428431          | 0.378966                          | 0.0252496   |</pre>"
      ],
      "text/plain": [
       "| 80      | 7m 50s       | 0.428431          | 0.378966                          | 0.0252496   |"
      ]
     },
     "metadata": {},
     "output_type": "display_data"
    },
    {
     "data": {
      "text/html": [
       "<pre>| 81      | 7m 56s       | 0.428277          | 0.37869                           | 0.0252496   |</pre>"
      ],
      "text/plain": [
       "| 81      | 7m 56s       | 0.428277          | 0.37869                           | 0.0252496   |"
      ]
     },
     "metadata": {},
     "output_type": "display_data"
    },
    {
     "data": {
      "text/html": [
       "<pre>| 82      | 8m 2s        | 0.428128          | 0.378408                          | 0.0252496   |</pre>"
      ],
      "text/plain": [
       "| 82      | 8m 2s        | 0.428128          | 0.378408                          | 0.0252496   |"
      ]
     },
     "metadata": {},
     "output_type": "display_data"
    },
    {
     "data": {
      "text/html": [
       "<pre>| 83      | 8m 8s        | 0.427955          | 0.378109                          | 0.0252496   |</pre>"
      ],
      "text/plain": [
       "| 83      | 8m 8s        | 0.427955          | 0.378109                          | 0.0252496   |"
      ]
     },
     "metadata": {},
     "output_type": "display_data"
    },
    {
     "data": {
      "text/html": [
       "<pre>| 84      | 8m 14s       | 0.427779          | 0.377811                          | 0.0252496   |</pre>"
      ],
      "text/plain": [
       "| 84      | 8m 14s       | 0.427779          | 0.377811                          | 0.0252496   |"
      ]
     },
     "metadata": {},
     "output_type": "display_data"
    },
    {
     "data": {
      "text/html": [
       "<pre>| 85      | 8m 19s       | 0.42764           | 0.377542                          | 0.0252496   |</pre>"
      ],
      "text/plain": [
       "| 85      | 8m 19s       | 0.42764           | 0.377542                          | 0.0252496   |"
      ]
     },
     "metadata": {},
     "output_type": "display_data"
    },
    {
     "data": {
      "text/html": [
       "<pre>| 86      | 8m 25s       | 0.427529          | 0.377301                          | 0.0252496   |</pre>"
      ],
      "text/plain": [
       "| 86      | 8m 25s       | 0.427529          | 0.377301                          | 0.0252496   |"
      ]
     },
     "metadata": {},
     "output_type": "display_data"
    },
    {
     "data": {
      "text/html": [
       "<pre>| 87      | 8m 31s       | 0.427373          | 0.377023                          | 0.0252496   |</pre>"
      ],
      "text/plain": [
       "| 87      | 8m 31s       | 0.427373          | 0.377023                          | 0.0252496   |"
      ]
     },
     "metadata": {},
     "output_type": "display_data"
    },
    {
     "data": {
      "text/html": [
       "<pre>| 88      | 8m 37s       | 0.427197          | 0.376719                          | 0.0252496   |</pre>"
      ],
      "text/plain": [
       "| 88      | 8m 37s       | 0.427197          | 0.376719                          | 0.0252496   |"
      ]
     },
     "metadata": {},
     "output_type": "display_data"
    },
    {
     "data": {
      "text/html": [
       "<pre>| 89      | 8m 43s       | 0.427108          | 0.376505                          | 0.0252496   |</pre>"
      ],
      "text/plain": [
       "| 89      | 8m 43s       | 0.427108          | 0.376505                          | 0.0252496   |"
      ]
     },
     "metadata": {},
     "output_type": "display_data"
    },
    {
     "data": {
      "text/html": [
       "<pre>| 90      | 8m 49s       | 0.426967          | 0.376236                          | 0.0252496   |</pre>"
      ],
      "text/plain": [
       "| 90      | 8m 49s       | 0.426967          | 0.376236                          | 0.0252496   |"
      ]
     },
     "metadata": {},
     "output_type": "display_data"
    },
    {
     "data": {
      "text/html": [
       "<pre>| 91      | 8m 54s       | 0.426791          | 0.37593                           | 0.0252496   |</pre>"
      ],
      "text/plain": [
       "| 91      | 8m 54s       | 0.426791          | 0.37593                           | 0.0252496   |"
      ]
     },
     "metadata": {},
     "output_type": "display_data"
    },
    {
     "data": {
      "text/html": [
       "<pre>| 92      | 9m 0s        | 0.426651          | 0.375671                          | 0.0252496   |</pre>"
      ],
      "text/plain": [
       "| 92      | 9m 0s        | 0.426651          | 0.375671                          | 0.0252496   |"
      ]
     },
     "metadata": {},
     "output_type": "display_data"
    },
    {
     "data": {
      "text/html": [
       "<pre>| 93      | 9m 6s        | 0.426556          | 0.375453                          | 0.0252496   |</pre>"
      ],
      "text/plain": [
       "| 93      | 9m 6s        | 0.426556          | 0.375453                          | 0.0252496   |"
      ]
     },
     "metadata": {},
     "output_type": "display_data"
    },
    {
     "data": {
      "text/html": [
       "<pre>| 94      | 9m 12s       | 0.426429          | 0.375201                          | 0.0252496   |</pre>"
      ],
      "text/plain": [
       "| 94      | 9m 12s       | 0.426429          | 0.375201                          | 0.0252496   |"
      ]
     },
     "metadata": {},
     "output_type": "display_data"
    },
    {
     "data": {
      "text/html": [
       "<pre>| 95      | 9m 18s       | 0.426335          | 0.374978                          | 0.0252496   |</pre>"
      ],
      "text/plain": [
       "| 95      | 9m 18s       | 0.426335          | 0.374978                          | 0.0252496   |"
      ]
     },
     "metadata": {},
     "output_type": "display_data"
    },
    {
     "data": {
      "text/html": [
       "<pre>| 96      | 9m 24s       | 0.426134          | 0.37465                           | 0.0252496   |</pre>"
      ],
      "text/plain": [
       "| 96      | 9m 24s       | 0.426134          | 0.37465                           | 0.0252496   |"
      ]
     },
     "metadata": {},
     "output_type": "display_data"
    },
    {
     "data": {
      "text/html": [
       "<pre>| 97      | 9m 30s       | 0.42605           | 0.374438                          | 0.0252496   |</pre>"
      ],
      "text/plain": [
       "| 97      | 9m 30s       | 0.42605           | 0.374438                          | 0.0252496   |"
      ]
     },
     "metadata": {},
     "output_type": "display_data"
    },
    {
     "data": {
      "text/html": [
       "<pre>| 98      | 9m 35s       | 0.425923          | 0.374191                          | 0.0252496   |</pre>"
      ],
      "text/plain": [
       "| 98      | 9m 35s       | 0.425923          | 0.374191                          | 0.0252496   |"
      ]
     },
     "metadata": {},
     "output_type": "display_data"
    },
    {
     "data": {
      "text/html": [
       "<pre>| 99      | 9m 41s       | 0.425817          | 0.373961                          | 0.0252496   |</pre>"
      ],
      "text/plain": [
       "| 99      | 9m 41s       | 0.425817          | 0.373961                          | 0.0252496   |"
      ]
     },
     "metadata": {},
     "output_type": "display_data"
    },
    {
     "data": {
      "text/html": [
       "<pre>| 100     | 9m 47s       | 0.425634          | 0.373651                          | 0.0252496   |</pre>"
      ],
      "text/plain": [
       "| 100     | 9m 47s       | 0.425634          | 0.373651                          | 0.0252496   |"
      ]
     },
     "metadata": {},
     "output_type": "display_data"
    },
    {
     "data": {
      "text/html": [
       "<pre>| 101     | 9m 53s       | 0.42558           | 0.373472                          | 0.0252496   |</pre>"
      ],
      "text/plain": [
       "| 101     | 9m 53s       | 0.42558           | 0.373472                          | 0.0252496   |"
      ]
     },
     "metadata": {},
     "output_type": "display_data"
    },
    {
     "data": {
      "text/html": [
       "<pre>| 102     | 9m 59s       | 0.425465          | 0.373232                          | 0.0252496   |</pre>"
      ],
      "text/plain": [
       "| 102     | 9m 59s       | 0.425465          | 0.373232                          | 0.0252496   |"
      ]
     },
     "metadata": {},
     "output_type": "display_data"
    },
    {
     "data": {
      "text/html": [
       "<pre>| 103     | 10m 5s       | 0.425291          | 0.372941                          | 0.0252496   |</pre>"
      ],
      "text/plain": [
       "| 103     | 10m 5s       | 0.425291          | 0.372941                          | 0.0252496   |"
      ]
     },
     "metadata": {},
     "output_type": "display_data"
    },
    {
     "data": {
      "text/html": [
       "<pre>| 104     | 10m 12s      | 0.425203          | 0.372737                          | 0.0252496   |</pre>"
      ],
      "text/plain": [
       "| 104     | 10m 12s      | 0.425203          | 0.372737                          | 0.0252496   |"
      ]
     },
     "metadata": {},
     "output_type": "display_data"
    },
    {
     "data": {
      "text/html": [
       "<pre>| 105     | 10m 18s      | 0.425065          | 0.372474                          | 0.0252496   |</pre>"
      ],
      "text/plain": [
       "| 105     | 10m 18s      | 0.425065          | 0.372474                          | 0.0252496   |"
      ]
     },
     "metadata": {},
     "output_type": "display_data"
    },
    {
     "data": {
      "text/html": [
       "<pre>| 106     | 10m 24s      | 0.424974          | 0.372255                          | 0.0252496   |</pre>"
      ],
      "text/plain": [
       "| 106     | 10m 24s      | 0.424974          | 0.372255                          | 0.0252496   |"
      ]
     },
     "metadata": {},
     "output_type": "display_data"
    },
    {
     "data": {
      "text/html": [
       "<pre>| 107     | 10m 29s      | 0.424895          | 0.372057                          | 0.0252496   |</pre>"
      ],
      "text/plain": [
       "| 107     | 10m 29s      | 0.424895          | 0.372057                          | 0.0252496   |"
      ]
     },
     "metadata": {},
     "output_type": "display_data"
    },
    {
     "data": {
      "text/html": [
       "<pre>| 108     | 10m 35s      | 0.424823          | 0.371872                          | 0.0252496   |</pre>"
      ],
      "text/plain": [
       "| 108     | 10m 35s      | 0.424823          | 0.371872                          | 0.0252496   |"
      ]
     },
     "metadata": {},
     "output_type": "display_data"
    },
    {
     "data": {
      "text/html": [
       "<pre>| 109     | 10m 41s      | 0.424634          | 0.371568                          | 0.0252496   |</pre>"
      ],
      "text/plain": [
       "| 109     | 10m 41s      | 0.424634          | 0.371568                          | 0.0252496   |"
      ]
     },
     "metadata": {},
     "output_type": "display_data"
    },
    {
     "data": {
      "text/html": [
       "<pre>| 110     | 10m 47s      | 0.424517          | 0.371331                          | 0.0252496   |</pre>"
      ],
      "text/plain": [
       "| 110     | 10m 47s      | 0.424517          | 0.371331                          | 0.0252496   |"
      ]
     },
     "metadata": {},
     "output_type": "display_data"
    },
    {
     "data": {
      "text/html": [
       "<pre>| 111     | 10m 53s      | 0.424462          | 0.371152                          | 0.0252496   |</pre>"
      ],
      "text/plain": [
       "| 111     | 10m 53s      | 0.424462          | 0.371152                          | 0.0252496   |"
      ]
     },
     "metadata": {},
     "output_type": "display_data"
    },
    {
     "data": {
      "text/html": [
       "<pre>| 112     | 10m 59s      | 0.424323          | 0.370903                          | 0.0252496   |</pre>"
      ],
      "text/plain": [
       "| 112     | 10m 59s      | 0.424323          | 0.370903                          | 0.0252496   |"
      ]
     },
     "metadata": {},
     "output_type": "display_data"
    },
    {
     "data": {
      "text/html": [
       "<pre>| 113     | 11m 4s       | 0.424232          | 0.370698                          | 0.0252496   |</pre>"
      ],
      "text/plain": [
       "| 113     | 11m 4s       | 0.424232          | 0.370698                          | 0.0252496   |"
      ]
     },
     "metadata": {},
     "output_type": "display_data"
    },
    {
     "data": {
      "text/html": [
       "<pre>| 114     | 11m 10s      | 0.42413           | 0.370469                          | 0.0252496   |</pre>"
      ],
      "text/plain": [
       "| 114     | 11m 10s      | 0.42413           | 0.370469                          | 0.0252496   |"
      ]
     },
     "metadata": {},
     "output_type": "display_data"
    },
    {
     "data": {
      "text/html": [
       "<pre>| 115     | 11m 16s      | 0.424044          | 0.370266                          | 0.0252496   |</pre>"
      ],
      "text/plain": [
       "| 115     | 11m 16s      | 0.424044          | 0.370266                          | 0.0252496   |"
      ]
     },
     "metadata": {},
     "output_type": "display_data"
    },
    {
     "data": {
      "text/html": [
       "<pre>| 116     | 11m 22s      | 0.423914          | 0.370021                          | 0.0252496   |</pre>"
      ],
      "text/plain": [
       "| 116     | 11m 22s      | 0.423914          | 0.370021                          | 0.0252496   |"
      ]
     },
     "metadata": {},
     "output_type": "display_data"
    },
    {
     "data": {
      "text/html": [
       "<pre>| 117     | 11m 28s      | 0.423866          | 0.369861                          | 0.0252496   |</pre>"
      ],
      "text/plain": [
       "| 117     | 11m 28s      | 0.423866          | 0.369861                          | 0.0252496   |"
      ]
     },
     "metadata": {},
     "output_type": "display_data"
    },
    {
     "data": {
      "text/html": [
       "<pre>| 118     | 11m 34s      | 0.423724          | 0.369605                          | 0.0252496   |</pre>"
      ],
      "text/plain": [
       "| 118     | 11m 34s      | 0.423724          | 0.369605                          | 0.0252496   |"
      ]
     },
     "metadata": {},
     "output_type": "display_data"
    },
    {
     "data": {
      "text/html": [
       "<pre>| 119     | 11m 39s      | 0.423653          | 0.36942                           | 0.0252496   |</pre>"
      ],
      "text/plain": [
       "| 119     | 11m 39s      | 0.423653          | 0.36942                           | 0.0252496   |"
      ]
     },
     "metadata": {},
     "output_type": "display_data"
    },
    {
     "data": {
      "text/html": [
       "<pre>| 120     | 11m 45s      | 0.423523          | 0.369176                          | 0.0252496   |</pre>"
      ],
      "text/plain": [
       "| 120     | 11m 45s      | 0.423523          | 0.369176                          | 0.0252496   |"
      ]
     },
     "metadata": {},
     "output_type": "display_data"
    },
    {
     "data": {
      "text/html": [
       "<pre>| 121     | 11m 51s      | 0.423477          | 0.369024                          | 0.0252496   |</pre>"
      ],
      "text/plain": [
       "| 121     | 11m 51s      | 0.423477          | 0.369024                          | 0.0252496   |"
      ]
     },
     "metadata": {},
     "output_type": "display_data"
    },
    {
     "data": {
      "text/html": [
       "<pre>| 122     | 11m 57s      | 0.423371          | 0.368808                          | 0.0252496   |</pre>"
      ],
      "text/plain": [
       "| 122     | 11m 57s      | 0.423371          | 0.368808                          | 0.0252496   |"
      ]
     },
     "metadata": {},
     "output_type": "display_data"
    },
    {
     "data": {
      "text/html": [
       "<pre>| 123     | 12m 3s       | 0.423295          | 0.368616                          | 0.0252496   |</pre>"
      ],
      "text/plain": [
       "| 123     | 12m 3s       | 0.423295          | 0.368616                          | 0.0252496   |"
      ]
     },
     "metadata": {},
     "output_type": "display_data"
    },
    {
     "data": {
      "text/html": [
       "<pre>| 124     | 12m 9s       | 0.423208          | 0.368416                          | 0.0252496   |</pre>"
      ],
      "text/plain": [
       "| 124     | 12m 9s       | 0.423208          | 0.368416                          | 0.0252496   |"
      ]
     },
     "metadata": {},
     "output_type": "display_data"
    },
    {
     "data": {
      "text/html": [
       "<pre>| 125     | 12m 14s      | 0.423103          | 0.368204                          | 0.0252496   |</pre>"
      ],
      "text/plain": [
       "| 125     | 12m 14s      | 0.423103          | 0.368204                          | 0.0252496   |"
      ]
     },
     "metadata": {},
     "output_type": "display_data"
    },
    {
     "data": {
      "text/html": [
       "<pre>| 126     | 12m 20s      | 0.423077          | 0.368067                          | 0.0252496   |</pre>"
      ],
      "text/plain": [
       "| 126     | 12m 20s      | 0.423077          | 0.368067                          | 0.0252496   |"
      ]
     },
     "metadata": {},
     "output_type": "display_data"
    },
    {
     "data": {
      "text/html": [
       "<pre>| 127     | 12m 26s      | 0.422979          | 0.367855                          | 0.0252496   |</pre>"
      ],
      "text/plain": [
       "| 127     | 12m 26s      | 0.422979          | 0.367855                          | 0.0252496   |"
      ]
     },
     "metadata": {},
     "output_type": "display_data"
    },
    {
     "data": {
      "text/html": [
       "<pre>| 128     | 12m 32s      | 0.422862          | 0.367627                          | 0.0252496   |</pre>"
      ],
      "text/plain": [
       "| 128     | 12m 32s      | 0.422862          | 0.367627                          | 0.0252496   |"
      ]
     },
     "metadata": {},
     "output_type": "display_data"
    },
    {
     "data": {
      "text/html": [
       "<pre>| 129     | 12m 38s      | 0.422815          | 0.367472                          | 0.0252496   |</pre>"
      ],
      "text/plain": [
       "| 129     | 12m 38s      | 0.422815          | 0.367472                          | 0.0252496   |"
      ]
     },
     "metadata": {},
     "output_type": "display_data"
    },
    {
     "data": {
      "text/html": [
       "<pre>| 130     | 12m 44s      | 0.422715          | 0.367267                          | 0.0252496   |</pre>"
      ],
      "text/plain": [
       "| 130     | 12m 44s      | 0.422715          | 0.367267                          | 0.0252496   |"
      ]
     },
     "metadata": {},
     "output_type": "display_data"
    },
    {
     "data": {
      "text/html": [
       "<pre>| 131     | 12m 49s      | 0.422624          | 0.36707                           | 0.0252496   |</pre>"
      ],
      "text/plain": [
       "| 131     | 12m 49s      | 0.422624          | 0.36707                           | 0.0252496   |"
      ]
     },
     "metadata": {},
     "output_type": "display_data"
    },
    {
     "data": {
      "text/html": [
       "<pre>| 132     | 12m 55s      | 0.422567          | 0.366898                          | 0.0252496   |</pre>"
      ],
      "text/plain": [
       "| 132     | 12m 55s      | 0.422567          | 0.366898                          | 0.0252496   |"
      ]
     },
     "metadata": {},
     "output_type": "display_data"
    },
    {
     "data": {
      "text/html": [
       "<pre>| 133     | 13m 1s       | 0.422434          | 0.366656                          | 0.0252496   |</pre>"
      ],
      "text/plain": [
       "| 133     | 13m 1s       | 0.422434          | 0.366656                          | 0.0252496   |"
      ]
     },
     "metadata": {},
     "output_type": "display_data"
    },
    {
     "data": {
      "text/html": [
       "<pre>| 134     | 13m 7s       | 0.422404          | 0.366516                          | 0.0252496   |</pre>"
      ],
      "text/plain": [
       "| 134     | 13m 7s       | 0.422404          | 0.366516                          | 0.0252496   |"
      ]
     },
     "metadata": {},
     "output_type": "display_data"
    },
    {
     "data": {
      "text/html": [
       "<pre>| 135     | 13m 13s      | 0.422353          | 0.366357                          | 0.0252496   |</pre>"
      ],
      "text/plain": [
       "| 135     | 13m 13s      | 0.422353          | 0.366357                          | 0.0252496   |"
      ]
     },
     "metadata": {},
     "output_type": "display_data"
    },
    {
     "data": {
      "text/html": [
       "<pre>| 136     | 13m 19s      | 0.42225           | 0.366149                          | 0.0252496   |</pre>"
      ],
      "text/plain": [
       "| 136     | 13m 19s      | 0.42225           | 0.366149                          | 0.0252496   |"
      ]
     },
     "metadata": {},
     "output_type": "display_data"
    },
    {
     "data": {
      "text/html": [
       "<pre>| 137     | 13m 24s      | 0.42213           | 0.36593                           | 0.0252496   |</pre>"
      ],
      "text/plain": [
       "| 137     | 13m 24s      | 0.42213           | 0.36593                           | 0.0252496   |"
      ]
     },
     "metadata": {},
     "output_type": "display_data"
    },
    {
     "data": {
      "text/html": [
       "<pre>| 138     | 13m 30s      | 0.422104          | 0.365798                          | 0.0252496   |</pre>"
      ],
      "text/plain": [
       "| 138     | 13m 30s      | 0.422104          | 0.365798                          | 0.0252496   |"
      ]
     },
     "metadata": {},
     "output_type": "display_data"
    },
    {
     "data": {
      "text/html": [
       "<pre>| 139     | 13m 36s      | 0.422035          | 0.365627                          | 0.0252496   |</pre>"
      ],
      "text/plain": [
       "| 139     | 13m 36s      | 0.422035          | 0.365627                          | 0.0252496   |"
      ]
     },
     "metadata": {},
     "output_type": "display_data"
    },
    {
     "data": {
      "text/html": [
       "<pre>| 140     | 13m 42s      | 0.42195           | 0.365437                          | 0.0252496   |</pre>"
      ],
      "text/plain": [
       "| 140     | 13m 42s      | 0.42195           | 0.365437                          | 0.0252496   |"
      ]
     },
     "metadata": {},
     "output_type": "display_data"
    },
    {
     "data": {
      "text/html": [
       "<pre>| 141     | 13m 48s      | 0.4219            | 0.365275                          | 0.0252496   |</pre>"
      ],
      "text/plain": [
       "| 141     | 13m 48s      | 0.4219            | 0.365275                          | 0.0252496   |"
      ]
     },
     "metadata": {},
     "output_type": "display_data"
    },
    {
     "data": {
      "text/html": [
       "<pre>| 142     | 13m 54s      | 0.421817          | 0.365088                          | 0.0252496   |</pre>"
      ],
      "text/plain": [
       "| 142     | 13m 54s      | 0.421817          | 0.365088                          | 0.0252496   |"
      ]
     },
     "metadata": {},
     "output_type": "display_data"
    },
    {
     "data": {
      "text/html": [
       "<pre>| 143     | 14m 0s       | 0.421733          | 0.364905                          | 0.0252496   |</pre>"
      ],
      "text/plain": [
       "| 143     | 14m 0s       | 0.421733          | 0.364905                          | 0.0252496   |"
      ]
     },
     "metadata": {},
     "output_type": "display_data"
    },
    {
     "data": {
      "text/html": [
       "<pre>| 144     | 14m 5s       | 0.421678          | 0.364754                          | 0.0252496   |</pre>"
      ],
      "text/plain": [
       "| 144     | 14m 5s       | 0.421678          | 0.364754                          | 0.0252496   |"
      ]
     },
     "metadata": {},
     "output_type": "display_data"
    },
    {
     "data": {
      "text/html": [
       "<pre>| 145     | 14m 11s      | 0.421601          | 0.364577                          | 0.0252496   |</pre>"
      ],
      "text/plain": [
       "| 145     | 14m 11s      | 0.421601          | 0.364577                          | 0.0252496   |"
      ]
     },
     "metadata": {},
     "output_type": "display_data"
    },
    {
     "data": {
      "text/html": [
       "<pre>| 146     | 14m 17s      | 0.421512          | 0.364383                          | 0.0252496   |</pre>"
      ],
      "text/plain": [
       "| 146     | 14m 17s      | 0.421512          | 0.364383                          | 0.0252496   |"
      ]
     },
     "metadata": {},
     "output_type": "display_data"
    },
    {
     "data": {
      "text/html": [
       "<pre>| 147     | 14m 23s      | 0.421445          | 0.364214                          | 0.0252496   |</pre>"
      ],
      "text/plain": [
       "| 147     | 14m 23s      | 0.421445          | 0.364214                          | 0.0252496   |"
      ]
     },
     "metadata": {},
     "output_type": "display_data"
    },
    {
     "data": {
      "text/html": [
       "<pre>| 148     | 14m 29s      | 0.421391          | 0.364056                          | 0.0252496   |</pre>"
      ],
      "text/plain": [
       "| 148     | 14m 29s      | 0.421391          | 0.364056                          | 0.0252496   |"
      ]
     },
     "metadata": {},
     "output_type": "display_data"
    },
    {
     "data": {
      "text/html": [
       "<pre>| 149     | 14m 35s      | 0.421339          | 0.363906                          | 0.0252496   |</pre>"
      ],
      "text/plain": [
       "| 149     | 14m 35s      | 0.421339          | 0.363906                          | 0.0252496   |"
      ]
     },
     "metadata": {},
     "output_type": "display_data"
    },
    {
     "data": {
      "text/html": [
       "<pre>| 150     | 14m 40s      | 0.421296          | 0.363766                          | 0.0252496   |</pre>"
      ],
      "text/plain": [
       "| 150     | 14m 40s      | 0.421296          | 0.363766                          | 0.0252496   |"
      ]
     },
     "metadata": {},
     "output_type": "display_data"
    },
    {
     "data": {
      "text/html": [
       "<pre>| 151     | 14m 46s      | 0.42121           | 0.363584                          | 0.0252496   |</pre>"
      ],
      "text/plain": [
       "| 151     | 14m 46s      | 0.42121           | 0.363584                          | 0.0252496   |"
      ]
     },
     "metadata": {},
     "output_type": "display_data"
    },
    {
     "data": {
      "text/html": [
       "<pre>| 152     | 14m 52s      | 0.421151          | 0.363429                          | 0.0252496   |</pre>"
      ],
      "text/plain": [
       "| 152     | 14m 52s      | 0.421151          | 0.363429                          | 0.0252496   |"
      ]
     },
     "metadata": {},
     "output_type": "display_data"
    },
    {
     "data": {
      "text/html": [
       "<pre>| 153     | 14m 58s      | 0.421087          | 0.363268                          | 0.0252496   |</pre>"
      ],
      "text/plain": [
       "| 153     | 14m 58s      | 0.421087          | 0.363268                          | 0.0252496   |"
      ]
     },
     "metadata": {},
     "output_type": "display_data"
    },
    {
     "data": {
      "text/html": [
       "<pre>| 154     | 15m 4s       | 0.421032          | 0.363111                          | 0.0252496   |</pre>"
      ],
      "text/plain": [
       "| 154     | 15m 4s       | 0.421032          | 0.363111                          | 0.0252496   |"
      ]
     },
     "metadata": {},
     "output_type": "display_data"
    },
    {
     "data": {
      "text/html": [
       "<pre>| 155     | 15m 10s      | 0.420924          | 0.362905                          | 0.0252496   |</pre>"
      ],
      "text/plain": [
       "| 155     | 15m 10s      | 0.420924          | 0.362905                          | 0.0252496   |"
      ]
     },
     "metadata": {},
     "output_type": "display_data"
    },
    {
     "data": {
      "text/html": [
       "<pre>| 156     | 15m 16s      | 0.42093           | 0.362817                          | 0.0252496   |</pre>"
      ],
      "text/plain": [
       "| 156     | 15m 16s      | 0.42093           | 0.362817                          | 0.0252496   |"
      ]
     },
     "metadata": {},
     "output_type": "display_data"
    },
    {
     "data": {
      "text/html": [
       "<pre>| 157     | 15m 22s      | 0.420842          | 0.362636                          | 0.0252496   |</pre>"
      ],
      "text/plain": [
       "| 157     | 15m 22s      | 0.420842          | 0.362636                          | 0.0252496   |"
      ]
     },
     "metadata": {},
     "output_type": "display_data"
    },
    {
     "data": {
      "text/html": [
       "<pre>| 158     | 15m 28s      | 0.420755          | 0.362461                          | 0.0252496   |</pre>"
      ],
      "text/plain": [
       "| 158     | 15m 28s      | 0.420755          | 0.362461                          | 0.0252496   |"
      ]
     },
     "metadata": {},
     "output_type": "display_data"
    },
    {
     "data": {
      "text/html": [
       "<pre>| 159     | 15m 33s      | 0.420754          | 0.362358                          | 0.0252496   |</pre>"
      ],
      "text/plain": [
       "| 159     | 15m 33s      | 0.420754          | 0.362358                          | 0.0252496   |"
      ]
     },
     "metadata": {},
     "output_type": "display_data"
    },
    {
     "data": {
      "text/html": [
       "<pre>| 160     | 15m 39s      | 0.420699          | 0.362209                          | 0.0252496   |</pre>"
      ],
      "text/plain": [
       "| 160     | 15m 39s      | 0.420699          | 0.362209                          | 0.0252496   |"
      ]
     },
     "metadata": {},
     "output_type": "display_data"
    },
    {
     "data": {
      "text/html": [
       "<pre>| 161     | 15m 45s      | 0.420597          | 0.36201                           | 0.0252496   |</pre>"
      ],
      "text/plain": [
       "| 161     | 15m 45s      | 0.420597          | 0.36201                           | 0.0252496   |"
      ]
     },
     "metadata": {},
     "output_type": "display_data"
    },
    {
     "data": {
      "text/html": [
       "<pre>| 162     | 15m 51s      | 0.420551          | 0.361874                          | 0.0252496   |</pre>"
      ],
      "text/plain": [
       "| 162     | 15m 51s      | 0.420551          | 0.361874                          | 0.0252496   |"
      ]
     },
     "metadata": {},
     "output_type": "display_data"
    },
    {
     "data": {
      "text/html": [
       "<pre>| 163     | 15m 57s      | 0.42048           | 0.361715                          | 0.0252496   |</pre>"
      ],
      "text/plain": [
       "| 163     | 15m 57s      | 0.42048           | 0.361715                          | 0.0252496   |"
      ]
     },
     "metadata": {},
     "output_type": "display_data"
    },
    {
     "data": {
      "text/html": [
       "<pre>| 164     | 16m 2s       | 0.42044           | 0.361585                          | 0.0252496   |</pre>"
      ],
      "text/plain": [
       "| 164     | 16m 2s       | 0.42044           | 0.361585                          | 0.0252496   |"
      ]
     },
     "metadata": {},
     "output_type": "display_data"
    },
    {
     "data": {
      "text/html": [
       "<pre>| 165     | 16m 8s       | 0.420388          | 0.361435                          | 0.0252496   |</pre>"
      ],
      "text/plain": [
       "| 165     | 16m 8s       | 0.420388          | 0.361435                          | 0.0252496   |"
      ]
     },
     "metadata": {},
     "output_type": "display_data"
    },
    {
     "data": {
      "text/html": [
       "<pre>| 166     | 16m 14s      | 0.42036           | 0.361312                          | 0.0252496   |</pre>"
      ],
      "text/plain": [
       "| 166     | 16m 14s      | 0.42036           | 0.361312                          | 0.0252496   |"
      ]
     },
     "metadata": {},
     "output_type": "display_data"
    },
    {
     "data": {
      "text/html": [
       "<pre>| 167     | 16m 20s      | 0.420278          | 0.361137                          | 0.0252496   |</pre>"
      ],
      "text/plain": [
       "| 167     | 16m 20s      | 0.420278          | 0.361137                          | 0.0252496   |"
      ]
     },
     "metadata": {},
     "output_type": "display_data"
    },
    {
     "data": {
      "text/html": [
       "<pre>| 168     | 16m 26s      | 0.420209          | 0.360982                          | 0.0252496   |</pre>"
      ],
      "text/plain": [
       "| 168     | 16m 26s      | 0.420209          | 0.360982                          | 0.0252496   |"
      ]
     },
     "metadata": {},
     "output_type": "display_data"
    },
    {
     "data": {
      "text/html": [
       "<pre>| 169     | 16m 32s      | 0.420182          | 0.360869                          | 0.0252496   |</pre>"
      ],
      "text/plain": [
       "| 169     | 16m 32s      | 0.420182          | 0.360869                          | 0.0252496   |"
      ]
     },
     "metadata": {},
     "output_type": "display_data"
    },
    {
     "data": {
      "text/html": [
       "<pre>| 170     | 16m 37s      | 0.420084          | 0.360687                          | 0.0252496   |</pre>"
      ],
      "text/plain": [
       "| 170     | 16m 37s      | 0.420084          | 0.360687                          | 0.0252496   |"
      ]
     },
     "metadata": {},
     "output_type": "display_data"
    },
    {
     "data": {
      "text/html": [
       "<pre>| 171     | 16m 43s      | 0.420049          | 0.360554                          | 0.0252496   |</pre>"
      ],
      "text/plain": [
       "| 171     | 16m 43s      | 0.420049          | 0.360554                          | 0.0252496   |"
      ]
     },
     "metadata": {},
     "output_type": "display_data"
    },
    {
     "data": {
      "text/html": [
       "<pre>| 172     | 16m 49s      | 0.420028          | 0.360442                          | 0.0252496   |</pre>"
      ],
      "text/plain": [
       "| 172     | 16m 49s      | 0.420028          | 0.360442                          | 0.0252496   |"
      ]
     },
     "metadata": {},
     "output_type": "display_data"
    },
    {
     "data": {
      "text/html": [
       "<pre>| 173     | 16m 55s      | 0.419924          | 0.360251                          | 0.0252496   |</pre>"
      ],
      "text/plain": [
       "| 173     | 16m 55s      | 0.419924          | 0.360251                          | 0.0252496   |"
      ]
     },
     "metadata": {},
     "output_type": "display_data"
    },
    {
     "data": {
      "text/html": [
       "<pre>| 174     | 17m 1s       | 0.419895          | 0.360136                          | 0.0252496   |</pre>"
      ],
      "text/plain": [
       "| 174     | 17m 1s       | 0.419895          | 0.360136                          | 0.0252496   |"
      ]
     },
     "metadata": {},
     "output_type": "display_data"
    },
    {
     "data": {
      "text/html": [
       "<pre>| 175     | 17m 7s       | 0.419849          | 0.360002                          | 0.0252496   |</pre>"
      ],
      "text/plain": [
       "| 175     | 17m 7s       | 0.419849          | 0.360002                          | 0.0252496   |"
      ]
     },
     "metadata": {},
     "output_type": "display_data"
    },
    {
     "data": {
      "text/html": [
       "<pre>| 176     | 17m 12s      | 0.419801          | 0.359871                          | 0.0252496   |</pre>"
      ],
      "text/plain": [
       "| 176     | 17m 12s      | 0.419801          | 0.359871                          | 0.0252496   |"
      ]
     },
     "metadata": {},
     "output_type": "display_data"
    },
    {
     "data": {
      "text/html": [
       "<pre>| 177     | 17m 18s      | 0.41978           | 0.359759                          | 0.0252496   |</pre>"
      ],
      "text/plain": [
       "| 177     | 17m 18s      | 0.41978           | 0.359759                          | 0.0252496   |"
      ]
     },
     "metadata": {},
     "output_type": "display_data"
    },
    {
     "data": {
      "text/html": [
       "<pre>| 178     | 17m 24s      | 0.419743          | 0.35963                           | 0.0252496   |</pre>"
      ],
      "text/plain": [
       "| 178     | 17m 24s      | 0.419743          | 0.35963                           | 0.0252496   |"
      ]
     },
     "metadata": {},
     "output_type": "display_data"
    },
    {
     "data": {
      "text/html": [
       "<pre>| 179     | 17m 30s      | 0.41966           | 0.359463                          | 0.0252496   |</pre>"
      ],
      "text/plain": [
       "| 179     | 17m 30s      | 0.41966           | 0.359463                          | 0.0252496   |"
      ]
     },
     "metadata": {},
     "output_type": "display_data"
    },
    {
     "data": {
      "text/html": [
       "<pre>| 180     | 17m 36s      | 0.419599          | 0.359319                          | 0.0252496   |</pre>"
      ],
      "text/plain": [
       "| 180     | 17m 36s      | 0.419599          | 0.359319                          | 0.0252496   |"
      ]
     },
     "metadata": {},
     "output_type": "display_data"
    },
    {
     "data": {
      "text/html": [
       "<pre>| 181     | 17m 42s      | 0.419579          | 0.359218                          | 0.0252496   |</pre>"
      ],
      "text/plain": [
       "| 181     | 17m 42s      | 0.419579          | 0.359218                          | 0.0252496   |"
      ]
     },
     "metadata": {},
     "output_type": "display_data"
    },
    {
     "data": {
      "text/html": [
       "<pre>| 182     | 17m 48s      | 0.419528          | 0.359078                          | 0.0252496   |</pre>"
      ],
      "text/plain": [
       "| 182     | 17m 48s      | 0.419528          | 0.359078                          | 0.0252496   |"
      ]
     },
     "metadata": {},
     "output_type": "display_data"
    },
    {
     "data": {
      "text/html": [
       "<pre>| 183     | 17m 53s      | 0.419474          | 0.35894                           | 0.0252496   |</pre>"
      ],
      "text/plain": [
       "| 183     | 17m 53s      | 0.419474          | 0.35894                           | 0.0252496   |"
      ]
     },
     "metadata": {},
     "output_type": "display_data"
    },
    {
     "data": {
      "text/html": [
       "<pre>| 184     | 17m 59s      | 0.419428          | 0.358811                          | 0.0252496   |</pre>"
      ],
      "text/plain": [
       "| 184     | 17m 59s      | 0.419428          | 0.358811                          | 0.0252496   |"
      ]
     },
     "metadata": {},
     "output_type": "display_data"
    },
    {
     "data": {
      "text/html": [
       "<pre>| 185     | 18m 5s       | 0.419392          | 0.358688                          | 0.0252496   |</pre>"
      ],
      "text/plain": [
       "| 185     | 18m 5s       | 0.419392          | 0.358688                          | 0.0252496   |"
      ]
     },
     "metadata": {},
     "output_type": "display_data"
    },
    {
     "data": {
      "text/html": [
       "<pre>| 186     | 18m 11s      | 0.419343          | 0.358557                          | 0.0252496   |</pre>"
      ],
      "text/plain": [
       "| 186     | 18m 11s      | 0.419343          | 0.358557                          | 0.0252496   |"
      ]
     },
     "metadata": {},
     "output_type": "display_data"
    },
    {
     "data": {
      "text/html": [
       "<pre>| 187     | 18m 17s      | 0.419299          | 0.358433                          | 0.0252496   |</pre>"
      ],
      "text/plain": [
       "| 187     | 18m 17s      | 0.419299          | 0.358433                          | 0.0252496   |"
      ]
     },
     "metadata": {},
     "output_type": "display_data"
    },
    {
     "data": {
      "text/html": [
       "<pre>| 188     | 18m 23s      | 0.419274          | 0.358318                          | 0.0252496   |</pre>"
      ],
      "text/plain": [
       "| 188     | 18m 23s      | 0.419274          | 0.358318                          | 0.0252496   |"
      ]
     },
     "metadata": {},
     "output_type": "display_data"
    },
    {
     "data": {
      "text/html": [
       "<pre>| 189     | 18m 29s      | 0.419196          | 0.358157                          | 0.0252496   |</pre>"
      ],
      "text/plain": [
       "| 189     | 18m 29s      | 0.419196          | 0.358157                          | 0.0252496   |"
      ]
     },
     "metadata": {},
     "output_type": "display_data"
    },
    {
     "data": {
      "text/html": [
       "<pre>| 190     | 18m 35s      | 0.419187          | 0.358067                          | 0.0252496   |</pre>"
      ],
      "text/plain": [
       "| 190     | 18m 35s      | 0.419187          | 0.358067                          | 0.0252496   |"
      ]
     },
     "metadata": {},
     "output_type": "display_data"
    },
    {
     "data": {
      "text/html": [
       "<pre>| 191     | 18m 40s      | 0.419126          | 0.357928                          | 0.0252496   |</pre>"
      ],
      "text/plain": [
       "| 191     | 18m 40s      | 0.419126          | 0.357928                          | 0.0252496   |"
      ]
     },
     "metadata": {},
     "output_type": "display_data"
    },
    {
     "data": {
      "text/html": [
       "<pre>| 192     | 18m 46s      | 0.419096          | 0.35782                           | 0.0252496   |</pre>"
      ],
      "text/plain": [
       "| 192     | 18m 46s      | 0.419096          | 0.35782                           | 0.0252496   |"
      ]
     },
     "metadata": {},
     "output_type": "display_data"
    },
    {
     "data": {
      "text/html": [
       "<pre>| 193     | 18m 52s      | 0.419046          | 0.357688                          | 0.0252496   |</pre>"
      ],
      "text/plain": [
       "| 193     | 18m 52s      | 0.419046          | 0.357688                          | 0.0252496   |"
      ]
     },
     "metadata": {},
     "output_type": "display_data"
    },
    {
     "data": {
      "text/html": [
       "<pre>| 194     | 18m 58s      | 0.419035          | 0.357596                          | 0.0252496   |</pre>"
      ],
      "text/plain": [
       "| 194     | 18m 58s      | 0.419035          | 0.357596                          | 0.0252496   |"
      ]
     },
     "metadata": {},
     "output_type": "display_data"
    },
    {
     "data": {
      "text/html": [
       "<pre>| 195     | 19m 4s       | 0.418999          | 0.35748                           | 0.0252496   |</pre>"
      ],
      "text/plain": [
       "| 195     | 19m 4s       | 0.418999          | 0.35748                           | 0.0252496   |"
      ]
     },
     "metadata": {},
     "output_type": "display_data"
    },
    {
     "data": {
      "text/html": [
       "<pre>| 196     | 19m 10s      | 0.418953          | 0.357355                          | 0.0252496   |</pre>"
      ],
      "text/plain": [
       "| 196     | 19m 10s      | 0.418953          | 0.357355                          | 0.0252496   |"
      ]
     },
     "metadata": {},
     "output_type": "display_data"
    },
    {
     "data": {
      "text/html": [
       "<pre>| 197     | 19m 16s      | 0.418892          | 0.357213                          | 0.0252496   |</pre>"
      ],
      "text/plain": [
       "| 197     | 19m 16s      | 0.418892          | 0.357213                          | 0.0252496   |"
      ]
     },
     "metadata": {},
     "output_type": "display_data"
    },
    {
     "data": {
      "text/html": [
       "<pre>| 198     | 19m 22s      | 0.418843          | 0.357082                          | 0.0252496   |</pre>"
      ],
      "text/plain": [
       "| 198     | 19m 22s      | 0.418843          | 0.357082                          | 0.0252496   |"
      ]
     },
     "metadata": {},
     "output_type": "display_data"
    },
    {
     "data": {
      "text/html": [
       "<pre>| 199     | 19m 27s      | 0.418803          | 0.356961                          | 0.0252496   |</pre>"
      ],
      "text/plain": [
       "| 199     | 19m 27s      | 0.418803          | 0.356961                          | 0.0252496   |"
      ]
     },
     "metadata": {},
     "output_type": "display_data"
    },
    {
     "data": {
      "text/html": [
       "<pre>| 200     | 19m 33s      | 0.418782          | 0.35686                           | 0.0252496   |</pre>"
      ],
      "text/plain": [
       "| 200     | 19m 33s      | 0.418782          | 0.35686                           | 0.0252496   |"
      ]
     },
     "metadata": {},
     "output_type": "display_data"
    },
    {
     "data": {
      "text/html": [
       "<pre>| 201     | 19m 39s      | 0.418706          | 0.35671                           | 0.0252496   |</pre>"
      ],
      "text/plain": [
       "| 201     | 19m 39s      | 0.418706          | 0.35671                           | 0.0252496   |"
      ]
     },
     "metadata": {},
     "output_type": "display_data"
    },
    {
     "data": {
      "text/html": [
       "<pre>| 202     | 19m 45s      | 0.418676          | 0.356605                          | 0.0252496   |</pre>"
      ],
      "text/plain": [
       "| 202     | 19m 45s      | 0.418676          | 0.356605                          | 0.0252496   |"
      ]
     },
     "metadata": {},
     "output_type": "display_data"
    },
    {
     "data": {
      "text/html": [
       "<pre>| 203     | 19m 51s      | 0.418648          | 0.356502                          | 0.0252496   |</pre>"
      ],
      "text/plain": [
       "| 203     | 19m 51s      | 0.418648          | 0.356502                          | 0.0252496   |"
      ]
     },
     "metadata": {},
     "output_type": "display_data"
    },
    {
     "data": {
      "text/html": [
       "<pre>| 204     | 19m 57s      | 0.418607          | 0.356384                          | 0.0252496   |</pre>"
      ],
      "text/plain": [
       "| 204     | 19m 57s      | 0.418607          | 0.356384                          | 0.0252496   |"
      ]
     },
     "metadata": {},
     "output_type": "display_data"
    },
    {
     "data": {
      "text/html": [
       "<pre>| 205     | 20m 2s       | 0.418561          | 0.356265                          | 0.0252496   |</pre>"
      ],
      "text/plain": [
       "| 205     | 20m 2s       | 0.418561          | 0.356265                          | 0.0252496   |"
      ]
     },
     "metadata": {},
     "output_type": "display_data"
    },
    {
     "data": {
      "text/html": [
       "<pre>| 206     | 20m 8s       | 0.418504          | 0.356129                          | 0.0252496   |</pre>"
      ],
      "text/plain": [
       "| 206     | 20m 8s       | 0.418504          | 0.356129                          | 0.0252496   |"
      ]
     },
     "metadata": {},
     "output_type": "display_data"
    },
    {
     "data": {
      "text/html": [
       "<pre>| 207     | 20m 14s      | 0.418507          | 0.356054                          | 0.0252496   |</pre>"
      ],
      "text/plain": [
       "| 207     | 20m 14s      | 0.418507          | 0.356054                          | 0.0252496   |"
      ]
     },
     "metadata": {},
     "output_type": "display_data"
    },
    {
     "data": {
      "text/html": [
       "<pre>| 208     | 20m 20s      | 0.418434          | 0.355901                          | 0.0252496   |</pre>"
      ],
      "text/plain": [
       "| 208     | 20m 20s      | 0.418434          | 0.355901                          | 0.0252496   |"
      ]
     },
     "metadata": {},
     "output_type": "display_data"
    },
    {
     "data": {
      "text/html": [
       "<pre>| 209     | 20m 26s      | 0.418447          | 0.355836                          | 0.0252496   |</pre>"
      ],
      "text/plain": [
       "| 209     | 20m 26s      | 0.418447          | 0.355836                          | 0.0252496   |"
      ]
     },
     "metadata": {},
     "output_type": "display_data"
    },
    {
     "data": {
      "text/html": [
       "<pre>| 210     | 20m 32s      | 0.418373          | 0.355688                          | 0.0252496   |</pre>"
      ],
      "text/plain": [
       "| 210     | 20m 32s      | 0.418373          | 0.355688                          | 0.0252496   |"
      ]
     },
     "metadata": {},
     "output_type": "display_data"
    },
    {
     "data": {
      "text/html": [
       "<pre>| 211     | 20m 37s      | 0.418329          | 0.355576                          | 0.0252496   |</pre>"
      ],
      "text/plain": [
       "| 211     | 20m 37s      | 0.418329          | 0.355576                          | 0.0252496   |"
      ]
     },
     "metadata": {},
     "output_type": "display_data"
    },
    {
     "data": {
      "text/html": [
       "<pre>| 212     | 20m 43s      | 0.418313          | 0.35549                           | 0.0252496   |</pre>"
      ],
      "text/plain": [
       "| 212     | 20m 43s      | 0.418313          | 0.35549                           | 0.0252496   |"
      ]
     },
     "metadata": {},
     "output_type": "display_data"
    },
    {
     "data": {
      "text/html": [
       "<pre>| 213     | 20m 49s      | 0.41829           | 0.355393                          | 0.0252496   |</pre>"
      ],
      "text/plain": [
       "| 213     | 20m 49s      | 0.41829           | 0.355393                          | 0.0252496   |"
      ]
     },
     "metadata": {},
     "output_type": "display_data"
    },
    {
     "data": {
      "text/html": [
       "<pre>| 214     | 20m 55s      | 0.418286          | 0.355316                          | 0.0252496   |</pre>"
      ],
      "text/plain": [
       "| 214     | 20m 55s      | 0.418286          | 0.355316                          | 0.0252496   |"
      ]
     },
     "metadata": {},
     "output_type": "display_data"
    },
    {
     "data": {
      "text/html": [
       "<pre>| 215     | 21m 1s       | 0.418222          | 0.355181                          | 0.0252496   |</pre>"
      ],
      "text/plain": [
       "| 215     | 21m 1s       | 0.418222          | 0.355181                          | 0.0252496   |"
      ]
     },
     "metadata": {},
     "output_type": "display_data"
    },
    {
     "data": {
      "text/html": [
       "<pre>| 216     | 21m 6s       | 0.418187          | 0.355071                          | 0.0252496   |</pre>"
      ],
      "text/plain": [
       "| 216     | 21m 6s       | 0.418187          | 0.355071                          | 0.0252496   |"
      ]
     },
     "metadata": {},
     "output_type": "display_data"
    },
    {
     "data": {
      "text/html": [
       "<pre>| 217     | 21m 12s      | 0.418138          | 0.354948                          | 0.0252496   |</pre>"
      ],
      "text/plain": [
       "| 217     | 21m 12s      | 0.418138          | 0.354948                          | 0.0252496   |"
      ]
     },
     "metadata": {},
     "output_type": "display_data"
    },
    {
     "data": {
      "text/html": [
       "<pre>| 218     | 21m 18s      | 0.418135          | 0.354869                          | 0.0252496   |</pre>"
      ],
      "text/plain": [
       "| 218     | 21m 18s      | 0.418135          | 0.354869                          | 0.0252496   |"
      ]
     },
     "metadata": {},
     "output_type": "display_data"
    },
    {
     "data": {
      "text/html": [
       "<pre>| 219     | 21m 24s      | 0.418084          | 0.354745                          | 0.0252496   |</pre>"
      ],
      "text/plain": [
       "| 219     | 21m 24s      | 0.418084          | 0.354745                          | 0.0252496   |"
      ]
     },
     "metadata": {},
     "output_type": "display_data"
    },
    {
     "data": {
      "text/html": [
       "<pre>| 220     | 21m 30s      | 0.418062          | 0.354653                          | 0.0252496   |</pre>"
      ],
      "text/plain": [
       "| 220     | 21m 30s      | 0.418062          | 0.354653                          | 0.0252496   |"
      ]
     },
     "metadata": {},
     "output_type": "display_data"
    },
    {
     "data": {
      "text/html": [
       "<pre>| 221     | 21m 36s      | 0.418             | 0.35452                           | 0.0252496   |</pre>"
      ],
      "text/plain": [
       "| 221     | 21m 36s      | 0.418             | 0.35452                           | 0.0252496   |"
      ]
     },
     "metadata": {},
     "output_type": "display_data"
    },
    {
     "data": {
      "text/html": [
       "<pre>| 222     | 21m 41s      | 0.417981          | 0.354436                          | 0.0252496   |</pre>"
      ],
      "text/plain": [
       "| 222     | 21m 41s      | 0.417981          | 0.354436                          | 0.0252496   |"
      ]
     },
     "metadata": {},
     "output_type": "display_data"
    },
    {
     "data": {
      "text/html": [
       "<pre>| 223     | 21m 47s      | 0.417994          | 0.354379                          | 0.0252496   |</pre>"
      ],
      "text/plain": [
       "| 223     | 21m 47s      | 0.417994          | 0.354379                          | 0.0252496   |"
      ]
     },
     "metadata": {},
     "output_type": "display_data"
    },
    {
     "data": {
      "text/html": [
       "<pre>| 224     | 21m 53s      | 0.417948          | 0.354267                          | 0.0252496   |</pre>"
      ],
      "text/plain": [
       "| 224     | 21m 53s      | 0.417948          | 0.354267                          | 0.0252496   |"
      ]
     },
     "metadata": {},
     "output_type": "display_data"
    },
    {
     "data": {
      "text/html": [
       "<pre>| 225     | 21m 59s      | 0.417887          | 0.354129                          | 0.0252496   |</pre>"
      ],
      "text/plain": [
       "| 225     | 21m 59s      | 0.417887          | 0.354129                          | 0.0252496   |"
      ]
     },
     "metadata": {},
     "output_type": "display_data"
    },
    {
     "data": {
      "text/html": [
       "<pre>| 226     | 22m 5s       | 0.417868          | 0.354038                          | 0.0252496   |</pre>"
      ],
      "text/plain": [
       "| 226     | 22m 5s       | 0.417868          | 0.354038                          | 0.0252496   |"
      ]
     },
     "metadata": {},
     "output_type": "display_data"
    },
    {
     "data": {
      "text/html": [
       "<pre>| 227     | 22m 11s      | 0.417866          | 0.353962                          | 0.0252496   |</pre>"
      ],
      "text/plain": [
       "| 227     | 22m 11s      | 0.417866          | 0.353962                          | 0.0252496   |"
      ]
     },
     "metadata": {},
     "output_type": "display_data"
    },
    {
     "data": {
      "text/html": [
       "<pre>| 228     | 22m 17s      | 0.417837          | 0.35386                           | 0.0252496   |</pre>"
      ],
      "text/plain": [
       "| 228     | 22m 17s      | 0.417837          | 0.35386                           | 0.0252496   |"
      ]
     },
     "metadata": {},
     "output_type": "display_data"
    },
    {
     "data": {
      "text/html": [
       "<pre>| 229     | 22m 22s      | 0.417774          | 0.353728                          | 0.0252496   |</pre>"
      ],
      "text/plain": [
       "| 229     | 22m 22s      | 0.417774          | 0.353728                          | 0.0252496   |"
      ]
     },
     "metadata": {},
     "output_type": "display_data"
    },
    {
     "data": {
      "text/html": [
       "<pre>| 230     | 22m 28s      | 0.417776          | 0.353663                          | 0.0252496   |</pre>"
      ],
      "text/plain": [
       "| 230     | 22m 28s      | 0.417776          | 0.353663                          | 0.0252496   |"
      ]
     },
     "metadata": {},
     "output_type": "display_data"
    },
    {
     "data": {
      "text/html": [
       "<pre>| 231     | 22m 34s      | 0.417732          | 0.353555                          | 0.0252496   |</pre>"
      ],
      "text/plain": [
       "| 231     | 22m 34s      | 0.417732          | 0.353555                          | 0.0252496   |"
      ]
     },
     "metadata": {},
     "output_type": "display_data"
    },
    {
     "data": {
      "text/html": [
       "<pre>| 232     | 22m 40s      | 0.417681          | 0.353436                          | 0.0252496   |</pre>"
      ],
      "text/plain": [
       "| 232     | 22m 40s      | 0.417681          | 0.353436                          | 0.0252496   |"
      ]
     },
     "metadata": {},
     "output_type": "display_data"
    },
    {
     "data": {
      "text/html": [
       "<pre>| 233     | 22m 46s      | 0.41765           | 0.353342                          | 0.0252496   |</pre>"
      ],
      "text/plain": [
       "| 233     | 22m 46s      | 0.41765           | 0.353342                          | 0.0252496   |"
      ]
     },
     "metadata": {},
     "output_type": "display_data"
    },
    {
     "data": {
      "text/html": [
       "<pre>| 234     | 22m 52s      | 0.41764           | 0.353258                          | 0.0252496   |</pre>"
      ],
      "text/plain": [
       "| 234     | 22m 52s      | 0.41764           | 0.353258                          | 0.0252496   |"
      ]
     },
     "metadata": {},
     "output_type": "display_data"
    },
    {
     "data": {
      "text/html": [
       "<pre>| 235     | 22m 57s      | 0.417614          | 0.353161                          | 0.0252496   |</pre>"
      ],
      "text/plain": [
       "| 235     | 22m 57s      | 0.417614          | 0.353161                          | 0.0252496   |"
      ]
     },
     "metadata": {},
     "output_type": "display_data"
    },
    {
     "data": {
      "text/html": [
       "<pre>| 236     | 23m 3s       | 0.417579          | 0.353054                          | 0.0252496   |</pre>"
      ],
      "text/plain": [
       "| 236     | 23m 3s       | 0.417579          | 0.353054                          | 0.0252496   |"
      ]
     },
     "metadata": {},
     "output_type": "display_data"
    },
    {
     "data": {
      "text/html": [
       "<pre>| 237     | 23m 9s       | 0.417554          | 0.352958                          | 0.0252496   |</pre>"
      ],
      "text/plain": [
       "| 237     | 23m 9s       | 0.417554          | 0.352958                          | 0.0252496   |"
      ]
     },
     "metadata": {},
     "output_type": "display_data"
    },
    {
     "data": {
      "text/html": [
       "<pre>| 238     | 23m 15s      | 0.417529          | 0.352867                          | 0.0252496   |</pre>"
      ],
      "text/plain": [
       "| 238     | 23m 15s      | 0.417529          | 0.352867                          | 0.0252496   |"
      ]
     },
     "metadata": {},
     "output_type": "display_data"
    },
    {
     "data": {
      "text/html": [
       "<pre>| 239     | 23m 21s      | 0.417493          | 0.352765                          | 0.0252496   |</pre>"
      ],
      "text/plain": [
       "| 239     | 23m 21s      | 0.417493          | 0.352765                          | 0.0252496   |"
      ]
     },
     "metadata": {},
     "output_type": "display_data"
    },
    {
     "data": {
      "text/html": [
       "<pre>| 240     | 23m 27s      | 0.41747           | 0.352679                          | 0.0252496   |</pre>"
      ],
      "text/plain": [
       "| 240     | 23m 27s      | 0.41747           | 0.352679                          | 0.0252496   |"
      ]
     },
     "metadata": {},
     "output_type": "display_data"
    },
    {
     "data": {
      "text/html": [
       "<pre>| 241     | 23m 32s      | 0.417428          | 0.352575                          | 0.0252496   |</pre>"
      ],
      "text/plain": [
       "| 241     | 23m 32s      | 0.417428          | 0.352575                          | 0.0252496   |"
      ]
     },
     "metadata": {},
     "output_type": "display_data"
    },
    {
     "data": {
      "text/html": [
       "<pre>| 242     | 23m 38s      | 0.417429          | 0.352512                          | 0.0252496   |</pre>"
      ],
      "text/plain": [
       "| 242     | 23m 38s      | 0.417429          | 0.352512                          | 0.0252496   |"
      ]
     },
     "metadata": {},
     "output_type": "display_data"
    },
    {
     "data": {
      "text/html": [
       "<pre>| 243     | 23m 44s      | 0.417382          | 0.352394                          | 0.0252496   |</pre>"
      ],
      "text/plain": [
       "| 243     | 23m 44s      | 0.417382          | 0.352394                          | 0.0252496   |"
      ]
     },
     "metadata": {},
     "output_type": "display_data"
    },
    {
     "data": {
      "text/html": [
       "<pre>| 244     | 23m 50s      | 0.417366          | 0.35231                           | 0.0252496   |</pre>"
      ],
      "text/plain": [
       "| 244     | 23m 50s      | 0.417366          | 0.35231                           | 0.0252496   |"
      ]
     },
     "metadata": {},
     "output_type": "display_data"
    },
    {
     "data": {
      "text/html": [
       "<pre>| 245     | 23m 56s      | 0.417334          | 0.352208                          | 0.0252496   |</pre>"
      ],
      "text/plain": [
       "| 245     | 23m 56s      | 0.417334          | 0.352208                          | 0.0252496   |"
      ]
     },
     "metadata": {},
     "output_type": "display_data"
    },
    {
     "data": {
      "text/html": [
       "<pre>| 246     | 24m 2s       | 0.417322          | 0.352129                          | 0.0252496   |</pre>"
      ],
      "text/plain": [
       "| 246     | 24m 2s       | 0.417322          | 0.352129                          | 0.0252496   |"
      ]
     },
     "metadata": {},
     "output_type": "display_data"
    },
    {
     "data": {
      "text/html": [
       "<pre>| 247     | 24m 7s       | 0.417295          | 0.352038                          | 0.0252496   |</pre>"
      ],
      "text/plain": [
       "| 247     | 24m 7s       | 0.417295          | 0.352038                          | 0.0252496   |"
      ]
     },
     "metadata": {},
     "output_type": "display_data"
    },
    {
     "data": {
      "text/html": [
       "<pre>| 248     | 24m 13s      | 0.417277          | 0.351959                          | 0.0252496   |</pre>"
      ],
      "text/plain": [
       "| 248     | 24m 13s      | 0.417277          | 0.351959                          | 0.0252496   |"
      ]
     },
     "metadata": {},
     "output_type": "display_data"
    },
    {
     "data": {
      "text/html": [
       "<pre>| 249     | 24m 19s      | 0.417224          | 0.351844                          | 0.0252496   |</pre>"
      ],
      "text/plain": [
       "| 249     | 24m 19s      | 0.417224          | 0.351844                          | 0.0252496   |"
      ]
     },
     "metadata": {},
     "output_type": "display_data"
    },
    {
     "data": {
      "text/html": [
       "<pre>| 250     | 24m 25s      | 0.417211          | 0.351769                          | 0.0252496   |</pre>"
      ],
      "text/plain": [
       "| 250     | 24m 25s      | 0.417211          | 0.351769                          | 0.0252496   |"
      ]
     },
     "metadata": {},
     "output_type": "display_data"
    },
    {
     "data": {
      "text/html": [
       "<pre>| 251     | 24m 31s      | 0.417172          | 0.35167                           | 0.0252496   |</pre>"
      ],
      "text/plain": [
       "| 251     | 24m 31s      | 0.417172          | 0.35167                           | 0.0252496   |"
      ]
     },
     "metadata": {},
     "output_type": "display_data"
    },
    {
     "data": {
      "text/html": [
       "<pre>| 252     | 24m 37s      | 0.417179          | 0.351609                          | 0.0252496   |</pre>"
      ],
      "text/plain": [
       "| 252     | 24m 37s      | 0.417179          | 0.351609                          | 0.0252496   |"
      ]
     },
     "metadata": {},
     "output_type": "display_data"
    },
    {
     "data": {
      "text/html": [
       "<pre>| 253     | 24m 42s      | 0.417141          | 0.351506                          | 0.0252496   |</pre>"
      ],
      "text/plain": [
       "| 253     | 24m 42s      | 0.417141          | 0.351506                          | 0.0252496   |"
      ]
     },
     "metadata": {},
     "output_type": "display_data"
    },
    {
     "data": {
      "text/html": [
       "<pre>| 254     | 24m 48s      | 0.41713           | 0.351428                          | 0.0252496   |</pre>"
      ],
      "text/plain": [
       "| 254     | 24m 48s      | 0.41713           | 0.351428                          | 0.0252496   |"
      ]
     },
     "metadata": {},
     "output_type": "display_data"
    },
    {
     "data": {
      "text/html": [
       "<pre>| 255     | 24m 54s      | 0.417131          | 0.351364                          | 0.0252496   |</pre>"
      ],
      "text/plain": [
       "| 255     | 24m 54s      | 0.417131          | 0.351364                          | 0.0252496   |"
      ]
     },
     "metadata": {},
     "output_type": "display_data"
    },
    {
     "data": {
      "text/html": [
       "<pre>| 256     | 25m 0s       | 0.417064          | 0.351236                          | 0.0252496   |</pre>"
      ],
      "text/plain": [
       "| 256     | 25m 0s       | 0.417064          | 0.351236                          | 0.0252496   |"
      ]
     },
     "metadata": {},
     "output_type": "display_data"
    },
    {
     "data": {
      "text/html": [
       "<pre>| 257     | 25m 6s       | 0.417018          | 0.351132                          | 0.0252496   |</pre>"
      ],
      "text/plain": [
       "| 257     | 25m 6s       | 0.417018          | 0.351132                          | 0.0252496   |"
      ]
     },
     "metadata": {},
     "output_type": "display_data"
    },
    {
     "data": {
      "text/html": [
       "<pre>| 258     | 25m 12s      | 0.416992          | 0.351046                          | 0.0252496   |</pre>"
      ],
      "text/plain": [
       "| 258     | 25m 12s      | 0.416992          | 0.351046                          | 0.0252496   |"
      ]
     },
     "metadata": {},
     "output_type": "display_data"
    },
    {
     "data": {
      "text/html": [
       "<pre>| 259     | 25m 17s      | 0.416995          | 0.350991                          | 0.0252496   |</pre>"
      ],
      "text/plain": [
       "| 259     | 25m 17s      | 0.416995          | 0.350991                          | 0.0252496   |"
      ]
     },
     "metadata": {},
     "output_type": "display_data"
    },
    {
     "data": {
      "text/html": [
       "<pre>| 260     | 25m 23s      | 0.416974          | 0.350904                          | 0.0252496   |</pre>"
      ],
      "text/plain": [
       "| 260     | 25m 23s      | 0.416974          | 0.350904                          | 0.0252496   |"
      ]
     },
     "metadata": {},
     "output_type": "display_data"
    },
    {
     "data": {
      "text/html": [
       "<pre>| 261     | 25m 29s      | 0.416964          | 0.350832                          | 0.0252496   |</pre>"
      ],
      "text/plain": [
       "| 261     | 25m 29s      | 0.416964          | 0.350832                          | 0.0252496   |"
      ]
     },
     "metadata": {},
     "output_type": "display_data"
    },
    {
     "data": {
      "text/html": [
       "<pre>| 262     | 25m 35s      | 0.416923          | 0.350726                          | 0.0252496   |</pre>"
      ],
      "text/plain": [
       "| 262     | 25m 35s      | 0.416923          | 0.350726                          | 0.0252496   |"
      ]
     },
     "metadata": {},
     "output_type": "display_data"
    },
    {
     "data": {
      "text/html": [
       "<pre>| 263     | 25m 41s      | 0.416903          | 0.350646                          | 0.0252496   |</pre>"
      ],
      "text/plain": [
       "| 263     | 25m 41s      | 0.416903          | 0.350646                          | 0.0252496   |"
      ]
     },
     "metadata": {},
     "output_type": "display_data"
    },
    {
     "data": {
      "text/html": [
       "<pre>| 264     | 25m 47s      | 0.416896          | 0.350577                          | 0.0252496   |</pre>"
      ],
      "text/plain": [
       "| 264     | 25m 47s      | 0.416896          | 0.350577                          | 0.0252496   |"
      ]
     },
     "metadata": {},
     "output_type": "display_data"
    },
    {
     "data": {
      "text/html": [
       "<pre>| 265     | 25m 52s      | 0.416836          | 0.350457                          | 0.0252496   |</pre>"
      ],
      "text/plain": [
       "| 265     | 25m 52s      | 0.416836          | 0.350457                          | 0.0252496   |"
      ]
     },
     "metadata": {},
     "output_type": "display_data"
    },
    {
     "data": {
      "text/html": [
       "<pre>| 266     | 25m 58s      | 0.416855          | 0.350416                          | 0.0252496   |</pre>"
      ],
      "text/plain": [
       "| 266     | 25m 58s      | 0.416855          | 0.350416                          | 0.0252496   |"
      ]
     },
     "metadata": {},
     "output_type": "display_data"
    },
    {
     "data": {
      "text/html": [
       "<pre>| 267     | 26m 4s       | 0.416831          | 0.350332                          | 0.0252496   |</pre>"
      ],
      "text/plain": [
       "| 267     | 26m 4s       | 0.416831          | 0.350332                          | 0.0252496   |"
      ]
     },
     "metadata": {},
     "output_type": "display_data"
    },
    {
     "data": {
      "text/html": [
       "<pre>| 268     | 26m 10s      | 0.416803          | 0.350238                          | 0.0252496   |</pre>"
      ],
      "text/plain": [
       "| 268     | 26m 10s      | 0.416803          | 0.350238                          | 0.0252496   |"
      ]
     },
     "metadata": {},
     "output_type": "display_data"
    },
    {
     "data": {
      "text/html": [
       "<pre>| 269     | 26m 16s      | 0.416782          | 0.350154                          | 0.0252496   |</pre>"
      ],
      "text/plain": [
       "| 269     | 26m 16s      | 0.416782          | 0.350154                          | 0.0252496   |"
      ]
     },
     "metadata": {},
     "output_type": "display_data"
    },
    {
     "data": {
      "text/html": [
       "<pre>| 270     | 26m 22s      | 0.416775          | 0.350085                          | 0.0252496   |</pre>"
      ],
      "text/plain": [
       "| 270     | 26m 22s      | 0.416775          | 0.350085                          | 0.0252496   |"
      ]
     },
     "metadata": {},
     "output_type": "display_data"
    },
    {
     "data": {
      "text/html": [
       "<pre>| 271     | 26m 27s      | 0.416733          | 0.349984                          | 0.0252496   |</pre>"
      ],
      "text/plain": [
       "| 271     | 26m 27s      | 0.416733          | 0.349984                          | 0.0252496   |"
      ]
     },
     "metadata": {},
     "output_type": "display_data"
    },
    {
     "data": {
      "text/html": [
       "<pre>| 272     | 26m 33s      | 0.416687          | 0.349882                          | 0.0252496   |</pre>"
      ],
      "text/plain": [
       "| 272     | 26m 33s      | 0.416687          | 0.349882                          | 0.0252496   |"
      ]
     },
     "metadata": {},
     "output_type": "display_data"
    },
    {
     "data": {
      "text/html": [
       "<pre>| 273     | 26m 39s      | 0.416708          | 0.349846                          | 0.0252496   |</pre>"
      ],
      "text/plain": [
       "| 273     | 26m 39s      | 0.416708          | 0.349846                          | 0.0252496   |"
      ]
     },
     "metadata": {},
     "output_type": "display_data"
    },
    {
     "data": {
      "text/html": [
       "<pre>| 274     | 26m 45s      | 0.416682          | 0.349765                          | 0.0252496   |</pre>"
      ],
      "text/plain": [
       "| 274     | 26m 45s      | 0.416682          | 0.349765                          | 0.0252496   |"
      ]
     },
     "metadata": {},
     "output_type": "display_data"
    },
    {
     "data": {
      "text/html": [
       "<pre>| 275     | 26m 51s      | 0.416655          | 0.349682                          | 0.0252496   |</pre>"
      ],
      "text/plain": [
       "| 275     | 26m 51s      | 0.416655          | 0.349682                          | 0.0252496   |"
      ]
     },
     "metadata": {},
     "output_type": "display_data"
    },
    {
     "data": {
      "text/html": [
       "<pre>| 276     | 26m 57s      | 0.416621          | 0.349588                          | 0.0252496   |</pre>"
      ],
      "text/plain": [
       "| 276     | 26m 57s      | 0.416621          | 0.349588                          | 0.0252496   |"
      ]
     },
     "metadata": {},
     "output_type": "display_data"
    },
    {
     "data": {
      "text/html": [
       "<pre>| 277     | 27m 2s       | 0.41663           | 0.349537                          | 0.0252496   |</pre>"
      ],
      "text/plain": [
       "| 277     | 27m 2s       | 0.41663           | 0.349537                          | 0.0252496   |"
      ]
     },
     "metadata": {},
     "output_type": "display_data"
    },
    {
     "data": {
      "text/html": [
       "<pre>| 278     | 27m 8s       | 0.416619          | 0.349469                          | 0.0252496   |</pre>"
      ],
      "text/plain": [
       "| 278     | 27m 8s       | 0.416619          | 0.349469                          | 0.0252496   |"
      ]
     },
     "metadata": {},
     "output_type": "display_data"
    },
    {
     "data": {
      "text/html": [
       "<pre>| 279     | 27m 14s      | 0.41656           | 0.349353                          | 0.0252496   |</pre>"
      ],
      "text/plain": [
       "| 279     | 27m 14s      | 0.41656           | 0.349353                          | 0.0252496   |"
      ]
     },
     "metadata": {},
     "output_type": "display_data"
    },
    {
     "data": {
      "text/html": [
       "<pre>| 280     | 27m 20s      | 0.416577          | 0.349309                          | 0.0252496   |</pre>"
      ],
      "text/plain": [
       "| 280     | 27m 20s      | 0.416577          | 0.349309                          | 0.0252496   |"
      ]
     },
     "metadata": {},
     "output_type": "display_data"
    },
    {
     "data": {
      "text/html": [
       "<pre>| 281     | 27m 26s      | 0.416517          | 0.349193                          | 0.0252496   |</pre>"
      ],
      "text/plain": [
       "| 281     | 27m 26s      | 0.416517          | 0.349193                          | 0.0252496   |"
      ]
     },
     "metadata": {},
     "output_type": "display_data"
    },
    {
     "data": {
      "text/html": [
       "<pre>| 282     | 27m 32s      | 0.416504          | 0.349122                          | 0.0252496   |</pre>"
      ],
      "text/plain": [
       "| 282     | 27m 32s      | 0.416504          | 0.349122                          | 0.0252496   |"
      ]
     },
     "metadata": {},
     "output_type": "display_data"
    },
    {
     "data": {
      "text/html": [
       "<pre>| 283     | 27m 37s      | 0.416508          | 0.349069                          | 0.0252496   |</pre>"
      ],
      "text/plain": [
       "| 283     | 27m 37s      | 0.416508          | 0.349069                          | 0.0252496   |"
      ]
     },
     "metadata": {},
     "output_type": "display_data"
    },
    {
     "data": {
      "text/html": [
       "<pre>| 284     | 27m 43s      | 0.416531          | 0.34903                           | 0.0252496   |</pre>"
      ],
      "text/plain": [
       "| 284     | 27m 43s      | 0.416531          | 0.34903                           | 0.0252496   |"
      ]
     },
     "metadata": {},
     "output_type": "display_data"
    },
    {
     "data": {
      "text/html": [
       "<pre>| 285     | 27m 49s      | 0.416462          | 0.348903                          | 0.0252496   |</pre>"
      ],
      "text/plain": [
       "| 285     | 27m 49s      | 0.416462          | 0.348903                          | 0.0252496   |"
      ]
     },
     "metadata": {},
     "output_type": "display_data"
    },
    {
     "data": {
      "text/html": [
       "<pre>| 286     | 27m 55s      | 0.416477          | 0.34886                           | 0.0252496   |</pre>"
      ],
      "text/plain": [
       "| 286     | 27m 55s      | 0.416477          | 0.34886                           | 0.0252496   |"
      ]
     },
     "metadata": {},
     "output_type": "display_data"
    },
    {
     "data": {
      "text/html": [
       "<pre>| 287     | 28m 1s       | 0.416437          | 0.348764                          | 0.0252496   |</pre>"
      ],
      "text/plain": [
       "| 287     | 28m 1s       | 0.416437          | 0.348764                          | 0.0252496   |"
      ]
     },
     "metadata": {},
     "output_type": "display_data"
    },
    {
     "data": {
      "text/html": [
       "<pre>| 288     | 28m 7s       | 0.416415          | 0.348687                          | 0.0252496   |</pre>"
      ],
      "text/plain": [
       "| 288     | 28m 7s       | 0.416415          | 0.348687                          | 0.0252496   |"
      ]
     },
     "metadata": {},
     "output_type": "display_data"
    },
    {
     "data": {
      "text/html": [
       "<pre>| 289     | 28m 12s      | 0.416416          | 0.348634                          | 0.0252496   |</pre>"
      ],
      "text/plain": [
       "| 289     | 28m 12s      | 0.416416          | 0.348634                          | 0.0252496   |"
      ]
     },
     "metadata": {},
     "output_type": "display_data"
    },
    {
     "data": {
      "text/html": [
       "<pre>| 290     | 28m 18s      | 0.416367          | 0.348534                          | 0.0252496   |</pre>"
      ],
      "text/plain": [
       "| 290     | 28m 18s      | 0.416367          | 0.348534                          | 0.0252496   |"
      ]
     },
     "metadata": {},
     "output_type": "display_data"
    },
    {
     "data": {
      "text/html": [
       "<pre>| 291     | 28m 24s      | 0.416371          | 0.348486                          | 0.0252496   |</pre>"
      ],
      "text/plain": [
       "| 291     | 28m 24s      | 0.416371          | 0.348486                          | 0.0252496   |"
      ]
     },
     "metadata": {},
     "output_type": "display_data"
    },
    {
     "data": {
      "text/html": [
       "<pre>| 292     | 28m 30s      | 0.41636           | 0.348419                          | 0.0252496   |</pre>"
      ],
      "text/plain": [
       "| 292     | 28m 30s      | 0.41636           | 0.348419                          | 0.0252496   |"
      ]
     },
     "metadata": {},
     "output_type": "display_data"
    },
    {
     "data": {
      "text/html": [
       "<pre>| 293     | 28m 36s      | 0.416329          | 0.348335                          | 0.0252496   |</pre>"
      ],
      "text/plain": [
       "| 293     | 28m 36s      | 0.416329          | 0.348335                          | 0.0252496   |"
      ]
     },
     "metadata": {},
     "output_type": "display_data"
    },
    {
     "data": {
      "text/html": [
       "<pre>| 294     | 28m 42s      | 0.416345          | 0.348296                          | 0.0252496   |</pre>"
      ],
      "text/plain": [
       "| 294     | 28m 42s      | 0.416345          | 0.348296                          | 0.0252496   |"
      ]
     },
     "metadata": {},
     "output_type": "display_data"
    },
    {
     "data": {
      "text/html": [
       "<pre>| 295     | 28m 48s      | 0.416296          | 0.348194                          | 0.0252496   |</pre>"
      ],
      "text/plain": [
       "| 295     | 28m 48s      | 0.416296          | 0.348194                          | 0.0252496   |"
      ]
     },
     "metadata": {},
     "output_type": "display_data"
    },
    {
     "data": {
      "text/html": [
       "<pre>| 296     | 28m 53s      | 0.416274          | 0.348116                          | 0.0252496   |</pre>"
      ],
      "text/plain": [
       "| 296     | 28m 53s      | 0.416274          | 0.348116                          | 0.0252496   |"
      ]
     },
     "metadata": {},
     "output_type": "display_data"
    },
    {
     "data": {
      "text/html": [
       "<pre>| 297     | 28m 59s      | 0.416266          | 0.348051                          | 0.0252496   |</pre>"
      ],
      "text/plain": [
       "| 297     | 28m 59s      | 0.416266          | 0.348051                          | 0.0252496   |"
      ]
     },
     "metadata": {},
     "output_type": "display_data"
    },
    {
     "data": {
      "text/html": [
       "<pre>| 298     | 29m 5s       | 0.416252          | 0.347982                          | 0.0252496   |</pre>"
      ],
      "text/plain": [
       "| 298     | 29m 5s       | 0.416252          | 0.347982                          | 0.0252496   |"
      ]
     },
     "metadata": {},
     "output_type": "display_data"
    },
    {
     "data": {
      "text/html": [
       "<pre>| 299     | 29m 11s      | 0.416243          | 0.347918                          | 0.0252496   |</pre>"
      ],
      "text/plain": [
       "| 299     | 29m 11s      | 0.416243          | 0.347918                          | 0.0252496   |"
      ]
     },
     "metadata": {},
     "output_type": "display_data"
    },
    {
     "data": {
      "text/html": [
       "<pre>| 300     | 29m 17s      | 0.416215          | 0.347835                          | 0.0252496   |</pre>"
      ],
      "text/plain": [
       "| 300     | 29m 17s      | 0.416215          | 0.347835                          | 0.0252496   |"
      ]
     },
     "metadata": {},
     "output_type": "display_data"
    },
    {
     "data": {
      "text/html": [
       "<pre>| 301     | 29m 23s      | 0.416214          | 0.347777                          | 0.0252496   |</pre>"
      ],
      "text/plain": [
       "| 301     | 29m 23s      | 0.416214          | 0.347777                          | 0.0252496   |"
      ]
     },
     "metadata": {},
     "output_type": "display_data"
    },
    {
     "data": {
      "text/html": [
       "<pre>| 302     | 29m 28s      | 0.416203          | 0.347712                          | 0.0252496   |</pre>"
      ],
      "text/plain": [
       "| 302     | 29m 28s      | 0.416203          | 0.347712                          | 0.0252496   |"
      ]
     },
     "metadata": {},
     "output_type": "display_data"
    },
    {
     "data": {
      "text/html": [
       "<pre>| 303     | 29m 34s      | 0.416182          | 0.347639                          | 0.0252496   |</pre>"
      ],
      "text/plain": [
       "| 303     | 29m 34s      | 0.416182          | 0.347639                          | 0.0252496   |"
      ]
     },
     "metadata": {},
     "output_type": "display_data"
    },
    {
     "data": {
      "text/html": [
       "<pre>| 304     | 29m 40s      | 0.416143          | 0.347551                          | 0.0252496   |</pre>"
      ],
      "text/plain": [
       "| 304     | 29m 40s      | 0.416143          | 0.347551                          | 0.0252496   |"
      ]
     },
     "metadata": {},
     "output_type": "display_data"
    },
    {
     "data": {
      "text/html": [
       "<pre>| 305     | 29m 46s      | 0.416141          | 0.347498                          | 0.0252496   |</pre>"
      ],
      "text/plain": [
       "| 305     | 29m 46s      | 0.416141          | 0.347498                          | 0.0252496   |"
      ]
     },
     "metadata": {},
     "output_type": "display_data"
    },
    {
     "data": {
      "text/html": [
       "<pre>| 306     | 29m 52s      | 0.416129          | 0.347436                          | 0.0252496   |</pre>"
      ],
      "text/plain": [
       "| 306     | 29m 52s      | 0.416129          | 0.347436                          | 0.0252496   |"
      ]
     },
     "metadata": {},
     "output_type": "display_data"
    },
    {
     "data": {
      "text/html": [
       "<pre>| 307     | 29m 58s      | 0.41611           | 0.347368                          | 0.0252496   |</pre>"
      ],
      "text/plain": [
       "| 307     | 29m 58s      | 0.41611           | 0.347368                          | 0.0252496   |"
      ]
     },
     "metadata": {},
     "output_type": "display_data"
    },
    {
     "data": {
      "text/html": [
       "<pre>| 308     | 30m 3s       | 0.416075          | 0.347282                          | 0.0252496   |</pre>"
      ],
      "text/plain": [
       "| 308     | 30m 3s       | 0.416075          | 0.347282                          | 0.0252496   |"
      ]
     },
     "metadata": {},
     "output_type": "display_data"
    },
    {
     "data": {
      "text/html": [
       "<pre>| 309     | 30m 9s       | 0.416115          | 0.347273                          | 0.0252496   |</pre>"
      ],
      "text/plain": [
       "| 309     | 30m 9s       | 0.416115          | 0.347273                          | 0.0252496   |"
      ]
     },
     "metadata": {},
     "output_type": "display_data"
    },
    {
     "data": {
      "text/html": [
       "<pre>| 310     | 30m 15s      | 0.416068          | 0.347177                          | 0.0252496   |</pre>"
      ],
      "text/plain": [
       "| 310     | 30m 15s      | 0.416068          | 0.347177                          | 0.0252496   |"
      ]
     },
     "metadata": {},
     "output_type": "display_data"
    },
    {
     "data": {
      "text/html": [
       "<pre>| 311     | 30m 21s      | 0.416062          | 0.347122                          | 0.0252496   |</pre>"
      ],
      "text/plain": [
       "| 311     | 30m 21s      | 0.416062          | 0.347122                          | 0.0252496   |"
      ]
     },
     "metadata": {},
     "output_type": "display_data"
    },
    {
     "data": {
      "text/html": [
       "<pre>| 312     | 30m 27s      | 0.416076          | 0.347082                          | 0.0252496   |</pre>"
      ],
      "text/plain": [
       "| 312     | 30m 27s      | 0.416076          | 0.347082                          | 0.0252496   |"
      ]
     },
     "metadata": {},
     "output_type": "display_data"
    },
    {
     "data": {
      "text/html": [
       "<pre>| 313     | 30m 33s      | 0.416057          | 0.34701                           | 0.0252496   |</pre>"
      ],
      "text/plain": [
       "| 313     | 30m 33s      | 0.416057          | 0.34701                           | 0.0252496   |"
      ]
     },
     "metadata": {},
     "output_type": "display_data"
    },
    {
     "data": {
      "text/html": [
       "<pre>| 314     | 30m 38s      | 0.41602           | 0.346918                          | 0.0252496   |</pre>"
      ],
      "text/plain": [
       "| 314     | 30m 38s      | 0.41602           | 0.346918                          | 0.0252496   |"
      ]
     },
     "metadata": {},
     "output_type": "display_data"
    },
    {
     "data": {
      "text/html": [
       "<pre>| 315     | 30m 44s      | 0.415995          | 0.346839                          | 0.0252496   |</pre>"
      ],
      "text/plain": [
       "| 315     | 30m 44s      | 0.415995          | 0.346839                          | 0.0252496   |"
      ]
     },
     "metadata": {},
     "output_type": "display_data"
    },
    {
     "data": {
      "text/html": [
       "<pre>| 316     | 30m 50s      | 0.415976          | 0.346764                          | 0.0252496   |</pre>"
      ],
      "text/plain": [
       "| 316     | 30m 50s      | 0.415976          | 0.346764                          | 0.0252496   |"
      ]
     },
     "metadata": {},
     "output_type": "display_data"
    },
    {
     "data": {
      "text/html": [
       "<pre>| 317     | 30m 56s      | 0.415939          | 0.346677                          | 0.0252496   |</pre>"
      ],
      "text/plain": [
       "| 317     | 30m 56s      | 0.415939          | 0.346677                          | 0.0252496   |"
      ]
     },
     "metadata": {},
     "output_type": "display_data"
    },
    {
     "data": {
      "text/html": [
       "<pre>| 318     | 31m 2s       | 0.415953          | 0.34664                           | 0.0252496   |</pre>"
      ],
      "text/plain": [
       "| 318     | 31m 2s       | 0.415953          | 0.34664                           | 0.0252496   |"
      ]
     },
     "metadata": {},
     "output_type": "display_data"
    },
    {
     "data": {
      "text/html": [
       "<pre>| 319     | 31m 8s       | 0.415914          | 0.346553                          | 0.0252496   |</pre>"
      ],
      "text/plain": [
       "| 319     | 31m 8s       | 0.415914          | 0.346553                          | 0.0252496   |"
      ]
     },
     "metadata": {},
     "output_type": "display_data"
    },
    {
     "data": {
      "text/html": [
       "<pre>| 320     | 31m 13s      | 0.41592           | 0.346511                          | 0.0252496   |</pre>"
      ],
      "text/plain": [
       "| 320     | 31m 13s      | 0.41592           | 0.346511                          | 0.0252496   |"
      ]
     },
     "metadata": {},
     "output_type": "display_data"
    },
    {
     "data": {
      "text/html": [
       "<pre>| 321     | 31m 19s      | 0.415895          | 0.346439                          | 0.0252496   |</pre>"
      ],
      "text/plain": [
       "| 321     | 31m 19s      | 0.415895          | 0.346439                          | 0.0252496   |"
      ]
     },
     "metadata": {},
     "output_type": "display_data"
    },
    {
     "data": {
      "text/html": [
       "<pre>| 322     | 31m 25s      | 0.415872          | 0.34637                           | 0.0252496   |</pre>"
      ],
      "text/plain": [
       "| 322     | 31m 25s      | 0.415872          | 0.34637                           | 0.0252496   |"
      ]
     },
     "metadata": {},
     "output_type": "display_data"
    },
    {
     "data": {
      "text/html": [
       "<pre>| 323     | 31m 31s      | 0.41588           | 0.346331                          | 0.0252496   |</pre>"
      ],
      "text/plain": [
       "| 323     | 31m 31s      | 0.41588           | 0.346331                          | 0.0252496   |"
      ]
     },
     "metadata": {},
     "output_type": "display_data"
    },
    {
     "data": {
      "text/html": [
       "<pre>| 324     | 31m 37s      | 0.415851          | 0.346254                          | 0.0252496   |</pre>"
      ],
      "text/plain": [
       "| 324     | 31m 37s      | 0.415851          | 0.346254                          | 0.0252496   |"
      ]
     },
     "metadata": {},
     "output_type": "display_data"
    },
    {
     "data": {
      "text/html": [
       "<pre>| 325     | 31m 43s      | 0.41585           | 0.346209                          | 0.0252496   |</pre>"
      ],
      "text/plain": [
       "| 325     | 31m 43s      | 0.41585           | 0.346209                          | 0.0252496   |"
      ]
     },
     "metadata": {},
     "output_type": "display_data"
    },
    {
     "data": {
      "text/html": [
       "<pre>| 326     | 31m 48s      | 0.41583           | 0.346143                          | 0.0252496   |</pre>"
      ],
      "text/plain": [
       "| 326     | 31m 48s      | 0.41583           | 0.346143                          | 0.0252496   |"
      ]
     },
     "metadata": {},
     "output_type": "display_data"
    },
    {
     "data": {
      "text/html": [
       "<pre>| 327     | 31m 54s      | 0.415812          | 0.346073                          | 0.0252496   |</pre>"
      ],
      "text/plain": [
       "| 327     | 31m 54s      | 0.415812          | 0.346073                          | 0.0252496   |"
      ]
     },
     "metadata": {},
     "output_type": "display_data"
    },
    {
     "data": {
      "text/html": [
       "<pre>| 328     | 32m 0s       | 0.415828          | 0.346038                          | 0.0252496   |</pre>"
      ],
      "text/plain": [
       "| 328     | 32m 0s       | 0.415828          | 0.346038                          | 0.0252496   |"
      ]
     },
     "metadata": {},
     "output_type": "display_data"
    },
    {
     "data": {
      "text/html": [
       "<pre>| 329     | 32m 6s       | 0.415787          | 0.345948                          | 0.0252496   |</pre>"
      ],
      "text/plain": [
       "| 329     | 32m 6s       | 0.415787          | 0.345948                          | 0.0252496   |"
      ]
     },
     "metadata": {},
     "output_type": "display_data"
    },
    {
     "data": {
      "text/html": [
       "<pre>| 330     | 32m 12s      | 0.415776          | 0.345884                          | 0.0252496   |</pre>"
      ],
      "text/plain": [
       "| 330     | 32m 12s      | 0.415776          | 0.345884                          | 0.0252496   |"
      ]
     },
     "metadata": {},
     "output_type": "display_data"
    },
    {
     "data": {
      "text/html": [
       "<pre>| 331     | 32m 18s      | 0.415767          | 0.345825                          | 0.0252496   |</pre>"
      ],
      "text/plain": [
       "| 331     | 32m 18s      | 0.415767          | 0.345825                          | 0.0252496   |"
      ]
     },
     "metadata": {},
     "output_type": "display_data"
    },
    {
     "data": {
      "text/html": [
       "<pre>| 332     | 32m 23s      | 0.415735          | 0.345743                          | 0.0252496   |</pre>"
      ],
      "text/plain": [
       "| 332     | 32m 23s      | 0.415735          | 0.345743                          | 0.0252496   |"
      ]
     },
     "metadata": {},
     "output_type": "display_data"
    },
    {
     "data": {
      "text/html": [
       "<pre>| 333     | 32m 29s      | 0.415711          | 0.345673                          | 0.0252496   |</pre>"
      ],
      "text/plain": [
       "| 333     | 32m 29s      | 0.415711          | 0.345673                          | 0.0252496   |"
      ]
     },
     "metadata": {},
     "output_type": "display_data"
    },
    {
     "data": {
      "text/html": [
       "<pre>| 334     | 32m 35s      | 0.415714          | 0.345632                          | 0.0252496   |</pre>"
      ],
      "text/plain": [
       "| 334     | 32m 35s      | 0.415714          | 0.345632                          | 0.0252496   |"
      ]
     },
     "metadata": {},
     "output_type": "display_data"
    },
    {
     "data": {
      "text/html": [
       "<pre>| 335     | 32m 41s      | 0.415732          | 0.345603                          | 0.0252496   |</pre>"
      ],
      "text/plain": [
       "| 335     | 32m 41s      | 0.415732          | 0.345603                          | 0.0252496   |"
      ]
     },
     "metadata": {},
     "output_type": "display_data"
    },
    {
     "data": {
      "text/html": [
       "<pre>| 336     | 32m 47s      | 0.415712          | 0.345538                          | 0.0252496   |</pre>"
      ],
      "text/plain": [
       "| 336     | 32m 47s      | 0.415712          | 0.345538                          | 0.0252496   |"
      ]
     },
     "metadata": {},
     "output_type": "display_data"
    },
    {
     "data": {
      "text/html": [
       "<pre>| 337     | 32m 53s      | 0.415701          | 0.345483                          | 0.0252496   |</pre>"
      ],
      "text/plain": [
       "| 337     | 32m 53s      | 0.415701          | 0.345483                          | 0.0252496   |"
      ]
     },
     "metadata": {},
     "output_type": "display_data"
    },
    {
     "data": {
      "text/html": [
       "<pre>| 338     | 32m 58s      | 0.415707          | 0.345444                          | 0.0252496   |</pre>"
      ],
      "text/plain": [
       "| 338     | 32m 58s      | 0.415707          | 0.345444                          | 0.0252496   |"
      ]
     },
     "metadata": {},
     "output_type": "display_data"
    },
    {
     "data": {
      "text/html": [
       "<pre>| 339     | 33m 4s       | 0.415668          | 0.345362                          | 0.0252496   |</pre>"
      ],
      "text/plain": [
       "| 339     | 33m 4s       | 0.415668          | 0.345362                          | 0.0252496   |"
      ]
     },
     "metadata": {},
     "output_type": "display_data"
    },
    {
     "data": {
      "text/html": [
       "<pre>| 340     | 33m 10s      | 0.415649          | 0.345298                          | 0.0252496   |</pre>"
      ],
      "text/plain": [
       "| 340     | 33m 10s      | 0.415649          | 0.345298                          | 0.0252496   |"
      ]
     },
     "metadata": {},
     "output_type": "display_data"
    },
    {
     "data": {
      "text/html": [
       "<pre>| 341     | 33m 16s      | 0.41565           | 0.345256                          | 0.0252496   |</pre>"
      ],
      "text/plain": [
       "| 341     | 33m 16s      | 0.41565           | 0.345256                          | 0.0252496   |"
      ]
     },
     "metadata": {},
     "output_type": "display_data"
    },
    {
     "data": {
      "text/html": [
       "<pre>| 342     | 33m 22s      | 0.415644          | 0.345199                          | 0.0252496   |</pre>"
      ],
      "text/plain": [
       "| 342     | 33m 22s      | 0.415644          | 0.345199                          | 0.0252496   |"
      ]
     },
     "metadata": {},
     "output_type": "display_data"
    },
    {
     "data": {
      "text/html": [
       "<pre>| 343     | 33m 28s      | 0.415655          | 0.345163                          | 0.0252496   |</pre>"
      ],
      "text/plain": [
       "| 343     | 33m 28s      | 0.415655          | 0.345163                          | 0.0252496   |"
      ]
     },
     "metadata": {},
     "output_type": "display_data"
    },
    {
     "data": {
      "text/html": [
       "<pre>| 344     | 33m 33s      | 0.415616          | 0.345075                          | 0.0252496   |</pre>"
      ],
      "text/plain": [
       "| 344     | 33m 33s      | 0.415616          | 0.345075                          | 0.0252496   |"
      ]
     },
     "metadata": {},
     "output_type": "display_data"
    },
    {
     "data": {
      "text/html": [
       "<pre>| 345     | 33m 39s      | 0.4156            | 0.345012                          | 0.0252496   |</pre>"
      ],
      "text/plain": [
       "| 345     | 33m 39s      | 0.4156            | 0.345012                          | 0.0252496   |"
      ]
     },
     "metadata": {},
     "output_type": "display_data"
    },
    {
     "data": {
      "text/html": [
       "<pre>| 346     | 33m 45s      | 0.41559           | 0.344954                          | 0.0252496   |</pre>"
      ],
      "text/plain": [
       "| 346     | 33m 45s      | 0.41559           | 0.344954                          | 0.0252496   |"
      ]
     },
     "metadata": {},
     "output_type": "display_data"
    },
    {
     "data": {
      "text/html": [
       "<pre>| 347     | 33m 51s      | 0.415562          | 0.344878                          | 0.0252496   |</pre>"
      ],
      "text/plain": [
       "| 347     | 33m 51s      | 0.415562          | 0.344878                          | 0.0252496   |"
      ]
     },
     "metadata": {},
     "output_type": "display_data"
    },
    {
     "data": {
      "text/html": [
       "<pre>| 348     | 33m 57s      | 0.415565          | 0.344835                          | 0.0252496   |</pre>"
      ],
      "text/plain": [
       "| 348     | 33m 57s      | 0.415565          | 0.344835                          | 0.0252496   |"
      ]
     },
     "metadata": {},
     "output_type": "display_data"
    },
    {
     "data": {
      "text/html": [
       "<pre>| 349     | 34m 3s       | 0.415523          | 0.344749                          | 0.0252496   |</pre>"
      ],
      "text/plain": [
       "| 349     | 34m 3s       | 0.415523          | 0.344749                          | 0.0252496   |"
      ]
     },
     "metadata": {},
     "output_type": "display_data"
    },
    {
     "data": {
      "text/html": [
       "<pre>| 350     | 34m 9s       | 0.41555           | 0.344734                          | 0.0252496   |</pre>"
      ],
      "text/plain": [
       "| 350     | 34m 9s       | 0.41555           | 0.344734                          | 0.0252496   |"
      ]
     },
     "metadata": {},
     "output_type": "display_data"
    },
    {
     "data": {
      "text/html": [
       "<pre>| 351     | 34m 14s      | 0.415536          | 0.344677                          | 0.0252496   |</pre>"
      ],
      "text/plain": [
       "| 351     | 34m 14s      | 0.415536          | 0.344677                          | 0.0252496   |"
      ]
     },
     "metadata": {},
     "output_type": "display_data"
    },
    {
     "data": {
      "text/html": [
       "<pre>| 352     | 34m 20s      | 0.415518          | 0.344615                          | 0.0252496   |</pre>"
      ],
      "text/plain": [
       "| 352     | 34m 20s      | 0.415518          | 0.344615                          | 0.0252496   |"
      ]
     },
     "metadata": {},
     "output_type": "display_data"
    },
    {
     "data": {
      "text/html": [
       "<pre>| 353     | 34m 26s      | 0.415509          | 0.344562                          | 0.0252496   |</pre>"
      ],
      "text/plain": [
       "| 353     | 34m 26s      | 0.415509          | 0.344562                          | 0.0252496   |"
      ]
     },
     "metadata": {},
     "output_type": "display_data"
    },
    {
     "data": {
      "text/html": [
       "<pre>| 354     | 34m 32s      | 0.415506          | 0.344519                          | 0.0252496   |</pre>"
      ],
      "text/plain": [
       "| 354     | 34m 32s      | 0.415506          | 0.344519                          | 0.0252496   |"
      ]
     },
     "metadata": {},
     "output_type": "display_data"
    },
    {
     "data": {
      "text/html": [
       "<pre>| 355     | 34m 38s      | 0.415504          | 0.344473                          | 0.0252496   |</pre>"
      ],
      "text/plain": [
       "| 355     | 34m 38s      | 0.415504          | 0.344473                          | 0.0252496   |"
      ]
     },
     "metadata": {},
     "output_type": "display_data"
    },
    {
     "data": {
      "text/html": [
       "<pre>| 356     | 34m 44s      | 0.415503          | 0.344424                          | 0.0252496   |</pre>"
      ],
      "text/plain": [
       "| 356     | 34m 44s      | 0.415503          | 0.344424                          | 0.0252496   |"
      ]
     },
     "metadata": {},
     "output_type": "display_data"
    },
    {
     "data": {
      "text/html": [
       "<pre>+---------+--------------+-------------------+-----------------------------------+-------------+</pre>"
      ],
      "text/plain": [
       "+---------+--------------+-------------------+-----------------------------------+-------------+"
      ]
     },
     "metadata": {},
     "output_type": "display_data"
    },
    {
     "data": {
      "text/html": [
       "<pre>Optimization Complete: Convergence on objective within bounds.</pre>"
      ],
      "text/plain": [
       "Optimization Complete: Convergence on objective within bounds."
      ]
     },
     "metadata": {},
     "output_type": "display_data"
    },
    {
     "data": {
      "text/html": [
       "<pre>Computing final objective value and training Predictive Error.</pre>"
      ],
      "text/plain": [
       "Computing final objective value and training Predictive Error."
      ]
     },
     "metadata": {},
     "output_type": "display_data"
    },
    {
     "data": {
      "text/html": [
       "<pre>       Final objective value: 0.411584</pre>"
      ],
      "text/plain": [
       "       Final objective value: 0.411584"
      ]
     },
     "metadata": {},
     "output_type": "display_data"
    },
    {
     "data": {
      "text/html": [
       "<pre>       Final training Predictive Error: 0.340506</pre>"
      ],
      "text/plain": [
       "       Final training Predictive Error: 0.340506"
      ]
     },
     "metadata": {},
     "output_type": "display_data"
    }
   ],
   "source": [
    "# training the model\n",
    "model = gl.recommender.factorization_recommender.create(tr_listen, \n",
    "                                                        binary_target = True, \n",
    "                                                        num_factors = n_factors,\n",
    "                                                        user_id = \"user_id\", \n",
    "                                                        item_id = \"media_id\", \n",
    "                                                        target  = \"is_listened\",\n",
    "                                                        user_data = user_data, \n",
    "                                                        item_data = song_data,\n",
    "                                                        max_iterations = m_epochs,\n",
    "                                                        regularization = regular)"
   ]
  },
  {
   "cell_type": "code",
   "execution_count": 10,
   "metadata": {
    "collapsed": false,
    "scrolled": true
   },
   "outputs": [
    {
     "data": {
      "text/html": [
       "<div>\n",
       "<table border=\"1\" class=\"dataframe\">\n",
       "  <thead>\n",
       "    <tr style=\"text-align: right;\">\n",
       "      <th></th>\n",
       "      <th>row_index</th>\n",
       "      <th>is_listened</th>\n",
       "    </tr>\n",
       "  </thead>\n",
       "  <tbody>\n",
       "    <tr>\n",
       "      <th>2166</th>\n",
       "      <td>6060544</td>\n",
       "      <td>0.998887</td>\n",
       "    </tr>\n",
       "    <tr>\n",
       "      <th>2167</th>\n",
       "      <td>3968455</td>\n",
       "      <td>0.984446</td>\n",
       "    </tr>\n",
       "    <tr>\n",
       "      <th>2239</th>\n",
       "      <td>5584470</td>\n",
       "      <td>0.993449</td>\n",
       "    </tr>\n",
       "  </tbody>\n",
       "</table>\n",
       "</div>"
      ],
      "text/plain": [
       "      row_index  is_listened\n",
       "2166    6060544     0.998887\n",
       "2167    3968455     0.984446\n",
       "2239    5584470     0.993449"
      ]
     },
     "execution_count": 10,
     "metadata": {},
     "output_type": "execute_result"
    }
   ],
   "source": [
    "# forecasting\n",
    "pred = pd.DataFrame()\n",
    "pred[\"row_index\"] = ts.row_index\n",
    "pred[\"is_listened\"] = model.predict(ts_listen)\n",
    "pred.head(3)"
   ]
  },
  {
   "cell_type": "code",
   "execution_count": 11,
   "metadata": {
    "collapsed": false,
    "scrolled": true
   },
   "outputs": [
    {
     "data": {
      "text/plain": [
       "0.72470189865131007"
      ]
     },
     "execution_count": 11,
     "metadata": {},
     "output_type": "execute_result"
    }
   ],
   "source": [
    "# computing AUC\n",
    "metrics.roc_auc_score(ts.is_listened, pred[\"is_listened\"])"
   ]
  },
  {
   "cell_type": "code",
   "execution_count": 12,
   "metadata": {
    "collapsed": true,
    "scrolled": true
   },
   "outputs": [],
   "source": [
    "# saving prediction vector\n",
    "pred.to_csv(path + \"pred_valid/factorization_flow_75f_400i.csv\", index = False)"
   ]
  },
  {
   "cell_type": "code",
   "execution_count": 13,
   "metadata": {
    "collapsed": true
   },
   "outputs": [],
   "source": [
    "# clearing the memory\n",
    "tr_listen = \"Null\"\n",
    "ts_listen = \"Null\"\n",
    "ts = \"Null\""
   ]
  },
  {
   "cell_type": "markdown",
   "metadata": {},
   "source": [
    "## 3.2. KNOWN-UNKNOWN"
   ]
  },
  {
   "cell_type": "code",
   "execution_count": 14,
   "metadata": {
    "collapsed": false
   },
   "outputs": [
    {
     "data": {
      "text/html": [
       "<pre>Recsys training: model = factorization_recommender</pre>"
      ],
      "text/plain": [
       "Recsys training: model = factorization_recommender"
      ]
     },
     "metadata": {},
     "output_type": "display_data"
    },
    {
     "data": {
      "text/html": [
       "<pre>Preparing data set.</pre>"
      ],
      "text/plain": [
       "Preparing data set."
      ]
     },
     "metadata": {},
     "output_type": "display_data"
    },
    {
     "data": {
      "text/html": [
       "<pre>    Data has 2319611 observations with 13250 users and 79311 items.</pre>"
      ],
      "text/plain": [
       "    Data has 2319611 observations with 13250 users and 79311 items."
      ]
     },
     "metadata": {},
     "output_type": "display_data"
    },
    {
     "data": {
      "text/html": [
       "<pre>    Data prepared in: 2.79157s</pre>"
      ],
      "text/plain": [
       "    Data prepared in: 2.79157s"
      ]
     },
     "metadata": {},
     "output_type": "display_data"
    },
    {
     "data": {
      "text/html": [
       "<pre>Training factorization_recommender for recommendations.</pre>"
      ],
      "text/plain": [
       "Training factorization_recommender for recommendations."
      ]
     },
     "metadata": {},
     "output_type": "display_data"
    },
    {
     "data": {
      "text/html": [
       "<pre>+--------------------------------+--------------------------------------------------+----------+</pre>"
      ],
      "text/plain": [
       "+--------------------------------+--------------------------------------------------+----------+"
      ]
     },
     "metadata": {},
     "output_type": "display_data"
    },
    {
     "data": {
      "text/html": [
       "<pre>| Parameter                      | Description                                      | Value    |</pre>"
      ],
      "text/plain": [
       "| Parameter                      | Description                                      | Value    |"
      ]
     },
     "metadata": {},
     "output_type": "display_data"
    },
    {
     "data": {
      "text/html": [
       "<pre>+--------------------------------+--------------------------------------------------+----------+</pre>"
      ],
      "text/plain": [
       "+--------------------------------+--------------------------------------------------+----------+"
      ]
     },
     "metadata": {},
     "output_type": "display_data"
    },
    {
     "data": {
      "text/html": [
       "<pre>| num_factors                    | Factor Dimension                                 | 75       |</pre>"
      ],
      "text/plain": [
       "| num_factors                    | Factor Dimension                                 | 75       |"
      ]
     },
     "metadata": {},
     "output_type": "display_data"
    },
    {
     "data": {
      "text/html": [
       "<pre>| regularization                 | L2 Regularization on Factors                     | 1e-05    |</pre>"
      ],
      "text/plain": [
       "| regularization                 | L2 Regularization on Factors                     | 1e-05    |"
      ]
     },
     "metadata": {},
     "output_type": "display_data"
    },
    {
     "data": {
      "text/html": [
       "<pre>| solver                         | Solver used for training                         | adagrad  |</pre>"
      ],
      "text/plain": [
       "| solver                         | Solver used for training                         | adagrad  |"
      ]
     },
     "metadata": {},
     "output_type": "display_data"
    },
    {
     "data": {
      "text/html": [
       "<pre>| linear_regularization          | L2 Regularization on Linear Coefficients         | 1e-10    |</pre>"
      ],
      "text/plain": [
       "| linear_regularization          | L2 Regularization on Linear Coefficients         | 1e-10    |"
      ]
     },
     "metadata": {},
     "output_type": "display_data"
    },
    {
     "data": {
      "text/html": [
       "<pre>| binary_target                  | Assume Binary Targets                            | True     |</pre>"
      ],
      "text/plain": [
       "| binary_target                  | Assume Binary Targets                            | True     |"
      ]
     },
     "metadata": {},
     "output_type": "display_data"
    },
    {
     "data": {
      "text/html": [
       "<pre>| side_data_factorization        | Assign Factors for Side Data                     | True     |</pre>"
      ],
      "text/plain": [
       "| side_data_factorization        | Assign Factors for Side Data                     | True     |"
      ]
     },
     "metadata": {},
     "output_type": "display_data"
    },
    {
     "data": {
      "text/html": [
       "<pre>| max_iterations                 | Maximum Number of Iterations                     | 400      |</pre>"
      ],
      "text/plain": [
       "| max_iterations                 | Maximum Number of Iterations                     | 400      |"
      ]
     },
     "metadata": {},
     "output_type": "display_data"
    },
    {
     "data": {
      "text/html": [
       "<pre>+--------------------------------+--------------------------------------------------+----------+</pre>"
      ],
      "text/plain": [
       "+--------------------------------+--------------------------------------------------+----------+"
      ]
     },
     "metadata": {},
     "output_type": "display_data"
    },
    {
     "data": {
      "text/html": [
       "<pre>  Optimizing model using SGD; tuning step size.</pre>"
      ],
      "text/plain": [
       "  Optimizing model using SGD; tuning step size."
      ]
     },
     "metadata": {},
     "output_type": "display_data"
    },
    {
     "data": {
      "text/html": [
       "<pre>  Using 289951 / 2319611 points for tuning the step size.</pre>"
      ],
      "text/plain": [
       "  Using 289951 / 2319611 points for tuning the step size."
      ]
     },
     "metadata": {},
     "output_type": "display_data"
    },
    {
     "data": {
      "text/html": [
       "<pre>+---------+-------------------+------------------------------------------+</pre>"
      ],
      "text/plain": [
       "+---------+-------------------+------------------------------------------+"
      ]
     },
     "metadata": {},
     "output_type": "display_data"
    },
    {
     "data": {
      "text/html": [
       "<pre>| Attempt | Initial Step Size | Estimated Objective Value                |</pre>"
      ],
      "text/plain": [
       "| Attempt | Initial Step Size | Estimated Objective Value                |"
      ]
     },
     "metadata": {},
     "output_type": "display_data"
    },
    {
     "data": {
      "text/html": [
       "<pre>+---------+-------------------+------------------------------------------+</pre>"
      ],
      "text/plain": [
       "+---------+-------------------+------------------------------------------+"
      ]
     },
     "metadata": {},
     "output_type": "display_data"
    },
    {
     "data": {
      "text/html": [
       "<pre>| 0       | 3.17646           | Not Viable                               |</pre>"
      ],
      "text/plain": [
       "| 0       | 3.17646           | Not Viable                               |"
      ]
     },
     "metadata": {},
     "output_type": "display_data"
    },
    {
     "data": {
      "text/html": [
       "<pre>| 1       | 0.794115          | Not Viable                               |</pre>"
      ],
      "text/plain": [
       "| 1       | 0.794115          | Not Viable                               |"
      ]
     },
     "metadata": {},
     "output_type": "display_data"
    },
    {
     "data": {
      "text/html": [
       "<pre>| 2       | 0.198529          | 0.632077                                 |</pre>"
      ],
      "text/plain": [
       "| 2       | 0.198529          | 0.632077                                 |"
      ]
     },
     "metadata": {},
     "output_type": "display_data"
    },
    {
     "data": {
      "text/html": [
       "<pre>| 3       | 0.0992644         | 0.590899                                 |</pre>"
      ],
      "text/plain": [
       "| 3       | 0.0992644         | 0.590899                                 |"
      ]
     },
     "metadata": {},
     "output_type": "display_data"
    },
    {
     "data": {
      "text/html": [
       "<pre>| 4       | 0.0496322         | 0.522877                                 |</pre>"
      ],
      "text/plain": [
       "| 4       | 0.0496322         | 0.522877                                 |"
      ]
     },
     "metadata": {},
     "output_type": "display_data"
    },
    {
     "data": {
      "text/html": [
       "<pre>| 5       | 0.0248161         | 0.434657                                 |</pre>"
      ],
      "text/plain": [
       "| 5       | 0.0248161         | 0.434657                                 |"
      ]
     },
     "metadata": {},
     "output_type": "display_data"
    },
    {
     "data": {
      "text/html": [
       "<pre>| 6       | 0.0124081         | 0.434793                                 |</pre>"
      ],
      "text/plain": [
       "| 6       | 0.0124081         | 0.434793                                 |"
      ]
     },
     "metadata": {},
     "output_type": "display_data"
    },
    {
     "data": {
      "text/html": [
       "<pre>| 7       | 0.00620403        | 0.584284                                 |</pre>"
      ],
      "text/plain": [
       "| 7       | 0.00620403        | 0.584284                                 |"
      ]
     },
     "metadata": {},
     "output_type": "display_data"
    },
    {
     "data": {
      "text/html": [
       "<pre>| 8       | 0.00310201        | 0.48043                                  |</pre>"
      ],
      "text/plain": [
       "| 8       | 0.00310201        | 0.48043                                  |"
      ]
     },
     "metadata": {},
     "output_type": "display_data"
    },
    {
     "data": {
      "text/html": [
       "<pre>+---------+-------------------+------------------------------------------+</pre>"
      ],
      "text/plain": [
       "+---------+-------------------+------------------------------------------+"
      ]
     },
     "metadata": {},
     "output_type": "display_data"
    },
    {
     "data": {
      "text/html": [
       "<pre>| Final   | 0.0248161         | 0.434657                                 |</pre>"
      ],
      "text/plain": [
       "| Final   | 0.0248161         | 0.434657                                 |"
      ]
     },
     "metadata": {},
     "output_type": "display_data"
    },
    {
     "data": {
      "text/html": [
       "<pre>+---------+-------------------+------------------------------------------+</pre>"
      ],
      "text/plain": [
       "+---------+-------------------+------------------------------------------+"
      ]
     },
     "metadata": {},
     "output_type": "display_data"
    },
    {
     "data": {
      "text/html": [
       "<pre>Starting Optimization.</pre>"
      ],
      "text/plain": [
       "Starting Optimization."
      ]
     },
     "metadata": {},
     "output_type": "display_data"
    },
    {
     "data": {
      "text/html": [
       "<pre>+---------+--------------+-------------------+-----------------------------------+-------------+</pre>"
      ],
      "text/plain": [
       "+---------+--------------+-------------------+-----------------------------------+-------------+"
      ]
     },
     "metadata": {},
     "output_type": "display_data"
    },
    {
     "data": {
      "text/html": [
       "<pre>| Iter.   | Elapsed Time | Approx. Objective | Approx. Training Predictive Error | Step Size   |</pre>"
      ],
      "text/plain": [
       "| Iter.   | Elapsed Time | Approx. Objective | Approx. Training Predictive Error | Step Size   |"
      ]
     },
     "metadata": {},
     "output_type": "display_data"
    },
    {
     "data": {
      "text/html": [
       "<pre>+---------+--------------+-------------------+-----------------------------------+-------------+</pre>"
      ],
      "text/plain": [
       "+---------+--------------+-------------------+-----------------------------------+-------------+"
      ]
     },
     "metadata": {},
     "output_type": "display_data"
    },
    {
     "data": {
      "text/html": [
       "<pre>| Initial | 106us        | 0.677377          | 0.677377                          |             |</pre>"
      ],
      "text/plain": [
       "| Initial | 106us        | 0.677377          | 0.677377                          |             |"
      ]
     },
     "metadata": {},
     "output_type": "display_data"
    },
    {
     "data": {
      "text/html": [
       "<pre>+---------+--------------+-------------------+-----------------------------------+-------------+</pre>"
      ],
      "text/plain": [
       "+---------+--------------+-------------------+-----------------------------------+-------------+"
      ]
     },
     "metadata": {},
     "output_type": "display_data"
    },
    {
     "data": {
      "text/html": [
       "<pre>| 1       | 6.02s        | 0.567803          | 0.462453                          | 0.0248161   |</pre>"
      ],
      "text/plain": [
       "| 1       | 6.02s        | 0.567803          | 0.462453                          | 0.0248161   |"
      ]
     },
     "metadata": {},
     "output_type": "display_data"
    },
    {
     "data": {
      "text/html": [
       "<pre>| 2       | 12.00s       | 0.499909          | 0.439049                          | 0.0248161   |</pre>"
      ],
      "text/plain": [
       "| 2       | 12.00s       | 0.499909          | 0.439049                          | 0.0248161   |"
      ]
     },
     "metadata": {},
     "output_type": "display_data"
    },
    {
     "data": {
      "text/html": [
       "<pre>| 3       | 17.97s       | 0.48437           | 0.433483                          | 0.0248161   |</pre>"
      ],
      "text/plain": [
       "| 3       | 17.97s       | 0.48437           | 0.433483                          | 0.0248161   |"
      ]
     },
     "metadata": {},
     "output_type": "display_data"
    },
    {
     "data": {
      "text/html": [
       "<pre>| 4       | 23.95s       | 0.476731          | 0.428957                          | 0.0248161   |</pre>"
      ],
      "text/plain": [
       "| 4       | 23.95s       | 0.476731          | 0.428957                          | 0.0248161   |"
      ]
     },
     "metadata": {},
     "output_type": "display_data"
    },
    {
     "data": {
      "text/html": [
       "<pre>| 5       | 29.94s       | 0.471878          | 0.425382                          | 0.0248161   |</pre>"
      ],
      "text/plain": [
       "| 5       | 29.94s       | 0.471878          | 0.425382                          | 0.0248161   |"
      ]
     },
     "metadata": {},
     "output_type": "display_data"
    },
    {
     "data": {
      "text/html": [
       "<pre>| 6       | 35.90s       | 0.468531          | 0.422594                          | 0.0248161   |</pre>"
      ],
      "text/plain": [
       "| 6       | 35.90s       | 0.468531          | 0.422594                          | 0.0248161   |"
      ]
     },
     "metadata": {},
     "output_type": "display_data"
    },
    {
     "data": {
      "text/html": [
       "<pre>| 7       | 41.86s       | 0.465963          | 0.420304                          | 0.0248161   |</pre>"
      ],
      "text/plain": [
       "| 7       | 41.86s       | 0.465963          | 0.420304                          | 0.0248161   |"
      ]
     },
     "metadata": {},
     "output_type": "display_data"
    },
    {
     "data": {
      "text/html": [
       "<pre>| 8       | 47.83s       | 0.463829          | 0.418336                          | 0.0248161   |</pre>"
      ],
      "text/plain": [
       "| 8       | 47.83s       | 0.463829          | 0.418336                          | 0.0248161   |"
      ]
     },
     "metadata": {},
     "output_type": "display_data"
    },
    {
     "data": {
      "text/html": [
       "<pre>| 9       | 53.78s       | 0.461976          | 0.416642                          | 0.0248161   |</pre>"
      ],
      "text/plain": [
       "| 9       | 53.78s       | 0.461976          | 0.416642                          | 0.0248161   |"
      ]
     },
     "metadata": {},
     "output_type": "display_data"
    },
    {
     "data": {
      "text/html": [
       "<pre>| 10      | 59.75s       | 0.460431          | 0.415209                          | 0.0248161   |</pre>"
      ],
      "text/plain": [
       "| 10      | 59.75s       | 0.460431          | 0.415209                          | 0.0248161   |"
      ]
     },
     "metadata": {},
     "output_type": "display_data"
    },
    {
     "data": {
      "text/html": [
       "<pre>| 11      | 1m 5s        | 0.458923          | 0.413839                          | 0.0248161   |</pre>"
      ],
      "text/plain": [
       "| 11      | 1m 5s        | 0.458923          | 0.413839                          | 0.0248161   |"
      ]
     },
     "metadata": {},
     "output_type": "display_data"
    },
    {
     "data": {
      "text/html": [
       "<pre>| 12      | 1m 12s       | 0.45772           | 0.412714                          | 0.0248161   |</pre>"
      ],
      "text/plain": [
       "| 12      | 1m 12s       | 0.45772           | 0.412714                          | 0.0248161   |"
      ]
     },
     "metadata": {},
     "output_type": "display_data"
    },
    {
     "data": {
      "text/html": [
       "<pre>| 13      | 1m 18s       | 0.456454          | 0.411573                          | 0.0248161   |</pre>"
      ],
      "text/plain": [
       "| 13      | 1m 18s       | 0.456454          | 0.411573                          | 0.0248161   |"
      ]
     },
     "metadata": {},
     "output_type": "display_data"
    },
    {
     "data": {
      "text/html": [
       "<pre>| 14      | 1m 24s       | 0.455338          | 0.410588                          | 0.0248161   |</pre>"
      ],
      "text/plain": [
       "| 14      | 1m 24s       | 0.455338          | 0.410588                          | 0.0248161   |"
      ]
     },
     "metadata": {},
     "output_type": "display_data"
    },
    {
     "data": {
      "text/html": [
       "<pre>| 15      | 1m 30s       | 0.454316          | 0.409681                          | 0.0248161   |</pre>"
      ],
      "text/plain": [
       "| 15      | 1m 30s       | 0.454316          | 0.409681                          | 0.0248161   |"
      ]
     },
     "metadata": {},
     "output_type": "display_data"
    },
    {
     "data": {
      "text/html": [
       "<pre>| 16      | 1m 36s       | 0.453393          | 0.408867                          | 0.0248161   |</pre>"
      ],
      "text/plain": [
       "| 16      | 1m 36s       | 0.453393          | 0.408867                          | 0.0248161   |"
      ]
     },
     "metadata": {},
     "output_type": "display_data"
    },
    {
     "data": {
      "text/html": [
       "<pre>| 17      | 1m 42s       | 0.452474          | 0.408046                          | 0.0248161   |</pre>"
      ],
      "text/plain": [
       "| 17      | 1m 42s       | 0.452474          | 0.408046                          | 0.0248161   |"
      ]
     },
     "metadata": {},
     "output_type": "display_data"
    },
    {
     "data": {
      "text/html": [
       "<pre>| 18      | 1m 48s       | 0.451691          | 0.407342                          | 0.0248161   |</pre>"
      ],
      "text/plain": [
       "| 18      | 1m 48s       | 0.451691          | 0.407342                          | 0.0248161   |"
      ]
     },
     "metadata": {},
     "output_type": "display_data"
    },
    {
     "data": {
      "text/html": [
       "<pre>| 19      | 1m 54s       | 0.450919          | 0.406654                          | 0.0248161   |</pre>"
      ],
      "text/plain": [
       "| 19      | 1m 54s       | 0.450919          | 0.406654                          | 0.0248161   |"
      ]
     },
     "metadata": {},
     "output_type": "display_data"
    },
    {
     "data": {
      "text/html": [
       "<pre>| 20      | 2m 0s        | 0.450204          | 0.405991                          | 0.0248161   |</pre>"
      ],
      "text/plain": [
       "| 20      | 2m 0s        | 0.450204          | 0.405991                          | 0.0248161   |"
      ]
     },
     "metadata": {},
     "output_type": "display_data"
    },
    {
     "data": {
      "text/html": [
       "<pre>| 21      | 2m 6s        | 0.449478          | 0.405332                          | 0.0248161   |</pre>"
      ],
      "text/plain": [
       "| 21      | 2m 6s        | 0.449478          | 0.405332                          | 0.0248161   |"
      ]
     },
     "metadata": {},
     "output_type": "display_data"
    },
    {
     "data": {
      "text/html": [
       "<pre>| 22      | 2m 12s       | 0.448816          | 0.404713                          | 0.0248161   |</pre>"
      ],
      "text/plain": [
       "| 22      | 2m 12s       | 0.448816          | 0.404713                          | 0.0248161   |"
      ]
     },
     "metadata": {},
     "output_type": "display_data"
    },
    {
     "data": {
      "text/html": [
       "<pre>| 23      | 2m 18s       | 0.448228          | 0.404167                          | 0.0248161   |</pre>"
      ],
      "text/plain": [
       "| 23      | 2m 18s       | 0.448228          | 0.404167                          | 0.0248161   |"
      ]
     },
     "metadata": {},
     "output_type": "display_data"
    },
    {
     "data": {
      "text/html": [
       "<pre>| 24      | 2m 24s       | 0.4476            | 0.403556                          | 0.0248161   |</pre>"
      ],
      "text/plain": [
       "| 24      | 2m 24s       | 0.4476            | 0.403556                          | 0.0248161   |"
      ]
     },
     "metadata": {},
     "output_type": "display_data"
    },
    {
     "data": {
      "text/html": [
       "<pre>| 25      | 2m 30s       | 0.447031          | 0.403006                          | 0.0248161   |</pre>"
      ],
      "text/plain": [
       "| 25      | 2m 30s       | 0.447031          | 0.403006                          | 0.0248161   |"
      ]
     },
     "metadata": {},
     "output_type": "display_data"
    },
    {
     "data": {
      "text/html": [
       "<pre>| 26      | 2m 36s       | 0.446499          | 0.402495                          | 0.0248161   |</pre>"
      ],
      "text/plain": [
       "| 26      | 2m 36s       | 0.446499          | 0.402495                          | 0.0248161   |"
      ]
     },
     "metadata": {},
     "output_type": "display_data"
    },
    {
     "data": {
      "text/html": [
       "<pre>| 27      | 2m 42s       | 0.445981          | 0.401975                          | 0.0248161   |</pre>"
      ],
      "text/plain": [
       "| 27      | 2m 42s       | 0.445981          | 0.401975                          | 0.0248161   |"
      ]
     },
     "metadata": {},
     "output_type": "display_data"
    },
    {
     "data": {
      "text/html": [
       "<pre>| 28      | 2m 48s       | 0.445437          | 0.401441                          | 0.0248161   |</pre>"
      ],
      "text/plain": [
       "| 28      | 2m 48s       | 0.445437          | 0.401441                          | 0.0248161   |"
      ]
     },
     "metadata": {},
     "output_type": "display_data"
    },
    {
     "data": {
      "text/html": [
       "<pre>| 29      | 2m 54s       | 0.444988          | 0.400973                          | 0.0248161   |</pre>"
      ],
      "text/plain": [
       "| 29      | 2m 54s       | 0.444988          | 0.400973                          | 0.0248161   |"
      ]
     },
     "metadata": {},
     "output_type": "display_data"
    },
    {
     "data": {
      "text/html": [
       "<pre>| 30      | 3m 0s        | 0.444473          | 0.400456                          | 0.0248161   |</pre>"
      ],
      "text/plain": [
       "| 30      | 3m 0s        | 0.444473          | 0.400456                          | 0.0248161   |"
      ]
     },
     "metadata": {},
     "output_type": "display_data"
    },
    {
     "data": {
      "text/html": [
       "<pre>| 31      | 3m 6s        | 0.444004          | 0.399973                          | 0.0248161   |</pre>"
      ],
      "text/plain": [
       "| 31      | 3m 6s        | 0.444004          | 0.399973                          | 0.0248161   |"
      ]
     },
     "metadata": {},
     "output_type": "display_data"
    },
    {
     "data": {
      "text/html": [
       "<pre>| 32      | 3m 12s       | 0.443555          | 0.399505                          | 0.0248161   |</pre>"
      ],
      "text/plain": [
       "| 32      | 3m 12s       | 0.443555          | 0.399505                          | 0.0248161   |"
      ]
     },
     "metadata": {},
     "output_type": "display_data"
    },
    {
     "data": {
      "text/html": [
       "<pre>| 33      | 3m 18s       | 0.443142          | 0.399053                          | 0.0248161   |</pre>"
      ],
      "text/plain": [
       "| 33      | 3m 18s       | 0.443142          | 0.399053                          | 0.0248161   |"
      ]
     },
     "metadata": {},
     "output_type": "display_data"
    },
    {
     "data": {
      "text/html": [
       "<pre>| 34      | 3m 24s       | 0.442658          | 0.398543                          | 0.0248161   |</pre>"
      ],
      "text/plain": [
       "| 34      | 3m 24s       | 0.442658          | 0.398543                          | 0.0248161   |"
      ]
     },
     "metadata": {},
     "output_type": "display_data"
    },
    {
     "data": {
      "text/html": [
       "<pre>| 35      | 3m 30s       | 0.442278          | 0.398116                          | 0.0248161   |</pre>"
      ],
      "text/plain": [
       "| 35      | 3m 30s       | 0.442278          | 0.398116                          | 0.0248161   |"
      ]
     },
     "metadata": {},
     "output_type": "display_data"
    },
    {
     "data": {
      "text/html": [
       "<pre>| 36      | 3m 36s       | 0.441877          | 0.397664                          | 0.0248161   |</pre>"
      ],
      "text/plain": [
       "| 36      | 3m 36s       | 0.441877          | 0.397664                          | 0.0248161   |"
      ]
     },
     "metadata": {},
     "output_type": "display_data"
    },
    {
     "data": {
      "text/html": [
       "<pre>| 37      | 3m 42s       | 0.441507          | 0.397235                          | 0.0248161   |</pre>"
      ],
      "text/plain": [
       "| 37      | 3m 42s       | 0.441507          | 0.397235                          | 0.0248161   |"
      ]
     },
     "metadata": {},
     "output_type": "display_data"
    },
    {
     "data": {
      "text/html": [
       "<pre>| 38      | 3m 48s       | 0.441165          | 0.39683                           | 0.0248161   |</pre>"
      ],
      "text/plain": [
       "| 38      | 3m 48s       | 0.441165          | 0.39683                           | 0.0248161   |"
      ]
     },
     "metadata": {},
     "output_type": "display_data"
    },
    {
     "data": {
      "text/html": [
       "<pre>| 39      | 3m 54s       | 0.440757          | 0.396365                          | 0.0248161   |</pre>"
      ],
      "text/plain": [
       "| 39      | 3m 54s       | 0.440757          | 0.396365                          | 0.0248161   |"
      ]
     },
     "metadata": {},
     "output_type": "display_data"
    },
    {
     "data": {
      "text/html": [
       "<pre>| 40      | 4m 0s        | 0.440438          | 0.395974                          | 0.0248161   |</pre>"
      ],
      "text/plain": [
       "| 40      | 4m 0s        | 0.440438          | 0.395974                          | 0.0248161   |"
      ]
     },
     "metadata": {},
     "output_type": "display_data"
    },
    {
     "data": {
      "text/html": [
       "<pre>| 41      | 4m 6s        | 0.440036          | 0.3955                            | 0.0248161   |</pre>"
      ],
      "text/plain": [
       "| 41      | 4m 6s        | 0.440036          | 0.3955                            | 0.0248161   |"
      ]
     },
     "metadata": {},
     "output_type": "display_data"
    },
    {
     "data": {
      "text/html": [
       "<pre>| 42      | 4m 12s       | 0.439722          | 0.395112                          | 0.0248161   |</pre>"
      ],
      "text/plain": [
       "| 42      | 4m 12s       | 0.439722          | 0.395112                          | 0.0248161   |"
      ]
     },
     "metadata": {},
     "output_type": "display_data"
    },
    {
     "data": {
      "text/html": [
       "<pre>| 43      | 4m 18s       | 0.439362          | 0.394677                          | 0.0248161   |</pre>"
      ],
      "text/plain": [
       "| 43      | 4m 18s       | 0.439362          | 0.394677                          | 0.0248161   |"
      ]
     },
     "metadata": {},
     "output_type": "display_data"
    },
    {
     "data": {
      "text/html": [
       "<pre>| 44      | 4m 24s       | 0.439047          | 0.394279                          | 0.0248161   |</pre>"
      ],
      "text/plain": [
       "| 44      | 4m 24s       | 0.439047          | 0.394279                          | 0.0248161   |"
      ]
     },
     "metadata": {},
     "output_type": "display_data"
    },
    {
     "data": {
      "text/html": [
       "<pre>| 45      | 4m 30s       | 0.438748          | 0.393895                          | 0.0248161   |</pre>"
      ],
      "text/plain": [
       "| 45      | 4m 30s       | 0.438748          | 0.393895                          | 0.0248161   |"
      ]
     },
     "metadata": {},
     "output_type": "display_data"
    },
    {
     "data": {
      "text/html": [
       "<pre>| 46      | 4m 36s       | 0.438411          | 0.393466                          | 0.0248161   |</pre>"
      ],
      "text/plain": [
       "| 46      | 4m 36s       | 0.438411          | 0.393466                          | 0.0248161   |"
      ]
     },
     "metadata": {},
     "output_type": "display_data"
    },
    {
     "data": {
      "text/html": [
       "<pre>| 47      | 4m 42s       | 0.438121          | 0.393079                          | 0.0248161   |</pre>"
      ],
      "text/plain": [
       "| 47      | 4m 42s       | 0.438121          | 0.393079                          | 0.0248161   |"
      ]
     },
     "metadata": {},
     "output_type": "display_data"
    },
    {
     "data": {
      "text/html": [
       "<pre>| 48      | 4m 48s       | 0.437809          | 0.392681                          | 0.0248161   |</pre>"
      ],
      "text/plain": [
       "| 48      | 4m 48s       | 0.437809          | 0.392681                          | 0.0248161   |"
      ]
     },
     "metadata": {},
     "output_type": "display_data"
    },
    {
     "data": {
      "text/html": [
       "<pre>| 49      | 4m 54s       | 0.437576          | 0.392339                          | 0.0248161   |</pre>"
      ],
      "text/plain": [
       "| 49      | 4m 54s       | 0.437576          | 0.392339                          | 0.0248161   |"
      ]
     },
     "metadata": {},
     "output_type": "display_data"
    },
    {
     "data": {
      "text/html": [
       "<pre>| 50      | 5m 0s        | 0.437279          | 0.391941                          | 0.0248161   |</pre>"
      ],
      "text/plain": [
       "| 50      | 5m 0s        | 0.437279          | 0.391941                          | 0.0248161   |"
      ]
     },
     "metadata": {},
     "output_type": "display_data"
    },
    {
     "data": {
      "text/html": [
       "<pre>| 51      | 5m 6s        | 0.436939          | 0.391511                          | 0.0248161   |</pre>"
      ],
      "text/plain": [
       "| 51      | 5m 6s        | 0.436939          | 0.391511                          | 0.0248161   |"
      ]
     },
     "metadata": {},
     "output_type": "display_data"
    },
    {
     "data": {
      "text/html": [
       "<pre>| 52      | 5m 12s       | 0.436653          | 0.391118                          | 0.0248161   |</pre>"
      ],
      "text/plain": [
       "| 52      | 5m 12s       | 0.436653          | 0.391118                          | 0.0248161   |"
      ]
     },
     "metadata": {},
     "output_type": "display_data"
    },
    {
     "data": {
      "text/html": [
       "<pre>| 53      | 5m 18s       | 0.436388          | 0.390749                          | 0.0248161   |</pre>"
      ],
      "text/plain": [
       "| 53      | 5m 18s       | 0.436388          | 0.390749                          | 0.0248161   |"
      ]
     },
     "metadata": {},
     "output_type": "display_data"
    },
    {
     "data": {
      "text/html": [
       "<pre>| 54      | 5m 24s       | 0.436137          | 0.390389                          | 0.0248161   |</pre>"
      ],
      "text/plain": [
       "| 54      | 5m 24s       | 0.436137          | 0.390389                          | 0.0248161   |"
      ]
     },
     "metadata": {},
     "output_type": "display_data"
    },
    {
     "data": {
      "text/html": [
       "<pre>| 55      | 5m 30s       | 0.435853          | 0.390001                          | 0.0248161   |</pre>"
      ],
      "text/plain": [
       "| 55      | 5m 30s       | 0.435853          | 0.390001                          | 0.0248161   |"
      ]
     },
     "metadata": {},
     "output_type": "display_data"
    },
    {
     "data": {
      "text/html": [
       "<pre>| 56      | 5m 36s       | 0.435642          | 0.389672                          | 0.0248161   |</pre>"
      ],
      "text/plain": [
       "| 56      | 5m 36s       | 0.435642          | 0.389672                          | 0.0248161   |"
      ]
     },
     "metadata": {},
     "output_type": "display_data"
    },
    {
     "data": {
      "text/html": [
       "<pre>| 57      | 5m 42s       | 0.435325          | 0.389252                          | 0.0248161   |</pre>"
      ],
      "text/plain": [
       "| 57      | 5m 42s       | 0.435325          | 0.389252                          | 0.0248161   |"
      ]
     },
     "metadata": {},
     "output_type": "display_data"
    },
    {
     "data": {
      "text/html": [
       "<pre>| 58      | 5m 48s       | 0.435093          | 0.388897                          | 0.0248161   |</pre>"
      ],
      "text/plain": [
       "| 58      | 5m 48s       | 0.435093          | 0.388897                          | 0.0248161   |"
      ]
     },
     "metadata": {},
     "output_type": "display_data"
    },
    {
     "data": {
      "text/html": [
       "<pre>| 59      | 5m 54s       | 0.434865          | 0.38856                           | 0.0248161   |</pre>"
      ],
      "text/plain": [
       "| 59      | 5m 54s       | 0.434865          | 0.38856                           | 0.0248161   |"
      ]
     },
     "metadata": {},
     "output_type": "display_data"
    },
    {
     "data": {
      "text/html": [
       "<pre>| 60      | 5m 59s       | 0.434618          | 0.3882                            | 0.0248161   |</pre>"
      ],
      "text/plain": [
       "| 60      | 5m 59s       | 0.434618          | 0.3882                            | 0.0248161   |"
      ]
     },
     "metadata": {},
     "output_type": "display_data"
    },
    {
     "data": {
      "text/html": [
       "<pre>| 61      | 6m 5s        | 0.434341          | 0.387808                          | 0.0248161   |</pre>"
      ],
      "text/plain": [
       "| 61      | 6m 5s        | 0.434341          | 0.387808                          | 0.0248161   |"
      ]
     },
     "metadata": {},
     "output_type": "display_data"
    },
    {
     "data": {
      "text/html": [
       "<pre>| 62      | 6m 11s       | 0.434107          | 0.387455                          | 0.0248161   |</pre>"
      ],
      "text/plain": [
       "| 62      | 6m 11s       | 0.434107          | 0.387455                          | 0.0248161   |"
      ]
     },
     "metadata": {},
     "output_type": "display_data"
    },
    {
     "data": {
      "text/html": [
       "<pre>| 63      | 6m 17s       | 0.433932          | 0.387169                          | 0.0248161   |</pre>"
      ],
      "text/plain": [
       "| 63      | 6m 17s       | 0.433932          | 0.387169                          | 0.0248161   |"
      ]
     },
     "metadata": {},
     "output_type": "display_data"
    },
    {
     "data": {
      "text/html": [
       "<pre>| 64      | 6m 23s       | 0.433684          | 0.386803                          | 0.0248161   |</pre>"
      ],
      "text/plain": [
       "| 64      | 6m 23s       | 0.433684          | 0.386803                          | 0.0248161   |"
      ]
     },
     "metadata": {},
     "output_type": "display_data"
    },
    {
     "data": {
      "text/html": [
       "<pre>| 65      | 6m 29s       | 0.43348           | 0.386483                          | 0.0248161   |</pre>"
      ],
      "text/plain": [
       "| 65      | 6m 29s       | 0.43348           | 0.386483                          | 0.0248161   |"
      ]
     },
     "metadata": {},
     "output_type": "display_data"
    },
    {
     "data": {
      "text/html": [
       "<pre>| 66      | 6m 35s       | 0.433248          | 0.386127                          | 0.0248161   |</pre>"
      ],
      "text/plain": [
       "| 66      | 6m 35s       | 0.433248          | 0.386127                          | 0.0248161   |"
      ]
     },
     "metadata": {},
     "output_type": "display_data"
    },
    {
     "data": {
      "text/html": [
       "<pre>| 67      | 6m 41s       | 0.433013          | 0.385785                          | 0.0248161   |</pre>"
      ],
      "text/plain": [
       "| 67      | 6m 41s       | 0.433013          | 0.385785                          | 0.0248161   |"
      ]
     },
     "metadata": {},
     "output_type": "display_data"
    },
    {
     "data": {
      "text/html": [
       "<pre>| 68      | 6m 47s       | 0.432823          | 0.385477                          | 0.0248161   |</pre>"
      ],
      "text/plain": [
       "| 68      | 6m 47s       | 0.432823          | 0.385477                          | 0.0248161   |"
      ]
     },
     "metadata": {},
     "output_type": "display_data"
    },
    {
     "data": {
      "text/html": [
       "<pre>| 69      | 6m 53s       | 0.432618          | 0.385152                          | 0.0248161   |</pre>"
      ],
      "text/plain": [
       "| 69      | 6m 53s       | 0.432618          | 0.385152                          | 0.0248161   |"
      ]
     },
     "metadata": {},
     "output_type": "display_data"
    },
    {
     "data": {
      "text/html": [
       "<pre>| 70      | 7m 0s        | 0.432386          | 0.38481                           | 0.0248161   |</pre>"
      ],
      "text/plain": [
       "| 70      | 7m 0s        | 0.432386          | 0.38481                           | 0.0248161   |"
      ]
     },
     "metadata": {},
     "output_type": "display_data"
    },
    {
     "data": {
      "text/html": [
       "<pre>| 71      | 7m 6s        | 0.432181          | 0.384488                          | 0.0248161   |</pre>"
      ],
      "text/plain": [
       "| 71      | 7m 6s        | 0.432181          | 0.384488                          | 0.0248161   |"
      ]
     },
     "metadata": {},
     "output_type": "display_data"
    },
    {
     "data": {
      "text/html": [
       "<pre>| 72      | 7m 13s       | 0.432013          | 0.384198                          | 0.0248161   |</pre>"
      ],
      "text/plain": [
       "| 72      | 7m 13s       | 0.432013          | 0.384198                          | 0.0248161   |"
      ]
     },
     "metadata": {},
     "output_type": "display_data"
    },
    {
     "data": {
      "text/html": [
       "<pre>| 73      | 7m 20s       | 0.431804          | 0.383872                          | 0.0248161   |</pre>"
      ],
      "text/plain": [
       "| 73      | 7m 20s       | 0.431804          | 0.383872                          | 0.0248161   |"
      ]
     },
     "metadata": {},
     "output_type": "display_data"
    },
    {
     "data": {
      "text/html": [
       "<pre>| 74      | 7m 27s       | 0.431604          | 0.383552                          | 0.0248161   |</pre>"
      ],
      "text/plain": [
       "| 74      | 7m 27s       | 0.431604          | 0.383552                          | 0.0248161   |"
      ]
     },
     "metadata": {},
     "output_type": "display_data"
    },
    {
     "data": {
      "text/html": [
       "<pre>| 75      | 7m 34s       | 0.431442          | 0.383266                          | 0.0248161   |</pre>"
      ],
      "text/plain": [
       "| 75      | 7m 34s       | 0.431442          | 0.383266                          | 0.0248161   |"
      ]
     },
     "metadata": {},
     "output_type": "display_data"
    },
    {
     "data": {
      "text/html": [
       "<pre>| 76      | 7m 40s       | 0.431212          | 0.382917                          | 0.0248161   |</pre>"
      ],
      "text/plain": [
       "| 76      | 7m 40s       | 0.431212          | 0.382917                          | 0.0248161   |"
      ]
     },
     "metadata": {},
     "output_type": "display_data"
    },
    {
     "data": {
      "text/html": [
       "<pre>| 77      | 7m 46s       | 0.431062          | 0.382653                          | 0.0248161   |</pre>"
      ],
      "text/plain": [
       "| 77      | 7m 46s       | 0.431062          | 0.382653                          | 0.0248161   |"
      ]
     },
     "metadata": {},
     "output_type": "display_data"
    },
    {
     "data": {
      "text/html": [
       "<pre>| 78      | 7m 52s       | 0.430852          | 0.382321                          | 0.0248161   |</pre>"
      ],
      "text/plain": [
       "| 78      | 7m 52s       | 0.430852          | 0.382321                          | 0.0248161   |"
      ]
     },
     "metadata": {},
     "output_type": "display_data"
    },
    {
     "data": {
      "text/html": [
       "<pre>| 79      | 7m 58s       | 0.430687          | 0.382036                          | 0.0248161   |</pre>"
      ],
      "text/plain": [
       "| 79      | 7m 58s       | 0.430687          | 0.382036                          | 0.0248161   |"
      ]
     },
     "metadata": {},
     "output_type": "display_data"
    },
    {
     "data": {
      "text/html": [
       "<pre>| 80      | 8m 4s        | 0.430515          | 0.381748                          | 0.0248161   |</pre>"
      ],
      "text/plain": [
       "| 80      | 8m 4s        | 0.430515          | 0.381748                          | 0.0248161   |"
      ]
     },
     "metadata": {},
     "output_type": "display_data"
    },
    {
     "data": {
      "text/html": [
       "<pre>| 81      | 8m 10s       | 0.430359          | 0.381472                          | 0.0248161   |</pre>"
      ],
      "text/plain": [
       "| 81      | 8m 10s       | 0.430359          | 0.381472                          | 0.0248161   |"
      ]
     },
     "metadata": {},
     "output_type": "display_data"
    },
    {
     "data": {
      "text/html": [
       "<pre>| 82      | 8m 16s       | 0.43016           | 0.381157                          | 0.0248161   |</pre>"
      ],
      "text/plain": [
       "| 82      | 8m 16s       | 0.43016           | 0.381157                          | 0.0248161   |"
      ]
     },
     "metadata": {},
     "output_type": "display_data"
    },
    {
     "data": {
      "text/html": [
       "<pre>| 83      | 8m 22s       | 0.43001           | 0.380893                          | 0.0248161   |</pre>"
      ],
      "text/plain": [
       "| 83      | 8m 22s       | 0.43001           | 0.380893                          | 0.0248161   |"
      ]
     },
     "metadata": {},
     "output_type": "display_data"
    },
    {
     "data": {
      "text/html": [
       "<pre>| 84      | 8m 28s       | 0.429849          | 0.380616                          | 0.0248161   |</pre>"
      ],
      "text/plain": [
       "| 84      | 8m 28s       | 0.429849          | 0.380616                          | 0.0248161   |"
      ]
     },
     "metadata": {},
     "output_type": "display_data"
    },
    {
     "data": {
      "text/html": [
       "<pre>| 85      | 8m 34s       | 0.429682          | 0.38033                           | 0.0248161   |</pre>"
      ],
      "text/plain": [
       "| 85      | 8m 34s       | 0.429682          | 0.38033                           | 0.0248161   |"
      ]
     },
     "metadata": {},
     "output_type": "display_data"
    },
    {
     "data": {
      "text/html": [
       "<pre>| 86      | 8m 40s       | 0.429526          | 0.380059                          | 0.0248161   |</pre>"
      ],
      "text/plain": [
       "| 86      | 8m 40s       | 0.429526          | 0.380059                          | 0.0248161   |"
      ]
     },
     "metadata": {},
     "output_type": "display_data"
    },
    {
     "data": {
      "text/html": [
       "<pre>| 87      | 8m 46s       | 0.429376          | 0.379789                          | 0.0248161   |</pre>"
      ],
      "text/plain": [
       "| 87      | 8m 46s       | 0.429376          | 0.379789                          | 0.0248161   |"
      ]
     },
     "metadata": {},
     "output_type": "display_data"
    },
    {
     "data": {
      "text/html": [
       "<pre>| 88      | 8m 52s       | 0.429172          | 0.379475                          | 0.0248161   |</pre>"
      ],
      "text/plain": [
       "| 88      | 8m 52s       | 0.429172          | 0.379475                          | 0.0248161   |"
      ]
     },
     "metadata": {},
     "output_type": "display_data"
    },
    {
     "data": {
      "text/html": [
       "<pre>| 89      | 8m 58s       | 0.429054          | 0.379238                          | 0.0248161   |</pre>"
      ],
      "text/plain": [
       "| 89      | 8m 58s       | 0.429054          | 0.379238                          | 0.0248161   |"
      ]
     },
     "metadata": {},
     "output_type": "display_data"
    },
    {
     "data": {
      "text/html": [
       "<pre>| 90      | 9m 4s        | 0.428942          | 0.379004                          | 0.0248161   |</pre>"
      ],
      "text/plain": [
       "| 90      | 9m 4s        | 0.428942          | 0.379004                          | 0.0248161   |"
      ]
     },
     "metadata": {},
     "output_type": "display_data"
    },
    {
     "data": {
      "text/html": [
       "<pre>| 91      | 9m 10s       | 0.428751          | 0.378697                          | 0.0248161   |</pre>"
      ],
      "text/plain": [
       "| 91      | 9m 10s       | 0.428751          | 0.378697                          | 0.0248161   |"
      ]
     },
     "metadata": {},
     "output_type": "display_data"
    },
    {
     "data": {
      "text/html": [
       "<pre>| 92      | 9m 16s       | 0.4286            | 0.378429                          | 0.0248161   |</pre>"
      ],
      "text/plain": [
       "| 92      | 9m 16s       | 0.4286            | 0.378429                          | 0.0248161   |"
      ]
     },
     "metadata": {},
     "output_type": "display_data"
    },
    {
     "data": {
      "text/html": [
       "<pre>| 93      | 9m 22s       | 0.428472          | 0.378189                          | 0.0248161   |</pre>"
      ],
      "text/plain": [
       "| 93      | 9m 22s       | 0.428472          | 0.378189                          | 0.0248161   |"
      ]
     },
     "metadata": {},
     "output_type": "display_data"
    },
    {
     "data": {
      "text/html": [
       "<pre>| 94      | 9m 28s       | 0.428341          | 0.377941                          | 0.0248161   |</pre>"
      ],
      "text/plain": [
       "| 94      | 9m 28s       | 0.428341          | 0.377941                          | 0.0248161   |"
      ]
     },
     "metadata": {},
     "output_type": "display_data"
    },
    {
     "data": {
      "text/html": [
       "<pre>| 95      | 9m 34s       | 0.428195          | 0.377677                          | 0.0248161   |</pre>"
      ],
      "text/plain": [
       "| 95      | 9m 34s       | 0.428195          | 0.377677                          | 0.0248161   |"
      ]
     },
     "metadata": {},
     "output_type": "display_data"
    },
    {
     "data": {
      "text/html": [
       "<pre>| 96      | 9m 40s       | 0.428056          | 0.377417                          | 0.0248161   |</pre>"
      ],
      "text/plain": [
       "| 96      | 9m 40s       | 0.428056          | 0.377417                          | 0.0248161   |"
      ]
     },
     "metadata": {},
     "output_type": "display_data"
    },
    {
     "data": {
      "text/html": [
       "<pre>| 97      | 9m 46s       | 0.427918          | 0.377162                          | 0.0248161   |</pre>"
      ],
      "text/plain": [
       "| 97      | 9m 46s       | 0.427918          | 0.377162                          | 0.0248161   |"
      ]
     },
     "metadata": {},
     "output_type": "display_data"
    },
    {
     "data": {
      "text/html": [
       "<pre>| 98      | 9m 52s       | 0.427814          | 0.376949                          | 0.0248161   |</pre>"
      ],
      "text/plain": [
       "| 98      | 9m 52s       | 0.427814          | 0.376949                          | 0.0248161   |"
      ]
     },
     "metadata": {},
     "output_type": "display_data"
    },
    {
     "data": {
      "text/html": [
       "<pre>| 99      | 9m 58s       | 0.42766           | 0.376684                          | 0.0248161   |</pre>"
      ],
      "text/plain": [
       "| 99      | 9m 58s       | 0.42766           | 0.376684                          | 0.0248161   |"
      ]
     },
     "metadata": {},
     "output_type": "display_data"
    },
    {
     "data": {
      "text/html": [
       "<pre>| 100     | 10m 4s       | 0.427509          | 0.376416                          | 0.0248161   |</pre>"
      ],
      "text/plain": [
       "| 100     | 10m 4s       | 0.427509          | 0.376416                          | 0.0248161   |"
      ]
     },
     "metadata": {},
     "output_type": "display_data"
    },
    {
     "data": {
      "text/html": [
       "<pre>| 101     | 10m 10s      | 0.427354          | 0.376146                          | 0.0248161   |</pre>"
      ],
      "text/plain": [
       "| 101     | 10m 10s      | 0.427354          | 0.376146                          | 0.0248161   |"
      ]
     },
     "metadata": {},
     "output_type": "display_data"
    },
    {
     "data": {
      "text/html": [
       "<pre>| 102     | 10m 16s      | 0.427251          | 0.375934                          | 0.0248161   |</pre>"
      ],
      "text/plain": [
       "| 102     | 10m 16s      | 0.427251          | 0.375934                          | 0.0248161   |"
      ]
     },
     "metadata": {},
     "output_type": "display_data"
    },
    {
     "data": {
      "text/html": [
       "<pre>| 103     | 10m 22s      | 0.427151          | 0.375726                          | 0.0248161   |</pre>"
      ],
      "text/plain": [
       "| 103     | 10m 22s      | 0.427151          | 0.375726                          | 0.0248161   |"
      ]
     },
     "metadata": {},
     "output_type": "display_data"
    },
    {
     "data": {
      "text/html": [
       "<pre>| 104     | 10m 28s      | 0.427061          | 0.375518                          | 0.0248161   |</pre>"
      ],
      "text/plain": [
       "| 104     | 10m 28s      | 0.427061          | 0.375518                          | 0.0248161   |"
      ]
     },
     "metadata": {},
     "output_type": "display_data"
    },
    {
     "data": {
      "text/html": [
       "<pre>| 105     | 10m 34s      | 0.426922          | 0.375261                          | 0.0248161   |</pre>"
      ],
      "text/plain": [
       "| 105     | 10m 34s      | 0.426922          | 0.375261                          | 0.0248161   |"
      ]
     },
     "metadata": {},
     "output_type": "display_data"
    },
    {
     "data": {
      "text/html": [
       "<pre>| 106     | 10m 40s      | 0.426795          | 0.375026                          | 0.0248161   |</pre>"
      ],
      "text/plain": [
       "| 106     | 10m 40s      | 0.426795          | 0.375026                          | 0.0248161   |"
      ]
     },
     "metadata": {},
     "output_type": "display_data"
    },
    {
     "data": {
      "text/html": [
       "<pre>| 107     | 10m 46s      | 0.426678          | 0.3748                            | 0.0248161   |</pre>"
      ],
      "text/plain": [
       "| 107     | 10m 46s      | 0.426678          | 0.3748                            | 0.0248161   |"
      ]
     },
     "metadata": {},
     "output_type": "display_data"
    },
    {
     "data": {
      "text/html": [
       "<pre>| 108     | 10m 52s      | 0.426585          | 0.374587                          | 0.0248161   |</pre>"
      ],
      "text/plain": [
       "| 108     | 10m 52s      | 0.426585          | 0.374587                          | 0.0248161   |"
      ]
     },
     "metadata": {},
     "output_type": "display_data"
    },
    {
     "data": {
      "text/html": [
       "<pre>| 109     | 10m 58s      | 0.426471          | 0.374359                          | 0.0248161   |</pre>"
      ],
      "text/plain": [
       "| 109     | 10m 58s      | 0.426471          | 0.374359                          | 0.0248161   |"
      ]
     },
     "metadata": {},
     "output_type": "display_data"
    },
    {
     "data": {
      "text/html": [
       "<pre>| 110     | 11m 4s       | 0.426344          | 0.374123                          | 0.0248161   |</pre>"
      ],
      "text/plain": [
       "| 110     | 11m 4s       | 0.426344          | 0.374123                          | 0.0248161   |"
      ]
     },
     "metadata": {},
     "output_type": "display_data"
    },
    {
     "data": {
      "text/html": [
       "<pre>| 111     | 11m 10s      | 0.426204          | 0.373878                          | 0.0248161   |</pre>"
      ],
      "text/plain": [
       "| 111     | 11m 10s      | 0.426204          | 0.373878                          | 0.0248161   |"
      ]
     },
     "metadata": {},
     "output_type": "display_data"
    },
    {
     "data": {
      "text/html": [
       "<pre>| 112     | 11m 16s      | 0.426132          | 0.373691                          | 0.0248161   |</pre>"
      ],
      "text/plain": [
       "| 112     | 11m 16s      | 0.426132          | 0.373691                          | 0.0248161   |"
      ]
     },
     "metadata": {},
     "output_type": "display_data"
    },
    {
     "data": {
      "text/html": [
       "<pre>| 113     | 11m 22s      | 0.426041          | 0.373486                          | 0.0248161   |</pre>"
      ],
      "text/plain": [
       "| 113     | 11m 22s      | 0.426041          | 0.373486                          | 0.0248161   |"
      ]
     },
     "metadata": {},
     "output_type": "display_data"
    },
    {
     "data": {
      "text/html": [
       "<pre>| 114     | 11m 27s      | 0.425915          | 0.373254                          | 0.0248161   |</pre>"
      ],
      "text/plain": [
       "| 114     | 11m 27s      | 0.425915          | 0.373254                          | 0.0248161   |"
      ]
     },
     "metadata": {},
     "output_type": "display_data"
    },
    {
     "data": {
      "text/html": [
       "<pre>| 115     | 11m 33s      | 0.425806          | 0.373044                          | 0.0248161   |</pre>"
      ],
      "text/plain": [
       "| 115     | 11m 33s      | 0.425806          | 0.373044                          | 0.0248161   |"
      ]
     },
     "metadata": {},
     "output_type": "display_data"
    },
    {
     "data": {
      "text/html": [
       "<pre>| 116     | 11m 39s      | 0.425732          | 0.372857                          | 0.0248161   |</pre>"
      ],
      "text/plain": [
       "| 116     | 11m 39s      | 0.425732          | 0.372857                          | 0.0248161   |"
      ]
     },
     "metadata": {},
     "output_type": "display_data"
    },
    {
     "data": {
      "text/html": [
       "<pre>| 117     | 11m 45s      | 0.425606          | 0.372623                          | 0.0248161   |</pre>"
      ],
      "text/plain": [
       "| 117     | 11m 45s      | 0.425606          | 0.372623                          | 0.0248161   |"
      ]
     },
     "metadata": {},
     "output_type": "display_data"
    },
    {
     "data": {
      "text/html": [
       "<pre>| 118     | 11m 51s      | 0.425545          | 0.372456                          | 0.0248161   |</pre>"
      ],
      "text/plain": [
       "| 118     | 11m 51s      | 0.425545          | 0.372456                          | 0.0248161   |"
      ]
     },
     "metadata": {},
     "output_type": "display_data"
    },
    {
     "data": {
      "text/html": [
       "<pre>| 119     | 11m 57s      | 0.425441          | 0.372244                          | 0.0248161   |</pre>"
      ],
      "text/plain": [
       "| 119     | 11m 57s      | 0.425441          | 0.372244                          | 0.0248161   |"
      ]
     },
     "metadata": {},
     "output_type": "display_data"
    },
    {
     "data": {
      "text/html": [
       "<pre>| 120     | 12m 3s       | 0.425321          | 0.372015                          | 0.0248161   |</pre>"
      ],
      "text/plain": [
       "| 120     | 12m 3s       | 0.425321          | 0.372015                          | 0.0248161   |"
      ]
     },
     "metadata": {},
     "output_type": "display_data"
    },
    {
     "data": {
      "text/html": [
       "<pre>| 121     | 12m 9s       | 0.425228          | 0.371816                          | 0.0248161   |</pre>"
      ],
      "text/plain": [
       "| 121     | 12m 9s       | 0.425228          | 0.371816                          | 0.0248161   |"
      ]
     },
     "metadata": {},
     "output_type": "display_data"
    },
    {
     "data": {
      "text/html": [
       "<pre>| 122     | 12m 15s      | 0.425144          | 0.371631                          | 0.0248161   |</pre>"
      ],
      "text/plain": [
       "| 122     | 12m 15s      | 0.425144          | 0.371631                          | 0.0248161   |"
      ]
     },
     "metadata": {},
     "output_type": "display_data"
    },
    {
     "data": {
      "text/html": [
       "<pre>| 123     | 12m 21s      | 0.425047          | 0.371426                          | 0.0248161   |</pre>"
      ],
      "text/plain": [
       "| 123     | 12m 21s      | 0.425047          | 0.371426                          | 0.0248161   |"
      ]
     },
     "metadata": {},
     "output_type": "display_data"
    },
    {
     "data": {
      "text/html": [
       "<pre>| 124     | 12m 27s      | 0.424944          | 0.371218                          | 0.0248161   |</pre>"
      ],
      "text/plain": [
       "| 124     | 12m 27s      | 0.424944          | 0.371218                          | 0.0248161   |"
      ]
     },
     "metadata": {},
     "output_type": "display_data"
    },
    {
     "data": {
      "text/html": [
       "<pre>| 125     | 12m 33s      | 0.424861          | 0.371029                          | 0.0248161   |</pre>"
      ],
      "text/plain": [
       "| 125     | 12m 33s      | 0.424861          | 0.371029                          | 0.0248161   |"
      ]
     },
     "metadata": {},
     "output_type": "display_data"
    },
    {
     "data": {
      "text/html": [
       "<pre>| 126     | 12m 39s      | 0.424752          | 0.370817                          | 0.0248161   |</pre>"
      ],
      "text/plain": [
       "| 126     | 12m 39s      | 0.424752          | 0.370817                          | 0.0248161   |"
      ]
     },
     "metadata": {},
     "output_type": "display_data"
    },
    {
     "data": {
      "text/html": [
       "<pre>| 127     | 12m 45s      | 0.424717          | 0.370674                          | 0.0248161   |</pre>"
      ],
      "text/plain": [
       "| 127     | 12m 45s      | 0.424717          | 0.370674                          | 0.0248161   |"
      ]
     },
     "metadata": {},
     "output_type": "display_data"
    },
    {
     "data": {
      "text/html": [
       "<pre>| 128     | 12m 51s      | 0.424594          | 0.370447                          | 0.0248161   |</pre>"
      ],
      "text/plain": [
       "| 128     | 12m 51s      | 0.424594          | 0.370447                          | 0.0248161   |"
      ]
     },
     "metadata": {},
     "output_type": "display_data"
    },
    {
     "data": {
      "text/html": [
       "<pre>| 129     | 12m 57s      | 0.4245            | 0.370256                          | 0.0248161   |</pre>"
      ],
      "text/plain": [
       "| 129     | 12m 57s      | 0.4245            | 0.370256                          | 0.0248161   |"
      ]
     },
     "metadata": {},
     "output_type": "display_data"
    },
    {
     "data": {
      "text/html": [
       "<pre>| 130     | 13m 3s       | 0.424442          | 0.370092                          | 0.0248161   |</pre>"
      ],
      "text/plain": [
       "| 130     | 13m 3s       | 0.424442          | 0.370092                          | 0.0248161   |"
      ]
     },
     "metadata": {},
     "output_type": "display_data"
    },
    {
     "data": {
      "text/html": [
       "<pre>| 131     | 13m 9s       | 0.424347          | 0.369898                          | 0.0248161   |</pre>"
      ],
      "text/plain": [
       "| 131     | 13m 9s       | 0.424347          | 0.369898                          | 0.0248161   |"
      ]
     },
     "metadata": {},
     "output_type": "display_data"
    },
    {
     "data": {
      "text/html": [
       "<pre>| 132     | 13m 15s      | 0.424248          | 0.369697                          | 0.0248161   |</pre>"
      ],
      "text/plain": [
       "| 132     | 13m 15s      | 0.424248          | 0.369697                          | 0.0248161   |"
      ]
     },
     "metadata": {},
     "output_type": "display_data"
    },
    {
     "data": {
      "text/html": [
       "<pre>| 133     | 13m 21s      | 0.424189          | 0.369538                          | 0.0248161   |</pre>"
      ],
      "text/plain": [
       "| 133     | 13m 21s      | 0.424189          | 0.369538                          | 0.0248161   |"
      ]
     },
     "metadata": {},
     "output_type": "display_data"
    },
    {
     "data": {
      "text/html": [
       "<pre>| 134     | 13m 27s      | 0.424113          | 0.369357                          | 0.0248161   |</pre>"
      ],
      "text/plain": [
       "| 134     | 13m 27s      | 0.424113          | 0.369357                          | 0.0248161   |"
      ]
     },
     "metadata": {},
     "output_type": "display_data"
    },
    {
     "data": {
      "text/html": [
       "<pre>| 135     | 13m 33s      | 0.424025          | 0.36917                           | 0.0248161   |</pre>"
      ],
      "text/plain": [
       "| 135     | 13m 33s      | 0.424025          | 0.36917                           | 0.0248161   |"
      ]
     },
     "metadata": {},
     "output_type": "display_data"
    },
    {
     "data": {
      "text/html": [
       "<pre>| 136     | 13m 39s      | 0.423931          | 0.36898                           | 0.0248161   |</pre>"
      ],
      "text/plain": [
       "| 136     | 13m 39s      | 0.423931          | 0.36898                           | 0.0248161   |"
      ]
     },
     "metadata": {},
     "output_type": "display_data"
    },
    {
     "data": {
      "text/html": [
       "<pre>| 137     | 13m 45s      | 0.423839          | 0.368792                          | 0.0248161   |</pre>"
      ],
      "text/plain": [
       "| 137     | 13m 45s      | 0.423839          | 0.368792                          | 0.0248161   |"
      ]
     },
     "metadata": {},
     "output_type": "display_data"
    },
    {
     "data": {
      "text/html": [
       "<pre>| 138     | 13m 51s      | 0.423804          | 0.368659                          | 0.0248161   |</pre>"
      ],
      "text/plain": [
       "| 138     | 13m 51s      | 0.423804          | 0.368659                          | 0.0248161   |"
      ]
     },
     "metadata": {},
     "output_type": "display_data"
    },
    {
     "data": {
      "text/html": [
       "<pre>| 139     | 13m 57s      | 0.423725          | 0.36848                           | 0.0248161   |</pre>"
      ],
      "text/plain": [
       "| 139     | 13m 57s      | 0.423725          | 0.36848                           | 0.0248161   |"
      ]
     },
     "metadata": {},
     "output_type": "display_data"
    },
    {
     "data": {
      "text/html": [
       "<pre>| 140     | 14m 3s       | 0.423638          | 0.368292                          | 0.0248161   |</pre>"
      ],
      "text/plain": [
       "| 140     | 14m 3s       | 0.423638          | 0.368292                          | 0.0248161   |"
      ]
     },
     "metadata": {},
     "output_type": "display_data"
    },
    {
     "data": {
      "text/html": [
       "<pre>| 141     | 14m 9s       | 0.423543          | 0.368099                          | 0.0248161   |</pre>"
      ],
      "text/plain": [
       "| 141     | 14m 9s       | 0.423543          | 0.368099                          | 0.0248161   |"
      ]
     },
     "metadata": {},
     "output_type": "display_data"
    },
    {
     "data": {
      "text/html": [
       "<pre>| 142     | 14m 15s      | 0.423466          | 0.367928                          | 0.0248161   |</pre>"
      ],
      "text/plain": [
       "| 142     | 14m 15s      | 0.423466          | 0.367928                          | 0.0248161   |"
      ]
     },
     "metadata": {},
     "output_type": "display_data"
    },
    {
     "data": {
      "text/html": [
       "<pre>| 143     | 14m 21s      | 0.423427          | 0.367794                          | 0.0248161   |</pre>"
      ],
      "text/plain": [
       "| 143     | 14m 21s      | 0.423427          | 0.367794                          | 0.0248161   |"
      ]
     },
     "metadata": {},
     "output_type": "display_data"
    },
    {
     "data": {
      "text/html": [
       "<pre>| 144     | 14m 27s      | 0.423342          | 0.367617                          | 0.0248161   |</pre>"
      ],
      "text/plain": [
       "| 144     | 14m 27s      | 0.423342          | 0.367617                          | 0.0248161   |"
      ]
     },
     "metadata": {},
     "output_type": "display_data"
    },
    {
     "data": {
      "text/html": [
       "<pre>| 145     | 14m 33s      | 0.423262          | 0.367437                          | 0.0248161   |</pre>"
      ],
      "text/plain": [
       "| 145     | 14m 33s      | 0.423262          | 0.367437                          | 0.0248161   |"
      ]
     },
     "metadata": {},
     "output_type": "display_data"
    },
    {
     "data": {
      "text/html": [
       "<pre>| 146     | 14m 39s      | 0.423208          | 0.367283                          | 0.0248161   |</pre>"
      ],
      "text/plain": [
       "| 146     | 14m 39s      | 0.423208          | 0.367283                          | 0.0248161   |"
      ]
     },
     "metadata": {},
     "output_type": "display_data"
    },
    {
     "data": {
      "text/html": [
       "<pre>| 147     | 14m 45s      | 0.423172          | 0.36715                           | 0.0248161   |</pre>"
      ],
      "text/plain": [
       "| 147     | 14m 45s      | 0.423172          | 0.36715                           | 0.0248161   |"
      ]
     },
     "metadata": {},
     "output_type": "display_data"
    },
    {
     "data": {
      "text/html": [
       "<pre>| 148     | 14m 51s      | 0.423051          | 0.366941                          | 0.0248161   |</pre>"
      ],
      "text/plain": [
       "| 148     | 14m 51s      | 0.423051          | 0.366941                          | 0.0248161   |"
      ]
     },
     "metadata": {},
     "output_type": "display_data"
    },
    {
     "data": {
      "text/html": [
       "<pre>| 149     | 14m 57s      | 0.423018          | 0.366816                          | 0.0248161   |</pre>"
      ],
      "text/plain": [
       "| 149     | 14m 57s      | 0.423018          | 0.366816                          | 0.0248161   |"
      ]
     },
     "metadata": {},
     "output_type": "display_data"
    },
    {
     "data": {
      "text/html": [
       "<pre>| 150     | 15m 3s       | 0.422927          | 0.366635                          | 0.0248161   |</pre>"
      ],
      "text/plain": [
       "| 150     | 15m 3s       | 0.422927          | 0.366635                          | 0.0248161   |"
      ]
     },
     "metadata": {},
     "output_type": "display_data"
    },
    {
     "data": {
      "text/html": [
       "<pre>| 151     | 15m 8s       | 0.422863          | 0.366476                          | 0.0248161   |</pre>"
      ],
      "text/plain": [
       "| 151     | 15m 8s       | 0.422863          | 0.366476                          | 0.0248161   |"
      ]
     },
     "metadata": {},
     "output_type": "display_data"
    },
    {
     "data": {
      "text/html": [
       "<pre>| 152     | 15m 14s      | 0.422796          | 0.366312                          | 0.0248161   |</pre>"
      ],
      "text/plain": [
       "| 152     | 15m 14s      | 0.422796          | 0.366312                          | 0.0248161   |"
      ]
     },
     "metadata": {},
     "output_type": "display_data"
    },
    {
     "data": {
      "text/html": [
       "<pre>| 153     | 15m 20s      | 0.422757          | 0.366181                          | 0.0248161   |</pre>"
      ],
      "text/plain": [
       "| 153     | 15m 20s      | 0.422757          | 0.366181                          | 0.0248161   |"
      ]
     },
     "metadata": {},
     "output_type": "display_data"
    },
    {
     "data": {
      "text/html": [
       "<pre>| 154     | 15m 26s      | 0.422658          | 0.365991                          | 0.0248161   |</pre>"
      ],
      "text/plain": [
       "| 154     | 15m 26s      | 0.422658          | 0.365991                          | 0.0248161   |"
      ]
     },
     "metadata": {},
     "output_type": "display_data"
    },
    {
     "data": {
      "text/html": [
       "<pre>| 155     | 15m 32s      | 0.422599          | 0.365841                          | 0.0248161   |</pre>"
      ],
      "text/plain": [
       "| 155     | 15m 32s      | 0.422599          | 0.365841                          | 0.0248161   |"
      ]
     },
     "metadata": {},
     "output_type": "display_data"
    },
    {
     "data": {
      "text/html": [
       "<pre>| 156     | 15m 38s      | 0.42253           | 0.365687                          | 0.0248161   |</pre>"
      ],
      "text/plain": [
       "| 156     | 15m 38s      | 0.42253           | 0.365687                          | 0.0248161   |"
      ]
     },
     "metadata": {},
     "output_type": "display_data"
    },
    {
     "data": {
      "text/html": [
       "<pre>| 157     | 15m 44s      | 0.422482          | 0.365547                          | 0.0248161   |</pre>"
      ],
      "text/plain": [
       "| 157     | 15m 44s      | 0.422482          | 0.365547                          | 0.0248161   |"
      ]
     },
     "metadata": {},
     "output_type": "display_data"
    },
    {
     "data": {
      "text/html": [
       "<pre>| 158     | 15m 50s      | 0.422431          | 0.365401                          | 0.0248161   |</pre>"
      ],
      "text/plain": [
       "| 158     | 15m 50s      | 0.422431          | 0.365401                          | 0.0248161   |"
      ]
     },
     "metadata": {},
     "output_type": "display_data"
    },
    {
     "data": {
      "text/html": [
       "<pre>| 159     | 15m 56s      | 0.422363          | 0.365246                          | 0.0248161   |</pre>"
      ],
      "text/plain": [
       "| 159     | 15m 56s      | 0.422363          | 0.365246                          | 0.0248161   |"
      ]
     },
     "metadata": {},
     "output_type": "display_data"
    },
    {
     "data": {
      "text/html": [
       "<pre>| 160     | 16m 3s       | 0.422308          | 0.365105                          | 0.0248161   |</pre>"
      ],
      "text/plain": [
       "| 160     | 16m 3s       | 0.422308          | 0.365105                          | 0.0248161   |"
      ]
     },
     "metadata": {},
     "output_type": "display_data"
    },
    {
     "data": {
      "text/html": [
       "<pre>| 161     | 16m 9s       | 0.422257          | 0.364968                          | 0.0248161   |</pre>"
      ],
      "text/plain": [
       "| 161     | 16m 9s       | 0.422257          | 0.364968                          | 0.0248161   |"
      ]
     },
     "metadata": {},
     "output_type": "display_data"
    },
    {
     "data": {
      "text/html": [
       "<pre>| 162     | 16m 15s      | 0.422194          | 0.36481                           | 0.0248161   |</pre>"
      ],
      "text/plain": [
       "| 162     | 16m 15s      | 0.422194          | 0.36481                           | 0.0248161   |"
      ]
     },
     "metadata": {},
     "output_type": "display_data"
    },
    {
     "data": {
      "text/html": [
       "<pre>| 163     | 16m 21s      | 0.422158          | 0.364681                          | 0.0248161   |</pre>"
      ],
      "text/plain": [
       "| 163     | 16m 21s      | 0.422158          | 0.364681                          | 0.0248161   |"
      ]
     },
     "metadata": {},
     "output_type": "display_data"
    },
    {
     "data": {
      "text/html": [
       "<pre>| 164     | 16m 27s      | 0.422095          | 0.36453                           | 0.0248161   |</pre>"
      ],
      "text/plain": [
       "| 164     | 16m 27s      | 0.422095          | 0.36453                           | 0.0248161   |"
      ]
     },
     "metadata": {},
     "output_type": "display_data"
    },
    {
     "data": {
      "text/html": [
       "<pre>| 165     | 16m 33s      | 0.42199           | 0.364342                          | 0.0248161   |</pre>"
      ],
      "text/plain": [
       "| 165     | 16m 33s      | 0.42199           | 0.364342                          | 0.0248161   |"
      ]
     },
     "metadata": {},
     "output_type": "display_data"
    },
    {
     "data": {
      "text/html": [
       "<pre>| 166     | 16m 38s      | 0.421976          | 0.364241                          | 0.0248161   |</pre>"
      ],
      "text/plain": [
       "| 166     | 16m 38s      | 0.421976          | 0.364241                          | 0.0248161   |"
      ]
     },
     "metadata": {},
     "output_type": "display_data"
    },
    {
     "data": {
      "text/html": [
       "<pre>| 167     | 16m 44s      | 0.421922          | 0.364104                          | 0.0248161   |</pre>"
      ],
      "text/plain": [
       "| 167     | 16m 44s      | 0.421922          | 0.364104                          | 0.0248161   |"
      ]
     },
     "metadata": {},
     "output_type": "display_data"
    },
    {
     "data": {
      "text/html": [
       "<pre>| 168     | 16m 50s      | 0.421865          | 0.363957                          | 0.0248161   |</pre>"
      ],
      "text/plain": [
       "| 168     | 16m 50s      | 0.421865          | 0.363957                          | 0.0248161   |"
      ]
     },
     "metadata": {},
     "output_type": "display_data"
    },
    {
     "data": {
      "text/html": [
       "<pre>| 169     | 16m 56s      | 0.421793          | 0.363796                          | 0.0248161   |</pre>"
      ],
      "text/plain": [
       "| 169     | 16m 56s      | 0.421793          | 0.363796                          | 0.0248161   |"
      ]
     },
     "metadata": {},
     "output_type": "display_data"
    },
    {
     "data": {
      "text/html": [
       "<pre>| 170     | 17m 2s       | 0.421754          | 0.363672                          | 0.0248161   |</pre>"
      ],
      "text/plain": [
       "| 170     | 17m 2s       | 0.421754          | 0.363672                          | 0.0248161   |"
      ]
     },
     "metadata": {},
     "output_type": "display_data"
    },
    {
     "data": {
      "text/html": [
       "<pre>| 171     | 17m 8s       | 0.421661          | 0.363498                          | 0.0248161   |</pre>"
      ],
      "text/plain": [
       "| 171     | 17m 8s       | 0.421661          | 0.363498                          | 0.0248161   |"
      ]
     },
     "metadata": {},
     "output_type": "display_data"
    },
    {
     "data": {
      "text/html": [
       "<pre>| 172     | 17m 14s      | 0.421612          | 0.363368                          | 0.0248161   |</pre>"
      ],
      "text/plain": [
       "| 172     | 17m 14s      | 0.421612          | 0.363368                          | 0.0248161   |"
      ]
     },
     "metadata": {},
     "output_type": "display_data"
    },
    {
     "data": {
      "text/html": [
       "<pre>| 173     | 17m 20s      | 0.421575          | 0.363246                          | 0.0248161   |</pre>"
      ],
      "text/plain": [
       "| 173     | 17m 20s      | 0.421575          | 0.363246                          | 0.0248161   |"
      ]
     },
     "metadata": {},
     "output_type": "display_data"
    },
    {
     "data": {
      "text/html": [
       "<pre>| 174     | 17m 26s      | 0.42154           | 0.363123                          | 0.0248161   |</pre>"
      ],
      "text/plain": [
       "| 174     | 17m 26s      | 0.42154           | 0.363123                          | 0.0248161   |"
      ]
     },
     "metadata": {},
     "output_type": "display_data"
    },
    {
     "data": {
      "text/html": [
       "<pre>| 175     | 17m 32s      | 0.421466          | 0.362968                          | 0.0248161   |</pre>"
      ],
      "text/plain": [
       "| 175     | 17m 32s      | 0.421466          | 0.362968                          | 0.0248161   |"
      ]
     },
     "metadata": {},
     "output_type": "display_data"
    },
    {
     "data": {
      "text/html": [
       "<pre>| 176     | 17m 38s      | 0.421422          | 0.362838                          | 0.0248161   |</pre>"
      ],
      "text/plain": [
       "| 176     | 17m 38s      | 0.421422          | 0.362838                          | 0.0248161   |"
      ]
     },
     "metadata": {},
     "output_type": "display_data"
    },
    {
     "data": {
      "text/html": [
       "<pre>| 177     | 17m 44s      | 0.4214            | 0.362732                          | 0.0248161   |</pre>"
      ],
      "text/plain": [
       "| 177     | 17m 44s      | 0.4214            | 0.362732                          | 0.0248161   |"
      ]
     },
     "metadata": {},
     "output_type": "display_data"
    },
    {
     "data": {
      "text/html": [
       "<pre>| 178     | 17m 50s      | 0.421323          | 0.362567                          | 0.0248161   |</pre>"
      ],
      "text/plain": [
       "| 178     | 17m 50s      | 0.421323          | 0.362567                          | 0.0248161   |"
      ]
     },
     "metadata": {},
     "output_type": "display_data"
    },
    {
     "data": {
      "text/html": [
       "<pre>| 179     | 17m 56s      | 0.421289          | 0.362446                          | 0.0248161   |</pre>"
      ],
      "text/plain": [
       "| 179     | 17m 56s      | 0.421289          | 0.362446                          | 0.0248161   |"
      ]
     },
     "metadata": {},
     "output_type": "display_data"
    },
    {
     "data": {
      "text/html": [
       "<pre>| 180     | 18m 2s       | 0.421244          | 0.362317                          | 0.0248161   |</pre>"
      ],
      "text/plain": [
       "| 180     | 18m 2s       | 0.421244          | 0.362317                          | 0.0248161   |"
      ]
     },
     "metadata": {},
     "output_type": "display_data"
    },
    {
     "data": {
      "text/html": [
       "<pre>| 181     | 18m 8s       | 0.421188          | 0.362181                          | 0.0248161   |</pre>"
      ],
      "text/plain": [
       "| 181     | 18m 8s       | 0.421188          | 0.362181                          | 0.0248161   |"
      ]
     },
     "metadata": {},
     "output_type": "display_data"
    },
    {
     "data": {
      "text/html": [
       "<pre>| 182     | 18m 14s      | 0.42115           | 0.362064                          | 0.0248161   |</pre>"
      ],
      "text/plain": [
       "| 182     | 18m 14s      | 0.42115           | 0.362064                          | 0.0248161   |"
      ]
     },
     "metadata": {},
     "output_type": "display_data"
    },
    {
     "data": {
      "text/html": [
       "<pre>| 183     | 18m 20s      | 0.421071          | 0.361901                          | 0.0248161   |</pre>"
      ],
      "text/plain": [
       "| 183     | 18m 20s      | 0.421071          | 0.361901                          | 0.0248161   |"
      ]
     },
     "metadata": {},
     "output_type": "display_data"
    },
    {
     "data": {
      "text/html": [
       "<pre>| 184     | 18m 26s      | 0.421064          | 0.361812                          | 0.0248161   |</pre>"
      ],
      "text/plain": [
       "| 184     | 18m 26s      | 0.421064          | 0.361812                          | 0.0248161   |"
      ]
     },
     "metadata": {},
     "output_type": "display_data"
    },
    {
     "data": {
      "text/html": [
       "<pre>| 185     | 18m 32s      | 0.421036          | 0.361705                          | 0.0248161   |</pre>"
      ],
      "text/plain": [
       "| 185     | 18m 32s      | 0.421036          | 0.361705                          | 0.0248161   |"
      ]
     },
     "metadata": {},
     "output_type": "display_data"
    },
    {
     "data": {
      "text/html": [
       "<pre>| 186     | 18m 38s      | 0.420979          | 0.361565                          | 0.0248161   |</pre>"
      ],
      "text/plain": [
       "| 186     | 18m 38s      | 0.420979          | 0.361565                          | 0.0248161   |"
      ]
     },
     "metadata": {},
     "output_type": "display_data"
    },
    {
     "data": {
      "text/html": [
       "<pre>| 187     | 18m 44s      | 0.42093           | 0.361436                          | 0.0248161   |</pre>"
      ],
      "text/plain": [
       "| 187     | 18m 44s      | 0.42093           | 0.361436                          | 0.0248161   |"
      ]
     },
     "metadata": {},
     "output_type": "display_data"
    },
    {
     "data": {
      "text/html": [
       "<pre>| 188     | 18m 50s      | 0.420888          | 0.361308                          | 0.0248161   |</pre>"
      ],
      "text/plain": [
       "| 188     | 18m 50s      | 0.420888          | 0.361308                          | 0.0248161   |"
      ]
     },
     "metadata": {},
     "output_type": "display_data"
    },
    {
     "data": {
      "text/html": [
       "<pre>| 189     | 18m 56s      | 0.420856          | 0.361191                          | 0.0248161   |</pre>"
      ],
      "text/plain": [
       "| 189     | 18m 56s      | 0.420856          | 0.361191                          | 0.0248161   |"
      ]
     },
     "metadata": {},
     "output_type": "display_data"
    },
    {
     "data": {
      "text/html": [
       "<pre>| 190     | 19m 2s       | 0.420825          | 0.361082                          | 0.0248161   |</pre>"
      ],
      "text/plain": [
       "| 190     | 19m 2s       | 0.420825          | 0.361082                          | 0.0248161   |"
      ]
     },
     "metadata": {},
     "output_type": "display_data"
    },
    {
     "data": {
      "text/html": [
       "<pre>| 191     | 19m 8s       | 0.420773          | 0.360955                          | 0.0248161   |</pre>"
      ],
      "text/plain": [
       "| 191     | 19m 8s       | 0.420773          | 0.360955                          | 0.0248161   |"
      ]
     },
     "metadata": {},
     "output_type": "display_data"
    },
    {
     "data": {
      "text/html": [
       "<pre>| 192     | 19m 14s      | 0.420732          | 0.360838                          | 0.0248161   |</pre>"
      ],
      "text/plain": [
       "| 192     | 19m 14s      | 0.420732          | 0.360838                          | 0.0248161   |"
      ]
     },
     "metadata": {},
     "output_type": "display_data"
    },
    {
     "data": {
      "text/html": [
       "<pre>| 193     | 19m 20s      | 0.420675          | 0.360701                          | 0.0248161   |</pre>"
      ],
      "text/plain": [
       "| 193     | 19m 20s      | 0.420675          | 0.360701                          | 0.0248161   |"
      ]
     },
     "metadata": {},
     "output_type": "display_data"
    },
    {
     "data": {
      "text/html": [
       "<pre>| 194     | 19m 26s      | 0.42065           | 0.360598                          | 0.0248161   |</pre>"
      ],
      "text/plain": [
       "| 194     | 19m 26s      | 0.42065           | 0.360598                          | 0.0248161   |"
      ]
     },
     "metadata": {},
     "output_type": "display_data"
    },
    {
     "data": {
      "text/html": [
       "<pre>| 195     | 19m 32s      | 0.42061           | 0.360479                          | 0.0248161   |</pre>"
      ],
      "text/plain": [
       "| 195     | 19m 32s      | 0.42061           | 0.360479                          | 0.0248161   |"
      ]
     },
     "metadata": {},
     "output_type": "display_data"
    },
    {
     "data": {
      "text/html": [
       "<pre>| 196     | 19m 38s      | 0.420579          | 0.360366                          | 0.0248161   |</pre>"
      ],
      "text/plain": [
       "| 196     | 19m 38s      | 0.420579          | 0.360366                          | 0.0248161   |"
      ]
     },
     "metadata": {},
     "output_type": "display_data"
    },
    {
     "data": {
      "text/html": [
       "<pre>| 197     | 19m 44s      | 0.420527          | 0.360235                          | 0.0248161   |</pre>"
      ],
      "text/plain": [
       "| 197     | 19m 44s      | 0.420527          | 0.360235                          | 0.0248161   |"
      ]
     },
     "metadata": {},
     "output_type": "display_data"
    },
    {
     "data": {
      "text/html": [
       "<pre>| 198     | 19m 50s      | 0.420448          | 0.360076                          | 0.0248161   |</pre>"
      ],
      "text/plain": [
       "| 198     | 19m 50s      | 0.420448          | 0.360076                          | 0.0248161   |"
      ]
     },
     "metadata": {},
     "output_type": "display_data"
    },
    {
     "data": {
      "text/html": [
       "<pre>| 199     | 19m 56s      | 0.420405          | 0.359956                          | 0.0248161   |</pre>"
      ],
      "text/plain": [
       "| 199     | 19m 56s      | 0.420405          | 0.359956                          | 0.0248161   |"
      ]
     },
     "metadata": {},
     "output_type": "display_data"
    },
    {
     "data": {
      "text/html": [
       "<pre>| 200     | 20m 2s       | 0.420366          | 0.359841                          | 0.0248161   |</pre>"
      ],
      "text/plain": [
       "| 200     | 20m 2s       | 0.420366          | 0.359841                          | 0.0248161   |"
      ]
     },
     "metadata": {},
     "output_type": "display_data"
    },
    {
     "data": {
      "text/html": [
       "<pre>| 201     | 20m 8s       | 0.420331          | 0.359733                          | 0.0248161   |</pre>"
      ],
      "text/plain": [
       "| 201     | 20m 8s       | 0.420331          | 0.359733                          | 0.0248161   |"
      ]
     },
     "metadata": {},
     "output_type": "display_data"
    },
    {
     "data": {
      "text/html": [
       "<pre>| 202     | 20m 14s      | 0.420318          | 0.359644                          | 0.0248161   |</pre>"
      ],
      "text/plain": [
       "| 202     | 20m 14s      | 0.420318          | 0.359644                          | 0.0248161   |"
      ]
     },
     "metadata": {},
     "output_type": "display_data"
    },
    {
     "data": {
      "text/html": [
       "<pre>| 203     | 20m 20s      | 0.42028           | 0.359531                          | 0.0248161   |</pre>"
      ],
      "text/plain": [
       "| 203     | 20m 20s      | 0.42028           | 0.359531                          | 0.0248161   |"
      ]
     },
     "metadata": {},
     "output_type": "display_data"
    },
    {
     "data": {
      "text/html": [
       "<pre>| 204     | 20m 26s      | 0.420247          | 0.359426                          | 0.0248161   |</pre>"
      ],
      "text/plain": [
       "| 204     | 20m 26s      | 0.420247          | 0.359426                          | 0.0248161   |"
      ]
     },
     "metadata": {},
     "output_type": "display_data"
    },
    {
     "data": {
      "text/html": [
       "<pre>| 205     | 20m 32s      | 0.420212          | 0.359312                          | 0.0248161   |</pre>"
      ],
      "text/plain": [
       "| 205     | 20m 32s      | 0.420212          | 0.359312                          | 0.0248161   |"
      ]
     },
     "metadata": {},
     "output_type": "display_data"
    },
    {
     "data": {
      "text/html": [
       "<pre>| 206     | 20m 38s      | 0.420168          | 0.359191                          | 0.0248161   |</pre>"
      ],
      "text/plain": [
       "| 206     | 20m 38s      | 0.420168          | 0.359191                          | 0.0248161   |"
      ]
     },
     "metadata": {},
     "output_type": "display_data"
    },
    {
     "data": {
      "text/html": [
       "<pre>| 207     | 20m 44s      | 0.420151          | 0.359098                          | 0.0248161   |</pre>"
      ],
      "text/plain": [
       "| 207     | 20m 44s      | 0.420151          | 0.359098                          | 0.0248161   |"
      ]
     },
     "metadata": {},
     "output_type": "display_data"
    },
    {
     "data": {
      "text/html": [
       "<pre>| 208     | 20m 50s      | 0.420104          | 0.358973                          | 0.0248161   |</pre>"
      ],
      "text/plain": [
       "| 208     | 20m 50s      | 0.420104          | 0.358973                          | 0.0248161   |"
      ]
     },
     "metadata": {},
     "output_type": "display_data"
    },
    {
     "data": {
      "text/html": [
       "<pre>| 209     | 20m 56s      | 0.420045          | 0.358842                          | 0.0248161   |</pre>"
      ],
      "text/plain": [
       "| 209     | 20m 56s      | 0.420045          | 0.358842                          | 0.0248161   |"
      ]
     },
     "metadata": {},
     "output_type": "display_data"
    },
    {
     "data": {
      "text/html": [
       "<pre>| 210     | 21m 2s       | 0.420054          | 0.35878                           | 0.0248161   |</pre>"
      ],
      "text/plain": [
       "| 210     | 21m 2s       | 0.420054          | 0.35878                           | 0.0248161   |"
      ]
     },
     "metadata": {},
     "output_type": "display_data"
    },
    {
     "data": {
      "text/html": [
       "<pre>| 211     | 21m 7s       | 0.419991          | 0.358643                          | 0.0248161   |</pre>"
      ],
      "text/plain": [
       "| 211     | 21m 7s       | 0.419991          | 0.358643                          | 0.0248161   |"
      ]
     },
     "metadata": {},
     "output_type": "display_data"
    },
    {
     "data": {
      "text/html": [
       "<pre>| 212     | 21m 13s      | 0.419939          | 0.35852                           | 0.0248161   |</pre>"
      ],
      "text/plain": [
       "| 212     | 21m 13s      | 0.419939          | 0.35852                           | 0.0248161   |"
      ]
     },
     "metadata": {},
     "output_type": "display_data"
    },
    {
     "data": {
      "text/html": [
       "<pre>| 213     | 21m 19s      | 0.419952          | 0.358462                          | 0.0248161   |</pre>"
      ],
      "text/plain": [
       "| 213     | 21m 19s      | 0.419952          | 0.358462                          | 0.0248161   |"
      ]
     },
     "metadata": {},
     "output_type": "display_data"
    },
    {
     "data": {
      "text/html": [
       "<pre>| 214     | 21m 25s      | 0.419957          | 0.35839                           | 0.0248161   |</pre>"
      ],
      "text/plain": [
       "| 214     | 21m 25s      | 0.419957          | 0.35839                           | 0.0248161   |"
      ]
     },
     "metadata": {},
     "output_type": "display_data"
    },
    {
     "data": {
      "text/html": [
       "<pre>| 215     | 21m 31s      | 0.419843          | 0.358205                          | 0.0248161   |</pre>"
      ],
      "text/plain": [
       "| 215     | 21m 31s      | 0.419843          | 0.358205                          | 0.0248161   |"
      ]
     },
     "metadata": {},
     "output_type": "display_data"
    },
    {
     "data": {
      "text/html": [
       "<pre>| 216     | 21m 37s      | 0.41982           | 0.358104                          | 0.0248161   |</pre>"
      ],
      "text/plain": [
       "| 216     | 21m 37s      | 0.41982           | 0.358104                          | 0.0248161   |"
      ]
     },
     "metadata": {},
     "output_type": "display_data"
    },
    {
     "data": {
      "text/html": [
       "<pre>| 217     | 21m 43s      | 0.419796          | 0.358008                          | 0.0248161   |</pre>"
      ],
      "text/plain": [
       "| 217     | 21m 43s      | 0.419796          | 0.358008                          | 0.0248161   |"
      ]
     },
     "metadata": {},
     "output_type": "display_data"
    },
    {
     "data": {
      "text/html": [
       "<pre>| 218     | 21m 49s      | 0.419763          | 0.357906                          | 0.0248161   |</pre>"
      ],
      "text/plain": [
       "| 218     | 21m 49s      | 0.419763          | 0.357906                          | 0.0248161   |"
      ]
     },
     "metadata": {},
     "output_type": "display_data"
    },
    {
     "data": {
      "text/html": [
       "<pre>| 219     | 21m 55s      | 0.419731          | 0.357806                          | 0.0248161   |</pre>"
      ],
      "text/plain": [
       "| 219     | 21m 55s      | 0.419731          | 0.357806                          | 0.0248161   |"
      ]
     },
     "metadata": {},
     "output_type": "display_data"
    },
    {
     "data": {
      "text/html": [
       "<pre>| 220     | 22m 1s       | 0.419722          | 0.357728                          | 0.0248161   |</pre>"
      ],
      "text/plain": [
       "| 220     | 22m 1s       | 0.419722          | 0.357728                          | 0.0248161   |"
      ]
     },
     "metadata": {},
     "output_type": "display_data"
    },
    {
     "data": {
      "text/html": [
       "<pre>| 221     | 22m 7s       | 0.419662          | 0.357599                          | 0.0248161   |</pre>"
      ],
      "text/plain": [
       "| 221     | 22m 7s       | 0.419662          | 0.357599                          | 0.0248161   |"
      ]
     },
     "metadata": {},
     "output_type": "display_data"
    },
    {
     "data": {
      "text/html": [
       "<pre>| 222     | 22m 13s      | 0.419649          | 0.357516                          | 0.0248161   |</pre>"
      ],
      "text/plain": [
       "| 222     | 22m 13s      | 0.419649          | 0.357516                          | 0.0248161   |"
      ]
     },
     "metadata": {},
     "output_type": "display_data"
    },
    {
     "data": {
      "text/html": [
       "<pre>| 223     | 22m 19s      | 0.419609          | 0.357402                          | 0.0248161   |</pre>"
      ],
      "text/plain": [
       "| 223     | 22m 19s      | 0.419609          | 0.357402                          | 0.0248161   |"
      ]
     },
     "metadata": {},
     "output_type": "display_data"
    },
    {
     "data": {
      "text/html": [
       "<pre>| 224     | 22m 25s      | 0.419557          | 0.357277                          | 0.0248161   |</pre>"
      ],
      "text/plain": [
       "| 224     | 22m 25s      | 0.419557          | 0.357277                          | 0.0248161   |"
      ]
     },
     "metadata": {},
     "output_type": "display_data"
    },
    {
     "data": {
      "text/html": [
       "<pre>| 225     | 22m 31s      | 0.419539          | 0.357188                          | 0.0248161   |</pre>"
      ],
      "text/plain": [
       "| 225     | 22m 31s      | 0.419539          | 0.357188                          | 0.0248161   |"
      ]
     },
     "metadata": {},
     "output_type": "display_data"
    },
    {
     "data": {
      "text/html": [
       "<pre>| 226     | 22m 38s      | 0.419516          | 0.357093                          | 0.0248161   |</pre>"
      ],
      "text/plain": [
       "| 226     | 22m 38s      | 0.419516          | 0.357093                          | 0.0248161   |"
      ]
     },
     "metadata": {},
     "output_type": "display_data"
    },
    {
     "data": {
      "text/html": [
       "<pre>| 227     | 22m 44s      | 0.419472          | 0.356984                          | 0.0248161   |</pre>"
      ],
      "text/plain": [
       "| 227     | 22m 44s      | 0.419472          | 0.356984                          | 0.0248161   |"
      ]
     },
     "metadata": {},
     "output_type": "display_data"
    },
    {
     "data": {
      "text/html": [
       "<pre>| 228     | 22m 50s      | 0.419466          | 0.356908                          | 0.0248161   |</pre>"
      ],
      "text/plain": [
       "| 228     | 22m 50s      | 0.419466          | 0.356908                          | 0.0248161   |"
      ]
     },
     "metadata": {},
     "output_type": "display_data"
    },
    {
     "data": {
      "text/html": [
       "<pre>| 229     | 22m 56s      | 0.419434          | 0.356807                          | 0.0248161   |</pre>"
      ],
      "text/plain": [
       "| 229     | 22m 56s      | 0.419434          | 0.356807                          | 0.0248161   |"
      ]
     },
     "metadata": {},
     "output_type": "display_data"
    },
    {
     "data": {
      "text/html": [
       "<pre>| 230     | 23m 2s       | 0.41939           | 0.356699                          | 0.0248161   |</pre>"
      ],
      "text/plain": [
       "| 230     | 23m 2s       | 0.41939           | 0.356699                          | 0.0248161   |"
      ]
     },
     "metadata": {},
     "output_type": "display_data"
    },
    {
     "data": {
      "text/html": [
       "<pre>| 231     | 23m 8s       | 0.419355          | 0.356589                          | 0.0248161   |</pre>"
      ],
      "text/plain": [
       "| 231     | 23m 8s       | 0.419355          | 0.356589                          | 0.0248161   |"
      ]
     },
     "metadata": {},
     "output_type": "display_data"
    },
    {
     "data": {
      "text/html": [
       "<pre>| 232     | 23m 14s      | 0.419346          | 0.356509                          | 0.0248161   |</pre>"
      ],
      "text/plain": [
       "| 232     | 23m 14s      | 0.419346          | 0.356509                          | 0.0248161   |"
      ]
     },
     "metadata": {},
     "output_type": "display_data"
    },
    {
     "data": {
      "text/html": [
       "<pre>| 233     | 23m 20s      | 0.419335          | 0.356425                          | 0.0248161   |</pre>"
      ],
      "text/plain": [
       "| 233     | 23m 20s      | 0.419335          | 0.356425                          | 0.0248161   |"
      ]
     },
     "metadata": {},
     "output_type": "display_data"
    },
    {
     "data": {
      "text/html": [
       "<pre>| 234     | 23m 26s      | 0.419298          | 0.356321                          | 0.0248161   |</pre>"
      ],
      "text/plain": [
       "| 234     | 23m 26s      | 0.419298          | 0.356321                          | 0.0248161   |"
      ]
     },
     "metadata": {},
     "output_type": "display_data"
    },
    {
     "data": {
      "text/html": [
       "<pre>| 235     | 23m 32s      | 0.419279          | 0.356235                          | 0.0248161   |</pre>"
      ],
      "text/plain": [
       "| 235     | 23m 32s      | 0.419279          | 0.356235                          | 0.0248161   |"
      ]
     },
     "metadata": {},
     "output_type": "display_data"
    },
    {
     "data": {
      "text/html": [
       "<pre>| 236     | 23m 38s      | 0.419262          | 0.356152                          | 0.0248161   |</pre>"
      ],
      "text/plain": [
       "| 236     | 23m 38s      | 0.419262          | 0.356152                          | 0.0248161   |"
      ]
     },
     "metadata": {},
     "output_type": "display_data"
    },
    {
     "data": {
      "text/html": [
       "<pre>| 237     | 23m 44s      | 0.419212          | 0.356037                          | 0.0248161   |</pre>"
      ],
      "text/plain": [
       "| 237     | 23m 44s      | 0.419212          | 0.356037                          | 0.0248161   |"
      ]
     },
     "metadata": {},
     "output_type": "display_data"
    },
    {
     "data": {
      "text/html": [
       "<pre>| 238     | 23m 49s      | 0.419157          | 0.355918                          | 0.0248161   |</pre>"
      ],
      "text/plain": [
       "| 238     | 23m 49s      | 0.419157          | 0.355918                          | 0.0248161   |"
      ]
     },
     "metadata": {},
     "output_type": "display_data"
    },
    {
     "data": {
      "text/html": [
       "<pre>| 239     | 23m 55s      | 0.419159          | 0.355847                          | 0.0248161   |</pre>"
      ],
      "text/plain": [
       "| 239     | 23m 55s      | 0.419159          | 0.355847                          | 0.0248161   |"
      ]
     },
     "metadata": {},
     "output_type": "display_data"
    },
    {
     "data": {
      "text/html": [
       "<pre>| 240     | 24m 1s       | 0.419102          | 0.35572                           | 0.0248161   |</pre>"
      ],
      "text/plain": [
       "| 240     | 24m 1s       | 0.419102          | 0.35572                           | 0.0248161   |"
      ]
     },
     "metadata": {},
     "output_type": "display_data"
    },
    {
     "data": {
      "text/html": [
       "<pre>| 241     | 24m 7s       | 0.419107          | 0.355653                          | 0.0248161   |</pre>"
      ],
      "text/plain": [
       "| 241     | 24m 7s       | 0.419107          | 0.355653                          | 0.0248161   |"
      ]
     },
     "metadata": {},
     "output_type": "display_data"
    },
    {
     "data": {
      "text/html": [
       "<pre>| 242     | 24m 13s      | 0.419049          | 0.35553                           | 0.0248161   |</pre>"
      ],
      "text/plain": [
       "| 242     | 24m 13s      | 0.419049          | 0.35553                           | 0.0248161   |"
      ]
     },
     "metadata": {},
     "output_type": "display_data"
    },
    {
     "data": {
      "text/html": [
       "<pre>| 243     | 24m 19s      | 0.419051          | 0.355468                          | 0.0248161   |</pre>"
      ],
      "text/plain": [
       "| 243     | 24m 19s      | 0.419051          | 0.355468                          | 0.0248161   |"
      ]
     },
     "metadata": {},
     "output_type": "display_data"
    },
    {
     "data": {
      "text/html": [
       "<pre>| 244     | 24m 27s      | 0.419021          | 0.355374                          | 0.0248161   |</pre>"
      ],
      "text/plain": [
       "| 244     | 24m 27s      | 0.419021          | 0.355374                          | 0.0248161   |"
      ]
     },
     "metadata": {},
     "output_type": "display_data"
    },
    {
     "data": {
      "text/html": [
       "<pre>| 245     | 24m 34s      | 0.419001          | 0.355289                          | 0.0248161   |</pre>"
      ],
      "text/plain": [
       "| 245     | 24m 34s      | 0.419001          | 0.355289                          | 0.0248161   |"
      ]
     },
     "metadata": {},
     "output_type": "display_data"
    },
    {
     "data": {
      "text/html": [
       "<pre>| 246     | 24m 41s      | 0.418967          | 0.355193                          | 0.0248161   |</pre>"
      ],
      "text/plain": [
       "| 246     | 24m 41s      | 0.418967          | 0.355193                          | 0.0248161   |"
      ]
     },
     "metadata": {},
     "output_type": "display_data"
    },
    {
     "data": {
      "text/html": [
       "<pre>| 247     | 24m 50s      | 0.418946          | 0.355103                          | 0.0248161   |</pre>"
      ],
      "text/plain": [
       "| 247     | 24m 50s      | 0.418946          | 0.355103                          | 0.0248161   |"
      ]
     },
     "metadata": {},
     "output_type": "display_data"
    },
    {
     "data": {
      "text/html": [
       "<pre>| 248     | 24m 57s      | 0.418934          | 0.355025                          | 0.0248161   |</pre>"
      ],
      "text/plain": [
       "| 248     | 24m 57s      | 0.418934          | 0.355025                          | 0.0248161   |"
      ]
     },
     "metadata": {},
     "output_type": "display_data"
    },
    {
     "data": {
      "text/html": [
       "<pre>| 249     | 25m 4s       | 0.418889          | 0.354916                          | 0.0248161   |</pre>"
      ],
      "text/plain": [
       "| 249     | 25m 4s       | 0.418889          | 0.354916                          | 0.0248161   |"
      ]
     },
     "metadata": {},
     "output_type": "display_data"
    },
    {
     "data": {
      "text/html": [
       "<pre>| 250     | 25m 11s      | 0.418902          | 0.354863                          | 0.0248161   |</pre>"
      ],
      "text/plain": [
       "| 250     | 25m 11s      | 0.418902          | 0.354863                          | 0.0248161   |"
      ]
     },
     "metadata": {},
     "output_type": "display_data"
    },
    {
     "data": {
      "text/html": [
       "<pre>| 251     | 25m 18s      | 0.418821          | 0.354718                          | 0.0248161   |</pre>"
      ],
      "text/plain": [
       "| 251     | 25m 18s      | 0.418821          | 0.354718                          | 0.0248161   |"
      ]
     },
     "metadata": {},
     "output_type": "display_data"
    },
    {
     "data": {
      "text/html": [
       "<pre>| 252     | 25m 24s      | 0.418848          | 0.354681                          | 0.0248161   |</pre>"
      ],
      "text/plain": [
       "| 252     | 25m 24s      | 0.418848          | 0.354681                          | 0.0248161   |"
      ]
     },
     "metadata": {},
     "output_type": "display_data"
    },
    {
     "data": {
      "text/html": [
       "<pre>| 253     | 25m 31s      | 0.418789          | 0.354557                          | 0.0248161   |</pre>"
      ],
      "text/plain": [
       "| 253     | 25m 31s      | 0.418789          | 0.354557                          | 0.0248161   |"
      ]
     },
     "metadata": {},
     "output_type": "display_data"
    },
    {
     "data": {
      "text/html": [
       "<pre>| 254     | 25m 38s      | 0.418777          | 0.354483                          | 0.0248161   |</pre>"
      ],
      "text/plain": [
       "| 254     | 25m 38s      | 0.418777          | 0.354483                          | 0.0248161   |"
      ]
     },
     "metadata": {},
     "output_type": "display_data"
    },
    {
     "data": {
      "text/html": [
       "<pre>| 255     | 25m 45s      | 0.418773          | 0.354411                          | 0.0248161   |</pre>"
      ],
      "text/plain": [
       "| 255     | 25m 45s      | 0.418773          | 0.354411                          | 0.0248161   |"
      ]
     },
     "metadata": {},
     "output_type": "display_data"
    },
    {
     "data": {
      "text/html": [
       "<pre>| 256     | 25m 52s      | 0.41874           | 0.354314                          | 0.0248161   |</pre>"
      ],
      "text/plain": [
       "| 256     | 25m 52s      | 0.41874           | 0.354314                          | 0.0248161   |"
      ]
     },
     "metadata": {},
     "output_type": "display_data"
    },
    {
     "data": {
      "text/html": [
       "<pre>| 257     | 25m 59s      | 0.418741          | 0.35425                           | 0.0248161   |</pre>"
      ],
      "text/plain": [
       "| 257     | 25m 59s      | 0.418741          | 0.35425                           | 0.0248161   |"
      ]
     },
     "metadata": {},
     "output_type": "display_data"
    },
    {
     "data": {
      "text/html": [
       "<pre>| 258     | 26m 5s       | 0.418728          | 0.354174                          | 0.0248161   |</pre>"
      ],
      "text/plain": [
       "| 258     | 26m 5s       | 0.418728          | 0.354174                          | 0.0248161   |"
      ]
     },
     "metadata": {},
     "output_type": "display_data"
    },
    {
     "data": {
      "text/html": [
       "<pre>| 259     | 26m 14s      | 0.418686          | 0.35407                           | 0.0248161   |</pre>"
      ],
      "text/plain": [
       "| 259     | 26m 14s      | 0.418686          | 0.35407                           | 0.0248161   |"
      ]
     },
     "metadata": {},
     "output_type": "display_data"
    },
    {
     "data": {
      "text/html": [
       "<pre>| 260     | 26m 20s      | 0.418645          | 0.35397                           | 0.0248161   |</pre>"
      ],
      "text/plain": [
       "| 260     | 26m 20s      | 0.418645          | 0.35397                           | 0.0248161   |"
      ]
     },
     "metadata": {},
     "output_type": "display_data"
    },
    {
     "data": {
      "text/html": [
       "<pre>| 261     | 26m 26s      | 0.418657          | 0.353925                          | 0.0248161   |</pre>"
      ],
      "text/plain": [
       "| 261     | 26m 26s      | 0.418657          | 0.353925                          | 0.0248161   |"
      ]
     },
     "metadata": {},
     "output_type": "display_data"
    },
    {
     "data": {
      "text/html": [
       "<pre>| 262     | 26m 32s      | 0.418632          | 0.353842                          | 0.0248161   |</pre>"
      ],
      "text/plain": [
       "| 262     | 26m 32s      | 0.418632          | 0.353842                          | 0.0248161   |"
      ]
     },
     "metadata": {},
     "output_type": "display_data"
    },
    {
     "data": {
      "text/html": [
       "<pre>| 263     | 26m 38s      | 0.418601          | 0.353748                          | 0.0248161   |</pre>"
      ],
      "text/plain": [
       "| 263     | 26m 38s      | 0.418601          | 0.353748                          | 0.0248161   |"
      ]
     },
     "metadata": {},
     "output_type": "display_data"
    },
    {
     "data": {
      "text/html": [
       "<pre>| 264     | 26m 44s      | 0.418605          | 0.353693                          | 0.0248161   |</pre>"
      ],
      "text/plain": [
       "| 264     | 26m 44s      | 0.418605          | 0.353693                          | 0.0248161   |"
      ]
     },
     "metadata": {},
     "output_type": "display_data"
    },
    {
     "data": {
      "text/html": [
       "<pre>| 265     | 26m 50s      | 0.418556          | 0.353584                          | 0.0248161   |</pre>"
      ],
      "text/plain": [
       "| 265     | 26m 50s      | 0.418556          | 0.353584                          | 0.0248161   |"
      ]
     },
     "metadata": {},
     "output_type": "display_data"
    },
    {
     "data": {
      "text/html": [
       "<pre>| 266     | 26m 56s      | 0.418527          | 0.353496                          | 0.0248161   |</pre>"
      ],
      "text/plain": [
       "| 266     | 26m 56s      | 0.418527          | 0.353496                          | 0.0248161   |"
      ]
     },
     "metadata": {},
     "output_type": "display_data"
    },
    {
     "data": {
      "text/html": [
       "<pre>| 267     | 27m 2s       | 0.418517          | 0.353424                          | 0.0248161   |</pre>"
      ],
      "text/plain": [
       "| 267     | 27m 2s       | 0.418517          | 0.353424                          | 0.0248161   |"
      ]
     },
     "metadata": {},
     "output_type": "display_data"
    },
    {
     "data": {
      "text/html": [
       "<pre>| 268     | 27m 8s       | 0.418484          | 0.353333                          | 0.0248161   |</pre>"
      ],
      "text/plain": [
       "| 268     | 27m 8s       | 0.418484          | 0.353333                          | 0.0248161   |"
      ]
     },
     "metadata": {},
     "output_type": "display_data"
    },
    {
     "data": {
      "text/html": [
       "<pre>| 269     | 27m 14s      | 0.418448          | 0.353239                          | 0.0248161   |</pre>"
      ],
      "text/plain": [
       "| 269     | 27m 14s      | 0.418448          | 0.353239                          | 0.0248161   |"
      ]
     },
     "metadata": {},
     "output_type": "display_data"
    },
    {
     "data": {
      "text/html": [
       "<pre>| 270     | 27m 20s      | 0.418416          | 0.35315                           | 0.0248161   |</pre>"
      ],
      "text/plain": [
       "| 270     | 27m 20s      | 0.418416          | 0.35315                           | 0.0248161   |"
      ]
     },
     "metadata": {},
     "output_type": "display_data"
    },
    {
     "data": {
      "text/html": [
       "<pre>| 271     | 27m 26s      | 0.418417          | 0.353086                          | 0.0248161   |</pre>"
      ],
      "text/plain": [
       "| 271     | 27m 26s      | 0.418417          | 0.353086                          | 0.0248161   |"
      ]
     },
     "metadata": {},
     "output_type": "display_data"
    },
    {
     "data": {
      "text/html": [
       "<pre>| 272     | 27m 32s      | 0.418425          | 0.353032                          | 0.0248161   |</pre>"
      ],
      "text/plain": [
       "| 272     | 27m 32s      | 0.418425          | 0.353032                          | 0.0248161   |"
      ]
     },
     "metadata": {},
     "output_type": "display_data"
    },
    {
     "data": {
      "text/html": [
       "<pre>| 273     | 27m 38s      | 0.418408          | 0.352954                          | 0.0248161   |</pre>"
      ],
      "text/plain": [
       "| 273     | 27m 38s      | 0.418408          | 0.352954                          | 0.0248161   |"
      ]
     },
     "metadata": {},
     "output_type": "display_data"
    },
    {
     "data": {
      "text/html": [
       "<pre>| 274     | 27m 44s      | 0.41837           | 0.352857                          | 0.0248161   |</pre>"
      ],
      "text/plain": [
       "| 274     | 27m 44s      | 0.41837           | 0.352857                          | 0.0248161   |"
      ]
     },
     "metadata": {},
     "output_type": "display_data"
    },
    {
     "data": {
      "text/html": [
       "<pre>| 275     | 27m 50s      | 0.418328          | 0.35276                           | 0.0248161   |</pre>"
      ],
      "text/plain": [
       "| 275     | 27m 50s      | 0.418328          | 0.35276                           | 0.0248161   |"
      ]
     },
     "metadata": {},
     "output_type": "display_data"
    },
    {
     "data": {
      "text/html": [
       "<pre>| 276     | 27m 56s      | 0.418326          | 0.352702                          | 0.0248161   |</pre>"
      ],
      "text/plain": [
       "| 276     | 27m 56s      | 0.418326          | 0.352702                          | 0.0248161   |"
      ]
     },
     "metadata": {},
     "output_type": "display_data"
    },
    {
     "data": {
      "text/html": [
       "<pre>| 277     | 28m 3s       | 0.418329          | 0.35265                           | 0.0248161   |</pre>"
      ],
      "text/plain": [
       "| 277     | 28m 3s       | 0.418329          | 0.35265                           | 0.0248161   |"
      ]
     },
     "metadata": {},
     "output_type": "display_data"
    },
    {
     "data": {
      "text/html": [
       "<pre>| 278     | 28m 10s      | 0.418306          | 0.352566                          | 0.0248161   |</pre>"
      ],
      "text/plain": [
       "| 278     | 28m 10s      | 0.418306          | 0.352566                          | 0.0248161   |"
      ]
     },
     "metadata": {},
     "output_type": "display_data"
    },
    {
     "data": {
      "text/html": [
       "<pre>| 279     | 28m 17s      | 0.418254          | 0.352458                          | 0.0248161   |</pre>"
      ],
      "text/plain": [
       "| 279     | 28m 17s      | 0.418254          | 0.352458                          | 0.0248161   |"
      ]
     },
     "metadata": {},
     "output_type": "display_data"
    },
    {
     "data": {
      "text/html": [
       "<pre>| 280     | 28m 23s      | 0.418242          | 0.35239                           | 0.0248161   |</pre>"
      ],
      "text/plain": [
       "| 280     | 28m 23s      | 0.418242          | 0.35239                           | 0.0248161   |"
      ]
     },
     "metadata": {},
     "output_type": "display_data"
    },
    {
     "data": {
      "text/html": [
       "<pre>| 281     | 28m 30s      | 0.418212          | 0.352305                          | 0.0248161   |</pre>"
      ],
      "text/plain": [
       "| 281     | 28m 30s      | 0.418212          | 0.352305                          | 0.0248161   |"
      ]
     },
     "metadata": {},
     "output_type": "display_data"
    },
    {
     "data": {
      "text/html": [
       "<pre>| 282     | 28m 37s      | 0.418238          | 0.352271                          | 0.0248161   |</pre>"
      ],
      "text/plain": [
       "| 282     | 28m 37s      | 0.418238          | 0.352271                          | 0.0248161   |"
      ]
     },
     "metadata": {},
     "output_type": "display_data"
    },
    {
     "data": {
      "text/html": [
       "<pre>| 283     | 28m 44s      | 0.418193          | 0.352166                          | 0.0248161   |</pre>"
      ],
      "text/plain": [
       "| 283     | 28m 44s      | 0.418193          | 0.352166                          | 0.0248161   |"
      ]
     },
     "metadata": {},
     "output_type": "display_data"
    },
    {
     "data": {
      "text/html": [
       "<pre>| 284     | 28m 50s      | 0.418188          | 0.352103                          | 0.0248161   |</pre>"
      ],
      "text/plain": [
       "| 284     | 28m 50s      | 0.418188          | 0.352103                          | 0.0248161   |"
      ]
     },
     "metadata": {},
     "output_type": "display_data"
    },
    {
     "data": {
      "text/html": [
       "<pre>| 285     | 28m 57s      | 0.418176          | 0.352036                          | 0.0248161   |</pre>"
      ],
      "text/plain": [
       "| 285     | 28m 57s      | 0.418176          | 0.352036                          | 0.0248161   |"
      ]
     },
     "metadata": {},
     "output_type": "display_data"
    },
    {
     "data": {
      "text/html": [
       "<pre>| 286     | 29m 4s       | 0.418158          | 0.351958                          | 0.0248161   |</pre>"
      ],
      "text/plain": [
       "| 286     | 29m 4s       | 0.418158          | 0.351958                          | 0.0248161   |"
      ]
     },
     "metadata": {},
     "output_type": "display_data"
    },
    {
     "data": {
      "text/html": [
       "<pre>| 287     | 29m 11s      | 0.418136          | 0.351877                          | 0.0248161   |</pre>"
      ],
      "text/plain": [
       "| 287     | 29m 11s      | 0.418136          | 0.351877                          | 0.0248161   |"
      ]
     },
     "metadata": {},
     "output_type": "display_data"
    },
    {
     "data": {
      "text/html": [
       "<pre>| 288     | 29m 19s      | 0.418093          | 0.351776                          | 0.0248161   |</pre>"
      ],
      "text/plain": [
       "| 288     | 29m 19s      | 0.418093          | 0.351776                          | 0.0248161   |"
      ]
     },
     "metadata": {},
     "output_type": "display_data"
    },
    {
     "data": {
      "text/html": [
       "<pre>| 289     | 29m 26s      | 0.418088          | 0.351717                          | 0.0248161   |</pre>"
      ],
      "text/plain": [
       "| 289     | 29m 26s      | 0.418088          | 0.351717                          | 0.0248161   |"
      ]
     },
     "metadata": {},
     "output_type": "display_data"
    },
    {
     "data": {
      "text/html": [
       "<pre>| 290     | 29m 34s      | 0.418101          | 0.351676                          | 0.0248161   |</pre>"
      ],
      "text/plain": [
       "| 290     | 29m 34s      | 0.418101          | 0.351676                          | 0.0248161   |"
      ]
     },
     "metadata": {},
     "output_type": "display_data"
    },
    {
     "data": {
      "text/html": [
       "<pre>| 291     | 29m 41s      | 0.418051          | 0.351573                          | 0.0248161   |</pre>"
      ],
      "text/plain": [
       "| 291     | 29m 41s      | 0.418051          | 0.351573                          | 0.0248161   |"
      ]
     },
     "metadata": {},
     "output_type": "display_data"
    },
    {
     "data": {
      "text/html": [
       "<pre>| 292     | 29m 47s      | 0.41807           | 0.351539                          | 0.0248161   |</pre>"
      ],
      "text/plain": [
       "| 292     | 29m 47s      | 0.41807           | 0.351539                          | 0.0248161   |"
      ]
     },
     "metadata": {},
     "output_type": "display_data"
    },
    {
     "data": {
      "text/html": [
       "<pre>| 293     | 29m 53s      | 0.418058          | 0.35147                           | 0.0248161   |</pre>"
      ],
      "text/plain": [
       "| 293     | 29m 53s      | 0.418058          | 0.35147                           | 0.0248161   |"
      ]
     },
     "metadata": {},
     "output_type": "display_data"
    },
    {
     "data": {
      "text/html": [
       "<pre>| 294     | 30m 0s       | 0.418019          | 0.351377                          | 0.0248161   |</pre>"
      ],
      "text/plain": [
       "| 294     | 30m 0s       | 0.418019          | 0.351377                          | 0.0248161   |"
      ]
     },
     "metadata": {},
     "output_type": "display_data"
    },
    {
     "data": {
      "text/html": [
       "<pre>| 295     | 30m 7s       | 0.417998          | 0.351303                          | 0.0248161   |</pre>"
      ],
      "text/plain": [
       "| 295     | 30m 7s       | 0.417998          | 0.351303                          | 0.0248161   |"
      ]
     },
     "metadata": {},
     "output_type": "display_data"
    },
    {
     "data": {
      "text/html": [
       "<pre>| 296     | 30m 14s      | 0.417995          | 0.351247                          | 0.0248161   |</pre>"
      ],
      "text/plain": [
       "| 296     | 30m 14s      | 0.417995          | 0.351247                          | 0.0248161   |"
      ]
     },
     "metadata": {},
     "output_type": "display_data"
    },
    {
     "data": {
      "text/html": [
       "<pre>| 297     | 30m 22s      | 0.417945          | 0.351138                          | 0.0248161   |</pre>"
      ],
      "text/plain": [
       "| 297     | 30m 22s      | 0.417945          | 0.351138                          | 0.0248161   |"
      ]
     },
     "metadata": {},
     "output_type": "display_data"
    },
    {
     "data": {
      "text/html": [
       "<pre>| 298     | 30m 30s      | 0.417955          | 0.35109                           | 0.0248161   |</pre>"
      ],
      "text/plain": [
       "| 298     | 30m 30s      | 0.417955          | 0.35109                           | 0.0248161   |"
      ]
     },
     "metadata": {},
     "output_type": "display_data"
    },
    {
     "data": {
      "text/html": [
       "<pre>| 299     | 30m 37s      | 0.417906          | 0.350986                          | 0.0248161   |</pre>"
      ],
      "text/plain": [
       "| 299     | 30m 37s      | 0.417906          | 0.350986                          | 0.0248161   |"
      ]
     },
     "metadata": {},
     "output_type": "display_data"
    },
    {
     "data": {
      "text/html": [
       "<pre>| 300     | 30m 43s      | 0.417925          | 0.35095                           | 0.0248161   |</pre>"
      ],
      "text/plain": [
       "| 300     | 30m 43s      | 0.417925          | 0.35095                           | 0.0248161   |"
      ]
     },
     "metadata": {},
     "output_type": "display_data"
    },
    {
     "data": {
      "text/html": [
       "<pre>| 301     | 30m 49s      | 0.417917          | 0.350885                          | 0.0248161   |</pre>"
      ],
      "text/plain": [
       "| 301     | 30m 49s      | 0.417917          | 0.350885                          | 0.0248161   |"
      ]
     },
     "metadata": {},
     "output_type": "display_data"
    },
    {
     "data": {
      "text/html": [
       "<pre>| 302     | 30m 55s      | 0.417894          | 0.350805                          | 0.0248161   |</pre>"
      ],
      "text/plain": [
       "| 302     | 30m 55s      | 0.417894          | 0.350805                          | 0.0248161   |"
      ]
     },
     "metadata": {},
     "output_type": "display_data"
    },
    {
     "data": {
      "text/html": [
       "<pre>| 303     | 31m 1s       | 0.417854          | 0.350711                          | 0.0248161   |</pre>"
      ],
      "text/plain": [
       "| 303     | 31m 1s       | 0.417854          | 0.350711                          | 0.0248161   |"
      ]
     },
     "metadata": {},
     "output_type": "display_data"
    },
    {
     "data": {
      "text/html": [
       "<pre>| 304     | 31m 7s       | 0.417889          | 0.350694                          | 0.0248161   |</pre>"
      ],
      "text/plain": [
       "| 304     | 31m 7s       | 0.417889          | 0.350694                          | 0.0248161   |"
      ]
     },
     "metadata": {},
     "output_type": "display_data"
    },
    {
     "data": {
      "text/html": [
       "<pre>| 305     | 31m 13s      | 0.417855          | 0.350609                          | 0.0248161   |</pre>"
      ],
      "text/plain": [
       "| 305     | 31m 13s      | 0.417855          | 0.350609                          | 0.0248161   |"
      ]
     },
     "metadata": {},
     "output_type": "display_data"
    },
    {
     "data": {
      "text/html": [
       "<pre>| 306     | 31m 19s      | 0.417838          | 0.350542                          | 0.0248161   |</pre>"
      ],
      "text/plain": [
       "| 306     | 31m 19s      | 0.417838          | 0.350542                          | 0.0248161   |"
      ]
     },
     "metadata": {},
     "output_type": "display_data"
    },
    {
     "data": {
      "text/html": [
       "<pre>| 307     | 31m 25s      | 0.417815          | 0.350468                          | 0.0248161   |</pre>"
      ],
      "text/plain": [
       "| 307     | 31m 25s      | 0.417815          | 0.350468                          | 0.0248161   |"
      ]
     },
     "metadata": {},
     "output_type": "display_data"
    },
    {
     "data": {
      "text/html": [
       "<pre>| 308     | 31m 31s      | 0.417791          | 0.350392                          | 0.0248161   |</pre>"
      ],
      "text/plain": [
       "| 308     | 31m 31s      | 0.417791          | 0.350392                          | 0.0248161   |"
      ]
     },
     "metadata": {},
     "output_type": "display_data"
    },
    {
     "data": {
      "text/html": [
       "<pre>| 309     | 31m 37s      | 0.417784          | 0.350333                          | 0.0248161   |</pre>"
      ],
      "text/plain": [
       "| 309     | 31m 37s      | 0.417784          | 0.350333                          | 0.0248161   |"
      ]
     },
     "metadata": {},
     "output_type": "display_data"
    },
    {
     "data": {
      "text/html": [
       "<pre>| 310     | 31m 43s      | 0.417796          | 0.350295                          | 0.0248161   |</pre>"
      ],
      "text/plain": [
       "| 310     | 31m 43s      | 0.417796          | 0.350295                          | 0.0248161   |"
      ]
     },
     "metadata": {},
     "output_type": "display_data"
    },
    {
     "data": {
      "text/html": [
       "<pre>| 311     | 31m 49s      | 0.417786          | 0.350236                          | 0.0248161   |</pre>"
      ],
      "text/plain": [
       "| 311     | 31m 49s      | 0.417786          | 0.350236                          | 0.0248161   |"
      ]
     },
     "metadata": {},
     "output_type": "display_data"
    },
    {
     "data": {
      "text/html": [
       "<pre>| 312     | 31m 55s      | 0.417748          | 0.350141                          | 0.0248161   |</pre>"
      ],
      "text/plain": [
       "| 312     | 31m 55s      | 0.417748          | 0.350141                          | 0.0248161   |"
      ]
     },
     "metadata": {},
     "output_type": "display_data"
    },
    {
     "data": {
      "text/html": [
       "<pre>| 313     | 32m 1s       | 0.417746          | 0.350083                          | 0.0248161   |</pre>"
      ],
      "text/plain": [
       "| 313     | 32m 1s       | 0.417746          | 0.350083                          | 0.0248161   |"
      ]
     },
     "metadata": {},
     "output_type": "display_data"
    },
    {
     "data": {
      "text/html": [
       "<pre>| 314     | 32m 7s       | 0.41772           | 0.350003                          | 0.0248161   |</pre>"
      ],
      "text/plain": [
       "| 314     | 32m 7s       | 0.41772           | 0.350003                          | 0.0248161   |"
      ]
     },
     "metadata": {},
     "output_type": "display_data"
    },
    {
     "data": {
      "text/html": [
       "<pre>| 315     | 32m 13s      | 0.417696          | 0.349925                          | 0.0248161   |</pre>"
      ],
      "text/plain": [
       "| 315     | 32m 13s      | 0.417696          | 0.349925                          | 0.0248161   |"
      ]
     },
     "metadata": {},
     "output_type": "display_data"
    },
    {
     "data": {
      "text/html": [
       "<pre>| 316     | 32m 18s      | 0.41771           | 0.349883                          | 0.0248161   |</pre>"
      ],
      "text/plain": [
       "| 316     | 32m 18s      | 0.41771           | 0.349883                          | 0.0248161   |"
      ]
     },
     "metadata": {},
     "output_type": "display_data"
    },
    {
     "data": {
      "text/html": [
       "<pre>| 317     | 32m 25s      | 0.417694          | 0.349813                          | 0.0248161   |</pre>"
      ],
      "text/plain": [
       "| 317     | 32m 25s      | 0.417694          | 0.349813                          | 0.0248161   |"
      ]
     },
     "metadata": {},
     "output_type": "display_data"
    },
    {
     "data": {
      "text/html": [
       "<pre>| 318     | 32m 32s      | 0.41768           | 0.349747                          | 0.0248161   |</pre>"
      ],
      "text/plain": [
       "| 318     | 32m 32s      | 0.41768           | 0.349747                          | 0.0248161   |"
      ]
     },
     "metadata": {},
     "output_type": "display_data"
    },
    {
     "data": {
      "text/html": [
       "<pre>| 319     | 32m 39s      | 0.417657          | 0.349674                          | 0.0248161   |</pre>"
      ],
      "text/plain": [
       "| 319     | 32m 39s      | 0.417657          | 0.349674                          | 0.0248161   |"
      ]
     },
     "metadata": {},
     "output_type": "display_data"
    },
    {
     "data": {
      "text/html": [
       "<pre>| 320     | 32m 46s      | 0.417676          | 0.349643                          | 0.0248161   |</pre>"
      ],
      "text/plain": [
       "| 320     | 32m 46s      | 0.417676          | 0.349643                          | 0.0248161   |"
      ]
     },
     "metadata": {},
     "output_type": "display_data"
    },
    {
     "data": {
      "text/html": [
       "<pre>| 321     | 32m 53s      | 0.417661          | 0.349581                          | 0.0248161   |</pre>"
      ],
      "text/plain": [
       "| 321     | 32m 53s      | 0.417661          | 0.349581                          | 0.0248161   |"
      ]
     },
     "metadata": {},
     "output_type": "display_data"
    },
    {
     "data": {
      "text/html": [
       "<pre>| 322     | 33m 0s       | 0.417635          | 0.349503                          | 0.0248161   |</pre>"
      ],
      "text/plain": [
       "| 322     | 33m 0s       | 0.417635          | 0.349503                          | 0.0248161   |"
      ]
     },
     "metadata": {},
     "output_type": "display_data"
    },
    {
     "data": {
      "text/html": [
       "<pre>| 323     | 33m 6s       | 0.41761           | 0.349428                          | 0.0248161   |</pre>"
      ],
      "text/plain": [
       "| 323     | 33m 6s       | 0.41761           | 0.349428                          | 0.0248161   |"
      ]
     },
     "metadata": {},
     "output_type": "display_data"
    },
    {
     "data": {
      "text/html": [
       "<pre>| 324     | 33m 13s      | 0.417606          | 0.349376                          | 0.0248161   |</pre>"
      ],
      "text/plain": [
       "| 324     | 33m 13s      | 0.417606          | 0.349376                          | 0.0248161   |"
      ]
     },
     "metadata": {},
     "output_type": "display_data"
    },
    {
     "data": {
      "text/html": [
       "<pre>| 325     | 33m 19s      | 0.417587          | 0.349309                          | 0.0248161   |</pre>"
      ],
      "text/plain": [
       "| 325     | 33m 19s      | 0.417587          | 0.349309                          | 0.0248161   |"
      ]
     },
     "metadata": {},
     "output_type": "display_data"
    },
    {
     "data": {
      "text/html": [
       "<pre>| 326     | 33m 26s      | 0.417564          | 0.349233                          | 0.0248161   |</pre>"
      ],
      "text/plain": [
       "| 326     | 33m 26s      | 0.417564          | 0.349233                          | 0.0248161   |"
      ]
     },
     "metadata": {},
     "output_type": "display_data"
    },
    {
     "data": {
      "text/html": [
       "<pre>| 327     | 33m 32s      | 0.417583          | 0.349197                          | 0.0248161   |</pre>"
      ],
      "text/plain": [
       "| 327     | 33m 32s      | 0.417583          | 0.349197                          | 0.0248161   |"
      ]
     },
     "metadata": {},
     "output_type": "display_data"
    },
    {
     "data": {
      "text/html": [
       "<pre>| 328     | 33m 38s      | 0.417575          | 0.349136                          | 0.0248161   |</pre>"
      ],
      "text/plain": [
       "| 328     | 33m 38s      | 0.417575          | 0.349136                          | 0.0248161   |"
      ]
     },
     "metadata": {},
     "output_type": "display_data"
    },
    {
     "data": {
      "text/html": [
       "<pre>| 329     | 33m 45s      | 0.417546          | 0.349052                          | 0.0248161   |</pre>"
      ],
      "text/plain": [
       "| 329     | 33m 45s      | 0.417546          | 0.349052                          | 0.0248161   |"
      ]
     },
     "metadata": {},
     "output_type": "display_data"
    },
    {
     "data": {
      "text/html": [
       "<pre>| 330     | 33m 52s      | 0.417511          | 0.348964                          | 0.0248161   |</pre>"
      ],
      "text/plain": [
       "| 330     | 33m 52s      | 0.417511          | 0.348964                          | 0.0248161   |"
      ]
     },
     "metadata": {},
     "output_type": "display_data"
    },
    {
     "data": {
      "text/html": [
       "<pre>| 331     | 33m 58s      | 0.417506          | 0.348909                          | 0.0248161   |</pre>"
      ],
      "text/plain": [
       "| 331     | 33m 58s      | 0.417506          | 0.348909                          | 0.0248161   |"
      ]
     },
     "metadata": {},
     "output_type": "display_data"
    },
    {
     "data": {
      "text/html": [
       "<pre>| 332     | 34m 4s       | 0.417505          | 0.348858                          | 0.0248161   |</pre>"
      ],
      "text/plain": [
       "| 332     | 34m 4s       | 0.417505          | 0.348858                          | 0.0248161   |"
      ]
     },
     "metadata": {},
     "output_type": "display_data"
    },
    {
     "data": {
      "text/html": [
       "<pre>| 333     | 34m 10s      | 0.417524          | 0.348828                          | 0.0248161   |</pre>"
      ],
      "text/plain": [
       "| 333     | 34m 10s      | 0.417524          | 0.348828                          | 0.0248161   |"
      ]
     },
     "metadata": {},
     "output_type": "display_data"
    },
    {
     "data": {
      "text/html": [
       "<pre>| 334     | 34m 16s      | 0.417466          | 0.348723                          | 0.0248161   |</pre>"
      ],
      "text/plain": [
       "| 334     | 34m 16s      | 0.417466          | 0.348723                          | 0.0248161   |"
      ]
     },
     "metadata": {},
     "output_type": "display_data"
    },
    {
     "data": {
      "text/html": [
       "<pre>| 335     | 34m 23s      | 0.417483          | 0.348692                          | 0.0248161   |</pre>"
      ],
      "text/plain": [
       "| 335     | 34m 23s      | 0.417483          | 0.348692                          | 0.0248161   |"
      ]
     },
     "metadata": {},
     "output_type": "display_data"
    },
    {
     "data": {
      "text/html": [
       "<pre>| 336     | 34m 29s      | 0.417481          | 0.348641                          | 0.0248161   |</pre>"
      ],
      "text/plain": [
       "| 336     | 34m 29s      | 0.417481          | 0.348641                          | 0.0248161   |"
      ]
     },
     "metadata": {},
     "output_type": "display_data"
    },
    {
     "data": {
      "text/html": [
       "<pre>| 337     | 34m 35s      | 0.417456          | 0.348568                          | 0.0248161   |</pre>"
      ],
      "text/plain": [
       "| 337     | 34m 35s      | 0.417456          | 0.348568                          | 0.0248161   |"
      ]
     },
     "metadata": {},
     "output_type": "display_data"
    },
    {
     "data": {
      "text/html": [
       "<pre>| 338     | 34m 41s      | 0.417452          | 0.348517                          | 0.0248161   |</pre>"
      ],
      "text/plain": [
       "| 338     | 34m 41s      | 0.417452          | 0.348517                          | 0.0248161   |"
      ]
     },
     "metadata": {},
     "output_type": "display_data"
    },
    {
     "data": {
      "text/html": [
       "<pre>| 339     | 34m 47s      | 0.417452          | 0.348472                          | 0.0248161   |</pre>"
      ],
      "text/plain": [
       "| 339     | 34m 47s      | 0.417452          | 0.348472                          | 0.0248161   |"
      ]
     },
     "metadata": {},
     "output_type": "display_data"
    },
    {
     "data": {
      "text/html": [
       "<pre>| 340     | 34m 53s      | 0.417461          | 0.348427                          | 0.0248161   |</pre>"
      ],
      "text/plain": [
       "| 340     | 34m 53s      | 0.417461          | 0.348427                          | 0.0248161   |"
      ]
     },
     "metadata": {},
     "output_type": "display_data"
    },
    {
     "data": {
      "text/html": [
       "<pre>+---------+--------------+-------------------+-----------------------------------+-------------+</pre>"
      ],
      "text/plain": [
       "+---------+--------------+-------------------+-----------------------------------+-------------+"
      ]
     },
     "metadata": {},
     "output_type": "display_data"
    },
    {
     "data": {
      "text/html": [
       "<pre>Optimization Complete: Convergence on objective within bounds.</pre>"
      ],
      "text/plain": [
       "Optimization Complete: Convergence on objective within bounds."
      ]
     },
     "metadata": {},
     "output_type": "display_data"
    },
    {
     "data": {
      "text/html": [
       "<pre>Computing final objective value and training Predictive Error.</pre>"
      ],
      "text/plain": [
       "Computing final objective value and training Predictive Error."
      ]
     },
     "metadata": {},
     "output_type": "display_data"
    },
    {
     "data": {
      "text/html": [
       "<pre>       Final objective value: 0.413506</pre>"
      ],
      "text/plain": [
       "       Final objective value: 0.413506"
      ]
     },
     "metadata": {},
     "output_type": "display_data"
    },
    {
     "data": {
      "text/html": [
       "<pre>       Final training Predictive Error: 0.344472</pre>"
      ],
      "text/plain": [
       "       Final training Predictive Error: 0.344472"
      ]
     },
     "metadata": {},
     "output_type": "display_data"
    }
   ],
   "source": [
    "# training the model\n",
    "model = gl.recommender.factorization_recommender.create(kn_listen, \n",
    "                                                        binary_target = True, \n",
    "                                                        num_factors = n_factors,\n",
    "                                                        user_id = \"user_id\", \n",
    "                                                        item_id = \"media_id\", \n",
    "                                                        target  = \"is_listened\",\n",
    "                                                        user_data = user_data, \n",
    "                                                        item_data = song_data,\n",
    "                                                        max_iterations = m_epochs,\n",
    "                                                        regularization = regular)"
   ]
  },
  {
   "cell_type": "code",
   "execution_count": 15,
   "metadata": {
    "collapsed": false,
    "scrolled": true
   },
   "outputs": [
    {
     "data": {
      "text/html": [
       "<div>\n",
       "<table border=\"1\" class=\"dataframe\">\n",
       "  <thead>\n",
       "    <tr style=\"text-align: right;\">\n",
       "      <th></th>\n",
       "      <th>sample_id</th>\n",
       "      <th>is_listened</th>\n",
       "    </tr>\n",
       "  </thead>\n",
       "  <tbody>\n",
       "    <tr>\n",
       "      <th>2332217</th>\n",
       "      <td>0</td>\n",
       "      <td>0.998682</td>\n",
       "    </tr>\n",
       "    <tr>\n",
       "      <th>2182791</th>\n",
       "      <td>1</td>\n",
       "      <td>0.805464</td>\n",
       "    </tr>\n",
       "    <tr>\n",
       "      <th>2092768</th>\n",
       "      <td>2</td>\n",
       "      <td>0.758608</td>\n",
       "    </tr>\n",
       "  </tbody>\n",
       "</table>\n",
       "</div>"
      ],
      "text/plain": [
       "         sample_id  is_listened\n",
       "2332217          0     0.998682\n",
       "2182791          1     0.805464\n",
       "2092768          2     0.758608"
      ]
     },
     "execution_count": 15,
     "metadata": {},
     "output_type": "execute_result"
    }
   ],
   "source": [
    "# forecasting\n",
    "pred = pd.DataFrame()\n",
    "pred[\"sample_id\"] = un.sample_id.astype(int)\n",
    "pred[\"is_listened\"] = model.predict(un_listen)\n",
    "pred = pred.sort_values(\"sample_id\")\n",
    "pred.head(3)"
   ]
  },
  {
   "cell_type": "code",
   "execution_count": 16,
   "metadata": {
    "collapsed": true,
    "scrolled": true
   },
   "outputs": [],
   "source": [
    "# saving prediction vector\n",
    "pred.to_csv(path + \"pred_unknown/factorization_flow_75f_400i.csv\", index = False)"
   ]
  },
  {
   "cell_type": "code",
   "execution_count": null,
   "metadata": {
    "collapsed": true
   },
   "outputs": [],
   "source": []
  }
 ],
 "metadata": {
  "anaconda-cloud": {},
  "kernelspec": {
   "display_name": "Python 2",
   "language": "python",
   "name": "python2"
  },
  "language_info": {
   "codemirror_mode": {
    "name": "ipython",
    "version": 2
   },
   "file_extension": ".py",
   "mimetype": "text/x-python",
   "name": "python",
   "nbconvert_exporter": "python",
   "pygments_lexer": "ipython2",
   "version": "2.7.11"
  }
 },
 "nbformat": 4,
 "nbformat_minor": 1
}
