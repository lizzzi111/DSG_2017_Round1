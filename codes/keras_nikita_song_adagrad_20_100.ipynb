{
 "cells": [
  {
   "cell_type": "code",
   "execution_count": 33,
   "metadata": {
    "collapsed": true
   },
   "outputs": [
    {
     "name": "stdout",
     "output_type": "stream",
     "text": [
      "Collecting imblearn\n",
      "  Downloading imblearn-0.0-py2.py3-none-any.whl\n",
      "Collecting imbalanced-learn (from imblearn)\n",
      "  Downloading imbalanced-learn-0.2.1.tar.gz (90kB)\n",
      "\u001b[K    100% |████████████████████████████████| 92kB 660kB/s \n",
      "\u001b[?25hRequirement already satisfied: scipy>=0.17.0 in /anaconda/lib/python3.5/site-packages (from imbalanced-learn->imblearn)\n",
      "Requirement already satisfied: numpy>=1.10.4 in /anaconda/lib/python3.5/site-packages (from imbalanced-learn->imblearn)\n",
      "Requirement already satisfied: scikit-learn>=0.17.1 in /anaconda/lib/python3.5/site-packages (from imbalanced-learn->imblearn)\n",
      "Building wheels for collected packages: imbalanced-learn\n",
      "  Running setup.py bdist_wheel for imbalanced-learn ... \u001b[?25l-\b \b\\\b \b|\b \b/\b \bdone\n",
      "\u001b[?25h  Stored in directory: /Users/Kozodoi/Library/Caches/pip/wheels/b8/20/bd/0b775f7e5d413ac72562b1a5126598bcb6e0eae10da659be9f\n",
      "Successfully built imbalanced-learn\n",
      "Installing collected packages: imbalanced-learn, imblearn\n",
      "Successfully installed imbalanced-learn-0.2.1 imblearn-0.0\n"
     ]
    }
   ],
   "source": [
    "# libraries\n",
    "#!pip install rpy2\n",
    "#!pip install pandas\n",
    "#!pip install keras\n",
    "#!pip install imblearn"
   ]
  },
  {
   "cell_type": "code",
   "execution_count": 1,
   "metadata": {
    "collapsed": false
   },
   "outputs": [
    {
     "name": "stderr",
     "output_type": "stream",
     "text": [
      "Using TensorFlow backend.\n"
     ]
    }
   ],
   "source": [
    "# libraries\n",
    "import rpy2.robjects as robjects\n",
    "import pandas as pd\n",
    "import keras\n",
    "from keras.layers import Input, Dense, Embedding, concatenate, Flatten, Dropout, Reshape\n",
    "from keras.layers.normalization import BatchNormalization\n",
    "from keras.models import Model\n",
    "from keras.regularizers import l2\n",
    "from keras.optimizers import Adam"
   ]
  },
  {
   "cell_type": "markdown",
   "metadata": {},
   "source": [
    "## 1. DATA PREPARATION"
   ]
  },
  {
   "cell_type": "code",
   "execution_count": 9,
   "metadata": {
    "collapsed": false
   },
   "outputs": [],
   "source": [
    "# load the data\n",
    "path = \"/Users/Kozodoi/Documents/Competitions/DSG_2017/\"\n",
    "known   = pd.read_csv(path + \"data/train.csv\")\n",
    "unknown = pd.read_csv(path + \"data/test.csv\")"
   ]
  },
  {
   "cell_type": "code",
   "execution_count": 10,
   "metadata": {
    "collapsed": false
   },
   "outputs": [
    {
     "data": {
      "text/plain": [
       "(2319611, 15)"
      ]
     },
     "execution_count": 10,
     "metadata": {},
     "output_type": "execute_result"
    }
   ],
   "source": [
    "# keep only Flow songs in the data\n",
    "# this proves to predict better, but some information is lost\n",
    "known = known.query(\"listen_type == 1\")\n",
    "known.shape"
   ]
  },
  {
   "cell_type": "code",
   "execution_count": 11,
   "metadata": {
    "collapsed": false
   },
   "outputs": [],
   "source": [
    "# adding observation index\n",
    "known[\"row_index\"] = known.index"
   ]
  },
  {
   "cell_type": "code",
   "execution_count": 12,
   "metadata": {
    "collapsed": false
   },
   "outputs": [],
   "source": [
    "# Prepare the data\n",
    "# Create a placeholder for the IDs new in the test data\n",
    "newUsers   = list(unknown.user_id[~unknown.user_id.isin(known.user_id)])       + list(known.user_id.value_counts().keys()[known.user_id.value_counts()     == 1])\n",
    "newSongs   = list(unknown.media_id[~unknown.media_id.isin(known.media_id)])    + list(known.media_id.value_counts().keys()[known.media_id.value_counts()   == 1])[-1000:]\n",
    "newArtists = list(unknown.artist_id[~unknown.artist_id.isin(known.artist_id)]) + list(known.artist_id.value_counts().keys()[known.artist_id.value_counts() == 1])[-1000:]\n",
    "newContext = list(unknown.context_type[~unknown.context_type.isin(known.context_type)]) + list(known.context_type.value_counts().keys()[known.context_type.value_counts() == 1])[-1000:]\n",
    "\n",
    "# In particular, assign IDs from 0 to N for users and songs\n",
    "# Use enumerate() to create a list of the new and original IDs\n",
    "users   = list(enumerate([i for i in known.user_id.unique()   if i not in newUsers]))\n",
    "songs   = list(enumerate([i for i in known.media_id.unique()  if i not in newSongs]))\n",
    "artists = list(enumerate([i for i in known.artist_id.unique() if i not in newArtists]))\n",
    "context = list(enumerate([i for i in known.context_type.unique() if i not in newContext]))\n",
    "\n",
    "# Create a dictionary with old IDs to new IDs\n",
    "userid2idx    = {o:i for i,o in users}\n",
    "songid2idx    = {o:i for i,o in songs}\n",
    "artistid2idx  = {o:i for i,o in artists}\n",
    "contextid2idx = {o:i for i,o in context}\n",
    "\n",
    "# Update with new/rare entries\n",
    "userid2idx.update({o:(max(userid2idx.values())+1)       for o in newUsers})\n",
    "songid2idx.update({o:(max(songid2idx.values())+1)       for o in newSongs})\n",
    "artistid2idx.update({o:(max(artistid2idx.values())+1)   for o in newArtists})\n",
    "contextid2idx.update({o:(max(contextid2idx.values())+1) for o in newContext})\n",
    "\n",
    "# Create id variable with the new IDs (known)\n",
    "known['userIdx']    = known.user_id.apply(lambda x:       userid2idx[x])\n",
    "known['songIdx']    = known.media_id.apply(lambda x:      songid2idx[x])\n",
    "known['artistIdx']  = known.artist_id.apply(lambda x:     artistid2idx[x])\n",
    "known['contextIdx'] = known.context_type.apply(lambda x:  contextid2idx[x])\n",
    "\n",
    "# Create id variable with the new IDs (unknown)\n",
    "unknown['userIdx']    = unknown.user_id.apply(lambda x:      userid2idx[x])\n",
    "unknown['songIdx']    = unknown.media_id.apply(lambda x:     songid2idx[x])\n",
    "unknown['artistIdx']  = unknown.artist_id.apply(lambda x:    artistid2idx[x])\n",
    "unknown['contextIdx'] = unknown.context_type.apply(lambda x: contextid2idx[x])"
   ]
  },
  {
   "cell_type": "code",
   "execution_count": 13,
   "metadata": {
    "collapsed": false
   },
   "outputs": [],
   "source": [
    "# partition train/test data: last 3 songs per user go to validation (stage 1)\n",
    "# model predicts better if trained on full known sample without validation (stage 2)\n",
    "ts = known.groupby([\"userIdx\"]).tail(3)\n",
    "tr = known.groupby([\"userIdx\"], group_keys=False).apply(lambda x: x[:-3])\n",
    "\n",
    "# move songs that appear only in ts to tr\n",
    "strayObs = ts.songIdx.isin(tr.songIdx) & ts.userIdx.isin(tr.userIdx) & ts.artistIdx.isin(tr.artistIdx) & ts.contextIdx.isin(tr.contextIdx)\n",
    "tr = tr.append(ts[~strayObs])\n",
    "ts = ts[strayObs]"
   ]
  },
  {
   "cell_type": "code",
   "execution_count": 7,
   "metadata": {
    "collapsed": true
   },
   "outputs": [],
   "source": [
    "# saving the data samples\n",
    "#tr.to_csv(path + \"data/tr.csv\", index = False)\n",
    "#ts.to_csv(path + \"data/ts.csv\", index = False)"
   ]
  },
  {
   "cell_type": "markdown",
   "metadata": {},
   "source": [
    "## 2. MODELING"
   ]
  },
  {
   "cell_type": "markdown",
   "metadata": {},
   "source": [
    "### 2.1. INITIALIZING"
   ]
  },
  {
   "cell_type": "code",
   "execution_count": 14,
   "metadata": {
    "collapsed": false
   },
   "outputs": [],
   "source": [
    "# Create an input layer with one row of IDs\n",
    "user_in    = Input(shape = (1,), dtype = 'int64',   name = \"user_in\")\n",
    "song_in    = Input(shape = (1,), dtype = 'int64',   name = \"song_in\")\n",
    "artist_in  = Input(shape = (1,), dtype = 'int64',   name = \"artist_in\")\n",
    "context_in = Input(shape = (1,), dtype = 'int64',   name = \"context_in\")\n",
    "num_in     = Input(shape = (1,), dtype = 'float32', name = \"num_in\")\n",
    "\n",
    "# Reshaping numeric features\n",
    "n = Reshape((1,1))(num_in)\n",
    "\n",
    "# Create an embedding assigning k latent factors to each ID\n",
    "# These will be optimized\n",
    "# A regulariztaion is added to avoid very large weights\n",
    "n_users   = tr.userIdx.nunique()\n",
    "n_songs   = tr.songIdx.nunique()\n",
    "n_artists = tr.artistIdx.nunique()\n",
    "n_context = tr.contextIdx.nunique()\n",
    "\n",
    "# Embeddings creation\n",
    "u = Embedding(n_users,   100, input_length=1, embeddings_regularizer=l2(1e-5))(user_in)\n",
    "s = Embedding(n_songs,   100, input_length=1, embeddings_regularizer=l2(1e-5))(song_in)\n",
    "a = Embedding(n_artists, 100, input_length=1, embeddings_regularizer=l2(1e-5))(artist_in)\n",
    "c = Embedding(n_context, 100, input_length=1, embeddings_regularizer=l2(1e-5))(context_in)\n",
    "\n",
    "# Specify what to do with the layers\n",
    "x = concatenate([u, s])\n",
    "x = Flatten()(x)\n",
    "x = Dense(128, activation='relu')(x)\n",
    "x = Dropout(0.5)(x)\n",
    "x = BatchNormalization()(x)\n",
    "x = Dense(64, activation='relu')(x) \n",
    "x = Dropout(0.5)(x)\n",
    "x = Dense(1, activation = \"sigmoid\")(x)\n",
    "\n",
    "# Then we specify the model that we want to use\n",
    "model = Model([user_in, song_in], x) \n",
    "model.compile(optimizer=\"Adagrad\", loss=\"binary_crossentropy\", metrics = ['accuracy'])"
   ]
  },
  {
   "cell_type": "markdown",
   "metadata": {},
   "source": [
    "### 2.2. FIRST STAGE"
   ]
  },
  {
   "cell_type": "code",
   "execution_count": 9,
   "metadata": {
    "collapsed": false
   },
   "outputs": [
    {
     "name": "stdout",
     "output_type": "stream",
     "text": [
      "Train on 2281332 samples, validate on 38279 samples\n",
      "Epoch 1/20\n",
      "2281332/2281332 [==============================] - 195s - loss: 0.5421 - acc: 0.7436 - val_loss: 0.6713 - val_acc: 0.5909\n",
      "Epoch 2/20\n",
      "2281332/2281332 [==============================] - 187s - loss: 0.4990 - acc: 0.7700 - val_loss: 0.6587 - val_acc: 0.6057\n",
      "Epoch 3/20\n",
      "2281332/2281332 [==============================] - 188s - loss: 0.4860 - acc: 0.7772 - val_loss: 0.6332 - val_acc: 0.6863\n",
      "Epoch 4/20\n",
      "2281332/2281332 [==============================] - 174s - loss: 0.4766 - acc: 0.7827 - val_loss: 0.6069 - val_acc: 0.7243\n",
      "Epoch 5/20\n",
      "2281332/2281332 [==============================] - 144s - loss: 0.4683 - acc: 0.7875 - val_loss: 0.5726 - val_acc: 0.7284\n",
      "Epoch 6/20\n",
      "2281332/2281332 [==============================] - 110s - loss: 0.4613 - acc: 0.7912 - val_loss: 0.5668 - val_acc: 0.7257\n",
      "Epoch 7/20\n",
      "2281332/2281332 [==============================] - 145s - loss: 0.4543 - acc: 0.7948 - val_loss: 0.5678 - val_acc: 0.7273\n",
      "Epoch 8/20\n",
      "2281332/2281332 [==============================] - 197s - loss: 0.4483 - acc: 0.7980 - val_loss: 0.5747 - val_acc: 0.7294\n",
      "Epoch 9/20\n",
      "2281332/2281332 [==============================] - 195s - loss: 0.4423 - acc: 0.8011 - val_loss: 0.5853 - val_acc: 0.7325\n",
      "Epoch 10/20\n",
      "2281332/2281332 [==============================] - 195s - loss: 0.4374 - acc: 0.8032 - val_loss: 0.5924 - val_acc: 0.7302\n",
      "Epoch 11/20\n",
      "2281332/2281332 [==============================] - 195s - loss: 0.4320 - acc: 0.8060 - val_loss: 0.5922 - val_acc: 0.7308\n",
      "Epoch 12/20\n",
      "2281332/2281332 [==============================] - 194s - loss: 0.4270 - acc: 0.8084 - val_loss: 0.6075 - val_acc: 0.7277\n",
      "Epoch 13/20\n",
      "2281332/2281332 [==============================] - 198s - loss: 0.4234 - acc: 0.8099 - val_loss: 0.6155 - val_acc: 0.7278\n",
      "Epoch 14/20\n",
      "2281332/2281332 [==============================] - 195s - loss: 0.4195 - acc: 0.8117 - val_loss: 0.6101 - val_acc: 0.7306\n",
      "Epoch 15/20\n",
      "2281332/2281332 [==============================] - 195s - loss: 0.4154 - acc: 0.8135 - val_loss: 0.6230 - val_acc: 0.7288\n",
      "Epoch 16/20\n",
      "2281332/2281332 [==============================] - 158s - loss: 0.4126 - acc: 0.8150 - val_loss: 0.6267 - val_acc: 0.7285\n",
      "Epoch 17/20\n",
      "2281332/2281332 [==============================] - 131s - loss: 0.4095 - acc: 0.8159 - val_loss: 0.6238 - val_acc: 0.7285\n",
      "Epoch 18/20\n",
      "2281332/2281332 [==============================] - 111s - loss: 0.4059 - acc: 0.8180 - val_loss: 0.6350 - val_acc: 0.7284\n",
      "Epoch 19/20\n",
      "2281332/2281332 [==============================] - 80s - loss: 0.4028 - acc: 0.8190 - val_loss: 0.6410 - val_acc: 0.7255\n",
      "Epoch 20/20\n",
      "2281332/2281332 [==============================] - 81s - loss: 0.4005 - acc: 0.8199 - val_loss: 0.6243 - val_acc: 0.7263\n"
     ]
    },
    {
     "data": {
      "text/plain": [
       "<keras.callbacks.History at 0x123f7ad68>"
      ]
     },
     "execution_count": 9,
     "metadata": {},
     "output_type": "execute_result"
    }
   ],
   "source": [
    "# run the estimations on training data\n",
    "model.fit([tr.userIdx, tr.songIdx], tr.is_listened, \n",
    "validation_data = ([ts.userIdx, ts.songIdx], ts.is_listened),\n",
    "batch_size = int(len(tr)/100), epochs = 20)"
   ]
  },
  {
   "cell_type": "code",
   "execution_count": 10,
   "metadata": {
    "collapsed": false
   },
   "outputs": [
    {
     "data": {
      "text/html": [
       "<div>\n",
       "<table border=\"1\" class=\"dataframe\">\n",
       "  <thead>\n",
       "    <tr style=\"text-align: right;\">\n",
       "      <th></th>\n",
       "      <th>row_index</th>\n",
       "      <th>is_listened</th>\n",
       "    </tr>\n",
       "  </thead>\n",
       "  <tbody>\n",
       "    <tr>\n",
       "      <th>41876</th>\n",
       "      <td>41876</td>\n",
       "      <td>0.717860</td>\n",
       "    </tr>\n",
       "    <tr>\n",
       "      <th>41877</th>\n",
       "      <td>41877</td>\n",
       "      <td>0.767622</td>\n",
       "    </tr>\n",
       "    <tr>\n",
       "      <th>85967</th>\n",
       "      <td>85967</td>\n",
       "      <td>0.913623</td>\n",
       "    </tr>\n",
       "    <tr>\n",
       "      <th>85968</th>\n",
       "      <td>85968</td>\n",
       "      <td>0.330301</td>\n",
       "    </tr>\n",
       "    <tr>\n",
       "      <th>126942</th>\n",
       "      <td>126942</td>\n",
       "      <td>0.974924</td>\n",
       "    </tr>\n",
       "  </tbody>\n",
       "</table>\n",
       "</div>"
      ],
      "text/plain": [
       "        row_index  is_listened\n",
       "41876       41876     0.717860\n",
       "41877       41877     0.767622\n",
       "85967       85967     0.913623\n",
       "85968       85968     0.330301\n",
       "126942     126942     0.974924"
      ]
     },
     "execution_count": 10,
     "metadata": {},
     "output_type": "execute_result"
    }
   ],
   "source": [
    "# predict validation data\n",
    "pred = pd.DataFrame()\n",
    "pred[\"row_index\"] = ts.row_index\n",
    "pred[\"is_listened\"] = model.predict([ts.userIdx, ts.songIdx])\n",
    "pred.to_csv(path + \"pred_valid/keras_song_adagrad_20_100.csv\", index = False)\n",
    "pred.head(5)"
   ]
  },
  {
   "cell_type": "markdown",
   "metadata": {},
   "source": [
    "### 2.3. SECOND STAGE"
   ]
  },
  {
   "cell_type": "code",
   "execution_count": 15,
   "metadata": {
    "collapsed": false
   },
   "outputs": [
    {
     "name": "stdout",
     "output_type": "stream",
     "text": [
      "Epoch 1/20\n",
      "2319611/2319611 [==============================] - 97s - loss: 0.5399 - acc: 0.7450    \n",
      "Epoch 2/20\n",
      "2319611/2319611 [==============================] - 91s - loss: 0.4987 - acc: 0.7696    \n",
      "Epoch 3/20\n",
      "2319611/2319611 [==============================] - 89s - loss: 0.4864 - acc: 0.7763    \n",
      "Epoch 4/20\n",
      "2319611/2319611 [==============================] - 87s - loss: 0.4779 - acc: 0.7812    \n",
      "Epoch 5/20\n",
      "2319611/2319611 [==============================] - 88s - loss: 0.4699 - acc: 0.7855    \n",
      "Epoch 6/20\n",
      "2319611/2319611 [==============================] - 88s - loss: 0.4625 - acc: 0.7894    \n",
      "Epoch 7/20\n",
      "2319611/2319611 [==============================] - 89s - loss: 0.4566 - acc: 0.7922    \n",
      "Epoch 8/20\n",
      "2319611/2319611 [==============================] - 89s - loss: 0.4504 - acc: 0.7956    \n",
      "Epoch 9/20\n",
      "2319611/2319611 [==============================] - 89s - loss: 0.4442 - acc: 0.7987    \n",
      "Epoch 10/20\n",
      "2319611/2319611 [==============================] - 88s - loss: 0.4387 - acc: 0.8018    \n",
      "Epoch 11/20\n",
      "2319611/2319611 [==============================] - 88s - loss: 0.4342 - acc: 0.8040    \n",
      "Epoch 12/20\n",
      "2319611/2319611 [==============================] - 88s - loss: 0.4290 - acc: 0.8064    \n",
      "Epoch 13/20\n",
      "2319611/2319611 [==============================] - 88s - loss: 0.4251 - acc: 0.8084    \n",
      "Epoch 14/20\n",
      "2319611/2319611 [==============================] - 88s - loss: 0.4205 - acc: 0.8106    \n",
      "Epoch 15/20\n",
      "2319611/2319611 [==============================] - 90s - loss: 0.4176 - acc: 0.8117    \n",
      "Epoch 16/20\n",
      "2319611/2319611 [==============================] - 88s - loss: 0.4131 - acc: 0.8140    \n",
      "Epoch 17/20\n",
      "2319611/2319611 [==============================] - 88s - loss: 0.4097 - acc: 0.8158    \n",
      "Epoch 18/20\n",
      "2319611/2319611 [==============================] - 88s - loss: 0.4072 - acc: 0.8164    \n",
      "Epoch 19/20\n",
      "2319611/2319611 [==============================] - 90s - loss: 0.4036 - acc: 0.8183    \n",
      "Epoch 20/20\n",
      "2319611/2319611 [==============================] - 88s - loss: 0.4014 - acc: 0.8190    \n"
     ]
    },
    {
     "data": {
      "text/plain": [
       "<keras.callbacks.History at 0x10579f7f0>"
      ]
     },
     "execution_count": 15,
     "metadata": {},
     "output_type": "execute_result"
    }
   ],
   "source": [
    "# run the estimations on full known data\n",
    "model.fit([known.userIdx, known.songIdx], known.is_listened,\n",
    "batch_size = int(known.shape[0]/100), epochs = 20)"
   ]
  },
  {
   "cell_type": "code",
   "execution_count": 16,
   "metadata": {
    "collapsed": false
   },
   "outputs": [
    {
     "data": {
      "text/html": [
       "<div>\n",
       "<table border=\"1\" class=\"dataframe\">\n",
       "  <thead>\n",
       "    <tr style=\"text-align: right;\">\n",
       "      <th></th>\n",
       "      <th>sample_id</th>\n",
       "      <th>is_listened</th>\n",
       "    </tr>\n",
       "  </thead>\n",
       "  <tbody>\n",
       "    <tr>\n",
       "      <th>0</th>\n",
       "      <td>0</td>\n",
       "      <td>0.992023</td>\n",
       "    </tr>\n",
       "    <tr>\n",
       "      <th>1</th>\n",
       "      <td>1</td>\n",
       "      <td>0.527533</td>\n",
       "    </tr>\n",
       "    <tr>\n",
       "      <th>2</th>\n",
       "      <td>2</td>\n",
       "      <td>0.845849</td>\n",
       "    </tr>\n",
       "    <tr>\n",
       "      <th>3</th>\n",
       "      <td>3</td>\n",
       "      <td>0.525610</td>\n",
       "    </tr>\n",
       "    <tr>\n",
       "      <th>4</th>\n",
       "      <td>4</td>\n",
       "      <td>0.989955</td>\n",
       "    </tr>\n",
       "  </tbody>\n",
       "</table>\n",
       "</div>"
      ],
      "text/plain": [
       "   sample_id  is_listened\n",
       "0          0     0.992023\n",
       "1          1     0.527533\n",
       "2          2     0.845849\n",
       "3          3     0.525610\n",
       "4          4     0.989955"
      ]
     },
     "execution_count": 16,
     "metadata": {},
     "output_type": "execute_result"
    }
   ],
   "source": [
    "# predict unknown data\n",
    "pred = pd.DataFrame()\n",
    "pred[\"sample_id\"] = unknown.sample_id\n",
    "pred[\"is_listened\"] = model.predict([unknown.userIdx, unknown.songIdx])\n",
    "pred.to_csv(path + \"pred_unknown/keras_song_adagrad_20_100.csv\", index = False)\n",
    "pred.head(5)"
   ]
  }
 ],
 "metadata": {
  "anaconda-cloud": {},
  "kernelspec": {
   "display_name": "Python [default]",
   "language": "python",
   "name": "python3"
  },
  "language_info": {
   "codemirror_mode": {
    "name": "ipython",
    "version": 3
   },
   "file_extension": ".py",
   "mimetype": "text/x-python",
   "name": "python",
   "nbconvert_exporter": "python",
   "pygments_lexer": "ipython3",
   "version": "3.5.2"
  }
 },
 "nbformat": 4,
 "nbformat_minor": 1
}
