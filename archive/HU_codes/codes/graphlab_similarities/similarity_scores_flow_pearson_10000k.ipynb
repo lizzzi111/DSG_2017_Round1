{
 "cells": [
  {
   "cell_type": "markdown",
   "metadata": {},
   "source": [
    "# 1. LOADING"
   ]
  },
  {
   "cell_type": "code",
   "execution_count": 1,
   "metadata": {
    "collapsed": false,
    "scrolled": true
   },
   "outputs": [],
   "source": [
    "# import packages\n",
    "import pandas as pd\n",
    "import graphlab as gl\n",
    "from sklearn import metrics\n",
    "from scipy import stats"
   ]
  },
  {
   "cell_type": "code",
   "execution_count": 2,
   "metadata": {
    "collapsed": false,
    "scrolled": true
   },
   "outputs": [
    {
     "data": {
      "text/plain": [
       "(2339529, 50)"
      ]
     },
     "execution_count": 2,
     "metadata": {},
     "output_type": "execute_result"
    }
   ],
   "source": [
    "# load the data\n",
    "path = \"/Users/Kozodoi/Documents/Competitions/DSG_2017/\"\n",
    "data = pd.read_csv(path + \"data/data_flow.csv\")\n",
    "data.shape"
   ]
  },
  {
   "cell_type": "code",
   "execution_count": 12,
   "metadata": {
    "collapsed": false
   },
   "outputs": [],
   "source": [
    "# print variable names\n",
    "#data.columns"
   ]
  },
  {
   "cell_type": "markdown",
   "metadata": {},
   "source": [
    "# 2. DATA PREPARATION"
   ]
  },
  {
   "cell_type": "code",
   "execution_count": 3,
   "metadata": {
    "collapsed": false
   },
   "outputs": [],
   "source": [
    "# converting factors to strings\n",
    "data[\"user_id\"]   = data.user_id.astype(str)\n",
    "data[\"media_id\"]  = data.media_id.astype(str)\n",
    "data[\"album_id\"]  = data.album_id.astype(str)\n",
    "data[\"artist_id\"] = data.artist_id.astype(str)\n",
    "data[\"genre_id\"]  = data.genre_id.astype(str)"
   ]
  },
  {
   "cell_type": "code",
   "execution_count": 4,
   "metadata": {
    "collapsed": false,
    "scrolled": true
   },
   "outputs": [
    {
     "name": "stdout",
     "output_type": "stream",
     "text": [
      "train: (2279790, 50)\n",
      "test: (39821, 50)\n",
      "known: (2319611, 50)\n",
      "unknown: (19918, 50)\n"
     ]
    }
   ],
   "source": [
    "# data partitioning\n",
    "tr = data.query(\"dataset == 'train'\")\n",
    "ts = data.query(\"dataset == 'test'\")\n",
    "kn = data.query(\"dataset != 'unknown'\")\n",
    "un = data.query(\"dataset == 'unknown'\")\n",
    "\n",
    "# print data sizes\n",
    "print(\"train: \"   + str(tr.shape))\n",
    "print(\"test: \"    + str(ts.shape))\n",
    "print(\"known: \"   + str(kn.shape))\n",
    "print(\"unknown: \" + str(un.shape))"
   ]
  },
  {
   "cell_type": "code",
   "execution_count": 5,
   "metadata": {
    "collapsed": false,
    "scrolled": true
   },
   "outputs": [
    {
     "name": "stdout",
     "output_type": "stream",
     "text": [
      "This non-commercial license of GraphLab Create for academic use is assigned to kozodoin@hu-berlin.de and will expire on May 12, 2018.\n"
     ]
    },
    {
     "name": "stderr",
     "output_type": "stream",
     "text": [
      "[INFO] graphlab.cython.cy_server: GraphLab Create v2.1 started. Logging: /tmp/graphlab_server_1495903852.log\n"
     ]
    }
   ],
   "source": [
    "# data sets with user-media interactions\n",
    "tr_listen = gl.SFrame(tr[[\"media_id\", \"user_id\", \"is_listened\"]])\n",
    "ts_listen = gl.SFrame(ts[[\"media_id\", \"user_id\", \"is_listened\"]])\n",
    "kn_listen = gl.SFrame(kn[[\"media_id\", \"user_id\", \"is_listened\"]])\n",
    "un_listen = gl.SFrame(un[[\"media_id\", \"user_id\", \"is_listened\"]])"
   ]
  },
  {
   "cell_type": "code",
   "execution_count": 6,
   "metadata": {
    "collapsed": false
   },
   "outputs": [],
   "source": [
    "# clearing the memory\n",
    "data = \"Null\"\n",
    "tr   = \"Null\"\n",
    "kn   = \"Null\""
   ]
  },
  {
   "cell_type": "markdown",
   "metadata": {},
   "source": [
    "# 3. MODELING"
   ]
  },
  {
   "cell_type": "markdown",
   "metadata": {},
   "source": [
    "## 3.1. TRAINING-VALIDATION"
   ]
  },
  {
   "cell_type": "code",
   "execution_count": 8,
   "metadata": {
    "collapsed": true
   },
   "outputs": [],
   "source": [
    "# model parameters\n",
    "k = 10000\n",
    "sim_metric = \"pearson\""
   ]
  },
  {
   "cell_type": "code",
   "execution_count": 9,
   "metadata": {
    "collapsed": false
   },
   "outputs": [
    {
     "data": {
      "text/html": [
       "<pre>Recsys training: model = item_similarity</pre>"
      ],
      "text/plain": [
       "Recsys training: model = item_similarity"
      ]
     },
     "metadata": {},
     "output_type": "display_data"
    },
    {
     "data": {
      "text/html": [
       "<pre>Preparing data set.</pre>"
      ],
      "text/plain": [
       "Preparing data set."
      ]
     },
     "metadata": {},
     "output_type": "display_data"
    },
    {
     "data": {
      "text/html": [
       "<pre>    Data has 2279790 observations with 14403 users and 149282 items.</pre>"
      ],
      "text/plain": [
       "    Data has 2279790 observations with 14403 users and 149282 items."
      ]
     },
     "metadata": {},
     "output_type": "display_data"
    },
    {
     "data": {
      "text/html": [
       "<pre>    Data prepared in: 2.32154s</pre>"
      ],
      "text/plain": [
       "    Data prepared in: 2.32154s"
      ]
     },
     "metadata": {},
     "output_type": "display_data"
    },
    {
     "data": {
      "text/html": [
       "<pre>Training model from provided data.</pre>"
      ],
      "text/plain": [
       "Training model from provided data."
      ]
     },
     "metadata": {},
     "output_type": "display_data"
    },
    {
     "data": {
      "text/html": [
       "<pre>Gathering per-item and per-user statistics.</pre>"
      ],
      "text/plain": [
       "Gathering per-item and per-user statistics."
      ]
     },
     "metadata": {},
     "output_type": "display_data"
    },
    {
     "data": {
      "text/html": [
       "<pre>+--------------------------------+------------+</pre>"
      ],
      "text/plain": [
       "+--------------------------------+------------+"
      ]
     },
     "metadata": {},
     "output_type": "display_data"
    },
    {
     "data": {
      "text/html": [
       "<pre>| Elapsed Time (Item Statistics) | % Complete |</pre>"
      ],
      "text/plain": [
       "| Elapsed Time (Item Statistics) | % Complete |"
      ]
     },
     "metadata": {},
     "output_type": "display_data"
    },
    {
     "data": {
      "text/html": [
       "<pre>+--------------------------------+------------+</pre>"
      ],
      "text/plain": [
       "+--------------------------------+------------+"
      ]
     },
     "metadata": {},
     "output_type": "display_data"
    },
    {
     "data": {
      "text/html": [
       "<pre>| 152.15ms                       | 6.75       |</pre>"
      ],
      "text/plain": [
       "| 152.15ms                       | 6.75       |"
      ]
     },
     "metadata": {},
     "output_type": "display_data"
    },
    {
     "data": {
      "text/html": [
       "<pre>| 204.905ms                      | 100        |</pre>"
      ],
      "text/plain": [
       "| 204.905ms                      | 100        |"
      ]
     },
     "metadata": {},
     "output_type": "display_data"
    },
    {
     "data": {
      "text/html": [
       "<pre>+--------------------------------+------------+</pre>"
      ],
      "text/plain": [
       "+--------------------------------+------------+"
      ]
     },
     "metadata": {},
     "output_type": "display_data"
    },
    {
     "data": {
      "text/html": [
       "<pre>Setting up lookup tables.</pre>"
      ],
      "text/plain": [
       "Setting up lookup tables."
      ]
     },
     "metadata": {},
     "output_type": "display_data"
    },
    {
     "data": {
      "text/html": [
       "<pre>Processing the 575 most common items by brute force search.</pre>"
      ],
      "text/plain": [
       "Processing the 575 most common items by brute force search."
      ]
     },
     "metadata": {},
     "output_type": "display_data"
    },
    {
     "data": {
      "text/html": [
       "<pre>Transposing user-item lists for use in nearest neighbor search.</pre>"
      ],
      "text/plain": [
       "Transposing user-item lists for use in nearest neighbor search."
      ]
     },
     "metadata": {},
     "output_type": "display_data"
    },
    {
     "data": {
      "text/html": [
       "<pre>+------------------------------------+------------+</pre>"
      ],
      "text/plain": [
       "+------------------------------------+------------+"
      ]
     },
     "metadata": {},
     "output_type": "display_data"
    },
    {
     "data": {
      "text/html": [
       "<pre>| Elapsed Time (Data Transposition)) | % Complete |</pre>"
      ],
      "text/plain": [
       "| Elapsed Time (Data Transposition)) | % Complete |"
      ]
     },
     "metadata": {},
     "output_type": "display_data"
    },
    {
     "data": {
      "text/html": [
       "<pre>+------------------------------------+------------+</pre>"
      ],
      "text/plain": [
       "+------------------------------------+------------+"
      ]
     },
     "metadata": {},
     "output_type": "display_data"
    },
    {
     "data": {
      "text/html": [
       "<pre>| 27.477ms                           | 0          |</pre>"
      ],
      "text/plain": [
       "| 27.477ms                           | 0          |"
      ]
     },
     "metadata": {},
     "output_type": "display_data"
    },
    {
     "data": {
      "text/html": [
       "<pre>| 347.132ms                          | 100        |</pre>"
      ],
      "text/plain": [
       "| 347.132ms                          | 100        |"
      ]
     },
     "metadata": {},
     "output_type": "display_data"
    },
    {
     "data": {
      "text/html": [
       "<pre>+------------------------------------+------------+</pre>"
      ],
      "text/plain": [
       "+------------------------------------+------------+"
      ]
     },
     "metadata": {},
     "output_type": "display_data"
    },
    {
     "data": {
      "text/html": [
       "<pre>+-------------------------------------+------------------+-----------------+</pre>"
      ],
      "text/plain": [
       "+-------------------------------------+------------------+-----------------+"
      ]
     },
     "metadata": {},
     "output_type": "display_data"
    },
    {
     "data": {
      "text/html": [
       "<pre>| Elapsed Time (Constructing Lookups) | Total % Complete | Items Processed |</pre>"
      ],
      "text/plain": [
       "| Elapsed Time (Constructing Lookups) | Total % Complete | Items Processed |"
      ]
     },
     "metadata": {},
     "output_type": "display_data"
    },
    {
     "data": {
      "text/html": [
       "<pre>+-------------------------------------+------------------+-----------------+</pre>"
      ],
      "text/plain": [
       "+-------------------------------------+------------------+-----------------+"
      ]
     },
     "metadata": {},
     "output_type": "display_data"
    },
    {
     "data": {
      "text/html": [
       "<pre>| 19.66s                              | 0                | 0               |</pre>"
      ],
      "text/plain": [
       "| 19.66s                              | 0                | 0               |"
      ]
     },
     "metadata": {},
     "output_type": "display_data"
    },
    {
     "data": {
      "text/html": [
       "<pre>| 20.66s                              | 0                | 79              |</pre>"
      ],
      "text/plain": [
       "| 20.66s                              | 0                | 79              |"
      ]
     },
     "metadata": {},
     "output_type": "display_data"
    },
    {
     "data": {
      "text/html": [
       "<pre>| 21.66s                              | 0                | 178             |</pre>"
      ],
      "text/plain": [
       "| 21.66s                              | 0                | 178             |"
      ]
     },
     "metadata": {},
     "output_type": "display_data"
    },
    {
     "data": {
      "text/html": [
       "<pre>| 22.66s                              | 0                | 275             |</pre>"
      ],
      "text/plain": [
       "| 22.66s                              | 0                | 275             |"
      ]
     },
     "metadata": {},
     "output_type": "display_data"
    },
    {
     "data": {
      "text/html": [
       "<pre>| 23.66s                              | 0                | 368             |</pre>"
      ],
      "text/plain": [
       "| 23.66s                              | 0                | 368             |"
      ]
     },
     "metadata": {},
     "output_type": "display_data"
    },
    {
     "data": {
      "text/html": [
       "<pre>| 24.66s                              | 0.25             | 439             |</pre>"
      ],
      "text/plain": [
       "| 24.66s                              | 0.25             | 439             |"
      ]
     },
     "metadata": {},
     "output_type": "display_data"
    },
    {
     "data": {
      "text/html": [
       "<pre>| 25.66s                              | 0.25             | 465             |</pre>"
      ],
      "text/plain": [
       "| 25.66s                              | 0.25             | 465             |"
      ]
     },
     "metadata": {},
     "output_type": "display_data"
    },
    {
     "data": {
      "text/html": [
       "<pre>| 26.67s                              | 0.25             | 485             |</pre>"
      ],
      "text/plain": [
       "| 26.67s                              | 0.25             | 485             |"
      ]
     },
     "metadata": {},
     "output_type": "display_data"
    },
    {
     "data": {
      "text/html": [
       "<pre>| 27.67s                              | 0.25             | 511             |</pre>"
      ],
      "text/plain": [
       "| 27.67s                              | 0.25             | 511             |"
      ]
     },
     "metadata": {},
     "output_type": "display_data"
    },
    {
     "data": {
      "text/html": [
       "<pre>| 28.67s                              | 0.25             | 543             |</pre>"
      ],
      "text/plain": [
       "| 28.67s                              | 0.25             | 543             |"
      ]
     },
     "metadata": {},
     "output_type": "display_data"
    },
    {
     "data": {
      "text/html": [
       "<pre>+-------------------------------------+------------------+-----------------+</pre>"
      ],
      "text/plain": [
       "+-------------------------------------+------------------+-----------------+"
      ]
     },
     "metadata": {},
     "output_type": "display_data"
    },
    {
     "data": {
      "text/html": [
       "<pre>Processing data in one pass using sparse lookup tables.</pre>"
      ],
      "text/plain": [
       "Processing data in one pass using sparse lookup tables."
      ]
     },
     "metadata": {},
     "output_type": "display_data"
    },
    {
     "data": {
      "text/html": [
       "<pre>+-------------------------------------+------------------+-----------------+</pre>"
      ],
      "text/plain": [
       "+-------------------------------------+------------------+-----------------+"
      ]
     },
     "metadata": {},
     "output_type": "display_data"
    },
    {
     "data": {
      "text/html": [
       "<pre>| Elapsed Time (Constructing Lookups) | Total % Complete | Items Processed |</pre>"
      ],
      "text/plain": [
       "| Elapsed Time (Constructing Lookups) | Total % Complete | Items Processed |"
      ]
     },
     "metadata": {},
     "output_type": "display_data"
    },
    {
     "data": {
      "text/html": [
       "<pre>+-------------------------------------+------------------+-----------------+</pre>"
      ],
      "text/plain": [
       "+-------------------------------------+------------------+-----------------+"
      ]
     },
     "metadata": {},
     "output_type": "display_data"
    },
    {
     "data": {
      "text/html": [
       "<pre>| 30.29s                              | 0.5              | 783             |</pre>"
      ],
      "text/plain": [
       "| 30.29s                              | 0.5              | 783             |"
      ]
     },
     "metadata": {},
     "output_type": "display_data"
    },
    {
     "data": {
      "text/html": [
       "<pre>| 30.67s                              | 3.5              | 5229            |</pre>"
      ],
      "text/plain": [
       "| 30.67s                              | 3.5              | 5229            |"
      ]
     },
     "metadata": {},
     "output_type": "display_data"
    },
    {
     "data": {
      "text/html": [
       "<pre>| 31.67s                              | 8.5              | 12707           |</pre>"
      ],
      "text/plain": [
       "| 31.67s                              | 8.5              | 12707           |"
      ]
     },
     "metadata": {},
     "output_type": "display_data"
    },
    {
     "data": {
      "text/html": [
       "<pre>| 32.75s                              | 14.75            | 22146           |</pre>"
      ],
      "text/plain": [
       "| 32.75s                              | 14.75            | 22146           |"
      ]
     },
     "metadata": {},
     "output_type": "display_data"
    },
    {
     "data": {
      "text/html": [
       "<pre>| 33.67s                              | 21.5             | 32164           |</pre>"
      ],
      "text/plain": [
       "| 33.67s                              | 21.5             | 32164           |"
      ]
     },
     "metadata": {},
     "output_type": "display_data"
    },
    {
     "data": {
      "text/html": [
       "<pre>| 34.67s                              | 29               | 43488           |</pre>"
      ],
      "text/plain": [
       "| 34.67s                              | 29               | 43488           |"
      ]
     },
     "metadata": {},
     "output_type": "display_data"
    },
    {
     "data": {
      "text/html": [
       "<pre>| 35.68s                              | 31.5             | 47132           |</pre>"
      ],
      "text/plain": [
       "| 35.68s                              | 31.5             | 47132           |"
      ]
     },
     "metadata": {},
     "output_type": "display_data"
    },
    {
     "data": {
      "text/html": [
       "<pre>| 36.68s                              | 34.5             | 51678           |</pre>"
      ],
      "text/plain": [
       "| 36.68s                              | 34.5             | 51678           |"
      ]
     },
     "metadata": {},
     "output_type": "display_data"
    },
    {
     "data": {
      "text/html": [
       "<pre>| 37.68s                              | 45               | 67438           |</pre>"
      ],
      "text/plain": [
       "| 37.68s                              | 45               | 67438           |"
      ]
     },
     "metadata": {},
     "output_type": "display_data"
    },
    {
     "data": {
      "text/html": [
       "<pre>| 38.68s                              | 57               | 85103           |</pre>"
      ],
      "text/plain": [
       "| 38.68s                              | 57               | 85103           |"
      ]
     },
     "metadata": {},
     "output_type": "display_data"
    },
    {
     "data": {
      "text/html": [
       "<pre>| 39.68s                              | 67               | 100281          |</pre>"
      ],
      "text/plain": [
       "| 39.68s                              | 67               | 100281          |"
      ]
     },
     "metadata": {},
     "output_type": "display_data"
    },
    {
     "data": {
      "text/html": [
       "<pre>| 40.69s                              | 72.75            | 108796          |</pre>"
      ],
      "text/plain": [
       "| 40.69s                              | 72.75            | 108796          |"
      ]
     },
     "metadata": {},
     "output_type": "display_data"
    },
    {
     "data": {
      "text/html": [
       "<pre>| 41.69s                              | 76.25            | 114000          |</pre>"
      ],
      "text/plain": [
       "| 41.69s                              | 76.25            | 114000          |"
      ]
     },
     "metadata": {},
     "output_type": "display_data"
    },
    {
     "data": {
      "text/html": [
       "<pre>| 42.72s                              | 77.5             | 115720          |</pre>"
      ],
      "text/plain": [
       "| 42.72s                              | 77.5             | 115720          |"
      ]
     },
     "metadata": {},
     "output_type": "display_data"
    },
    {
     "data": {
      "text/html": [
       "<pre>| 43.73s                              | 78.25            | 117040          |</pre>"
      ],
      "text/plain": [
       "| 43.73s                              | 78.25            | 117040          |"
      ]
     },
     "metadata": {},
     "output_type": "display_data"
    },
    {
     "data": {
      "text/html": [
       "<pre>| 44.68s                              | 78.75            | 117888          |</pre>"
      ],
      "text/plain": [
       "| 44.68s                              | 78.75            | 117888          |"
      ]
     },
     "metadata": {},
     "output_type": "display_data"
    },
    {
     "data": {
      "text/html": [
       "<pre>| 45.74s                              | 79.5             | 118877          |</pre>"
      ],
      "text/plain": [
       "| 45.74s                              | 79.5             | 118877          |"
      ]
     },
     "metadata": {},
     "output_type": "display_data"
    },
    {
     "data": {
      "text/html": [
       "<pre>| 46.74s                              | 80.25            | 119966          |</pre>"
      ],
      "text/plain": [
       "| 46.74s                              | 80.25            | 119966          |"
      ]
     },
     "metadata": {},
     "output_type": "display_data"
    },
    {
     "data": {
      "text/html": [
       "<pre>| 47.69s                              | 80.75            | 120652          |</pre>"
      ],
      "text/plain": [
       "| 47.69s                              | 80.75            | 120652          |"
      ]
     },
     "metadata": {},
     "output_type": "display_data"
    },
    {
     "data": {
      "text/html": [
       "<pre>| 48.71s                              | 81.25            | 121526          |</pre>"
      ],
      "text/plain": [
       "| 48.71s                              | 81.25            | 121526          |"
      ]
     },
     "metadata": {},
     "output_type": "display_data"
    },
    {
     "data": {
      "text/html": [
       "<pre>| 49.69s                              | 81.75            | 122407          |</pre>"
      ],
      "text/plain": [
       "| 49.69s                              | 81.75            | 122407          |"
      ]
     },
     "metadata": {},
     "output_type": "display_data"
    },
    {
     "data": {
      "text/html": [
       "<pre>| 50.71s                              | 82.5             | 123335          |</pre>"
      ],
      "text/plain": [
       "| 50.71s                              | 82.5             | 123335          |"
      ]
     },
     "metadata": {},
     "output_type": "display_data"
    },
    {
     "data": {
      "text/html": [
       "<pre>| 51.70s                              | 83               | 124168          |</pre>"
      ],
      "text/plain": [
       "| 51.70s                              | 83               | 124168          |"
      ]
     },
     "metadata": {},
     "output_type": "display_data"
    },
    {
     "data": {
      "text/html": [
       "<pre>| 52.70s                              | 83.5             | 125018          |</pre>"
      ],
      "text/plain": [
       "| 52.70s                              | 83.5             | 125018          |"
      ]
     },
     "metadata": {},
     "output_type": "display_data"
    },
    {
     "data": {
      "text/html": [
       "<pre>| 53.74s                              | 84.25            | 125837          |</pre>"
      ],
      "text/plain": [
       "| 53.74s                              | 84.25            | 125837          |"
      ]
     },
     "metadata": {},
     "output_type": "display_data"
    },
    {
     "data": {
      "text/html": [
       "<pre>| 54.71s                              | 84.75            | 126672          |</pre>"
      ],
      "text/plain": [
       "| 54.71s                              | 84.75            | 126672          |"
      ]
     },
     "metadata": {},
     "output_type": "display_data"
    },
    {
     "data": {
      "text/html": [
       "<pre>| 55.85s                              | 85.25            | 127547          |</pre>"
      ],
      "text/plain": [
       "| 55.85s                              | 85.25            | 127547          |"
      ]
     },
     "metadata": {},
     "output_type": "display_data"
    },
    {
     "data": {
      "text/html": [
       "<pre>| 56.71s                              | 85.75            | 128047          |</pre>"
      ],
      "text/plain": [
       "| 56.71s                              | 85.75            | 128047          |"
      ]
     },
     "metadata": {},
     "output_type": "display_data"
    },
    {
     "data": {
      "text/html": [
       "<pre>| 57.76s                              | 86.25            | 128948          |</pre>"
      ],
      "text/plain": [
       "| 57.76s                              | 86.25            | 128948          |"
      ]
     },
     "metadata": {},
     "output_type": "display_data"
    },
    {
     "data": {
      "text/html": [
       "<pre>| 58.82s                              | 87               | 129985          |</pre>"
      ],
      "text/plain": [
       "| 58.82s                              | 87               | 129985          |"
      ]
     },
     "metadata": {},
     "output_type": "display_data"
    },
    {
     "data": {
      "text/html": [
       "<pre>| 59.70s                              | 87.25            | 130512          |</pre>"
      ],
      "text/plain": [
       "| 59.70s                              | 87.25            | 130512          |"
      ]
     },
     "metadata": {},
     "output_type": "display_data"
    },
    {
     "data": {
      "text/html": [
       "<pre>| 1m 0s                               | 88               | 131419          |</pre>"
      ],
      "text/plain": [
       "| 1m 0s                               | 88               | 131419          |"
      ]
     },
     "metadata": {},
     "output_type": "display_data"
    },
    {
     "data": {
      "text/html": [
       "<pre>| 1m 1s                               | 88.75            | 132539          |</pre>"
      ],
      "text/plain": [
       "| 1m 1s                               | 88.75            | 132539          |"
      ]
     },
     "metadata": {},
     "output_type": "display_data"
    },
    {
     "data": {
      "text/html": [
       "<pre>| 1m 2s                               | 89.5             | 133747          |</pre>"
      ],
      "text/plain": [
       "| 1m 2s                               | 89.5             | 133747          |"
      ]
     },
     "metadata": {},
     "output_type": "display_data"
    },
    {
     "data": {
      "text/html": [
       "<pre>| 1m 3s                               | 90               | 134456          |</pre>"
      ],
      "text/plain": [
       "| 1m 3s                               | 90               | 134456          |"
      ]
     },
     "metadata": {},
     "output_type": "display_data"
    },
    {
     "data": {
      "text/html": [
       "<pre>| 1m 4s                               | 90.75            | 135556          |</pre>"
      ],
      "text/plain": [
       "| 1m 4s                               | 90.75            | 135556          |"
      ]
     },
     "metadata": {},
     "output_type": "display_data"
    },
    {
     "data": {
      "text/html": [
       "<pre>| 1m 5s                               | 91.5             | 136733          |</pre>"
      ],
      "text/plain": [
       "| 1m 5s                               | 91.5             | 136733          |"
      ]
     },
     "metadata": {},
     "output_type": "display_data"
    },
    {
     "data": {
      "text/html": [
       "<pre>| 1m 6s                               | 92.25            | 137729          |</pre>"
      ],
      "text/plain": [
       "| 1m 6s                               | 92.25            | 137729          |"
      ]
     },
     "metadata": {},
     "output_type": "display_data"
    },
    {
     "data": {
      "text/html": [
       "<pre>| 1m 7s                               | 93               | 138968          |</pre>"
      ],
      "text/plain": [
       "| 1m 7s                               | 93               | 138968          |"
      ]
     },
     "metadata": {},
     "output_type": "display_data"
    },
    {
     "data": {
      "text/html": [
       "<pre>| 1m 8s                               | 93.5             | 139940          |</pre>"
      ],
      "text/plain": [
       "| 1m 8s                               | 93.5             | 139940          |"
      ]
     },
     "metadata": {},
     "output_type": "display_data"
    },
    {
     "data": {
      "text/html": [
       "<pre>| 1m 9s                               | 94.5             | 141192          |</pre>"
      ],
      "text/plain": [
       "| 1m 9s                               | 94.5             | 141192          |"
      ]
     },
     "metadata": {},
     "output_type": "display_data"
    },
    {
     "data": {
      "text/html": [
       "<pre>| 1m 10s                              | 95.25            | 142263          |</pre>"
      ],
      "text/plain": [
       "| 1m 10s                              | 95.25            | 142263          |"
      ]
     },
     "metadata": {},
     "output_type": "display_data"
    },
    {
     "data": {
      "text/html": [
       "<pre>| 1m 11s                              | 96               | 143558          |</pre>"
      ],
      "text/plain": [
       "| 1m 11s                              | 96               | 143558          |"
      ]
     },
     "metadata": {},
     "output_type": "display_data"
    },
    {
     "data": {
      "text/html": [
       "<pre>| 1m 12s                              | 97               | 145059          |</pre>"
      ],
      "text/plain": [
       "| 1m 12s                              | 97               | 145059          |"
      ]
     },
     "metadata": {},
     "output_type": "display_data"
    },
    {
     "data": {
      "text/html": [
       "<pre>| 1m 13s                              | 98               | 146492          |</pre>"
      ],
      "text/plain": [
       "| 1m 13s                              | 98               | 146492          |"
      ]
     },
     "metadata": {},
     "output_type": "display_data"
    },
    {
     "data": {
      "text/html": [
       "<pre>| 1m 14s                              | 99               | 147856          |</pre>"
      ],
      "text/plain": [
       "| 1m 14s                              | 99               | 147856          |"
      ]
     },
     "metadata": {},
     "output_type": "display_data"
    },
    {
     "data": {
      "text/html": [
       "<pre>| 1m 34s                              | 100              | 149282          |</pre>"
      ],
      "text/plain": [
       "| 1m 34s                              | 100              | 149282          |"
      ]
     },
     "metadata": {},
     "output_type": "display_data"
    },
    {
     "data": {
      "text/html": [
       "<pre>+-------------------------------------+------------------+-----------------+</pre>"
      ],
      "text/plain": [
       "+-------------------------------------+------------------+-----------------+"
      ]
     },
     "metadata": {},
     "output_type": "display_data"
    },
    {
     "data": {
      "text/html": [
       "<pre>Finalizing lookup tables.</pre>"
      ],
      "text/plain": [
       "Finalizing lookup tables."
      ]
     },
     "metadata": {},
     "output_type": "display_data"
    },
    {
     "data": {
      "text/html": [
       "<pre>Generating candidate set for working with new users.</pre>"
      ],
      "text/plain": [
       "Generating candidate set for working with new users."
      ]
     },
     "metadata": {},
     "output_type": "display_data"
    },
    {
     "data": {
      "text/html": [
       "<pre>Finished training in 106.035s</pre>"
      ],
      "text/plain": [
       "Finished training in 106.035s"
      ]
     },
     "metadata": {},
     "output_type": "display_data"
    }
   ],
   "source": [
    "# training the model\n",
    "model = gl.recommender.item_similarity_recommender.create(tr_listen, \n",
    "                                                          only_top_k = k,\n",
    "                                                          similarity_type = sim_metric, \n",
    "                                                          user_id = \"user_id\", \n",
    "                                                          item_id = \"media_id\", \n",
    "                                                          target  = \"is_listened\")"
   ]
  },
  {
   "cell_type": "code",
   "execution_count": 10,
   "metadata": {
    "collapsed": false,
    "scrolled": true
   },
   "outputs": [
    {
     "data": {
      "text/html": [
       "<div>\n",
       "<table border=\"1\" class=\"dataframe\">\n",
       "  <thead>\n",
       "    <tr style=\"text-align: right;\">\n",
       "      <th></th>\n",
       "      <th>row_index</th>\n",
       "      <th>is_listened</th>\n",
       "    </tr>\n",
       "  </thead>\n",
       "  <tbody>\n",
       "    <tr>\n",
       "      <th>2166</th>\n",
       "      <td>6060544</td>\n",
       "      <td>0.456872</td>\n",
       "    </tr>\n",
       "    <tr>\n",
       "      <th>2167</th>\n",
       "      <td>3968455</td>\n",
       "      <td>0.638244</td>\n",
       "    </tr>\n",
       "    <tr>\n",
       "      <th>2239</th>\n",
       "      <td>5584470</td>\n",
       "      <td>0.646296</td>\n",
       "    </tr>\n",
       "  </tbody>\n",
       "</table>\n",
       "</div>"
      ],
      "text/plain": [
       "      row_index  is_listened\n",
       "2166    6060544     0.456872\n",
       "2167    3968455     0.638244\n",
       "2239    5584470     0.646296"
      ]
     },
     "execution_count": 10,
     "metadata": {},
     "output_type": "execute_result"
    }
   ],
   "source": [
    "# forecasting\n",
    "pred = pd.DataFrame()\n",
    "pred[\"row_index\"] = ts.row_index\n",
    "pred[\"is_listened\"] = model.predict(ts_listen)\n",
    "pred.head(3)"
   ]
  },
  {
   "cell_type": "code",
   "execution_count": 11,
   "metadata": {
    "collapsed": false,
    "scrolled": true
   },
   "outputs": [
    {
     "data": {
      "text/plain": [
       "0.58378191475098695"
      ]
     },
     "execution_count": 11,
     "metadata": {},
     "output_type": "execute_result"
    }
   ],
   "source": [
    "# computing AUC\n",
    "metrics.roc_auc_score(ts.is_listened, pred[\"is_listened\"])"
   ]
  },
  {
   "cell_type": "code",
   "execution_count": 12,
   "metadata": {
    "collapsed": true,
    "scrolled": true
   },
   "outputs": [],
   "source": [
    "# saving prediction vector\n",
    "pred.to_csv(path + \"pred_valid/similarity_scores_flow_pearson_10000k.csv\", index = False)"
   ]
  },
  {
   "cell_type": "code",
   "execution_count": 13,
   "metadata": {
    "collapsed": true
   },
   "outputs": [],
   "source": [
    "# clearing the memory\n",
    "tr_listen = \"Null\"\n",
    "ts = \"Null\""
   ]
  },
  {
   "cell_type": "markdown",
   "metadata": {},
   "source": [
    "## 3.2. KNOWN-UNKNOWN"
   ]
  },
  {
   "cell_type": "code",
   "execution_count": null,
   "metadata": {
    "collapsed": false
   },
   "outputs": [
    {
     "data": {
      "text/html": [
       "<pre>Recsys training: model = item_similarity</pre>"
      ],
      "text/plain": [
       "Recsys training: model = item_similarity"
      ]
     },
     "metadata": {},
     "output_type": "display_data"
    },
    {
     "data": {
      "text/html": [
       "<pre>Preparing data set.</pre>"
      ],
      "text/plain": [
       "Preparing data set."
      ]
     },
     "metadata": {},
     "output_type": "display_data"
    },
    {
     "data": {
      "text/html": [
       "<pre>    Data has 2319611 observations with 15971 users and 151720 items.</pre>"
      ],
      "text/plain": [
       "    Data has 2319611 observations with 15971 users and 151720 items."
      ]
     },
     "metadata": {},
     "output_type": "display_data"
    },
    {
     "data": {
      "text/html": [
       "<pre>    Data prepared in: 3.13768s</pre>"
      ],
      "text/plain": [
       "    Data prepared in: 3.13768s"
      ]
     },
     "metadata": {},
     "output_type": "display_data"
    },
    {
     "data": {
      "text/html": [
       "<pre>Training model from provided data.</pre>"
      ],
      "text/plain": [
       "Training model from provided data."
      ]
     },
     "metadata": {},
     "output_type": "display_data"
    },
    {
     "data": {
      "text/html": [
       "<pre>Gathering per-item and per-user statistics.</pre>"
      ],
      "text/plain": [
       "Gathering per-item and per-user statistics."
      ]
     },
     "metadata": {},
     "output_type": "display_data"
    },
    {
     "data": {
      "text/html": [
       "<pre>+--------------------------------+------------+</pre>"
      ],
      "text/plain": [
       "+--------------------------------+------------+"
      ]
     },
     "metadata": {},
     "output_type": "display_data"
    },
    {
     "data": {
      "text/html": [
       "<pre>| Elapsed Time (Item Statistics) | % Complete |</pre>"
      ],
      "text/plain": [
       "| Elapsed Time (Item Statistics) | % Complete |"
      ]
     },
     "metadata": {},
     "output_type": "display_data"
    },
    {
     "data": {
      "text/html": [
       "<pre>+--------------------------------+------------+</pre>"
      ],
      "text/plain": [
       "+--------------------------------+------------+"
      ]
     },
     "metadata": {},
     "output_type": "display_data"
    },
    {
     "data": {
      "text/html": [
       "<pre>| 11.649ms                       | 6.25       |</pre>"
      ],
      "text/plain": [
       "| 11.649ms                       | 6.25       |"
      ]
     },
     "metadata": {},
     "output_type": "display_data"
    },
    {
     "data": {
      "text/html": [
       "<pre>| 85.728ms                       | 100        |</pre>"
      ],
      "text/plain": [
       "| 85.728ms                       | 100        |"
      ]
     },
     "metadata": {},
     "output_type": "display_data"
    },
    {
     "data": {
      "text/html": [
       "<pre>+--------------------------------+------------+</pre>"
      ],
      "text/plain": [
       "+--------------------------------+------------+"
      ]
     },
     "metadata": {},
     "output_type": "display_data"
    },
    {
     "data": {
      "text/html": [
       "<pre>Setting up lookup tables.</pre>"
      ],
      "text/plain": [
       "Setting up lookup tables."
      ]
     },
     "metadata": {},
     "output_type": "display_data"
    },
    {
     "data": {
      "text/html": [
       "<pre>Processing the 519 most common items by brute force search.</pre>"
      ],
      "text/plain": [
       "Processing the 519 most common items by brute force search."
      ]
     },
     "metadata": {},
     "output_type": "display_data"
    },
    {
     "data": {
      "text/html": [
       "<pre>Transposing user-item lists for use in nearest neighbor search.</pre>"
      ],
      "text/plain": [
       "Transposing user-item lists for use in nearest neighbor search."
      ]
     },
     "metadata": {},
     "output_type": "display_data"
    },
    {
     "data": {
      "text/html": [
       "<pre>+------------------------------------+------------+</pre>"
      ],
      "text/plain": [
       "+------------------------------------+------------+"
      ]
     },
     "metadata": {},
     "output_type": "display_data"
    },
    {
     "data": {
      "text/html": [
       "<pre>| Elapsed Time (Data Transposition)) | % Complete |</pre>"
      ],
      "text/plain": [
       "| Elapsed Time (Data Transposition)) | % Complete |"
      ]
     },
     "metadata": {},
     "output_type": "display_data"
    },
    {
     "data": {
      "text/html": [
       "<pre>+------------------------------------+------------+</pre>"
      ],
      "text/plain": [
       "+------------------------------------+------------+"
      ]
     },
     "metadata": {},
     "output_type": "display_data"
    },
    {
     "data": {
      "text/html": [
       "<pre>| 587.296ms                          | 0          |</pre>"
      ],
      "text/plain": [
       "| 587.296ms                          | 0          |"
      ]
     },
     "metadata": {},
     "output_type": "display_data"
    },
    {
     "data": {
      "text/html": [
       "<pre>| 904.048ms                          | 100        |</pre>"
      ],
      "text/plain": [
       "| 904.048ms                          | 100        |"
      ]
     },
     "metadata": {},
     "output_type": "display_data"
    },
    {
     "data": {
      "text/html": [
       "<pre>+------------------------------------+------------+</pre>"
      ],
      "text/plain": [
       "+------------------------------------+------------+"
      ]
     },
     "metadata": {},
     "output_type": "display_data"
    },
    {
     "data": {
      "text/html": [
       "<pre>+-------------------------------------+------------------+-----------------+</pre>"
      ],
      "text/plain": [
       "+-------------------------------------+------------------+-----------------+"
      ]
     },
     "metadata": {},
     "output_type": "display_data"
    },
    {
     "data": {
      "text/html": [
       "<pre>| Elapsed Time (Constructing Lookups) | Total % Complete | Items Processed |</pre>"
      ],
      "text/plain": [
       "| Elapsed Time (Constructing Lookups) | Total % Complete | Items Processed |"
      ]
     },
     "metadata": {},
     "output_type": "display_data"
    },
    {
     "data": {
      "text/html": [
       "<pre>+-------------------------------------+------------------+-----------------+</pre>"
      ],
      "text/plain": [
       "+-------------------------------------+------------------+-----------------+"
      ]
     },
     "metadata": {},
     "output_type": "display_data"
    },
    {
     "data": {
      "text/html": [
       "<pre>| 20.85s                              | 0                | 0               |</pre>"
      ],
      "text/plain": [
       "| 20.85s                              | 0                | 0               |"
      ]
     },
     "metadata": {},
     "output_type": "display_data"
    },
    {
     "data": {
      "text/html": [
       "<pre>| 21.85s                              | 0                | 83              |</pre>"
      ],
      "text/plain": [
       "| 21.85s                              | 0                | 83              |"
      ]
     },
     "metadata": {},
     "output_type": "display_data"
    },
    {
     "data": {
      "text/html": [
       "<pre>| 22.85s                              | 0                | 186             |</pre>"
      ],
      "text/plain": [
       "| 22.85s                              | 0                | 186             |"
      ]
     },
     "metadata": {},
     "output_type": "display_data"
    },
    {
     "data": {
      "text/html": [
       "<pre>| 23.85s                              | 0                | 279             |</pre>"
      ],
      "text/plain": [
       "| 23.85s                              | 0                | 279             |"
      ]
     },
     "metadata": {},
     "output_type": "display_data"
    },
    {
     "data": {
      "text/html": [
       "<pre>| 24.85s                              | 0                | 368             |</pre>"
      ],
      "text/plain": [
       "| 24.85s                              | 0                | 368             |"
      ]
     },
     "metadata": {},
     "output_type": "display_data"
    },
    {
     "data": {
      "text/html": [
       "<pre>| 25.85s                              | 0.25             | 417             |</pre>"
      ],
      "text/plain": [
       "| 25.85s                              | 0.25             | 417             |"
      ]
     },
     "metadata": {},
     "output_type": "display_data"
    },
    {
     "data": {
      "text/html": [
       "<pre>| 26.85s                              | 0.25             | 437             |</pre>"
      ],
      "text/plain": [
       "| 26.85s                              | 0.25             | 437             |"
      ]
     },
     "metadata": {},
     "output_type": "display_data"
    },
    {
     "data": {
      "text/html": [
       "<pre>| 27.85s                              | 0.25             | 461             |</pre>"
      ],
      "text/plain": [
       "| 27.85s                              | 0.25             | 461             |"
      ]
     },
     "metadata": {},
     "output_type": "display_data"
    },
    {
     "data": {
      "text/html": [
       "<pre>| 28.85s                              | 0.25             | 494             |</pre>"
      ],
      "text/plain": [
       "| 28.85s                              | 0.25             | 494             |"
      ]
     },
     "metadata": {},
     "output_type": "display_data"
    },
    {
     "data": {
      "text/html": [
       "<pre>+-------------------------------------+------------------+-----------------+</pre>"
      ],
      "text/plain": [
       "+-------------------------------------+------------------+-----------------+"
      ]
     },
     "metadata": {},
     "output_type": "display_data"
    },
    {
     "data": {
      "text/html": [
       "<pre>Processing data in one pass using sparse lookup tables.</pre>"
      ],
      "text/plain": [
       "Processing data in one pass using sparse lookup tables."
      ]
     },
     "metadata": {},
     "output_type": "display_data"
    },
    {
     "data": {
      "text/html": [
       "<pre>+-------------------------------------+------------------+-----------------+</pre>"
      ],
      "text/plain": [
       "+-------------------------------------+------------------+-----------------+"
      ]
     },
     "metadata": {},
     "output_type": "display_data"
    },
    {
     "data": {
      "text/html": [
       "<pre>| Elapsed Time (Constructing Lookups) | Total % Complete | Items Processed |</pre>"
      ],
      "text/plain": [
       "| Elapsed Time (Constructing Lookups) | Total % Complete | Items Processed |"
      ]
     },
     "metadata": {},
     "output_type": "display_data"
    },
    {
     "data": {
      "text/html": [
       "<pre>+-------------------------------------+------------------+-----------------+</pre>"
      ],
      "text/plain": [
       "+-------------------------------------+------------------+-----------------+"
      ]
     },
     "metadata": {},
     "output_type": "display_data"
    },
    {
     "data": {
      "text/html": [
       "<pre>| 30.15s                              | 0.25             | 730             |</pre>"
      ],
      "text/plain": [
       "| 30.15s                              | 0.25             | 730             |"
      ]
     },
     "metadata": {},
     "output_type": "display_data"
    },
    {
     "data": {
      "text/html": [
       "<pre>| 30.89s                              | 4                | 6109            |</pre>"
      ],
      "text/plain": [
       "| 30.89s                              | 4                | 6109            |"
      ]
     },
     "metadata": {},
     "output_type": "display_data"
    },
    {
     "data": {
      "text/html": [
       "<pre>| 31.86s                              | 10.75            | 16504           |</pre>"
      ],
      "text/plain": [
       "| 31.86s                              | 10.75            | 16504           |"
      ]
     },
     "metadata": {},
     "output_type": "display_data"
    },
    {
     "data": {
      "text/html": [
       "<pre>| 32.86s                              | 14               | 21242           |</pre>"
      ],
      "text/plain": [
       "| 32.86s                              | 14               | 21242           |"
      ]
     },
     "metadata": {},
     "output_type": "display_data"
    },
    {
     "data": {
      "text/html": [
       "<pre>| 33.86s                              | 23.5             | 35672           |</pre>"
      ],
      "text/plain": [
       "| 33.86s                              | 23.5             | 35672           |"
      ]
     },
     "metadata": {},
     "output_type": "display_data"
    },
    {
     "data": {
      "text/html": [
       "<pre>| 34.88s                              | 28.75            | 43662           |</pre>"
      ],
      "text/plain": [
       "| 34.88s                              | 28.75            | 43662           |"
      ]
     },
     "metadata": {},
     "output_type": "display_data"
    },
    {
     "data": {
      "text/html": [
       "<pre>| 35.87s                              | 31               | 47396           |</pre>"
      ],
      "text/plain": [
       "| 35.87s                              | 31               | 47396           |"
      ]
     },
     "metadata": {},
     "output_type": "display_data"
    },
    {
     "data": {
      "text/html": [
       "<pre>| 36.86s                              | 34               | 51828           |</pre>"
      ],
      "text/plain": [
       "| 36.86s                              | 34               | 51828           |"
      ]
     },
     "metadata": {},
     "output_type": "display_data"
    },
    {
     "data": {
      "text/html": [
       "<pre>| 37.86s                              | 40.25            | 61129           |</pre>"
      ],
      "text/plain": [
       "| 37.86s                              | 40.25            | 61129           |"
      ]
     },
     "metadata": {},
     "output_type": "display_data"
    },
    {
     "data": {
      "text/html": [
       "<pre>| 38.87s                              | 51.25            | 77862           |</pre>"
      ],
      "text/plain": [
       "| 38.87s                              | 51.25            | 77862           |"
      ]
     },
     "metadata": {},
     "output_type": "display_data"
    },
    {
     "data": {
      "text/html": [
       "<pre>| 39.87s                              | 60.5             | 92150           |</pre>"
      ],
      "text/plain": [
       "| 39.87s                              | 60.5             | 92150           |"
      ]
     },
     "metadata": {},
     "output_type": "display_data"
    },
    {
     "data": {
      "text/html": [
       "<pre>| 40.91s                              | 64.5             | 97863           |</pre>"
      ],
      "text/plain": [
       "| 40.91s                              | 64.5             | 97863           |"
      ]
     },
     "metadata": {},
     "output_type": "display_data"
    },
    {
     "data": {
      "text/html": [
       "<pre>| 41.90s                              | 65.5             | 99718           |</pre>"
      ],
      "text/plain": [
       "| 41.90s                              | 65.5             | 99718           |"
      ]
     },
     "metadata": {},
     "output_type": "display_data"
    },
    {
     "data": {
      "text/html": [
       "<pre>| 42.89s                              | 66.5             | 101239          |</pre>"
      ],
      "text/plain": [
       "| 42.89s                              | 66.5             | 101239          |"
      ]
     },
     "metadata": {},
     "output_type": "display_data"
    },
    {
     "data": {
      "text/html": [
       "<pre>| 43.87s                              | 67.5             | 102680          |</pre>"
      ],
      "text/plain": [
       "| 43.87s                              | 67.5             | 102680          |"
      ]
     },
     "metadata": {},
     "output_type": "display_data"
    },
    {
     "data": {
      "text/html": [
       "<pre>| 44.88s                              | 68.5             | 104172          |</pre>"
      ],
      "text/plain": [
       "| 44.88s                              | 68.5             | 104172          |"
      ]
     },
     "metadata": {},
     "output_type": "display_data"
    },
    {
     "data": {
      "text/html": [
       "<pre>| 45.87s                              | 69               | 104818          |</pre>"
      ],
      "text/plain": [
       "| 45.87s                              | 69               | 104818          |"
      ]
     },
     "metadata": {},
     "output_type": "display_data"
    },
    {
     "data": {
      "text/html": [
       "<pre>| 46.88s                              | 69.5             | 105556          |</pre>"
      ],
      "text/plain": [
       "| 46.88s                              | 69.5             | 105556          |"
      ]
     },
     "metadata": {},
     "output_type": "display_data"
    },
    {
     "data": {
      "text/html": [
       "<pre>| 47.90s                              | 70               | 106559          |</pre>"
      ],
      "text/plain": [
       "| 47.90s                              | 70               | 106559          |"
      ]
     },
     "metadata": {},
     "output_type": "display_data"
    },
    {
     "data": {
      "text/html": [
       "<pre>| 48.88s                              | 70.5             | 107094          |</pre>"
      ],
      "text/plain": [
       "| 48.88s                              | 70.5             | 107094          |"
      ]
     },
     "metadata": {},
     "output_type": "display_data"
    },
    {
     "data": {
      "text/html": [
       "<pre>| 49.89s                              | 71               | 107953          |</pre>"
      ],
      "text/plain": [
       "| 49.89s                              | 71               | 107953          |"
      ]
     },
     "metadata": {},
     "output_type": "display_data"
    },
    {
     "data": {
      "text/html": [
       "<pre>| 50.90s                              | 71.5             | 108582          |</pre>"
      ],
      "text/plain": [
       "| 50.90s                              | 71.5             | 108582          |"
      ]
     },
     "metadata": {},
     "output_type": "display_data"
    },
    {
     "data": {
      "text/html": [
       "<pre>| 51.88s                              | 72               | 109309          |</pre>"
      ],
      "text/plain": [
       "| 51.88s                              | 72               | 109309          |"
      ]
     },
     "metadata": {},
     "output_type": "display_data"
    },
    {
     "data": {
      "text/html": [
       "<pre>| 52.90s                              | 72.25            | 109774          |</pre>"
      ],
      "text/plain": [
       "| 52.90s                              | 72.25            | 109774          |"
      ]
     },
     "metadata": {},
     "output_type": "display_data"
    },
    {
     "data": {
      "text/html": [
       "<pre>| 53.89s                              | 72.5             | 110360          |</pre>"
      ],
      "text/plain": [
       "| 53.89s                              | 72.5             | 110360          |"
      ]
     },
     "metadata": {},
     "output_type": "display_data"
    },
    {
     "data": {
      "text/html": [
       "<pre>| 54.89s                              | 73               | 111041          |</pre>"
      ],
      "text/plain": [
       "| 54.89s                              | 73               | 111041          |"
      ]
     },
     "metadata": {},
     "output_type": "display_data"
    },
    {
     "data": {
      "text/html": [
       "<pre>| 56.03s                              | 73.5             | 111533          |</pre>"
      ],
      "text/plain": [
       "| 56.03s                              | 73.5             | 111533          |"
      ]
     },
     "metadata": {},
     "output_type": "display_data"
    },
    {
     "data": {
      "text/html": [
       "<pre>| 56.94s                              | 73.75            | 112030          |</pre>"
      ],
      "text/plain": [
       "| 56.94s                              | 73.75            | 112030          |"
      ]
     },
     "metadata": {},
     "output_type": "display_data"
    },
    {
     "data": {
      "text/html": [
       "<pre>| 57.97s                              | 74               | 112316          |</pre>"
      ],
      "text/plain": [
       "| 57.97s                              | 74               | 112316          |"
      ]
     },
     "metadata": {},
     "output_type": "display_data"
    },
    {
     "data": {
      "text/html": [
       "<pre>| 58.99s                              | 74.25            | 112799          |</pre>"
      ],
      "text/plain": [
       "| 58.99s                              | 74.25            | 112799          |"
      ]
     },
     "metadata": {},
     "output_type": "display_data"
    },
    {
     "data": {
      "text/html": [
       "<pre>| 59.93s                              | 74.5             | 113195          |</pre>"
      ],
      "text/plain": [
       "| 59.93s                              | 74.5             | 113195          |"
      ]
     },
     "metadata": {},
     "output_type": "display_data"
    },
    {
     "data": {
      "text/html": [
       "<pre>| 1m 0s                               | 74.75            | 113682          |</pre>"
      ],
      "text/plain": [
       "| 1m 0s                               | 74.75            | 113682          |"
      ]
     },
     "metadata": {},
     "output_type": "display_data"
    },
    {
     "data": {
      "text/html": [
       "<pre>| 1m 1s                               | 75.25            | 114302          |</pre>"
      ],
      "text/plain": [
       "| 1m 1s                               | 75.25            | 114302          |"
      ]
     },
     "metadata": {},
     "output_type": "display_data"
    },
    {
     "data": {
      "text/html": [
       "<pre>| 1m 2s                               | 75.5             | 114855          |</pre>"
      ],
      "text/plain": [
       "| 1m 2s                               | 75.5             | 114855          |"
      ]
     },
     "metadata": {},
     "output_type": "display_data"
    },
    {
     "data": {
      "text/html": [
       "<pre>| 1m 4s                               | 75.75            | 115189          |</pre>"
      ],
      "text/plain": [
       "| 1m 4s                               | 75.75            | 115189          |"
      ]
     },
     "metadata": {},
     "output_type": "display_data"
    },
    {
     "data": {
      "text/html": [
       "<pre>| 1m 4s                               | 76               | 115626          |</pre>"
      ],
      "text/plain": [
       "| 1m 4s                               | 76               | 115626          |"
      ]
     },
     "metadata": {},
     "output_type": "display_data"
    },
    {
     "data": {
      "text/html": [
       "<pre>| 1m 5s                               | 76.25            | 115982          |</pre>"
      ],
      "text/plain": [
       "| 1m 5s                               | 76.25            | 115982          |"
      ]
     },
     "metadata": {},
     "output_type": "display_data"
    },
    {
     "data": {
      "text/html": [
       "<pre>| 1m 7s                               | 76.75            | 116487          |</pre>"
      ],
      "text/plain": [
       "| 1m 7s                               | 76.75            | 116487          |"
      ]
     },
     "metadata": {},
     "output_type": "display_data"
    },
    {
     "data": {
      "text/html": [
       "<pre>| 1m 7s                               | 77               | 116870          |</pre>"
      ],
      "text/plain": [
       "| 1m 7s                               | 77               | 116870          |"
      ]
     },
     "metadata": {},
     "output_type": "display_data"
    },
    {
     "data": {
      "text/html": [
       "<pre>| 1m 9s                               | 77.25            | 117383          |</pre>"
      ],
      "text/plain": [
       "| 1m 9s                               | 77.25            | 117383          |"
      ]
     },
     "metadata": {},
     "output_type": "display_data"
    },
    {
     "data": {
      "text/html": [
       "<pre>| 1m 9s                               | 77.25            | 117569          |</pre>"
      ],
      "text/plain": [
       "| 1m 9s                               | 77.25            | 117569          |"
      ]
     },
     "metadata": {},
     "output_type": "display_data"
    },
    {
     "data": {
      "text/html": [
       "<pre>| 1m 10s                              | 77.5             | 117860          |</pre>"
      ],
      "text/plain": [
       "| 1m 10s                              | 77.5             | 117860          |"
      ]
     },
     "metadata": {},
     "output_type": "display_data"
    },
    {
     "data": {
      "text/html": [
       "<pre>| 1m 12s                              | 77.75            | 118154          |</pre>"
      ],
      "text/plain": [
       "| 1m 12s                              | 77.75            | 118154          |"
      ]
     },
     "metadata": {},
     "output_type": "display_data"
    },
    {
     "data": {
      "text/html": [
       "<pre>| 1m 13s                              | 78               | 118710          |</pre>"
      ],
      "text/plain": [
       "| 1m 13s                              | 78               | 118710          |"
      ]
     },
     "metadata": {},
     "output_type": "display_data"
    },
    {
     "data": {
      "text/html": [
       "<pre>| 1m 14s                              | 78.5             | 119101          |</pre>"
      ],
      "text/plain": [
       "| 1m 14s                              | 78.5             | 119101          |"
      ]
     },
     "metadata": {},
     "output_type": "display_data"
    },
    {
     "data": {
      "text/html": [
       "<pre>| 1m 17s                              | 79.25            | 120286          |</pre>"
      ],
      "text/plain": [
       "| 1m 17s                              | 79.25            | 120286          |"
      ]
     },
     "metadata": {},
     "output_type": "display_data"
    },
    {
     "data": {
      "text/html": [
       "<pre>| 1m 18s                              | 79.5             | 120937          |</pre>"
      ],
      "text/plain": [
       "| 1m 18s                              | 79.5             | 120937          |"
      ]
     },
     "metadata": {},
     "output_type": "display_data"
    },
    {
     "data": {
      "text/html": [
       "<pre>| 1m 19s                              | 79.75            | 121211          |</pre>"
      ],
      "text/plain": [
       "| 1m 19s                              | 79.75            | 121211          |"
      ]
     },
     "metadata": {},
     "output_type": "display_data"
    },
    {
     "data": {
      "text/html": [
       "<pre>| 1m 20s                              | 80               | 121572          |</pre>"
      ],
      "text/plain": [
       "| 1m 20s                              | 80               | 121572          |"
      ]
     },
     "metadata": {},
     "output_type": "display_data"
    },
    {
     "data": {
      "text/html": [
       "<pre>| 1m 21s                              | 80.5             | 122223          |</pre>"
      ],
      "text/plain": [
       "| 1m 21s                              | 80.5             | 122223          |"
      ]
     },
     "metadata": {},
     "output_type": "display_data"
    },
    {
     "data": {
      "text/html": [
       "<pre>| 1m 22s                              | 80.5             | 122410          |</pre>"
      ],
      "text/plain": [
       "| 1m 22s                              | 80.5             | 122410          |"
      ]
     },
     "metadata": {},
     "output_type": "display_data"
    },
    {
     "data": {
      "text/html": [
       "<pre>| 1m 23s                              | 80.75            | 122783          |</pre>"
      ],
      "text/plain": [
       "| 1m 23s                              | 80.75            | 122783          |"
      ]
     },
     "metadata": {},
     "output_type": "display_data"
    },
    {
     "data": {
      "text/html": [
       "<pre>| 1m 24s                              | 81               | 123153          |</pre>"
      ],
      "text/plain": [
       "| 1m 24s                              | 81               | 123153          |"
      ]
     },
     "metadata": {},
     "output_type": "display_data"
    },
    {
     "data": {
      "text/html": [
       "<pre>| 1m 25s                              | 81.5             | 123658          |</pre>"
      ],
      "text/plain": [
       "| 1m 25s                              | 81.5             | 123658          |"
      ]
     },
     "metadata": {},
     "output_type": "display_data"
    },
    {
     "data": {
      "text/html": [
       "<pre>| 1m 26s                              | 81.75            | 124187          |</pre>"
      ],
      "text/plain": [
       "| 1m 26s                              | 81.75            | 124187          |"
      ]
     },
     "metadata": {},
     "output_type": "display_data"
    },
    {
     "data": {
      "text/html": [
       "<pre>| 1m 27s                              | 81.75            | 124327          |</pre>"
      ],
      "text/plain": [
       "| 1m 27s                              | 81.75            | 124327          |"
      ]
     },
     "metadata": {},
     "output_type": "display_data"
    },
    {
     "data": {
      "text/html": [
       "<pre>| 1m 28s                              | 81.75            | 124409          |</pre>"
      ],
      "text/plain": [
       "| 1m 28s                              | 81.75            | 124409          |"
      ]
     },
     "metadata": {},
     "output_type": "display_data"
    },
    {
     "data": {
      "text/html": [
       "<pre>| 1m 29s                              | 82               | 124738          |</pre>"
      ],
      "text/plain": [
       "| 1m 29s                              | 82               | 124738          |"
      ]
     },
     "metadata": {},
     "output_type": "display_data"
    },
    {
     "data": {
      "text/html": [
       "<pre>| 1m 30s                              | 82.5             | 125354          |</pre>"
      ],
      "text/plain": [
       "| 1m 30s                              | 82.5             | 125354          |"
      ]
     },
     "metadata": {},
     "output_type": "display_data"
    },
    {
     "data": {
      "text/html": [
       "<pre>| 1m 31s                              | 82.5             | 125510          |</pre>"
      ],
      "text/plain": [
       "| 1m 31s                              | 82.5             | 125510          |"
      ]
     },
     "metadata": {},
     "output_type": "display_data"
    },
    {
     "data": {
      "text/html": [
       "<pre>| 1m 32s                              | 82.75            | 125916          |</pre>"
      ],
      "text/plain": [
       "| 1m 32s                              | 82.75            | 125916          |"
      ]
     },
     "metadata": {},
     "output_type": "display_data"
    },
    {
     "data": {
      "text/html": [
       "<pre>| 1m 33s                              | 83               | 126226          |</pre>"
      ],
      "text/plain": [
       "| 1m 33s                              | 83               | 126226          |"
      ]
     },
     "metadata": {},
     "output_type": "display_data"
    },
    {
     "data": {
      "text/html": [
       "<pre>| 1m 34s                              | 83.25            | 126639          |</pre>"
      ],
      "text/plain": [
       "| 1m 34s                              | 83.25            | 126639          |"
      ]
     },
     "metadata": {},
     "output_type": "display_data"
    },
    {
     "data": {
      "text/html": [
       "<pre>| 1m 35s                              | 83.5             | 127054          |</pre>"
      ],
      "text/plain": [
       "| 1m 35s                              | 83.5             | 127054          |"
      ]
     },
     "metadata": {},
     "output_type": "display_data"
    },
    {
     "data": {
      "text/html": [
       "<pre>| 1m 36s                              | 83.75            | 127191          |</pre>"
      ],
      "text/plain": [
       "| 1m 36s                              | 83.75            | 127191          |"
      ]
     },
     "metadata": {},
     "output_type": "display_data"
    },
    {
     "data": {
      "text/html": [
       "<pre>| 1m 37s                              | 84               | 127608          |</pre>"
      ],
      "text/plain": [
       "| 1m 37s                              | 84               | 127608          |"
      ]
     },
     "metadata": {},
     "output_type": "display_data"
    },
    {
     "data": {
      "text/html": [
       "<pre>| 1m 38s                              | 84.25            | 128113          |</pre>"
      ],
      "text/plain": [
       "| 1m 38s                              | 84.25            | 128113          |"
      ]
     },
     "metadata": {},
     "output_type": "display_data"
    },
    {
     "data": {
      "text/html": [
       "<pre>| 1m 39s                              | 84.5             | 128280          |</pre>"
      ],
      "text/plain": [
       "| 1m 39s                              | 84.5             | 128280          |"
      ]
     },
     "metadata": {},
     "output_type": "display_data"
    },
    {
     "data": {
      "text/html": [
       "<pre>| 1m 40s                              | 84.75            | 128658          |</pre>"
      ],
      "text/plain": [
       "| 1m 40s                              | 84.75            | 128658          |"
      ]
     },
     "metadata": {},
     "output_type": "display_data"
    },
    {
     "data": {
      "text/html": [
       "<pre>| 1m 41s                              | 84.75            | 128955          |</pre>"
      ],
      "text/plain": [
       "| 1m 41s                              | 84.75            | 128955          |"
      ]
     },
     "metadata": {},
     "output_type": "display_data"
    },
    {
     "data": {
      "text/html": [
       "<pre>| 1m 42s                              | 85.25            | 129513          |</pre>"
      ],
      "text/plain": [
       "| 1m 42s                              | 85.25            | 129513          |"
      ]
     },
     "metadata": {},
     "output_type": "display_data"
    },
    {
     "data": {
      "text/html": [
       "<pre>| 1m 43s                              | 85.25            | 129706          |</pre>"
      ],
      "text/plain": [
       "| 1m 43s                              | 85.25            | 129706          |"
      ]
     },
     "metadata": {},
     "output_type": "display_data"
    },
    {
     "data": {
      "text/html": [
       "<pre>| 1m 44s                              | 85.5             | 129988          |</pre>"
      ],
      "text/plain": [
       "| 1m 44s                              | 85.5             | 129988          |"
      ]
     },
     "metadata": {},
     "output_type": "display_data"
    },
    {
     "data": {
      "text/html": [
       "<pre>| 1m 45s                              | 85.75            | 130275          |</pre>"
      ],
      "text/plain": [
       "| 1m 45s                              | 85.75            | 130275          |"
      ]
     },
     "metadata": {},
     "output_type": "display_data"
    },
    {
     "data": {
      "text/html": [
       "<pre>| 1m 46s                              | 85.75            | 130476          |</pre>"
      ],
      "text/plain": [
       "| 1m 46s                              | 85.75            | 130476          |"
      ]
     },
     "metadata": {},
     "output_type": "display_data"
    },
    {
     "data": {
      "text/html": [
       "<pre>| 1m 47s                              | 86               | 130694          |</pre>"
      ],
      "text/plain": [
       "| 1m 47s                              | 86               | 130694          |"
      ]
     },
     "metadata": {},
     "output_type": "display_data"
    },
    {
     "data": {
      "text/html": [
       "<pre>| 1m 48s                              | 86.25            | 131062          |</pre>"
      ],
      "text/plain": [
       "| 1m 48s                              | 86.25            | 131062          |"
      ]
     },
     "metadata": {},
     "output_type": "display_data"
    },
    {
     "data": {
      "text/html": [
       "<pre>| 1m 49s                              | 86.5             | 131342          |</pre>"
      ],
      "text/plain": [
       "| 1m 49s                              | 86.5             | 131342          |"
      ]
     },
     "metadata": {},
     "output_type": "display_data"
    },
    {
     "data": {
      "text/html": [
       "<pre>| 1m 50s                              | 86.75            | 131805          |</pre>"
      ],
      "text/plain": [
       "| 1m 50s                              | 86.75            | 131805          |"
      ]
     },
     "metadata": {},
     "output_type": "display_data"
    },
    {
     "data": {
      "text/html": [
       "<pre>| 1m 51s                              | 86.75            | 131995          |</pre>"
      ],
      "text/plain": [
       "| 1m 51s                              | 86.75            | 131995          |"
      ]
     },
     "metadata": {},
     "output_type": "display_data"
    },
    {
     "data": {
      "text/html": [
       "<pre>| 1m 52s                              | 87               | 132339          |</pre>"
      ],
      "text/plain": [
       "| 1m 52s                              | 87               | 132339          |"
      ]
     },
     "metadata": {},
     "output_type": "display_data"
    },
    {
     "data": {
      "text/html": [
       "<pre>| 1m 53s                              | 87.25            | 132741          |</pre>"
      ],
      "text/plain": [
       "| 1m 53s                              | 87.25            | 132741          |"
      ]
     },
     "metadata": {},
     "output_type": "display_data"
    },
    {
     "data": {
      "text/html": [
       "<pre>| 1m 56s                              | 87.75            | 133458          |</pre>"
      ],
      "text/plain": [
       "| 1m 56s                              | 87.75            | 133458          |"
      ]
     },
     "metadata": {},
     "output_type": "display_data"
    },
    {
     "data": {
      "text/html": [
       "<pre>| 1m 57s                              | 88               | 133818          |</pre>"
      ],
      "text/plain": [
       "| 1m 57s                              | 88               | 133818          |"
      ]
     },
     "metadata": {},
     "output_type": "display_data"
    },
    {
     "data": {
      "text/html": [
       "<pre>| 1m 58s                              | 88.25            | 134128          |</pre>"
      ],
      "text/plain": [
       "| 1m 58s                              | 88.25            | 134128          |"
      ]
     },
     "metadata": {},
     "output_type": "display_data"
    },
    {
     "data": {
      "text/html": [
       "<pre>| 1m 59s                              | 88.5             | 134521          |</pre>"
      ],
      "text/plain": [
       "| 1m 59s                              | 88.5             | 134521          |"
      ]
     },
     "metadata": {},
     "output_type": "display_data"
    },
    {
     "data": {
      "text/html": [
       "<pre>| 2m 0s                               | 88.75            | 135024          |</pre>"
      ],
      "text/plain": [
       "| 2m 0s                               | 88.75            | 135024          |"
      ]
     },
     "metadata": {},
     "output_type": "display_data"
    },
    {
     "data": {
      "text/html": [
       "<pre>| 2m 1s                               | 89               | 135217          |</pre>"
      ],
      "text/plain": [
       "| 2m 1s                               | 89               | 135217          |"
      ]
     },
     "metadata": {},
     "output_type": "display_data"
    },
    {
     "data": {
      "text/html": [
       "<pre>| 2m 2s                               | 89.25            | 135673          |</pre>"
      ],
      "text/plain": [
       "| 2m 2s                               | 89.25            | 135673          |"
      ]
     },
     "metadata": {},
     "output_type": "display_data"
    },
    {
     "data": {
      "text/html": [
       "<pre>| 2m 3s                               | 89.75            | 136261          |</pre>"
      ],
      "text/plain": [
       "| 2m 3s                               | 89.75            | 136261          |"
      ]
     },
     "metadata": {},
     "output_type": "display_data"
    },
    {
     "data": {
      "text/html": [
       "<pre>| 2m 4s                               | 90               | 136758          |</pre>"
      ],
      "text/plain": [
       "| 2m 4s                               | 90               | 136758          |"
      ]
     },
     "metadata": {},
     "output_type": "display_data"
    },
    {
     "data": {
      "text/html": [
       "<pre>| 2m 5s                               | 90.25            | 137171          |</pre>"
      ],
      "text/plain": [
       "| 2m 5s                               | 90.25            | 137171          |"
      ]
     },
     "metadata": {},
     "output_type": "display_data"
    },
    {
     "data": {
      "text/html": [
       "<pre>| 2m 6s                               | 90.5             | 137682          |</pre>"
      ],
      "text/plain": [
       "| 2m 6s                               | 90.5             | 137682          |"
      ]
     },
     "metadata": {},
     "output_type": "display_data"
    },
    {
     "data": {
      "text/html": [
       "<pre>| 2m 7s                               | 91               | 138270          |</pre>"
      ],
      "text/plain": [
       "| 2m 7s                               | 91               | 138270          |"
      ]
     },
     "metadata": {},
     "output_type": "display_data"
    },
    {
     "data": {
      "text/html": [
       "<pre>| 2m 8s                               | 91.25            | 138737          |</pre>"
      ],
      "text/plain": [
       "| 2m 8s                               | 91.25            | 138737          |"
      ]
     },
     "metadata": {},
     "output_type": "display_data"
    },
    {
     "data": {
      "text/html": [
       "<pre>| 2m 9s                               | 91.75            | 139242          |</pre>"
      ],
      "text/plain": [
       "| 2m 9s                               | 91.75            | 139242          |"
      ]
     },
     "metadata": {},
     "output_type": "display_data"
    },
    {
     "data": {
      "text/html": [
       "<pre>| 2m 10s                              | 92               | 139698          |</pre>"
      ],
      "text/plain": [
       "| 2m 10s                              | 92               | 139698          |"
      ]
     },
     "metadata": {},
     "output_type": "display_data"
    },
    {
     "data": {
      "text/html": [
       "<pre>| 2m 11s                              | 92.25            | 140103          |</pre>"
      ],
      "text/plain": [
       "| 2m 11s                              | 92.25            | 140103          |"
      ]
     },
     "metadata": {},
     "output_type": "display_data"
    },
    {
     "data": {
      "text/html": [
       "<pre>| 2m 12s                              | 92.5             | 140479          |</pre>"
      ],
      "text/plain": [
       "| 2m 12s                              | 92.5             | 140479          |"
      ]
     },
     "metadata": {},
     "output_type": "display_data"
    },
    {
     "data": {
      "text/html": [
       "<pre>| 2m 13s                              | 93               | 141208          |</pre>"
      ],
      "text/plain": [
       "| 2m 13s                              | 93               | 141208          |"
      ]
     },
     "metadata": {},
     "output_type": "display_data"
    },
    {
     "data": {
      "text/html": [
       "<pre>| 2m 14s                              | 93.25            | 141562          |</pre>"
      ],
      "text/plain": [
       "| 2m 14s                              | 93.25            | 141562          |"
      ]
     },
     "metadata": {},
     "output_type": "display_data"
    },
    {
     "data": {
      "text/html": [
       "<pre>| 2m 15s                              | 93.5             | 141933          |</pre>"
      ],
      "text/plain": [
       "| 2m 15s                              | 93.5             | 141933          |"
      ]
     },
     "metadata": {},
     "output_type": "display_data"
    },
    {
     "data": {
      "text/html": [
       "<pre>| 2m 16s                              | 93.75            | 142396          |</pre>"
      ],
      "text/plain": [
       "| 2m 16s                              | 93.75            | 142396          |"
      ]
     },
     "metadata": {},
     "output_type": "display_data"
    },
    {
     "data": {
      "text/html": [
       "<pre>| 2m 17s                              | 94               | 142865          |</pre>"
      ],
      "text/plain": [
       "| 2m 17s                              | 94               | 142865          |"
      ]
     },
     "metadata": {},
     "output_type": "display_data"
    },
    {
     "data": {
      "text/html": [
       "<pre>| 2m 18s                              | 94.25            | 143327          |</pre>"
      ],
      "text/plain": [
       "| 2m 18s                              | 94.25            | 143327          |"
      ]
     },
     "metadata": {},
     "output_type": "display_data"
    },
    {
     "data": {
      "text/html": [
       "<pre>| 2m 19s                              | 94.5             | 143693          |</pre>"
      ],
      "text/plain": [
       "| 2m 19s                              | 94.5             | 143693          |"
      ]
     },
     "metadata": {},
     "output_type": "display_data"
    },
    {
     "data": {
      "text/html": [
       "<pre>| 2m 20s                              | 95               | 144326          |</pre>"
      ],
      "text/plain": [
       "| 2m 20s                              | 95               | 144326          |"
      ]
     },
     "metadata": {},
     "output_type": "display_data"
    },
    {
     "data": {
      "text/html": [
       "<pre>| 2m 21s                              | 95.25            | 144609          |</pre>"
      ],
      "text/plain": [
       "| 2m 21s                              | 95.25            | 144609          |"
      ]
     },
     "metadata": {},
     "output_type": "display_data"
    },
    {
     "data": {
      "text/html": [
       "<pre>| 2m 22s                              | 95.5             | 145089          |</pre>"
      ],
      "text/plain": [
       "| 2m 22s                              | 95.5             | 145089          |"
      ]
     },
     "metadata": {},
     "output_type": "display_data"
    },
    {
     "data": {
      "text/html": [
       "<pre>| 2m 23s                              | 95.75            | 145467          |</pre>"
      ],
      "text/plain": [
       "| 2m 23s                              | 95.75            | 145467          |"
      ]
     },
     "metadata": {},
     "output_type": "display_data"
    },
    {
     "data": {
      "text/html": [
       "<pre>| 2m 24s                              | 96               | 145995          |</pre>"
      ],
      "text/plain": [
       "| 2m 24s                              | 96               | 145995          |"
      ]
     },
     "metadata": {},
     "output_type": "display_data"
    },
    {
     "data": {
      "text/html": [
       "<pre>| 2m 25s                              | 96.5             | 146521          |</pre>"
      ],
      "text/plain": [
       "| 2m 25s                              | 96.5             | 146521          |"
      ]
     },
     "metadata": {},
     "output_type": "display_data"
    },
    {
     "data": {
      "text/html": [
       "<pre>| 2m 26s                              | 96.75            | 146950          |</pre>"
      ],
      "text/plain": [
       "| 2m 26s                              | 96.75            | 146950          |"
      ]
     },
     "metadata": {},
     "output_type": "display_data"
    },
    {
     "data": {
      "text/html": [
       "<pre>| 2m 27s                              | 96.75            | 147164          |</pre>"
      ],
      "text/plain": [
       "| 2m 27s                              | 96.75            | 147164          |"
      ]
     },
     "metadata": {},
     "output_type": "display_data"
    },
    {
     "data": {
      "text/html": [
       "<pre>| 2m 28s                              | 97               | 147478          |</pre>"
      ],
      "text/plain": [
       "| 2m 28s                              | 97               | 147478          |"
      ]
     },
     "metadata": {},
     "output_type": "display_data"
    },
    {
     "data": {
      "text/html": [
       "<pre>| 2m 29s                              | 97.5             | 147975          |</pre>"
      ],
      "text/plain": [
       "| 2m 29s                              | 97.5             | 147975          |"
      ]
     },
     "metadata": {},
     "output_type": "display_data"
    },
    {
     "data": {
      "text/html": [
       "<pre>| 2m 30s                              | 97.75            | 148454          |</pre>"
      ],
      "text/plain": [
       "| 2m 30s                              | 97.75            | 148454          |"
      ]
     },
     "metadata": {},
     "output_type": "display_data"
    },
    {
     "data": {
      "text/html": [
       "<pre>| 2m 31s                              | 98               | 148864          |</pre>"
      ],
      "text/plain": [
       "| 2m 31s                              | 98               | 148864          |"
      ]
     },
     "metadata": {},
     "output_type": "display_data"
    },
    {
     "data": {
      "text/html": [
       "<pre>| 2m 32s                              | 98.25            | 149154          |</pre>"
      ],
      "text/plain": [
       "| 2m 32s                              | 98.25            | 149154          |"
      ]
     },
     "metadata": {},
     "output_type": "display_data"
    },
    {
     "data": {
      "text/html": [
       "<pre>| 2m 33s                              | 98.5             | 149620          |</pre>"
      ],
      "text/plain": [
       "| 2m 33s                              | 98.5             | 149620          |"
      ]
     },
     "metadata": {},
     "output_type": "display_data"
    },
    {
     "data": {
      "text/html": [
       "<pre>| 2m 34s                              | 98.75            | 150063          |</pre>"
      ],
      "text/plain": [
       "| 2m 34s                              | 98.75            | 150063          |"
      ]
     },
     "metadata": {},
     "output_type": "display_data"
    },
    {
     "data": {
      "text/html": [
       "<pre>| 2m 35s                              | 99               | 150460          |</pre>"
      ],
      "text/plain": [
       "| 2m 35s                              | 99               | 150460          |"
      ]
     },
     "metadata": {},
     "output_type": "display_data"
    },
    {
     "data": {
      "text/html": [
       "<pre>| 2m 36s                              | 99.25            | 150830          |</pre>"
      ],
      "text/plain": [
       "| 2m 36s                              | 99.25            | 150830          |"
      ]
     },
     "metadata": {},
     "output_type": "display_data"
    },
    {
     "data": {
      "text/html": [
       "<pre>| 2m 37s                              | 99.5             | 151136          |</pre>"
      ],
      "text/plain": [
       "| 2m 37s                              | 99.5             | 151136          |"
      ]
     },
     "metadata": {},
     "output_type": "display_data"
    },
    {
     "data": {
      "text/html": [
       "<pre>| 3m 24s                              | 100              | 151720          |</pre>"
      ],
      "text/plain": [
       "| 3m 24s                              | 100              | 151720          |"
      ]
     },
     "metadata": {},
     "output_type": "display_data"
    },
    {
     "data": {
      "text/html": [
       "<pre>+-------------------------------------+------------------+-----------------+</pre>"
      ],
      "text/plain": [
       "+-------------------------------------+------------------+-----------------+"
      ]
     },
     "metadata": {},
     "output_type": "display_data"
    },
    {
     "data": {
      "text/html": [
       "<pre>Finalizing lookup tables.</pre>"
      ],
      "text/plain": [
       "Finalizing lookup tables."
      ]
     },
     "metadata": {},
     "output_type": "display_data"
    },
    {
     "data": {
      "text/html": [
       "<pre>Generating candidate set for working with new users.</pre>"
      ],
      "text/plain": [
       "Generating candidate set for working with new users."
      ]
     },
     "metadata": {},
     "output_type": "display_data"
    },
    {
     "data": {
      "text/html": [
       "<pre>Finished training in 215.001s</pre>"
      ],
      "text/plain": [
       "Finished training in 215.001s"
      ]
     },
     "metadata": {},
     "output_type": "display_data"
    }
   ],
   "source": [
    "# training the model\n",
    "model = gl.recommender.item_similarity_recommender.create(kn_listen, \n",
    "                                                          only_top_k = k,\n",
    "                                                          similarity_type = sim_metric, \n",
    "                                                          user_id = \"user_id\", \n",
    "                                                          item_id = \"media_id\", \n",
    "                                                          target  = \"is_listened\")"
   ]
  },
  {
   "cell_type": "code",
   "execution_count": null,
   "metadata": {
    "collapsed": false,
    "scrolled": true
   },
   "outputs": [],
   "source": [
    "# forecasting\n",
    "pred = pd.DataFrame()\n",
    "pred[\"sample_id\"] = un.sample_id.astype(int)\n",
    "pred[\"is_listened\"] = model.predict(un_listen)\n",
    "pred = pred.sort_values(\"sample_id\")\n",
    "pred.head(3)"
   ]
  },
  {
   "cell_type": "code",
   "execution_count": null,
   "metadata": {
    "collapsed": true,
    "scrolled": true
   },
   "outputs": [],
   "source": [
    "# saving prediction vector\n",
    "pred.to_csv(path + \"pred_unknown/similarity_scores_flow_pearson_10000k.csv\", index = False)"
   ]
  }
 ],
 "metadata": {
  "anaconda-cloud": {},
  "kernelspec": {
   "display_name": "Python 2",
   "language": "python",
   "name": "python2"
  },
  "language_info": {
   "codemirror_mode": {
    "name": "ipython",
    "version": 2
   },
   "file_extension": ".py",
   "mimetype": "text/x-python",
   "name": "python",
   "nbconvert_exporter": "python",
   "pygments_lexer": "ipython2",
   "version": "2.7.11"
  }
 },
 "nbformat": 4,
 "nbformat_minor": 1
}
